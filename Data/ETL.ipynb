{
 "cells": [
  {
   "cell_type": "code",
   "execution_count": 52,
   "metadata": {},
   "outputs": [],
   "source": [
    "import requests\n",
    "import pandas as pd\n",
    "import tushare as ts\n",
    "import numpy as np\n",
    "import tqdm\n",
    "import datetime\n",
    "import os\n",
    "import time\n",
    "import matplotlib.pyplot as plt\n",
    "\n",
    "# 基础设置\n",
    "'''\n",
    "token: tushare通行证\n",
    "DATE_FORMAT: 日期格式，用于存储文件和参数，默认为 '20200101'\n",
    "LOWEST_MV: 市值\n",
    "APPLY_MV: 只更新MV阈值以上的数据和计算指标\n",
    "'''\n",
    "token = 'f7a7b0cb0970b6a16628becdc57b070af9583c28ee7b05f858e92b9d'\n",
    "DATE_FORMAT = \"%Y%m%d\"\n",
    "LOWEST_MV = 5e5\n",
    "APPLY_MV = True\n",
    "\n",
    "\n",
    "ts.set_token(token)\n",
    "\n",
    "global pro\n",
    "pro = ts.pro_api()"
   ]
  },
  {
   "cell_type": "markdown",
   "metadata": {},
   "source": [
    "## 下载"
   ]
  },
  {
   "cell_type": "code",
   "execution_count": 53,
   "metadata": {},
   "outputs": [],
   "source": [
    "def update_hist(stock_code):\n",
    "    \n",
    "    start = time.time()\n",
    "    start_date = '20000101'\n",
    "    \n",
    "    sub_folder = 'local_hist/' + stock_code.replace('.', '')\n",
    "    if not os.path.exists(sub_folder):\n",
    "        os.mkdir(sub_folder)\n",
    "        \n",
    "    \n",
    "    end_date = datetime.datetime.now().strftime(DATE_FORMAT)\n",
    "    \n",
    "    \n",
    "    # 没有就重新下载\n",
    "    if not os.path.exists(sub_folder + '/' + 'ma.csv'):\n",
    "        # ma\n",
    "        # df = ts.pro_bar(ts_code = stock_code, start_date = start_date, end_date = end_date, adj='qfq', ma = ma_lst)\n",
    "        df = ts.pro_bar(ts_code = stock_code, start_date = start_date, end_date = end_date, adj='qfq')\n",
    "        df.to_csv(sub_folder + '/' + 'ma.csv')\n",
    "        print(stock_code + ' ma downloaded.')\n",
    "        \n",
    "    # 有的话先找当前日期\n",
    "    else:\n",
    "        last_date = str(max(pd.read_csv(sub_folder + '/' + 'ma.csv').trade_date))\n",
    "        \n",
    "        if last_date != end_date:\n",
    "            next_date = (datetime.datetime.strptime(str(last_date), DATE_FORMAT) + \\\n",
    "                         datetime.timedelta(days = 1)).strftime(DATE_FORMAT)\n",
    "            new_df = ts.pro_bar(ts_code = stock_code, start_date = next_date, end_date = end_date, adj='qfq')\n",
    "\n",
    "            old_df = pd.read_csv(sub_folder + '/' + 'ma.csv')\n",
    "            old_df = old_df[[i for i in old_df.columns if 'Unnamed' not in i]]\n",
    "\n",
    "            new_df = pd.concat([new_df, old_df], axis = 0)\n",
    "            new_df.to_csv(sub_folder + '/' + 'ma.csv', index = False)\n",
    "\n",
    "            print(stock_code + ' updated from ' + last_date + ' to ' + end_date)\n",
    "        else:\n",
    "            print(stock_code + ' is already updated to ' + end_date)\n",
    "        \n",
    "    end = time.time()\n",
    "    print(\"Time cost : \" + str(end - start) + 's')"
   ]
  },
  {
   "cell_type": "markdown",
   "metadata": {},
   "source": [
    "## 计算指标"
   ]
  },
  {
   "cell_type": "code",
   "execution_count": 54,
   "metadata": {},
   "outputs": [],
   "source": [
    "### 均线ma\n",
    "'''\n",
    "计算方法：\n",
    "截取前N个交易日的收盘价计算平均值\n",
    "'''\n",
    "def calculate_ma(data, ma_lst = [5, 20, 35, 200]):\n",
    "\n",
    "    result = data.copy()\n",
    "    close_price = list(result['close'])\n",
    "    num_days = len(close_price)\n",
    "    \n",
    "    for ma in ma_lst:\n",
    "        # 初始化为nan\n",
    "        temp_ma = np.ones(num_days)\n",
    "        temp_ma.fill(np.nan)\n",
    "        \n",
    "        for i in range(num_days - ma):\n",
    "            temp_ma[i] = np.mean(close_price[i:i+ma])\n",
    "        \n",
    "        result['ma_' + str(ma)] = temp_ma\n",
    "    \n",
    "    \n",
    "    return result[['ma_' + str(ma) for ma in ma_lst]]"
   ]
  },
  {
   "cell_type": "code",
   "execution_count": 55,
   "metadata": {},
   "outputs": [],
   "source": [
    "### 指数均线ema\n",
    "'''\n",
    "计算方法：\n",
    "截取前N个交易日的收盘价计算指数平均值\n",
    "'''\n",
    "def calculate_ema(data, N):\n",
    "\n",
    "    result = data.copy()\n",
    "    close_price = list(result['close'])\n",
    "    num_days = len(close_price)\n",
    "    # N通常为 12 或者 26\n",
    "    alpha = 2/(N + 1)\n",
    "    # 至少有一天数据\n",
    "    assert num_days > 0\n",
    "    \n",
    "    # 假设初始值ema1为第一日收盘价\n",
    "    temp_ema = np.ones(num_days)\n",
    "    temp_ema[-1] = close_price[-1]\n",
    "    \n",
    "    # 从后往前计算，舍去num_days-1的第一天价格\n",
    "    for i in range(num_days - 2, -1, -1):\n",
    "        temp_ema[i] = alpha*close_price[i] + (1 - alpha)*temp_ema[i + 1]\n",
    "        \n",
    "    result['ema' + str(N)] = temp_ema\n",
    "    \n",
    "    return result[['ema' + str(N)]]"
   ]
  },
  {
   "cell_type": "code",
   "execution_count": 56,
   "metadata": {},
   "outputs": [],
   "source": [
    "'''\n",
    "计算ema辅助函数\n",
    "计算\n",
    "'''\n",
    "def ema_helper(data, alpha):\n",
    "\n",
    "    num_days = len(data)\n",
    "    assert num_days > 0\n",
    "    \n",
    "    # 假设初始值ema1为第一日收盘价\n",
    "    temp_ema = np.ones(num_days)\n",
    "    temp_ema[-1] = data[-1]\n",
    "    \n",
    "    # 从后往前计算，舍去num_days-1的第一天价格\n",
    "    for i in range(num_days - 2, -1, -1):\n",
    "        temp_ema[i] = alpha * data[i] + (1 - alpha) * temp_ema[i + 1]\n",
    "        \n",
    "    return temp_ema[0]"
   ]
  },
  {
   "cell_type": "code",
   "execution_count": 57,
   "metadata": {},
   "outputs": [],
   "source": [
    "### 布林线 Boll\n",
    "'''\n",
    "计算方法：\n",
    "中轨线 = 20日的移动平均线（SMA)\n",
    "上轨线 = 20日的SMA +（20日的标准差 x 2）\n",
    "下轨线 = 20日的SMA -（20日的标准差 x 2）\n",
    "'''\n",
    "def calculate_boll(data, length = 20):\n",
    "    \n",
    "    result = data.copy()\n",
    "    close_price = list(result['close'])\n",
    "    num_days = len(close_price)\n",
    "    # 中轨线\n",
    "    temp_mid = np.ones(num_days)\n",
    "    temp_mid.fill(np.nan)\n",
    "    # 上轨线\n",
    "    temp_upper = np.ones(num_days)\n",
    "    temp_upper.fill(np.nan)\n",
    "    # 下轨线\n",
    "    temp_lower = np.ones(num_days)\n",
    "    temp_lower.fill(np.nan)\n",
    "    \n",
    "    for i in range(num_days - length):\n",
    "        days_std = np.std(close_price[i:i+length])\n",
    "        # 20日的移动平均线（SMA)\n",
    "        temp_mid[i] = np.mean(close_price[i:i+length])\n",
    "        # 20日的SMA +（20日的标准差 x 2）\n",
    "        temp_upper[i] = temp_mid[i] + days_std * 2\n",
    "        # 20日的SMA -（20日的标准差 x 2）\n",
    "        temp_lower[i] = temp_mid[i] - days_std * 2\n",
    "    \n",
    "    \n",
    "    result['boll_mid'] = temp_mid\n",
    "    result['boll_upper'] = temp_upper\n",
    "    result['boll_lower'] = temp_lower\n",
    "    \n",
    "    return result[['boll_mid', 'boll_upper', 'boll_lower']]"
   ]
  },
  {
   "cell_type": "code",
   "execution_count": 58,
   "metadata": {},
   "outputs": [],
   "source": [
    "### KDJ\n",
    "'''\n",
    "计算方法：\n",
    "1. n日RSV＝（Cn-Ln）÷（Hn-Ln）×100 （公式中，Cn为第n日收盘价；Ln为n日内的最低价；Hn为n日内的最高价）\n",
    "2. 当日K值＝2÷3×前一日K值＋1÷3×当日RSV （若无前一日K值，用50代替）\n",
    "3. 当日D值＝2÷3×前一日D值＋1÷3×当日K值 （若无前一日D值，用50代替）\n",
    "4. J值＝3×当日D值-2×当日K值\n",
    "'''\n",
    "def calculate_KDJ(data, N = 9):\n",
    "    \n",
    "    # 移动平均对于当前数值的权重 current_factor\n",
    "    current_factor = 1/3\n",
    "    previous_factor = 1 - current_factor\n",
    "    \n",
    "    result = data.copy()\n",
    "    close_price = list(result['close'])\n",
    "    high_price = list(result['high'])\n",
    "    low_price = list(result['low'])\n",
    "    \n",
    "    num_days = len(close_price)\n",
    "    # 未成熟随机值 raw stochastic value\n",
    "    RSV = np.ones(num_days)\n",
    "    RSV.fill(50)\n",
    "    # K线\n",
    "    K = np.ones(num_days)\n",
    "    K.fill(50)\n",
    "    # D线\n",
    "    D = np.ones(num_days)\n",
    "    D.fill(50)\n",
    "    # J线\n",
    "    J = np.ones(num_days)\n",
    "    J.fill(50)\n",
    "    \n",
    "    for i in range(num_days - 2, -1, -1):\n",
    "        \n",
    "        Cn = close_price[i]\n",
    "        Ln = min(low_price[i:i+N])\n",
    "        Hn = max(high_price[i:i+N])\n",
    "        \n",
    "        current_RSV = 100*((Cn - Ln)/(Hn - Ln))\n",
    "        previous_RSV = RSV[i + 1]\n",
    "        previous_K = K[i + 1]\n",
    "        previous_D = D[i + 1]\n",
    "        \n",
    "        current_K = previous_factor * previous_K + current_factor * current_RSV\n",
    "        current_D = previous_factor * previous_D + current_factor * current_K\n",
    "        # 百度百科有误，此处修正为J=3K-2D，与各软件统一\n",
    "        current_J = 3 * current_K - 2 * current_D\n",
    "        \n",
    "        RSV[i] = current_RSV\n",
    "        K[i] = current_K\n",
    "        D[i] = current_D\n",
    "        J[i] = current_J\n",
    "    \n",
    "    result['RSV'] = RSV\n",
    "    result['K'] = K\n",
    "    result['D'] = D\n",
    "    result['J'] = J\n",
    "    \n",
    "    return result[['RSV', 'K', 'D', 'J']]"
   ]
  },
  {
   "cell_type": "code",
   "execution_count": 59,
   "metadata": {},
   "outputs": [],
   "source": [
    "### RSI\n",
    "'''\n",
    "计算方法：\n",
    "1. 对于某一个时间段N，每天计算上涨U和下跌D：\n",
    "上涨日 ： U = 价差， D = 0\n",
    "下跌日 ： U = 0， D = 价差\n",
    "2. RS = SMMA(U, N) / SMMA(D, N)\n",
    "3. RSI = 100/(1 + RS)\n",
    "'''\n",
    "def calculate_RSI(data, N = 12):\n",
    "    \n",
    "    # SMMA指数移动平均对于当前数值的权重 current_factor\n",
    "    # https://en.wikipedia.org/wiki/Relative_strength_index\n",
    "    current_factor = 1 / N\n",
    "    previous_factor = 1 - current_factor\n",
    "    \n",
    "    result = data.copy()\n",
    "    close_price = list(result['close'])\n",
    "    num_days = len(close_price)\n",
    "    \n",
    "    U = np.zeros(num_days)\n",
    "    D = np.zeros(num_days)\n",
    "    U_ema = np.zeros(num_days)\n",
    "    D_ema = np.zeros(num_days)\n",
    "    RS = np.zeros(num_days)\n",
    "    RSI = np.zeros(num_days)\n",
    "    \n",
    "    for i in range(num_days - 2, -1, -1):\n",
    "        U[i] = max(close_price[i] - close_price[i + 1], 0)\n",
    "        D[i] = max(close_price[i + 1] - close_price[i], 0)\n",
    "        U_ema[i] = previous_factor * U_ema[i + 1] + current_factor * U[i]\n",
    "        D_ema[i] = previous_factor * D_ema[i + 1] + current_factor * D[i]\n",
    "        # SMMA(D, n)为0时 RS为100，即一直上涨从未下跌\n",
    "        if D_ema[i] == 0:\n",
    "            RS[i] = 100\n",
    "        else:\n",
    "            RS[i] = U_ema[i] / D_ema[i]\n",
    "            \n",
    "        RSI[i] = 100/(1 + RS[i])\n",
    "        \n",
    "    result['RSI_U'] = U\n",
    "    result['RSI_D'] = D\n",
    "    result['RSI_U_ema'] = U_ema\n",
    "    result['RSI_D_ema'] = D_ema\n",
    "    result['RS'] = RS\n",
    "    result['RSI'] = RSI\n",
    "    \n",
    "    return result[['RSI']]"
   ]
  },
  {
   "cell_type": "code",
   "execution_count": 60,
   "metadata": {},
   "outputs": [],
   "source": [
    "### MACD\n",
    "'''\n",
    "计算方法：\n",
    "EMA（12）= 前一日EMA（12）×11/13＋今日收盘价×2/13\n",
    "EMA（26）= 前一日EMA（26）×25/27＋今日收盘价×2/27\n",
    "DIFF=今日EMA（12）- 今日EMA（26）\n",
    "DEA= 前一日DEA×8/10＋今日DIF×2/10\n",
    "BAR (MACD) = 2 × (DIFF－DEA)\n",
    "=============================\n",
    "新股上市首日，其DIFF,DEA以及MACD都为0\n",
    "'''\n",
    "def calculate_MACD(data, fast_N = 12, slow_N = 26, N = 9):\n",
    "    \n",
    "    # https://zhuanlan.zhihu.com/p/41166949\n",
    "    current_fast_factor = 2 / (1 + fast_N)\n",
    "    previous_fast_factor = 1 - current_fast_factor\n",
    "    \n",
    "    current_slow_factor = 2 / (1 + slow_N)\n",
    "    previous_slow_factor = 1 - current_slow_factor\n",
    "    \n",
    "    current_DEA_factor = 2 /(1 + N)\n",
    "    previous_DEA_factor = 1 - current_DEA_factor\n",
    "    \n",
    "    result = data.copy()\n",
    "    close_price = list(result['close'])\n",
    "    num_days = len(close_price)\n",
    "    \n",
    "    ema_fast = np.zeros(num_days)\n",
    "    ema_slow = np.zeros(num_days)\n",
    "    ema_diff = np.zeros(num_days)\n",
    "    DEA = np.zeros(num_days)\n",
    "    MACD = np.zeros(num_days)\n",
    "    #初始化\n",
    "    ema_fast[-1] = close_price[-1]\n",
    "    ema_slow[-1] = close_price[-1]\n",
    "    \n",
    "    for i in range(num_days - 2, -1, -1):\n",
    "        ema_fast[i] = current_fast_factor * close_price[i] + previous_fast_factor * ema_fast[i + 1] \n",
    "        ema_slow[i] = current_slow_factor * close_price[i] + previous_slow_factor * ema_slow[i + 1]\n",
    "        ema_diff[i] = ema_fast[i] - ema_slow[i]\n",
    "        DEA[i] = current_DEA_factor * ema_diff[i] + previous_DEA_factor * DEA[i + 1] \n",
    "        MACD[i] = 2 * (ema_diff[i] - DEA[i])\n",
    "        \n",
    "    result['MACD_fast_ema'] = ema_fast\n",
    "    result['MACD_slow_ema'] = ema_slow\n",
    "    result['MACD_diff_ema'] = ema_diff\n",
    "    result['MACD_DEA'] = DEA\n",
    "    result['MACD'] = MACD\n",
    "    \n",
    "    return result[['MACD_fast_ema', 'MACD_slow_ema', 'MACD', 'MACD_diff_ema', 'MACD_DEA']]"
   ]
  },
  {
   "cell_type": "code",
   "execution_count": 61,
   "metadata": {},
   "outputs": [],
   "source": [
    "def build_stats(stock_code_list, ma_lst = [5, 10, 20, 30, 35, 45, 60, 90, 120, 130, 200, 250]):\n",
    "    \n",
    "    start = time.time()\n",
    "    for stock_code in tqdm.tqdm(stock_code_list):\n",
    "        \n",
    "        sub_folder = 'local_hist/' + stock_code.replace('.', '')\n",
    "        \n",
    "        if not os.path.exists(sub_folder + '/' + 'ma.csv'):\n",
    "            continue\n",
    "        \n",
    "        # 如果有数据未下载，则跳过\n",
    "        ori_data = pd.read_csv(sub_folder + '/' + 'ma.csv')\n",
    "        ori_data = ori_data[~pd.isnull(ori_data.close)]\n",
    "        stats_ma = calculate_ma(ori_data, ma_lst = ma_lst)\n",
    "        stats_boll = calculate_boll(ori_data, length = 20)\n",
    "        stats_KDJ = calculate_KDJ(ori_data, N = 20)\n",
    "        stats_RSI = calculate_RSI(ori_data, N = 12)\n",
    "        stats_MACD = calculate_MACD(ori_data, fast_N = 12, slow_N = 26)\n",
    "        \n",
    "        stats_combined = pd.concat([ori_data, stats_ma, stats_boll, stats_KDJ, stats_RSI, stats_MACD], axis = 1)\n",
    "        stats_combined.to_csv(sub_folder + '/' + 'stats.csv')\n",
    "    \n",
    "    end = time.time()\n",
    "    print(\"=\"*60)\n",
    "    print(\"Eplased Time for Calculating Stats: \" + str(end - start) + 's')\n",
    "    print(\"=\"*60)"
   ]
  },
  {
   "cell_type": "markdown",
   "metadata": {},
   "source": [
    "# 下载所有股票市值数据以及历史数据"
   ]
  },
  {
   "cell_type": "code",
   "execution_count": 62,
   "metadata": {},
   "outputs": [],
   "source": [
    "def download_update(stock_code_list):\n",
    "\n",
    "    start = time.time()\n",
    "    # 更新所有股票数据\n",
    "    for stock_code in tqdm.tqdm(stock_code_list):\n",
    "        update_hist(stock_code)\n",
    "    \n",
    "    end = time.time()\n",
    "    print(\"=\"*60)\n",
    "    print(\"Total Time Cost for Downloading : \" + str(end - start) + 's')\n",
    "    print(\"=\"*60)"
   ]
  },
  {
   "cell_type": "code",
   "execution_count": 63,
   "metadata": {},
   "outputs": [],
   "source": [
    "def main():\n",
    "    # 先更新数据\n",
    "    try:\n",
    "        all_stock_total_mv = pro.query('daily_basic', ts_code='', trade_date = current_date, \n",
    "                                fields='ts_code,trade_date,turnover_rate,volume_ratio,pe,pb,total_mv')\n",
    "        all_stock = pro.stock_basic(exchange='', list_status='L', fields='ts_code,symbol,name,area,industry,list_date')\n",
    "        all_stock_total_mv.to_csv('all_stock_total_mv.csv')\n",
    "        print(\"update market value from tushare\")\n",
    "    except:\n",
    "        all_stock_total_mv = pd.read_csv('all_stock_total_mv.csv')\n",
    "        all_stock = pd.read_csv(\"all_stock.csv\")\n",
    "        print(\"load market value from local\")\n",
    "    \n",
    "    if not os.path.exists('local_hist'):\n",
    "        os.makedirs('local_hist')\n",
    "    \n",
    "\n",
    "    if APPLY_MV:\n",
    "        # 需要更新的股票数据，设置市值阈值\n",
    "        concerned_stocks = list(all_stock_total_mv[all_stock_total_mv.total_mv >= LOWEST_MV].ts_code)\n",
    "        concerned_stocks_df = all_stock[all_stock.ts_code.isin(concerned_stocks)]\n",
    "        concerned_stocks_pairs = [tuple((code, name, industry)) for code, name, industry in \\\n",
    "                                  zip(concerned_stocks_df.ts_code, concerned_stocks_df.name, concerned_stocks_df.industry)]\n",
    "        # 执行\n",
    "        download_update(concerned_stocks)\n",
    "        build_stats(concerned_stocks)\n",
    "    else:\n",
    "        download_update(all_stock.ts_code)\n",
    "        build_stats(all_stock.ts_code)"
   ]
  },
  {
   "cell_type": "code",
   "execution_count": 64,
   "metadata": {
    "scrolled": true
   },
   "outputs": [
    {
     "name": "stdout",
     "output_type": "stream",
     "text": [
      "load market value from local\n"
     ]
    },
    {
     "name": "stderr",
     "output_type": "stream",
     "text": [
      "\n",
      "  0%|          | 0/2129 [00:00<?, ?it/s]"
     ]
    },
    {
     "name": "stdout",
     "output_type": "stream",
     "text": [
      "002135.SZ updated from 20210114 to 20210115\n",
      "Time cost : 26.47813892364502s\n"
     ]
    },
    {
     "name": "stderr",
     "output_type": "stream",
     "text": [
      "\n",
      "  0%|          | 1/2129 [00:26<15:39:07, 26.48s/it]"
     ]
    },
    {
     "name": "stdout",
     "output_type": "stream",
     "text": [
      "603806.SH updated from 20210114 to 20210115\n",
      "Time cost : 7.15948224067688s\n"
     ]
    },
    {
     "name": "stderr",
     "output_type": "stream",
     "text": [
      "\n",
      "  0%|          | 2/2129 [00:33<12:13:14, 20.68s/it]"
     ]
    },
    {
     "name": "stdout",
     "output_type": "stream",
     "text": [
      "603883.SH updated from 20210114 to 20210115\n",
      "Time cost : 3.538679599761963s\n"
     ]
    },
    {
     "name": "stderr",
     "output_type": "stream",
     "text": [
      "\n",
      "  0%|          | 3/2129 [00:37<9:10:39, 15.54s/it] "
     ]
    },
    {
     "name": "stdout",
     "output_type": "stream",
     "text": [
      "688086.SH updated from 20210114 to 20210115\n",
      "Time cost : 1.1376113891601562s\n"
     ]
    },
    {
     "name": "stderr",
     "output_type": "stream",
     "text": [
      "\n",
      "  0%|          | 4/2129 [00:38<6:37:24, 11.22s/it]"
     ]
    },
    {
     "name": "stdout",
     "output_type": "stream",
     "text": [
      "600057.SH updated from 20210114 to 20210115\n",
      "Time cost : 3.934854745864868s\n"
     ]
    },
    {
     "name": "stderr",
     "output_type": "stream",
     "text": [
      "\n",
      "  0%|          | 5/2129 [00:42<5:19:51,  9.04s/it]"
     ]
    },
    {
     "name": "stdout",
     "output_type": "stream",
     "text": [
      "601018.SH updated from 20210114 to 20210115\n",
      "Time cost : 7.963639974594116s\n"
     ]
    },
    {
     "name": "stderr",
     "output_type": "stream",
     "text": [
      "\n",
      "  0%|          | 6/2129 [00:50<5:08:20,  8.71s/it]"
     ]
    },
    {
     "name": "stdout",
     "output_type": "stream",
     "text": [
      "000981.SZ updated from 20210114 to 20210115\n",
      "Time cost : 3.914296865463257s\n"
     ]
    },
    {
     "name": "stderr",
     "output_type": "stream",
     "text": [
      "\n",
      "  0%|          | 7/2129 [00:54<4:17:17,  7.28s/it]"
     ]
    },
    {
     "name": "stdout",
     "output_type": "stream",
     "text": [
      "000408.SZ updated from 20210114 to 20210115\n",
      "Time cost : 8.251548767089844s\n"
     ]
    },
    {
     "name": "stderr",
     "output_type": "stream",
     "text": [
      "\n",
      "  0%|          | 8/2129 [01:02<4:27:33,  7.57s/it]"
     ]
    },
    {
     "name": "stdout",
     "output_type": "stream",
     "text": [
      "000601.SZ updated from 20210114 to 20210115\n",
      "Time cost : 4.300968170166016s\n"
     ]
    },
    {
     "name": "stderr",
     "output_type": "stream",
     "text": [
      "\n",
      "  0%|          | 9/2129 [01:06<3:52:49,  6.59s/it]"
     ]
    },
    {
     "name": "stdout",
     "output_type": "stream",
     "text": [
      "605266.SH updated from 20210114 to 20210115\n",
      "Time cost : 3.8850908279418945s\n"
     ]
    },
    {
     "name": "stderr",
     "output_type": "stream",
     "text": [
      "\n",
      "  0%|          | 10/2129 [01:10<3:24:04,  5.78s/it]"
     ]
    },
    {
     "name": "stdout",
     "output_type": "stream",
     "text": [
      "002241.SZ updated from 20210114 to 20210115\n",
      "Time cost : 5.345134735107422s\n"
     ]
    },
    {
     "name": "stderr",
     "output_type": "stream",
     "text": [
      "\n",
      "  1%|          | 11/2129 [01:15<3:19:24,  5.65s/it]"
     ]
    },
    {
     "name": "stdout",
     "output_type": "stream",
     "text": [
      "000301.SZ updated from 20210114 to 20210115\n",
      "Time cost : 2.4414010047912598s\n"
     ]
    },
    {
     "name": "stderr",
     "output_type": "stream",
     "text": [
      "\n",
      "  1%|          | 12/2129 [01:18<2:45:22,  4.69s/it]"
     ]
    },
    {
     "name": "stdout",
     "output_type": "stream",
     "text": [
      "600655.SH updated from 20210114 to 20210115\n",
      "Time cost : 8.211106061935425s\n"
     ]
    },
    {
     "name": "stderr",
     "output_type": "stream",
     "text": [
      "\n",
      "  1%|          | 13/2129 [01:26<3:22:36,  5.74s/it]"
     ]
    },
    {
     "name": "stdout",
     "output_type": "stream",
     "text": [
      "601006.SH updated from 20210114 to 20210115\n",
      "Time cost : 1.7082719802856445s\n"
     ]
    },
    {
     "name": "stderr",
     "output_type": "stream",
     "text": [
      "\n",
      "  1%|          | 14/2129 [01:28<2:39:51,  4.53s/it]"
     ]
    },
    {
     "name": "stdout",
     "output_type": "stream",
     "text": [
      "601258.SH updated from 20210114 to 20210115\n",
      "Time cost : 1.0912048816680908s\n"
     ]
    },
    {
     "name": "stderr",
     "output_type": "stream",
     "text": [
      "\n",
      "  1%|          | 15/2129 [01:29<2:03:24,  3.50s/it]"
     ]
    },
    {
     "name": "stdout",
     "output_type": "stream",
     "text": [
      "600284.SH updated from 20210114 to 20210115\n",
      "Time cost : 5.737022638320923s\n"
     ]
    },
    {
     "name": "stderr",
     "output_type": "stream",
     "text": [
      "\n",
      "  1%|          | 16/2129 [01:35<2:26:59,  4.17s/it]"
     ]
    },
    {
     "name": "stdout",
     "output_type": "stream",
     "text": [
      "601200.SH updated from 20210114 to 20210115\n",
      "Time cost : 5.242821455001831s\n"
     ]
    },
    {
     "name": "stderr",
     "output_type": "stream",
     "text": [
      "\n",
      "  1%|          | 17/2129 [01:40<2:38:13,  4.50s/it]"
     ]
    },
    {
     "name": "stdout",
     "output_type": "stream",
     "text": [
      "000538.SZ updated from 20210114 to 20210115\n",
      "Time cost : 10.129956245422363s\n"
     ]
    },
    {
     "name": "stderr",
     "output_type": "stream",
     "text": [
      "\n",
      "  1%|          | 18/2129 [01:50<3:37:39,  6.19s/it]"
     ]
    },
    {
     "name": "stdout",
     "output_type": "stream",
     "text": [
      "002335.SZ updated from 20210114 to 20210115\n",
      "Time cost : 3.9262888431549072s\n"
     ]
    },
    {
     "name": "stderr",
     "output_type": "stream",
     "text": [
      "\n",
      "  1%|          | 19/2129 [01:54<3:13:44,  5.51s/it]"
     ]
    },
    {
     "name": "stdout",
     "output_type": "stream",
     "text": [
      "002426.SZ updated from 20210114 to 20210115\n",
      "Time cost : 3.9150850772857666s\n"
     ]
    },
    {
     "name": "stderr",
     "output_type": "stream",
     "text": [
      "\n",
      "  1%|          | 20/2129 [01:58<2:56:51,  5.03s/it]"
     ]
    },
    {
     "name": "stdout",
     "output_type": "stream",
     "text": [
      "603919.SH updated from 20210114 to 20210115\n",
      "Time cost : 6.866054534912109s\n"
     ]
    },
    {
     "name": "stderr",
     "output_type": "stream",
     "text": [
      "\n",
      "  1%|          | 21/2129 [02:05<3:16:08,  5.58s/it]"
     ]
    },
    {
     "name": "stdout",
     "output_type": "stream",
     "text": [
      "603755.SH updated from 20210114 to 20210115\n",
      "Time cost : 5.652596950531006s\n"
     ]
    },
    {
     "name": "stderr",
     "output_type": "stream",
     "text": [
      "\n",
      "  1%|          | 22/2129 [02:10<3:16:48,  5.60s/it]"
     ]
    },
    {
     "name": "stdout",
     "output_type": "stream",
     "text": [
      "000776.SZ updated from 20210114 to 20210115\n",
      "Time cost : 21.375618934631348s\n"
     ]
    },
    {
     "name": "stderr",
     "output_type": "stream",
     "text": [
      "\n",
      "  1%|          | 23/2129 [02:32<6:02:49, 10.34s/it]"
     ]
    },
    {
     "name": "stdout",
     "output_type": "stream",
     "text": [
      "600011.SH updated from 20210114 to 20210115\n",
      "Time cost : 3.559912919998169s\n"
     ]
    },
    {
     "name": "stderr",
     "output_type": "stream",
     "text": [
      "\n",
      "  1%|          | 24/2129 [02:35<4:51:20,  8.30s/it]"
     ]
    },
    {
     "name": "stdout",
     "output_type": "stream",
     "text": [
      "000997.SZ updated from 20210114 to 20210115\n",
      "Time cost : 1.7526376247406006s\n"
     ]
    },
    {
     "name": "stderr",
     "output_type": "stream",
     "text": [
      "\n",
      "  1%|          | 25/2129 [02:37<3:42:18,  6.34s/it]"
     ]
    },
    {
     "name": "stdout",
     "output_type": "stream",
     "text": [
      "600317.SH updated from 20210114 to 20210115\n",
      "Time cost : 2.8230223655700684s\n"
     ]
    },
    {
     "name": "stderr",
     "output_type": "stream",
     "text": [
      "\n",
      "  1%|          | 26/2129 [02:40<3:05:14,  5.29s/it]"
     ]
    },
    {
     "name": "stdout",
     "output_type": "stream",
     "text": [
      "002440.SZ updated from 20210114 to 20210115\n",
      "Time cost : 2.7460429668426514s\n"
     ]
    },
    {
     "name": "stderr",
     "output_type": "stream",
     "text": [
      "\n",
      "  1%|▏         | 27/2129 [02:43<2:38:29,  4.52s/it]"
     ]
    },
    {
     "name": "stdout",
     "output_type": "stream",
     "text": [
      "600971.SH updated from 20210114 to 20210115\n",
      "Time cost : 4.210817813873291s\n"
     ]
    },
    {
     "name": "stderr",
     "output_type": "stream",
     "text": [
      "\n",
      "  1%|▏         | 28/2129 [02:47<2:35:08,  4.43s/it]"
     ]
    },
    {
     "name": "stdout",
     "output_type": "stream",
     "text": [
      "002022.SZ updated from 20210114 to 20210115\n",
      "Time cost : 8.92836308479309s\n"
     ]
    },
    {
     "name": "stderr",
     "output_type": "stream",
     "text": [
      "\n",
      "  1%|▏         | 29/2129 [02:56<3:22:19,  5.78s/it]"
     ]
    },
    {
     "name": "stdout",
     "output_type": "stream",
     "text": [
      "300236.SZ updated from 20210114 to 20210115\n",
      "Time cost : 3.737818479537964s\n"
     ]
    },
    {
     "name": "stderr",
     "output_type": "stream",
     "text": [
      "\n",
      "  1%|▏         | 30/2129 [03:00<3:00:48,  5.17s/it]"
     ]
    },
    {
     "name": "stdout",
     "output_type": "stream",
     "text": [
      "603588.SH updated from 20210114 to 20210115\n",
      "Time cost : 7.614902019500732s\n"
     ]
    },
    {
     "name": "stderr",
     "output_type": "stream",
     "text": [
      "\n",
      "  1%|▏         | 31/2129 [03:07<3:26:25,  5.90s/it]"
     ]
    },
    {
     "name": "stdout",
     "output_type": "stream",
     "text": [
      "688050.SH updated from 20210114 to 20210115\n",
      "Time cost : 6.754878997802734s\n"
     ]
    },
    {
     "name": "stderr",
     "output_type": "stream",
     "text": [
      "\n",
      "  2%|▏         | 32/2129 [03:14<3:35:16,  6.16s/it]"
     ]
    },
    {
     "name": "stdout",
     "output_type": "stream",
     "text": [
      "300408.SZ updated from 20210114 to 20210115\n",
      "Time cost : 2.4434680938720703s\n"
     ]
    },
    {
     "name": "stderr",
     "output_type": "stream",
     "text": [
      "\n",
      "  2%|▏         | 33/2129 [03:16<2:56:14,  5.04s/it]"
     ]
    },
    {
     "name": "stdout",
     "output_type": "stream",
     "text": [
      "300009.SZ updated from 20210114 to 20210115\n",
      "Time cost : 2.1402792930603027s\n"
     ]
    },
    {
     "name": "stderr",
     "output_type": "stream",
     "text": [
      "\n",
      "  2%|▏         | 34/2129 [03:18<2:25:46,  4.17s/it]"
     ]
    },
    {
     "name": "stdout",
     "output_type": "stream",
     "text": [
      "600012.SH updated from 20210114 to 20210115\n",
      "Time cost : 2.9999887943267822s\n"
     ]
    },
    {
     "name": "stderr",
     "output_type": "stream",
     "text": [
      "\n",
      "  2%|▏         | 35/2129 [03:21<2:13:25,  3.82s/it]"
     ]
    },
    {
     "name": "stdout",
     "output_type": "stream",
     "text": [
      "002405.SZ updated from 20210114 to 20210115\n",
      "Time cost : 9.019435167312622s\n"
     ]
    },
    {
     "name": "stderr",
     "output_type": "stream",
     "text": [
      "\n",
      "  2%|▏         | 36/2129 [03:31<3:07:45,  5.38s/it]"
     ]
    },
    {
     "name": "stdout",
     "output_type": "stream",
     "text": [
      "002216.SZ updated from 20210114 to 20210115\n",
      "Time cost : 5.92378568649292s\n"
     ]
    },
    {
     "name": "stderr",
     "output_type": "stream",
     "text": [
      "\n",
      "  2%|▏         | 37/2129 [03:36<3:13:21,  5.55s/it]"
     ]
    },
    {
     "name": "stdout",
     "output_type": "stream",
     "text": [
      "300861.SZ updated from 20210114 to 20210115\n",
      "Time cost : 1.1570870876312256s\n"
     ]
    },
    {
     "name": "stderr",
     "output_type": "stream",
     "text": [
      "\n",
      "  2%|▏         | 38/2129 [03:38<2:27:24,  4.23s/it]"
     ]
    },
    {
     "name": "stdout",
     "output_type": "stream",
     "text": [
      "300368.SZ updated from 20210114 to 20210115\n",
      "Time cost : 2.909893751144409s\n"
     ]
    },
    {
     "name": "stderr",
     "output_type": "stream",
     "text": [
      "\n",
      "  2%|▏         | 39/2129 [03:41<2:13:34,  3.83s/it]"
     ]
    },
    {
     "name": "stdout",
     "output_type": "stream",
     "text": [
      "000553.SZ updated from 20210114 to 20210115\n",
      "Time cost : 2.144343614578247s\n"
     ]
    },
    {
     "name": "stderr",
     "output_type": "stream",
     "text": [
      "\n",
      "  2%|▏         | 40/2129 [03:43<1:55:53,  3.33s/it]"
     ]
    },
    {
     "name": "stdout",
     "output_type": "stream",
     "text": [
      "601600.SH updated from 20210114 to 20210115\n",
      "Time cost : 2.768627405166626s\n"
     ]
    },
    {
     "name": "stderr",
     "output_type": "stream",
     "text": [
      "\n",
      "  2%|▏         | 41/2129 [03:45<1:50:00,  3.16s/it]"
     ]
    },
    {
     "name": "stdout",
     "output_type": "stream",
     "text": [
      "000931.SZ updated from 20210114 to 20210115\n",
      "Time cost : 4.580298185348511s\n"
     ]
    },
    {
     "name": "stderr",
     "output_type": "stream",
     "text": [
      "\n",
      "  2%|▏         | 42/2129 [03:50<2:04:47,  3.59s/it]"
     ]
    },
    {
     "name": "stdout",
     "output_type": "stream",
     "text": [
      "603987.SH updated from 20210114 to 20210115\n",
      "Time cost : 2.450955867767334s\n"
     ]
    },
    {
     "name": "stderr",
     "output_type": "stream",
     "text": [
      "\n",
      "  2%|▏         | 43/2129 [03:52<1:52:54,  3.25s/it]"
     ]
    },
    {
     "name": "stdout",
     "output_type": "stream",
     "text": [
      "000762.SZ updated from 20210114 to 20210115\n",
      "Time cost : 2.7107112407684326s\n"
     ]
    },
    {
     "name": "stderr",
     "output_type": "stream",
     "text": [
      "\n",
      "  2%|▏         | 44/2129 [03:55<1:47:16,  3.09s/it]"
     ]
    },
    {
     "name": "stdout",
     "output_type": "stream",
     "text": [
      "002724.SZ updated from 20210114 to 20210115\n",
      "Time cost : 2.1793463230133057s\n"
     ]
    },
    {
     "name": "stderr",
     "output_type": "stream",
     "text": [
      "\n",
      "  2%|▏         | 45/2129 [03:57<1:37:47,  2.82s/it]"
     ]
    },
    {
     "name": "stdout",
     "output_type": "stream",
     "text": [
      "600598.SH updated from 20210114 to 20210115\n",
      "Time cost : 6.825793504714966s\n"
     ]
    },
    {
     "name": "stderr",
     "output_type": "stream",
     "text": [
      "\n",
      "  2%|▏         | 46/2129 [04:04<2:19:31,  4.02s/it]"
     ]
    },
    {
     "name": "stdout",
     "output_type": "stream",
     "text": [
      "600008.SH updated from 20210114 to 20210115\n",
      "Time cost : 1.7365491390228271s\n"
     ]
    },
    {
     "name": "stderr",
     "output_type": "stream",
     "text": [
      "\n",
      "  2%|▏         | 47/2129 [04:06<1:55:43,  3.33s/it]"
     ]
    },
    {
     "name": "stdout",
     "output_type": "stream",
     "text": [
      "002078.SZ updated from 20210114 to 20210115\n",
      "Time cost : 4.74062180519104s\n"
     ]
    },
    {
     "name": "stderr",
     "output_type": "stream",
     "text": [
      "\n",
      "  2%|▏         | 48/2129 [04:11<2:10:19,  3.76s/it]"
     ]
    },
    {
     "name": "stdout",
     "output_type": "stream",
     "text": [
      "601939.SH updated from 20210114 to 20210115\n",
      "Time cost : 3.0632917881011963s\n"
     ]
    },
    {
     "name": "stderr",
     "output_type": "stream",
     "text": [
      "\n",
      "  2%|▏         | 49/2129 [04:14<2:03:03,  3.55s/it]"
     ]
    },
    {
     "name": "stdout",
     "output_type": "stream",
     "text": [
      "688313.SH updated from 20210114 to 20210115\n",
      "Time cost : 3.160919189453125s\n"
     ]
    },
    {
     "name": "stderr",
     "output_type": "stream",
     "text": [
      "\n",
      "  2%|▏         | 50/2129 [04:17<1:58:58,  3.43s/it]"
     ]
    },
    {
     "name": "stdout",
     "output_type": "stream",
     "text": [
      "688336.SH updated from 20210114 to 20210115\n",
      "Time cost : 2.4782814979553223s\n"
     ]
    },
    {
     "name": "stderr",
     "output_type": "stream",
     "text": [
      "\n",
      "  2%|▏         | 51/2129 [04:19<1:49:00,  3.15s/it]"
     ]
    },
    {
     "name": "stdout",
     "output_type": "stream",
     "text": [
      "000002.SZ updated from 20210114 to 20210115\n",
      "Time cost : 3.510348320007324s\n"
     ]
    },
    {
     "name": "stderr",
     "output_type": "stream",
     "text": [
      "\n",
      "  2%|▏         | 52/2129 [04:23<1:52:45,  3.26s/it]"
     ]
    },
    {
     "name": "stdout",
     "output_type": "stream",
     "text": [
      "002407.SZ updated from 20210114 to 20210115\n",
      "Time cost : 3.04128098487854s\n"
     ]
    },
    {
     "name": "stderr",
     "output_type": "stream",
     "text": [
      "\n",
      "  2%|▏         | 53/2129 [04:26<1:50:29,  3.19s/it]"
     ]
    },
    {
     "name": "stdout",
     "output_type": "stream",
     "text": [
      "002468.SZ updated from 20210114 to 20210115\n",
      "Time cost : 4.889834403991699s\n"
     ]
    },
    {
     "name": "stderr",
     "output_type": "stream",
     "text": [
      "\n",
      "  3%|▎         | 54/2129 [04:31<2:08:03,  3.70s/it]"
     ]
    },
    {
     "name": "stdout",
     "output_type": "stream",
     "text": [
      "688169.SH updated from 20210114 to 20210115\n",
      "Time cost : 2.494067668914795s\n"
     ]
    },
    {
     "name": "stderr",
     "output_type": "stream",
     "text": [
      "\n",
      "  3%|▎         | 55/2129 [04:33<1:55:28,  3.34s/it]"
     ]
    },
    {
     "name": "stdout",
     "output_type": "stream",
     "text": [
      "601898.SH updated from 20210114 to 20210115\n",
      "Time cost : 3.453890562057495s\n"
     ]
    },
    {
     "name": "stderr",
     "output_type": "stream",
     "text": [
      "\n",
      "  3%|▎         | 56/2129 [04:37<1:56:37,  3.38s/it]"
     ]
    },
    {
     "name": "stdout",
     "output_type": "stream",
     "text": [
      "600502.SH updated from 20210114 to 20210115\n",
      "Time cost : 3.2776591777801514s\n"
     ]
    },
    {
     "name": "stderr",
     "output_type": "stream",
     "text": [
      "\n",
      "  3%|▎         | 57/2129 [04:40<1:55:33,  3.35s/it]"
     ]
    },
    {
     "name": "stdout",
     "output_type": "stream",
     "text": [
      "601010.SH updated from 20210114 to 20210115\n",
      "Time cost : 3.1518445014953613s\n"
     ]
    },
    {
     "name": "stderr",
     "output_type": "stream",
     "text": [
      "\n",
      "  3%|▎         | 58/2129 [04:43<1:53:30,  3.29s/it]"
     ]
    },
    {
     "name": "stdout",
     "output_type": "stream",
     "text": [
      "688019.SH updated from 20210114 to 20210115\n",
      "Time cost : 2.003147840499878s\n"
     ]
    },
    {
     "name": "stderr",
     "output_type": "stream",
     "text": [
      "\n",
      "  3%|▎         | 59/2129 [04:45<1:40:11,  2.90s/it]"
     ]
    },
    {
     "name": "stdout",
     "output_type": "stream",
     "text": [
      "300418.SZ updated from 20210114 to 20210115\n",
      "Time cost : 10.383071660995483s\n"
     ]
    },
    {
     "name": "stderr",
     "output_type": "stream",
     "text": [
      "\n",
      "  3%|▎         | 60/2129 [04:56<2:57:32,  5.15s/it]"
     ]
    },
    {
     "name": "stdout",
     "output_type": "stream",
     "text": [
      "002579.SZ updated from 20210114 to 20210115\n",
      "Time cost : 8.424885034561157s\n"
     ]
    },
    {
     "name": "stderr",
     "output_type": "stream",
     "text": [
      "\n",
      "  3%|▎         | 61/2129 [05:04<3:31:21,  6.13s/it]"
     ]
    },
    {
     "name": "stdout",
     "output_type": "stream",
     "text": [
      "002568.SZ updated from 20210114 to 20210115\n",
      "Time cost : 1.784315824508667s\n"
     ]
    },
    {
     "name": "stderr",
     "output_type": "stream",
     "text": [
      "\n",
      "  3%|▎         | 62/2129 [05:06<2:46:20,  4.83s/it]"
     ]
    },
    {
     "name": "stdout",
     "output_type": "stream",
     "text": [
      "601702.SH updated from 20210114 to 20210115\n",
      "Time cost : 9.37675929069519s\n"
     ]
    },
    {
     "name": "stderr",
     "output_type": "stream",
     "text": [
      "\n",
      "  3%|▎         | 63/2129 [05:15<3:33:15,  6.19s/it]"
     ]
    },
    {
     "name": "stdout",
     "output_type": "stream",
     "text": [
      "600755.SH updated from 20210114 to 20210115\n",
      "Time cost : 4.373095750808716s\n"
     ]
    },
    {
     "name": "stderr",
     "output_type": "stream",
     "text": [
      "\n",
      "  3%|▎         | 64/2129 [05:20<3:14:22,  5.65s/it]"
     ]
    },
    {
     "name": "stdout",
     "output_type": "stream",
     "text": [
      "600486.SH updated from 20210114 to 20210115\n",
      "Time cost : 2.575259208679199s\n"
     ]
    },
    {
     "name": "stderr",
     "output_type": "stream",
     "text": [
      "\n",
      "  3%|▎         | 65/2129 [05:22<2:42:35,  4.73s/it]"
     ]
    },
    {
     "name": "stdout",
     "output_type": "stream",
     "text": [
      "002714.SZ updated from 20210114 to 20210115\n",
      "Time cost : 2.5535736083984375s\n"
     ]
    },
    {
     "name": "stderr",
     "output_type": "stream",
     "text": [
      "\n",
      "  3%|▎         | 66/2129 [05:25<2:20:08,  4.08s/it]"
     ]
    },
    {
     "name": "stdout",
     "output_type": "stream",
     "text": [
      "601512.SH updated from 20210114 to 20210115\n",
      "Time cost : 2.667579412460327s\n"
     ]
    },
    {
     "name": "stderr",
     "output_type": "stream",
     "text": [
      "\n",
      "  3%|▎         | 67/2129 [05:27<2:05:33,  3.65s/it]"
     ]
    },
    {
     "name": "stdout",
     "output_type": "stream",
     "text": [
      "300766.SZ updated from 20210114 to 20210115\n",
      "Time cost : 4.698979139328003s\n"
     ]
    },
    {
     "name": "stderr",
     "output_type": "stream",
     "text": [
      "\n",
      "  3%|▎         | 68/2129 [05:32<2:16:18,  3.97s/it]"
     ]
    },
    {
     "name": "stdout",
     "output_type": "stream",
     "text": [
      "002239.SZ updated from 20210114 to 20210115\n",
      "Time cost : 2.2594292163848877s\n"
     ]
    },
    {
     "name": "stderr",
     "output_type": "stream",
     "text": [
      "\n",
      "  3%|▎         | 69/2129 [05:34<1:58:40,  3.46s/it]"
     ]
    },
    {
     "name": "stdout",
     "output_type": "stream",
     "text": [
      "002149.SZ updated from 20210114 to 20210115\n",
      "Time cost : 3.1019177436828613s\n"
     ]
    },
    {
     "name": "stderr",
     "output_type": "stream",
     "text": [
      "\n",
      "  3%|▎         | 70/2129 [05:37<1:54:58,  3.35s/it]"
     ]
    },
    {
     "name": "stdout",
     "output_type": "stream",
     "text": [
      "600339.SH updated from 20210114 to 20210115\n",
      "Time cost : 4.9044880867004395s\n"
     ]
    },
    {
     "name": "stderr",
     "output_type": "stream",
     "text": [
      "\n",
      "  3%|▎         | 71/2129 [05:42<2:10:56,  3.82s/it]"
     ]
    },
    {
     "name": "stdout",
     "output_type": "stream",
     "text": [
      "002307.SZ updated from 20210114 to 20210115\n",
      "Time cost : 3.250688076019287s\n"
     ]
    },
    {
     "name": "stderr",
     "output_type": "stream",
     "text": [
      "\n",
      "  3%|▎         | 72/2129 [05:46<2:05:04,  3.65s/it]"
     ]
    },
    {
     "name": "stdout",
     "output_type": "stream",
     "text": [
      "688521.SH updated from 20210114 to 20210115\n",
      "Time cost : 5.163494348526001s\n"
     ]
    },
    {
     "name": "stderr",
     "output_type": "stream",
     "text": [
      "\n",
      "  3%|▎         | 73/2129 [05:51<2:20:36,  4.10s/it]"
     ]
    },
    {
     "name": "stdout",
     "output_type": "stream",
     "text": [
      "600129.SH updated from 20210114 to 20210115\n",
      "Time cost : 1.354257345199585s\n"
     ]
    },
    {
     "name": "stderr",
     "output_type": "stream",
     "text": [
      "\n",
      "  3%|▎         | 74/2129 [05:52<1:52:19,  3.28s/it]"
     ]
    },
    {
     "name": "stdout",
     "output_type": "stream",
     "text": [
      "688166.SH updated from 20210114 to 20210115\n",
      "Time cost : 1.0663750171661377s\n"
     ]
    },
    {
     "name": "stderr",
     "output_type": "stream",
     "text": [
      "\n",
      "  4%|▎         | 75/2129 [05:53<1:29:33,  2.62s/it]"
     ]
    },
    {
     "name": "stdout",
     "output_type": "stream",
     "text": [
      "600987.SH updated from 20210114 to 20210115\n",
      "Time cost : 6.202331066131592s\n"
     ]
    },
    {
     "name": "stderr",
     "output_type": "stream",
     "text": [
      "\n",
      "  4%|▎         | 76/2129 [05:59<2:06:20,  3.69s/it]"
     ]
    },
    {
     "name": "stdout",
     "output_type": "stream",
     "text": [
      "002100.SZ updated from 20210114 to 20210115\n",
      "Time cost : 6.309427976608276s\n"
     ]
    },
    {
     "name": "stderr",
     "output_type": "stream",
     "text": [
      "\n",
      "  4%|▎         | 77/2129 [06:06<2:33:09,  4.48s/it]"
     ]
    },
    {
     "name": "stdout",
     "output_type": "stream",
     "text": [
      "002074.SZ updated from 20210114 to 20210115\n",
      "Time cost : 1.6956770420074463s\n"
     ]
    },
    {
     "name": "stderr",
     "output_type": "stream",
     "text": [
      "\n",
      "  4%|▎         | 78/2129 [06:07<2:04:33,  3.64s/it]"
     ]
    },
    {
     "name": "stdout",
     "output_type": "stream",
     "text": [
      "300481.SZ updated from 20210114 to 20210115\n",
      "Time cost : 1.1141421794891357s\n"
     ]
    },
    {
     "name": "stderr",
     "output_type": "stream",
     "text": [
      "\n",
      "  4%|▎         | 79/2129 [06:09<1:38:35,  2.89s/it]"
     ]
    },
    {
     "name": "stdout",
     "output_type": "stream",
     "text": [
      "300738.SZ updated from 20210114 to 20210115\n",
      "Time cost : 6.3403379917144775s\n"
     ]
    },
    {
     "name": "stderr",
     "output_type": "stream",
     "text": [
      "\n",
      "  4%|▍         | 80/2129 [06:15<2:13:57,  3.92s/it]"
     ]
    },
    {
     "name": "stdout",
     "output_type": "stream",
     "text": [
      "002004.SZ updated from 20210114 to 20210115\n",
      "Time cost : 5.86448335647583s\n"
     ]
    },
    {
     "name": "stderr",
     "output_type": "stream",
     "text": [
      "\n",
      "  4%|▍         | 81/2129 [06:21<2:33:48,  4.51s/it]"
     ]
    },
    {
     "name": "stdout",
     "output_type": "stream",
     "text": [
      "002032.SZ updated from 20210114 to 20210115\n",
      "Time cost : 3.5752434730529785s\n"
     ]
    },
    {
     "name": "stderr",
     "output_type": "stream",
     "text": [
      "\n",
      "  4%|▍         | 82/2129 [06:24<2:24:13,  4.23s/it]"
     ]
    },
    {
     "name": "stdout",
     "output_type": "stream",
     "text": [
      "600420.SH updated from 20210114 to 20210115\n",
      "Time cost : 9.29974365234375s\n"
     ]
    },
    {
     "name": "stderr",
     "output_type": "stream",
     "text": [
      "\n",
      "  4%|▍         | 83/2129 [06:34<3:16:03,  5.75s/it]"
     ]
    },
    {
     "name": "stdout",
     "output_type": "stream",
     "text": [
      "300869.SZ updated from 20210114 to 20210115\n",
      "Time cost : 4.391745567321777s\n"
     ]
    },
    {
     "name": "stderr",
     "output_type": "stream",
     "text": [
      "\n",
      "  4%|▍         | 84/2129 [06:38<3:02:05,  5.34s/it]"
     ]
    },
    {
     "name": "stdout",
     "output_type": "stream",
     "text": [
      "603700.SH updated from 20210114 to 20210115\n",
      "Time cost : 3.7106573581695557s\n"
     ]
    },
    {
     "name": "stderr",
     "output_type": "stream",
     "text": [
      "\n",
      "  4%|▍         | 85/2129 [06:42<2:45:21,  4.85s/it]"
     ]
    },
    {
     "name": "stdout",
     "output_type": "stream",
     "text": [
      "605118.SH updated from 20210114 to 20210115\n",
      "Time cost : 5.226043939590454s\n"
     ]
    },
    {
     "name": "stderr",
     "output_type": "stream",
     "text": [
      "\n",
      "  4%|▍         | 86/2129 [06:47<2:49:06,  4.97s/it]"
     ]
    },
    {
     "name": "stdout",
     "output_type": "stream",
     "text": [
      "300890.SZ updated from 20210114 to 20210115\n",
      "Time cost : 1.493330717086792s\n"
     ]
    },
    {
     "name": "stderr",
     "output_type": "stream",
     "text": [
      "\n",
      "  4%|▍         | 87/2129 [06:48<2:13:35,  3.93s/it]"
     ]
    },
    {
     "name": "stdout",
     "output_type": "stream",
     "text": [
      "002268.SZ updated from 20210114 to 20210115\n",
      "Time cost : 2.9783401489257812s\n"
     ]
    },
    {
     "name": "stderr",
     "output_type": "stream",
     "text": [
      "\n",
      "  4%|▍         | 88/2129 [06:51<2:03:53,  3.64s/it]"
     ]
    },
    {
     "name": "stdout",
     "output_type": "stream",
     "text": [
      "000900.SZ updated from 20210114 to 20210115\n",
      "Time cost : 3.829785108566284s\n"
     ]
    },
    {
     "name": "stderr",
     "output_type": "stream",
     "text": [
      "\n",
      "  4%|▍         | 89/2129 [06:55<2:05:45,  3.70s/it]"
     ]
    },
    {
     "name": "stdout",
     "output_type": "stream",
     "text": [
      "600770.SH updated from 20210114 to 20210115\n",
      "Time cost : 4.9227986335754395s\n"
     ]
    },
    {
     "name": "stderr",
     "output_type": "stream",
     "text": [
      "\n",
      "  4%|▍         | 90/2129 [07:00<2:18:12,  4.07s/it]"
     ]
    },
    {
     "name": "stdout",
     "output_type": "stream",
     "text": [
      "688007.SH updated from 20210114 to 20210115\n",
      "Time cost : 2.5594518184661865s\n"
     ]
    },
    {
     "name": "stderr",
     "output_type": "stream",
     "text": [
      "\n",
      "  4%|▍         | 91/2129 [07:03<2:02:48,  3.62s/it]"
     ]
    },
    {
     "name": "stdout",
     "output_type": "stream",
     "text": [
      "000858.SZ updated from 20210114 to 20210115\n",
      "Time cost : 2.3680036067962646s\n"
     ]
    },
    {
     "name": "stderr",
     "output_type": "stream",
     "text": [
      "\n",
      "  4%|▍         | 92/2129 [07:05<1:50:04,  3.24s/it]"
     ]
    },
    {
     "name": "stdout",
     "output_type": "stream",
     "text": [
      "300322.SZ updated from 20210114 to 20210115\n",
      "Time cost : 2.870194673538208s\n"
     ]
    },
    {
     "name": "stderr",
     "output_type": "stream",
     "text": [
      "\n",
      "  4%|▍         | 93/2129 [07:08<1:46:15,  3.13s/it]"
     ]
    },
    {
     "name": "stdout",
     "output_type": "stream",
     "text": [
      "688365.SH updated from 20210114 to 20210115\n",
      "Time cost : 4.68456506729126s\n"
     ]
    },
    {
     "name": "stderr",
     "output_type": "stream",
     "text": [
      "\n",
      "  4%|▍         | 94/2129 [07:13<2:02:02,  3.60s/it]"
     ]
    },
    {
     "name": "stdout",
     "output_type": "stream",
     "text": [
      "300276.SZ updated from 20210114 to 20210115\n",
      "Time cost : 25.004952669143677s\n"
     ]
    },
    {
     "name": "stderr",
     "output_type": "stream",
     "text": [
      "\n",
      "  4%|▍         | 95/2129 [07:38<5:39:42, 10.02s/it]"
     ]
    },
    {
     "name": "stdout",
     "output_type": "stream",
     "text": [
      "300031.SZ updated from 20210114 to 20210115\n",
      "Time cost : 4.220186710357666s\n"
     ]
    },
    {
     "name": "stderr",
     "output_type": "stream",
     "text": [
      "\n",
      "  5%|▍         | 96/2129 [07:42<4:40:36,  8.28s/it]"
     ]
    },
    {
     "name": "stdout",
     "output_type": "stream",
     "text": [
      "688029.SH updated from 20210114 to 20210115\n",
      "Time cost : 9.414964437484741s\n"
     ]
    },
    {
     "name": "stderr",
     "output_type": "stream",
     "text": [
      "\n",
      "  5%|▍         | 97/2129 [07:51<4:52:00,  8.62s/it]"
     ]
    },
    {
     "name": "stdout",
     "output_type": "stream",
     "text": [
      "688658.SH updated from 20210114 to 20210115\n",
      "Time cost : 4.172232151031494s\n"
     ]
    },
    {
     "name": "stderr",
     "output_type": "stream",
     "text": [
      "\n",
      "  5%|▍         | 98/2129 [07:56<4:06:41,  7.29s/it]"
     ]
    },
    {
     "name": "stdout",
     "output_type": "stream",
     "text": [
      "600908.SH updated from 20210114 to 20210115\n",
      "Time cost : 3.251248359680176s\n"
     ]
    },
    {
     "name": "stderr",
     "output_type": "stream",
     "text": [
      "\n",
      "  5%|▍         | 99/2129 [07:59<3:25:37,  6.08s/it]"
     ]
    },
    {
     "name": "stdout",
     "output_type": "stream",
     "text": [
      "601000.SH updated from 20210114 to 20210115\n",
      "Time cost : 4.746388912200928s\n"
     ]
    },
    {
     "name": "stderr",
     "output_type": "stream",
     "text": [
      "\n",
      "  5%|▍         | 100/2129 [08:04<3:12:02,  5.68s/it]"
     ]
    },
    {
     "name": "stdout",
     "output_type": "stream",
     "text": [
      "600138.SH updated from 20210114 to 20210115\n",
      "Time cost : 4.562615156173706s\n"
     ]
    },
    {
     "name": "stderr",
     "output_type": "stream",
     "text": [
      "\n",
      "  5%|▍         | 101/2129 [08:08<3:00:39,  5.34s/it]"
     ]
    },
    {
     "name": "stdout",
     "output_type": "stream",
     "text": [
      "300850.SZ updated from 20210114 to 20210115\n",
      "Time cost : 5.660014629364014s\n"
     ]
    },
    {
     "name": "stderr",
     "output_type": "stream",
     "text": [
      "\n",
      "  5%|▍         | 102/2129 [08:14<3:03:46,  5.44s/it]"
     ]
    },
    {
     "name": "stdout",
     "output_type": "stream",
     "text": [
      "300082.SZ updated from 20210114 to 20210115\n",
      "Time cost : 1.9318633079528809s\n"
     ]
    },
    {
     "name": "stderr",
     "output_type": "stream",
     "text": [
      "\n",
      "  5%|▍         | 103/2129 [08:16<2:28:11,  4.39s/it]"
     ]
    },
    {
     "name": "stdout",
     "output_type": "stream",
     "text": [
      "600733.SH updated from 20210114 to 20210115\n",
      "Time cost : 6.874651193618774s\n"
     ]
    },
    {
     "name": "stderr",
     "output_type": "stream",
     "text": [
      "\n",
      "  5%|▍         | 104/2129 [08:23<2:53:18,  5.13s/it]"
     ]
    },
    {
     "name": "stdout",
     "output_type": "stream",
     "text": [
      "000860.SZ updated from 20210114 to 20210115\n",
      "Time cost : 2.9591176509857178s\n"
     ]
    },
    {
     "name": "stderr",
     "output_type": "stream",
     "text": [
      "\n",
      "  5%|▍         | 105/2129 [08:26<2:31:13,  4.48s/it]"
     ]
    },
    {
     "name": "stdout",
     "output_type": "stream",
     "text": [
      "300085.SZ updated from 20210114 to 20210115\n",
      "Time cost : 3.3689959049224854s\n"
     ]
    },
    {
     "name": "stderr",
     "output_type": "stream",
     "text": [
      "\n",
      "  5%|▍         | 106/2129 [08:29<2:19:53,  4.15s/it]"
     ]
    },
    {
     "name": "stdout",
     "output_type": "stream",
     "text": [
      "600388.SH updated from 20210114 to 20210115\n",
      "Time cost : 2.5701301097869873s\n"
     ]
    },
    {
     "name": "stderr",
     "output_type": "stream",
     "text": [
      "\n",
      "  5%|▌         | 107/2129 [08:31<2:03:53,  3.68s/it]"
     ]
    },
    {
     "name": "stdout",
     "output_type": "stream",
     "text": [
      "601236.SH updated from 20210114 to 20210115\n",
      "Time cost : 2.4624178409576416s\n"
     ]
    },
    {
     "name": "stderr",
     "output_type": "stream",
     "text": [
      "\n",
      "  5%|▌         | 108/2129 [08:34<1:51:35,  3.31s/it]"
     ]
    },
    {
     "name": "stdout",
     "output_type": "stream",
     "text": [
      "300487.SZ updated from 20210114 to 20210115\n",
      "Time cost : 1.6246871948242188s\n"
     ]
    },
    {
     "name": "stderr",
     "output_type": "stream",
     "text": [
      "\n",
      "  5%|▌         | 109/2129 [08:36<1:34:30,  2.81s/it]"
     ]
    },
    {
     "name": "stdout",
     "output_type": "stream",
     "text": [
      "603379.SH updated from 20210114 to 20210115\n",
      "Time cost : 3.1226532459259033s\n"
     ]
    },
    {
     "name": "stderr",
     "output_type": "stream",
     "text": [
      "\n",
      "  5%|▌         | 110/2129 [08:39<1:37:39,  2.90s/it]"
     ]
    },
    {
     "name": "stdout",
     "output_type": "stream",
     "text": [
      "002362.SZ updated from 20210114 to 20210115\n",
      "Time cost : 2.141277313232422s\n"
     ]
    },
    {
     "name": "stderr",
     "output_type": "stream",
     "text": [
      "\n",
      "  5%|▌         | 111/2129 [08:41<1:29:57,  2.67s/it]"
     ]
    },
    {
     "name": "stdout",
     "output_type": "stream",
     "text": [
      "600703.SH updated from 20210114 to 20210115\n",
      "Time cost : 24.81217122077942s\n"
     ]
    },
    {
     "name": "stderr",
     "output_type": "stream",
     "text": [
      "\n",
      "  5%|▌         | 112/2129 [09:06<5:13:11,  9.32s/it]"
     ]
    },
    {
     "name": "stdout",
     "output_type": "stream",
     "text": [
      "002607.SZ updated from 20210114 to 20210115\n",
      "Time cost : 9.205968379974365s\n"
     ]
    },
    {
     "name": "stderr",
     "output_type": "stream",
     "text": [
      "\n",
      "  5%|▌         | 113/2129 [09:15<5:11:56,  9.28s/it]"
     ]
    },
    {
     "name": "stdout",
     "output_type": "stream",
     "text": [
      "002661.SZ updated from 20210114 to 20210115\n",
      "Time cost : 16.557331562042236s\n"
     ]
    },
    {
     "name": "stderr",
     "output_type": "stream",
     "text": [
      "\n",
      "  5%|▌         | 114/2129 [09:31<6:25:05, 11.47s/it]"
     ]
    },
    {
     "name": "stdout",
     "output_type": "stream",
     "text": [
      "000001.SZ updated from 20210114 to 20210115\n",
      "Time cost : 16.258852005004883s\n"
     ]
    },
    {
     "name": "stderr",
     "output_type": "stream",
     "text": [
      "\n",
      "  5%|▌         | 115/2129 [09:48<7:13:10, 12.91s/it]"
     ]
    },
    {
     "name": "stdout",
     "output_type": "stream",
     "text": [
      "002130.SZ updated from 20210114 to 20210115\n",
      "Time cost : 3.7633628845214844s\n"
     ]
    },
    {
     "name": "stderr",
     "output_type": "stream",
     "text": [
      "\n",
      "  5%|▌         | 116/2129 [09:51<5:40:58, 10.16s/it]"
     ]
    },
    {
     "name": "stdout",
     "output_type": "stream",
     "text": [
      "002939.SZ updated from 20210114 to 20210115\n",
      "Time cost : 5.162883520126343s\n"
     ]
    },
    {
     "name": "stderr",
     "output_type": "stream",
     "text": [
      "\n",
      "  5%|▌         | 117/2129 [09:57<4:50:30,  8.66s/it]"
     ]
    },
    {
     "name": "stdout",
     "output_type": "stream",
     "text": [
      "601128.SH updated from 20210114 to 20210115\n",
      "Time cost : 2.928609848022461s\n"
     ]
    },
    {
     "name": "stderr",
     "output_type": "stream",
     "text": [
      "\n",
      "  6%|▌         | 118/2129 [10:00<3:52:44,  6.94s/it]"
     ]
    },
    {
     "name": "stdout",
     "output_type": "stream",
     "text": [
      "603187.SH updated from 20210114 to 20210115\n",
      "Time cost : 2.0420689582824707s\n"
     ]
    },
    {
     "name": "stderr",
     "output_type": "stream",
     "text": [
      "\n",
      "  6%|▌         | 119/2129 [10:02<3:03:22,  5.47s/it]"
     ]
    },
    {
     "name": "stdout",
     "output_type": "stream",
     "text": [
      "002287.SZ updated from 20210114 to 20210115\n",
      "Time cost : 8.974231958389282s\n"
     ]
    },
    {
     "name": "stderr",
     "output_type": "stream",
     "text": [
      "\n",
      "  6%|▌         | 120/2129 [10:11<3:38:27,  6.52s/it]"
     ]
    },
    {
     "name": "stdout",
     "output_type": "stream",
     "text": [
      "300455.SZ updated from 20210114 to 20210115\n",
      "Time cost : 3.8403377532958984s\n"
     ]
    },
    {
     "name": "stderr",
     "output_type": "stream",
     "text": [
      "\n",
      "  6%|▌         | 121/2129 [10:14<3:11:25,  5.72s/it]"
     ]
    },
    {
     "name": "stdout",
     "output_type": "stream",
     "text": [
      "002797.SZ updated from 20210114 to 20210115\n",
      "Time cost : 2.7033534049987793s\n"
     ]
    },
    {
     "name": "stderr",
     "output_type": "stream",
     "text": [
      "\n",
      "  6%|▌         | 122/2129 [10:17<2:41:04,  4.82s/it]"
     ]
    },
    {
     "name": "stdout",
     "output_type": "stream",
     "text": [
      "688256.SH updated from 20210114 to 20210115\n",
      "Time cost : 2.6358630657196045s\n"
     ]
    },
    {
     "name": "stderr",
     "output_type": "stream",
     "text": [
      "\n",
      "  6%|▌         | 123/2129 [10:20<2:19:10,  4.16s/it]"
     ]
    },
    {
     "name": "stdout",
     "output_type": "stream",
     "text": [
      "300578.SZ updated from 20210114 to 20210115\n",
      "Time cost : 5.873647451400757s\n"
     ]
    },
    {
     "name": "stderr",
     "output_type": "stream",
     "text": [
      "\n",
      "  6%|▌         | 124/2129 [10:26<2:36:16,  4.68s/it]"
     ]
    },
    {
     "name": "stdout",
     "output_type": "stream",
     "text": [
      "688595.SH updated from 20210114 to 20210115\n",
      "Time cost : 5.2352941036224365s\n"
     ]
    },
    {
     "name": "stderr",
     "output_type": "stream",
     "text": [
      "\n",
      "  6%|▌         | 125/2129 [10:31<2:41:48,  4.84s/it]"
     ]
    },
    {
     "name": "stdout",
     "output_type": "stream",
     "text": [
      "600618.SH updated from 20210114 to 20210115\n",
      "Time cost : 1.4870660305023193s\n"
     ]
    },
    {
     "name": "stderr",
     "output_type": "stream",
     "text": [
      "\n",
      "  6%|▌         | 126/2129 [10:32<2:08:07,  3.84s/it]"
     ]
    },
    {
     "name": "stdout",
     "output_type": "stream",
     "text": [
      "688366.SH updated from 20210114 to 20210115\n",
      "Time cost : 3.3241007328033447s\n"
     ]
    },
    {
     "name": "stderr",
     "output_type": "stream",
     "text": [
      "\n",
      "  6%|▌         | 127/2129 [10:36<2:02:56,  3.68s/it]"
     ]
    },
    {
     "name": "stdout",
     "output_type": "stream",
     "text": [
      "000800.SZ updated from 20210114 to 20210115\n",
      "Time cost : 3.434156894683838s\n"
     ]
    },
    {
     "name": "stderr",
     "output_type": "stream",
     "text": [
      "\n",
      "  6%|▌         | 128/2129 [10:39<2:00:23,  3.61s/it]"
     ]
    },
    {
     "name": "stdout",
     "output_type": "stream",
     "text": [
      "002672.SZ updated from 20210114 to 20210115\n",
      "Time cost : 2.764695167541504s\n"
     ]
    },
    {
     "name": "stderr",
     "output_type": "stream",
     "text": [
      "\n",
      "  6%|▌         | 129/2129 [10:42<1:51:53,  3.36s/it]"
     ]
    },
    {
     "name": "stdout",
     "output_type": "stream",
     "text": [
      "600315.SH updated from 20210114 to 20210115\n",
      "Time cost : 2.049287796020508s\n"
     ]
    },
    {
     "name": "stderr",
     "output_type": "stream",
     "text": [
      "\n",
      "  6%|▌         | 130/2129 [10:44<1:38:47,  2.97s/it]"
     ]
    },
    {
     "name": "stdout",
     "output_type": "stream",
     "text": [
      "000066.SZ updated from 20210114 to 20210115\n",
      "Time cost : 2.1004345417022705s\n"
     ]
    },
    {
     "name": "stderr",
     "output_type": "stream",
     "text": [
      "\n",
      "  6%|▌         | 131/2129 [10:46<1:30:08,  2.71s/it]"
     ]
    },
    {
     "name": "stdout",
     "output_type": "stream",
     "text": [
      "002042.SZ updated from 20210114 to 20210115\n",
      "Time cost : 5.820305824279785s\n"
     ]
    },
    {
     "name": "stderr",
     "output_type": "stream",
     "text": [
      "\n",
      "  6%|▌         | 132/2129 [10:52<2:01:11,  3.64s/it]"
     ]
    },
    {
     "name": "stdout",
     "output_type": "stream",
     "text": [
      "002650.SZ updated from 20210114 to 20210115\n",
      "Time cost : 5.291140556335449s\n"
     ]
    },
    {
     "name": "stderr",
     "output_type": "stream",
     "text": [
      "\n",
      "  6%|▌         | 133/2129 [10:57<2:17:37,  4.14s/it]"
     ]
    },
    {
     "name": "stdout",
     "output_type": "stream",
     "text": [
      "300729.SZ updated from 20210114 to 20210115\n",
      "Time cost : 4.03984260559082s\n"
     ]
    },
    {
     "name": "stderr",
     "output_type": "stream",
     "text": [
      "\n",
      "  6%|▋         | 134/2129 [11:01<2:16:36,  4.11s/it]"
     ]
    },
    {
     "name": "stdout",
     "output_type": "stream",
     "text": [
      "300485.SZ updated from 20210114 to 20210115\n",
      "Time cost : 8.302292346954346s\n"
     ]
    },
    {
     "name": "stderr",
     "output_type": "stream",
     "text": [
      "\n",
      "  6%|▋         | 135/2129 [11:09<2:58:22,  5.37s/it]"
     ]
    },
    {
     "name": "stdout",
     "output_type": "stream",
     "text": [
      "688181.SH updated from 20210114 to 20210115\n",
      "Time cost : 4.548478841781616s\n"
     ]
    },
    {
     "name": "stderr",
     "output_type": "stream",
     "text": [
      "\n",
      "  6%|▋         | 136/2129 [11:14<2:50:08,  5.12s/it]"
     ]
    },
    {
     "name": "stdout",
     "output_type": "stream",
     "text": [
      "600461.SH updated from 20210114 to 20210115\n",
      "Time cost : 3.223069190979004s\n"
     ]
    },
    {
     "name": "stderr",
     "output_type": "stream",
     "text": [
      "\n",
      "  6%|▋         | 137/2129 [11:17<2:31:09,  4.55s/it]"
     ]
    },
    {
     "name": "stdout",
     "output_type": "stream",
     "text": [
      "600498.SH updated from 20210114 to 20210115\n",
      "Time cost : 4.406341314315796s\n"
     ]
    },
    {
     "name": "stderr",
     "output_type": "stream",
     "text": [
      "\n",
      "  6%|▋         | 138/2129 [11:22<2:29:38,  4.51s/it]"
     ]
    },
    {
     "name": "stdout",
     "output_type": "stream",
     "text": [
      "688301.SH updated from 20210114 to 20210115\n",
      "Time cost : 1.7236924171447754s\n"
     ]
    },
    {
     "name": "stderr",
     "output_type": "stream",
     "text": [
      "\n",
      "  7%|▋         | 139/2129 [11:23<2:01:52,  3.67s/it]"
     ]
    },
    {
     "name": "stdout",
     "output_type": "stream",
     "text": [
      "605099.SH updated from 20210114 to 20210115\n",
      "Time cost : 2.631181001663208s\n"
     ]
    },
    {
     "name": "stderr",
     "output_type": "stream",
     "text": [
      "\n",
      "  7%|▋         | 140/2129 [11:26<1:51:27,  3.36s/it]"
     ]
    },
    {
     "name": "stdout",
     "output_type": "stream",
     "text": [
      "000019.SZ updated from 20210114 to 20210115\n",
      "Time cost : 5.305619716644287s\n"
     ]
    },
    {
     "name": "stderr",
     "output_type": "stream",
     "text": [
      "\n",
      "  7%|▋         | 141/2129 [11:31<2:10:43,  3.95s/it]"
     ]
    },
    {
     "name": "stdout",
     "output_type": "stream",
     "text": [
      "600763.SH updated from 20210114 to 20210115\n",
      "Time cost : 1.3150527477264404s\n"
     ]
    },
    {
     "name": "stderr",
     "output_type": "stream",
     "text": [
      "\n",
      "  7%|▋         | 142/2129 [11:33<1:44:32,  3.16s/it]"
     ]
    },
    {
     "name": "stdout",
     "output_type": "stream",
     "text": [
      "603000.SH updated from 20210114 to 20210115\n",
      "Time cost : 11.019204139709473s\n"
     ]
    },
    {
     "name": "stderr",
     "output_type": "stream",
     "text": [
      "\n",
      "  7%|▋         | 143/2129 [11:44<3:02:35,  5.52s/it]"
     ]
    },
    {
     "name": "stdout",
     "output_type": "stream",
     "text": [
      "603387.SH updated from 20210114 to 20210115\n",
      "Time cost : 3.391021251678467s\n"
     ]
    },
    {
     "name": "stderr",
     "output_type": "stream",
     "text": [
      "\n",
      "  7%|▋         | 144/2129 [11:47<2:41:25,  4.88s/it]"
     ]
    },
    {
     "name": "stdout",
     "output_type": "stream",
     "text": [
      "600873.SH updated from 20210114 to 20210115\n",
      "Time cost : 5.258209705352783s\n"
     ]
    },
    {
     "name": "stderr",
     "output_type": "stream",
     "text": [
      "\n",
      "  7%|▋         | 145/2129 [11:52<2:45:07,  4.99s/it]"
     ]
    },
    {
     "name": "stdout",
     "output_type": "stream",
     "text": [
      "002932.SZ updated from 20210114 to 20210115\n",
      "Time cost : 1.8233015537261963s\n"
     ]
    },
    {
     "name": "stderr",
     "output_type": "stream",
     "text": [
      "\n",
      "  7%|▋         | 146/2129 [11:54<2:13:37,  4.04s/it]"
     ]
    },
    {
     "name": "stdout",
     "output_type": "stream",
     "text": [
      "601869.SH updated from 20210114 to 20210115\n",
      "Time cost : 1.1500616073608398s\n"
     ]
    },
    {
     "name": "stderr",
     "output_type": "stream",
     "text": [
      "\n",
      "  7%|▋         | 147/2129 [11:55<1:44:54,  3.18s/it]"
     ]
    },
    {
     "name": "stdout",
     "output_type": "stream",
     "text": [
      "600777.SH updated from 20210114 to 20210115\n",
      "Time cost : 4.945385217666626s\n"
     ]
    },
    {
     "name": "stderr",
     "output_type": "stream",
     "text": [
      "\n",
      "  7%|▋         | 148/2129 [12:00<2:02:24,  3.71s/it]"
     ]
    },
    {
     "name": "stdout",
     "output_type": "stream",
     "text": [
      "600096.SH updated from 20210114 to 20210115\n",
      "Time cost : 8.363563060760498s\n"
     ]
    },
    {
     "name": "stderr",
     "output_type": "stream",
     "text": [
      "\n",
      "  7%|▋         | 149/2129 [12:09<2:48:27,  5.10s/it]"
     ]
    },
    {
     "name": "stdout",
     "output_type": "stream",
     "text": [
      "601811.SH updated from 20210114 to 20210115\n",
      "Time cost : 2.675781488418579s\n"
     ]
    },
    {
     "name": "stderr",
     "output_type": "stream",
     "text": [
      "\n",
      "  7%|▋         | 150/2129 [12:11<2:24:21,  4.38s/it]"
     ]
    },
    {
     "name": "stdout",
     "output_type": "stream",
     "text": [
      "300763.SZ updated from 20210114 to 20210115\n",
      "Time cost : 3.3017797470092773s\n"
     ]
    },
    {
     "name": "stderr",
     "output_type": "stream",
     "text": [
      "\n",
      "  7%|▋         | 151/2129 [12:15<2:13:40,  4.05s/it]"
     ]
    },
    {
     "name": "stdout",
     "output_type": "stream",
     "text": [
      "000155.SZ updated from 20210114 to 20210115\n",
      "Time cost : 2.18715238571167s\n"
     ]
    },
    {
     "name": "stderr",
     "output_type": "stream",
     "text": [
      "\n",
      "  7%|▋         | 152/2129 [12:17<1:55:09,  3.49s/it]"
     ]
    },
    {
     "name": "stdout",
     "output_type": "stream",
     "text": [
      "600859.SH updated from 20210114 to 20210115\n",
      "Time cost : 3.0767765045166016s\n"
     ]
    },
    {
     "name": "stderr",
     "output_type": "stream",
     "text": [
      "\n",
      "  7%|▋         | 153/2129 [12:20<1:50:59,  3.37s/it]"
     ]
    },
    {
     "name": "stdout",
     "output_type": "stream",
     "text": [
      "002311.SZ updated from 20210114 to 20210115\n",
      "Time cost : 6.798825025558472s\n"
     ]
    },
    {
     "name": "stderr",
     "output_type": "stream",
     "text": [
      "\n",
      "  7%|▋         | 154/2129 [12:27<2:24:48,  4.40s/it]"
     ]
    },
    {
     "name": "stdout",
     "output_type": "stream",
     "text": [
      "688001.SH updated from 20210114 to 20210115\n",
      "Time cost : 1.7074368000030518s\n"
     ]
    },
    {
     "name": "stderr",
     "output_type": "stream",
     "text": [
      "\n",
      "  7%|▋         | 155/2129 [12:28<1:58:11,  3.59s/it]"
     ]
    },
    {
     "name": "stdout",
     "output_type": "stream",
     "text": [
      "002555.SZ updated from 20210114 to 20210115\n",
      "Time cost : 2.3098514080047607s\n"
     ]
    },
    {
     "name": "stderr",
     "output_type": "stream",
     "text": [
      "\n",
      "  7%|▋         | 156/2129 [12:31<1:45:29,  3.21s/it]"
     ]
    },
    {
     "name": "stdout",
     "output_type": "stream",
     "text": [
      "603363.SH updated from 20210114 to 20210115\n",
      "Time cost : 2.1592278480529785s\n"
     ]
    },
    {
     "name": "stderr",
     "output_type": "stream",
     "text": [
      "\n",
      "  7%|▋         | 157/2129 [12:33<1:35:07,  2.89s/it]"
     ]
    },
    {
     "name": "stdout",
     "output_type": "stream",
     "text": [
      "300856.SZ updated from 20210114 to 20210115\n",
      "Time cost : 2.5412073135375977s\n"
     ]
    },
    {
     "name": "stderr",
     "output_type": "stream",
     "text": [
      "\n",
      "  7%|▋         | 158/2129 [12:35<1:31:36,  2.79s/it]"
     ]
    },
    {
     "name": "stdout",
     "output_type": "stream",
     "text": [
      "603283.SH updated from 20210114 to 20210115\n",
      "Time cost : 1.7722647190093994s\n"
     ]
    },
    {
     "name": "stderr",
     "output_type": "stream",
     "text": [
      "\n",
      "  7%|▋         | 159/2129 [12:37<1:21:35,  2.48s/it]"
     ]
    },
    {
     "name": "stdout",
     "output_type": "stream",
     "text": [
      "002851.SZ updated from 20210114 to 20210115\n",
      "Time cost : 2.0874180793762207s\n"
     ]
    },
    {
     "name": "stderr",
     "output_type": "stream",
     "text": [
      "\n",
      "  8%|▊         | 160/2129 [12:39<1:17:39,  2.37s/it]"
     ]
    },
    {
     "name": "stdout",
     "output_type": "stream",
     "text": [
      "300168.SZ updated from 20210114 to 20210115\n",
      "Time cost : 4.9012837409973145s\n"
     ]
    },
    {
     "name": "stderr",
     "output_type": "stream",
     "text": [
      "\n",
      "  8%|▊         | 161/2129 [12:44<1:42:35,  3.13s/it]"
     ]
    },
    {
     "name": "stdout",
     "output_type": "stream",
     "text": [
      "600508.SH updated from 20210114 to 20210115\n",
      "Time cost : 1.7829620838165283s\n"
     ]
    },
    {
     "name": "stderr",
     "output_type": "stream",
     "text": [
      "\n",
      "  8%|▊         | 162/2129 [12:46<1:29:19,  2.72s/it]"
     ]
    },
    {
     "name": "stdout",
     "output_type": "stream",
     "text": [
      "000584.SZ updated from 20210114 to 20210115\n",
      "Time cost : 2.8647782802581787s\n"
     ]
    },
    {
     "name": "stderr",
     "output_type": "stream",
     "text": [
      "\n",
      "  8%|▊         | 163/2129 [12:49<1:30:40,  2.77s/it]"
     ]
    },
    {
     "name": "stdout",
     "output_type": "stream",
     "text": [
      "001872.SZ updated from 20210114 to 20210115\n",
      "Time cost : 3.6754636764526367s\n"
     ]
    },
    {
     "name": "stderr",
     "output_type": "stream",
     "text": [
      "\n",
      "  8%|▊         | 164/2129 [12:52<1:39:35,  3.04s/it]"
     ]
    },
    {
     "name": "stdout",
     "output_type": "stream",
     "text": [
      "HTTPConnectionPool(host='api.waditu.com', port=80): Read timed out. (read timeout=30)\n",
      "000877.SZ updated from 20210114 to 20210115\n",
      "Time cost : 38.946462869644165s\n"
     ]
    },
    {
     "name": "stderr",
     "output_type": "stream",
     "text": [
      "\n",
      "  8%|▊         | 165/2129 [13:31<7:32:08, 13.81s/it]"
     ]
    },
    {
     "name": "stdout",
     "output_type": "stream",
     "text": [
      "002505.SZ updated from 20210114 to 20210115\n",
      "Time cost : 9.273828744888306s\n"
     ]
    },
    {
     "name": "stderr",
     "output_type": "stream",
     "text": [
      "\n",
      "  8%|▊         | 166/2129 [13:41<6:47:22, 12.45s/it]"
     ]
    },
    {
     "name": "stdout",
     "output_type": "stream",
     "text": [
      "002978.SZ updated from 20210114 to 20210115\n",
      "Time cost : 1.2265536785125732s\n"
     ]
    },
    {
     "name": "stderr",
     "output_type": "stream",
     "text": [
      "\n",
      "  8%|▊         | 167/2129 [13:42<4:57:04,  9.08s/it]"
     ]
    },
    {
     "name": "stdout",
     "output_type": "stream",
     "text": [
      "300432.SZ updated from 20210114 to 20210115\n",
      "Time cost : 3.1130712032318115s\n"
     ]
    },
    {
     "name": "stderr",
     "output_type": "stream",
     "text": [
      "\n",
      "  8%|▊         | 168/2129 [13:45<3:58:23,  7.29s/it]"
     ]
    },
    {
     "name": "stdout",
     "output_type": "stream",
     "text": [
      "600466.SH updated from 20210114 to 20210115\n",
      "Time cost : 3.7388968467712402s\n"
     ]
    },
    {
     "name": "stderr",
     "output_type": "stream",
     "text": [
      "\n",
      "  8%|▊         | 169/2129 [13:49<3:23:27,  6.23s/it]"
     ]
    },
    {
     "name": "stdout",
     "output_type": "stream",
     "text": [
      "300639.SZ updated from 20210114 to 20210115\n",
      "Time cost : 2.631728410720825s\n"
     ]
    },
    {
     "name": "stderr",
     "output_type": "stream",
     "text": [
      "\n",
      "  8%|▊         | 170/2129 [13:51<2:48:09,  5.15s/it]"
     ]
    },
    {
     "name": "stdout",
     "output_type": "stream",
     "text": [
      "688100.SH updated from 20210114 to 20210115\n",
      "Time cost : 6.8276965618133545s\n"
     ]
    },
    {
     "name": "stderr",
     "output_type": "stream",
     "text": [
      "\n",
      "  8%|▊         | 171/2129 [13:58<3:04:30,  5.65s/it]"
     ]
    },
    {
     "name": "stdout",
     "output_type": "stream",
     "text": [
      "300296.SZ updated from 20210114 to 20210115\n",
      "Time cost : 1.8837511539459229s\n"
     ]
    },
    {
     "name": "stderr",
     "output_type": "stream",
     "text": [
      "\n",
      "  8%|▊         | 172/2129 [14:00<2:27:32,  4.52s/it]"
     ]
    },
    {
     "name": "stdout",
     "output_type": "stream",
     "text": [
      "000035.SZ updated from 20210114 to 20210115\n",
      "Time cost : 2.3348212242126465s\n"
     ]
    },
    {
     "name": "stderr",
     "output_type": "stream",
     "text": [
      "\n",
      "  8%|▊         | 173/2129 [14:02<2:06:04,  3.87s/it]"
     ]
    },
    {
     "name": "stdout",
     "output_type": "stream",
     "text": [
      "600197.SH updated from 20210114 to 20210115\n",
      "Time cost : 3.747699737548828s\n"
     ]
    },
    {
     "name": "stderr",
     "output_type": "stream",
     "text": [
      "\n",
      "  8%|▊         | 174/2129 [14:06<2:04:52,  3.83s/it]"
     ]
    },
    {
     "name": "stdout",
     "output_type": "stream",
     "text": [
      "600516.SH updated from 20210114 to 20210115\n",
      "Time cost : 2.955812454223633s\n"
     ]
    },
    {
     "name": "stderr",
     "output_type": "stream",
     "text": [
      "\n",
      "  8%|▊         | 175/2129 [14:09<1:56:15,  3.57s/it]"
     ]
    },
    {
     "name": "stdout",
     "output_type": "stream",
     "text": [
      "601222.SH updated from 20210114 to 20210115\n",
      "Time cost : 3.142158031463623s\n"
     ]
    },
    {
     "name": "stderr",
     "output_type": "stream",
     "text": [
      "\n",
      "  8%|▊         | 176/2129 [14:12<1:52:03,  3.44s/it]"
     ]
    },
    {
     "name": "stdout",
     "output_type": "stream",
     "text": [
      "300433.SZ updated from 20210114 to 20210115\n",
      "Time cost : 2.0214600563049316s\n"
     ]
    },
    {
     "name": "stderr",
     "output_type": "stream",
     "text": [
      "\n",
      "  8%|▊         | 177/2129 [14:14<1:38:08,  3.02s/it]"
     ]
    },
    {
     "name": "stdout",
     "output_type": "stream",
     "text": [
      "000813.SZ updated from 20210114 to 20210115\n",
      "Time cost : 8.75544548034668s\n"
     ]
    },
    {
     "name": "stderr",
     "output_type": "stream",
     "text": [
      "\n",
      "  8%|▊         | 178/2129 [14:23<2:34:05,  4.74s/it]"
     ]
    },
    {
     "name": "stdout",
     "output_type": "stream",
     "text": [
      "600789.SH updated from 20210114 to 20210115\n",
      "Time cost : 3.352135181427002s\n"
     ]
    },
    {
     "name": "stderr",
     "output_type": "stream",
     "text": [
      "\n",
      "  8%|▊         | 179/2129 [14:26<2:20:31,  4.32s/it]"
     ]
    },
    {
     "name": "stdout",
     "output_type": "stream",
     "text": [
      "688122.SH updated from 20210114 to 20210115\n",
      "Time cost : 2.2764785289764404s\n"
     ]
    },
    {
     "name": "stderr",
     "output_type": "stream",
     "text": [
      "\n",
      "  8%|▊         | 180/2129 [14:29<2:00:30,  3.71s/it]"
     ]
    },
    {
     "name": "stdout",
     "output_type": "stream",
     "text": [
      "002935.SZ updated from 20210114 to 20210115\n",
      "Time cost : 2.295433759689331s\n"
     ]
    },
    {
     "name": "stderr",
     "output_type": "stream",
     "text": [
      "\n",
      "  9%|▊         | 181/2129 [14:31<1:46:42,  3.29s/it]"
     ]
    },
    {
     "name": "stdout",
     "output_type": "stream",
     "text": [
      "600496.SH updated from 20210114 to 20210115\n",
      "Time cost : 3.42311429977417s\n"
     ]
    },
    {
     "name": "stderr",
     "output_type": "stream",
     "text": [
      "\n",
      "  9%|▊         | 182/2129 [14:34<1:47:59,  3.33s/it]"
     ]
    },
    {
     "name": "stdout",
     "output_type": "stream",
     "text": [
      "002223.SZ updated from 20210114 to 20210115\n",
      "Time cost : 2.6110644340515137s\n"
     ]
    },
    {
     "name": "stderr",
     "output_type": "stream",
     "text": [
      "\n",
      "  9%|▊         | 183/2129 [14:37<1:40:59,  3.11s/it]"
     ]
    },
    {
     "name": "stdout",
     "output_type": "stream",
     "text": [
      "002036.SZ updated from 20210114 to 20210115\n",
      "Time cost : 2.365316390991211s\n"
     ]
    },
    {
     "name": "stderr",
     "output_type": "stream",
     "text": [
      "\n",
      "  9%|▊         | 184/2129 [14:39<1:33:40,  2.89s/it]"
     ]
    },
    {
     "name": "stdout",
     "output_type": "stream",
     "text": [
      "000598.SZ updated from 20210114 to 20210115\n",
      "Time cost : 2.5803418159484863s\n"
     ]
    },
    {
     "name": "stderr",
     "output_type": "stream",
     "text": [
      "\n",
      "  9%|▊         | 185/2129 [14:42<1:30:39,  2.80s/it]"
     ]
    },
    {
     "name": "stdout",
     "output_type": "stream",
     "text": [
      "002706.SZ updated from 20210114 to 20210115\n",
      "Time cost : 9.477713108062744s\n"
     ]
    },
    {
     "name": "stderr",
     "output_type": "stream",
     "text": [
      "\n",
      "  9%|▊         | 186/2129 [14:52<2:35:30,  4.80s/it]"
     ]
    },
    {
     "name": "stdout",
     "output_type": "stream",
     "text": [
      "000488.SZ updated from 20210114 to 20210115\n",
      "Time cost : 3.7113730907440186s\n"
     ]
    },
    {
     "name": "stderr",
     "output_type": "stream",
     "text": [
      "\n",
      "  9%|▉         | 187/2129 [14:55<2:24:52,  4.48s/it]"
     ]
    },
    {
     "name": "stdout",
     "output_type": "stream",
     "text": [
      "002064.SZ updated from 20210114 to 20210115\n",
      "Time cost : 4.247609376907349s\n"
     ]
    },
    {
     "name": "stderr",
     "output_type": "stream",
     "text": [
      "\n",
      "  9%|▉         | 188/2129 [14:59<2:22:35,  4.41s/it]"
     ]
    },
    {
     "name": "stdout",
     "output_type": "stream",
     "text": [
      "000735.SZ updated from 20210114 to 20210115\n",
      "Time cost : 2.9624321460723877s\n"
     ]
    },
    {
     "name": "stderr",
     "output_type": "stream",
     "text": [
      "\n",
      "  9%|▉         | 189/2129 [15:02<2:08:31,  3.97s/it]"
     ]
    },
    {
     "name": "stdout",
     "output_type": "stream",
     "text": [
      "002099.SZ updated from 20210114 to 20210115\n",
      "Time cost : 1.2619314193725586s\n"
     ]
    },
    {
     "name": "stderr",
     "output_type": "stream",
     "text": [
      "\n",
      "  9%|▉         | 190/2129 [15:04<1:42:11,  3.16s/it]"
     ]
    },
    {
     "name": "stdout",
     "output_type": "stream",
     "text": [
      "600548.SH updated from 20210114 to 20210115\n",
      "Time cost : 2.8961172103881836s\n"
     ]
    },
    {
     "name": "stderr",
     "output_type": "stream",
     "text": [
      "\n",
      "  9%|▉         | 191/2129 [15:07<1:39:34,  3.08s/it]"
     ]
    },
    {
     "name": "stdout",
     "output_type": "stream",
     "text": [
      "600602.SH updated from 20210114 to 20210115\n",
      "Time cost : 5.4966771602630615s\n"
     ]
    },
    {
     "name": "stderr",
     "output_type": "stream",
     "text": [
      "\n",
      "  9%|▉         | 192/2129 [15:12<2:02:55,  3.81s/it]"
     ]
    },
    {
     "name": "stdout",
     "output_type": "stream",
     "text": [
      "601069.SH updated from 20210114 to 20210115\n",
      "Time cost : 2.1609926223754883s\n"
     ]
    },
    {
     "name": "stderr",
     "output_type": "stream",
     "text": [
      "\n",
      "  9%|▉         | 193/2129 [15:14<1:46:56,  3.31s/it]"
     ]
    },
    {
     "name": "stdout",
     "output_type": "stream",
     "text": [
      "600252.SH updated from 20210114 to 20210115\n",
      "Time cost : 1.1972887516021729s\n"
     ]
    },
    {
     "name": "stderr",
     "output_type": "stream",
     "text": [
      "\n",
      "  9%|▉         | 194/2129 [15:15<1:26:25,  2.68s/it]"
     ]
    },
    {
     "name": "stdout",
     "output_type": "stream",
     "text": [
      "603868.SH updated from 20210114 to 20210115\n",
      "Time cost : 12.870561599731445s\n"
     ]
    },
    {
     "name": "stderr",
     "output_type": "stream",
     "text": [
      "\n",
      "  9%|▉         | 195/2129 [15:28<3:04:57,  5.74s/it]"
     ]
    },
    {
     "name": "stdout",
     "output_type": "stream",
     "text": [
      "600804.SH updated from 20210114 to 20210115\n",
      "Time cost : 1.207817792892456s\n"
     ]
    },
    {
     "name": "stderr",
     "output_type": "stream",
     "text": [
      "\n",
      "  9%|▉         | 196/2129 [15:30<2:21:05,  4.38s/it]"
     ]
    },
    {
     "name": "stdout",
     "output_type": "stream",
     "text": [
      "603650.SH updated from 20210114 to 20210115\n",
      "Time cost : 2.1514132022857666s\n"
     ]
    },
    {
     "name": "stderr",
     "output_type": "stream",
     "text": [
      "\n",
      "  9%|▉         | 197/2129 [15:32<1:59:30,  3.71s/it]"
     ]
    },
    {
     "name": "stdout",
     "output_type": "stream",
     "text": [
      "600517.SH updated from 20210114 to 20210115\n",
      "Time cost : 2.013042449951172s\n"
     ]
    },
    {
     "name": "stderr",
     "output_type": "stream",
     "text": [
      "\n",
      "  9%|▉         | 198/2129 [15:34<1:43:04,  3.20s/it]"
     ]
    },
    {
     "name": "stdout",
     "output_type": "stream",
     "text": [
      "600821.SH updated from 20210114 to 20210115\n",
      "Time cost : 4.929830074310303s\n"
     ]
    },
    {
     "name": "stderr",
     "output_type": "stream",
     "text": [
      "\n",
      "  9%|▉         | 199/2129 [15:39<1:59:42,  3.72s/it]"
     ]
    },
    {
     "name": "stdout",
     "output_type": "stream",
     "text": [
      "688578.SH updated from 20210114 to 20210115\n",
      "Time cost : 2.450989007949829s\n"
     ]
    },
    {
     "name": "stderr",
     "output_type": "stream",
     "text": [
      "\n",
      "  9%|▉         | 200/2129 [15:41<1:47:24,  3.34s/it]"
     ]
    },
    {
     "name": "stdout",
     "output_type": "stream",
     "text": [
      "002439.SZ updated from 20210114 to 20210115\n",
      "Time cost : 8.1869535446167s\n"
     ]
    },
    {
     "name": "stderr",
     "output_type": "stream",
     "text": [
      "\n",
      "  9%|▉         | 201/2129 [15:49<2:34:05,  4.80s/it]"
     ]
    },
    {
     "name": "stdout",
     "output_type": "stream",
     "text": [
      "300078.SZ updated from 20210114 to 20210115\n",
      "Time cost : 2.061413288116455s\n"
     ]
    },
    {
     "name": "stderr",
     "output_type": "stream",
     "text": [
      "\n",
      "  9%|▉         | 202/2129 [15:51<2:07:41,  3.98s/it]"
     ]
    },
    {
     "name": "stdout",
     "output_type": "stream",
     "text": [
      "300346.SZ updated from 20210114 to 20210115\n",
      "Time cost : 4.51877498626709s\n"
     ]
    },
    {
     "name": "stderr",
     "output_type": "stream",
     "text": [
      "\n",
      " 10%|▉         | 203/2129 [15:56<2:12:52,  4.14s/it]"
     ]
    },
    {
     "name": "stdout",
     "output_type": "stream",
     "text": [
      "603707.SH updated from 20210114 to 20210115\n",
      "Time cost : 3.807343006134033s\n"
     ]
    },
    {
     "name": "stderr",
     "output_type": "stream",
     "text": [
      "\n",
      " 10%|▉         | 204/2129 [16:00<2:09:37,  4.04s/it]"
     ]
    },
    {
     "name": "stdout",
     "output_type": "stream",
     "text": [
      "300224.SZ updated from 20210114 to 20210115\n",
      "Time cost : 2.3835999965667725s\n"
     ]
    },
    {
     "name": "stderr",
     "output_type": "stream",
     "text": [
      "\n",
      " 10%|▉         | 205/2129 [16:02<1:53:38,  3.54s/it]"
     ]
    },
    {
     "name": "stdout",
     "output_type": "stream",
     "text": [
      "688196.SH updated from 20210114 to 20210115\n",
      "Time cost : 8.921555757522583s\n"
     ]
    },
    {
     "name": "stderr",
     "output_type": "stream",
     "text": [
      "\n",
      " 10%|▉         | 206/2129 [16:11<2:45:17,  5.16s/it]"
     ]
    },
    {
     "name": "stdout",
     "output_type": "stream",
     "text": [
      "300428.SZ updated from 20210114 to 20210115\n",
      "Time cost : 2.423569917678833s\n"
     ]
    },
    {
     "name": "stderr",
     "output_type": "stream",
     "text": [
      "\n",
      " 10%|▉         | 207/2129 [16:13<2:18:57,  4.34s/it]"
     ]
    },
    {
     "name": "stdout",
     "output_type": "stream",
     "text": [
      "000690.SZ updated from 20210114 to 20210115\n",
      "Time cost : 2.077117443084717s\n"
     ]
    },
    {
     "name": "stderr",
     "output_type": "stream",
     "text": [
      "\n",
      " 10%|▉         | 208/2129 [16:15<1:57:11,  3.66s/it]"
     ]
    },
    {
     "name": "stdout",
     "output_type": "stream",
     "text": [
      "002020.SZ updated from 20210114 to 20210115\n",
      "Time cost : 3.6170995235443115s\n"
     ]
    },
    {
     "name": "stderr",
     "output_type": "stream",
     "text": [
      "\n",
      " 10%|▉         | 209/2129 [16:19<1:56:44,  3.65s/it]"
     ]
    },
    {
     "name": "stdout",
     "output_type": "stream",
     "text": [
      "605198.SH updated from 20210114 to 20210115\n",
      "Time cost : 5.337348461151123s\n"
     ]
    },
    {
     "name": "stderr",
     "output_type": "stream",
     "text": [
      "\n",
      " 10%|▉         | 210/2129 [16:24<2:12:54,  4.16s/it]"
     ]
    },
    {
     "name": "stdout",
     "output_type": "stream",
     "text": [
      "002091.SZ updated from 20210114 to 20210115\n",
      "Time cost : 2.885617971420288s\n"
     ]
    },
    {
     "name": "stderr",
     "output_type": "stream",
     "text": [
      "\n",
      " 10%|▉         | 211/2129 [16:27<2:00:40,  3.78s/it]"
     ]
    },
    {
     "name": "stdout",
     "output_type": "stream",
     "text": [
      "300323.SZ updated from 20210114 to 20210115\n",
      "Time cost : 1.2577331066131592s\n"
     ]
    },
    {
     "name": "stderr",
     "output_type": "stream",
     "text": [
      "\n",
      " 10%|▉         | 212/2129 [16:29<1:36:29,  3.02s/it]"
     ]
    },
    {
     "name": "stdout",
     "output_type": "stream",
     "text": [
      "600258.SH updated from 20210114 to 20210115\n",
      "Time cost : 3.853621244430542s\n"
     ]
    },
    {
     "name": "stderr",
     "output_type": "stream",
     "text": [
      "\n",
      " 10%|█         | 213/2129 [16:32<1:44:27,  3.27s/it]"
     ]
    },
    {
     "name": "stdout",
     "output_type": "stream",
     "text": [
      "600226.SH updated from 20210114 to 20210115\n",
      "Time cost : 3.1086816787719727s\n"
     ]
    },
    {
     "name": "stderr",
     "output_type": "stream",
     "text": [
      "\n",
      " 10%|█         | 214/2129 [16:36<1:42:52,  3.22s/it]"
     ]
    },
    {
     "name": "stdout",
     "output_type": "stream",
     "text": [
      "000069.SZ updated from 20210114 to 20210115\n",
      "Time cost : 2.1888279914855957s\n"
     ]
    },
    {
     "name": "stderr",
     "output_type": "stream",
     "text": [
      "\n",
      " 10%|█         | 215/2129 [16:38<1:32:56,  2.91s/it]"
     ]
    },
    {
     "name": "stdout",
     "output_type": "stream",
     "text": [
      "601360.SH updated from 20210114 to 20210115\n",
      "Time cost : 1.296304702758789s\n"
     ]
    },
    {
     "name": "stderr",
     "output_type": "stream",
     "text": [
      "\n",
      " 10%|█         | 216/2129 [16:39<1:17:26,  2.43s/it]"
     ]
    },
    {
     "name": "stdout",
     "output_type": "stream",
     "text": [
      "600109.SH updated from 20210114 to 20210115\n",
      "Time cost : 4.067038059234619s\n"
     ]
    },
    {
     "name": "stderr",
     "output_type": "stream",
     "text": [
      "\n",
      " 10%|█         | 217/2129 [16:43<1:33:05,  2.92s/it]"
     ]
    },
    {
     "name": "stdout",
     "output_type": "stream",
     "text": [
      "000008.SZ updated from 20210114 to 20210115\n",
      "Time cost : 2.9237849712371826s\n"
     ]
    },
    {
     "name": "stderr",
     "output_type": "stream",
     "text": [
      "\n",
      " 10%|█         | 218/2129 [16:46<1:33:05,  2.92s/it]"
     ]
    },
    {
     "name": "stdout",
     "output_type": "stream",
     "text": [
      "300134.SZ updated from 20210114 to 20210115\n",
      "Time cost : 3.1838603019714355s\n"
     ]
    },
    {
     "name": "stderr",
     "output_type": "stream",
     "text": [
      "\n",
      " 10%|█         | 219/2129 [16:49<1:35:33,  3.00s/it]"
     ]
    },
    {
     "name": "stdout",
     "output_type": "stream",
     "text": [
      "603323.SH updated from 20210114 to 20210115\n",
      "Time cost : 18.676676034927368s\n"
     ]
    },
    {
     "name": "stderr",
     "output_type": "stream",
     "text": [
      "\n",
      " 10%|█         | 220/2129 [17:08<4:05:08,  7.70s/it]"
     ]
    },
    {
     "name": "stdout",
     "output_type": "stream",
     "text": [
      "000976.SZ updated from 20210114 to 20210115\n",
      "Time cost : 5.291429758071899s\n"
     ]
    },
    {
     "name": "stderr",
     "output_type": "stream",
     "text": [
      "\n",
      " 10%|█         | 221/2129 [17:13<3:42:00,  6.98s/it]"
     ]
    },
    {
     "name": "stdout",
     "output_type": "stream",
     "text": [
      "600773.SH updated from 20210114 to 20210115\n",
      "Time cost : 6.9413981437683105s\n"
     ]
    },
    {
     "name": "stderr",
     "output_type": "stream",
     "text": [
      "\n",
      " 10%|█         | 222/2129 [17:20<3:41:31,  6.97s/it]"
     ]
    },
    {
     "name": "stdout",
     "output_type": "stream",
     "text": [
      "603766.SH updated from 20210114 to 20210115\n",
      "Time cost : 1.823167085647583s\n"
     ]
    },
    {
     "name": "stderr",
     "output_type": "stream",
     "text": [
      "\n",
      " 10%|█         | 223/2129 [17:22<2:52:22,  5.43s/it]"
     ]
    },
    {
     "name": "stdout",
     "output_type": "stream",
     "text": [
      "603408.SH updated from 20210114 to 20210115\n",
      "Time cost : 2.016336679458618s\n"
     ]
    },
    {
     "name": "stderr",
     "output_type": "stream",
     "text": [
      "\n",
      " 11%|█         | 224/2129 [17:24<2:19:49,  4.40s/it]"
     ]
    },
    {
     "name": "stdout",
     "output_type": "stream",
     "text": [
      "002681.SZ updated from 20210114 to 20210115\n",
      "Time cost : 3.7664341926574707s\n"
     ]
    },
    {
     "name": "stderr",
     "output_type": "stream",
     "text": [
      "\n",
      " 11%|█         | 225/2129 [17:28<2:13:42,  4.21s/it]"
     ]
    },
    {
     "name": "stdout",
     "output_type": "stream",
     "text": [
      "600256.SH updated from 20210114 to 20210115\n",
      "Time cost : 4.186517953872681s\n"
     ]
    },
    {
     "name": "stderr",
     "output_type": "stream",
     "text": [
      "\n",
      " 11%|█         | 226/2129 [17:32<2:13:23,  4.21s/it]"
     ]
    },
    {
     "name": "stdout",
     "output_type": "stream",
     "text": [
      "002183.SZ updated from 20210114 to 20210115\n",
      "Time cost : 10.22439193725586s\n"
     ]
    },
    {
     "name": "stderr",
     "output_type": "stream",
     "text": [
      "\n",
      " 11%|█         | 227/2129 [17:42<3:10:35,  6.01s/it]"
     ]
    },
    {
     "name": "stdout",
     "output_type": "stream",
     "text": [
      "300516.SZ updated from 20210114 to 20210115\n",
      "Time cost : 10.377813577651978s\n"
     ]
    },
    {
     "name": "stderr",
     "output_type": "stream",
     "text": [
      "\n",
      " 11%|█         | 228/2129 [17:53<3:52:00,  7.32s/it]"
     ]
    },
    {
     "name": "stdout",
     "output_type": "stream",
     "text": [
      "300184.SZ updated from 20210114 to 20210115\n",
      "Time cost : 1.386296033859253s\n"
     ]
    },
    {
     "name": "stderr",
     "output_type": "stream",
     "text": [
      "\n",
      " 11%|█         | 229/2129 [17:54<2:55:30,  5.54s/it]"
     ]
    },
    {
     "name": "stdout",
     "output_type": "stream",
     "text": [
      "601002.SH updated from 20210114 to 20210115\n",
      "Time cost : 1.996405839920044s\n"
     ]
    },
    {
     "name": "stderr",
     "output_type": "stream",
     "text": [
      "\n",
      " 11%|█         | 230/2129 [17:56<2:21:46,  4.48s/it]"
     ]
    },
    {
     "name": "stdout",
     "output_type": "stream",
     "text": [
      "002611.SZ updated from 20210114 to 20210115\n",
      "Time cost : 2.008841037750244s\n"
     ]
    },
    {
     "name": "stderr",
     "output_type": "stream",
     "text": [
      "\n",
      " 11%|█         | 231/2129 [17:58<1:58:16,  3.74s/it]"
     ]
    },
    {
     "name": "stdout",
     "output_type": "stream",
     "text": [
      "603069.SH updated from 20210114 to 20210115\n",
      "Time cost : 1.3008222579956055s\n"
     ]
    },
    {
     "name": "stderr",
     "output_type": "stream",
     "text": [
      "\n",
      " 11%|█         | 232/2129 [17:59<1:35:06,  3.01s/it]"
     ]
    },
    {
     "name": "stdout",
     "output_type": "stream",
     "text": [
      "300846.SZ updated from 20210114 to 20210115\n",
      "Time cost : 2.7414889335632324s\n"
     ]
    },
    {
     "name": "stderr",
     "output_type": "stream",
     "text": [
      "\n",
      " 11%|█         | 233/2129 [18:02<1:32:32,  2.93s/it]"
     ]
    },
    {
     "name": "stdout",
     "output_type": "stream",
     "text": [
      "300142.SZ updated from 20210114 to 20210115\n",
      "Time cost : 19.04705810546875s\n"
     ]
    },
    {
     "name": "stderr",
     "output_type": "stream",
     "text": [
      "\n",
      " 11%|█         | 234/2129 [18:21<4:05:14,  7.76s/it]"
     ]
    },
    {
     "name": "stdout",
     "output_type": "stream",
     "text": [
      "002332.SZ updated from 20210114 to 20210115\n",
      "Time cost : 1.2669224739074707s\n"
     ]
    },
    {
     "name": "stderr",
     "output_type": "stream",
     "text": [
      "\n",
      " 11%|█         | 235/2129 [18:22<3:03:35,  5.82s/it]"
     ]
    },
    {
     "name": "stdout",
     "output_type": "stream",
     "text": [
      "300199.SZ updated from 20210114 to 20210115\n",
      "Time cost : 2.1665701866149902s\n"
     ]
    },
    {
     "name": "stderr",
     "output_type": "stream",
     "text": [
      "\n",
      " 11%|█         | 236/2129 [18:24<2:28:58,  4.72s/it]"
     ]
    },
    {
     "name": "stdout",
     "output_type": "stream",
     "text": [
      "002390.SZ updated from 20210114 to 20210115\n",
      "Time cost : 2.0178239345550537s\n"
     ]
    },
    {
     "name": "stderr",
     "output_type": "stream",
     "text": [
      "\n",
      " 11%|█         | 237/2129 [18:27<2:03:19,  3.91s/it]"
     ]
    },
    {
     "name": "stdout",
     "output_type": "stream",
     "text": [
      "300708.SZ updated from 20210114 to 20210115\n",
      "Time cost : 2.54607892036438s\n"
     ]
    },
    {
     "name": "stderr",
     "output_type": "stream",
     "text": [
      "\n",
      " 11%|█         | 238/2129 [18:29<1:50:22,  3.50s/it]"
     ]
    },
    {
     "name": "stdout",
     "output_type": "stream",
     "text": [
      "601877.SH updated from 20210114 to 20210115\n",
      "Time cost : 2.511263847351074s\n"
     ]
    },
    {
     "name": "stderr",
     "output_type": "stream",
     "text": [
      "\n",
      " 11%|█         | 239/2129 [18:32<1:40:58,  3.21s/it]"
     ]
    },
    {
     "name": "stdout",
     "output_type": "stream",
     "text": [
      "600126.SH updated from 20210114 to 20210115\n",
      "Time cost : 2.748661994934082s\n"
     ]
    },
    {
     "name": "stderr",
     "output_type": "stream",
     "text": [
      "\n",
      " 11%|█▏        | 240/2129 [18:34<1:36:38,  3.07s/it]"
     ]
    },
    {
     "name": "stdout",
     "output_type": "stream",
     "text": [
      "601228.SH updated from 20210114 to 20210115\n",
      "Time cost : 3.2292683124542236s\n"
     ]
    },
    {
     "name": "stderr",
     "output_type": "stream",
     "text": [
      "\n",
      " 11%|█▏        | 241/2129 [18:38<1:38:06,  3.12s/it]"
     ]
    },
    {
     "name": "stdout",
     "output_type": "stream",
     "text": [
      "300075.SZ updated from 20210114 to 20210115\n",
      "Time cost : 4.156487703323364s\n"
     ]
    },
    {
     "name": "stderr",
     "output_type": "stream",
     "text": [
      "\n",
      " 11%|█▏        | 242/2129 [18:42<1:47:52,  3.43s/it]"
     ]
    },
    {
     "name": "stdout",
     "output_type": "stream",
     "text": [
      "000901.SZ updated from 20210114 to 20210115\n",
      "Time cost : 2.0566911697387695s\n"
     ]
    },
    {
     "name": "stderr",
     "output_type": "stream",
     "text": [
      "\n",
      " 11%|█▏        | 243/2129 [18:44<1:34:52,  3.02s/it]"
     ]
    },
    {
     "name": "stdout",
     "output_type": "stream",
     "text": [
      "601678.SH updated from 20210114 to 20210115\n",
      "Time cost : 1.8767476081848145s\n"
     ]
    },
    {
     "name": "stderr",
     "output_type": "stream",
     "text": [
      "\n",
      " 11%|█▏        | 244/2129 [18:46<1:24:05,  2.68s/it]"
     ]
    },
    {
     "name": "stdout",
     "output_type": "stream",
     "text": [
      "601858.SH updated from 20210114 to 20210115\n",
      "Time cost : 2.330857515335083s\n"
     ]
    },
    {
     "name": "stderr",
     "output_type": "stream",
     "text": [
      "\n",
      " 12%|█▏        | 245/2129 [18:48<1:20:48,  2.57s/it]"
     ]
    },
    {
     "name": "stdout",
     "output_type": "stream",
     "text": [
      "300208.SZ updated from 20210114 to 20210115\n",
      "Time cost : 1.1638357639312744s\n"
     ]
    },
    {
     "name": "stderr",
     "output_type": "stream",
     "text": [
      "\n",
      " 12%|█▏        | 246/2129 [18:49<1:07:30,  2.15s/it]"
     ]
    },
    {
     "name": "stdout",
     "output_type": "stream",
     "text": [
      "600740.SH updated from 20210114 to 20210115\n",
      "Time cost : 5.828322172164917s\n"
     ]
    },
    {
     "name": "stderr",
     "output_type": "stream",
     "text": [
      "\n",
      " 12%|█▏        | 247/2129 [18:55<1:42:05,  3.26s/it]"
     ]
    },
    {
     "name": "stdout",
     "output_type": "stream",
     "text": [
      "300191.SZ updated from 20210114 to 20210115\n",
      "Time cost : 7.9137091636657715s\n"
     ]
    },
    {
     "name": "stderr",
     "output_type": "stream",
     "text": [
      "\n",
      " 12%|█▏        | 248/2129 [19:03<2:25:52,  4.65s/it]"
     ]
    },
    {
     "name": "stdout",
     "output_type": "stream",
     "text": [
      "000783.SZ updated from 20210114 to 20210115\n",
      "Time cost : 1.2169461250305176s\n"
     ]
    },
    {
     "name": "stderr",
     "output_type": "stream",
     "text": [
      "\n",
      " 12%|█▏        | 249/2129 [19:04<1:53:31,  3.62s/it]"
     ]
    },
    {
     "name": "stdout",
     "output_type": "stream",
     "text": [
      "300821.SZ updated from 20210114 to 20210115\n",
      "Time cost : 1.0881626605987549s\n"
     ]
    },
    {
     "name": "stderr",
     "output_type": "stream",
     "text": [
      "\n",
      " 12%|█▏        | 250/2129 [19:05<1:29:39,  2.86s/it]"
     ]
    },
    {
     "name": "stdout",
     "output_type": "stream",
     "text": [
      "300457.SZ updated from 20210114 to 20210115\n",
      "Time cost : 6.512697219848633s\n"
     ]
    },
    {
     "name": "stderr",
     "output_type": "stream",
     "text": [
      "\n",
      " 12%|█▏        | 251/2129 [19:12<2:03:53,  3.96s/it]"
     ]
    },
    {
     "name": "stdout",
     "output_type": "stream",
     "text": [
      "601872.SH updated from 20210114 to 20210115\n",
      "Time cost : 3.5884807109832764s\n"
     ]
    },
    {
     "name": "stderr",
     "output_type": "stream",
     "text": [
      "\n",
      " 12%|█▏        | 252/2129 [19:15<2:00:23,  3.85s/it]"
     ]
    },
    {
     "name": "stdout",
     "output_type": "stream",
     "text": [
      "688278.SH updated from 20210114 to 20210115\n",
      "Time cost : 2.3009350299835205s\n"
     ]
    },
    {
     "name": "stderr",
     "output_type": "stream",
     "text": [
      "\n",
      " 12%|█▏        | 253/2129 [19:18<1:45:49,  3.38s/it]"
     ]
    },
    {
     "name": "stdout",
     "output_type": "stream",
     "text": [
      "000686.SZ updated from 20210114 to 20210115\n",
      "Time cost : 1.1935579776763916s\n"
     ]
    },
    {
     "name": "stderr",
     "output_type": "stream",
     "text": [
      "\n",
      " 12%|█▏        | 254/2129 [19:19<1:25:15,  2.73s/it]"
     ]
    },
    {
     "name": "stdout",
     "output_type": "stream",
     "text": [
      "000893.SZ updated from 20210114 to 20210115\n",
      "Time cost : 2.18719220161438s\n"
     ]
    },
    {
     "name": "stderr",
     "output_type": "stream",
     "text": [
      "\n",
      " 12%|█▏        | 255/2129 [19:21<1:20:09,  2.57s/it]"
     ]
    },
    {
     "name": "stdout",
     "output_type": "stream",
     "text": [
      "000036.SZ updated from 20210114 to 20210115\n",
      "Time cost : 4.188657760620117s\n"
     ]
    },
    {
     "name": "stderr",
     "output_type": "stream",
     "text": [
      "\n",
      " 12%|█▏        | 256/2129 [19:25<1:35:19,  3.05s/it]"
     ]
    },
    {
     "name": "stdout",
     "output_type": "stream",
     "text": [
      "600872.SH updated from 20210114 to 20210115\n",
      "Time cost : 3.6961002349853516s\n"
     ]
    },
    {
     "name": "stderr",
     "output_type": "stream",
     "text": [
      "\n",
      " 12%|█▏        | 257/2129 [19:29<1:41:18,  3.25s/it]"
     ]
    },
    {
     "name": "stdout",
     "output_type": "stream",
     "text": [
      "688277.SH updated from 20210114 to 20210115\n",
      "Time cost : 10.201076030731201s\n"
     ]
    },
    {
     "name": "stderr",
     "output_type": "stream",
     "text": [
      "\n",
      " 12%|█▏        | 258/2129 [19:39<2:46:19,  5.33s/it]"
     ]
    },
    {
     "name": "stdout",
     "output_type": "stream",
     "text": [
      "600141.SH updated from 20210114 to 20210115\n",
      "Time cost : 10.106430768966675s\n"
     ]
    },
    {
     "name": "stderr",
     "output_type": "stream",
     "text": [
      "\n",
      " 12%|█▏        | 259/2129 [19:49<3:30:53,  6.77s/it]"
     ]
    },
    {
     "name": "stdout",
     "output_type": "stream",
     "text": [
      "300271.SZ updated from 20210114 to 20210115\n",
      "Time cost : 2.5733284950256348s\n"
     ]
    },
    {
     "name": "stderr",
     "output_type": "stream",
     "text": [
      "\n",
      " 12%|█▏        | 260/2129 [19:52<2:51:36,  5.51s/it]"
     ]
    },
    {
     "name": "stdout",
     "output_type": "stream",
     "text": [
      "600869.SH updated from 20210114 to 20210115\n",
      "Time cost : 7.313858270645142s\n"
     ]
    },
    {
     "name": "stderr",
     "output_type": "stream",
     "text": [
      "\n",
      " 12%|█▏        | 261/2129 [19:59<3:08:23,  6.05s/it]"
     ]
    },
    {
     "name": "stdout",
     "output_type": "stream",
     "text": [
      "300038.SZ updated from 20210114 to 20210115\n",
      "Time cost : 3.571788787841797s\n"
     ]
    },
    {
     "name": "stderr",
     "output_type": "stream",
     "text": [
      "\n",
      " 12%|█▏        | 262/2129 [20:03<2:45:09,  5.31s/it]"
     ]
    },
    {
     "name": "stdout",
     "output_type": "stream",
     "text": [
      "000600.SZ updated from 20210114 to 20210115\n",
      "Time cost : 2.2731072902679443s\n"
     ]
    },
    {
     "name": "stderr",
     "output_type": "stream",
     "text": [
      "\n",
      " 12%|█▏        | 263/2129 [20:05<2:16:46,  4.40s/it]"
     ]
    },
    {
     "name": "stdout",
     "output_type": "stream",
     "text": [
      "688006.SH updated from 20210114 to 20210115\n",
      "Time cost : 4.2178943157196045s\n"
     ]
    },
    {
     "name": "stderr",
     "output_type": "stream",
     "text": [
      "\n",
      " 12%|█▏        | 264/2129 [20:09<2:15:02,  4.34s/it]"
     ]
    },
    {
     "name": "stdout",
     "output_type": "stream",
     "text": [
      "601801.SH updated from 20210114 to 20210115\n",
      "Time cost : 11.915280103683472s\n"
     ]
    },
    {
     "name": "stderr",
     "output_type": "stream",
     "text": [
      "\n",
      " 12%|█▏        | 265/2129 [20:21<3:25:33,  6.62s/it]"
     ]
    },
    {
     "name": "stdout",
     "output_type": "stream",
     "text": [
      "002129.SZ updated from 20210114 to 20210115\n",
      "Time cost : 3.116628885269165s\n"
     ]
    },
    {
     "name": "stderr",
     "output_type": "stream",
     "text": [
      "\n",
      " 12%|█▏        | 266/2129 [20:24<2:52:51,  5.57s/it]"
     ]
    },
    {
     "name": "stdout",
     "output_type": "stream",
     "text": [
      "600572.SH updated from 20210114 to 20210115\n",
      "Time cost : 2.5691897869110107s\n"
     ]
    },
    {
     "name": "stderr",
     "output_type": "stream",
     "text": [
      "\n",
      " 13%|█▎        | 267/2129 [20:27<2:24:52,  4.67s/it]"
     ]
    },
    {
     "name": "stdout",
     "output_type": "stream",
     "text": [
      "603110.SH updated from 20210114 to 20210115\n",
      "Time cost : 5.86707878112793s\n"
     ]
    },
    {
     "name": "stderr",
     "output_type": "stream",
     "text": [
      "\n",
      " 13%|█▎        | 268/2129 [20:33<2:35:58,  5.03s/it]"
     ]
    },
    {
     "name": "stdout",
     "output_type": "stream",
     "text": [
      "603993.SH updated from 20210114 to 20210115\n",
      "Time cost : 1.8022780418395996s\n"
     ]
    },
    {
     "name": "stderr",
     "output_type": "stream",
     "text": [
      "\n",
      " 13%|█▎        | 269/2129 [20:34<2:05:54,  4.06s/it]"
     ]
    },
    {
     "name": "stdout",
     "output_type": "stream",
     "text": [
      "601598.SH updated from 20210114 to 20210115\n",
      "Time cost : 4.069292783737183s\n"
     ]
    },
    {
     "name": "stderr",
     "output_type": "stream",
     "text": [
      "\n",
      " 13%|█▎        | 270/2129 [20:39<2:05:55,  4.06s/it]"
     ]
    },
    {
     "name": "stdout",
     "output_type": "stream",
     "text": [
      "300598.SZ updated from 20210114 to 20210115\n",
      "Time cost : 5.228063344955444s\n"
     ]
    },
    {
     "name": "stderr",
     "output_type": "stream",
     "text": [
      "\n",
      " 13%|█▎        | 271/2129 [20:44<2:16:41,  4.41s/it]"
     ]
    },
    {
     "name": "stdout",
     "output_type": "stream",
     "text": [
      "601001.SH updated from 20210114 to 20210115\n",
      "Time cost : 4.9071736335754395s\n"
     ]
    },
    {
     "name": "stderr",
     "output_type": "stream",
     "text": [
      "\n",
      " 13%|█▎        | 272/2129 [20:49<2:21:13,  4.56s/it]"
     ]
    },
    {
     "name": "stdout",
     "output_type": "stream",
     "text": [
      "600776.SH updated from 20210114 to 20210115\n",
      "Time cost : 3.271454334259033s\n"
     ]
    },
    {
     "name": "stderr",
     "output_type": "stream",
     "text": [
      "\n",
      " 13%|█▎        | 273/2129 [20:52<2:09:10,  4.18s/it]"
     ]
    },
    {
     "name": "stdout",
     "output_type": "stream",
     "text": [
      "600155.SH updated from 20210114 to 20210115\n",
      "Time cost : 3.406465530395508s\n"
     ]
    },
    {
     "name": "stderr",
     "output_type": "stream",
     "text": [
      "\n",
      " 13%|█▎        | 274/2129 [20:55<2:01:59,  3.95s/it]"
     ]
    },
    {
     "name": "stdout",
     "output_type": "stream",
     "text": [
      "600110.SH updated from 20210114 to 20210115\n",
      "Time cost : 2.2646946907043457s\n"
     ]
    },
    {
     "name": "stderr",
     "output_type": "stream",
     "text": [
      "\n",
      " 13%|█▎        | 275/2129 [20:58<1:46:21,  3.44s/it]"
     ]
    },
    {
     "name": "stdout",
     "output_type": "stream",
     "text": [
      "300266.SZ updated from 20210114 to 20210115\n",
      "Time cost : 5.997403383255005s\n"
     ]
    },
    {
     "name": "stderr",
     "output_type": "stream",
     "text": [
      "\n",
      " 13%|█▎        | 276/2129 [21:04<2:10:00,  4.21s/it]"
     ]
    },
    {
     "name": "stdout",
     "output_type": "stream",
     "text": [
      "300027.SZ updated from 20210114 to 20210115\n",
      "Time cost : 5.6505045890808105s\n"
     ]
    },
    {
     "name": "stderr",
     "output_type": "stream",
     "text": [
      "\n",
      " 13%|█▎        | 277/2129 [21:09<2:23:17,  4.64s/it]"
     ]
    },
    {
     "name": "stdout",
     "output_type": "stream",
     "text": [
      "002701.SZ updated from 20210114 to 20210115\n",
      "Time cost : 1.551285982131958s\n"
     ]
    },
    {
     "name": "stderr",
     "output_type": "stream",
     "text": [
      "\n",
      " 13%|█▎        | 278/2129 [21:11<1:54:37,  3.72s/it]"
     ]
    },
    {
     "name": "stdout",
     "output_type": "stream",
     "text": [
      "600377.SH updated from 20210114 to 20210115\n",
      "Time cost : 5.605151414871216s\n"
     ]
    },
    {
     "name": "stderr",
     "output_type": "stream",
     "text": [
      "\n",
      " 13%|█▎        | 279/2129 [21:16<2:12:04,  4.28s/it]"
     ]
    },
    {
     "name": "stdout",
     "output_type": "stream",
     "text": [
      "000739.SZ updated from 20210114 to 20210115\n",
      "Time cost : 2.8685083389282227s\n"
     ]
    },
    {
     "name": "stderr",
     "output_type": "stream",
     "text": [
      "\n",
      " 13%|█▎        | 280/2129 [21:19<1:58:56,  3.86s/it]"
     ]
    },
    {
     "name": "stdout",
     "output_type": "stream",
     "text": [
      "002314.SZ updated from 20210114 to 20210115\n",
      "Time cost : 4.392214059829712s\n"
     ]
    },
    {
     "name": "stderr",
     "output_type": "stream",
     "text": [
      "\n",
      " 13%|█▎        | 281/2129 [21:24<2:03:49,  4.02s/it]"
     ]
    },
    {
     "name": "stdout",
     "output_type": "stream",
     "text": [
      "600329.SH updated from 20210114 to 20210115\n",
      "Time cost : 2.154003620147705s\n"
     ]
    },
    {
     "name": "stderr",
     "output_type": "stream",
     "text": [
      "\n",
      " 13%|█▎        | 282/2129 [21:26<1:46:32,  3.46s/it]"
     ]
    },
    {
     "name": "stdout",
     "output_type": "stream",
     "text": [
      "601696.SH updated from 20210114 to 20210115\n",
      "Time cost : 3.635035753250122s\n"
     ]
    },
    {
     "name": "stderr",
     "output_type": "stream",
     "text": [
      "\n",
      " 13%|█▎        | 283/2129 [21:29<1:48:06,  3.51s/it]"
     ]
    },
    {
     "name": "stdout",
     "output_type": "stream",
     "text": [
      "002582.SZ updated from 20210114 to 20210115\n",
      "Time cost : 2.8257815837860107s\n"
     ]
    },
    {
     "name": "stderr",
     "output_type": "stream",
     "text": [
      "\n",
      " 13%|█▎        | 284/2129 [21:32<1:41:43,  3.31s/it]"
     ]
    },
    {
     "name": "stdout",
     "output_type": "stream",
     "text": [
      "688510.SH updated from 20210114 to 20210115\n",
      "Time cost : 2.5643301010131836s\n"
     ]
    },
    {
     "name": "stderr",
     "output_type": "stream",
     "text": [
      "\n",
      " 13%|█▎        | 285/2129 [21:35<1:34:49,  3.09s/it]"
     ]
    },
    {
     "name": "stdout",
     "output_type": "stream",
     "text": [
      "603416.SH updated from 20210114 to 20210115\n",
      "Time cost : 3.202603816986084s\n"
     ]
    },
    {
     "name": "stderr",
     "output_type": "stream",
     "text": [
      "\n",
      " 13%|█▎        | 286/2129 [21:38<1:35:51,  3.12s/it]"
     ]
    },
    {
     "name": "stdout",
     "output_type": "stream",
     "text": [
      "000550.SZ updated from 20210114 to 20210115\n",
      "Time cost : 2.7455193996429443s\n"
     ]
    },
    {
     "name": "stderr",
     "output_type": "stream",
     "text": [
      "\n",
      " 13%|█▎        | 287/2129 [21:41<1:32:22,  3.01s/it]"
     ]
    },
    {
     "name": "stdout",
     "output_type": "stream",
     "text": [
      "300151.SZ updated from 20210114 to 20210115\n",
      "Time cost : 5.596129417419434s\n"
     ]
    },
    {
     "name": "stderr",
     "output_type": "stream",
     "text": [
      "\n",
      " 14%|█▎        | 288/2129 [21:46<1:56:10,  3.79s/it]"
     ]
    },
    {
     "name": "stdout",
     "output_type": "stream",
     "text": [
      "000726.SZ updated from 20210114 to 20210115\n",
      "Time cost : 1.2538065910339355s\n"
     ]
    },
    {
     "name": "stderr",
     "output_type": "stream",
     "text": [
      "\n",
      " 14%|█▎        | 289/2129 [21:48<1:32:49,  3.03s/it]"
     ]
    },
    {
     "name": "stdout",
     "output_type": "stream",
     "text": [
      "601326.SH updated from 20210114 to 20210115\n",
      "Time cost : 4.396362781524658s\n"
     ]
    },
    {
     "name": "stderr",
     "output_type": "stream",
     "text": [
      "\n",
      " 14%|█▎        | 290/2129 [21:52<1:45:23,  3.44s/it]"
     ]
    },
    {
     "name": "stdout",
     "output_type": "stream",
     "text": [
      "605007.SH updated from 20210114 to 20210115\n",
      "Time cost : 3.1211540699005127s\n"
     ]
    },
    {
     "name": "stderr",
     "output_type": "stream",
     "text": [
      "\n",
      " 14%|█▎        | 291/2129 [21:55<1:42:26,  3.34s/it]"
     ]
    },
    {
     "name": "stdout",
     "output_type": "stream",
     "text": [
      "002829.SZ updated from 20210114 to 20210115\n",
      "Time cost : 14.024322748184204s\n"
     ]
    },
    {
     "name": "stderr",
     "output_type": "stream",
     "text": [
      "\n",
      " 14%|█▎        | 292/2129 [22:09<3:20:30,  6.55s/it]"
     ]
    },
    {
     "name": "stdout",
     "output_type": "stream",
     "text": [
      "300229.SZ updated from 20210114 to 20210115\n",
      "Time cost : 5.983023166656494s\n"
     ]
    },
    {
     "name": "stderr",
     "output_type": "stream",
     "text": [
      "\n",
      " 14%|█▍        | 293/2129 [22:15<3:15:13,  6.38s/it]"
     ]
    },
    {
     "name": "stdout",
     "output_type": "stream",
     "text": [
      "300115.SZ updated from 20210114 to 20210115\n",
      "Time cost : 1.955991506576538s\n"
     ]
    },
    {
     "name": "stderr",
     "output_type": "stream",
     "text": [
      "\n",
      " 14%|█▍        | 294/2129 [22:17<2:34:32,  5.05s/it]"
     ]
    },
    {
     "name": "stdout",
     "output_type": "stream",
     "text": [
      "601336.SH updated from 20210114 to 20210115\n",
      "Time cost : 1.7177646160125732s\n"
     ]
    },
    {
     "name": "stderr",
     "output_type": "stream",
     "text": [
      "\n",
      " 14%|█▍        | 295/2129 [22:19<2:03:54,  4.05s/it]"
     ]
    },
    {
     "name": "stdout",
     "output_type": "stream",
     "text": [
      "600114.SH updated from 20210114 to 20210115\n",
      "Time cost : 2.645775556564331s\n"
     ]
    },
    {
     "name": "stderr",
     "output_type": "stream",
     "text": [
      "\n",
      " 14%|█▍        | 296/2129 [22:22<1:50:57,  3.63s/it]"
     ]
    },
    {
     "name": "stdout",
     "output_type": "stream",
     "text": [
      "600611.SH updated from 20210114 to 20210115\n",
      "Time cost : 5.686343193054199s\n"
     ]
    },
    {
     "name": "stderr",
     "output_type": "stream",
     "text": [
      "\n",
      " 14%|█▍        | 297/2129 [22:27<2:09:43,  4.25s/it]"
     ]
    },
    {
     "name": "stdout",
     "output_type": "stream",
     "text": [
      "002506.SZ updated from 20210114 to 20210115\n",
      "Time cost : 3.6402981281280518s\n"
     ]
    },
    {
     "name": "stderr",
     "output_type": "stream",
     "text": [
      "\n",
      " 14%|█▍        | 298/2129 [22:31<2:04:06,  4.07s/it]"
     ]
    },
    {
     "name": "stdout",
     "output_type": "stream",
     "text": [
      "601827.SH updated from 20210114 to 20210115\n",
      "Time cost : 1.8726990222930908s\n"
     ]
    },
    {
     "name": "stderr",
     "output_type": "stream",
     "text": [
      "\n",
      " 14%|█▍        | 299/2129 [22:33<1:43:58,  3.41s/it]"
     ]
    },
    {
     "name": "stdout",
     "output_type": "stream",
     "text": [
      "002807.SZ updated from 20210114 to 20210115\n",
      "Time cost : 3.858919382095337s\n"
     ]
    },
    {
     "name": "stderr",
     "output_type": "stream",
     "text": [
      "\n",
      " 14%|█▍        | 300/2129 [22:37<1:48:02,  3.54s/it]"
     ]
    },
    {
     "name": "stdout",
     "output_type": "stream",
     "text": [
      "688229.SH updated from 20210114 to 20210115\n",
      "Time cost : 2.9958245754241943s\n"
     ]
    },
    {
     "name": "stderr",
     "output_type": "stream",
     "text": [
      "\n",
      " 14%|█▍        | 301/2129 [22:40<1:42:59,  3.38s/it]"
     ]
    },
    {
     "name": "stdout",
     "output_type": "stream",
     "text": [
      "600271.SH updated from 20210114 to 20210115\n",
      "Time cost : 1.3144264221191406s\n"
     ]
    },
    {
     "name": "stderr",
     "output_type": "stream",
     "text": [
      "\n",
      " 14%|█▍        | 302/2129 [22:41<1:24:05,  2.76s/it]"
     ]
    },
    {
     "name": "stdout",
     "output_type": "stream",
     "text": [
      "002600.SZ updated from 20210114 to 20210115\n",
      "Time cost : 10.154798030853271s\n"
     ]
    },
    {
     "name": "stderr",
     "output_type": "stream",
     "text": [
      "\n",
      " 14%|█▍        | 303/2129 [22:51<2:31:33,  4.98s/it]"
     ]
    },
    {
     "name": "stdout",
     "output_type": "stream",
     "text": [
      "300724.SZ updated from 20210114 to 20210115\n",
      "Time cost : 2.071492910385132s\n"
     ]
    },
    {
     "name": "stderr",
     "output_type": "stream",
     "text": [
      "\n",
      " 14%|█▍        | 304/2129 [22:53<2:04:57,  4.11s/it]"
     ]
    },
    {
     "name": "stdout",
     "output_type": "stream",
     "text": [
      "300663.SZ updated from 20210114 to 20210115\n",
      "Time cost : 3.3849809169769287s\n"
     ]
    },
    {
     "name": "stderr",
     "output_type": "stream",
     "text": [
      "\n",
      " 14%|█▍        | 305/2129 [22:57<1:58:18,  3.89s/it]"
     ]
    },
    {
     "name": "stdout",
     "output_type": "stream",
     "text": [
      "002970.SZ updated from 20210114 to 20210115\n",
      "Time cost : 3.5935213565826416s\n"
     ]
    },
    {
     "name": "stderr",
     "output_type": "stream",
     "text": [
      "\n",
      " 14%|█▍        | 306/2129 [23:00<1:55:32,  3.80s/it]"
     ]
    },
    {
     "name": "stdout",
     "output_type": "stream",
     "text": [
      "600183.SH updated from 20210114 to 20210115\n",
      "Time cost : 5.343374013900757s\n"
     ]
    },
    {
     "name": "stderr",
     "output_type": "stream",
     "text": [
      "\n",
      " 14%|█▍        | 307/2129 [23:05<2:09:31,  4.27s/it]"
     ]
    },
    {
     "name": "stdout",
     "output_type": "stream",
     "text": [
      "002610.SZ updated from 20210114 to 20210115\n",
      "Time cost : 4.27180290222168s\n"
     ]
    },
    {
     "name": "stderr",
     "output_type": "stream",
     "text": [
      "\n",
      " 14%|█▍        | 308/2129 [23:10<2:09:32,  4.27s/it]"
     ]
    },
    {
     "name": "stdout",
     "output_type": "stream",
     "text": [
      "000429.SZ updated from 20210114 to 20210115\n",
      "Time cost : 3.912917137145996s\n"
     ]
    },
    {
     "name": "stderr",
     "output_type": "stream",
     "text": [
      "\n",
      " 15%|█▍        | 309/2129 [23:14<2:06:15,  4.16s/it]"
     ]
    },
    {
     "name": "stdout",
     "output_type": "stream",
     "text": [
      "601952.SH updated from 20210114 to 20210115\n",
      "Time cost : 2.6858201026916504s\n"
     ]
    },
    {
     "name": "stderr",
     "output_type": "stream",
     "text": [
      "\n",
      " 15%|█▍        | 310/2129 [23:16<1:52:47,  3.72s/it]"
     ]
    },
    {
     "name": "stdout",
     "output_type": "stream",
     "text": [
      "601515.SH updated from 20210114 to 20210115\n",
      "Time cost : 1.2716543674468994s\n"
     ]
    },
    {
     "name": "stderr",
     "output_type": "stream",
     "text": [
      "\n",
      " 15%|█▍        | 311/2129 [23:18<1:30:29,  2.99s/it]"
     ]
    },
    {
     "name": "stdout",
     "output_type": "stream",
     "text": [
      "002648.SZ updated from 20210114 to 20210115\n",
      "Time cost : 8.955936908721924s\n"
     ]
    },
    {
     "name": "stderr",
     "output_type": "stream",
     "text": [
      "\n",
      " 15%|█▍        | 312/2129 [23:27<2:24:41,  4.78s/it]"
     ]
    },
    {
     "name": "stdout",
     "output_type": "stream",
     "text": [
      "300705.SZ updated from 20210114 to 20210115\n",
      "Time cost : 2.995296001434326s\n"
     ]
    },
    {
     "name": "stderr",
     "output_type": "stream",
     "text": [
      "\n",
      " 15%|█▍        | 313/2129 [23:30<2:08:26,  4.24s/it]"
     ]
    },
    {
     "name": "stdout",
     "output_type": "stream",
     "text": [
      "603612.SH updated from 20210114 to 20210115\n",
      "Time cost : 2.8784656524658203s\n"
     ]
    },
    {
     "name": "stderr",
     "output_type": "stream",
     "text": [
      "\n",
      " 15%|█▍        | 314/2129 [23:32<1:55:59,  3.83s/it]"
     ]
    },
    {
     "name": "stdout",
     "output_type": "stream",
     "text": [
      "002545.SZ updated from 20210114 to 20210115\n",
      "Time cost : 5.924551963806152s\n"
     ]
    },
    {
     "name": "stderr",
     "output_type": "stream",
     "text": [
      "\n",
      " 15%|█▍        | 315/2129 [23:38<2:14:54,  4.46s/it]"
     ]
    },
    {
     "name": "stdout",
     "output_type": "stream",
     "text": [
      "002038.SZ updated from 20210114 to 20210115\n",
      "Time cost : 2.043604612350464s\n"
     ]
    },
    {
     "name": "stderr",
     "output_type": "stream",
     "text": [
      "\n",
      " 15%|█▍        | 316/2129 [23:40<1:52:55,  3.74s/it]"
     ]
    },
    {
     "name": "stdout",
     "output_type": "stream",
     "text": [
      "000158.SZ updated from 20210114 to 20210115\n",
      "Time cost : 1.9920969009399414s\n"
     ]
    },
    {
     "name": "stderr",
     "output_type": "stream",
     "text": [
      "\n",
      " 15%|█▍        | 317/2129 [23:42<1:37:04,  3.21s/it]"
     ]
    },
    {
     "name": "stdout",
     "output_type": "stream",
     "text": [
      "300223.SZ updated from 20210114 to 20210115\n",
      "Time cost : 3.3256077766418457s\n"
     ]
    },
    {
     "name": "stderr",
     "output_type": "stream",
     "text": [
      "\n",
      " 15%|█▍        | 318/2129 [23:46<1:38:03,  3.25s/it]"
     ]
    },
    {
     "name": "stdout",
     "output_type": "stream",
     "text": [
      "603876.SH updated from 20210114 to 20210115\n",
      "Time cost : 3.280200719833374s\n"
     ]
    },
    {
     "name": "stderr",
     "output_type": "stream",
     "text": [
      "\n",
      " 15%|█▍        | 319/2129 [23:49<1:38:18,  3.26s/it]"
     ]
    },
    {
     "name": "stdout",
     "output_type": "stream",
     "text": [
      "600779.SH updated from 20210114 to 20210115\n",
      "Time cost : 5.356241941452026s\n"
     ]
    },
    {
     "name": "stderr",
     "output_type": "stream",
     "text": [
      "\n",
      " 15%|█▌        | 320/2129 [23:54<1:57:14,  3.89s/it]"
     ]
    },
    {
     "name": "stdout",
     "output_type": "stream",
     "text": [
      "601456.SH updated from 20210114 to 20210115\n",
      "Time cost : 9.435978174209595s\n"
     ]
    },
    {
     "name": "stderr",
     "output_type": "stream",
     "text": [
      "\n",
      " 15%|█▌        | 321/2129 [24:04<2:47:21,  5.55s/it]"
     ]
    },
    {
     "name": "stdout",
     "output_type": "stream",
     "text": [
      "002664.SZ updated from 20210114 to 20210115\n",
      "Time cost : 2.82503604888916s\n"
     ]
    },
    {
     "name": "stderr",
     "output_type": "stream",
     "text": [
      "\n",
      " 15%|█▌        | 322/2129 [24:07<2:22:37,  4.74s/it]"
     ]
    },
    {
     "name": "stdout",
     "output_type": "stream",
     "text": [
      "000517.SZ updated from 20210114 to 20210115\n",
      "Time cost : 2.9233171939849854s\n"
     ]
    },
    {
     "name": "stderr",
     "output_type": "stream",
     "text": [
      "\n",
      " 15%|█▌        | 323/2129 [24:10<2:06:12,  4.19s/it]"
     ]
    },
    {
     "name": "stdout",
     "output_type": "stream",
     "text": [
      "601011.SH updated from 20210114 to 20210115\n",
      "Time cost : 2.593224048614502s\n"
     ]
    },
    {
     "name": "stderr",
     "output_type": "stream",
     "text": [
      "\n",
      " 15%|█▌        | 324/2129 [24:12<1:51:43,  3.71s/it]"
     ]
    },
    {
     "name": "stdout",
     "output_type": "stream",
     "text": [
      "600185.SH updated from 20210114 to 20210115\n",
      "Time cost : 4.237411737442017s\n"
     ]
    },
    {
     "name": "stderr",
     "output_type": "stream",
     "text": [
      "\n",
      " 15%|█▌        | 325/2129 [24:16<1:56:24,  3.87s/it]"
     ]
    },
    {
     "name": "stdout",
     "output_type": "stream",
     "text": [
      "600751.SH updated from 20210114 to 20210115\n",
      "Time cost : 3.059814929962158s\n"
     ]
    },
    {
     "name": "stderr",
     "output_type": "stream",
     "text": [
      "\n",
      " 15%|█▌        | 326/2129 [24:19<1:49:02,  3.63s/it]"
     ]
    },
    {
     "name": "stdout",
     "output_type": "stream",
     "text": [
      "688519.SH updated from 20210114 to 20210115\n",
      "Time cost : 14.870827913284302s\n"
     ]
    },
    {
     "name": "stderr",
     "output_type": "stream",
     "text": [
      "\n",
      " 15%|█▌        | 327/2129 [24:34<3:30:17,  7.00s/it]"
     ]
    },
    {
     "name": "stdout",
     "output_type": "stream",
     "text": [
      "600798.SH updated from 20210114 to 20210115\n",
      "Time cost : 2.3030641078948975s\n"
     ]
    },
    {
     "name": "stderr",
     "output_type": "stream",
     "text": [
      "\n",
      " 15%|█▌        | 328/2129 [24:37<2:47:52,  5.59s/it]"
     ]
    },
    {
     "name": "stdout",
     "output_type": "stream",
     "text": [
      "002465.SZ updated from 20210114 to 20210115\n",
      "Time cost : 6.043682813644409s\n"
     ]
    },
    {
     "name": "stderr",
     "output_type": "stream",
     "text": [
      "\n",
      " 15%|█▌        | 329/2129 [24:43<2:51:51,  5.73s/it]"
     ]
    },
    {
     "name": "stdout",
     "output_type": "stream",
     "text": [
      "300068.SZ updated from 20210114 to 20210115\n",
      "Time cost : 2.376707077026367s\n"
     ]
    },
    {
     "name": "stderr",
     "output_type": "stream",
     "text": [
      "\n",
      " 16%|█▌        | 330/2129 [24:45<2:21:38,  4.72s/it]"
     ]
    },
    {
     "name": "stdout",
     "output_type": "stream",
     "text": [
      "600007.SH updated from 20210114 to 20210115\n",
      "Time cost : 1.7374179363250732s\n"
     ]
    },
    {
     "name": "stderr",
     "output_type": "stream",
     "text": [
      "\n",
      " 16%|█▌        | 331/2129 [24:47<1:54:43,  3.83s/it]"
     ]
    },
    {
     "name": "stdout",
     "output_type": "stream",
     "text": [
      "300552.SZ updated from 20210114 to 20210115\n",
      "Time cost : 1.2307264804840088s\n"
     ]
    },
    {
     "name": "stderr",
     "output_type": "stream",
     "text": [
      "\n",
      " 16%|█▌        | 332/2129 [24:48<1:31:20,  3.05s/it]"
     ]
    },
    {
     "name": "stdout",
     "output_type": "stream",
     "text": [
      "601369.SH updated from 20210114 to 20210115\n",
      "Time cost : 6.993571519851685s\n"
     ]
    },
    {
     "name": "stderr",
     "output_type": "stream",
     "text": [
      "\n",
      " 16%|█▌        | 333/2129 [24:55<2:06:43,  4.23s/it]"
     ]
    },
    {
     "name": "stdout",
     "output_type": "stream",
     "text": [
      "002518.SZ updated from 20210114 to 20210115\n",
      "Time cost : 1.981724739074707s\n"
     ]
    },
    {
     "name": "stderr",
     "output_type": "stream",
     "text": [
      "\n",
      " 16%|█▌        | 334/2129 [24:57<1:46:27,  3.56s/it]"
     ]
    },
    {
     "name": "stdout",
     "output_type": "stream",
     "text": [
      "002913.SZ updated from 20210114 to 20210115\n",
      "Time cost : 4.7703423500061035s\n"
     ]
    },
    {
     "name": "stderr",
     "output_type": "stream",
     "text": [
      "\n",
      " 16%|█▌        | 335/2129 [25:02<1:57:17,  3.92s/it]"
     ]
    },
    {
     "name": "stdout",
     "output_type": "stream",
     "text": [
      "600956.SH updated from 20210114 to 20210115\n",
      "Time cost : 5.07347297668457s\n"
     ]
    },
    {
     "name": "stderr",
     "output_type": "stream",
     "text": [
      "\n",
      " 16%|█▌        | 336/2129 [25:07<2:07:33,  4.27s/it]"
     ]
    },
    {
     "name": "stdout",
     "output_type": "stream",
     "text": [
      "601818.SH updated from 20210114 to 20210115\n",
      "Time cost : 2.5642197132110596s\n"
     ]
    },
    {
     "name": "stderr",
     "output_type": "stream",
     "text": [
      "\n",
      " 16%|█▌        | 337/2129 [25:09<1:52:14,  3.76s/it]"
     ]
    },
    {
     "name": "stdout",
     "output_type": "stream",
     "text": [
      "600926.SH updated from 20210114 to 20210115\n",
      "Time cost : 3.8776330947875977s\n"
     ]
    },
    {
     "name": "stderr",
     "output_type": "stream",
     "text": [
      "\n",
      " 16%|█▌        | 338/2129 [25:13<1:53:16,  3.79s/it]"
     ]
    },
    {
     "name": "stdout",
     "output_type": "stream",
     "text": [
      "600841.SH updated from 20210114 to 20210115\n",
      "Time cost : 1.362419843673706s\n"
     ]
    },
    {
     "name": "stderr",
     "output_type": "stream",
     "text": [
      "\n",
      " 16%|█▌        | 339/2129 [25:15<1:31:27,  3.07s/it]"
     ]
    },
    {
     "name": "stdout",
     "output_type": "stream",
     "text": [
      "300634.SZ updated from 20210114 to 20210115\n",
      "Time cost : 2.5382399559020996s\n"
     ]
    },
    {
     "name": "stderr",
     "output_type": "stream",
     "text": [
      "\n",
      " 16%|█▌        | 340/2129 [25:17<1:26:43,  2.91s/it]"
     ]
    },
    {
     "name": "stdout",
     "output_type": "stream",
     "text": [
      "000708.SZ updated from 20210114 to 20210115\n",
      "Time cost : 2.114417791366577s\n"
     ]
    },
    {
     "name": "stderr",
     "output_type": "stream",
     "text": [
      "\n",
      " 16%|█▌        | 341/2129 [25:19<1:19:36,  2.67s/it]"
     ]
    },
    {
     "name": "stdout",
     "output_type": "stream",
     "text": [
      "688017.SH updated from 20210114 to 20210115\n",
      "Time cost : 3.75207781791687s\n"
     ]
    },
    {
     "name": "stderr",
     "output_type": "stream",
     "text": [
      "\n",
      " 16%|█▌        | 342/2129 [25:23<1:29:13,  3.00s/it]"
     ]
    },
    {
     "name": "stdout",
     "output_type": "stream",
     "text": [
      "002626.SZ updated from 20210114 to 20210115\n",
      "Time cost : 3.374973773956299s\n"
     ]
    },
    {
     "name": "stderr",
     "output_type": "stream",
     "text": [
      "\n",
      " 16%|█▌        | 343/2129 [25:26<1:32:35,  3.11s/it]"
     ]
    },
    {
     "name": "stdout",
     "output_type": "stream",
     "text": [
      "600816.SH updated from 20210114 to 20210115\n",
      "Time cost : 1.8630576133728027s\n"
     ]
    },
    {
     "name": "stderr",
     "output_type": "stream",
     "text": [
      "\n",
      " 16%|█▌        | 344/2129 [25:28<1:21:25,  2.74s/it]"
     ]
    },
    {
     "name": "stdout",
     "output_type": "stream",
     "text": [
      "603680.SH updated from 20210114 to 20210115\n",
      "Time cost : 8.727954864501953s\n"
     ]
    },
    {
     "name": "stderr",
     "output_type": "stream",
     "text": [
      "\n",
      " 16%|█▌        | 345/2129 [25:37<2:14:50,  4.54s/it]"
     ]
    },
    {
     "name": "stdout",
     "output_type": "stream",
     "text": [
      "603530.SH updated from 20210114 to 20210115\n",
      "Time cost : 3.311187744140625s\n"
     ]
    },
    {
     "name": "stderr",
     "output_type": "stream",
     "text": [
      "\n",
      " 16%|█▋        | 346/2129 [25:40<2:03:52,  4.17s/it]"
     ]
    },
    {
     "name": "stdout",
     "output_type": "stream",
     "text": [
      "603833.SH updated from 20210114 to 20210115\n",
      "Time cost : 8.309976816177368s\n"
     ]
    },
    {
     "name": "stderr",
     "output_type": "stream",
     "text": [
      "\n",
      " 16%|█▋        | 347/2129 [25:49<2:40:44,  5.41s/it]"
     ]
    },
    {
     "name": "stdout",
     "output_type": "stream",
     "text": [
      "600545.SH updated from 20210114 to 20210115\n",
      "Time cost : 2.0047473907470703s\n"
     ]
    },
    {
     "name": "stderr",
     "output_type": "stream",
     "text": [
      "\n",
      " 16%|█▋        | 348/2129 [25:51<2:10:19,  4.39s/it]"
     ]
    },
    {
     "name": "stdout",
     "output_type": "stream",
     "text": [
      "000566.SZ updated from 20210114 to 20210115\n",
      "Time cost : 3.2483503818511963s\n"
     ]
    },
    {
     "name": "stderr",
     "output_type": "stream",
     "text": [
      "\n",
      " 16%|█▋        | 349/2129 [25:54<2:00:06,  4.05s/it]"
     ]
    },
    {
     "name": "stdout",
     "output_type": "stream",
     "text": [
      "601225.SH updated from 20210114 to 20210115\n",
      "Time cost : 2.105372190475464s\n"
     ]
    },
    {
     "name": "stderr",
     "output_type": "stream",
     "text": [
      "\n",
      " 16%|█▋        | 350/2129 [25:56<1:42:46,  3.47s/it]"
     ]
    },
    {
     "name": "stdout",
     "output_type": "stream",
     "text": [
      "601615.SH updated from 20210114 to 20210115\n",
      "Time cost : 5.953208923339844s\n"
     ]
    },
    {
     "name": "stderr",
     "output_type": "stream",
     "text": [
      "\n",
      " 16%|█▋        | 351/2129 [26:02<2:04:50,  4.21s/it]"
     ]
    },
    {
     "name": "stdout",
     "output_type": "stream",
     "text": [
      "000727.SZ updated from 20210114 to 20210115\n",
      "Time cost : 3.6662917137145996s\n"
     ]
    },
    {
     "name": "stderr",
     "output_type": "stream",
     "text": [
      "\n",
      " 17%|█▋        | 352/2129 [26:06<1:59:56,  4.05s/it]"
     ]
    },
    {
     "name": "stdout",
     "output_type": "stream",
     "text": [
      "002285.SZ updated from 20210114 to 20210115\n",
      "Time cost : 2.983036518096924s\n"
     ]
    },
    {
     "name": "stderr",
     "output_type": "stream",
     "text": [
      "\n",
      " 17%|█▋        | 353/2129 [26:09<1:50:24,  3.73s/it]"
     ]
    },
    {
     "name": "stdout",
     "output_type": "stream",
     "text": [
      "300035.SZ updated from 20210114 to 20210115\n",
      "Time cost : 1.892967700958252s\n"
     ]
    },
    {
     "name": "stderr",
     "output_type": "stream",
     "text": [
      "\n",
      " 17%|█▋        | 354/2129 [26:11<1:34:03,  3.18s/it]"
     ]
    },
    {
     "name": "stdout",
     "output_type": "stream",
     "text": [
      "688128.SH updated from 20210114 to 20210115\n",
      "Time cost : 4.247739315032959s\n"
     ]
    },
    {
     "name": "stderr",
     "output_type": "stream",
     "text": [
      "\n",
      " 17%|█▋        | 355/2129 [26:15<1:43:30,  3.50s/it]"
     ]
    },
    {
     "name": "stdout",
     "output_type": "stream",
     "text": [
      "603890.SH updated from 20210114 to 20210115\n",
      "Time cost : 3.6164774894714355s\n"
     ]
    },
    {
     "name": "stderr",
     "output_type": "stream",
     "text": [
      "\n",
      " 17%|█▋        | 356/2129 [26:18<1:44:29,  3.54s/it]"
     ]
    },
    {
     "name": "stdout",
     "output_type": "stream",
     "text": [
      "688202.SH updated from 20210114 to 20210115\n",
      "Time cost : 1.258699893951416s\n"
     ]
    },
    {
     "name": "stderr",
     "output_type": "stream",
     "text": [
      "\n",
      " 17%|█▋        | 357/2129 [26:20<1:24:16,  2.85s/it]"
     ]
    },
    {
     "name": "stdout",
     "output_type": "stream",
     "text": [
      "002007.SZ updated from 20210114 to 20210115\n",
      "Time cost : 1.1758906841278076s\n"
     ]
    },
    {
     "name": "stderr",
     "output_type": "stream",
     "text": [
      "\n",
      " 17%|█▋        | 358/2129 [26:21<1:09:23,  2.35s/it]"
     ]
    },
    {
     "name": "stdout",
     "output_type": "stream",
     "text": [
      "300072.SZ updated from 20210114 to 20210115\n",
      "Time cost : 1.3483943939208984s\n"
     ]
    },
    {
     "name": "stderr",
     "output_type": "stream",
     "text": [
      "\n",
      " 17%|█▋        | 359/2129 [26:22<1:00:30,  2.05s/it]"
     ]
    },
    {
     "name": "stdout",
     "output_type": "stream",
     "text": [
      "000825.SZ updated from 20210114 to 20210115\n",
      "Time cost : 3.9345409870147705s\n"
     ]
    },
    {
     "name": "stderr",
     "output_type": "stream",
     "text": [
      "\n",
      " 17%|█▋        | 360/2129 [26:26<1:17:08,  2.62s/it]"
     ]
    },
    {
     "name": "stdout",
     "output_type": "stream",
     "text": [
      "605179.SH updated from 20210114 to 20210115\n",
      "Time cost : 3.1686415672302246s\n"
     ]
    },
    {
     "name": "stderr",
     "output_type": "stream",
     "text": [
      "\n",
      " 17%|█▋        | 361/2129 [26:29<1:22:00,  2.78s/it]"
     ]
    },
    {
     "name": "stdout",
     "output_type": "stream",
     "text": [
      "600089.SH updated from 20210114 to 20210115\n",
      "Time cost : 4.184818983078003s\n"
     ]
    },
    {
     "name": "stderr",
     "output_type": "stream",
     "text": [
      "\n",
      " 17%|█▋        | 362/2129 [26:34<1:34:22,  3.20s/it]"
     ]
    },
    {
     "name": "stdout",
     "output_type": "stream",
     "text": [
      "300607.SZ updated from 20210114 to 20210115\n",
      "Time cost : 1.8151957988739014s\n"
     ]
    },
    {
     "name": "stderr",
     "output_type": "stream",
     "text": [
      "\n",
      " 17%|█▋        | 363/2129 [26:35<1:22:04,  2.79s/it]"
     ]
    },
    {
     "name": "stdout",
     "output_type": "stream",
     "text": [
      "601998.SH updated from 20210114 to 20210115\n",
      "Time cost : 2.397670269012451s\n"
     ]
    },
    {
     "name": "stderr",
     "output_type": "stream",
     "text": [
      "\n",
      " 17%|█▋        | 364/2129 [26:38<1:18:35,  2.67s/it]"
     ]
    },
    {
     "name": "stdout",
     "output_type": "stream",
     "text": [
      "002690.SZ updated from 20210114 to 20210115\n",
      "Time cost : 1.1858301162719727s\n"
     ]
    },
    {
     "name": "stderr",
     "output_type": "stream",
     "text": [
      "\n",
      " 17%|█▋        | 365/2129 [26:39<1:05:28,  2.23s/it]"
     ]
    },
    {
     "name": "stdout",
     "output_type": "stream",
     "text": [
      "300037.SZ updated from 20210114 to 20210115\n",
      "Time cost : 13.023371934890747s\n"
     ]
    },
    {
     "name": "stderr",
     "output_type": "stream",
     "text": [
      "\n",
      " 17%|█▋        | 366/2129 [26:52<2:40:37,  5.47s/it]"
     ]
    },
    {
     "name": "stdout",
     "output_type": "stream",
     "text": [
      "300674.SZ updated from 20210114 to 20210115\n",
      "Time cost : 3.501645803451538s\n"
     ]
    },
    {
     "name": "stderr",
     "output_type": "stream",
     "text": [
      "\n",
      " 17%|█▋        | 367/2129 [26:55<2:23:14,  4.88s/it]"
     ]
    },
    {
     "name": "stdout",
     "output_type": "stream",
     "text": [
      "000581.SZ updated from 20210114 to 20210115\n",
      "Time cost : 2.205244541168213s\n"
     ]
    },
    {
     "name": "stderr",
     "output_type": "stream",
     "text": [
      "\n",
      " 17%|█▋        | 368/2129 [26:58<1:59:39,  4.08s/it]"
     ]
    },
    {
     "name": "stdout",
     "output_type": "stream",
     "text": [
      "603906.SH updated from 20210114 to 20210115\n",
      "Time cost : 2.6001386642456055s\n"
     ]
    },
    {
     "name": "stderr",
     "output_type": "stream",
     "text": [
      "\n",
      " 17%|█▋        | 369/2129 [27:00<1:46:36,  3.63s/it]"
     ]
    },
    {
     "name": "stdout",
     "output_type": "stream",
     "text": [
      "000918.SZ updated from 20210114 to 20210115\n",
      "Time cost : 7.655848979949951s\n"
     ]
    },
    {
     "name": "stderr",
     "output_type": "stream",
     "text": [
      "\n",
      " 17%|█▋        | 370/2129 [27:08<2:21:55,  4.84s/it]"
     ]
    },
    {
     "name": "stdout",
     "output_type": "stream",
     "text": [
      "300124.SZ updated from 20210114 to 20210115\n",
      "Time cost : 1.768275260925293s\n"
     ]
    },
    {
     "name": "stderr",
     "output_type": "stream",
     "text": [
      "\n",
      " 17%|█▋        | 371/2129 [27:10<1:54:51,  3.92s/it]"
     ]
    },
    {
     "name": "stdout",
     "output_type": "stream",
     "text": [
      "603693.SH updated from 20210114 to 20210115\n",
      "Time cost : 1.9617938995361328s\n"
     ]
    },
    {
     "name": "stderr",
     "output_type": "stream",
     "text": [
      "\n",
      " 17%|█▋        | 372/2129 [27:12<1:37:36,  3.33s/it]"
     ]
    },
    {
     "name": "stdout",
     "output_type": "stream",
     "text": [
      "600418.SH updated from 20210114 to 20210115\n",
      "Time cost : 1.2107641696929932s\n"
     ]
    },
    {
     "name": "stderr",
     "output_type": "stream",
     "text": [
      "\n",
      " 18%|█▊        | 373/2129 [27:13<1:18:56,  2.70s/it]"
     ]
    },
    {
     "name": "stdout",
     "output_type": "stream",
     "text": [
      "600557.SH updated from 20210114 to 20210115\n",
      "Time cost : 3.8527069091796875s\n"
     ]
    },
    {
     "name": "stderr",
     "output_type": "stream",
     "text": [
      "\n",
      " 18%|█▊        | 374/2129 [27:17<1:29:02,  3.04s/it]"
     ]
    },
    {
     "name": "stdout",
     "output_type": "stream",
     "text": [
      "002884.SZ updated from 20210114 to 20210115\n",
      "Time cost : 2.805650234222412s\n"
     ]
    },
    {
     "name": "stderr",
     "output_type": "stream",
     "text": [
      "\n",
      " 18%|█▊        | 375/2129 [27:20<1:26:55,  2.97s/it]"
     ]
    },
    {
     "name": "stdout",
     "output_type": "stream",
     "text": [
      "603678.SH updated from 20210114 to 20210115\n",
      "Time cost : 17.20336890220642s\n"
     ]
    },
    {
     "name": "stderr",
     "output_type": "stream",
     "text": [
      "\n",
      " 18%|█▊        | 376/2129 [27:37<3:31:36,  7.24s/it]"
     ]
    },
    {
     "name": "stdout",
     "output_type": "stream",
     "text": [
      "600383.SH updated from 20210114 to 20210115\n",
      "Time cost : 2.763655185699463s\n"
     ]
    },
    {
     "name": "stderr",
     "output_type": "stream",
     "text": [
      "\n",
      " 18%|█▊        | 377/2129 [27:40<2:52:16,  5.90s/it]"
     ]
    },
    {
     "name": "stdout",
     "output_type": "stream",
     "text": [
      "300303.SZ updated from 20210114 to 20210115\n",
      "Time cost : 5.921374797821045s\n"
     ]
    },
    {
     "name": "stderr",
     "output_type": "stream",
     "text": [
      "\n",
      " 18%|█▊        | 378/2129 [27:45<2:52:23,  5.91s/it]"
     ]
    },
    {
     "name": "stdout",
     "output_type": "stream",
     "text": [
      "000863.SZ updated from 20210114 to 20210115\n",
      "Time cost : 1.8620221614837646s\n"
     ]
    },
    {
     "name": "stderr",
     "output_type": "stream",
     "text": [
      "\n",
      " 18%|█▊        | 379/2129 [27:47<2:16:54,  4.69s/it]"
     ]
    },
    {
     "name": "stdout",
     "output_type": "stream",
     "text": [
      "000728.SZ updated from 20210114 to 20210115\n",
      "Time cost : 4.83620810508728s\n"
     ]
    },
    {
     "name": "stderr",
     "output_type": "stream",
     "text": [
      "\n",
      " 18%|█▊        | 380/2129 [27:52<2:18:06,  4.74s/it]"
     ]
    },
    {
     "name": "stdout",
     "output_type": "stream",
     "text": [
      "002738.SZ updated from 20210114 to 20210115\n",
      "Time cost : 5.118388652801514s\n"
     ]
    },
    {
     "name": "stderr",
     "output_type": "stream",
     "text": [
      "\n",
      " 18%|█▊        | 381/2129 [27:57<2:21:22,  4.85s/it]"
     ]
    },
    {
     "name": "stdout",
     "output_type": "stream",
     "text": [
      "000989.SZ updated from 20210114 to 20210115\n",
      "Time cost : 2.2902305126190186s\n"
     ]
    },
    {
     "name": "stderr",
     "output_type": "stream",
     "text": [
      "\n",
      " 18%|█▊        | 382/2129 [28:00<1:58:55,  4.08s/it]"
     ]
    },
    {
     "name": "stdout",
     "output_type": "stream",
     "text": [
      "601179.SH updated from 20210114 to 20210115\n",
      "Time cost : 2.1582584381103516s\n"
     ]
    },
    {
     "name": "stderr",
     "output_type": "stream",
     "text": [
      "\n",
      " 18%|█▊        | 383/2129 [28:02<1:42:04,  3.51s/it]"
     ]
    },
    {
     "name": "stdout",
     "output_type": "stream",
     "text": [
      "300567.SZ updated from 20210114 to 20210115\n",
      "Time cost : 3.732692003250122s\n"
     ]
    },
    {
     "name": "stderr",
     "output_type": "stream",
     "text": [
      "\n",
      " 18%|█▊        | 384/2129 [28:05<1:43:59,  3.58s/it]"
     ]
    },
    {
     "name": "stdout",
     "output_type": "stream",
     "text": [
      "002194.SZ updated from 20210114 to 20210115\n",
      "Time cost : 1.7833342552185059s\n"
     ]
    },
    {
     "name": "stderr",
     "output_type": "stream",
     "text": [
      "\n",
      " 18%|█▊        | 385/2129 [28:07<1:28:19,  3.04s/it]"
     ]
    },
    {
     "name": "stdout",
     "output_type": "stream",
     "text": [
      "600795.SH updated from 20210114 to 20210115\n",
      "Time cost : 9.780983448028564s\n"
     ]
    },
    {
     "name": "stderr",
     "output_type": "stream",
     "text": [
      "\n",
      " 18%|█▊        | 386/2129 [28:17<2:27:03,  5.06s/it]"
     ]
    },
    {
     "name": "stdout",
     "output_type": "stream",
     "text": [
      "001696.SZ updated from 20210114 to 20210115\n",
      "Time cost : 5.150532245635986s\n"
     ]
    },
    {
     "name": "stderr",
     "output_type": "stream",
     "text": [
      "\n",
      " 18%|█▊        | 387/2129 [28:22<2:27:45,  5.09s/it]"
     ]
    },
    {
     "name": "stdout",
     "output_type": "stream",
     "text": [
      "603039.SH updated from 20210114 to 20210115\n",
      "Time cost : 3.5166690349578857s\n"
     ]
    },
    {
     "name": "stderr",
     "output_type": "stream",
     "text": [
      "\n",
      " 18%|█▊        | 388/2129 [28:26<2:14:00,  4.62s/it]"
     ]
    },
    {
     "name": "stdout",
     "output_type": "stream",
     "text": [
      "601929.SH updated from 20210114 to 20210115\n",
      "Time cost : 23.164884328842163s\n"
     ]
    },
    {
     "name": "stderr",
     "output_type": "stream",
     "text": [
      "\n",
      " 18%|█▊        | 389/2129 [28:49<4:55:17, 10.18s/it]"
     ]
    },
    {
     "name": "stdout",
     "output_type": "stream",
     "text": [
      "002185.SZ updated from 20210114 to 20210115\n",
      "Time cost : 1.772292137145996s\n"
     ]
    },
    {
     "name": "stderr",
     "output_type": "stream",
     "text": [
      "\n",
      " 18%|█▊        | 390/2129 [28:51<3:42:01,  7.66s/it]"
     ]
    },
    {
     "name": "stdout",
     "output_type": "stream",
     "text": [
      "600161.SH updated from 20210114 to 20210115\n",
      "Time cost : 17.342299222946167s\n"
     ]
    },
    {
     "name": "stderr",
     "output_type": "stream",
     "text": [
      "\n",
      " 18%|█▊        | 391/2129 [29:08<5:06:03, 10.57s/it]"
     ]
    },
    {
     "name": "stdout",
     "output_type": "stream",
     "text": [
      "603960.SH updated from 20210114 to 20210115\n",
      "Time cost : 2.5213658809661865s\n"
     ]
    },
    {
     "name": "stderr",
     "output_type": "stream",
     "text": [
      "\n",
      " 18%|█▊        | 392/2129 [29:11<3:56:01,  8.15s/it]"
     ]
    },
    {
     "name": "stdout",
     "output_type": "stream",
     "text": [
      "600068.SH updated from 20210114 to 20210115\n",
      "Time cost : 10.127097129821777s\n"
     ]
    },
    {
     "name": "stderr",
     "output_type": "stream",
     "text": [
      "\n",
      " 18%|█▊        | 393/2129 [29:21<4:13:02,  8.75s/it]"
     ]
    },
    {
     "name": "stdout",
     "output_type": "stream",
     "text": [
      "600584.SH updated from 20210114 to 20210115\n",
      "Time cost : 2.5711684226989746s\n"
     ]
    },
    {
     "name": "stderr",
     "output_type": "stream",
     "text": [
      "\n",
      " 19%|█▊        | 394/2129 [29:23<3:19:21,  6.89s/it]"
     ]
    },
    {
     "name": "stdout",
     "output_type": "stream",
     "text": [
      "603256.SH updated from 20210114 to 20210115\n",
      "Time cost : 1.2007908821105957s\n"
     ]
    },
    {
     "name": "stderr",
     "output_type": "stream",
     "text": [
      "\n",
      " 19%|█▊        | 395/2129 [29:24<2:29:54,  5.19s/it]"
     ]
    },
    {
     "name": "stdout",
     "output_type": "stream",
     "text": [
      "600316.SH updated from 20210114 to 20210115\n",
      "Time cost : 2.9880964756011963s\n"
     ]
    },
    {
     "name": "stderr",
     "output_type": "stream",
     "text": [
      "\n",
      " 19%|█▊        | 396/2129 [29:27<2:10:46,  4.53s/it]"
     ]
    },
    {
     "name": "stdout",
     "output_type": "stream",
     "text": [
      "300502.SZ updated from 20210114 to 20210115\n",
      "Time cost : 5.2360968589782715s\n"
     ]
    },
    {
     "name": "stderr",
     "output_type": "stream",
     "text": [
      "\n",
      " 19%|█▊        | 397/2129 [29:33<2:16:51,  4.74s/it]"
     ]
    },
    {
     "name": "stdout",
     "output_type": "stream",
     "text": [
      "603229.SH updated from 20210114 to 20210115\n",
      "Time cost : 3.8168342113494873s\n"
     ]
    },
    {
     "name": "stderr",
     "output_type": "stream",
     "text": [
      "\n",
      " 19%|█▊        | 398/2129 [29:36<2:08:47,  4.46s/it]"
     ]
    },
    {
     "name": "stdout",
     "output_type": "stream",
     "text": [
      "601137.SH updated from 20210114 to 20210115\n",
      "Time cost : 3.8458476066589355s\n"
     ]
    },
    {
     "name": "stderr",
     "output_type": "stream",
     "text": [
      "\n",
      " 19%|█▊        | 399/2129 [29:40<2:03:23,  4.28s/it]"
     ]
    },
    {
     "name": "stdout",
     "output_type": "stream",
     "text": [
      "601066.SH updated from 20210114 to 20210115\n",
      "Time cost : 4.643623352050781s\n"
     ]
    },
    {
     "name": "stderr",
     "output_type": "stream",
     "text": [
      "\n",
      " 19%|█▉        | 400/2129 [29:45<2:06:29,  4.39s/it]"
     ]
    },
    {
     "name": "stdout",
     "output_type": "stream",
     "text": [
      "601399.SH updated from 20210114 to 20210115\n",
      "Time cost : 4.049212694168091s\n"
     ]
    },
    {
     "name": "stderr",
     "output_type": "stream",
     "text": [
      "\n",
      " 19%|█▉        | 401/2129 [29:49<2:03:30,  4.29s/it]"
     ]
    },
    {
     "name": "stdout",
     "output_type": "stream",
     "text": [
      "002111.SZ updated from 20210114 to 20210115\n",
      "Time cost : 2.688887596130371s\n"
     ]
    },
    {
     "name": "stderr",
     "output_type": "stream",
     "text": [
      "\n",
      " 19%|█▉        | 402/2129 [29:52<1:49:38,  3.81s/it]"
     ]
    },
    {
     "name": "stdout",
     "output_type": "stream",
     "text": [
      "688116.SH updated from 20210114 to 20210115\n",
      "Time cost : 19.250098705291748s\n"
     ]
    },
    {
     "name": "stderr",
     "output_type": "stream",
     "text": [
      "\n",
      " 19%|█▉        | 403/2129 [30:11<4:02:51,  8.44s/it]"
     ]
    },
    {
     "name": "stdout",
     "output_type": "stream",
     "text": [
      "000968.SZ updated from 20210114 to 20210115\n",
      "Time cost : 21.559787034988403s\n"
     ]
    },
    {
     "name": "stderr",
     "output_type": "stream",
     "text": [
      "\n",
      " 19%|█▉        | 404/2129 [30:33<5:55:52, 12.38s/it]"
     ]
    },
    {
     "name": "stdout",
     "output_type": "stream",
     "text": [
      "000970.SZ updated from 20210114 to 20210115\n",
      "Time cost : 3.376107692718506s\n"
     ]
    },
    {
     "name": "stderr",
     "output_type": "stream",
     "text": [
      "\n",
      " 19%|█▉        | 405/2129 [30:36<4:38:05,  9.68s/it]"
     ]
    },
    {
     "name": "stdout",
     "output_type": "stream",
     "text": [
      "000567.SZ updated from 20210114 to 20210115\n",
      "Time cost : 5.07358193397522s\n"
     ]
    },
    {
     "name": "stderr",
     "output_type": "stream",
     "text": [
      "\n",
      " 19%|█▉        | 406/2129 [30:41<3:58:16,  8.30s/it]"
     ]
    },
    {
     "name": "stdout",
     "output_type": "stream",
     "text": [
      "600010.SH updated from 20210114 to 20210115\n",
      "Time cost : 14.089560747146606s\n"
     ]
    },
    {
     "name": "stderr",
     "output_type": "stream",
     "text": [
      "\n",
      " 19%|█▉        | 407/2129 [30:55<4:48:01, 10.04s/it]"
     ]
    },
    {
     "name": "stdout",
     "output_type": "stream",
     "text": [
      "601208.SH updated from 20210114 to 20210115\n",
      "Time cost : 2.0645110607147217s\n"
     ]
    },
    {
     "name": "stderr",
     "output_type": "stream",
     "text": [
      "\n",
      " 19%|█▉        | 408/2129 [30:57<3:39:17,  7.65s/it]"
     ]
    },
    {
     "name": "stdout",
     "output_type": "stream",
     "text": [
      "002425.SZ updated from 20210114 to 20210115\n",
      "Time cost : 11.866791725158691s\n"
     ]
    },
    {
     "name": "stderr",
     "output_type": "stream",
     "text": [
      "\n",
      " 19%|█▉        | 409/2129 [31:09<4:15:29,  8.91s/it]"
     ]
    },
    {
     "name": "stdout",
     "output_type": "stream",
     "text": [
      "600997.SH updated from 20210114 to 20210115\n",
      "Time cost : 1.1638891696929932s\n"
     ]
    },
    {
     "name": "stderr",
     "output_type": "stream",
     "text": [
      "\n",
      " 19%|█▉        | 410/2129 [31:10<3:08:45,  6.59s/it]"
     ]
    },
    {
     "name": "stdout",
     "output_type": "stream",
     "text": [
      "002400.SZ updated from 20210114 to 20210115\n",
      "Time cost : 11.440677642822266s\n"
     ]
    },
    {
     "name": "stderr",
     "output_type": "stream",
     "text": [
      "\n",
      " 19%|█▉        | 411/2129 [31:22<3:50:21,  8.05s/it]"
     ]
    },
    {
     "name": "stdout",
     "output_type": "stream",
     "text": [
      "000988.SZ updated from 20210114 to 20210115\n",
      "Time cost : 1.2307887077331543s\n"
     ]
    },
    {
     "name": "stderr",
     "output_type": "stream",
     "text": [
      "\n",
      " 19%|█▉        | 412/2129 [31:23<2:51:44,  6.00s/it]"
     ]
    },
    {
     "name": "stdout",
     "output_type": "stream",
     "text": [
      "000969.SZ updated from 20210114 to 20210115\n",
      "Time cost : 5.852428674697876s\n"
     ]
    },
    {
     "name": "stderr",
     "output_type": "stream",
     "text": [
      "\n",
      " 19%|█▉        | 413/2129 [31:29<2:50:23,  5.96s/it]"
     ]
    },
    {
     "name": "stdout",
     "output_type": "stream",
     "text": [
      "002821.SZ updated from 20210114 to 20210115\n",
      "Time cost : 3.0519092082977295s\n"
     ]
    },
    {
     "name": "stderr",
     "output_type": "stream",
     "text": [
      "\n",
      " 19%|█▉        | 414/2129 [31:32<2:25:23,  5.09s/it]"
     ]
    },
    {
     "name": "stdout",
     "output_type": "stream",
     "text": [
      "600984.SH updated from 20210114 to 20210115\n",
      "Time cost : 2.921926259994507s\n"
     ]
    },
    {
     "name": "stderr",
     "output_type": "stream",
     "text": [
      "\n",
      " 19%|█▉        | 415/2129 [31:35<2:06:46,  4.44s/it]"
     ]
    },
    {
     "name": "stdout",
     "output_type": "stream",
     "text": [
      "000516.SZ updated from 20210114 to 20210115\n",
      "Time cost : 5.056619882583618s\n"
     ]
    },
    {
     "name": "stderr",
     "output_type": "stream",
     "text": [
      "\n",
      " 20%|█▉        | 416/2129 [31:40<2:12:01,  4.62s/it]"
     ]
    },
    {
     "name": "stdout",
     "output_type": "stream",
     "text": [
      "600746.SH updated from 20210114 to 20210115\n",
      "Time cost : 3.8888182640075684s\n"
     ]
    },
    {
     "name": "stderr",
     "output_type": "stream",
     "text": [
      "\n",
      " 20%|█▉        | 417/2129 [31:44<2:05:40,  4.40s/it]"
     ]
    },
    {
     "name": "stdout",
     "output_type": "stream",
     "text": [
      "601127.SH updated from 20210114 to 20210115\n",
      "Time cost : 3.681279420852661s\n"
     ]
    },
    {
     "name": "stderr",
     "output_type": "stream",
     "text": [
      "\n",
      " 20%|█▉        | 418/2129 [31:47<1:59:26,  4.19s/it]"
     ]
    },
    {
     "name": "stdout",
     "output_type": "stream",
     "text": [
      "000667.SZ updated from 20210114 to 20210115\n",
      "Time cost : 2.2490394115448s\n"
     ]
    },
    {
     "name": "stderr",
     "output_type": "stream",
     "text": [
      "\n",
      " 20%|█▉        | 419/2129 [31:50<1:42:48,  3.61s/it]"
     ]
    },
    {
     "name": "stdout",
     "output_type": "stream",
     "text": [
      "002624.SZ updated from 20210114 to 20210115\n",
      "Time cost : 3.2154593467712402s\n"
     ]
    },
    {
     "name": "stderr",
     "output_type": "stream",
     "text": [
      "\n",
      " 20%|█▉        | 420/2129 [31:53<1:39:25,  3.49s/it]"
     ]
    },
    {
     "name": "stdout",
     "output_type": "stream",
     "text": [
      "000987.SZ updated from 20210114 to 20210115\n",
      "Time cost : 4.167901039123535s\n"
     ]
    },
    {
     "name": "stderr",
     "output_type": "stream",
     "text": [
      "\n",
      " 20%|█▉        | 421/2129 [31:57<1:45:10,  3.69s/it]"
     ]
    },
    {
     "name": "stdout",
     "output_type": "stream",
     "text": [
      "601968.SH updated from 20210114 to 20210115\n",
      "Time cost : 2.871436834335327s\n"
     ]
    },
    {
     "name": "stderr",
     "output_type": "stream",
     "text": [
      "\n",
      " 20%|█▉        | 422/2129 [32:00<1:38:05,  3.45s/it]"
     ]
    },
    {
     "name": "stdout",
     "output_type": "stream",
     "text": [
      "002608.SZ updated from 20210114 to 20210115\n",
      "Time cost : 2.6967928409576416s\n"
     ]
    },
    {
     "name": "stderr",
     "output_type": "stream",
     "text": [
      "\n",
      " 20%|█▉        | 423/2129 [32:03<1:31:39,  3.22s/it]"
     ]
    },
    {
     "name": "stdout",
     "output_type": "stream",
     "text": [
      "600641.SH updated from 20210114 to 20210115\n",
      "Time cost : 19.646002292633057s\n"
     ]
    },
    {
     "name": "stderr",
     "output_type": "stream",
     "text": [
      "\n",
      " 20%|█▉        | 424/2129 [32:22<3:51:37,  8.15s/it]"
     ]
    },
    {
     "name": "stdout",
     "output_type": "stream",
     "text": [
      "601139.SH updated from 20210114 to 20210115\n",
      "Time cost : 2.3177435398101807s\n"
     ]
    },
    {
     "name": "stderr",
     "output_type": "stream",
     "text": [
      "\n",
      " 20%|█▉        | 425/2129 [32:24<3:01:48,  6.40s/it]"
     ]
    },
    {
     "name": "stdout",
     "output_type": "stream",
     "text": [
      "002288.SZ updated from 20210114 to 20210115\n",
      "Time cost : 2.664177656173706s\n"
     ]
    },
    {
     "name": "stderr",
     "output_type": "stream",
     "text": [
      "\n",
      " 20%|██        | 426/2129 [32:27<2:29:53,  5.28s/it]"
     ]
    },
    {
     "name": "stdout",
     "output_type": "stream",
     "text": [
      "300458.SZ updated from 20210114 to 20210115\n",
      "Time cost : 2.5478644371032715s\n"
     ]
    },
    {
     "name": "stderr",
     "output_type": "stream",
     "text": [
      "\n",
      " 20%|██        | 427/2129 [32:30<2:06:33,  4.46s/it]"
     ]
    },
    {
     "name": "stdout",
     "output_type": "stream",
     "text": [
      "688686.SH updated from 20210114 to 20210115\n",
      "Time cost : 6.057199478149414s\n"
     ]
    },
    {
     "name": "stderr",
     "output_type": "stream",
     "text": [
      "\n",
      " 20%|██        | 428/2129 [32:36<2:20:04,  4.94s/it]"
     ]
    },
    {
     "name": "stdout",
     "output_type": "stream",
     "text": [
      "002233.SZ updated from 20210114 to 20210115\n",
      "Time cost : 3.442737579345703s\n"
     ]
    },
    {
     "name": "stderr",
     "output_type": "stream",
     "text": [
      "\n",
      " 20%|██        | 429/2129 [32:39<2:07:16,  4.49s/it]"
     ]
    },
    {
     "name": "stdout",
     "output_type": "stream",
     "text": [
      "600029.SH updated from 20210114 to 20210115\n",
      "Time cost : 2.6556272506713867s\n"
     ]
    },
    {
     "name": "stderr",
     "output_type": "stream",
     "text": [
      "\n",
      " 20%|██        | 430/2129 [32:42<1:51:37,  3.94s/it]"
     ]
    },
    {
     "name": "stdout",
     "output_type": "stream",
     "text": [
      "605008.SH updated from 20210114 to 20210115\n",
      "Time cost : 2.5241518020629883s\n"
     ]
    },
    {
     "name": "stderr",
     "output_type": "stream",
     "text": [
      "\n",
      " 20%|██        | 431/2129 [32:44<1:39:31,  3.52s/it]"
     ]
    },
    {
     "name": "stdout",
     "output_type": "stream",
     "text": [
      "000596.SZ updated from 20210114 to 20210115\n",
      "Time cost : 3.249359607696533s\n"
     ]
    },
    {
     "name": "stderr",
     "output_type": "stream",
     "text": [
      "\n",
      " 20%|██        | 432/2129 [32:48<1:37:12,  3.44s/it]"
     ]
    },
    {
     "name": "stdout",
     "output_type": "stream",
     "text": [
      "600195.SH updated from 20210114 to 20210115\n",
      "Time cost : 3.2748727798461914s\n"
     ]
    },
    {
     "name": "stderr",
     "output_type": "stream",
     "text": [
      "\n",
      " 20%|██        | 433/2129 [32:51<1:35:47,  3.39s/it]"
     ]
    },
    {
     "name": "stdout",
     "output_type": "stream",
     "text": [
      "000895.SZ updated from 20210114 to 20210115\n",
      "Time cost : 4.221076011657715s\n"
     ]
    },
    {
     "name": "stderr",
     "output_type": "stream",
     "text": [
      "\n",
      " 20%|██        | 434/2129 [32:55<1:42:49,  3.64s/it]"
     ]
    },
    {
     "name": "stdout",
     "output_type": "stream",
     "text": [
      "000818.SZ updated from 20210114 to 20210115\n",
      "Time cost : 2.365130662918091s\n"
     ]
    },
    {
     "name": "stderr",
     "output_type": "stream",
     "text": [
      "\n",
      " 20%|██        | 435/2129 [32:58<1:31:58,  3.26s/it]"
     ]
    },
    {
     "name": "stdout",
     "output_type": "stream",
     "text": [
      "603155.SH updated from 20210114 to 20210115\n",
      "Time cost : 1.7225205898284912s\n"
     ]
    },
    {
     "name": "stderr",
     "output_type": "stream",
     "text": [
      "\n",
      " 20%|██        | 436/2129 [32:59<1:18:56,  2.80s/it]"
     ]
    },
    {
     "name": "stdout",
     "output_type": "stream",
     "text": [
      "600219.SH updated from 20210114 to 20210115\n",
      "Time cost : 2.231901168823242s\n"
     ]
    },
    {
     "name": "stderr",
     "output_type": "stream",
     "text": [
      "\n",
      " 21%|██        | 437/2129 [33:01<1:14:07,  2.63s/it]"
     ]
    },
    {
     "name": "stdout",
     "output_type": "stream",
     "text": [
      "300824.SZ updated from 20210114 to 20210115\n",
      "Time cost : 5.112293004989624s\n"
     ]
    },
    {
     "name": "stderr",
     "output_type": "stream",
     "text": [
      "\n",
      " 21%|██        | 438/2129 [33:07<1:35:06,  3.37s/it]"
     ]
    },
    {
     "name": "stdout",
     "output_type": "stream",
     "text": [
      "000591.SZ updated from 20210114 to 20210115\n",
      "Time cost : 3.3968358039855957s\n"
     ]
    },
    {
     "name": "stderr",
     "output_type": "stream",
     "text": [
      "\n",
      " 21%|██        | 439/2129 [33:10<1:35:14,  3.38s/it]"
     ]
    },
    {
     "name": "stdout",
     "output_type": "stream",
     "text": [
      "000541.SZ updated from 20210114 to 20210115\n",
      "Time cost : 3.1402499675750732s\n"
     ]
    },
    {
     "name": "stderr",
     "output_type": "stream",
     "text": [
      "\n",
      " 21%|██        | 440/2129 [33:13<1:33:10,  3.31s/it]"
     ]
    },
    {
     "name": "stdout",
     "output_type": "stream",
     "text": [
      "601318.SH updated from 20210114 to 20210115\n",
      "Time cost : 6.132647275924683s\n"
     ]
    },
    {
     "name": "stderr",
     "output_type": "stream",
     "text": [
      "\n",
      " 21%|██        | 441/2129 [33:19<1:56:57,  4.16s/it]"
     ]
    },
    {
     "name": "stdout",
     "output_type": "stream",
     "text": [
      "688030.SH updated from 20210114 to 20210115\n",
      "Time cost : 3.2920334339141846s\n"
     ]
    },
    {
     "name": "stderr",
     "output_type": "stream",
     "text": [
      "\n",
      " 21%|██        | 442/2129 [33:23<1:49:36,  3.90s/it]"
     ]
    },
    {
     "name": "stdout",
     "output_type": "stream",
     "text": [
      "600817.SH updated from 20210114 to 20210115\n",
      "Time cost : 2.7333688735961914s\n"
     ]
    },
    {
     "name": "stderr",
     "output_type": "stream",
     "text": [
      "\n",
      " 21%|██        | 443/2129 [33:25<1:39:44,  3.55s/it]"
     ]
    },
    {
     "name": "stdout",
     "output_type": "stream",
     "text": [
      "002850.SZ updated from 20210114 to 20210115\n",
      "Time cost : 2.690239429473877s\n"
     ]
    },
    {
     "name": "stderr",
     "output_type": "stream",
     "text": [
      "\n",
      " 21%|██        | 444/2129 [33:28<1:32:27,  3.29s/it]"
     ]
    },
    {
     "name": "stdout",
     "output_type": "stream",
     "text": [
      "002777.SZ updated from 20210114 to 20210115\n",
      "Time cost : 2.5069828033447266s\n"
     ]
    },
    {
     "name": "stderr",
     "output_type": "stream",
     "text": [
      "\n",
      " 21%|██        | 445/2129 [33:30<1:25:48,  3.06s/it]"
     ]
    },
    {
     "name": "stdout",
     "output_type": "stream",
     "text": [
      "002097.SZ updated from 20210114 to 20210115\n",
      "Time cost : 4.055843353271484s\n"
     ]
    },
    {
     "name": "stderr",
     "output_type": "stream",
     "text": [
      "\n",
      " 21%|██        | 446/2129 [33:35<1:34:10,  3.36s/it]"
     ]
    },
    {
     "name": "stdout",
     "output_type": "stream",
     "text": [
      "000767.SZ updated from 20210114 to 20210115\n",
      "Time cost : 3.2055959701538086s\n"
     ]
    },
    {
     "name": "stderr",
     "output_type": "stream",
     "text": [
      "\n",
      " 21%|██        | 447/2129 [33:38<1:32:52,  3.31s/it]"
     ]
    },
    {
     "name": "stdout",
     "output_type": "stream",
     "text": [
      "000631.SZ updated from 20210114 to 20210115\n",
      "Time cost : 6.45036506652832s\n"
     ]
    },
    {
     "name": "stderr",
     "output_type": "stream",
     "text": [
      "\n",
      " 21%|██        | 448/2129 [33:44<1:59:12,  4.25s/it]"
     ]
    },
    {
     "name": "stdout",
     "output_type": "stream",
     "text": [
      "603669.SH updated from 20210114 to 20210115\n",
      "Time cost : 2.8072986602783203s\n"
     ]
    },
    {
     "name": "stderr",
     "output_type": "stream",
     "text": [
      "\n",
      " 21%|██        | 449/2129 [33:47<1:46:58,  3.82s/it]"
     ]
    },
    {
     "name": "stdout",
     "output_type": "stream",
     "text": [
      "688266.SH updated from 20210114 to 20210115\n",
      "Time cost : 2.123046398162842s\n"
     ]
    },
    {
     "name": "stderr",
     "output_type": "stream",
     "text": [
      "\n",
      " 21%|██        | 450/2129 [33:49<1:32:40,  3.31s/it]"
     ]
    },
    {
     "name": "stdout",
     "output_type": "stream",
     "text": [
      "603195.SH updated from 20210114 to 20210115\n",
      "Time cost : 2.681924343109131s\n"
     ]
    },
    {
     "name": "stderr",
     "output_type": "stream",
     "text": [
      "\n",
      " 21%|██        | 451/2129 [33:52<1:27:21,  3.12s/it]"
     ]
    },
    {
     "name": "stdout",
     "output_type": "stream",
     "text": [
      "600588.SH updated from 20210114 to 20210115\n",
      "Time cost : 4.196131706237793s\n"
     ]
    },
    {
     "name": "stderr",
     "output_type": "stream",
     "text": [
      "\n",
      " 21%|██        | 452/2129 [33:56<1:36:19,  3.45s/it]"
     ]
    },
    {
     "name": "stdout",
     "output_type": "stream",
     "text": [
      "000785.SZ updated from 20210114 to 20210115\n",
      "Time cost : 9.740599393844604s\n"
     ]
    },
    {
     "name": "stderr",
     "output_type": "stream",
     "text": [
      "\n",
      " 21%|██▏       | 453/2129 [34:06<2:29:02,  5.34s/it]"
     ]
    },
    {
     "name": "stdout",
     "output_type": "stream",
     "text": [
      "603368.SH updated from 20210114 to 20210115\n",
      "Time cost : 2.5384230613708496s\n"
     ]
    },
    {
     "name": "stderr",
     "output_type": "stream",
     "text": [
      "\n",
      " 21%|██▏       | 454/2129 [34:08<2:05:32,  4.50s/it]"
     ]
    },
    {
     "name": "stdout",
     "output_type": "stream",
     "text": [
      "002292.SZ updated from 20210114 to 20210115\n",
      "Time cost : 3.0842721462249756s\n"
     ]
    },
    {
     "name": "stderr",
     "output_type": "stream",
     "text": [
      "\n",
      " 21%|██▏       | 455/2129 [34:11<1:53:39,  4.07s/it]"
     ]
    },
    {
     "name": "stdout",
     "output_type": "stream",
     "text": [
      "300776.SZ updated from 20210114 to 20210115\n",
      "Time cost : 2.1642704010009766s\n"
     ]
    },
    {
     "name": "stderr",
     "output_type": "stream",
     "text": [
      "\n",
      " 21%|██▏       | 456/2129 [34:14<1:37:38,  3.50s/it]"
     ]
    },
    {
     "name": "stdout",
     "output_type": "stream",
     "text": [
      "688388.SH updated from 20210114 to 20210115\n",
      "Time cost : 5.433138847351074s\n"
     ]
    },
    {
     "name": "stderr",
     "output_type": "stream",
     "text": [
      "\n",
      " 21%|██▏       | 457/2129 [34:19<1:53:45,  4.08s/it]"
     ]
    },
    {
     "name": "stdout",
     "output_type": "stream",
     "text": [
      "300001.SZ updated from 20210114 to 20210115\n",
      "Time cost : 7.045908689498901s\n"
     ]
    },
    {
     "name": "stderr",
     "output_type": "stream",
     "text": [
      "\n",
      " 22%|██▏       | 458/2129 [34:26<2:18:27,  4.97s/it]"
     ]
    },
    {
     "name": "stdout",
     "output_type": "stream",
     "text": [
      "000887.SZ updated from 20210114 to 20210115\n",
      "Time cost : 1.5574421882629395s\n"
     ]
    },
    {
     "name": "stderr",
     "output_type": "stream",
     "text": [
      "\n",
      " 22%|██▏       | 459/2129 [34:28<1:49:52,  3.95s/it]"
     ]
    },
    {
     "name": "stdout",
     "output_type": "stream",
     "text": [
      "688568.SH updated from 20210114 to 20210115\n",
      "Time cost : 4.595344066619873s\n"
     ]
    },
    {
     "name": "stderr",
     "output_type": "stream",
     "text": [
      "\n",
      " 22%|██▏       | 460/2129 [34:32<1:55:14,  4.14s/it]"
     ]
    },
    {
     "name": "stdout",
     "output_type": "stream",
     "text": [
      "000050.SZ updated from 20210114 to 20210115\n",
      "Time cost : 8.804317474365234s\n"
     ]
    },
    {
     "name": "stderr",
     "output_type": "stream",
     "text": [
      "\n",
      " 22%|██▏       | 461/2129 [34:41<2:34:04,  5.54s/it]"
     ]
    },
    {
     "name": "stdout",
     "output_type": "stream",
     "text": [
      "601990.SH updated from 20210114 to 20210115\n",
      "Time cost : 3.8065414428710938s\n"
     ]
    },
    {
     "name": "stderr",
     "output_type": "stream",
     "text": [
      "\n",
      " 22%|██▏       | 462/2129 [34:45<2:19:31,  5.02s/it]"
     ]
    },
    {
     "name": "stdout",
     "output_type": "stream",
     "text": [
      "600332.SH updated from 20210114 to 20210115\n",
      "Time cost : 11.951484203338623s\n"
     ]
    },
    {
     "name": "stderr",
     "output_type": "stream",
     "text": [
      "\n",
      " 22%|██▏       | 463/2129 [34:57<3:17:11,  7.10s/it]"
     ]
    },
    {
     "name": "stdout",
     "output_type": "stream",
     "text": [
      "603599.SH updated from 20210114 to 20210115\n",
      "Time cost : 2.7167816162109375s\n"
     ]
    },
    {
     "name": "stderr",
     "output_type": "stream",
     "text": [
      "\n",
      " 22%|██▏       | 464/2129 [34:59<2:40:34,  5.79s/it]"
     ]
    },
    {
     "name": "stdout",
     "output_type": "stream",
     "text": [
      "000547.SZ updated from 20210114 to 20210115\n",
      "Time cost : 2.397228240966797s\n"
     ]
    },
    {
     "name": "stderr",
     "output_type": "stream",
     "text": [
      "\n",
      " 22%|██▏       | 465/2129 [35:02<2:12:17,  4.77s/it]"
     ]
    },
    {
     "name": "stdout",
     "output_type": "stream",
     "text": [
      "002810.SZ updated from 20210114 to 20210115\n",
      "Time cost : 1.1626155376434326s\n"
     ]
    },
    {
     "name": "stderr",
     "output_type": "stream",
     "text": [
      "\n",
      " 22%|██▏       | 466/2129 [35:03<1:42:14,  3.69s/it]"
     ]
    },
    {
     "name": "stdout",
     "output_type": "stream",
     "text": [
      "300590.SZ updated from 20210114 to 20210115\n",
      "Time cost : 1.1321022510528564s\n"
     ]
    },
    {
     "name": "stderr",
     "output_type": "stream",
     "text": [
      "\n",
      " 22%|██▏       | 467/2129 [35:04<1:20:56,  2.92s/it]"
     ]
    },
    {
     "name": "stdout",
     "output_type": "stream",
     "text": [
      "603606.SH updated from 20210114 to 20210115\n",
      "Time cost : 8.675345659255981s\n"
     ]
    },
    {
     "name": "stderr",
     "output_type": "stream",
     "text": [
      "\n",
      " 22%|██▏       | 468/2129 [35:13<2:08:41,  4.65s/it]"
     ]
    },
    {
     "name": "stdout",
     "output_type": "stream",
     "text": [
      "002068.SZ updated from 20210114 to 20210115\n",
      "Time cost : 4.730481863021851s\n"
     ]
    },
    {
     "name": "stderr",
     "output_type": "stream",
     "text": [
      "\n",
      " 22%|██▏       | 469/2129 [35:18<2:09:18,  4.67s/it]"
     ]
    },
    {
     "name": "stdout",
     "output_type": "stream",
     "text": [
      "002236.SZ updated from 20210114 to 20210115\n",
      "Time cost : 12.795193910598755s\n"
     ]
    },
    {
     "name": "stderr",
     "output_type": "stream",
     "text": [
      "\n",
      " 22%|██▏       | 470/2129 [35:30<3:16:36,  7.11s/it]"
     ]
    },
    {
     "name": "stdout",
     "output_type": "stream",
     "text": [
      "002435.SZ updated from 20210114 to 20210115\n",
      "Time cost : 6.454137802124023s\n"
     ]
    },
    {
     "name": "stderr",
     "output_type": "stream",
     "text": [
      "\n",
      " 22%|██▏       | 471/2129 [35:37<3:11:04,  6.91s/it]"
     ]
    },
    {
     "name": "stdout",
     "output_type": "stream",
     "text": [
      "601088.SH updated from 20210114 to 20210115\n",
      "Time cost : 1.2091064453125s\n"
     ]
    },
    {
     "name": "stderr",
     "output_type": "stream",
     "text": [
      "\n",
      " 22%|██▏       | 472/2129 [35:38<2:23:42,  5.20s/it]"
     ]
    },
    {
     "name": "stdout",
     "output_type": "stream",
     "text": [
      "603317.SH updated from 20210114 to 20210115\n",
      "Time cost : 8.242350578308105s\n"
     ]
    },
    {
     "name": "stderr",
     "output_type": "stream",
     "text": [
      "\n",
      " 22%|██▏       | 473/2129 [35:46<2:48:48,  6.12s/it]"
     ]
    },
    {
     "name": "stdout",
     "output_type": "stream",
     "text": [
      "600765.SH updated from 20210114 to 20210115\n",
      "Time cost : 2.2475178241729736s\n"
     ]
    },
    {
     "name": "stderr",
     "output_type": "stream",
     "text": [
      "\n",
      " 22%|██▏       | 474/2129 [35:49<2:16:41,  4.96s/it]"
     ]
    },
    {
     "name": "stdout",
     "output_type": "stream",
     "text": [
      "600729.SH updated from 20210114 to 20210115\n",
      "Time cost : 5.286613702774048s\n"
     ]
    },
    {
     "name": "stderr",
     "output_type": "stream",
     "text": [
      "\n",
      " 22%|██▏       | 475/2129 [35:54<2:19:22,  5.06s/it]"
     ]
    },
    {
     "name": "stdout",
     "output_type": "stream",
     "text": [
      "000829.SZ updated from 20210114 to 20210115\n",
      "Time cost : 2.8280277252197266s\n"
     ]
    },
    {
     "name": "stderr",
     "output_type": "stream",
     "text": [
      "\n",
      " 22%|██▏       | 476/2129 [35:57<2:00:54,  4.39s/it]"
     ]
    },
    {
     "name": "stdout",
     "output_type": "stream",
     "text": [
      "002585.SZ updated from 20210114 to 20210115\n",
      "Time cost : 1.3998064994812012s\n"
     ]
    },
    {
     "name": "stderr",
     "output_type": "stream",
     "text": [
      "\n",
      " 22%|██▏       | 477/2129 [35:58<1:36:09,  3.49s/it]"
     ]
    },
    {
     "name": "stdout",
     "output_type": "stream",
     "text": [
      "002831.SZ updated from 20210114 to 20210115\n",
      "Time cost : 3.2421679496765137s\n"
     ]
    },
    {
     "name": "stderr",
     "output_type": "stream",
     "text": [
      "\n",
      " 22%|██▏       | 478/2129 [36:01<1:34:02,  3.42s/it]"
     ]
    },
    {
     "name": "stdout",
     "output_type": "stream",
     "text": [
      "603236.SH updated from 20210114 to 20210115\n",
      "Time cost : 4.043143033981323s\n"
     ]
    },
    {
     "name": "stderr",
     "output_type": "stream",
     "text": [
      "\n",
      " 22%|██▏       | 479/2129 [36:05<1:39:10,  3.61s/it]"
     ]
    },
    {
     "name": "stdout",
     "output_type": "stream",
     "text": [
      "002463.SZ updated from 20210114 to 20210115\n",
      "Time cost : 2.808750629425049s\n"
     ]
    },
    {
     "name": "stderr",
     "output_type": "stream",
     "text": [
      "\n",
      " 23%|██▎       | 480/2129 [36:08<1:32:33,  3.37s/it]"
     ]
    },
    {
     "name": "stdout",
     "output_type": "stream",
     "text": [
      "603959.SH updated from 20210114 to 20210115\n",
      "Time cost : 3.39709210395813s\n"
     ]
    },
    {
     "name": "stderr",
     "output_type": "stream",
     "text": [
      "\n",
      " 23%|██▎       | 481/2129 [36:12<1:32:45,  3.38s/it]"
     ]
    },
    {
     "name": "stdout",
     "output_type": "stream",
     "text": [
      "300624.SZ updated from 20210114 to 20210115\n",
      "Time cost : 1.2617204189300537s\n"
     ]
    },
    {
     "name": "stderr",
     "output_type": "stream",
     "text": [
      "\n",
      " 23%|██▎       | 482/2129 [36:13<1:15:17,  2.74s/it]"
     ]
    },
    {
     "name": "stdout",
     "output_type": "stream",
     "text": [
      "601992.SH updated from 20210114 to 20210115\n",
      "Time cost : 1.9218614101409912s\n"
     ]
    },
    {
     "name": "stderr",
     "output_type": "stream",
     "text": [
      "\n",
      " 23%|██▎       | 483/2129 [36:15<1:08:30,  2.50s/it]"
     ]
    },
    {
     "name": "stdout",
     "output_type": "stream",
     "text": [
      "688550.SH updated from 20210114 to 20210115\n",
      "Time cost : 4.024270296096802s\n"
     ]
    },
    {
     "name": "stderr",
     "output_type": "stream",
     "text": [
      "\n",
      " 23%|██▎       | 484/2129 [36:19<1:21:02,  2.96s/it]"
     ]
    },
    {
     "name": "stdout",
     "output_type": "stream",
     "text": [
      "300666.SZ updated from 20210114 to 20210115\n",
      "Time cost : 2.5699539184570312s\n"
     ]
    },
    {
     "name": "stderr",
     "output_type": "stream",
     "text": [
      "\n",
      " 23%|██▎       | 485/2129 [36:21<1:17:50,  2.84s/it]"
     ]
    },
    {
     "name": "stdout",
     "output_type": "stream",
     "text": [
      "000166.SZ updated from 20210114 to 20210115\n",
      "Time cost : 1.1926279067993164s\n"
     ]
    },
    {
     "name": "stderr",
     "output_type": "stream",
     "text": [
      "\n",
      " 23%|██▎       | 486/2129 [36:23<1:04:16,  2.35s/it]"
     ]
    },
    {
     "name": "stdout",
     "output_type": "stream",
     "text": [
      "600732.SH updated from 20210114 to 20210115\n",
      "Time cost : 3.633552074432373s\n"
     ]
    },
    {
     "name": "stderr",
     "output_type": "stream",
     "text": [
      "\n",
      " 23%|██▎       | 487/2129 [36:26<1:14:48,  2.73s/it]"
     ]
    },
    {
     "name": "stdout",
     "output_type": "stream",
     "text": [
      "600705.SH updated from 20210114 to 20210115\n",
      "Time cost : 2.0265095233917236s\n"
     ]
    },
    {
     "name": "stderr",
     "output_type": "stream",
     "text": [
      "\n",
      " 23%|██▎       | 488/2129 [36:28<1:08:59,  2.52s/it]"
     ]
    },
    {
     "name": "stdout",
     "output_type": "stream",
     "text": [
      "600855.SH updated from 20210114 to 20210115\n",
      "Time cost : 2.714510917663574s\n"
     ]
    },
    {
     "name": "stderr",
     "output_type": "stream",
     "text": [
      "\n",
      " 23%|██▎       | 489/2129 [36:31<1:10:32,  2.58s/it]"
     ]
    },
    {
     "name": "stdout",
     "output_type": "stream",
     "text": [
      "600320.SH updated from 20210114 to 20210115\n",
      "Time cost : 3.6547162532806396s\n"
     ]
    },
    {
     "name": "stderr",
     "output_type": "stream",
     "text": [
      "\n",
      " 23%|██▎       | 490/2129 [36:35<1:19:18,  2.90s/it]"
     ]
    },
    {
     "name": "stdout",
     "output_type": "stream",
     "text": [
      "300873.SZ updated from 20210114 to 20210115\n",
      "Time cost : 2.2321107387542725s\n"
     ]
    },
    {
     "name": "stderr",
     "output_type": "stream",
     "text": [
      "\n",
      " 23%|██▎       | 491/2129 [36:37<1:13:46,  2.70s/it]"
     ]
    },
    {
     "name": "stdout",
     "output_type": "stream",
     "text": [
      "300232.SZ updated from 20210114 to 20210115\n",
      "Time cost : 17.101040601730347s\n"
     ]
    },
    {
     "name": "stderr",
     "output_type": "stream",
     "text": [
      "\n",
      " 23%|██▎       | 492/2129 [36:54<3:11:36,  7.02s/it]"
     ]
    },
    {
     "name": "stdout",
     "output_type": "stream",
     "text": [
      "603858.SH updated from 20210114 to 20210115\n",
      "Time cost : 3.1151463985443115s\n"
     ]
    },
    {
     "name": "stderr",
     "output_type": "stream",
     "text": [
      "\n",
      " 23%|██▎       | 493/2129 [36:57<2:39:32,  5.85s/it]"
     ]
    },
    {
     "name": "stdout",
     "output_type": "stream",
     "text": [
      "002124.SZ updated from 20210114 to 20210115\n",
      "Time cost : 2.2763772010803223s\n"
     ]
    },
    {
     "name": "stderr",
     "output_type": "stream",
     "text": [
      "\n",
      " 23%|██▎       | 494/2129 [36:59<2:10:14,  4.78s/it]"
     ]
    },
    {
     "name": "stdout",
     "output_type": "stream",
     "text": [
      "000582.SZ updated from 20210114 to 20210115\n",
      "Time cost : 2.216481924057007s\n"
     ]
    },
    {
     "name": "stderr",
     "output_type": "stream",
     "text": [
      "\n",
      " 23%|██▎       | 495/2129 [37:02<1:49:14,  4.01s/it]"
     ]
    },
    {
     "name": "stdout",
     "output_type": "stream",
     "text": [
      "002053.SZ updated from 20210114 to 20210115\n",
      "Time cost : 2.5539612770080566s\n"
     ]
    },
    {
     "name": "stderr",
     "output_type": "stream",
     "text": [
      "\n",
      " 23%|██▎       | 496/2129 [37:04<1:37:17,  3.57s/it]"
     ]
    },
    {
     "name": "stdout",
     "output_type": "stream",
     "text": [
      "300623.SZ updated from 20210114 to 20210115\n",
      "Time cost : 6.767158031463623s\n"
     ]
    },
    {
     "name": "stderr",
     "output_type": "stream",
     "text": [
      "\n",
      " 23%|██▎       | 497/2129 [37:11<2:03:17,  4.53s/it]"
     ]
    },
    {
     "name": "stdout",
     "output_type": "stream",
     "text": [
      "002460.SZ updated from 20210114 to 20210115\n",
      "Time cost : 1.2561607360839844s\n"
     ]
    },
    {
     "name": "stderr",
     "output_type": "stream",
     "text": [
      "\n",
      " 23%|██▎       | 498/2129 [37:12<1:36:30,  3.55s/it]"
     ]
    },
    {
     "name": "stdout",
     "output_type": "stream",
     "text": [
      "600507.SH updated from 20210114 to 20210115\n",
      "Time cost : 26.396669387817383s\n"
     ]
    },
    {
     "name": "stderr",
     "output_type": "stream",
     "text": [
      "\n",
      " 23%|██▎       | 499/2129 [37:39<4:42:40, 10.41s/it]"
     ]
    },
    {
     "name": "stdout",
     "output_type": "stream",
     "text": [
      "601187.SH updated from 20210114 to 20210115\n",
      "Time cost : 7.468926668167114s\n"
     ]
    },
    {
     "name": "stderr",
     "output_type": "stream",
     "text": [
      "\n",
      " 23%|██▎       | 500/2129 [37:46<4:18:35,  9.52s/it]"
     ]
    },
    {
     "name": "stdout",
     "output_type": "stream",
     "text": [
      "603708.SH updated from 20210114 to 20210115\n",
      "Time cost : 3.347567558288574s\n"
     ]
    },
    {
     "name": "stderr",
     "output_type": "stream",
     "text": [
      "\n",
      " 24%|██▎       | 501/2129 [37:49<3:28:10,  7.67s/it]"
     ]
    },
    {
     "name": "stdout",
     "output_type": "stream",
     "text": [
      "600552.SH updated from 20210114 to 20210115\n",
      "Time cost : 1.348928689956665s\n"
     ]
    },
    {
     "name": "stderr",
     "output_type": "stream",
     "text": [
      "\n",
      " 24%|██▎       | 502/2129 [37:51<2:36:37,  5.78s/it]"
     ]
    },
    {
     "name": "stdout",
     "output_type": "stream",
     "text": [
      "002093.SZ updated from 20210114 to 20210115\n",
      "Time cost : 3.6446118354797363s\n"
     ]
    },
    {
     "name": "stderr",
     "output_type": "stream",
     "text": [
      "\n",
      " 24%|██▎       | 503/2129 [37:54<2:19:12,  5.14s/it]"
     ]
    },
    {
     "name": "stdout",
     "output_type": "stream",
     "text": [
      "300183.SZ updated from 20210114 to 20210115\n",
      "Time cost : 17.241595029830933s\n"
     ]
    },
    {
     "name": "stderr",
     "output_type": "stream",
     "text": [
      "\n",
      " 24%|██▎       | 504/2129 [38:12<3:57:29,  8.77s/it]"
     ]
    },
    {
     "name": "stdout",
     "output_type": "stream",
     "text": [
      "688133.SH updated from 20210114 to 20210115\n",
      "Time cost : 2.1564955711364746s\n"
     ]
    },
    {
     "name": "stderr",
     "output_type": "stream",
     "text": [
      "\n",
      " 24%|██▎       | 505/2129 [38:14<3:03:40,  6.79s/it]"
     ]
    },
    {
     "name": "stdout",
     "output_type": "stream",
     "text": [
      "600037.SH updated from 20210114 to 20210115\n",
      "Time cost : 1.838747262954712s\n"
     ]
    },
    {
     "name": "stderr",
     "output_type": "stream",
     "text": [
      "\n",
      " 24%|██▍       | 506/2129 [38:16<2:23:26,  5.30s/it]"
     ]
    },
    {
     "name": "stdout",
     "output_type": "stream",
     "text": [
      "601689.SH updated from 20210114 to 20210115\n",
      "Time cost : 3.129110097885132s\n"
     ]
    },
    {
     "name": "stderr",
     "output_type": "stream",
     "text": [
      "\n",
      " 24%|██▍       | 507/2129 [38:19<2:05:44,  4.65s/it]"
     ]
    },
    {
     "name": "stdout",
     "output_type": "stream",
     "text": [
      "601608.SH updated from 20210114 to 20210115\n",
      "Time cost : 4.654747009277344s\n"
     ]
    },
    {
     "name": "stderr",
     "output_type": "stream",
     "text": [
      "\n",
      " 24%|██▍       | 508/2129 [38:23<2:05:42,  4.65s/it]"
     ]
    },
    {
     "name": "stdout",
     "output_type": "stream",
     "text": [
      "000801.SZ updated from 20210114 to 20210115\n",
      "Time cost : 2.2452964782714844s\n"
     ]
    },
    {
     "name": "stderr",
     "output_type": "stream",
     "text": [
      "\n",
      " 24%|██▍       | 509/2129 [38:26<1:46:09,  3.93s/it]"
     ]
    },
    {
     "name": "stdout",
     "output_type": "stream",
     "text": [
      "601021.SH updated from 20210114 to 20210115\n",
      "Time cost : 3.0378997325897217s\n"
     ]
    },
    {
     "name": "stderr",
     "output_type": "stream",
     "text": [
      "\n",
      " 24%|██▍       | 510/2129 [38:29<1:38:52,  3.66s/it]"
     ]
    },
    {
     "name": "stdout",
     "output_type": "stream",
     "text": [
      "300900.SZ updated from 20210114 to 20210115\n",
      "Time cost : 4.306456089019775s\n"
     ]
    },
    {
     "name": "stderr",
     "output_type": "stream",
     "text": [
      "\n",
      " 24%|██▍       | 511/2129 [38:33<1:44:01,  3.86s/it]"
     ]
    },
    {
     "name": "stdout",
     "output_type": "stream",
     "text": [
      "600862.SH updated from 20210114 to 20210115\n",
      "Time cost : 8.26234221458435s\n"
     ]
    },
    {
     "name": "stderr",
     "output_type": "stream",
     "text": [
      "\n",
      " 24%|██▍       | 512/2129 [38:41<2:19:34,  5.18s/it]"
     ]
    },
    {
     "name": "stdout",
     "output_type": "stream",
     "text": [
      "300159.SZ updated from 20210114 to 20210115\n",
      "Time cost : 2.6388678550720215s\n"
     ]
    },
    {
     "name": "stderr",
     "output_type": "stream",
     "text": [
      "\n",
      " 24%|██▍       | 513/2129 [38:44<1:58:59,  4.42s/it]"
     ]
    },
    {
     "name": "stdout",
     "output_type": "stream",
     "text": [
      "000034.SZ updated from 20210114 to 20210115\n",
      "Time cost : 9.788765907287598s\n"
     ]
    },
    {
     "name": "stderr",
     "output_type": "stream",
     "text": [
      "\n",
      " 24%|██▍       | 514/2129 [38:54<2:42:18,  6.03s/it]"
     ]
    },
    {
     "name": "stdout",
     "output_type": "stream",
     "text": [
      "600993.SH updated from 20210114 to 20210115\n",
      "Time cost : 3.8070194721221924s\n"
     ]
    },
    {
     "name": "stderr",
     "output_type": "stream",
     "text": [
      "\n",
      " 24%|██▍       | 515/2129 [38:57<2:24:17,  5.36s/it]"
     ]
    },
    {
     "name": "stdout",
     "output_type": "stream",
     "text": [
      "300285.SZ updated from 20210114 to 20210115\n",
      "Time cost : 1.7716751098632812s\n"
     ]
    },
    {
     "name": "stderr",
     "output_type": "stream",
     "text": [
      "\n",
      " 24%|██▍       | 516/2129 [38:59<1:55:14,  4.29s/it]"
     ]
    },
    {
     "name": "stdout",
     "output_type": "stream",
     "text": [
      "000519.SZ updated from 20210114 to 20210115\n",
      "Time cost : 1.8440699577331543s\n"
     ]
    },
    {
     "name": "stderr",
     "output_type": "stream",
     "text": [
      "\n",
      " 24%|██▍       | 517/2129 [39:01<1:35:30,  3.56s/it]"
     ]
    },
    {
     "name": "stdout",
     "output_type": "stream",
     "text": [
      "600456.SH updated from 20210114 to 20210115\n",
      "Time cost : 1.9148178100585938s\n"
     ]
    },
    {
     "name": "stderr",
     "output_type": "stream",
     "text": [
      "\n",
      " 24%|██▍       | 518/2129 [39:03<1:22:16,  3.06s/it]"
     ]
    },
    {
     "name": "stdout",
     "output_type": "stream",
     "text": [
      "603882.SH updated from 20210114 to 20210115\n",
      "Time cost : 5.567566156387329s\n"
     ]
    },
    {
     "name": "stderr",
     "output_type": "stream",
     "text": [
      "\n",
      " 24%|██▍       | 519/2129 [39:09<1:42:23,  3.82s/it]"
     ]
    },
    {
     "name": "stdout",
     "output_type": "stream",
     "text": [
      "688099.SH updated from 20210114 to 20210115\n",
      "Time cost : 4.68256950378418s\n"
     ]
    },
    {
     "name": "stderr",
     "output_type": "stream",
     "text": [
      "\n",
      " 24%|██▍       | 520/2129 [39:13<1:49:18,  4.08s/it]"
     ]
    },
    {
     "name": "stdout",
     "output_type": "stream",
     "text": [
      "603556.SH updated from 20210114 to 20210115\n",
      "Time cost : 3.794463872909546s\n"
     ]
    },
    {
     "name": "stderr",
     "output_type": "stream",
     "text": [
      "\n",
      " 24%|██▍       | 521/2129 [39:17<1:46:59,  3.99s/it]"
     ]
    },
    {
     "name": "stdout",
     "output_type": "stream",
     "text": [
      "688127.SH updated from 20210114 to 20210115\n",
      "Time cost : 2.1413567066192627s\n"
     ]
    },
    {
     "name": "stderr",
     "output_type": "stream",
     "text": [
      "\n",
      " 25%|██▍       | 522/2129 [39:19<1:32:03,  3.44s/it]"
     ]
    },
    {
     "name": "stdout",
     "output_type": "stream",
     "text": [
      "603893.SH updated from 20210114 to 20210115\n",
      "Time cost : 2.9952268600463867s\n"
     ]
    },
    {
     "name": "stderr",
     "output_type": "stream",
     "text": [
      "\n",
      " 25%|██▍       | 523/2129 [39:22<1:28:28,  3.31s/it]"
     ]
    },
    {
     "name": "stdout",
     "output_type": "stream",
     "text": [
      "688286.SH updated from 20210114 to 20210115\n",
      "Time cost : 4.640112638473511s\n"
     ]
    },
    {
     "name": "stderr",
     "output_type": "stream",
     "text": [
      "\n",
      " 25%|██▍       | 524/2129 [39:27<1:39:09,  3.71s/it]"
     ]
    },
    {
     "name": "stdout",
     "output_type": "stream",
     "text": [
      "688299.SH updated from 20210114 to 20210115\n",
      "Time cost : 1.6968891620635986s\n"
     ]
    },
    {
     "name": "stderr",
     "output_type": "stream",
     "text": [
      "\n",
      " 25%|██▍       | 525/2129 [39:29<1:22:59,  3.10s/it]"
     ]
    },
    {
     "name": "stdout",
     "output_type": "stream",
     "text": [
      "688185.SH updated from 20210114 to 20210115\n",
      "Time cost : 5.115430116653442s\n"
     ]
    },
    {
     "name": "stderr",
     "output_type": "stream",
     "text": [
      "\n",
      " 25%|██▍       | 526/2129 [39:34<1:39:04,  3.71s/it]"
     ]
    },
    {
     "name": "stdout",
     "output_type": "stream",
     "text": [
      "688165.SH updated from 20210114 to 20210115\n",
      "Time cost : 2.121021270751953s\n"
     ]
    },
    {
     "name": "stderr",
     "output_type": "stream",
     "text": [
      "\n",
      " 25%|██▍       | 527/2129 [39:36<1:26:19,  3.23s/it]"
     ]
    },
    {
     "name": "stdout",
     "output_type": "stream",
     "text": [
      "600210.SH updated from 20210114 to 20210115\n",
      "Time cost : 2.1987695693969727s\n"
     ]
    },
    {
     "name": "stderr",
     "output_type": "stream",
     "text": [
      "\n",
      " 25%|██▍       | 528/2129 [39:38<1:18:00,  2.92s/it]"
     ]
    },
    {
     "name": "stdout",
     "output_type": "stream",
     "text": [
      "000639.SZ updated from 20210114 to 20210115\n",
      "Time cost : 4.275363206863403s\n"
     ]
    },
    {
     "name": "stderr",
     "output_type": "stream",
     "text": [
      "\n",
      " 25%|██▍       | 529/2129 [39:42<1:28:46,  3.33s/it]"
     ]
    },
    {
     "name": "stdout",
     "output_type": "stream",
     "text": [
      "300448.SZ updated from 20210114 to 20210115\n",
      "Time cost : 4.548039197921753s\n"
     ]
    },
    {
     "name": "stderr",
     "output_type": "stream",
     "text": [
      "\n",
      " 25%|██▍       | 530/2129 [39:47<1:38:29,  3.70s/it]"
     ]
    },
    {
     "name": "stdout",
     "output_type": "stream",
     "text": [
      "300406.SZ updated from 20210114 to 20210115\n",
      "Time cost : 2.9402475357055664s\n"
     ]
    },
    {
     "name": "stderr",
     "output_type": "stream",
     "text": [
      "\n",
      " 25%|██▍       | 531/2129 [39:50<1:32:24,  3.47s/it]"
     ]
    },
    {
     "name": "stdout",
     "output_type": "stream",
     "text": [
      "300628.SZ updated from 20210114 to 20210115\n",
      "Time cost : 5.005961179733276s\n"
     ]
    },
    {
     "name": "stderr",
     "output_type": "stream",
     "text": [
      "\n",
      " 25%|██▍       | 532/2129 [39:55<1:44:37,  3.93s/it]"
     ]
    },
    {
     "name": "stdout",
     "output_type": "stream",
     "text": [
      "002975.SZ updated from 20210114 to 20210115\n",
      "Time cost : 4.835137367248535s\n"
     ]
    },
    {
     "name": "stderr",
     "output_type": "stream",
     "text": [
      "\n",
      " 25%|██▌       | 533/2129 [40:00<1:51:48,  4.20s/it]"
     ]
    },
    {
     "name": "stdout",
     "output_type": "stream",
     "text": [
      "600217.SH updated from 20210114 to 20210115\n",
      "Time cost : 2.0303757190704346s\n"
     ]
    },
    {
     "name": "stderr",
     "output_type": "stream",
     "text": [
      "\n",
      " 25%|██▌       | 534/2129 [40:02<1:34:25,  3.55s/it]"
     ]
    },
    {
     "name": "stdout",
     "output_type": "stream",
     "text": [
      "300383.SZ updated from 20210114 to 20210115\n",
      "Time cost : 2.7395668029785156s\n"
     ]
    },
    {
     "name": "stderr",
     "output_type": "stream",
     "text": [
      "\n",
      " 25%|██▌       | 535/2129 [40:04<1:27:54,  3.31s/it]"
     ]
    },
    {
     "name": "stdout",
     "output_type": "stream",
     "text": [
      "600449.SH updated from 20210114 to 20210115\n",
      "Time cost : 5.523517608642578s\n"
     ]
    },
    {
     "name": "stderr",
     "output_type": "stream",
     "text": [
      "\n",
      " 25%|██▌       | 536/2129 [40:10<1:45:30,  3.97s/it]"
     ]
    },
    {
     "name": "stdout",
     "output_type": "stream",
     "text": [
      "000709.SZ updated from 20210114 to 20210115\n",
      "Time cost : 7.606403827667236s\n"
     ]
    },
    {
     "name": "stderr",
     "output_type": "stream",
     "text": [
      "\n",
      " 25%|██▌       | 537/2129 [40:18<2:14:22,  5.06s/it]"
     ]
    },
    {
     "name": "stdout",
     "output_type": "stream",
     "text": [
      "300206.SZ updated from 20210114 to 20210115\n",
      "Time cost : 3.1052944660186768s\n"
     ]
    },
    {
     "name": "stderr",
     "output_type": "stream",
     "text": [
      "\n",
      " 25%|██▌       | 538/2129 [40:21<1:58:43,  4.48s/it]"
     ]
    },
    {
     "name": "stdout",
     "output_type": "stream",
     "text": [
      "603801.SH updated from 20210114 to 20210115\n",
      "Time cost : 3.1317412853240967s\n"
     ]
    },
    {
     "name": "stderr",
     "output_type": "stream",
     "text": [
      "\n",
      " 25%|██▌       | 539/2129 [40:24<1:47:58,  4.07s/it]"
     ]
    },
    {
     "name": "stdout",
     "output_type": "stream",
     "text": [
      "603060.SH updated from 20210114 to 20210115\n",
      "Time cost : 1.9156062602996826s\n"
     ]
    },
    {
     "name": "stderr",
     "output_type": "stream",
     "text": [
      "\n",
      " 25%|██▌       | 540/2129 [40:26<1:30:45,  3.43s/it]"
     ]
    },
    {
     "name": "stdout",
     "output_type": "stream",
     "text": [
      "600422.SH updated from 20210114 to 20210115\n",
      "Time cost : 3.346299409866333s\n"
     ]
    },
    {
     "name": "stderr",
     "output_type": "stream",
     "text": [
      "\n",
      " 25%|██▌       | 541/2129 [40:29<1:30:04,  3.40s/it]"
     ]
    },
    {
     "name": "stdout",
     "output_type": "stream",
     "text": [
      "002267.SZ updated from 20210114 to 20210115\n",
      "Time cost : 3.2683353424072266s\n"
     ]
    },
    {
     "name": "stderr",
     "output_type": "stream",
     "text": [
      "\n",
      " 25%|██▌       | 542/2129 [40:32<1:28:58,  3.36s/it]"
     ]
    },
    {
     "name": "stdout",
     "output_type": "stream",
     "text": [
      "603528.SH updated from 20210114 to 20210115\n",
      "Time cost : 2.331744909286499s\n"
     ]
    },
    {
     "name": "stderr",
     "output_type": "stream",
     "text": [
      "\n",
      " 26%|██▌       | 543/2129 [40:35<1:20:44,  3.05s/it]"
     ]
    },
    {
     "name": "stdout",
     "output_type": "stream",
     "text": [
      "000700.SZ updated from 20210114 to 20210115\n",
      "Time cost : 3.8141660690307617s\n"
     ]
    },
    {
     "name": "stderr",
     "output_type": "stream",
     "text": [
      "\n",
      " 26%|██▌       | 544/2129 [40:38<1:26:43,  3.28s/it]"
     ]
    },
    {
     "name": "stdout",
     "output_type": "stream",
     "text": [
      "600811.SH updated from 20210114 to 20210115\n",
      "Time cost : 20.0152108669281s\n"
     ]
    },
    {
     "name": "stderr",
     "output_type": "stream",
     "text": [
      "\n",
      " 26%|██▌       | 545/2129 [40:58<3:39:12,  8.30s/it]"
     ]
    },
    {
     "name": "stdout",
     "output_type": "stream",
     "text": [
      "003816.SZ updated from 20210114 to 20210115\n",
      "Time cost : 4.704126834869385s\n"
     ]
    },
    {
     "name": "stderr",
     "output_type": "stream",
     "text": [
      "\n",
      " 26%|██▌       | 546/2129 [41:03<3:10:36,  7.22s/it]"
     ]
    },
    {
     "name": "stdout",
     "output_type": "stream",
     "text": [
      "300033.SZ updated from 20210114 to 20210115\n",
      "Time cost : 2.4129581451416016s\n"
     ]
    },
    {
     "name": "stderr",
     "output_type": "stream",
     "text": [
      "\n",
      " 26%|██▌       | 547/2129 [41:06<2:32:26,  5.78s/it]"
     ]
    },
    {
     "name": "stdout",
     "output_type": "stream",
     "text": [
      "603198.SH updated from 20210114 to 20210115\n",
      "Time cost : 3.2413177490234375s\n"
     ]
    },
    {
     "name": "stderr",
     "output_type": "stream",
     "text": [
      "\n",
      " 26%|██▌       | 548/2129 [41:09<2:12:17,  5.02s/it]"
     ]
    },
    {
     "name": "stdout",
     "output_type": "stream",
     "text": [
      "300696.SZ updated from 20210114 to 20210115\n",
      "Time cost : 2.5195398330688477s\n"
     ]
    },
    {
     "name": "stderr",
     "output_type": "stream",
     "text": [
      "\n",
      " 26%|██▌       | 549/2129 [41:11<1:52:27,  4.27s/it]"
     ]
    },
    {
     "name": "stdout",
     "output_type": "stream",
     "text": [
      "600064.SH updated from 20210114 to 20210115\n",
      "Time cost : 4.624839782714844s\n"
     ]
    },
    {
     "name": "stderr",
     "output_type": "stream",
     "text": [
      "\n",
      " 26%|██▌       | 550/2129 [41:16<1:55:12,  4.38s/it]"
     ]
    },
    {
     "name": "stdout",
     "output_type": "stream",
     "text": [
      "002609.SZ updated from 20210114 to 20210115\n",
      "Time cost : 5.046048402786255s\n"
     ]
    },
    {
     "name": "stderr",
     "output_type": "stream",
     "text": [
      "\n",
      " 26%|██▌       | 551/2129 [41:21<2:00:25,  4.58s/it]"
     ]
    },
    {
     "name": "stdout",
     "output_type": "stream",
     "text": [
      "688333.SH updated from 20210114 to 20210115\n",
      "Time cost : 3.007783889770508s\n"
     ]
    },
    {
     "name": "stderr",
     "output_type": "stream",
     "text": [
      "\n",
      " 26%|██▌       | 552/2129 [41:24<1:47:58,  4.11s/it]"
     ]
    },
    {
     "name": "stdout",
     "output_type": "stream",
     "text": [
      "605199.SH updated from 20210114 to 20210115\n",
      "Time cost : 2.423326015472412s\n"
     ]
    },
    {
     "name": "stderr",
     "output_type": "stream",
     "text": [
      "\n",
      " 26%|██▌       | 553/2129 [41:26<1:34:38,  3.60s/it]"
     ]
    },
    {
     "name": "stdout",
     "output_type": "stream",
     "text": [
      "300114.SZ updated from 20210114 to 20210115\n",
      "Time cost : 1.7624847888946533s\n"
     ]
    },
    {
     "name": "stderr",
     "output_type": "stream",
     "text": [
      "\n",
      " 26%|██▌       | 554/2129 [41:28<1:20:06,  3.05s/it]"
     ]
    },
    {
     "name": "stdout",
     "output_type": "stream",
     "text": [
      "002023.SZ updated from 20210114 to 20210115\n",
      "Time cost : 4.9040727615356445s\n"
     ]
    },
    {
     "name": "stderr",
     "output_type": "stream",
     "text": [
      "\n",
      " 26%|██▌       | 555/2129 [41:33<1:34:39,  3.61s/it]"
     ]
    },
    {
     "name": "stdout",
     "output_type": "stream",
     "text": [
      "601878.SH updated from 20210114 to 20210115\n",
      "Time cost : 4.158447504043579s\n"
     ]
    },
    {
     "name": "stderr",
     "output_type": "stream",
     "text": [
      "\n",
      " 26%|██▌       | 556/2129 [41:37<1:38:56,  3.77s/it]"
     ]
    },
    {
     "name": "stdout",
     "output_type": "stream",
     "text": [
      "300302.SZ updated from 20210114 to 20210115\n",
      "Time cost : 3.3364083766937256s\n"
     ]
    },
    {
     "name": "stderr",
     "output_type": "stream",
     "text": [
      "\n",
      " 26%|██▌       | 557/2129 [41:41<1:35:27,  3.64s/it]"
     ]
    },
    {
     "name": "stdout",
     "output_type": "stream",
     "text": [
      "688057.SH updated from 20210114 to 20210115\n",
      "Time cost : 3.3658885955810547s\n"
     ]
    },
    {
     "name": "stderr",
     "output_type": "stream",
     "text": [
      "\n",
      " 26%|██▌       | 558/2129 [41:44<1:33:13,  3.56s/it]"
     ]
    },
    {
     "name": "stdout",
     "output_type": "stream",
     "text": [
      "603587.SH updated from 20210114 to 20210115\n",
      "Time cost : 3.7904598712921143s\n"
     ]
    },
    {
     "name": "stderr",
     "output_type": "stream",
     "text": [
      "\n",
      " 26%|██▋       | 559/2129 [41:48<1:34:59,  3.63s/it]"
     ]
    },
    {
     "name": "stdout",
     "output_type": "stream",
     "text": [
      "000933.SZ updated from 20210114 to 20210115\n",
      "Time cost : 1.9490368366241455s\n"
     ]
    },
    {
     "name": "stderr",
     "output_type": "stream",
     "text": [
      "\n",
      " 26%|██▋       | 560/2129 [41:50<1:21:45,  3.13s/it]"
     ]
    },
    {
     "name": "stdout",
     "output_type": "stream",
     "text": [
      "300470.SZ updated from 20210114 to 20210115\n",
      "Time cost : 3.796964645385742s\n"
     ]
    },
    {
     "name": "stderr",
     "output_type": "stream",
     "text": [
      "\n",
      " 26%|██▋       | 561/2129 [41:54<1:26:58,  3.33s/it]"
     ]
    },
    {
     "name": "stdout",
     "output_type": "stream",
     "text": [
      "600885.SH updated from 20210114 to 20210115\n",
      "Time cost : 2.557126045227051s\n"
     ]
    },
    {
     "name": "stderr",
     "output_type": "stream",
     "text": [
      "\n",
      " 26%|██▋       | 562/2129 [41:56<1:20:54,  3.10s/it]"
     ]
    },
    {
     "name": "stdout",
     "output_type": "stream",
     "text": [
      "601668.SH updated from 20210114 to 20210115\n",
      "Time cost : 4.883253574371338s\n"
     ]
    },
    {
     "name": "stderr",
     "output_type": "stream",
     "text": [
      "\n",
      " 26%|██▋       | 563/2129 [42:01<1:34:50,  3.63s/it]"
     ]
    },
    {
     "name": "stdout",
     "output_type": "stream",
     "text": [
      "603345.SH updated from 20210114 to 20210115\n",
      "Time cost : 9.51349425315857s\n"
     ]
    },
    {
     "name": "stderr",
     "output_type": "stream",
     "text": [
      "\n",
      " 26%|██▋       | 564/2129 [42:11<2:20:48,  5.40s/it]"
     ]
    },
    {
     "name": "stdout",
     "output_type": "stream",
     "text": [
      "601699.SH updated from 20210114 to 20210115\n",
      "Time cost : 1.7604708671569824s\n"
     ]
    },
    {
     "name": "stderr",
     "output_type": "stream",
     "text": [
      "\n",
      " 27%|██▋       | 565/2129 [42:12<1:52:17,  4.31s/it]"
     ]
    },
    {
     "name": "stdout",
     "output_type": "stream",
     "text": [
      "300318.SZ updated from 20210114 to 20210115\n",
      "Time cost : 3.2787840366363525s\n"
     ]
    },
    {
     "name": "stderr",
     "output_type": "stream",
     "text": [
      "\n",
      " 27%|██▋       | 566/2129 [42:16<1:44:11,  4.00s/it]"
     ]
    },
    {
     "name": "stdout",
     "output_type": "stream",
     "text": [
      "603915.SH updated from 20210114 to 20210115\n",
      "Time cost : 3.1092002391815186s\n"
     ]
    },
    {
     "name": "stderr",
     "output_type": "stream",
     "text": [
      "\n",
      " 27%|██▋       | 567/2129 [42:19<1:37:11,  3.73s/it]"
     ]
    },
    {
     "name": "stdout",
     "output_type": "stream",
     "text": [
      "600337.SH updated from 20210114 to 20210115\n",
      "Time cost : 1.1402010917663574s\n"
     ]
    },
    {
     "name": "stderr",
     "output_type": "stream",
     "text": [
      "\n",
      " 27%|██▋       | 568/2129 [42:20<1:16:54,  2.96s/it]"
     ]
    },
    {
     "name": "stdout",
     "output_type": "stream",
     "text": [
      "002996.SZ updated from 20210114 to 20210115\n",
      "Time cost : 3.4605185985565186s\n"
     ]
    },
    {
     "name": "stderr",
     "output_type": "stream",
     "text": [
      "\n",
      " 27%|██▋       | 569/2129 [42:23<1:20:48,  3.11s/it]"
     ]
    },
    {
     "name": "stdout",
     "output_type": "stream",
     "text": [
      "600547.SH updated from 20210114 to 20210115\n",
      "Time cost : 2.5384509563446045s\n"
     ]
    },
    {
     "name": "stderr",
     "output_type": "stream",
     "text": [
      "\n",
      " 27%|██▋       | 570/2129 [42:26<1:16:19,  2.94s/it]"
     ]
    },
    {
     "name": "stdout",
     "output_type": "stream",
     "text": [
      "002522.SZ updated from 20210114 to 20210115\n",
      "Time cost : 1.8547062873840332s\n"
     ]
    },
    {
     "name": "stderr",
     "output_type": "stream",
     "text": [
      "\n",
      " 27%|██▋       | 571/2129 [42:28<1:07:51,  2.61s/it]"
     ]
    },
    {
     "name": "stdout",
     "output_type": "stream",
     "text": [
      "688189.SH updated from 20210114 to 20210115\n",
      "Time cost : 10.30720853805542s\n"
     ]
    },
    {
     "name": "stderr",
     "output_type": "stream",
     "text": [
      "\n",
      " 27%|██▋       | 572/2129 [42:38<2:07:43,  4.92s/it]"
     ]
    },
    {
     "name": "stdout",
     "output_type": "stream",
     "text": [
      "000869.SZ updated from 20210114 to 20210115\n",
      "Time cost : 4.050474166870117s\n"
     ]
    },
    {
     "name": "stderr",
     "output_type": "stream",
     "text": [
      "\n",
      " 27%|██▋       | 573/2129 [42:42<2:00:52,  4.66s/it]"
     ]
    },
    {
     "name": "stdout",
     "output_type": "stream",
     "text": [
      "300024.SZ updated from 20210114 to 20210115\n",
      "Time cost : 2.7788403034210205s\n"
     ]
    },
    {
     "name": "stderr",
     "output_type": "stream",
     "text": [
      "\n",
      " 27%|██▋       | 574/2129 [42:45<1:46:11,  4.10s/it]"
     ]
    },
    {
     "name": "stdout",
     "output_type": "stream",
     "text": [
      "300772.SZ updated from 20210114 to 20210115\n",
      "Time cost : 2.6550848484039307s\n"
     ]
    },
    {
     "name": "stderr",
     "output_type": "stream",
     "text": [
      "\n",
      " 27%|██▋       | 575/2129 [42:47<1:34:55,  3.67s/it]"
     ]
    },
    {
     "name": "stdout",
     "output_type": "stream",
     "text": [
      "600475.SH updated from 20210114 to 20210115\n",
      "Time cost : 1.1210386753082275s\n"
     ]
    },
    {
     "name": "stderr",
     "output_type": "stream",
     "text": [
      "\n",
      " 27%|██▋       | 576/2129 [42:49<1:15:07,  2.90s/it]"
     ]
    },
    {
     "name": "stdout",
     "output_type": "stream",
     "text": [
      "600546.SH updated from 20210114 to 20210115\n",
      "Time cost : 1.183835506439209s\n"
     ]
    },
    {
     "name": "stderr",
     "output_type": "stream",
     "text": [
      "\n",
      " 27%|██▋       | 577/2129 [42:50<1:01:44,  2.39s/it]"
     ]
    },
    {
     "name": "stdout",
     "output_type": "stream",
     "text": [
      "603596.SH updated from 20210114 to 20210115\n",
      "Time cost : 3.336120367050171s\n"
     ]
    },
    {
     "name": "stderr",
     "output_type": "stream",
     "text": [
      "\n",
      " 27%|██▋       | 578/2129 [42:53<1:09:05,  2.67s/it]"
     ]
    },
    {
     "name": "stdout",
     "output_type": "stream",
     "text": [
      "600828.SH updated from 20210114 to 20210115\n",
      "Time cost : 3.4398562908172607s\n"
     ]
    },
    {
     "name": "stderr",
     "output_type": "stream",
     "text": [
      "\n",
      " 27%|██▋       | 579/2129 [42:57<1:14:59,  2.90s/it]"
     ]
    },
    {
     "name": "stdout",
     "output_type": "stream",
     "text": [
      "603583.SH updated from 20210114 to 20210115\n",
      "Time cost : 9.144603729248047s\n"
     ]
    },
    {
     "name": "stderr",
     "output_type": "stream",
     "text": [
      "\n",
      " 27%|██▋       | 580/2129 [43:06<2:03:18,  4.78s/it]"
     ]
    },
    {
     "name": "stdout",
     "output_type": "stream",
     "text": [
      "000682.SZ updated from 20210114 to 20210115\n",
      "Time cost : 4.120004892349243s\n"
     ]
    },
    {
     "name": "stderr",
     "output_type": "stream",
     "text": [
      "\n",
      " 27%|██▋       | 581/2129 [43:10<1:58:10,  4.58s/it]"
     ]
    },
    {
     "name": "stdout",
     "output_type": "stream",
     "text": [
      "600523.SH updated from 20210114 to 20210115\n",
      "Time cost : 1.735140085220337s\n"
     ]
    },
    {
     "name": "stderr",
     "output_type": "stream",
     "text": [
      "\n",
      " 27%|██▋       | 582/2129 [43:12<1:36:06,  3.73s/it]"
     ]
    },
    {
     "name": "stdout",
     "output_type": "stream",
     "text": [
      "002643.SZ updated from 20210114 to 20210115\n",
      "Time cost : 4.248568058013916s\n"
     ]
    },
    {
     "name": "stderr",
     "output_type": "stream",
     "text": [
      "\n",
      " 27%|██▋       | 583/2129 [43:16<1:40:04,  3.88s/it]"
     ]
    },
    {
     "name": "stdout",
     "output_type": "stream",
     "text": [
      "002466.SZ updated from 20210114 to 20210115\n",
      "Time cost : 3.049896478652954s\n"
     ]
    },
    {
     "name": "stderr",
     "output_type": "stream",
     "text": [
      "\n",
      " 27%|██▋       | 584/2129 [43:19<1:33:35,  3.63s/it]"
     ]
    },
    {
     "name": "stdout",
     "output_type": "stream",
     "text": [
      "603005.SH updated from 20210114 to 20210115\n",
      "Time cost : 9.604185581207275s\n"
     ]
    },
    {
     "name": "stderr",
     "output_type": "stream",
     "text": [
      "\n",
      " 27%|██▋       | 585/2129 [43:28<2:19:37,  5.43s/it]"
     ]
    },
    {
     "name": "stdout",
     "output_type": "stream",
     "text": [
      "000839.SZ updated from 20210114 to 20210115\n",
      "Time cost : 2.1788203716278076s\n"
     ]
    },
    {
     "name": "stderr",
     "output_type": "stream",
     "text": [
      "\n",
      " 28%|██▊       | 586/2129 [43:31<1:54:29,  4.45s/it]"
     ]
    },
    {
     "name": "stdout",
     "output_type": "stream",
     "text": [
      "300274.SZ updated from 20210114 to 20210115\n",
      "Time cost : 5.594627857208252s\n"
     ]
    },
    {
     "name": "stderr",
     "output_type": "stream",
     "text": [
      "\n",
      " 28%|██▊       | 587/2129 [43:36<2:03:15,  4.80s/it]"
     ]
    },
    {
     "name": "stdout",
     "output_type": "stream",
     "text": [
      "688157.SH updated from 20210114 to 20210115\n",
      "Time cost : 9.002371549606323s\n"
     ]
    },
    {
     "name": "stderr",
     "output_type": "stream",
     "text": [
      "\n",
      " 28%|██▊       | 588/2129 [43:45<2:35:36,  6.06s/it]"
     ]
    },
    {
     "name": "stdout",
     "output_type": "stream",
     "text": [
      "603327.SH updated from 20210114 to 20210115\n",
      "Time cost : 1.894172191619873s\n"
     ]
    },
    {
     "name": "stderr",
     "output_type": "stream",
     "text": [
      "\n",
      " 28%|██▊       | 589/2129 [43:47<2:03:27,  4.81s/it]"
     ]
    },
    {
     "name": "stdout",
     "output_type": "stream",
     "text": [
      "601311.SH updated from 20210114 to 20210115\n",
      "Time cost : 1.1235120296478271s\n"
     ]
    },
    {
     "name": "stderr",
     "output_type": "stream",
     "text": [
      "\n",
      " 28%|██▊       | 590/2129 [43:48<1:35:01,  3.70s/it]"
     ]
    },
    {
     "name": "stdout",
     "output_type": "stream",
     "text": [
      "300648.SZ updated from 20210114 to 20210115\n",
      "Time cost : 3.4912805557250977s\n"
     ]
    },
    {
     "name": "stderr",
     "output_type": "stream",
     "text": [
      "\n",
      " 28%|██▊       | 591/2129 [43:52<1:33:19,  3.64s/it]"
     ]
    },
    {
     "name": "stdout",
     "output_type": "stream",
     "text": [
      "002382.SZ updated from 20210114 to 20210115\n",
      "Time cost : 2.5023131370544434s\n"
     ]
    },
    {
     "name": "stderr",
     "output_type": "stream",
     "text": [
      "\n",
      " 28%|██▊       | 592/2129 [43:54<1:24:32,  3.30s/it]"
     ]
    },
    {
     "name": "stdout",
     "output_type": "stream",
     "text": [
      "600616.SH updated from 20210114 to 20210115\n",
      "Time cost : 2.992570161819458s\n"
     ]
    },
    {
     "name": "stderr",
     "output_type": "stream",
     "text": [
      "\n",
      " 28%|██▊       | 593/2129 [43:57<1:22:08,  3.21s/it]"
     ]
    },
    {
     "name": "stdout",
     "output_type": "stream",
     "text": [
      "300831.SZ updated from 20210114 to 20210115\n",
      "Time cost : 2.7824599742889404s\n"
     ]
    },
    {
     "name": "stderr",
     "output_type": "stream",
     "text": [
      "\n",
      " 28%|██▊       | 594/2129 [44:00<1:18:49,  3.08s/it]"
     ]
    },
    {
     "name": "stdout",
     "output_type": "stream",
     "text": [
      "002967.SZ updated from 20210114 to 20210115\n",
      "Time cost : 1.7190394401550293s\n"
     ]
    },
    {
     "name": "stderr",
     "output_type": "stream",
     "text": [
      "\n",
      " 28%|██▊       | 595/2129 [44:02<1:08:20,  2.67s/it]"
     ]
    },
    {
     "name": "stdout",
     "output_type": "stream",
     "text": [
      "688608.SH updated from 20210114 to 20210115\n",
      "Time cost : 3.340606689453125s\n"
     ]
    },
    {
     "name": "stderr",
     "output_type": "stream",
     "text": [
      "\n",
      " 28%|██▊       | 596/2129 [44:05<1:13:26,  2.87s/it]"
     ]
    },
    {
     "name": "stdout",
     "output_type": "stream",
     "text": [
      "601519.SH updated from 20210114 to 20210115\n",
      "Time cost : 4.178997039794922s\n"
     ]
    },
    {
     "name": "stderr",
     "output_type": "stream",
     "text": [
      "\n",
      " 28%|██▊       | 597/2129 [44:09<1:23:24,  3.27s/it]"
     ]
    },
    {
     "name": "stdout",
     "output_type": "stream",
     "text": [
      "601677.SH updated from 20210114 to 20210115\n",
      "Time cost : 1.3223731517791748s\n"
     ]
    },
    {
     "name": "stderr",
     "output_type": "stream",
     "text": [
      "\n",
      " 28%|██▊       | 598/2129 [44:11<1:08:29,  2.68s/it]"
     ]
    },
    {
     "name": "stdout",
     "output_type": "stream",
     "text": [
      "300379.SZ updated from 20210114 to 20210115\n",
      "Time cost : 3.0947887897491455s\n"
     ]
    },
    {
     "name": "stderr",
     "output_type": "stream",
     "text": [
      "\n",
      " 28%|██▊       | 599/2129 [44:14<1:11:36,  2.81s/it]"
     ]
    },
    {
     "name": "stdout",
     "output_type": "stream",
     "text": [
      "000685.SZ updated from 20210114 to 20210115\n",
      "Time cost : 2.619296073913574s\n"
     ]
    },
    {
     "name": "stderr",
     "output_type": "stream",
     "text": [
      "\n",
      " 28%|██▊       | 600/2129 [44:16<1:10:07,  2.75s/it]"
     ]
    },
    {
     "name": "stdout",
     "output_type": "stream",
     "text": [
      "600675.SH updated from 20210114 to 20210115\n",
      "Time cost : 1.2193903923034668s\n"
     ]
    },
    {
     "name": "stderr",
     "output_type": "stream",
     "text": [
      "\n",
      " 28%|██▊       | 601/2129 [44:18<58:23,  2.29s/it]  "
     ]
    },
    {
     "name": "stdout",
     "output_type": "stream",
     "text": [
      "603018.SH updated from 20210114 to 20210115\n",
      "Time cost : 2.2129387855529785s\n"
     ]
    },
    {
     "name": "stderr",
     "output_type": "stream",
     "text": [
      "\n",
      " 28%|██▊       | 602/2129 [44:20<57:45,  2.27s/it]"
     ]
    },
    {
     "name": "stdout",
     "output_type": "stream",
     "text": [
      "002030.SZ updated from 20210114 to 20210115\n",
      "Time cost : 7.097056150436401s\n"
     ]
    },
    {
     "name": "stderr",
     "output_type": "stream",
     "text": [
      "\n",
      " 28%|██▊       | 603/2129 [44:27<1:34:34,  3.72s/it]"
     ]
    },
    {
     "name": "stdout",
     "output_type": "stream",
     "text": [
      "688111.SH updated from 20210114 to 20210115\n",
      "Time cost : 3.462938070297241s\n"
     ]
    },
    {
     "name": "stderr",
     "output_type": "stream",
     "text": [
      "\n",
      " 28%|██▊       | 604/2129 [44:30<1:32:34,  3.64s/it]"
     ]
    },
    {
     "name": "stdout",
     "output_type": "stream",
     "text": [
      "600346.SH updated from 20210114 to 20210115\n",
      "Time cost : 1.986877202987671s\n"
     ]
    },
    {
     "name": "stderr",
     "output_type": "stream",
     "text": [
      "\n",
      " 28%|██▊       | 605/2129 [44:32<1:19:55,  3.15s/it]"
     ]
    },
    {
     "name": "stdout",
     "output_type": "stream",
     "text": [
      "002979.SZ updated from 20210114 to 20210115\n",
      "Time cost : 17.051597118377686s\n"
     ]
    },
    {
     "name": "stderr",
     "output_type": "stream",
     "text": [
      "\n",
      " 28%|██▊       | 606/2129 [44:49<3:05:46,  7.32s/it]"
     ]
    },
    {
     "name": "stdout",
     "output_type": "stream",
     "text": [
      "600760.SH updated from 20210114 to 20210115\n",
      "Time cost : 13.28305196762085s\n"
     ]
    },
    {
     "name": "stderr",
     "output_type": "stream",
     "text": [
      "\n",
      " 29%|██▊       | 607/2129 [45:03<3:51:03,  9.11s/it]"
     ]
    },
    {
     "name": "stdout",
     "output_type": "stream",
     "text": [
      "600360.SH updated from 20210114 to 20210115\n",
      "Time cost : 3.8210673332214355s\n"
     ]
    },
    {
     "name": "stderr",
     "output_type": "stream",
     "text": [
      "\n",
      " 29%|██▊       | 608/2129 [45:06<3:10:42,  7.52s/it]"
     ]
    },
    {
     "name": "stdout",
     "output_type": "stream",
     "text": [
      "000501.SZ updated from 20210114 to 20210115\n",
      "Time cost : 2.2228219509124756s\n"
     ]
    },
    {
     "name": "stderr",
     "output_type": "stream",
     "text": [
      "\n",
      " 29%|██▊       | 609/2129 [45:09<2:30:19,  5.93s/it]"
     ]
    },
    {
     "name": "stdout",
     "output_type": "stream",
     "text": [
      "688588.SH updated from 20210114 to 20210115\n",
      "Time cost : 2.668288469314575s\n"
     ]
    },
    {
     "name": "stderr",
     "output_type": "stream",
     "text": [
      "\n",
      " 29%|██▊       | 610/2129 [45:11<2:05:26,  4.95s/it]"
     ]
    },
    {
     "name": "stdout",
     "output_type": "stream",
     "text": [
      "603010.SH updated from 20210114 to 20210115\n",
      "Time cost : 4.986669301986694s\n"
     ]
    },
    {
     "name": "stderr",
     "output_type": "stream",
     "text": [
      "\n",
      " 29%|██▊       | 611/2129 [45:16<2:05:36,  4.96s/it]"
     ]
    },
    {
     "name": "stdout",
     "output_type": "stream",
     "text": [
      "002737.SZ updated from 20210114 to 20210115\n",
      "Time cost : 3.6586148738861084s\n"
     ]
    },
    {
     "name": "stderr",
     "output_type": "stream",
     "text": [
      "\n",
      " 29%|██▊       | 612/2129 [45:20<1:55:38,  4.57s/it]"
     ]
    },
    {
     "name": "stdout",
     "output_type": "stream",
     "text": [
      "603393.SH updated from 20210114 to 20210115\n",
      "Time cost : 2.8154776096343994s\n"
     ]
    },
    {
     "name": "stderr",
     "output_type": "stream",
     "text": [
      "\n",
      " 29%|██▉       | 613/2129 [45:23<1:42:14,  4.05s/it]"
     ]
    },
    {
     "name": "stdout",
     "output_type": "stream",
     "text": [
      "002385.SZ updated from 20210114 to 20210115\n",
      "Time cost : 3.085237503051758s\n"
     ]
    },
    {
     "name": "stderr",
     "output_type": "stream",
     "text": [
      "\n",
      " 29%|██▉       | 614/2129 [45:26<1:34:54,  3.76s/it]"
     ]
    },
    {
     "name": "stdout",
     "output_type": "stream",
     "text": [
      "002080.SZ updated from 20210114 to 20210115\n",
      "Time cost : 5.581101894378662s\n"
     ]
    },
    {
     "name": "stderr",
     "output_type": "stream",
     "text": [
      "\n",
      " 29%|██▉       | 615/2129 [45:32<1:48:39,  4.31s/it]"
     ]
    },
    {
     "name": "stdout",
     "output_type": "stream",
     "text": [
      "300715.SZ updated from 20210114 to 20210115\n",
      "Time cost : 2.1406123638153076s\n"
     ]
    },
    {
     "name": "stderr",
     "output_type": "stream",
     "text": [
      "\n",
      " 29%|██▉       | 616/2129 [45:34<1:32:12,  3.66s/it]"
     ]
    },
    {
     "name": "stdout",
     "output_type": "stream",
     "text": [
      "600876.SH updated from 20210114 to 20210115\n",
      "Time cost : 1.9717817306518555s\n"
     ]
    },
    {
     "name": "stderr",
     "output_type": "stream",
     "text": [
      "\n",
      " 29%|██▉       | 617/2129 [45:36<1:19:26,  3.15s/it]"
     ]
    },
    {
     "name": "stdout",
     "output_type": "stream",
     "text": [
      "002034.SZ updated from 20210114 to 20210115\n",
      "Time cost : 5.160932540893555s\n"
     ]
    },
    {
     "name": "stderr",
     "output_type": "stream",
     "text": [
      "\n",
      " 29%|██▉       | 618/2129 [45:41<1:34:34,  3.76s/it]"
     ]
    },
    {
     "name": "stdout",
     "output_type": "stream",
     "text": [
      "000065.SZ updated from 20210114 to 20210115\n",
      "Time cost : 2.2527434825897217s\n"
     ]
    },
    {
     "name": "stderr",
     "output_type": "stream",
     "text": [
      "\n",
      " 29%|██▉       | 619/2129 [45:43<1:23:11,  3.31s/it]"
     ]
    },
    {
     "name": "stdout",
     "output_type": "stream",
     "text": [
      "002993.SZ updated from 20210114 to 20210115\n",
      "Time cost : 1.1806416511535645s\n"
     ]
    },
    {
     "name": "stderr",
     "output_type": "stream",
     "text": [
      "\n",
      " 29%|██▉       | 620/2129 [45:44<1:07:06,  2.67s/it]"
     ]
    },
    {
     "name": "stdout",
     "output_type": "stream",
     "text": [
      "603259.SH updated from 20210114 to 20210115\n",
      "Time cost : 8.21665906906128s\n"
     ]
    },
    {
     "name": "stderr",
     "output_type": "stream",
     "text": [
      "\n",
      " 29%|██▉       | 621/2129 [45:52<1:48:55,  4.33s/it]"
     ]
    },
    {
     "name": "stdout",
     "output_type": "stream",
     "text": [
      "688003.SH updated from 20210114 to 20210115\n",
      "Time cost : 1.660036563873291s\n"
     ]
    },
    {
     "name": "stderr",
     "output_type": "stream",
     "text": [
      "\n",
      " 29%|██▉       | 622/2129 [45:54<1:28:43,  3.53s/it]"
     ]
    },
    {
     "name": "stdout",
     "output_type": "stream",
     "text": [
      "000950.SZ updated from 20210114 to 20210115\n",
      "Time cost : 2.5622618198394775s\n"
     ]
    },
    {
     "name": "stderr",
     "output_type": "stream",
     "text": [
      "\n",
      " 29%|██▉       | 623/2129 [45:57<1:21:22,  3.24s/it]"
     ]
    },
    {
     "name": "stdout",
     "output_type": "stream",
     "text": [
      "601865.SH updated from 20210114 to 20210115\n",
      "Time cost : 1.7335782051086426s\n"
     ]
    },
    {
     "name": "stderr",
     "output_type": "stream",
     "text": [
      "\n",
      " 29%|██▉       | 624/2129 [45:58<1:09:58,  2.79s/it]"
     ]
    },
    {
     "name": "stdout",
     "output_type": "stream",
     "text": [
      "000796.SZ updated from 20210114 to 20210115\n",
      "Time cost : 17.036386966705322s\n"
     ]
    },
    {
     "name": "stderr",
     "output_type": "stream",
     "text": [
      "\n",
      " 29%|██▉       | 625/2129 [46:15<2:57:04,  7.06s/it]"
     ]
    },
    {
     "name": "stdout",
     "output_type": "stream",
     "text": [
      "000723.SZ updated from 20210114 to 20210115\n",
      "Time cost : 3.427778482437134s\n"
     ]
    },
    {
     "name": "stderr",
     "output_type": "stream",
     "text": [
      "\n",
      " 29%|██▉       | 626/2129 [46:19<2:29:39,  5.97s/it]"
     ]
    },
    {
     "name": "stdout",
     "output_type": "stream",
     "text": [
      "002258.SZ updated from 20210114 to 20210115\n",
      "Time cost : 1.8507189750671387s\n"
     ]
    },
    {
     "name": "stderr",
     "output_type": "stream",
     "text": [
      "\n",
      " 29%|██▉       | 627/2129 [46:21<1:58:35,  4.74s/it]"
     ]
    },
    {
     "name": "stdout",
     "output_type": "stream",
     "text": [
      "002449.SZ updated from 20210114 to 20210115\n",
      "Time cost : 2.9728846549987793s\n"
     ]
    },
    {
     "name": "stderr",
     "output_type": "stream",
     "text": [
      "\n",
      " 29%|██▉       | 628/2129 [46:24<1:45:17,  4.21s/it]"
     ]
    },
    {
     "name": "stdout",
     "output_type": "stream",
     "text": [
      "002798.SZ updated from 20210114 to 20210115\n",
      "Time cost : 9.47972059249878s\n"
     ]
    },
    {
     "name": "stderr",
     "output_type": "stream",
     "text": [
      "\n",
      " 30%|██▉       | 629/2129 [46:33<2:24:46,  5.79s/it]"
     ]
    },
    {
     "name": "stdout",
     "output_type": "stream",
     "text": [
      "002384.SZ updated from 20210114 to 20210115\n",
      "Time cost : 5.9940900802612305s\n"
     ]
    },
    {
     "name": "stderr",
     "output_type": "stream",
     "text": [
      "\n",
      " 30%|██▉       | 630/2129 [46:39<2:26:13,  5.85s/it]"
     ]
    },
    {
     "name": "stdout",
     "output_type": "stream",
     "text": [
      "300662.SZ updated from 20210114 to 20210115\n",
      "Time cost : 4.862607479095459s\n"
     ]
    },
    {
     "name": "stderr",
     "output_type": "stream",
     "text": [
      "\n",
      " 30%|██▉       | 631/2129 [46:44<2:18:42,  5.56s/it]"
     ]
    },
    {
     "name": "stdout",
     "output_type": "stream",
     "text": [
      "601212.SH updated from 20210114 to 20210115\n",
      "Time cost : 11.54874563217163s\n"
     ]
    },
    {
     "name": "stderr",
     "output_type": "stream",
     "text": [
      "\n",
      " 30%|██▉       | 632/2129 [46:56<3:03:29,  7.35s/it]"
     ]
    },
    {
     "name": "stdout",
     "output_type": "stream",
     "text": [
      "002550.SZ updated from 20210114 to 20210115\n",
      "Time cost : 5.188568830490112s\n"
     ]
    },
    {
     "name": "stderr",
     "output_type": "stream",
     "text": [
      "\n",
      " 30%|██▉       | 633/2129 [47:01<2:47:11,  6.71s/it]"
     ]
    },
    {
     "name": "stdout",
     "output_type": "stream",
     "text": [
      "300613.SZ updated from 20210114 to 20210115\n",
      "Time cost : 3.0683610439300537s\n"
     ]
    },
    {
     "name": "stderr",
     "output_type": "stream",
     "text": [
      "\n",
      " 30%|██▉       | 634/2129 [47:04<2:19:55,  5.62s/it]"
     ]
    },
    {
     "name": "stdout",
     "output_type": "stream",
     "text": [
      "601231.SH updated from 20210114 to 20210115\n",
      "Time cost : 3.392946720123291s\n"
     ]
    },
    {
     "name": "stderr",
     "output_type": "stream",
     "text": [
      "\n",
      " 30%|██▉       | 635/2129 [47:07<2:03:13,  4.95s/it]"
     ]
    },
    {
     "name": "stdout",
     "output_type": "stream",
     "text": [
      "601628.SH updated from 20210114 to 20210115\n",
      "Time cost : 4.724412441253662s\n"
     ]
    },
    {
     "name": "stderr",
     "output_type": "stream",
     "text": [
      "\n",
      " 30%|██▉       | 636/2129 [47:12<2:01:29,  4.88s/it]"
     ]
    },
    {
     "name": "stdout",
     "output_type": "stream",
     "text": [
      "300750.SZ updated from 20210114 to 20210115\n",
      "Time cost : 1.7106907367706299s\n"
     ]
    },
    {
     "name": "stderr",
     "output_type": "stream",
     "text": [
      "\n",
      " 30%|██▉       | 637/2129 [47:14<1:37:46,  3.93s/it]"
     ]
    },
    {
     "name": "stdout",
     "output_type": "stream",
     "text": [
      "300315.SZ updated from 20210114 to 20210115\n",
      "Time cost : 4.142816543579102s\n"
     ]
    },
    {
     "name": "stderr",
     "output_type": "stream",
     "text": [
      "\n",
      " 30%|██▉       | 638/2129 [47:18<1:39:17,  4.00s/it]"
     ]
    },
    {
     "name": "stdout",
     "output_type": "stream",
     "text": [
      "000938.SZ updated from 20210114 to 20210115\n",
      "Time cost : 2.272991418838501s\n"
     ]
    },
    {
     "name": "stderr",
     "output_type": "stream",
     "text": [
      "\n",
      " 30%|███       | 639/2129 [47:20<1:26:24,  3.48s/it]"
     ]
    },
    {
     "name": "stdout",
     "output_type": "stream",
     "text": [
      "600887.SH updated from 20210114 to 20210115\n",
      "Time cost : 2.485454559326172s\n"
     ]
    },
    {
     "name": "stderr",
     "output_type": "stream",
     "text": [
      "\n",
      " 30%|███       | 640/2129 [47:23<1:18:57,  3.18s/it]"
     ]
    },
    {
     "name": "stdout",
     "output_type": "stream",
     "text": [
      "300762.SZ updated from 20210114 to 20210115\n",
      "Time cost : 3.4899003505706787s\n"
     ]
    },
    {
     "name": "stderr",
     "output_type": "stream",
     "text": [
      "\n",
      " 30%|███       | 641/2129 [47:26<1:21:13,  3.28s/it]"
     ]
    },
    {
     "name": "stdout",
     "output_type": "stream",
     "text": [
      "000625.SZ updated from 20210114 to 20210115\n",
      "Time cost : 2.7326958179473877s\n"
     ]
    },
    {
     "name": "stderr",
     "output_type": "stream",
     "text": [
      "\n",
      " 30%|███       | 642/2129 [47:29<1:17:09,  3.11s/it]"
     ]
    },
    {
     "name": "stdout",
     "output_type": "stream",
     "text": [
      "600030.SH updated from 20210114 to 20210115\n",
      "Time cost : 4.282337665557861s\n"
     ]
    },
    {
     "name": "stderr",
     "output_type": "stream",
     "text": [
      "\n",
      " 30%|███       | 643/2129 [47:33<1:25:48,  3.46s/it]"
     ]
    },
    {
     "name": "stdout",
     "output_type": "stream",
     "text": [
      "000828.SZ updated from 20210114 to 20210115\n",
      "Time cost : 13.9024658203125s\n"
     ]
    },
    {
     "name": "stderr",
     "output_type": "stream",
     "text": [
      "\n",
      " 30%|███       | 644/2129 [47:47<2:43:16,  6.60s/it]"
     ]
    },
    {
     "name": "stdout",
     "output_type": "stream",
     "text": [
      "002617.SZ updated from 20210114 to 20210115\n",
      "Time cost : 4.095409870147705s\n"
     ]
    },
    {
     "name": "stderr",
     "output_type": "stream",
     "text": [
      "\n",
      " 30%|███       | 645/2129 [47:51<2:24:36,  5.85s/it]"
     ]
    },
    {
     "name": "stdout",
     "output_type": "stream",
     "text": [
      "600663.SH updated from 20210114 to 20210115\n",
      "Time cost : 1.721864938735962s\n"
     ]
    },
    {
     "name": "stderr",
     "output_type": "stream",
     "text": [
      "\n",
      " 30%|███       | 646/2129 [47:53<1:53:56,  4.61s/it]"
     ]
    },
    {
     "name": "stdout",
     "output_type": "stream",
     "text": [
      "300226.SZ updated from 20210114 to 20210115\n",
      "Time cost : 2.5677783489227295s\n"
     ]
    },
    {
     "name": "stderr",
     "output_type": "stream",
     "text": [
      "\n",
      " 30%|███       | 647/2129 [47:55<1:38:44,  4.00s/it]"
     ]
    },
    {
     "name": "stdout",
     "output_type": "stream",
     "text": [
      "300627.SZ updated from 20210114 to 20210115\n",
      "Time cost : 2.9333386421203613s\n"
     ]
    },
    {
     "name": "stderr",
     "output_type": "stream",
     "text": [
      "\n",
      " 30%|███       | 648/2129 [47:58<1:30:48,  3.68s/it]"
     ]
    },
    {
     "name": "stdout",
     "output_type": "stream",
     "text": [
      "002925.SZ updated from 20210114 to 20210115\n",
      "Time cost : 1.098909616470337s\n"
     ]
    },
    {
     "name": "stderr",
     "output_type": "stream",
     "text": [
      "\n",
      " 30%|███       | 649/2129 [47:59<1:11:40,  2.91s/it]"
     ]
    },
    {
     "name": "stdout",
     "output_type": "stream",
     "text": [
      "603799.SH updated from 20210114 to 20210115\n",
      "Time cost : 2.5108087062835693s\n"
     ]
    },
    {
     "name": "stderr",
     "output_type": "stream",
     "text": [
      "\n",
      " 31%|███       | 650/2129 [48:02<1:08:43,  2.79s/it]"
     ]
    },
    {
     "name": "stdout",
     "output_type": "stream",
     "text": [
      "300008.SZ updated from 20210114 to 20210115\n",
      "Time cost : 3.4257712364196777s\n"
     ]
    },
    {
     "name": "stderr",
     "output_type": "stream",
     "text": [
      "\n",
      " 31%|███       | 651/2129 [48:05<1:13:24,  2.98s/it]"
     ]
    },
    {
     "name": "stdout",
     "output_type": "stream",
     "text": [
      "300331.SZ updated from 20210114 to 20210115\n",
      "Time cost : 1.1330573558807373s\n"
     ]
    },
    {
     "name": "stderr",
     "output_type": "stream",
     "text": [
      "\n",
      " 31%|███       | 652/2129 [48:07<59:44,  2.43s/it]  "
     ]
    },
    {
     "name": "stdout",
     "output_type": "stream",
     "text": [
      "300659.SZ updated from 20210114 to 20210115\n",
      "Time cost : 9.380001068115234s\n"
     ]
    },
    {
     "name": "stderr",
     "output_type": "stream",
     "text": [
      "\n",
      " 31%|███       | 653/2129 [48:16<1:51:01,  4.51s/it]"
     ]
    },
    {
     "name": "stdout",
     "output_type": "stream",
     "text": [
      "600118.SH updated from 20210114 to 20210115\n",
      "Time cost : 1.6873643398284912s\n"
     ]
    },
    {
     "name": "stderr",
     "output_type": "stream",
     "text": [
      "\n",
      " 31%|███       | 654/2129 [48:18<1:30:07,  3.67s/it]"
     ]
    },
    {
     "name": "stdout",
     "output_type": "stream",
     "text": [
      "002603.SZ updated from 20210114 to 20210115\n",
      "Time cost : 2.6387147903442383s\n"
     ]
    },
    {
     "name": "stderr",
     "output_type": "stream",
     "text": [
      "\n",
      " 31%|███       | 655/2129 [48:20<1:22:30,  3.36s/it]"
     ]
    },
    {
     "name": "stdout",
     "output_type": "stream",
     "text": [
      "002351.SZ updated from 20210114 to 20210115\n",
      "Time cost : 1.8548645973205566s\n"
     ]
    },
    {
     "name": "stderr",
     "output_type": "stream",
     "text": [
      "\n",
      " 31%|███       | 656/2129 [48:22<1:11:23,  2.91s/it]"
     ]
    },
    {
     "name": "stdout",
     "output_type": "stream",
     "text": [
      "300816.SZ updated from 20210114 to 20210115\n",
      "Time cost : 3.491734266281128s\n"
     ]
    },
    {
     "name": "stderr",
     "output_type": "stream",
     "text": [
      "\n",
      " 31%|███       | 657/2129 [48:26<1:15:39,  3.08s/it]"
     ]
    },
    {
     "name": "stdout",
     "output_type": "stream",
     "text": [
      "002190.SZ updated from 20210114 to 20210115\n",
      "Time cost : 4.378732919692993s\n"
     ]
    },
    {
     "name": "stderr",
     "output_type": "stream",
     "text": [
      "\n",
      " 31%|███       | 658/2129 [48:30<1:25:08,  3.47s/it]"
     ]
    },
    {
     "name": "stdout",
     "output_type": "stream",
     "text": [
      "002444.SZ updated from 20210114 to 20210115\n",
      "Time cost : 1.1400799751281738s\n"
     ]
    },
    {
     "name": "stderr",
     "output_type": "stream",
     "text": [
      "\n",
      " 31%|███       | 659/2129 [48:31<1:07:57,  2.77s/it]"
     ]
    },
    {
     "name": "stdout",
     "output_type": "stream",
     "text": [
      "300026.SZ updated from 20210114 to 20210115\n",
      "Time cost : 1.1320586204528809s\n"
     ]
    },
    {
     "name": "stderr",
     "output_type": "stream",
     "text": [
      "\n",
      " 31%|███       | 660/2129 [48:32<55:51,  2.28s/it]  "
     ]
    },
    {
     "name": "stdout",
     "output_type": "stream",
     "text": [
      "002973.SZ updated from 20210114 to 20210115\n",
      "Time cost : 2.5223965644836426s\n"
     ]
    },
    {
     "name": "stderr",
     "output_type": "stream",
     "text": [
      "\n",
      " 31%|███       | 661/2129 [48:35<57:36,  2.35s/it]"
     ]
    },
    {
     "name": "stdout",
     "output_type": "stream",
     "text": [
      "002139.SZ updated from 20210114 to 20210115\n",
      "Time cost : 2.175252914428711s\n"
     ]
    },
    {
     "name": "stderr",
     "output_type": "stream",
     "text": [
      "\n",
      " 31%|███       | 662/2129 [48:37<56:16,  2.30s/it]"
     ]
    },
    {
     "name": "stdout",
     "output_type": "stream",
     "text": [
      "002250.SZ updated from 20210114 to 20210115\n",
      "Time cost : 2.6515588760375977s\n"
     ]
    },
    {
     "name": "stderr",
     "output_type": "stream",
     "text": [
      "\n",
      " 31%|███       | 663/2129 [48:40<58:49,  2.41s/it]"
     ]
    },
    {
     "name": "stdout",
     "output_type": "stream",
     "text": [
      "000503.SZ updated from 20210114 to 20210115\n",
      "Time cost : 1.9727163314819336s\n"
     ]
    },
    {
     "name": "stderr",
     "output_type": "stream",
     "text": [
      "\n",
      " 31%|███       | 664/2129 [48:42<55:36,  2.28s/it]"
     ]
    },
    {
     "name": "stdout",
     "output_type": "stream",
     "text": [
      "688095.SH updated from 20210114 to 20210115\n",
      "Time cost : 3.0630338191986084s\n"
     ]
    },
    {
     "name": "stderr",
     "output_type": "stream",
     "text": [
      "\n",
      " 31%|███       | 665/2129 [48:45<1:01:20,  2.51s/it]"
     ]
    },
    {
     "name": "stdout",
     "output_type": "stream",
     "text": [
      "000537.SZ updated from 20210114 to 20210115\n",
      "Time cost : 8.192349433898926s\n"
     ]
    },
    {
     "name": "stderr",
     "output_type": "stream",
     "text": [
      "\n",
      " 31%|███▏      | 666/2129 [48:53<1:42:51,  4.22s/it]"
     ]
    },
    {
     "name": "stdout",
     "output_type": "stream",
     "text": [
      "600433.SH updated from 20210114 to 20210115\n",
      "Time cost : 3.6314380168914795s\n"
     ]
    },
    {
     "name": "stderr",
     "output_type": "stream",
     "text": [
      "\n",
      " 31%|███▏      | 667/2129 [48:56<1:38:30,  4.04s/it]"
     ]
    },
    {
     "name": "stdout",
     "output_type": "stream",
     "text": [
      "600990.SH updated from 20210114 to 20210115\n",
      "Time cost : 2.9704113006591797s\n"
     ]
    },
    {
     "name": "stderr",
     "output_type": "stream",
     "text": [
      "\n",
      " 31%|███▏      | 668/2129 [48:59<1:30:37,  3.72s/it]"
     ]
    },
    {
     "name": "stdout",
     "output_type": "stream",
     "text": [
      "600115.SH updated from 20210114 to 20210115\n",
      "Time cost : 6.71686053276062s\n"
     ]
    },
    {
     "name": "stderr",
     "output_type": "stream",
     "text": [
      "\n",
      " 31%|███▏      | 669/2129 [49:06<1:52:26,  4.62s/it]"
     ]
    },
    {
     "name": "stdout",
     "output_type": "stream",
     "text": [
      "000534.SZ updated from 20210114 to 20210115\n",
      "Time cost : 2.4603471755981445s\n"
     ]
    },
    {
     "name": "stderr",
     "output_type": "stream",
     "text": [
      "\n",
      " 31%|███▏      | 670/2129 [49:09<1:36:37,  3.97s/it]"
     ]
    },
    {
     "name": "stdout",
     "output_type": "stream",
     "text": [
      "002537.SZ updated from 20210114 to 20210115\n",
      "Time cost : 4.44700288772583s\n"
     ]
    },
    {
     "name": "stderr",
     "output_type": "stream",
     "text": [
      "\n",
      " 32%|███▏      | 671/2129 [49:13<1:40:01,  4.12s/it]"
     ]
    },
    {
     "name": "stdout",
     "output_type": "stream",
     "text": [
      "601163.SH updated from 20210114 to 20210115\n",
      "Time cost : 5.962716817855835s\n"
     ]
    },
    {
     "name": "stderr",
     "output_type": "stream",
     "text": [
      "\n",
      " 32%|███▏      | 672/2129 [49:19<1:53:25,  4.67s/it]"
     ]
    },
    {
     "name": "stdout",
     "output_type": "stream",
     "text": [
      "600020.SH updated from 20210114 to 20210115\n",
      "Time cost : 8.139166593551636s\n"
     ]
    },
    {
     "name": "stderr",
     "output_type": "stream",
     "text": [
      "\n",
      " 32%|███▏      | 673/2129 [49:27<2:18:36,  5.71s/it]"
     ]
    },
    {
     "name": "stdout",
     "output_type": "stream",
     "text": [
      "002812.SZ updated from 20210114 to 20210115\n",
      "Time cost : 5.381138324737549s\n"
     ]
    },
    {
     "name": "stderr",
     "output_type": "stream",
     "text": [
      "\n",
      " 32%|███▏      | 674/2129 [49:33<2:16:07,  5.61s/it]"
     ]
    },
    {
     "name": "stdout",
     "output_type": "stream",
     "text": [
      "600343.SH updated from 20210114 to 20210115\n",
      "Time cost : 3.673069715499878s\n"
     ]
    },
    {
     "name": "stderr",
     "output_type": "stream",
     "text": [
      "\n",
      " 32%|███▏      | 675/2129 [49:36<2:01:56,  5.03s/it]"
     ]
    },
    {
     "name": "stdout",
     "output_type": "stream",
     "text": [
      "002294.SZ updated from 20210114 to 20210115\n",
      "Time cost : 4.739733934402466s\n"
     ]
    },
    {
     "name": "stderr",
     "output_type": "stream",
     "text": [
      "\n",
      " 32%|███▏      | 676/2129 [49:41<1:59:45,  4.95s/it]"
     ]
    },
    {
     "name": "stdout",
     "output_type": "stream",
     "text": [
      "002055.SZ updated from 20210114 to 20210115\n",
      "Time cost : 1.6961727142333984s\n"
     ]
    },
    {
     "name": "stderr",
     "output_type": "stream",
     "text": [
      "\n",
      " 32%|███▏      | 677/2129 [49:43<1:36:06,  3.97s/it]"
     ]
    },
    {
     "name": "stdout",
     "output_type": "stream",
     "text": [
      "600158.SH updated from 20210114 to 20210115\n",
      "Time cost : 3.4201812744140625s\n"
     ]
    },
    {
     "name": "stderr",
     "output_type": "stream",
     "text": [
      "\n",
      " 32%|███▏      | 678/2129 [49:46<1:32:02,  3.81s/it]"
     ]
    },
    {
     "name": "stdout",
     "output_type": "stream",
     "text": [
      "000768.SZ updated from 20210114 to 20210115\n",
      "Time cost : 3.8580219745635986s\n"
     ]
    },
    {
     "name": "stderr",
     "output_type": "stream",
     "text": [
      "\n",
      " 32%|███▏      | 679/2129 [49:50<1:32:22,  3.82s/it]"
     ]
    },
    {
     "name": "stdout",
     "output_type": "stream",
     "text": [
      "688586.SH updated from 20210114 to 20210115\n",
      "Time cost : 1.08620023727417s\n"
     ]
    },
    {
     "name": "stderr",
     "output_type": "stream",
     "text": [
      "\n",
      " 32%|███▏      | 680/2129 [49:51<1:12:30,  3.00s/it]"
     ]
    },
    {
     "name": "stdout",
     "output_type": "stream",
     "text": [
      "600436.SH updated from 20210114 to 20210115\n",
      "Time cost : 3.898470640182495s\n"
     ]
    },
    {
     "name": "stderr",
     "output_type": "stream",
     "text": [
      "\n",
      " 32%|███▏      | 681/2129 [49:55<1:18:57,  3.27s/it]"
     ]
    },
    {
     "name": "stdout",
     "output_type": "stream",
     "text": [
      "601788.SH updated from 20210114 to 20210115\n",
      "Time cost : 1.9921655654907227s\n"
     ]
    },
    {
     "name": "stderr",
     "output_type": "stream",
     "text": [
      "\n",
      " 32%|███▏      | 682/2129 [49:57<1:09:39,  2.89s/it]"
     ]
    },
    {
     "name": "stdout",
     "output_type": "stream",
     "text": [
      "600707.SH updated from 20210114 to 20210115\n",
      "Time cost : 6.144216775894165s\n"
     ]
    },
    {
     "name": "stderr",
     "output_type": "stream",
     "text": [
      "\n",
      " 32%|███▏      | 683/2129 [50:03<1:33:10,  3.87s/it]"
     ]
    },
    {
     "name": "stdout",
     "output_type": "stream",
     "text": [
      "600153.SH updated from 20210114 to 20210115\n",
      "Time cost : 9.493529796600342s\n"
     ]
    },
    {
     "name": "stderr",
     "output_type": "stream",
     "text": [
      "\n",
      " 32%|███▏      | 684/2129 [50:13<2:13:46,  5.55s/it]"
     ]
    },
    {
     "name": "stdout",
     "output_type": "stream",
     "text": [
      "300671.SZ updated from 20210114 to 20210115\n",
      "Time cost : 2.6768572330474854s\n"
     ]
    },
    {
     "name": "stderr",
     "output_type": "stream",
     "text": [
      "\n",
      " 32%|███▏      | 685/2129 [50:15<1:52:55,  4.69s/it]"
     ]
    },
    {
     "name": "stdout",
     "output_type": "stream",
     "text": [
      "002156.SZ updated from 20210114 to 20210115\n",
      "Time cost : 11.089917421340942s\n"
     ]
    },
    {
     "name": "stderr",
     "output_type": "stream",
     "text": [
      "\n",
      " 32%|███▏      | 686/2129 [50:26<2:39:01,  6.61s/it]"
     ]
    },
    {
     "name": "stdout",
     "output_type": "stream",
     "text": [
      "000062.SZ updated from 20210114 to 20210115\n",
      "Time cost : 2.403271198272705s\n"
     ]
    },
    {
     "name": "stderr",
     "output_type": "stream",
     "text": [
      "\n",
      " 32%|███▏      | 687/2129 [50:29<2:08:34,  5.35s/it]"
     ]
    },
    {
     "name": "stdout",
     "output_type": "stream",
     "text": [
      "600189.SH updated from 20210114 to 20210115\n",
      "Time cost : 4.696576833724976s\n"
     ]
    },
    {
     "name": "stderr",
     "output_type": "stream",
     "text": [
      "\n",
      " 32%|███▏      | 688/2129 [50:33<2:03:47,  5.15s/it]"
     ]
    },
    {
     "name": "stdout",
     "output_type": "stream",
     "text": [
      "688136.SH updated from 20210114 to 20210115\n",
      "Time cost : 3.969630718231201s\n"
     ]
    },
    {
     "name": "stderr",
     "output_type": "stream",
     "text": [
      "\n",
      " 32%|███▏      | 689/2129 [50:37<1:55:11,  4.80s/it]"
     ]
    },
    {
     "name": "stdout",
     "output_type": "stream",
     "text": [
      "002153.SZ updated from 20210114 to 20210115\n",
      "Time cost : 1.668431043624878s\n"
     ]
    },
    {
     "name": "stderr",
     "output_type": "stream",
     "text": [
      "\n",
      " 32%|███▏      | 690/2129 [50:39<1:32:36,  3.86s/it]"
     ]
    },
    {
     "name": "stdout",
     "output_type": "stream",
     "text": [
      "002929.SZ updated from 20210114 to 20210115\n",
      "Time cost : 3.774749279022217s\n"
     ]
    },
    {
     "name": "stderr",
     "output_type": "stream",
     "text": [
      "\n",
      " 32%|███▏      | 691/2129 [50:43<1:31:56,  3.84s/it]"
     ]
    },
    {
     "name": "stdout",
     "output_type": "stream",
     "text": [
      "002489.SZ updated from 20210114 to 20210115\n",
      "Time cost : 4.578348398208618s\n"
     ]
    },
    {
     "name": "stderr",
     "output_type": "stream",
     "text": [
      "\n",
      " 33%|███▎      | 692/2129 [50:47<1:37:13,  4.06s/it]"
     ]
    },
    {
     "name": "stdout",
     "output_type": "stream",
     "text": [
      "600679.SH updated from 20210114 to 20210115\n",
      "Time cost : 4.854898452758789s\n"
     ]
    },
    {
     "name": "stderr",
     "output_type": "stream",
     "text": [
      "\n",
      " 33%|███▎      | 693/2129 [50:52<1:42:52,  4.30s/it]"
     ]
    },
    {
     "name": "stdout",
     "output_type": "stream",
     "text": [
      "002304.SZ updated from 20210114 to 20210115\n",
      "Time cost : 3.7662692070007324s\n"
     ]
    },
    {
     "name": "stderr",
     "output_type": "stream",
     "text": [
      "\n",
      " 33%|███▎      | 694/2129 [50:56<1:39:00,  4.14s/it]"
     ]
    },
    {
     "name": "stdout",
     "output_type": "stream",
     "text": [
      "600808.SH updated from 20210114 to 20210115\n",
      "Time cost : 5.538836479187012s\n"
     ]
    },
    {
     "name": "stderr",
     "output_type": "stream",
     "text": [
      "\n",
      " 33%|███▎      | 695/2129 [51:02<1:48:58,  4.56s/it]"
     ]
    },
    {
     "name": "stdout",
     "output_type": "stream",
     "text": [
      "688363.SH updated from 20210114 to 20210115\n",
      "Time cost : 3.682774066925049s\n"
     ]
    },
    {
     "name": "stderr",
     "output_type": "stream",
     "text": [
      "\n",
      " 33%|███▎      | 696/2129 [51:05<1:42:38,  4.30s/it]"
     ]
    },
    {
     "name": "stdout",
     "output_type": "stream",
     "text": [
      "002801.SZ updated from 20210114 to 20210115\n",
      "Time cost : 3.4507973194122314s\n"
     ]
    },
    {
     "name": "stderr",
     "output_type": "stream",
     "text": [
      "\n",
      " 33%|███▎      | 697/2129 [51:09<1:36:31,  4.04s/it]"
     ]
    },
    {
     "name": "stdout",
     "output_type": "stream",
     "text": [
      "300883.SZ updated from 20210114 to 20210115\n",
      "Time cost : 6.7247960567474365s\n"
     ]
    },
    {
     "name": "stderr",
     "output_type": "stream",
     "text": [
      "\n",
      " 33%|███▎      | 698/2129 [51:16<1:55:38,  4.85s/it]"
     ]
    },
    {
     "name": "stdout",
     "output_type": "stream",
     "text": [
      "300395.SZ updated from 20210114 to 20210115\n",
      "Time cost : 1.9389207363128662s\n"
     ]
    },
    {
     "name": "stderr",
     "output_type": "stream",
     "text": [
      "\n",
      " 33%|███▎      | 699/2129 [51:17<1:34:46,  3.98s/it]"
     ]
    },
    {
     "name": "stdout",
     "output_type": "stream",
     "text": [
      "601607.SH updated from 20210114 to 20210115\n",
      "Time cost : 6.331033945083618s\n"
     ]
    },
    {
     "name": "stderr",
     "output_type": "stream",
     "text": [
      "\n",
      " 33%|███▎      | 700/2129 [51:24<1:51:32,  4.68s/it]"
     ]
    },
    {
     "name": "stdout",
     "output_type": "stream",
     "text": [
      "002458.SZ updated from 20210114 to 20210115\n",
      "Time cost : 3.3891937732696533s\n"
     ]
    },
    {
     "name": "stderr",
     "output_type": "stream",
     "text": [
      "\n",
      " 33%|███▎      | 701/2129 [51:27<1:42:14,  4.30s/it]"
     ]
    },
    {
     "name": "stdout",
     "output_type": "stream",
     "text": [
      "000650.SZ updated from 20210114 to 20210115\n",
      "Time cost : 3.488150119781494s\n"
     ]
    },
    {
     "name": "stderr",
     "output_type": "stream",
     "text": [
      "\n",
      " 33%|███▎      | 702/2129 [51:31<1:36:25,  4.05s/it]"
     ]
    },
    {
     "name": "stdout",
     "output_type": "stream",
     "text": [
      "002957.SZ updated from 20210114 to 20210115\n",
      "Time cost : 13.943504333496094s\n"
     ]
    },
    {
     "name": "stderr",
     "output_type": "stream",
     "text": [
      "\n",
      " 33%|███▎      | 703/2129 [51:45<2:46:52,  7.02s/it]"
     ]
    },
    {
     "name": "stdout",
     "output_type": "stream",
     "text": [
      "002653.SZ updated from 20210114 to 20210115\n",
      "Time cost : 2.495382070541382s\n"
     ]
    },
    {
     "name": "stderr",
     "output_type": "stream",
     "text": [
      "\n",
      " 33%|███▎      | 704/2129 [51:47<2:14:31,  5.66s/it]"
     ]
    },
    {
     "name": "stdout",
     "output_type": "stream",
     "text": [
      "600169.SH updated from 20210114 to 20210115\n",
      "Time cost : 3.581951856613159s\n"
     ]
    },
    {
     "name": "stderr",
     "output_type": "stream",
     "text": [
      "\n",
      " 33%|███▎      | 705/2129 [51:51<1:59:37,  5.04s/it]"
     ]
    },
    {
     "name": "stdout",
     "output_type": "stream",
     "text": [
      "300429.SZ updated from 20210114 to 20210115\n",
      "Time cost : 2.737806558609009s\n"
     ]
    },
    {
     "name": "stderr",
     "output_type": "stream",
     "text": [
      "\n",
      " 33%|███▎      | 706/2129 [51:53<1:43:10,  4.35s/it]"
     ]
    },
    {
     "name": "stdout",
     "output_type": "stream",
     "text": [
      "000425.SZ updated from 20210114 to 20210115\n",
      "Time cost : 1.1587769985198975s\n"
     ]
    },
    {
     "name": "stderr",
     "output_type": "stream",
     "text": [
      "\n",
      " 33%|███▎      | 707/2129 [51:55<1:20:25,  3.39s/it]"
     ]
    },
    {
     "name": "stdout",
     "output_type": "stream",
     "text": [
      "600325.SH updated from 20210114 to 20210115\n",
      "Time cost : 4.165355205535889s\n"
     ]
    },
    {
     "name": "stderr",
     "output_type": "stream",
     "text": [
      "\n",
      " 33%|███▎      | 708/2129 [51:59<1:25:52,  3.63s/it]"
     ]
    },
    {
     "name": "stdout",
     "output_type": "stream",
     "text": [
      "605376.SH updated from 20210114 to 20210115\n",
      "Time cost : 1.909404993057251s\n"
     ]
    },
    {
     "name": "stderr",
     "output_type": "stream",
     "text": [
      "\n",
      " 33%|███▎      | 709/2129 [52:01<1:13:38,  3.11s/it]"
     ]
    },
    {
     "name": "stdout",
     "output_type": "stream",
     "text": [
      "600996.SH updated from 20210114 to 20210115\n",
      "Time cost : 2.6672935485839844s\n"
     ]
    },
    {
     "name": "stderr",
     "output_type": "stream",
     "text": [
      "\n",
      " 33%|███▎      | 710/2129 [52:03<1:10:27,  2.98s/it]"
     ]
    },
    {
     "name": "stdout",
     "output_type": "stream",
     "text": [
      "600132.SH updated from 20210114 to 20210115\n",
      "Time cost : 5.020246744155884s\n"
     ]
    },
    {
     "name": "stderr",
     "output_type": "stream",
     "text": [
      "\n",
      " 33%|███▎      | 711/2129 [52:08<1:24:53,  3.59s/it]"
     ]
    },
    {
     "name": "stdout",
     "output_type": "stream",
     "text": [
      "601333.SH updated from 20210114 to 20210115\n",
      "Time cost : 2.5074081420898438s\n"
     ]
    },
    {
     "name": "stderr",
     "output_type": "stream",
     "text": [
      "\n",
      " 33%|███▎      | 712/2129 [52:11<1:17:09,  3.27s/it]"
     ]
    },
    {
     "name": "stdout",
     "output_type": "stream",
     "text": [
      "603429.SH updated from 20210114 to 20210115\n",
      "Time cost : 10.411378622055054s\n"
     ]
    },
    {
     "name": "stderr",
     "output_type": "stream",
     "text": [
      "\n",
      " 33%|███▎      | 713/2129 [52:21<2:07:42,  5.41s/it]"
     ]
    },
    {
     "name": "stdout",
     "output_type": "stream",
     "text": [
      "601158.SH updated from 20210114 to 20210115\n",
      "Time cost : 5.03011417388916s\n"
     ]
    },
    {
     "name": "stderr",
     "output_type": "stream",
     "text": [
      "\n",
      " 34%|███▎      | 714/2129 [52:26<2:04:55,  5.30s/it]"
     ]
    },
    {
     "name": "stdout",
     "output_type": "stream",
     "text": [
      "000021.SZ updated from 20210114 to 20210115\n",
      "Time cost : 3.3506195545196533s\n"
     ]
    },
    {
     "name": "stderr",
     "output_type": "stream",
     "text": [
      "\n",
      " 34%|███▎      | 715/2129 [52:30<1:51:05,  4.71s/it]"
     ]
    },
    {
     "name": "stdout",
     "output_type": "stream",
     "text": [
      "000875.SZ updated from 20210114 to 20210115\n",
      "Time cost : 1.173577070236206s\n"
     ]
    },
    {
     "name": "stderr",
     "output_type": "stream",
     "text": [
      "\n",
      " 34%|███▎      | 716/2129 [52:31<1:26:01,  3.65s/it]"
     ]
    },
    {
     "name": "stdout",
     "output_type": "stream",
     "text": [
      "688488.SH updated from 20210114 to 20210115\n",
      "Time cost : 1.1178555488586426s\n"
     ]
    },
    {
     "name": "stderr",
     "output_type": "stream",
     "text": [
      "\n",
      " 34%|███▎      | 717/2129 [52:32<1:08:04,  2.89s/it]"
     ]
    },
    {
     "name": "stdout",
     "output_type": "stream",
     "text": [
      "002572.SZ updated from 20210114 to 20210115\n",
      "Time cost : 2.292797327041626s\n"
     ]
    },
    {
     "name": "stderr",
     "output_type": "stream",
     "text": [
      "\n",
      " 34%|███▎      | 718/2129 [52:34<1:03:48,  2.71s/it]"
     ]
    },
    {
     "name": "stdout",
     "output_type": "stream",
     "text": [
      "300925.SZ updated from 20210114 to 20210115\n",
      "Time cost : 1.6578729152679443s\n"
     ]
    },
    {
     "name": "stderr",
     "output_type": "stream",
     "text": [
      "\n",
      " 34%|███▍      | 719/2129 [52:36<56:20,  2.40s/it]  "
     ]
    },
    {
     "name": "stdout",
     "output_type": "stream",
     "text": [
      "000861.SZ updated from 20210114 to 20210115\n",
      "Time cost : 5.763535737991333s\n"
     ]
    },
    {
     "name": "stderr",
     "output_type": "stream",
     "text": [
      "\n",
      " 34%|███▍      | 720/2129 [52:42<1:20:01,  3.41s/it]"
     ]
    },
    {
     "name": "stdout",
     "output_type": "stream",
     "text": [
      "600196.SH updated from 20210114 to 20210115\n",
      "Time cost : 1.7766001224517822s\n"
     ]
    },
    {
     "name": "stderr",
     "output_type": "stream",
     "text": [
      "\n",
      " 34%|███▍      | 721/2129 [52:43<1:08:29,  2.92s/it]"
     ]
    },
    {
     "name": "stdout",
     "output_type": "stream",
     "text": [
      "600757.SH updated from 20210114 to 20210115\n",
      "Time cost : 2.7602012157440186s\n"
     ]
    },
    {
     "name": "stderr",
     "output_type": "stream",
     "text": [
      "\n",
      " 34%|███▍      | 722/2129 [52:46<1:07:21,  2.87s/it]"
     ]
    },
    {
     "name": "stdout",
     "output_type": "stream",
     "text": [
      "000615.SZ updated from 20210114 to 20210115\n",
      "Time cost : 4.057722568511963s\n"
     ]
    },
    {
     "name": "stderr",
     "output_type": "stream",
     "text": [
      "\n",
      " 34%|███▍      | 723/2129 [52:50<1:15:39,  3.23s/it]"
     ]
    },
    {
     "name": "stdout",
     "output_type": "stream",
     "text": [
      "002249.SZ updated from 20210114 to 20210115\n",
      "Time cost : 1.1478166580200195s\n"
     ]
    },
    {
     "name": "stderr",
     "output_type": "stream",
     "text": [
      "\n",
      " 34%|███▍      | 724/2129 [52:51<1:01:00,  2.61s/it]"
     ]
    },
    {
     "name": "stdout",
     "output_type": "stream",
     "text": [
      "300898.SZ updated from 20210114 to 20210115\n",
      "Time cost : 7.268309593200684s\n"
     ]
    },
    {
     "name": "stderr",
     "output_type": "stream",
     "text": [
      "\n",
      " 34%|███▍      | 725/2129 [52:59<1:33:42,  4.00s/it]"
     ]
    },
    {
     "name": "stdout",
     "output_type": "stream",
     "text": [
      "688085.SH updated from 20210114 to 20210115\n",
      "Time cost : 3.453937530517578s\n"
     ]
    },
    {
     "name": "stderr",
     "output_type": "stream",
     "text": [
      "\n",
      " 34%|███▍      | 726/2129 [53:02<1:29:47,  3.84s/it]"
     ]
    },
    {
     "name": "stdout",
     "output_type": "stream",
     "text": [
      "002238.SZ updated from 20210114 to 20210115\n",
      "Time cost : 8.989200592041016s\n"
     ]
    },
    {
     "name": "stderr",
     "output_type": "stream",
     "text": [
      "\n",
      " 34%|███▍      | 727/2129 [53:11<2:05:50,  5.39s/it]"
     ]
    },
    {
     "name": "stdout",
     "output_type": "stream",
     "text": [
      "300799.SZ updated from 20210114 to 20210115\n",
      "Time cost : 1.6778113842010498s\n"
     ]
    },
    {
     "name": "stderr",
     "output_type": "stream",
     "text": [
      "\n",
      " 34%|███▍      | 728/2129 [53:13<1:39:47,  4.27s/it]"
     ]
    },
    {
     "name": "stdout",
     "output_type": "stream",
     "text": [
      "605183.SH updated from 20210114 to 20210115\n",
      "Time cost : 1.919825792312622s\n"
     ]
    },
    {
     "name": "stderr",
     "output_type": "stream",
     "text": [
      "\n",
      " 34%|███▍      | 729/2129 [53:15<1:23:15,  3.57s/it]"
     ]
    },
    {
     "name": "stdout",
     "output_type": "stream",
     "text": [
      "600009.SH updated from 20210114 to 20210115\n",
      "Time cost : 2.295004367828369s\n"
     ]
    },
    {
     "name": "stderr",
     "output_type": "stream",
     "text": [
      "\n",
      " 34%|███▍      | 730/2129 [53:17<1:14:18,  3.19s/it]"
     ]
    },
    {
     "name": "stdout",
     "output_type": "stream",
     "text": [
      "002841.SZ updated from 20210114 to 20210115\n",
      "Time cost : 3.0691888332366943s\n"
     ]
    },
    {
     "name": "stderr",
     "output_type": "stream",
     "text": [
      "\n",
      " 34%|███▍      | 731/2129 [53:20<1:13:26,  3.15s/it]"
     ]
    },
    {
     "name": "stdout",
     "output_type": "stream",
     "text": [
      "688138.SH updated from 20210114 to 20210115\n",
      "Time cost : 4.300539016723633s\n"
     ]
    },
    {
     "name": "stderr",
     "output_type": "stream",
     "text": [
      "\n",
      " 34%|███▍      | 732/2129 [53:24<1:21:25,  3.50s/it]"
     ]
    },
    {
     "name": "stdout",
     "output_type": "stream",
     "text": [
      "003026.SZ updated from 20210114 to 20210115\n",
      "Time cost : 3.3587331771850586s\n"
     ]
    },
    {
     "name": "stderr",
     "output_type": "stream",
     "text": [
      "\n",
      " 34%|███▍      | 733/2129 [53:28<1:20:24,  3.46s/it]"
     ]
    },
    {
     "name": "stdout",
     "output_type": "stream",
     "text": [
      "603392.SH updated from 20210114 to 20210115\n",
      "Time cost : 4.609611511230469s\n"
     ]
    },
    {
     "name": "stderr",
     "output_type": "stream",
     "text": [
      "\n",
      " 34%|███▍      | 734/2129 [53:32<1:28:25,  3.80s/it]"
     ]
    },
    {
     "name": "stdout",
     "output_type": "stream",
     "text": [
      "601298.SH updated from 20210114 to 20210115\n",
      "Time cost : 3.183964252471924s\n"
     ]
    },
    {
     "name": "stderr",
     "output_type": "stream",
     "text": [
      "\n",
      " 35%|███▍      | 735/2129 [53:36<1:24:03,  3.62s/it]"
     ]
    },
    {
     "name": "stdout",
     "output_type": "stream",
     "text": [
      "600362.SH updated from 20210114 to 20210115\n",
      "Time cost : 5.925865411758423s\n"
     ]
    },
    {
     "name": "stderr",
     "output_type": "stream",
     "text": [
      "\n",
      " 35%|███▍      | 736/2129 [53:42<1:40:05,  4.31s/it]"
     ]
    },
    {
     "name": "stdout",
     "output_type": "stream",
     "text": [
      "603533.SH updated from 20210114 to 20210115\n",
      "Time cost : 3.8953073024749756s\n"
     ]
    },
    {
     "name": "stderr",
     "output_type": "stream",
     "text": [
      "\n",
      " 35%|███▍      | 737/2129 [53:45<1:37:08,  4.19s/it]"
     ]
    },
    {
     "name": "stdout",
     "output_type": "stream",
     "text": [
      "002531.SZ updated from 20210114 to 20210115\n",
      "Time cost : 16.102924346923828s\n"
     ]
    },
    {
     "name": "stderr",
     "output_type": "stream",
     "text": [
      "\n",
      " 35%|███▍      | 738/2129 [54:02<2:59:57,  7.76s/it]"
     ]
    },
    {
     "name": "stdout",
     "output_type": "stream",
     "text": [
      "300298.SZ updated from 20210114 to 20210115\n",
      "Time cost : 3.706125020980835s\n"
     ]
    },
    {
     "name": "stderr",
     "output_type": "stream",
     "text": [
      "\n",
      " 35%|███▍      | 739/2129 [54:05<2:31:38,  6.55s/it]"
     ]
    },
    {
     "name": "stdout",
     "output_type": "stream",
     "text": [
      "600452.SH updated from 20210114 to 20210115\n",
      "Time cost : 2.1350204944610596s\n"
     ]
    },
    {
     "name": "stderr",
     "output_type": "stream",
     "text": [
      "\n",
      " 35%|███▍      | 740/2129 [54:07<2:00:55,  5.22s/it]"
     ]
    },
    {
     "name": "stdout",
     "output_type": "stream",
     "text": [
      "688516.SH updated from 20210114 to 20210115\n",
      "Time cost : 2.9620425701141357s\n"
     ]
    },
    {
     "name": "stderr",
     "output_type": "stream",
     "text": [
      "\n",
      " 35%|███▍      | 741/2129 [54:10<1:45:08,  4.55s/it]"
     ]
    },
    {
     "name": "stdout",
     "output_type": "stream",
     "text": [
      "300875.SZ updated from 20210114 to 20210115\n",
      "Time cost : 3.2774038314819336s\n"
     ]
    },
    {
     "name": "stderr",
     "output_type": "stream",
     "text": [
      "\n",
      " 35%|███▍      | 742/2129 [54:14<1:36:17,  4.17s/it]"
     ]
    },
    {
     "name": "stdout",
     "output_type": "stream",
     "text": [
      "002596.SZ updated from 20210114 to 20210115\n",
      "Time cost : 2.5869498252868652s\n"
     ]
    },
    {
     "name": "stderr",
     "output_type": "stream",
     "text": [
      "\n",
      " 35%|███▍      | 743/2129 [54:16<1:25:18,  3.69s/it]"
     ]
    },
    {
     "name": "stdout",
     "output_type": "stream",
     "text": [
      "002010.SZ updated from 20210114 to 20210115\n",
      "Time cost : 4.226582765579224s\n"
     ]
    },
    {
     "name": "stderr",
     "output_type": "stream",
     "text": [
      "\n",
      " 35%|███▍      | 744/2129 [54:20<1:28:57,  3.85s/it]"
     ]
    },
    {
     "name": "stdout",
     "output_type": "stream",
     "text": [
      "601611.SH updated from 20210114 to 20210115\n",
      "Time cost : 2.5674867630004883s\n"
     ]
    },
    {
     "name": "stderr",
     "output_type": "stream",
     "text": [
      "\n",
      " 35%|███▍      | 745/2129 [54:23<1:20:00,  3.47s/it]"
     ]
    },
    {
     "name": "stdout",
     "output_type": "stream",
     "text": [
      "000039.SZ updated from 20210114 to 20210115\n",
      "Time cost : 3.5384838581085205s\n"
     ]
    },
    {
     "name": "stderr",
     "output_type": "stream",
     "text": [
      "\n",
      " 35%|███▌      | 746/2129 [54:27<1:20:26,  3.49s/it]"
     ]
    },
    {
     "name": "stdout",
     "output_type": "stream",
     "text": [
      "601555.SH updated from 20210114 to 20210115\n",
      "Time cost : 2.938164234161377s\n"
     ]
    },
    {
     "name": "stderr",
     "output_type": "stream",
     "text": [
      "\n",
      " 35%|███▌      | 747/2129 [54:29<1:16:35,  3.33s/it]"
     ]
    },
    {
     "name": "stdout",
     "output_type": "stream",
     "text": [
      "300317.SZ updated from 20210114 to 20210115\n",
      "Time cost : 7.947848796844482s\n"
     ]
    },
    {
     "name": "stderr",
     "output_type": "stream",
     "text": [
      "\n",
      " 35%|███▌      | 748/2129 [54:37<1:48:28,  4.71s/it]"
     ]
    },
    {
     "name": "stdout",
     "output_type": "stream",
     "text": [
      "300118.SZ updated from 20210114 to 20210115\n",
      "Time cost : 4.233152389526367s\n"
     ]
    },
    {
     "name": "stderr",
     "output_type": "stream",
     "text": [
      "\n",
      " 35%|███▌      | 749/2129 [54:42<1:45:05,  4.57s/it]"
     ]
    },
    {
     "name": "stdout",
     "output_type": "stream",
     "text": [
      "600435.SH updated from 20210114 to 20210115\n",
      "Time cost : 6.587625741958618s\n"
     ]
    },
    {
     "name": "stderr",
     "output_type": "stream",
     "text": [
      "\n",
      " 35%|███▌      | 750/2129 [54:48<1:58:57,  5.18s/it]"
     ]
    },
    {
     "name": "stdout",
     "output_type": "stream",
     "text": [
      "600236.SH updated from 20210114 to 20210115\n",
      "Time cost : 2.8638417720794678s\n"
     ]
    },
    {
     "name": "stderr",
     "output_type": "stream",
     "text": [
      "\n",
      " 35%|███▌      | 751/2129 [54:51<1:42:56,  4.48s/it]"
     ]
    },
    {
     "name": "stdout",
     "output_type": "stream",
     "text": [
      "002745.SZ updated from 20210114 to 20210115\n",
      "Time cost : 3.454963207244873s\n"
     ]
    },
    {
     "name": "stderr",
     "output_type": "stream",
     "text": [
      "\n",
      " 35%|███▌      | 752/2129 [54:55<1:35:49,  4.18s/it]"
     ]
    },
    {
     "name": "stdout",
     "output_type": "stream",
     "text": [
      "300363.SZ updated from 20210114 to 20210115\n",
      "Time cost : 3.668863296508789s\n"
     ]
    },
    {
     "name": "stderr",
     "output_type": "stream",
     "text": [
      "\n",
      " 35%|███▌      | 753/2129 [54:58<1:32:16,  4.02s/it]"
     ]
    },
    {
     "name": "stdout",
     "output_type": "stream",
     "text": [
      "600056.SH updated from 20210114 to 20210115\n",
      "Time cost : 19.262693881988525s\n"
     ]
    },
    {
     "name": "stderr",
     "output_type": "stream",
     "text": [
      "\n",
      " 35%|███▌      | 754/2129 [55:18<3:16:59,  8.60s/it]"
     ]
    },
    {
     "name": "stdout",
     "output_type": "stream",
     "text": [
      "002293.SZ updated from 20210114 to 20210115\n",
      "Time cost : 2.2921996116638184s\n"
     ]
    },
    {
     "name": "stderr",
     "output_type": "stream",
     "text": [
      "\n",
      " 35%|███▌      | 755/2129 [55:20<2:33:33,  6.71s/it]"
     ]
    },
    {
     "name": "stdout",
     "output_type": "stream",
     "text": [
      "002437.SZ updated from 20210114 to 20210115\n",
      "Time cost : 2.1363022327423096s\n"
     ]
    },
    {
     "name": "stderr",
     "output_type": "stream",
     "text": [
      "\n",
      " 36%|███▌      | 756/2129 [55:22<2:02:05,  5.34s/it]"
     ]
    },
    {
     "name": "stdout",
     "output_type": "stream",
     "text": [
      "002752.SZ updated from 20210114 to 20210115\n",
      "Time cost : 4.02284049987793s\n"
     ]
    },
    {
     "name": "stderr",
     "output_type": "stream",
     "text": [
      "\n",
      " 36%|███▌      | 757/2129 [55:26<1:53:00,  4.94s/it]"
     ]
    },
    {
     "name": "stdout",
     "output_type": "stream",
     "text": [
      "000998.SZ updated from 20210114 to 20210115\n",
      "Time cost : 4.823992967605591s\n"
     ]
    },
    {
     "name": "stderr",
     "output_type": "stream",
     "text": [
      "\n",
      " 36%|███▌      | 758/2129 [55:31<1:52:08,  4.91s/it]"
     ]
    },
    {
     "name": "stdout",
     "output_type": "stream",
     "text": [
      "300177.SZ updated from 20210114 to 20210115\n",
      "Time cost : 5.563654661178589s\n"
     ]
    },
    {
     "name": "stderr",
     "output_type": "stream",
     "text": [
      "\n",
      " 36%|███▌      | 759/2129 [55:36<1:56:34,  5.11s/it]"
     ]
    },
    {
     "name": "stdout",
     "output_type": "stream",
     "text": [
      "600748.SH updated from 20210114 to 20210115\n",
      "Time cost : 2.1251161098480225s\n"
     ]
    },
    {
     "name": "stderr",
     "output_type": "stream",
     "text": [
      "\n",
      " 36%|███▌      | 760/2129 [55:38<1:36:06,  4.21s/it]"
     ]
    },
    {
     "name": "stdout",
     "output_type": "stream",
     "text": [
      "600323.SH updated from 20210114 to 20210115\n",
      "Time cost : 1.7841496467590332s\n"
     ]
    },
    {
     "name": "stderr",
     "output_type": "stream",
     "text": [
      "\n",
      " 36%|███▌      | 761/2129 [55:40<1:19:26,  3.48s/it]"
     ]
    },
    {
     "name": "stdout",
     "output_type": "stream",
     "text": [
      "300815.SZ updated from 20210114 to 20210115\n",
      "Time cost : 3.719940423965454s\n"
     ]
    },
    {
     "name": "stderr",
     "output_type": "stream",
     "text": [
      "\n",
      " 36%|███▌      | 762/2129 [55:44<1:21:00,  3.56s/it]"
     ]
    },
    {
     "name": "stdout",
     "output_type": "stream",
     "text": [
      "688339.SH updated from 20210114 to 20210115\n",
      "Time cost : 3.345466375350952s\n"
     ]
    },
    {
     "name": "stderr",
     "output_type": "stream",
     "text": [
      "\n",
      " 36%|███▌      | 763/2129 [55:47<1:19:31,  3.49s/it]"
     ]
    },
    {
     "name": "stdout",
     "output_type": "stream",
     "text": [
      "000513.SZ updated from 20210114 to 20210115\n",
      "Time cost : 2.5124661922454834s\n"
     ]
    },
    {
     "name": "stderr",
     "output_type": "stream",
     "text": [
      "\n",
      " 36%|███▌      | 764/2129 [55:50<1:12:47,  3.20s/it]"
     ]
    },
    {
     "name": "stdout",
     "output_type": "stream",
     "text": [
      "300496.SZ updated from 20210114 to 20210115\n",
      "Time cost : 5.454130411148071s\n"
     ]
    },
    {
     "name": "stderr",
     "output_type": "stream",
     "text": [
      "\n",
      " 36%|███▌      | 765/2129 [55:55<1:28:07,  3.88s/it]"
     ]
    },
    {
     "name": "stdout",
     "output_type": "stream",
     "text": [
      "600085.SH updated from 20210114 to 20210115\n",
      "Time cost : 1.155022144317627s\n"
     ]
    },
    {
     "name": "stderr",
     "output_type": "stream",
     "text": [
      "\n",
      " 36%|███▌      | 766/2129 [55:56<1:09:31,  3.06s/it]"
     ]
    },
    {
     "name": "stdout",
     "output_type": "stream",
     "text": [
      "300222.SZ updated from 20210114 to 20210115\n",
      "Time cost : 2.1699841022491455s\n"
     ]
    },
    {
     "name": "stderr",
     "output_type": "stream",
     "text": [
      "\n",
      " 36%|███▌      | 767/2129 [55:59<1:03:26,  2.79s/it]"
     ]
    },
    {
     "name": "stdout",
     "output_type": "stream",
     "text": [
      "002736.SZ updated from 20210114 to 20210115\n",
      "Time cost : 1.941948652267456s\n"
     ]
    },
    {
     "name": "stderr",
     "output_type": "stream",
     "text": [
      "\n",
      " 36%|███▌      | 768/2129 [56:01<57:35,  2.54s/it]  "
     ]
    },
    {
     "name": "stdout",
     "output_type": "stream",
     "text": [
      "600968.SH updated from 20210114 to 20210115\n",
      "Time cost : 9.495023727416992s\n"
     ]
    },
    {
     "name": "stderr",
     "output_type": "stream",
     "text": [
      "\n",
      " 36%|███▌      | 769/2129 [56:10<1:44:52,  4.63s/it]"
     ]
    },
    {
     "name": "stdout",
     "output_type": "stream",
     "text": [
      "002429.SZ updated from 20210114 to 20210115\n",
      "Time cost : 2.1509830951690674s\n"
     ]
    },
    {
     "name": "stderr",
     "output_type": "stream",
     "text": [
      "\n",
      " 36%|███▌      | 770/2129 [56:12<1:27:59,  3.88s/it]"
     ]
    },
    {
     "name": "stdout",
     "output_type": "stream",
     "text": [
      "002411.SZ updated from 20210114 to 20210115\n",
      "Time cost : 7.378909111022949s\n"
     ]
    },
    {
     "name": "stderr",
     "output_type": "stream",
     "text": [
      "\n",
      " 36%|███▌      | 771/2129 [56:20<1:51:40,  4.93s/it]"
     ]
    },
    {
     "name": "stdout",
     "output_type": "stream",
     "text": [
      "002373.SZ updated from 20210114 to 20210115\n",
      "Time cost : 22.23251247406006s\n"
     ]
    },
    {
     "name": "stderr",
     "output_type": "stream",
     "text": [
      "\n",
      " 36%|███▋      | 772/2129 [56:42<3:48:58, 10.12s/it]"
     ]
    },
    {
     "name": "stdout",
     "output_type": "stream",
     "text": [
      "300019.SZ updated from 20210114 to 20210115\n",
      "Time cost : 4.112950325012207s\n"
     ]
    },
    {
     "name": "stderr",
     "output_type": "stream",
     "text": [
      "\n",
      " 36%|███▋      | 773/2129 [56:46<3:08:03,  8.32s/it]"
     ]
    },
    {
     "name": "stdout",
     "output_type": "stream",
     "text": [
      "600392.SH updated from 20210114 to 20210115\n",
      "Time cost : 1.1868133544921875s\n"
     ]
    },
    {
     "name": "stderr",
     "output_type": "stream",
     "text": [
      "\n",
      " 36%|███▋      | 774/2129 [56:47<2:19:35,  6.18s/it]"
     ]
    },
    {
     "name": "stdout",
     "output_type": "stream",
     "text": [
      "000898.SZ updated from 20210114 to 20210115\n",
      "Time cost : 3.6130802631378174s\n"
     ]
    },
    {
     "name": "stderr",
     "output_type": "stream",
     "text": [
      "\n",
      " 36%|███▋      | 775/2129 [56:51<2:02:07,  5.41s/it]"
     ]
    },
    {
     "name": "stdout",
     "output_type": "stream",
     "text": [
      "600108.SH updated from 20210114 to 20210115\n",
      "Time cost : 11.311316967010498s\n"
     ]
    },
    {
     "name": "stderr",
     "output_type": "stream",
     "text": [
      "\n",
      " 36%|███▋      | 776/2129 [57:02<2:41:57,  7.18s/it]"
     ]
    },
    {
     "name": "stdout",
     "output_type": "stream",
     "text": [
      "600583.SH updated from 20210114 to 20210115\n",
      "Time cost : 1.8281426429748535s\n"
     ]
    },
    {
     "name": "stderr",
     "output_type": "stream",
     "text": [
      "\n",
      " 36%|███▋      | 777/2129 [57:04<2:05:39,  5.58s/it]"
     ]
    },
    {
     "name": "stdout",
     "output_type": "stream",
     "text": [
      "603308.SH updated from 20210114 to 20210115\n",
      "Time cost : 2.430607318878174s\n"
     ]
    },
    {
     "name": "stderr",
     "output_type": "stream",
     "text": [
      "\n",
      " 37%|███▋      | 778/2129 [57:06<1:44:19,  4.63s/it]"
     ]
    },
    {
     "name": "stdout",
     "output_type": "stream",
     "text": [
      "688135.SH updated from 20210114 to 20210115\n",
      "Time cost : 9.538779020309448s\n"
     ]
    },
    {
     "name": "stderr",
     "output_type": "stream",
     "text": [
      "\n",
      " 37%|███▋      | 779/2129 [57:16<2:17:22,  6.11s/it]"
     ]
    },
    {
     "name": "stdout",
     "output_type": "stream",
     "text": [
      "002602.SZ updated from 20210114 to 20210115\n",
      "Time cost : 4.193359375s\n"
     ]
    },
    {
     "name": "stderr",
     "output_type": "stream",
     "text": [
      "\n",
      " 37%|███▋      | 780/2129 [57:20<2:04:23,  5.53s/it]"
     ]
    },
    {
     "name": "stdout",
     "output_type": "stream",
     "text": [
      "600058.SH updated from 20210114 to 20210115\n",
      "Time cost : 2.611963987350464s\n"
     ]
    },
    {
     "name": "stderr",
     "output_type": "stream",
     "text": [
      "\n",
      " 37%|███▋      | 781/2129 [57:23<1:44:37,  4.66s/it]"
     ]
    },
    {
     "name": "stdout",
     "output_type": "stream",
     "text": [
      "002015.SZ updated from 20210114 to 20210115\n",
      "Time cost : 6.36203932762146s\n"
     ]
    },
    {
     "name": "stderr",
     "output_type": "stream",
     "text": [
      "\n",
      " 37%|███▋      | 782/2129 [57:29<1:56:02,  5.17s/it]"
     ]
    },
    {
     "name": "stdout",
     "output_type": "stream",
     "text": [
      "688200.SH updated from 20210114 to 20210115\n",
      "Time cost : 6.792780160903931s\n"
     ]
    },
    {
     "name": "stderr",
     "output_type": "stream",
     "text": [
      "\n",
      " 37%|███▋      | 783/2129 [57:36<2:06:54,  5.66s/it]"
     ]
    },
    {
     "name": "stdout",
     "output_type": "stream",
     "text": [
      "300413.SZ updated from 20210114 to 20210115\n",
      "Time cost : 5.438097715377808s\n"
     ]
    },
    {
     "name": "stderr",
     "output_type": "stream",
     "text": [
      "\n",
      " 37%|███▋      | 784/2129 [57:41<2:05:21,  5.59s/it]"
     ]
    },
    {
     "name": "stdout",
     "output_type": "stream",
     "text": [
      "002324.SZ updated from 20210114 to 20210115\n",
      "Time cost : 1.1552395820617676s\n"
     ]
    },
    {
     "name": "stderr",
     "output_type": "stream",
     "text": [
      "\n",
      " 37%|███▋      | 785/2129 [57:42<1:35:27,  4.26s/it]"
     ]
    },
    {
     "name": "stdout",
     "output_type": "stream",
     "text": [
      "300373.SZ updated from 20210114 to 20210115\n",
      "Time cost : 4.537933349609375s\n"
     ]
    },
    {
     "name": "stderr",
     "output_type": "stream",
     "text": [
      "\n",
      " 37%|███▋      | 786/2129 [57:47<1:37:15,  4.35s/it]"
     ]
    },
    {
     "name": "stdout",
     "output_type": "stream",
     "text": [
      "002303.SZ updated from 20210114 to 20210115\n",
      "Time cost : 1.751652479171753s\n"
     ]
    },
    {
     "name": "stderr",
     "output_type": "stream",
     "text": [
      "\n",
      " 37%|███▋      | 787/2129 [57:49<1:19:47,  3.57s/it]"
     ]
    },
    {
     "name": "stdout",
     "output_type": "stream",
     "text": [
      "002588.SZ updated from 20210114 to 20210115\n",
      "Time cost : 4.090688228607178s\n"
     ]
    },
    {
     "name": "stderr",
     "output_type": "stream",
     "text": [
      "\n",
      " 37%|███▋      | 788/2129 [57:53<1:23:15,  3.73s/it]"
     ]
    },
    {
     "name": "stdout",
     "output_type": "stream",
     "text": [
      "000672.SZ updated from 20210114 to 20210115\n",
      "Time cost : 4.186433792114258s\n"
     ]
    },
    {
     "name": "stderr",
     "output_type": "stream",
     "text": [
      "\n",
      " 37%|███▋      | 789/2129 [57:57<1:26:18,  3.86s/it]"
     ]
    },
    {
     "name": "stdout",
     "output_type": "stream",
     "text": [
      "600839.SH updated from 20210114 to 20210115\n",
      "Time cost : 2.1954803466796875s\n"
     ]
    },
    {
     "name": "stderr",
     "output_type": "stream",
     "text": [
      "\n",
      " 37%|███▋      | 790/2129 [57:59<1:15:04,  3.36s/it]"
     ]
    },
    {
     "name": "stdout",
     "output_type": "stream",
     "text": [
      "600939.SH updated from 20210114 to 20210115\n",
      "Time cost : 1.6930747032165527s\n"
     ]
    },
    {
     "name": "stderr",
     "output_type": "stream",
     "text": [
      "\n",
      " 37%|███▋      | 791/2129 [58:01<1:03:51,  2.86s/it]"
     ]
    },
    {
     "name": "stdout",
     "output_type": "stream",
     "text": [
      "603103.SH updated from 20210114 to 20210115\n",
      "Time cost : 4.786999702453613s\n"
     ]
    },
    {
     "name": "stderr",
     "output_type": "stream",
     "text": [
      "\n",
      " 37%|███▋      | 792/2129 [58:06<1:16:41,  3.44s/it]"
     ]
    },
    {
     "name": "stdout",
     "output_type": "stream",
     "text": [
      "603686.SH updated from 20210114 to 20210115\n",
      "Time cost : 1.9769790172576904s\n"
     ]
    },
    {
     "name": "stderr",
     "output_type": "stream",
     "text": [
      "\n",
      " 37%|███▋      | 793/2129 [58:08<1:06:51,  3.00s/it]"
     ]
    },
    {
     "name": "stdout",
     "output_type": "stream",
     "text": [
      "003013.SZ updated from 20210114 to 20210115\n",
      "Time cost : 6.655078649520874s\n"
     ]
    },
    {
     "name": "stderr",
     "output_type": "stream",
     "text": [
      "\n",
      " 37%|███▋      | 794/2129 [58:14<1:31:12,  4.10s/it]"
     ]
    },
    {
     "name": "stdout",
     "output_type": "stream",
     "text": [
      "600750.SH updated from 20210114 to 20210115\n",
      "Time cost : 3.8633148670196533s\n"
     ]
    },
    {
     "name": "stderr",
     "output_type": "stream",
     "text": [
      "\n",
      " 37%|███▋      | 795/2129 [58:18<1:29:34,  4.03s/it]"
     ]
    },
    {
     "name": "stdout",
     "output_type": "stream",
     "text": [
      "002024.SZ updated from 20210114 to 20210115\n",
      "Time cost : 2.7576396465301514s\n"
     ]
    },
    {
     "name": "stderr",
     "output_type": "stream",
     "text": [
      "\n",
      " 37%|███▋      | 796/2129 [58:21<1:21:03,  3.65s/it]"
     ]
    },
    {
     "name": "stdout",
     "output_type": "stream",
     "text": [
      "002013.SZ updated from 20210114 to 20210115\n",
      "Time cost : 8.94493055343628s\n"
     ]
    },
    {
     "name": "stderr",
     "output_type": "stream",
     "text": [
      "\n",
      " 37%|███▋      | 797/2129 [58:30<1:56:16,  5.24s/it]"
     ]
    },
    {
     "name": "stdout",
     "output_type": "stream",
     "text": [
      "000563.SZ updated from 20210114 to 20210115\n",
      "Time cost : 4.7577924728393555s\n"
     ]
    },
    {
     "name": "stderr",
     "output_type": "stream",
     "text": [
      "\n",
      " 37%|███▋      | 798/2129 [58:35<1:53:00,  5.09s/it]"
     ]
    },
    {
     "name": "stdout",
     "output_type": "stream",
     "text": [
      "002050.SZ updated from 20210114 to 20210115\n",
      "Time cost : 5.787585735321045s\n"
     ]
    },
    {
     "name": "stderr",
     "output_type": "stream",
     "text": [
      "\n",
      " 38%|███▊      | 799/2129 [58:40<1:57:33,  5.30s/it]"
     ]
    },
    {
     "name": "stdout",
     "output_type": "stream",
     "text": [
      "300788.SZ updated from 20210114 to 20210115\n",
      "Time cost : 1.1127636432647705s\n"
     ]
    },
    {
     "name": "stderr",
     "output_type": "stream",
     "text": [
      "\n",
      " 38%|███▊      | 800/2129 [58:42<1:29:38,  4.05s/it]"
     ]
    },
    {
     "name": "stdout",
     "output_type": "stream",
     "text": [
      "002081.SZ updated from 20210114 to 20210115\n",
      "Time cost : 4.925884962081909s\n"
     ]
    },
    {
     "name": "stderr",
     "output_type": "stream",
     "text": [
      "\n",
      " 38%|███▊      | 801/2129 [58:47<1:35:25,  4.31s/it]"
     ]
    },
    {
     "name": "stdout",
     "output_type": "stream",
     "text": [
      "300423.SZ updated from 20210114 to 20210115\n",
      "Time cost : 1.1751012802124023s\n"
     ]
    },
    {
     "name": "stderr",
     "output_type": "stream",
     "text": [
      "\n",
      " 38%|███▊      | 802/2129 [58:48<1:14:33,  3.37s/it]"
     ]
    },
    {
     "name": "stdout",
     "output_type": "stream",
     "text": [
      "002044.SZ updated from 20210114 to 20210115\n",
      "Time cost : 6.400069236755371s\n"
     ]
    },
    {
     "name": "stderr",
     "output_type": "stream",
     "text": [
      "\n",
      " 38%|███▊      | 803/2129 [58:54<1:34:35,  4.28s/it]"
     ]
    },
    {
     "name": "stdout",
     "output_type": "stream",
     "text": [
      "002428.SZ updated from 20210114 to 20210115\n",
      "Time cost : 7.296875715255737s\n"
     ]
    },
    {
     "name": "stderr",
     "output_type": "stream",
     "text": [
      "\n",
      " 38%|███▊      | 804/2129 [59:01<1:54:32,  5.19s/it]"
     ]
    },
    {
     "name": "stdout",
     "output_type": "stream",
     "text": [
      "000564.SZ updated from 20210114 to 20210115\n",
      "Time cost : 2.990111827850342s\n"
     ]
    },
    {
     "name": "stderr",
     "output_type": "stream",
     "text": [
      "\n",
      " 38%|███▊      | 805/2129 [59:04<1:39:55,  4.53s/it]"
     ]
    },
    {
     "name": "stdout",
     "output_type": "stream",
     "text": [
      "600525.SH updated from 20210114 to 20210115\n",
      "Time cost : 6.029910087585449s\n"
     ]
    },
    {
     "name": "stderr",
     "output_type": "stream",
     "text": [
      "\n",
      " 38%|███▊      | 806/2129 [59:10<1:49:47,  4.98s/it]"
     ]
    },
    {
     "name": "stdout",
     "output_type": "stream",
     "text": [
      "600380.SH updated from 20210114 to 20210115\n",
      "Time cost : 1.9245147705078125s\n"
     ]
    },
    {
     "name": "stderr",
     "output_type": "stream",
     "text": [
      "\n",
      " 38%|███▊      | 807/2129 [59:12<1:29:31,  4.06s/it]"
     ]
    },
    {
     "name": "stdout",
     "output_type": "stream",
     "text": [
      "601330.SH updated from 20210114 to 20210115\n",
      "Time cost : 4.1378583908081055s\n"
     ]
    },
    {
     "name": "stderr",
     "output_type": "stream",
     "text": [
      "\n",
      " 38%|███▊      | 808/2129 [59:16<1:29:57,  4.09s/it]"
     ]
    },
    {
     "name": "stdout",
     "output_type": "stream",
     "text": [
      "300005.SZ updated from 20210114 to 20210115\n",
      "Time cost : 8.840996026992798s\n"
     ]
    },
    {
     "name": "stderr",
     "output_type": "stream",
     "text": [
      "\n",
      " 38%|███▊      | 809/2129 [59:25<2:01:17,  5.51s/it]"
     ]
    },
    {
     "name": "stdout",
     "output_type": "stream",
     "text": [
      "002938.SZ updated from 20210114 to 20210115\n",
      "Time cost : 7.392975091934204s\n"
     ]
    },
    {
     "name": "stderr",
     "output_type": "stream",
     "text": [
      "\n",
      " 38%|███▊      | 810/2129 [59:33<2:13:36,  6.08s/it]"
     ]
    },
    {
     "name": "stdout",
     "output_type": "stream",
     "text": [
      "688139.SH updated from 20210114 to 20210115\n",
      "Time cost : 22.952003240585327s\n"
     ]
    },
    {
     "name": "stderr",
     "output_type": "stream",
     "text": [
      "\n",
      " 38%|███▊      | 811/2129 [59:56<4:04:43, 11.14s/it]"
     ]
    },
    {
     "name": "stdout",
     "output_type": "stream",
     "text": [
      "000910.SZ updated from 20210114 to 20210115\n",
      "Time cost : 5.191339731216431s\n"
     ]
    },
    {
     "name": "stderr",
     "output_type": "stream",
     "text": [
      "\n",
      " 38%|███▊      | 812/2129 [1:00:01<3:25:22,  9.36s/it]"
     ]
    },
    {
     "name": "stdout",
     "output_type": "stream",
     "text": [
      "688005.SH updated from 20210114 to 20210115\n",
      "Time cost : 2.1106393337249756s\n"
     ]
    },
    {
     "name": "stderr",
     "output_type": "stream",
     "text": [
      "\n",
      " 38%|███▊      | 813/2129 [1:00:03<2:37:33,  7.18s/it]"
     ]
    },
    {
     "name": "stdout",
     "output_type": "stream",
     "text": [
      "600481.SH updated from 20210114 to 20210115\n",
      "Time cost : 2.816680431365967s\n"
     ]
    },
    {
     "name": "stderr",
     "output_type": "stream",
     "text": [
      "\n",
      " 38%|███▊      | 814/2129 [1:00:06<2:08:44,  5.87s/it]"
     ]
    },
    {
     "name": "stdout",
     "output_type": "stream",
     "text": [
      "002056.SZ updated from 20210114 to 20210115\n",
      "Time cost : 3.0020923614501953s\n"
     ]
    },
    {
     "name": "stderr",
     "output_type": "stream",
     "text": [
      "\n",
      " 38%|███▊      | 815/2129 [1:00:09<1:49:47,  5.01s/it]"
     ]
    },
    {
     "name": "stdout",
     "output_type": "stream",
     "text": [
      "688188.SH updated from 20210114 to 20210115\n",
      "Time cost : 23.501351594924927s\n"
     ]
    },
    {
     "name": "stderr",
     "output_type": "stream",
     "text": [
      "\n",
      " 38%|███▊      | 816/2129 [1:00:32<3:51:05, 10.56s/it]"
     ]
    },
    {
     "name": "stdout",
     "output_type": "stream",
     "text": [
      "600580.SH updated from 20210114 to 20210115\n",
      "Time cost : 4.699131727218628s\n"
     ]
    },
    {
     "name": "stderr",
     "output_type": "stream",
     "text": [
      "\n",
      " 38%|███▊      | 817/2129 [1:00:37<3:12:29,  8.80s/it]"
     ]
    },
    {
     "name": "stdout",
     "output_type": "stream",
     "text": [
      "002415.SZ updated from 20210114 to 20210115\n",
      "Time cost : 3.4728269577026367s\n"
     ]
    },
    {
     "name": "stderr",
     "output_type": "stream",
     "text": [
      "\n",
      " 38%|███▊      | 818/2129 [1:00:40<2:37:24,  7.20s/it]"
     ]
    },
    {
     "name": "stdout",
     "output_type": "stream",
     "text": [
      "600190.SH updated from 20210114 to 20210115\n",
      "Time cost : 2.1348183155059814s\n"
     ]
    },
    {
     "name": "stderr",
     "output_type": "stream",
     "text": [
      "\n",
      " 38%|███▊      | 819/2129 [1:00:43<2:04:06,  5.68s/it]"
     ]
    },
    {
     "name": "stdout",
     "output_type": "stream",
     "text": [
      "600027.SH updated from 20210114 to 20210115\n",
      "Time cost : 3.8671822547912598s\n"
     ]
    },
    {
     "name": "stderr",
     "output_type": "stream",
     "text": [
      "\n",
      " 39%|███▊      | 820/2129 [1:00:46<1:52:08,  5.14s/it]"
     ]
    },
    {
     "name": "stdout",
     "output_type": "stream",
     "text": [
      "600959.SH updated from 20210114 to 20210115\n",
      "Time cost : 2.262091636657715s\n"
     ]
    },
    {
     "name": "stderr",
     "output_type": "stream",
     "text": [
      "\n",
      " 39%|███▊      | 821/2129 [1:00:49<1:33:14,  4.28s/it]"
     ]
    },
    {
     "name": "stdout",
     "output_type": "stream",
     "text": [
      "002960.SZ updated from 20210114 to 20210115\n",
      "Time cost : 2.750208616256714s\n"
     ]
    },
    {
     "name": "stderr",
     "output_type": "stream",
     "text": [
      "\n",
      " 39%|███▊      | 822/2129 [1:00:52<1:23:11,  3.82s/it]"
     ]
    },
    {
     "name": "stdout",
     "output_type": "stream",
     "text": [
      "000899.SZ updated from 20210114 to 20210115\n",
      "Time cost : 2.6265029907226562s\n"
     ]
    },
    {
     "name": "stderr",
     "output_type": "stream",
     "text": [
      "\n",
      " 39%|███▊      | 823/2129 [1:00:54<1:15:21,  3.46s/it]"
     ]
    },
    {
     "name": "stdout",
     "output_type": "stream",
     "text": [
      "300601.SZ updated from 20210114 to 20210115\n",
      "Time cost : 5.113527536392212s\n"
     ]
    },
    {
     "name": "stderr",
     "output_type": "stream",
     "text": [
      "\n",
      " 39%|███▊      | 824/2129 [1:00:59<1:26:05,  3.96s/it]"
     ]
    },
    {
     "name": "stdout",
     "output_type": "stream",
     "text": [
      "000030.SZ updated from 20210114 to 20210115\n",
      "Time cost : 1.7676770687103271s\n"
     ]
    },
    {
     "name": "stderr",
     "output_type": "stream",
     "text": [
      "\n",
      " 39%|███▉      | 825/2129 [1:01:01<1:11:45,  3.30s/it]"
     ]
    },
    {
     "name": "stdout",
     "output_type": "stream",
     "text": [
      "601012.SH updated from 20210114 to 20210115\n",
      "Time cost : 4.19077467918396s\n"
     ]
    },
    {
     "name": "stderr",
     "output_type": "stream",
     "text": [
      "\n",
      " 39%|███▉      | 826/2129 [1:01:05<1:17:30,  3.57s/it]"
     ]
    },
    {
     "name": "stdout",
     "output_type": "stream",
     "text": [
      "300136.SZ updated from 20210114 to 20210115\n",
      "Time cost : 3.069950819015503s\n"
     ]
    },
    {
     "name": "stderr",
     "output_type": "stream",
     "text": [
      "\n",
      " 39%|███▉      | 827/2129 [1:01:08<1:14:12,  3.42s/it]"
     ]
    },
    {
     "name": "stdout",
     "output_type": "stream",
     "text": [
      "002636.SZ updated from 20210114 to 20210115\n",
      "Time cost : 5.013997554779053s\n"
     ]
    },
    {
     "name": "stderr",
     "output_type": "stream",
     "text": [
      "\n",
      " 39%|███▉      | 828/2129 [1:01:13<1:24:32,  3.90s/it]"
     ]
    },
    {
     "name": "stdout",
     "output_type": "stream",
     "text": [
      "688009.SH updated from 20210114 to 20210115\n",
      "Time cost : 5.027835369110107s\n"
     ]
    },
    {
     "name": "stderr",
     "output_type": "stream",
     "text": [
      "\n",
      " 39%|███▉      | 829/2129 [1:01:18<1:31:49,  4.24s/it]"
     ]
    },
    {
     "name": "stdout",
     "output_type": "stream",
     "text": [
      "601118.SH updated from 20210114 to 20210115\n",
      "Time cost : 7.30740213394165s\n"
     ]
    },
    {
     "name": "stderr",
     "output_type": "stream",
     "text": [
      "\n",
      " 39%|███▉      | 830/2129 [1:01:26<1:51:42,  5.16s/it]"
     ]
    },
    {
     "name": "stdout",
     "output_type": "stream",
     "text": [
      "300922.SZ updated from 20210114 to 20210115\n",
      "Time cost : 1.1183795928955078s\n"
     ]
    },
    {
     "name": "stderr",
     "output_type": "stream",
     "text": [
      "\n",
      " 39%|███▉      | 831/2129 [1:01:27<1:25:24,  3.95s/it]"
     ]
    },
    {
     "name": "stdout",
     "output_type": "stream",
     "text": [
      "000712.SZ updated from 20210114 to 20210115\n",
      "Time cost : 3.5799713134765625s\n"
     ]
    },
    {
     "name": "stderr",
     "output_type": "stream",
     "text": [
      "\n",
      " 39%|███▉      | 832/2129 [1:01:30<1:22:58,  3.84s/it]"
     ]
    },
    {
     "name": "stdout",
     "output_type": "stream",
     "text": [
      "603290.SH updated from 20210114 to 20210115\n",
      "Time cost : 24.422253847122192s\n"
     ]
    },
    {
     "name": "stderr",
     "output_type": "stream",
     "text": [
      "\n",
      " 39%|███▉      | 833/2129 [1:01:55<3:36:17, 10.01s/it]"
     ]
    },
    {
     "name": "stdout",
     "output_type": "stream",
     "text": [
      "601828.SH updated from 20210114 to 20210115\n",
      "Time cost : 1.6999001502990723s\n"
     ]
    },
    {
     "name": "stderr",
     "output_type": "stream",
     "text": [
      "\n",
      " 39%|███▉      | 834/2129 [1:01:56<2:42:18,  7.52s/it]"
     ]
    },
    {
     "name": "stdout",
     "output_type": "stream",
     "text": [
      "300891.SZ updated from 20210114 to 20210115\n",
      "Time cost : 7.024367094039917s\n"
     ]
    },
    {
     "name": "stderr",
     "output_type": "stream",
     "text": [
      "\n",
      " 39%|███▉      | 835/2129 [1:02:03<2:38:59,  7.37s/it]"
     ]
    },
    {
     "name": "stdout",
     "output_type": "stream",
     "text": [
      "600764.SH updated from 20210114 to 20210115\n",
      "Time cost : 8.216166734695435s\n"
     ]
    },
    {
     "name": "stderr",
     "output_type": "stream",
     "text": [
      "\n",
      " 39%|███▉      | 836/2129 [1:02:12<2:44:20,  7.63s/it]"
     ]
    },
    {
     "name": "stdout",
     "output_type": "stream",
     "text": [
      "601928.SH updated from 20210114 to 20210115\n",
      "Time cost : 3.084345579147339s\n"
     ]
    },
    {
     "name": "stderr",
     "output_type": "stream",
     "text": [
      "\n",
      " 39%|███▉      | 837/2129 [1:02:15<2:14:53,  6.26s/it]"
     ]
    },
    {
     "name": "stdout",
     "output_type": "stream",
     "text": [
      "600845.SH updated from 20210114 to 20210115\n",
      "Time cost : 3.903937578201294s\n"
     ]
    },
    {
     "name": "stderr",
     "output_type": "stream",
     "text": [
      "\n",
      " 39%|███▉      | 838/2129 [1:02:19<1:59:34,  5.56s/it]"
     ]
    },
    {
     "name": "stdout",
     "output_type": "stream",
     "text": [
      "000913.SZ updated from 20210114 to 20210115\n",
      "Time cost : 1.6921985149383545s\n"
     ]
    },
    {
     "name": "stderr",
     "output_type": "stream",
     "text": [
      "\n",
      " 39%|███▉      | 839/2129 [1:02:20<1:34:33,  4.40s/it]"
     ]
    },
    {
     "name": "stdout",
     "output_type": "stream",
     "text": [
      "601233.SH updated from 20210114 to 20210115\n",
      "Time cost : 2.497291088104248s\n"
     ]
    },
    {
     "name": "stderr",
     "output_type": "stream",
     "text": [
      "\n",
      " 39%|███▉      | 840/2129 [1:02:23<1:22:15,  3.83s/it]"
     ]
    },
    {
     "name": "stdout",
     "output_type": "stream",
     "text": [
      "000967.SZ updated from 20210114 to 20210115\n",
      "Time cost : 2.616652488708496s\n"
     ]
    },
    {
     "name": "stderr",
     "output_type": "stream",
     "text": [
      "\n",
      " 40%|███▉      | 841/2129 [1:02:26<1:14:23,  3.47s/it]"
     ]
    },
    {
     "name": "stdout",
     "output_type": "stream",
     "text": [
      "600062.SH updated from 20210114 to 20210115\n",
      "Time cost : 4.300896167755127s\n"
     ]
    },
    {
     "name": "stderr",
     "output_type": "stream",
     "text": [
      "\n",
      " 40%|███▉      | 842/2129 [1:02:30<1:19:43,  3.72s/it]"
     ]
    },
    {
     "name": "stdout",
     "output_type": "stream",
     "text": [
      "601216.SH updated from 20210114 to 20210115\n",
      "Time cost : 3.168538808822632s\n"
     ]
    },
    {
     "name": "stderr",
     "output_type": "stream",
     "text": [
      "\n",
      " 40%|███▉      | 843/2129 [1:02:33<1:16:09,  3.55s/it]"
     ]
    },
    {
     "name": "stdout",
     "output_type": "stream",
     "text": [
      "688321.SH updated from 20210114 to 20210115\n",
      "Time cost : 4.274082183837891s\n"
     ]
    },
    {
     "name": "stderr",
     "output_type": "stream",
     "text": [
      "\n",
      " 40%|███▉      | 844/2129 [1:02:37<1:20:44,  3.77s/it]"
     ]
    },
    {
     "name": "stdout",
     "output_type": "stream",
     "text": [
      "000935.SZ updated from 20210114 to 20210115\n",
      "Time cost : 14.195677042007446s\n"
     ]
    },
    {
     "name": "stderr",
     "output_type": "stream",
     "text": [
      "\n",
      " 40%|███▉      | 845/2129 [1:02:51<2:27:37,  6.90s/it]"
     ]
    },
    {
     "name": "stdout",
     "output_type": "stream",
     "text": [
      "000915.SZ updated from 20210114 to 20210115\n",
      "Time cost : 3.8044073581695557s\n"
     ]
    },
    {
     "name": "stderr",
     "output_type": "stream",
     "text": [
      "\n",
      " 40%|███▉      | 846/2129 [1:02:55<2:07:40,  5.97s/it]"
     ]
    },
    {
     "name": "stdout",
     "output_type": "stream",
     "text": [
      "603613.SH updated from 20210114 to 20210115\n",
      "Time cost : 4.039324760437012s\n"
     ]
    },
    {
     "name": "stderr",
     "output_type": "stream",
     "text": [
      "\n",
      " 40%|███▉      | 847/2129 [1:02:59<1:55:12,  5.39s/it]"
     ]
    },
    {
     "name": "stdout",
     "output_type": "stream",
     "text": [
      "600688.SH updated from 20210114 to 20210115\n",
      "Time cost : 4.034064531326294s\n"
     ]
    },
    {
     "name": "stderr",
     "output_type": "stream",
     "text": [
      "\n",
      " 40%|███▉      | 848/2129 [1:03:03<1:46:26,  4.99s/it]"
     ]
    },
    {
     "name": "stdout",
     "output_type": "stream",
     "text": [
      "002061.SZ updated from 20210114 to 20210115\n",
      "Time cost : 4.013669729232788s\n"
     ]
    },
    {
     "name": "stderr",
     "output_type": "stream",
     "text": [
      "\n",
      " 40%|███▉      | 849/2129 [1:03:07<1:40:09,  4.69s/it]"
     ]
    },
    {
     "name": "stdout",
     "output_type": "stream",
     "text": [
      "603816.SH updated from 20210114 to 20210115\n",
      "Time cost : 1.6503565311431885s\n"
     ]
    },
    {
     "name": "stderr",
     "output_type": "stream",
     "text": [
      "\n",
      " 40%|███▉      | 850/2129 [1:03:09<1:20:37,  3.78s/it]"
     ]
    },
    {
     "name": "stdout",
     "output_type": "stream",
     "text": [
      "002232.SZ updated from 20210114 to 20210115\n",
      "Time cost : 5.816627025604248s\n"
     ]
    },
    {
     "name": "stderr",
     "output_type": "stream",
     "text": [
      "\n",
      " 40%|███▉      | 851/2129 [1:03:15<1:33:33,  4.39s/it]"
     ]
    },
    {
     "name": "stdout",
     "output_type": "stream",
     "text": [
      "688065.SH updated from 20210114 to 20210115\n",
      "Time cost : 1.674480676651001s\n"
     ]
    },
    {
     "name": "stderr",
     "output_type": "stream",
     "text": [
      "\n",
      " 40%|████      | 852/2129 [1:03:17<1:16:09,  3.58s/it]"
     ]
    },
    {
     "name": "stdout",
     "output_type": "stream",
     "text": [
      "603688.SH updated from 20210114 to 20210115\n",
      "Time cost : 1.9619503021240234s\n"
     ]
    },
    {
     "name": "stderr",
     "output_type": "stream",
     "text": [
      "\n",
      " 40%|████      | 853/2129 [1:03:18<1:05:47,  3.09s/it]"
     ]
    },
    {
     "name": "stdout",
     "output_type": "stream",
     "text": [
      "000333.SZ updated from 20210114 to 20210115\n",
      "Time cost : 2.0266494750976562s\n"
     ]
    },
    {
     "name": "stderr",
     "output_type": "stream",
     "text": [
      "\n",
      " 40%|████      | 854/2129 [1:03:21<58:57,  2.77s/it]  "
     ]
    },
    {
     "name": "stdout",
     "output_type": "stream",
     "text": [
      "300999.SZ updated from 20210114 to 20210115\n",
      "Time cost : 2.209826946258545s\n"
     ]
    },
    {
     "name": "stderr",
     "output_type": "stream",
     "text": [
      "\n",
      " 40%|████      | 855/2129 [1:03:23<55:19,  2.61s/it]"
     ]
    },
    {
     "name": "stdout",
     "output_type": "stream",
     "text": [
      "603826.SH updated from 20210114 to 20210115\n",
      "Time cost : 4.344807863235474s\n"
     ]
    },
    {
     "name": "stderr",
     "output_type": "stream",
     "text": [
      "\n",
      " 40%|████      | 856/2129 [1:03:27<1:06:21,  3.13s/it]"
     ]
    },
    {
     "name": "stdout",
     "output_type": "stream",
     "text": [
      "600648.SH updated from 20210114 to 20210115\n",
      "Time cost : 26.316518783569336s\n"
     ]
    },
    {
     "name": "stderr",
     "output_type": "stream",
     "text": [
      "\n",
      " 40%|████      | 857/2129 [1:03:53<3:33:48, 10.09s/it]"
     ]
    },
    {
     "name": "stdout",
     "output_type": "stream",
     "text": [
      "600967.SH updated from 20210114 to 20210115\n",
      "Time cost : 2.7442524433135986s\n"
     ]
    },
    {
     "name": "stderr",
     "output_type": "stream",
     "text": [
      "\n",
      " 40%|████      | 858/2129 [1:03:56<2:46:59,  7.88s/it]"
     ]
    },
    {
     "name": "stdout",
     "output_type": "stream",
     "text": [
      "600039.SH updated from 20210114 to 20210115\n",
      "Time cost : 1.7175836563110352s\n"
     ]
    },
    {
     "name": "stderr",
     "output_type": "stream",
     "text": [
      "\n",
      " 40%|████      | 859/2129 [1:03:58<2:07:43,  6.03s/it]"
     ]
    },
    {
     "name": "stdout",
     "output_type": "stream",
     "text": [
      "000031.SZ updated from 20210114 to 20210115\n",
      "Time cost : 2.671773910522461s\n"
     ]
    },
    {
     "name": "stderr",
     "output_type": "stream",
     "text": [
      "\n",
      " 40%|████      | 860/2129 [1:04:01<1:46:18,  5.03s/it]"
     ]
    },
    {
     "name": "stdout",
     "output_type": "stream",
     "text": [
      "000738.SZ updated from 20210114 to 20210115\n",
      "Time cost : 1.6982741355895996s\n"
     ]
    },
    {
     "name": "stderr",
     "output_type": "stream",
     "text": [
      "\n",
      " 40%|████      | 861/2129 [1:04:02<1:25:08,  4.03s/it]"
     ]
    },
    {
     "name": "stdout",
     "output_type": "stream",
     "text": [
      "600888.SH updated from 20210114 to 20210115\n",
      "Time cost : 18.14645552635193s\n"
     ]
    },
    {
     "name": "stderr",
     "output_type": "stream",
     "text": [
      "\n",
      " 40%|████      | 862/2129 [1:04:20<2:54:31,  8.26s/it]"
     ]
    },
    {
     "name": "stdout",
     "output_type": "stream",
     "text": [
      "600340.SH updated from 20210114 to 20210115\n",
      "Time cost : 1.7124669551849365s\n"
     ]
    },
    {
     "name": "stderr",
     "output_type": "stream",
     "text": [
      "\n",
      " 41%|████      | 863/2129 [1:04:22<2:12:55,  6.30s/it]"
     ]
    },
    {
     "name": "stdout",
     "output_type": "stream",
     "text": [
      "600812.SH updated from 20210114 to 20210115\n",
      "Time cost : 3.4876372814178467s\n"
     ]
    },
    {
     "name": "stderr",
     "output_type": "stream",
     "text": [
      "\n",
      " 41%|████      | 864/2129 [1:04:26<1:55:02,  5.46s/it]"
     ]
    },
    {
     "name": "stdout",
     "output_type": "stream",
     "text": [
      "000061.SZ updated from 20210114 to 20210115\n",
      "Time cost : 2.5370993614196777s\n"
     ]
    },
    {
     "name": "stderr",
     "output_type": "stream",
     "text": [
      "\n",
      " 41%|████      | 865/2129 [1:04:28<1:36:30,  4.58s/it]"
     ]
    },
    {
     "name": "stdout",
     "output_type": "stream",
     "text": [
      "002082.SZ updated from 20210114 to 20210115\n",
      "Time cost : 3.428001880645752s\n"
     ]
    },
    {
     "name": "stderr",
     "output_type": "stream",
     "text": [
      "\n",
      " 41%|████      | 866/2129 [1:04:32<1:29:10,  4.24s/it]"
     ]
    },
    {
     "name": "stdout",
     "output_type": "stream",
     "text": [
      "601100.SH updated from 20210114 to 20210115\n",
      "Time cost : 3.833559274673462s\n"
     ]
    },
    {
     "name": "stderr",
     "output_type": "stream",
     "text": [
      "\n",
      " 41%|████      | 867/2129 [1:04:35<1:26:34,  4.12s/it]"
     ]
    },
    {
     "name": "stdout",
     "output_type": "stream",
     "text": [
      "600006.SH updated from 20210114 to 20210115\n",
      "Time cost : 3.3720269203186035s\n"
     ]
    },
    {
     "name": "stderr",
     "output_type": "stream",
     "text": [
      "\n",
      " 41%|████      | 868/2129 [1:04:39<1:21:49,  3.89s/it]"
     ]
    },
    {
     "name": "stdout",
     "output_type": "stream",
     "text": [
      "002025.SZ updated from 20210114 to 20210115\n",
      "Time cost : 2.5061309337615967s\n"
     ]
    },
    {
     "name": "stderr",
     "output_type": "stream",
     "text": [
      "\n",
      " 41%|████      | 869/2129 [1:04:41<1:13:01,  3.48s/it]"
     ]
    },
    {
     "name": "stdout",
     "output_type": "stream",
     "text": [
      "601860.SH updated from 20210114 to 20210115\n",
      "Time cost : 6.329566955566406s\n"
     ]
    },
    {
     "name": "stderr",
     "output_type": "stream",
     "text": [
      "\n",
      " 41%|████      | 870/2129 [1:04:48<1:30:56,  4.33s/it]"
     ]
    },
    {
     "name": "stdout",
     "output_type": "stream",
     "text": [
      "600131.SH updated from 20210114 to 20210115\n",
      "Time cost : 5.997189283370972s\n"
     ]
    },
    {
     "name": "stderr",
     "output_type": "stream",
     "text": [
      "\n",
      " 41%|████      | 871/2129 [1:04:54<1:41:20,  4.83s/it]"
     ]
    },
    {
     "name": "stdout",
     "output_type": "stream",
     "text": [
      "000540.SZ updated from 20210114 to 20210115\n",
      "Time cost : 3.1198956966400146s\n"
     ]
    },
    {
     "name": "stderr",
     "output_type": "stream",
     "text": [
      "\n",
      " 41%|████      | 872/2129 [1:04:57<1:30:30,  4.32s/it]"
     ]
    },
    {
     "name": "stdout",
     "output_type": "stream",
     "text": [
      "002980.SZ updated from 20210114 to 20210115\n",
      "Time cost : 2.1040055751800537s\n"
     ]
    },
    {
     "name": "stderr",
     "output_type": "stream",
     "text": [
      "\n",
      " 41%|████      | 873/2129 [1:04:59<1:16:31,  3.66s/it]"
     ]
    },
    {
     "name": "stdout",
     "output_type": "stream",
     "text": [
      "688777.SH updated from 20210114 to 20210115\n",
      "Time cost : 4.122600078582764s\n"
     ]
    },
    {
     "name": "stderr",
     "output_type": "stream",
     "text": [
      "\n",
      " 41%|████      | 874/2129 [1:05:03<1:19:24,  3.80s/it]"
     ]
    },
    {
     "name": "stdout",
     "output_type": "stream",
     "text": [
      "600048.SH updated from 20210114 to 20210115\n",
      "Time cost : 2.2951695919036865s\n"
     ]
    },
    {
     "name": "stderr",
     "output_type": "stream",
     "text": [
      "\n",
      " 41%|████      | 875/2129 [1:05:05<1:09:57,  3.35s/it]"
     ]
    },
    {
     "name": "stdout",
     "output_type": "stream",
     "text": [
      "002126.SZ updated from 20210114 to 20210115\n",
      "Time cost : 2.5296759605407715s\n"
     ]
    },
    {
     "name": "stderr",
     "output_type": "stream",
     "text": [
      "\n",
      " 41%|████      | 876/2129 [1:05:08<1:04:47,  3.10s/it]"
     ]
    },
    {
     "name": "stdout",
     "output_type": "stream",
     "text": [
      "600366.SH updated from 20210114 to 20210115\n",
      "Time cost : 4.352666616439819s\n"
     ]
    },
    {
     "name": "stderr",
     "output_type": "stream",
     "text": [
      "\n",
      " 41%|████      | 877/2129 [1:05:12<1:12:34,  3.48s/it]"
     ]
    },
    {
     "name": "stdout",
     "output_type": "stream",
     "text": [
      "600350.SH updated from 20210114 to 20210115\n",
      "Time cost : 8.371159315109253s\n"
     ]
    },
    {
     "name": "stderr",
     "output_type": "stream",
     "text": [
      "\n",
      " 41%|████      | 878/2129 [1:05:21<1:43:08,  4.95s/it]"
     ]
    },
    {
     "name": "stdout",
     "output_type": "stream",
     "text": [
      "000006.SZ updated from 20210114 to 20210115\n",
      "Time cost : 1.9526848793029785s\n"
     ]
    },
    {
     "name": "stderr",
     "output_type": "stream",
     "text": [
      "\n",
      " 41%|████▏     | 879/2129 [1:05:22<1:24:21,  4.05s/it]"
     ]
    },
    {
     "name": "stdout",
     "output_type": "stream",
     "text": [
      "600390.SH updated from 20210114 to 20210115\n",
      "Time cost : 4.143292427062988s\n"
     ]
    },
    {
     "name": "stderr",
     "output_type": "stream",
     "text": [
      "\n",
      " 41%|████▏     | 880/2129 [1:05:27<1:24:53,  4.08s/it]"
     ]
    },
    {
     "name": "stdout",
     "output_type": "stream",
     "text": [
      "300012.SZ updated from 20210114 to 20210115\n",
      "Time cost : 2.14424991607666s\n"
     ]
    },
    {
     "name": "stderr",
     "output_type": "stream",
     "text": [
      "\n",
      " 41%|████▏     | 881/2129 [1:05:29<1:12:46,  3.50s/it]"
     ]
    },
    {
     "name": "stdout",
     "output_type": "stream",
     "text": [
      "601601.SH updated from 20210114 to 20210115\n",
      "Time cost : 1.6778323650360107s\n"
     ]
    },
    {
     "name": "stderr",
     "output_type": "stream",
     "text": [
      "\n",
      " 41%|████▏     | 882/2129 [1:05:30<1:01:22,  2.95s/it]"
     ]
    },
    {
     "name": "stdout",
     "output_type": "stream",
     "text": [
      "002539.SZ updated from 20210114 to 20210115\n",
      "Time cost : 8.44992733001709s\n"
     ]
    },
    {
     "name": "stderr",
     "output_type": "stream",
     "text": [
      "\n",
      " 41%|████▏     | 883/2129 [1:05:39<1:35:35,  4.60s/it]"
     ]
    },
    {
     "name": "stdout",
     "output_type": "stream",
     "text": [
      "600291.SH updated from 20210114 to 20210115\n",
      "Time cost : 3.4218051433563232s\n"
     ]
    },
    {
     "name": "stderr",
     "output_type": "stream",
     "text": [
      "\n",
      " 42%|████▏     | 884/2129 [1:05:42<1:28:10,  4.25s/it]"
     ]
    },
    {
     "name": "stdout",
     "output_type": "stream",
     "text": [
      "002869.SZ updated from 20210114 to 20210115\n",
      "Time cost : 1.9508821964263916s\n"
     ]
    },
    {
     "name": "stderr",
     "output_type": "stream",
     "text": [
      "\n",
      " 42%|████▏     | 885/2129 [1:05:44<1:13:49,  3.56s/it]"
     ]
    },
    {
     "name": "stdout",
     "output_type": "stream",
     "text": [
      "300308.SZ updated from 20210114 to 20210115\n",
      "Time cost : 5.425544023513794s\n"
     ]
    },
    {
     "name": "stderr",
     "output_type": "stream",
     "text": [
      "\n",
      " 42%|████▏     | 886/2129 [1:05:50<1:25:21,  4.12s/it]"
     ]
    },
    {
     "name": "stdout",
     "output_type": "stream",
     "text": [
      "002252.SZ updated from 20210114 to 20210115\n",
      "Time cost : 2.976025104522705s\n"
     ]
    },
    {
     "name": "stderr",
     "output_type": "stream",
     "text": [
      "\n",
      " 42%|████▏     | 887/2129 [1:05:53<1:18:12,  3.78s/it]"
     ]
    },
    {
     "name": "stdout",
     "output_type": "stream",
     "text": [
      "000157.SZ updated from 20210114 to 20210115\n",
      "Time cost : 6.196051836013794s\n"
     ]
    },
    {
     "name": "stderr",
     "output_type": "stream",
     "text": [
      "\n",
      " 42%|████▏     | 888/2129 [1:05:59<1:33:09,  4.50s/it]"
     ]
    },
    {
     "name": "stdout",
     "output_type": "stream",
     "text": [
      "300203.SZ updated from 20210114 to 20210115\n",
      "Time cost : 3.621135950088501s\n"
     ]
    },
    {
     "name": "stderr",
     "output_type": "stream",
     "text": [
      "\n",
      " 42%|████▏     | 889/2129 [1:06:02<1:27:36,  4.24s/it]"
     ]
    },
    {
     "name": "stdout",
     "output_type": "stream",
     "text": [
      "002409.SZ updated from 20210114 to 20210115\n",
      "Time cost : 3.9309277534484863s\n"
     ]
    },
    {
     "name": "stderr",
     "output_type": "stream",
     "text": [
      "\n",
      " 42%|████▏     | 890/2129 [1:06:06<1:25:39,  4.15s/it]"
     ]
    },
    {
     "name": "stdout",
     "output_type": "stream",
     "text": [
      "002254.SZ updated from 20210114 to 20210115\n",
      "Time cost : 2.35994553565979s\n"
     ]
    },
    {
     "name": "stderr",
     "output_type": "stream",
     "text": [
      "\n",
      " 42%|████▏     | 891/2129 [1:06:09<1:14:31,  3.61s/it]"
     ]
    },
    {
     "name": "stdout",
     "output_type": "stream",
     "text": [
      "002222.SZ updated from 20210114 to 20210115\n",
      "Time cost : 2.4989571571350098s\n"
     ]
    },
    {
     "name": "stderr",
     "output_type": "stream",
     "text": [
      "\n",
      " 42%|████▏     | 892/2129 [1:06:11<1:07:35,  3.28s/it]"
     ]
    },
    {
     "name": "stdout",
     "output_type": "stream",
     "text": [
      "002240.SZ updated from 20210114 to 20210115\n",
      "Time cost : 2.9078261852264404s\n"
     ]
    },
    {
     "name": "stderr",
     "output_type": "stream",
     "text": [
      "\n",
      " 42%|████▏     | 893/2129 [1:06:14<1:05:15,  3.17s/it]"
     ]
    },
    {
     "name": "stdout",
     "output_type": "stream",
     "text": [
      "002017.SZ updated from 20210114 to 20210115\n",
      "Time cost : 11.825508832931519s\n"
     ]
    },
    {
     "name": "stderr",
     "output_type": "stream",
     "text": [
      "\n",
      " 42%|████▏     | 894/2129 [1:06:26<1:58:40,  5.77s/it]"
     ]
    },
    {
     "name": "stdout",
     "output_type": "stream",
     "text": [
      "600171.SH updated from 20210114 to 20210115\n",
      "Time cost : 1.142638921737671s\n"
     ]
    },
    {
     "name": "stderr",
     "output_type": "stream",
     "text": [
      "\n",
      " 42%|████▏     | 895/2129 [1:06:27<1:30:04,  4.38s/it]"
     ]
    },
    {
     "name": "stdout",
     "output_type": "stream",
     "text": [
      "601579.SH updated from 20210114 to 20210115\n",
      "Time cost : 3.0391860008239746s\n"
     ]
    },
    {
     "name": "stderr",
     "output_type": "stream",
     "text": [
      "\n",
      " 42%|████▏     | 896/2129 [1:06:30<1:21:44,  3.98s/it]"
     ]
    },
    {
     "name": "stdout",
     "output_type": "stream",
     "text": [
      "300492.SZ updated from 20210114 to 20210115\n",
      "Time cost : 3.497982978820801s\n"
     ]
    },
    {
     "name": "stderr",
     "output_type": "stream",
     "text": [
      "\n",
      " 42%|████▏     | 897/2129 [1:06:34<1:18:44,  3.83s/it]"
     ]
    },
    {
     "name": "stdout",
     "output_type": "stream",
     "text": [
      "300101.SZ updated from 20210114 to 20210115\n",
      "Time cost : 6.8474884033203125s\n"
     ]
    },
    {
     "name": "stderr",
     "output_type": "stream",
     "text": [
      "\n",
      " 42%|████▏     | 898/2129 [1:06:41<1:37:13,  4.74s/it]"
     ]
    },
    {
     "name": "stdout",
     "output_type": "stream",
     "text": [
      "002662.SZ updated from 20210114 to 20210115\n",
      "Time cost : 1.9751667976379395s\n"
     ]
    },
    {
     "name": "stderr",
     "output_type": "stream",
     "text": [
      "\n",
      " 42%|████▏     | 899/2129 [1:06:43<1:20:10,  3.91s/it]"
     ]
    },
    {
     "name": "stdout",
     "output_type": "stream",
     "text": [
      "002625.SZ updated from 20210114 to 20210115\n",
      "Time cost : 1.2155177593231201s\n"
     ]
    },
    {
     "name": "stderr",
     "output_type": "stream",
     "text": [
      "\n",
      " 42%|████▏     | 900/2129 [1:06:44<1:03:33,  3.10s/it]"
     ]
    },
    {
     "name": "stdout",
     "output_type": "stream",
     "text": [
      "605338.SH updated from 20210114 to 20210115\n",
      "Time cost : 2.4165823459625244s\n"
     ]
    },
    {
     "name": "stderr",
     "output_type": "stream",
     "text": [
      "\n",
      " 42%|████▏     | 901/2129 [1:06:46<59:18,  2.90s/it]  "
     ]
    },
    {
     "name": "stdout",
     "output_type": "stream",
     "text": [
      "603489.SH updated from 20210114 to 20210115\n",
      "Time cost : 3.1226699352264404s\n"
     ]
    },
    {
     "name": "stderr",
     "output_type": "stream",
     "text": [
      "\n",
      " 42%|████▏     | 902/2129 [1:06:49<1:00:38,  2.97s/it]"
     ]
    },
    {
     "name": "stdout",
     "output_type": "stream",
     "text": [
      "002158.SZ updated from 20210114 to 20210115\n",
      "Time cost : 4.956751823425293s\n"
     ]
    },
    {
     "name": "stderr",
     "output_type": "stream",
     "text": [
      "\n",
      " 42%|████▏     | 903/2129 [1:06:54<1:12:49,  3.56s/it]"
     ]
    },
    {
     "name": "stdout",
     "output_type": "stream",
     "text": [
      "688356.SH updated from 20210114 to 20210115\n",
      "Time cost : 5.10517692565918s\n"
     ]
    },
    {
     "name": "stderr",
     "output_type": "stream",
     "text": [
      "\n",
      " 42%|████▏     | 904/2129 [1:06:59<1:22:12,  4.03s/it]"
     ]
    },
    {
     "name": "stdout",
     "output_type": "stream",
     "text": [
      "601005.SH updated from 20210114 to 20210115\n",
      "Time cost : 2.9337174892425537s\n"
     ]
    },
    {
     "name": "stderr",
     "output_type": "stream",
     "text": [
      "\n",
      " 43%|████▎     | 905/2129 [1:07:02<1:15:28,  3.70s/it]"
     ]
    },
    {
     "name": "stdout",
     "output_type": "stream",
     "text": [
      "688233.SH updated from 20210114 to 20210115\n",
      "Time cost : 2.106476306915283s\n"
     ]
    },
    {
     "name": "stderr",
     "output_type": "stream",
     "text": [
      "\n",
      " 43%|████▎     | 906/2129 [1:07:04<1:05:40,  3.22s/it]"
     ]
    },
    {
     "name": "stdout",
     "output_type": "stream",
     "text": [
      "600975.SH updated from 20210114 to 20210115\n",
      "Time cost : 4.149475336074829s\n"
     ]
    },
    {
     "name": "stderr",
     "output_type": "stream",
     "text": [
      "\n",
      " 43%|████▎     | 907/2129 [1:07:09<1:11:18,  3.50s/it]"
     ]
    },
    {
     "name": "stdout",
     "output_type": "stream",
     "text": [
      "000710.SZ updated from 20210114 to 20210115\n",
      "Time cost : 2.227800130844116s\n"
     ]
    },
    {
     "name": "stderr",
     "output_type": "stream",
     "text": [
      "\n",
      " 43%|████▎     | 908/2129 [1:07:11<1:03:29,  3.12s/it]"
     ]
    },
    {
     "name": "stdout",
     "output_type": "stream",
     "text": [
      "HTTPConnectionPool(host='api.waditu.com', port=80): Read timed out. (read timeout=30)\n",
      "300147.SZ updated from 20210114 to 20210115\n",
      "Time cost : 34.6875s\n"
     ]
    },
    {
     "name": "stderr",
     "output_type": "stream",
     "text": [
      "\n",
      " 43%|████▎     | 909/2129 [1:07:45<4:16:00, 12.59s/it]"
     ]
    },
    {
     "name": "stdout",
     "output_type": "stream",
     "text": [
      "600585.SH updated from 20210114 to 20210115\n",
      "Time cost : 2.3985416889190674s\n"
     ]
    },
    {
     "name": "stderr",
     "output_type": "stream",
     "text": [
      "\n",
      " 43%|████▎     | 910/2129 [1:07:48<3:13:41,  9.53s/it]"
     ]
    },
    {
     "name": "stdout",
     "output_type": "stream",
     "text": [
      "300451.SZ updated from 20210114 to 20210115\n",
      "Time cost : 4.267998218536377s\n"
     ]
    },
    {
     "name": "stderr",
     "output_type": "stream",
     "text": [
      "\n",
      " 43%|████▎     | 911/2129 [1:07:52<2:41:28,  7.95s/it]"
     ]
    },
    {
     "name": "stdout",
     "output_type": "stream",
     "text": [
      "300747.SZ updated from 20210114 to 20210115\n",
      "Time cost : 4.167782783508301s\n"
     ]
    },
    {
     "name": "stderr",
     "output_type": "stream",
     "text": [
      "\n",
      " 43%|████▎     | 912/2129 [1:07:56<2:18:18,  6.82s/it]"
     ]
    },
    {
     "name": "stdout",
     "output_type": "stream",
     "text": [
      "002501.SZ updated from 20210114 to 20210115\n",
      "Time cost : 6.6651670932769775s\n"
     ]
    },
    {
     "name": "stderr",
     "output_type": "stream",
     "text": [
      "\n",
      " 43%|████▎     | 913/2129 [1:08:03<2:17:16,  6.77s/it]"
     ]
    },
    {
     "name": "stdout",
     "output_type": "stream",
     "text": [
      "002152.SZ updated from 20210114 to 20210115\n",
      "Time cost : 3.687908887863159s\n"
     ]
    },
    {
     "name": "stderr",
     "output_type": "stream",
     "text": [
      "\n",
      " 43%|████▎     | 914/2129 [1:08:07<1:58:26,  5.85s/it]"
     ]
    },
    {
     "name": "stdout",
     "output_type": "stream",
     "text": [
      "603260.SH updated from 20210114 to 20210115\n",
      "Time cost : 2.405805826187134s\n"
     ]
    },
    {
     "name": "stderr",
     "output_type": "stream",
     "text": [
      "\n",
      " 43%|████▎     | 915/2129 [1:08:09<1:37:27,  4.82s/it]"
     ]
    },
    {
     "name": "stdout",
     "output_type": "stream",
     "text": [
      "601339.SH updated from 20210114 to 20210115\n",
      "Time cost : 4.609024524688721s\n"
     ]
    },
    {
     "name": "stderr",
     "output_type": "stream",
     "text": [
      "\n",
      " 43%|████▎     | 916/2129 [1:08:14<1:36:07,  4.75s/it]"
     ]
    },
    {
     "name": "stdout",
     "output_type": "stream",
     "text": [
      "002019.SZ updated from 20210114 to 20210115\n",
      "Time cost : 1.145477056503296s\n"
     ]
    },
    {
     "name": "stderr",
     "output_type": "stream",
     "text": [
      "\n",
      " 43%|████▎     | 917/2129 [1:08:15<1:14:11,  3.67s/it]"
     ]
    },
    {
     "name": "stdout",
     "output_type": "stream",
     "text": [
      "002548.SZ updated from 20210114 to 20210115\n",
      "Time cost : 5.143288850784302s\n"
     ]
    },
    {
     "name": "stderr",
     "output_type": "stream",
     "text": [
      "\n",
      " 43%|████▎     | 918/2129 [1:08:20<1:23:02,  4.11s/it]"
     ]
    },
    {
     "name": "stdout",
     "output_type": "stream",
     "text": [
      "601111.SH updated from 20210114 to 20210115\n",
      "Time cost : 1.2601706981658936s\n"
     ]
    },
    {
     "name": "stderr",
     "output_type": "stream",
     "text": [
      "\n",
      " 43%|████▎     | 919/2129 [1:08:21<1:05:43,  3.26s/it]"
     ]
    },
    {
     "name": "stdout",
     "output_type": "stream",
     "text": [
      "600532.SH updated from 20210114 to 20210115\n",
      "Time cost : 1.6868321895599365s\n"
     ]
    },
    {
     "name": "stderr",
     "output_type": "stream",
     "text": [
      "\n",
      " 43%|████▎     | 920/2129 [1:08:23<56:10,  2.79s/it]  "
     ]
    },
    {
     "name": "stdout",
     "output_type": "stream",
     "text": [
      "603786.SH updated from 20210114 to 20210115\n",
      "Time cost : 16.14635157585144s\n"
     ]
    },
    {
     "name": "stderr",
     "output_type": "stream",
     "text": [
      "\n",
      " 43%|████▎     | 921/2129 [1:08:39<2:16:49,  6.80s/it]"
     ]
    },
    {
     "name": "stdout",
     "output_type": "stream",
     "text": [
      "000761.SZ updated from 20210114 to 20210115\n",
      "Time cost : 6.922910928726196s\n"
     ]
    },
    {
     "name": "stderr",
     "output_type": "stream",
     "text": [
      "\n",
      " 43%|████▎     | 922/2129 [1:08:46<2:17:29,  6.83s/it]"
     ]
    },
    {
     "name": "stdout",
     "output_type": "stream",
     "text": [
      "300759.SZ updated from 20210114 to 20210115\n",
      "Time cost : 5.69011664390564s\n"
     ]
    },
    {
     "name": "stderr",
     "output_type": "stream",
     "text": [
      "\n",
      " 43%|████▎     | 923/2129 [1:08:52<2:10:29,  6.49s/it]"
     ]
    },
    {
     "name": "stdout",
     "output_type": "stream",
     "text": [
      "600054.SH updated from 20210114 to 20210115\n",
      "Time cost : 2.855051040649414s\n"
     ]
    },
    {
     "name": "stderr",
     "output_type": "stream",
     "text": [
      "\n",
      " 43%|████▎     | 924/2129 [1:08:55<1:48:29,  5.40s/it]"
     ]
    },
    {
     "name": "stdout",
     "output_type": "stream",
     "text": [
      "002271.SZ updated from 20210114 to 20210115\n",
      "Time cost : 3.0769267082214355s\n"
     ]
    },
    {
     "name": "stderr",
     "output_type": "stream",
     "text": [
      "\n",
      " 43%|████▎     | 925/2129 [1:08:58<1:34:24,  4.70s/it]"
     ]
    },
    {
     "name": "stdout",
     "output_type": "stream",
     "text": [
      "688520.SH updated from 20210114 to 20210115\n",
      "Time cost : 8.159079551696777s\n"
     ]
    },
    {
     "name": "stderr",
     "output_type": "stream",
     "text": [
      "\n",
      " 43%|████▎     | 926/2129 [1:09:06<1:55:07,  5.74s/it]"
     ]
    },
    {
     "name": "stdout",
     "output_type": "stream",
     "text": [
      "000756.SZ updated from 20210114 to 20210115\n",
      "Time cost : 4.933889627456665s\n"
     ]
    },
    {
     "name": "stderr",
     "output_type": "stream",
     "text": [
      "\n",
      " 44%|████▎     | 927/2129 [1:09:11<1:50:10,  5.50s/it]"
     ]
    },
    {
     "name": "stdout",
     "output_type": "stream",
     "text": [
      "002646.SZ updated from 20210114 to 20210115\n",
      "Time cost : 4.21110200881958s\n"
     ]
    },
    {
     "name": "stderr",
     "output_type": "stream",
     "text": [
      "\n",
      " 44%|████▎     | 928/2129 [1:09:15<1:42:21,  5.11s/it]"
     ]
    },
    {
     "name": "stdout",
     "output_type": "stream",
     "text": [
      "600597.SH updated from 20210114 to 20210115\n",
      "Time cost : 3.8286919593811035s\n"
     ]
    },
    {
     "name": "stderr",
     "output_type": "stream",
     "text": [
      "\n",
      " 44%|████▎     | 929/2129 [1:09:19<1:34:34,  4.73s/it]"
     ]
    },
    {
     "name": "stdout",
     "output_type": "stream",
     "text": [
      "603515.SH updated from 20210114 to 20210115\n",
      "Time cost : 3.615405559539795s\n"
     ]
    },
    {
     "name": "stderr",
     "output_type": "stream",
     "text": [
      "\n",
      " 44%|████▎     | 930/2129 [1:09:22<1:27:50,  4.40s/it]"
     ]
    },
    {
     "name": "stdout",
     "output_type": "stream",
     "text": [
      "300559.SZ updated from 20210114 to 20210115\n",
      "Time cost : 4.614788293838501s\n"
     ]
    },
    {
     "name": "stderr",
     "output_type": "stream",
     "text": [
      "\n",
      " 44%|████▎     | 931/2129 [1:09:27<1:29:05,  4.46s/it]"
     ]
    },
    {
     "name": "stdout",
     "output_type": "stream",
     "text": [
      "600827.SH updated from 20210114 to 20210115\n",
      "Time cost : 1.1845648288726807s\n"
     ]
    },
    {
     "name": "stderr",
     "output_type": "stream",
     "text": [
      "\n",
      " 44%|████▍     | 932/2129 [1:09:28<1:09:24,  3.48s/it]"
     ]
    },
    {
     "name": "stdout",
     "output_type": "stream",
     "text": [
      "600330.SH updated from 20210114 to 20210115\n",
      "Time cost : 4.648250341415405s\n"
     ]
    },
    {
     "name": "stderr",
     "output_type": "stream",
     "text": [
      "\n",
      " 44%|████▍     | 933/2129 [1:09:33<1:16:21,  3.83s/it]"
     ]
    },
    {
     "name": "stdout",
     "output_type": "stream",
     "text": [
      "300378.SZ updated from 20210114 to 20210115\n",
      "Time cost : 1.7158865928649902s\n"
     ]
    },
    {
     "name": "stderr",
     "output_type": "stream",
     "text": [
      "\n",
      " 44%|████▍     | 934/2129 [1:09:35<1:03:40,  3.20s/it]"
     ]
    },
    {
     "name": "stdout",
     "output_type": "stream",
     "text": [
      "603501.SH updated from 20210114 to 20210115\n",
      "Time cost : 2.135953903198242s\n"
     ]
    },
    {
     "name": "stderr",
     "output_type": "stream",
     "text": [
      "\n",
      " 44%|████▍     | 935/2129 [1:09:37<57:18,  2.88s/it]  "
     ]
    },
    {
     "name": "stdout",
     "output_type": "stream",
     "text": [
      "603288.SH updated from 20210114 to 20210115\n",
      "Time cost : 25.005146980285645s\n"
     ]
    },
    {
     "name": "stderr",
     "output_type": "stream",
     "text": [
      "\n",
      " 44%|████▍     | 936/2129 [1:10:02<3:09:14,  9.52s/it]"
     ]
    },
    {
     "name": "stdout",
     "output_type": "stream",
     "text": [
      "002043.SZ updated from 20210114 to 20210115\n",
      "Time cost : 5.869486331939697s\n"
     ]
    },
    {
     "name": "stderr",
     "output_type": "stream",
     "text": [
      "\n",
      " 44%|████▍     | 937/2129 [1:10:08<2:47:21,  8.42s/it]"
     ]
    },
    {
     "name": "stdout",
     "output_type": "stream",
     "text": [
      "000778.SZ updated from 20210114 to 20210115\n",
      "Time cost : 3.0483508110046387s\n"
     ]
    },
    {
     "name": "stderr",
     "output_type": "stream",
     "text": [
      "\n",
      " 44%|████▍     | 938/2129 [1:10:11<2:15:12,  6.81s/it]"
     ]
    },
    {
     "name": "stdout",
     "output_type": "stream",
     "text": [
      "002107.SZ updated from 20210114 to 20210115\n",
      "Time cost : 1.6793034076690674s\n"
     ]
    },
    {
     "name": "stderr",
     "output_type": "stream",
     "text": [
      "\n",
      " 44%|████▍     | 939/2129 [1:10:12<1:44:34,  5.27s/it]"
     ]
    },
    {
     "name": "stdout",
     "output_type": "stream",
     "text": [
      "002320.SZ updated from 20210114 to 20210115\n",
      "Time cost : 3.3255765438079834s\n"
     ]
    },
    {
     "name": "stderr",
     "output_type": "stream",
     "text": [
      "\n",
      " 44%|████▍     | 940/2129 [1:10:16<1:32:55,  4.69s/it]"
     ]
    },
    {
     "name": "stdout",
     "output_type": "stream",
     "text": [
      "600499.SH updated from 20210114 to 20210115\n",
      "Time cost : 3.243307590484619s\n"
     ]
    },
    {
     "name": "stderr",
     "output_type": "stream",
     "text": [
      "\n",
      " 44%|████▍     | 941/2129 [1:10:19<1:24:16,  4.26s/it]"
     ]
    },
    {
     "name": "stdout",
     "output_type": "stream",
     "text": [
      "002503.SZ updated from 20210114 to 20210115\n",
      "Time cost : 1.6738457679748535s\n"
     ]
    },
    {
     "name": "stderr",
     "output_type": "stream",
     "text": [
      "\n",
      " 44%|████▍     | 942/2129 [1:10:21<1:08:53,  3.48s/it]"
     ]
    },
    {
     "name": "stdout",
     "output_type": "stream",
     "text": [
      "600871.SH updated from 20210114 to 20210115\n",
      "Time cost : 17.457369565963745s\n"
     ]
    },
    {
     "name": "stderr",
     "output_type": "stream",
     "text": [
      "\n",
      " 44%|████▍     | 943/2129 [1:10:38<2:31:42,  7.68s/it]"
     ]
    },
    {
     "name": "stdout",
     "output_type": "stream",
     "text": [
      "002398.SZ updated from 20210114 to 20210115\n",
      "Time cost : 27.25077199935913s\n"
     ]
    },
    {
     "name": "stderr",
     "output_type": "stream",
     "text": [
      "\n",
      " 44%|████▍     | 944/2129 [1:11:05<4:27:34, 13.55s/it]"
     ]
    },
    {
     "name": "stdout",
     "output_type": "stream",
     "text": [
      "000958.SZ updated from 20210114 to 20210115\n",
      "Time cost : 1.1906464099884033s\n"
     ]
    },
    {
     "name": "stderr",
     "output_type": "stream",
     "text": [
      "\n",
      " 44%|████▍     | 945/2129 [1:11:06<3:14:12,  9.84s/it]"
     ]
    },
    {
     "name": "stdout",
     "output_type": "stream",
     "text": [
      "002163.SZ updated from 20210114 to 20210115\n",
      "Time cost : 1.6907157897949219s\n"
     ]
    },
    {
     "name": "stderr",
     "output_type": "stream",
     "text": [
      "\n",
      " 44%|████▍     | 946/2129 [1:11:08<2:25:50,  7.40s/it]"
     ]
    },
    {
     "name": "stdout",
     "output_type": "stream",
     "text": [
      "002065.SZ updated from 20210114 to 20210115\n",
      "Time cost : 3.4076170921325684s\n"
     ]
    },
    {
     "name": "stderr",
     "output_type": "stream",
     "text": [
      "\n",
      " 44%|████▍     | 947/2129 [1:11:12<2:02:09,  6.20s/it]"
     ]
    },
    {
     "name": "stdout",
     "output_type": "stream",
     "text": [
      "002926.SZ updated from 20210114 to 20210115\n",
      "Time cost : 3.41334867477417s\n"
     ]
    },
    {
     "name": "stderr",
     "output_type": "stream",
     "text": [
      "\n",
      " 45%|████▍     | 948/2129 [1:11:15<1:45:36,  5.37s/it]"
     ]
    },
    {
     "name": "stdout",
     "output_type": "stream",
     "text": [
      "600702.SH updated from 20210114 to 20210115\n",
      "Time cost : 4.501879692077637s\n"
     ]
    },
    {
     "name": "stderr",
     "output_type": "stream",
     "text": [
      "\n",
      " 45%|████▍     | 949/2129 [1:11:20<1:40:26,  5.11s/it]"
     ]
    },
    {
     "name": "stdout",
     "output_type": "stream",
     "text": [
      "600305.SH updated from 20210114 to 20210115\n",
      "Time cost : 1.1212353706359863s\n"
     ]
    },
    {
     "name": "stderr",
     "output_type": "stream",
     "text": [
      "\n",
      " 45%|████▍     | 950/2129 [1:11:21<1:16:52,  3.91s/it]"
     ]
    },
    {
     "name": "stdout",
     "output_type": "stream",
     "text": [
      "600406.SH updated from 20210114 to 20210115\n",
      "Time cost : 2.1366732120513916s\n"
     ]
    },
    {
     "name": "stderr",
     "output_type": "stream",
     "text": [
      "\n",
      " 45%|████▍     | 951/2129 [1:11:23<1:06:21,  3.38s/it]"
     ]
    },
    {
     "name": "stdout",
     "output_type": "stream",
     "text": [
      "000049.SZ updated from 20210114 to 20210115\n",
      "Time cost : 1.9616398811340332s\n"
     ]
    },
    {
     "name": "stderr",
     "output_type": "stream",
     "text": [
      "\n",
      " 45%|████▍     | 952/2129 [1:11:25<57:58,  2.96s/it]  "
     ]
    },
    {
     "name": "stdout",
     "output_type": "stream",
     "text": [
      "002534.SZ updated from 20210114 to 20210115\n",
      "Time cost : 2.3654229640960693s\n"
     ]
    },
    {
     "name": "stderr",
     "output_type": "stream",
     "text": [
      "\n",
      " 45%|████▍     | 953/2129 [1:11:27<54:27,  2.78s/it]"
     ]
    },
    {
     "name": "stdout",
     "output_type": "stream",
     "text": [
      "600881.SH updated from 20210114 to 20210115\n",
      "Time cost : 3.43107533454895s\n"
     ]
    },
    {
     "name": "stderr",
     "output_type": "stream",
     "text": [
      "\n",
      " 45%|████▍     | 954/2129 [1:11:31<58:15,  2.98s/it]"
     ]
    },
    {
     "name": "stdout",
     "output_type": "stream",
     "text": [
      "603111.SH updated from 20210114 to 20210115\n",
      "Time cost : 23.101743936538696s\n"
     ]
    },
    {
     "name": "stderr",
     "output_type": "stream",
     "text": [
      "\n",
      " 45%|████▍     | 955/2129 [1:11:54<2:56:22,  9.01s/it]"
     ]
    },
    {
     "name": "stdout",
     "output_type": "stream",
     "text": [
      "002984.SZ updated from 20210114 to 20210115\n",
      "Time cost : 3.1143264770507812s\n"
     ]
    },
    {
     "name": "stderr",
     "output_type": "stream",
     "text": [
      "\n",
      " 45%|████▍     | 956/2129 [1:11:57<2:21:37,  7.24s/it]"
     ]
    },
    {
     "name": "stdout",
     "output_type": "stream",
     "text": [
      "600372.SH updated from 20210114 to 20210115\n",
      "Time cost : 13.945571422576904s\n"
     ]
    },
    {
     "name": "stderr",
     "output_type": "stream",
     "text": [
      "\n",
      " 45%|████▍     | 957/2129 [1:12:11<3:00:47,  9.26s/it]"
     ]
    },
    {
     "name": "stdout",
     "output_type": "stream",
     "text": [
      "688012.SH updated from 20210114 to 20210115\n",
      "Time cost : 2.509986400604248s\n"
     ]
    },
    {
     "name": "stderr",
     "output_type": "stream",
     "text": [
      "\n",
      " 45%|████▍     | 958/2129 [1:12:13<2:21:09,  7.23s/it]"
     ]
    },
    {
     "name": "stdout",
     "output_type": "stream",
     "text": [
      "002192.SZ updated from 20210114 to 20210115\n",
      "Time cost : 6.897232294082642s\n"
     ]
    },
    {
     "name": "stderr",
     "output_type": "stream",
     "text": [
      "\n",
      " 45%|████▌     | 959/2129 [1:12:20<2:19:05,  7.13s/it]"
     ]
    },
    {
     "name": "stdout",
     "output_type": "stream",
     "text": [
      "002815.SZ updated from 20210114 to 20210115\n",
      "Time cost : 3.0229272842407227s\n"
     ]
    },
    {
     "name": "stderr",
     "output_type": "stream",
     "text": [
      "\n",
      " 45%|████▌     | 960/2129 [1:12:23<1:54:57,  5.90s/it]"
     ]
    },
    {
     "name": "stdout",
     "output_type": "stream",
     "text": [
      "000528.SZ updated from 20210114 to 20210115\n",
      "Time cost : 1.7396857738494873s\n"
     ]
    },
    {
     "name": "stderr",
     "output_type": "stream",
     "text": [
      "\n",
      " 45%|████▌     | 961/2129 [1:12:25<1:30:35,  4.65s/it]"
     ]
    },
    {
     "name": "stdout",
     "output_type": "stream",
     "text": [
      "300133.SZ updated from 20210114 to 20210115\n",
      "Time cost : 3.4719619750976562s\n"
     ]
    },
    {
     "name": "stderr",
     "output_type": "stream",
     "text": [
      "\n",
      " 45%|████▌     | 962/2129 [1:12:28<1:23:37,  4.30s/it]"
     ]
    },
    {
     "name": "stdout",
     "output_type": "stream",
     "text": [
      "300767.SZ updated from 20210114 to 20210115\n",
      "Time cost : 9.879297256469727s\n"
     ]
    },
    {
     "name": "stderr",
     "output_type": "stream",
     "text": [
      "\n",
      " 45%|████▌     | 963/2129 [1:12:38<1:56:06,  5.97s/it]"
     ]
    },
    {
     "name": "stdout",
     "output_type": "stream",
     "text": [
      "600348.SH updated from 20210114 to 20210115\n",
      "Time cost : 10.29124903678894s\n"
     ]
    },
    {
     "name": "stderr",
     "output_type": "stream",
     "text": [
      "\n",
      " 45%|████▌     | 964/2129 [1:12:49<2:21:10,  7.27s/it]"
     ]
    },
    {
     "name": "stdout",
     "output_type": "stream",
     "text": [
      "300783.SZ updated from 20210114 to 20210115\n",
      "Time cost : 2.4892501831054688s\n"
     ]
    },
    {
     "name": "stderr",
     "output_type": "stream",
     "text": [
      "\n",
      " 45%|████▌     | 965/2129 [1:12:51<1:53:13,  5.84s/it]"
     ]
    },
    {
     "name": "stdout",
     "output_type": "stream",
     "text": [
      "002597.SZ updated from 20210114 to 20210115\n",
      "Time cost : 2.5381529331207275s\n"
     ]
    },
    {
     "name": "stderr",
     "output_type": "stream",
     "text": [
      "\n",
      " 45%|████▌     | 966/2129 [1:12:54<1:33:57,  4.85s/it]"
     ]
    },
    {
     "name": "stdout",
     "output_type": "stream",
     "text": [
      "600075.SH updated from 20210114 to 20210115\n",
      "Time cost : 9.44624948501587s\n"
     ]
    },
    {
     "name": "stderr",
     "output_type": "stream",
     "text": [
      "\n",
      " 45%|████▌     | 967/2129 [1:13:03<2:00:36,  6.23s/it]"
     ]
    },
    {
     "name": "stdout",
     "output_type": "stream",
     "text": [
      "002911.SZ updated from 20210114 to 20210115\n",
      "Time cost : 3.8199210166931152s\n"
     ]
    },
    {
     "name": "stderr",
     "output_type": "stream",
     "text": [
      "\n",
      " 45%|████▌     | 968/2129 [1:13:07<1:46:32,  5.51s/it]"
     ]
    },
    {
     "name": "stdout",
     "output_type": "stream",
     "text": [
      "600459.SH updated from 20210114 to 20210115\n",
      "Time cost : 1.4040555953979492s\n"
     ]
    },
    {
     "name": "stderr",
     "output_type": "stream",
     "text": [
      "\n",
      " 46%|████▌     | 969/2129 [1:13:08<1:22:40,  4.28s/it]"
     ]
    },
    {
     "name": "stdout",
     "output_type": "stream",
     "text": [
      "600642.SH updated from 20210114 to 20210115\n",
      "Time cost : 4.155401229858398s\n"
     ]
    },
    {
     "name": "stderr",
     "output_type": "stream",
     "text": [
      "\n",
      " 46%|████▌     | 970/2129 [1:13:12<1:21:54,  4.24s/it]"
     ]
    },
    {
     "name": "stdout",
     "output_type": "stream",
     "text": [
      "600295.SH updated from 20210114 to 20210115\n",
      "Time cost : 5.950629472732544s\n"
     ]
    },
    {
     "name": "stderr",
     "output_type": "stream",
     "text": [
      "\n",
      " 46%|████▌     | 971/2129 [1:13:18<1:31:45,  4.75s/it]"
     ]
    },
    {
     "name": "stdout",
     "output_type": "stream",
     "text": [
      "002327.SZ updated from 20210114 to 20210115\n",
      "Time cost : 17.234232425689697s\n"
     ]
    },
    {
     "name": "stderr",
     "output_type": "stream",
     "text": [
      "\n",
      " 46%|████▌     | 972/2129 [1:13:36<2:43:53,  8.50s/it]"
     ]
    },
    {
     "name": "stdout",
     "output_type": "stream",
     "text": [
      "600664.SH updated from 20210114 to 20210115\n",
      "Time cost : 4.206643581390381s\n"
     ]
    },
    {
     "name": "stderr",
     "output_type": "stream",
     "text": [
      "\n",
      " 46%|████▌     | 973/2129 [1:13:40<2:18:57,  7.21s/it]"
     ]
    },
    {
     "name": "stdout",
     "output_type": "stream",
     "text": [
      "688098.SH updated from 20210114 to 20210115\n",
      "Time cost : 8.10228681564331s\n"
     ]
    },
    {
     "name": "stderr",
     "output_type": "stream",
     "text": [
      "\n",
      " 46%|████▌     | 974/2129 [1:13:48<2:23:59,  7.48s/it]"
     ]
    },
    {
     "name": "stdout",
     "output_type": "stream",
     "text": [
      "600297.SH updated from 20210114 to 20210115\n",
      "Time cost : 4.2762980461120605s\n"
     ]
    },
    {
     "name": "stderr",
     "output_type": "stream",
     "text": [
      "\n",
      " 46%|████▌     | 975/2129 [1:13:52<2:05:23,  6.52s/it]"
     ]
    },
    {
     "name": "stdout",
     "output_type": "stream",
     "text": [
      "002832.SZ updated from 20210114 to 20210115\n",
      "Time cost : 2.139587879180908s\n"
     ]
    },
    {
     "name": "stderr",
     "output_type": "stream",
     "text": [
      "\n",
      " 46%|████▌     | 976/2129 [1:13:54<1:40:02,  5.21s/it]"
     ]
    },
    {
     "name": "stdout",
     "output_type": "stream",
     "text": [
      "601328.SH updated from 20210114 to 20210115\n",
      "Time cost : 13.23976182937622s\n"
     ]
    },
    {
     "name": "stderr",
     "output_type": "stream",
     "text": [
      "\n",
      " 46%|████▌     | 977/2129 [1:14:08<2:26:15,  7.62s/it]"
     ]
    },
    {
     "name": "stdout",
     "output_type": "stream",
     "text": [
      "600559.SH updated from 20210114 to 20210115\n",
      "Time cost : 3.4522478580474854s\n"
     ]
    },
    {
     "name": "stderr",
     "output_type": "stream",
     "text": [
      "\n",
      " 46%|████▌     | 978/2129 [1:14:11<2:02:09,  6.37s/it]"
     ]
    },
    {
     "name": "stdout",
     "output_type": "stream",
     "text": [
      "600596.SH updated from 20210114 to 20210115\n",
      "Time cost : 2.514212131500244s\n"
     ]
    },
    {
     "name": "stderr",
     "output_type": "stream",
     "text": [
      "\n",
      " 46%|████▌     | 979/2129 [1:14:14<1:39:54,  5.21s/it]"
     ]
    },
    {
     "name": "stdout",
     "output_type": "stream",
     "text": [
      "600519.SH updated from 20210114 to 20210115\n",
      "Time cost : 1.1286685466766357s\n"
     ]
    },
    {
     "name": "stderr",
     "output_type": "stream",
     "text": [
      "\n",
      " 46%|████▌     | 980/2129 [1:14:15<1:16:22,  3.99s/it]"
     ]
    },
    {
     "name": "stdout",
     "output_type": "stream",
     "text": [
      "601567.SH updated from 20210114 to 20210115\n",
      "Time cost : 5.1769654750823975s\n"
     ]
    },
    {
     "name": "stderr",
     "output_type": "stream",
     "text": [
      "\n",
      " 46%|████▌     | 981/2129 [1:14:20<1:23:08,  4.35s/it]"
     ]
    },
    {
     "name": "stdout",
     "output_type": "stream",
     "text": [
      "300083.SZ updated from 20210114 to 20210115\n",
      "Time cost : 12.760251522064209s\n"
     ]
    },
    {
     "name": "stderr",
     "output_type": "stream",
     "text": [
      "\n",
      " 46%|████▌     | 982/2129 [1:14:33<2:11:20,  6.87s/it]"
     ]
    },
    {
     "name": "stdout",
     "output_type": "stream",
     "text": [
      "000903.SZ updated from 20210114 to 20210115\n",
      "Time cost : 1.711951494216919s\n"
     ]
    },
    {
     "name": "stderr",
     "output_type": "stream",
     "text": [
      "\n",
      " 46%|████▌     | 983/2129 [1:14:34<1:41:41,  5.32s/it]"
     ]
    },
    {
     "name": "stdout",
     "output_type": "stream",
     "text": [
      "601965.SH updated from 20210114 to 20210115\n",
      "Time cost : 1.1649105548858643s\n"
     ]
    },
    {
     "name": "stderr",
     "output_type": "stream",
     "text": [
      "\n",
      " 46%|████▌     | 984/2129 [1:14:35<1:17:48,  4.08s/it]"
     ]
    },
    {
     "name": "stdout",
     "output_type": "stream",
     "text": [
      "600403.SH updated from 20210114 to 20210115\n",
      "Time cost : 4.002042770385742s\n"
     ]
    },
    {
     "name": "stderr",
     "output_type": "stream",
     "text": [
      "\n",
      " 46%|████▋     | 985/2129 [1:14:39<1:17:18,  4.05s/it]"
     ]
    },
    {
     "name": "stdout",
     "output_type": "stream",
     "text": [
      "601966.SH updated from 20210114 to 20210115\n",
      "Time cost : 5.760288715362549s\n"
     ]
    },
    {
     "name": "stderr",
     "output_type": "stream",
     "text": [
      "\n",
      " 46%|████▋     | 986/2129 [1:14:45<1:27:00,  4.57s/it]"
     ]
    },
    {
     "name": "stdout",
     "output_type": "stream",
     "text": [
      "603444.SH updated from 20210114 to 20210115\n",
      "Time cost : 2.6891207695007324s\n"
     ]
    },
    {
     "name": "stderr",
     "output_type": "stream",
     "text": [
      "\n",
      " 46%|████▋     | 987/2129 [1:14:48<1:16:13,  4.00s/it]"
     ]
    },
    {
     "name": "stdout",
     "output_type": "stream",
     "text": [
      "300280.SZ updated from 20210114 to 20210115\n",
      "Time cost : 1.9677274227142334s\n"
     ]
    },
    {
     "name": "stderr",
     "output_type": "stream",
     "text": [
      "\n",
      " 46%|████▋     | 988/2129 [1:14:50<1:04:32,  3.39s/it]"
     ]
    },
    {
     "name": "stdout",
     "output_type": "stream",
     "text": [
      "002570.SZ updated from 20210114 to 20210115\n",
      "Time cost : 2.6730127334594727s\n"
     ]
    },
    {
     "name": "stderr",
     "output_type": "stream",
     "text": [
      "\n",
      " 46%|████▋     | 989/2129 [1:14:53<1:00:23,  3.18s/it]"
     ]
    },
    {
     "name": "stdout",
     "output_type": "stream",
     "text": [
      "002985.SZ updated from 20210114 to 20210115\n",
      "Time cost : 6.052486896514893s\n"
     ]
    },
    {
     "name": "stderr",
     "output_type": "stream",
     "text": [
      "\n",
      " 47%|████▋     | 990/2129 [1:14:59<1:16:42,  4.04s/it]"
     ]
    },
    {
     "name": "stdout",
     "output_type": "stream",
     "text": [
      "600619.SH updated from 20210114 to 20210115\n",
      "Time cost : 9.407503366470337s\n"
     ]
    },
    {
     "name": "stderr",
     "output_type": "stream",
     "text": [
      "\n",
      " 47%|████▋     | 991/2129 [1:15:08<1:47:11,  5.65s/it]"
     ]
    },
    {
     "name": "stdout",
     "output_type": "stream",
     "text": [
      "300679.SZ updated from 20210114 to 20210115\n",
      "Time cost : 6.4413087368011475s\n"
     ]
    },
    {
     "name": "stderr",
     "output_type": "stream",
     "text": [
      "\n",
      " 47%|████▋     | 992/2129 [1:15:14<1:51:35,  5.89s/it]"
     ]
    },
    {
     "name": "stdout",
     "output_type": "stream",
     "text": [
      "600575.SH updated from 20210114 to 20210115\n",
      "Time cost : 4.971807479858398s\n"
     ]
    },
    {
     "name": "stderr",
     "output_type": "stream",
     "text": [
      "\n",
      " 47%|████▋     | 993/2129 [1:15:19<1:46:17,  5.61s/it]"
     ]
    },
    {
     "name": "stdout",
     "output_type": "stream",
     "text": [
      "601698.SH updated from 20210114 to 20210115\n",
      "Time cost : 2.149000644683838s\n"
     ]
    },
    {
     "name": "stderr",
     "output_type": "stream",
     "text": [
      "\n",
      " 47%|████▋     | 994/2129 [1:15:22<1:26:33,  4.58s/it]"
     ]
    },
    {
     "name": "stdout",
     "output_type": "stream",
     "text": [
      "002746.SZ updated from 20210114 to 20210115\n",
      "Time cost : 4.156297922134399s\n"
     ]
    },
    {
     "name": "stderr",
     "output_type": "stream",
     "text": [
      "\n",
      " 47%|████▋     | 995/2129 [1:15:26<1:24:06,  4.45s/it]"
     ]
    },
    {
     "name": "stdout",
     "output_type": "stream",
     "text": [
      "300870.SZ updated from 20210114 to 20210115\n",
      "Time cost : 2.5527822971343994s\n"
     ]
    },
    {
     "name": "stderr",
     "output_type": "stream",
     "text": [
      "\n",
      " 47%|████▋     | 996/2129 [1:15:28<1:13:17,  3.88s/it]"
     ]
    },
    {
     "name": "stdout",
     "output_type": "stream",
     "text": [
      "600782.SH updated from 20210114 to 20210115\n",
      "Time cost : 2.76568603515625s\n"
     ]
    },
    {
     "name": "stderr",
     "output_type": "stream",
     "text": [
      "\n",
      " 47%|████▋     | 997/2129 [1:15:31<1:06:55,  3.55s/it]"
     ]
    },
    {
     "name": "stdout",
     "output_type": "stream",
     "text": [
      "300259.SZ updated from 20210114 to 20210115\n",
      "Time cost : 2.797132730484009s\n"
     ]
    },
    {
     "name": "stderr",
     "output_type": "stream",
     "text": [
      "\n",
      " 47%|████▋     | 998/2129 [1:15:34<1:02:38,  3.32s/it]"
     ]
    },
    {
     "name": "stdout",
     "output_type": "stream",
     "text": [
      "000552.SZ updated from 20210114 to 20210115\n",
      "Time cost : 5.492206811904907s\n"
     ]
    },
    {
     "name": "stderr",
     "output_type": "stream",
     "text": [
      "\n",
      " 47%|████▋     | 999/2129 [1:15:39<1:14:51,  3.97s/it]"
     ]
    },
    {
     "name": "stdout",
     "output_type": "stream",
     "text": [
      "002709.SZ updated from 20210114 to 20210115\n",
      "Time cost : 9.774835109710693s\n"
     ]
    },
    {
     "name": "stderr",
     "output_type": "stream",
     "text": [
      "\n",
      " 47%|████▋     | 1000/2129 [1:15:49<1:47:32,  5.72s/it]"
     ]
    },
    {
     "name": "stdout",
     "output_type": "stream",
     "text": [
      "002558.SZ updated from 20210114 to 20210115\n",
      "Time cost : 4.834255218505859s\n"
     ]
    },
    {
     "name": "stderr",
     "output_type": "stream",
     "text": [
      "\n",
      " 47%|████▋     | 1001/2129 [1:15:54<1:42:29,  5.45s/it]"
     ]
    },
    {
     "name": "stdout",
     "output_type": "stream",
     "text": [
      "300339.SZ updated from 20210114 to 20210115\n",
      "Time cost : 5.408203125s\n"
     ]
    },
    {
     "name": "stderr",
     "output_type": "stream",
     "text": [
      "\n",
      " 47%|████▋     | 1002/2129 [1:15:59<1:42:10,  5.44s/it]"
     ]
    },
    {
     "name": "stdout",
     "output_type": "stream",
     "text": [
      "600151.SH updated from 20210114 to 20210115\n",
      "Time cost : 7.386667251586914s\n"
     ]
    },
    {
     "name": "stderr",
     "output_type": "stream",
     "text": [
      "\n",
      " 47%|████▋     | 1003/2129 [1:16:07<1:53:02,  6.02s/it]"
     ]
    },
    {
     "name": "stdout",
     "output_type": "stream",
     "text": [
      "000536.SZ updated from 20210114 to 20210115\n",
      "Time cost : 2.720078945159912s\n"
     ]
    },
    {
     "name": "stderr",
     "output_type": "stream",
     "text": [
      "\n",
      " 47%|████▋     | 1004/2129 [1:16:10<1:34:22,  5.03s/it]"
     ]
    },
    {
     "name": "stdout",
     "output_type": "stream",
     "text": [
      "300297.SZ updated from 20210114 to 20210115\n",
      "Time cost : 2.031466007232666s\n"
     ]
    },
    {
     "name": "stderr",
     "output_type": "stream",
     "text": [
      "\n",
      " 47%|████▋     | 1005/2129 [1:16:12<1:17:26,  4.13s/it]"
     ]
    },
    {
     "name": "stdout",
     "output_type": "stream",
     "text": [
      "002695.SZ updated from 20210114 to 20210115\n",
      "Time cost : 1.7003839015960693s\n"
     ]
    },
    {
     "name": "stderr",
     "output_type": "stream",
     "text": [
      "\n",
      " 47%|████▋     | 1006/2129 [1:16:13<1:03:42,  3.40s/it]"
     ]
    },
    {
     "name": "stdout",
     "output_type": "stream",
     "text": [
      "000750.SZ updated from 20210114 to 20210115\n",
      "Time cost : 1.1561355590820312s\n"
     ]
    },
    {
     "name": "stderr",
     "output_type": "stream",
     "text": [
      "\n",
      " 47%|████▋     | 1007/2129 [1:16:14<51:03,  2.73s/it]  "
     ]
    },
    {
     "name": "stdout",
     "output_type": "stream",
     "text": [
      "300190.SZ updated from 20210114 to 20210115\n",
      "Time cost : 1.700899362564087s\n"
     ]
    },
    {
     "name": "stderr",
     "output_type": "stream",
     "text": [
      "\n",
      " 47%|████▋     | 1008/2129 [1:16:16<45:15,  2.42s/it]"
     ]
    },
    {
     "name": "stdout",
     "output_type": "stream",
     "text": [
      "000070.SZ updated from 20210114 to 20210115\n",
      "Time cost : 2.054159164428711s\n"
     ]
    },
    {
     "name": "stderr",
     "output_type": "stream",
     "text": [
      "\n",
      " 47%|████▋     | 1009/2129 [1:16:18<43:09,  2.31s/it]"
     ]
    },
    {
     "name": "stdout",
     "output_type": "stream",
     "text": [
      "688177.SH updated from 20210114 to 20210115\n",
      "Time cost : 21.74016761779785s\n"
     ]
    },
    {
     "name": "stderr",
     "output_type": "stream",
     "text": [
      "\n",
      " 47%|████▋     | 1010/2129 [1:16:40<2:31:50,  8.14s/it]"
     ]
    },
    {
     "name": "stdout",
     "output_type": "stream",
     "text": [
      "002803.SZ updated from 20210114 to 20210115\n",
      "Time cost : 4.584843873977661s\n"
     ]
    },
    {
     "name": "stderr",
     "output_type": "stream",
     "text": [
      "\n",
      " 47%|████▋     | 1011/2129 [1:16:45<2:11:50,  7.08s/it]"
     ]
    },
    {
     "name": "stdout",
     "output_type": "stream",
     "text": [
      "603077.SH updated from 20210114 to 20210115\n",
      "Time cost : 4.012147903442383s\n"
     ]
    },
    {
     "name": "stderr",
     "output_type": "stream",
     "text": [
      "\n",
      " 48%|████▊     | 1012/2129 [1:16:49<1:54:37,  6.16s/it]"
     ]
    },
    {
     "name": "stdout",
     "output_type": "stream",
     "text": [
      "002027.SZ updated from 20210114 to 20210115\n",
      "Time cost : 1.7628555297851562s\n"
     ]
    },
    {
     "name": "stderr",
     "output_type": "stream",
     "text": [
      "\n",
      " 48%|████▊     | 1013/2129 [1:16:50<1:30:00,  4.84s/it]"
     ]
    },
    {
     "name": "stdout",
     "output_type": "stream",
     "text": [
      "002310.SZ updated from 20210114 to 20210115\n",
      "Time cost : 5.948288917541504s\n"
     ]
    },
    {
     "name": "stderr",
     "output_type": "stream",
     "text": [
      "\n",
      " 48%|████▊     | 1014/2129 [1:16:56<1:36:07,  5.17s/it]"
     ]
    },
    {
     "name": "stdout",
     "output_type": "stream",
     "text": [
      "300415.SZ updated from 20210114 to 20210115\n",
      "Time cost : 3.168973922729492s\n"
     ]
    },
    {
     "name": "stderr",
     "output_type": "stream",
     "text": [
      "\n",
      " 48%|████▊     | 1015/2129 [1:16:59<1:24:53,  4.57s/it]"
     ]
    },
    {
     "name": "stdout",
     "output_type": "stream",
     "text": [
      "300805.SZ updated from 20210114 to 20210115\n",
      "Time cost : 1.6674954891204834s\n"
     ]
    },
    {
     "name": "stderr",
     "output_type": "stream",
     "text": [
      "\n",
      " 48%|████▊     | 1016/2129 [1:17:01<1:08:39,  3.70s/it]"
     ]
    },
    {
     "name": "stdout",
     "output_type": "stream",
     "text": [
      "605009.SH updated from 20210114 to 20210115\n",
      "Time cost : 2.2376656532287598s\n"
     ]
    },
    {
     "name": "stderr",
     "output_type": "stream",
     "text": [
      "\n",
      " 48%|████▊     | 1017/2129 [1:17:03<1:00:27,  3.26s/it]"
     ]
    },
    {
     "name": "stdout",
     "output_type": "stream",
     "text": [
      "600674.SH updated from 20210114 to 20210115\n",
      "Time cost : 3.008239984512329s\n"
     ]
    },
    {
     "name": "stderr",
     "output_type": "stream",
     "text": [
      "\n",
      " 48%|████▊     | 1018/2129 [1:17:06<59:00,  3.19s/it]  "
     ]
    },
    {
     "name": "stdout",
     "output_type": "stream",
     "text": [
      "600723.SH updated from 20210114 to 20210115\n",
      "Time cost : 2.9815456867218018s\n"
     ]
    },
    {
     "name": "stderr",
     "output_type": "stream",
     "text": [
      "\n",
      " 48%|████▊     | 1019/2129 [1:17:09<57:49,  3.13s/it]"
     ]
    },
    {
     "name": "stdout",
     "output_type": "stream",
     "text": [
      "600480.SH updated from 20210114 to 20210115\n",
      "Time cost : 1.1887946128845215s\n"
     ]
    },
    {
     "name": "stderr",
     "output_type": "stream",
     "text": [
      "\n",
      " 48%|████▊     | 1020/2129 [1:17:11<47:03,  2.55s/it]"
     ]
    },
    {
     "name": "stdout",
     "output_type": "stream",
     "text": [
      "601015.SH updated from 20210114 to 20210115\n",
      "Time cost : 2.675670623779297s\n"
     ]
    },
    {
     "name": "stderr",
     "output_type": "stream",
     "text": [
      "\n",
      " 48%|████▊     | 1021/2129 [1:17:13<47:44,  2.59s/it]"
     ]
    },
    {
     "name": "stdout",
     "output_type": "stream",
     "text": [
      "603730.SH updated from 20210114 to 20210115\n",
      "Time cost : 17.585769176483154s\n"
     ]
    },
    {
     "name": "stderr",
     "output_type": "stream",
     "text": [
      "\n",
      " 48%|████▊     | 1022/2129 [1:17:31<2:10:44,  7.09s/it]"
     ]
    },
    {
     "name": "stdout",
     "output_type": "stream",
     "text": [
      "300752.SZ updated from 20210114 to 20210115\n",
      "Time cost : 3.5348501205444336s\n"
     ]
    },
    {
     "name": "stderr",
     "output_type": "stream",
     "text": [
      "\n",
      " 48%|████▊     | 1023/2129 [1:17:34<1:50:59,  6.02s/it]"
     ]
    },
    {
     "name": "stdout",
     "output_type": "stream",
     "text": [
      "300256.SZ updated from 20210114 to 20210115\n",
      "Time cost : 2.2842214107513428s\n"
     ]
    },
    {
     "name": "stderr",
     "output_type": "stream",
     "text": [
      "\n",
      " 48%|████▊     | 1024/2129 [1:17:37<1:30:15,  4.90s/it]"
     ]
    },
    {
     "name": "stdout",
     "output_type": "stream",
     "text": [
      "002895.SZ updated from 20210114 to 20210115\n",
      "Time cost : 7.012824535369873s\n"
     ]
    },
    {
     "name": "stderr",
     "output_type": "stream",
     "text": [
      "\n",
      " 48%|████▊     | 1025/2129 [1:17:44<1:41:50,  5.53s/it]"
     ]
    },
    {
     "name": "stdout",
     "output_type": "stream",
     "text": [
      "603129.SH updated from 20210114 to 20210115\n",
      "Time cost : 6.491023063659668s\n"
     ]
    },
    {
     "name": "stderr",
     "output_type": "stream",
     "text": [
      "\n",
      " 48%|████▊     | 1026/2129 [1:17:50<1:47:02,  5.82s/it]"
     ]
    },
    {
     "name": "stdout",
     "output_type": "stream",
     "text": [
      "600198.SH updated from 20210114 to 20210115\n",
      "Time cost : 6.091029405593872s\n"
     ]
    },
    {
     "name": "stderr",
     "output_type": "stream",
     "text": [
      "\n",
      " 48%|████▊     | 1027/2129 [1:17:56<1:48:26,  5.90s/it]"
     ]
    },
    {
     "name": "stdout",
     "output_type": "stream",
     "text": [
      "000498.SZ updated from 20210114 to 20210115\n",
      "Time cost : 2.449822187423706s\n"
     ]
    },
    {
     "name": "stderr",
     "output_type": "stream",
     "text": [
      "\n",
      " 48%|████▊     | 1028/2129 [1:17:59<1:29:19,  4.87s/it]"
     ]
    },
    {
     "name": "stdout",
     "output_type": "stream",
     "text": [
      "000555.SZ updated from 20210114 to 20210115\n",
      "Time cost : 2.9904816150665283s\n"
     ]
    },
    {
     "name": "stderr",
     "output_type": "stream",
     "text": [
      "\n",
      " 48%|████▊     | 1029/2129 [1:18:02<1:18:56,  4.31s/it]"
     ]
    },
    {
     "name": "stdout",
     "output_type": "stream",
     "text": [
      "603986.SH updated from 20210114 to 20210115\n",
      "Time cost : 16.0658175945282s\n"
     ]
    },
    {
     "name": "stderr",
     "output_type": "stream",
     "text": [
      "\n",
      " 48%|████▊     | 1030/2129 [1:18:18<2:23:29,  7.83s/it]"
     ]
    },
    {
     "name": "stdout",
     "output_type": "stream",
     "text": [
      "002930.SZ updated from 20210114 to 20210115\n",
      "Time cost : 2.945889711380005s\n"
     ]
    },
    {
     "name": "stderr",
     "output_type": "stream",
     "text": [
      "\n",
      " 48%|████▊     | 1031/2129 [1:18:21<1:56:32,  6.37s/it]"
     ]
    },
    {
     "name": "stdout",
     "output_type": "stream",
     "text": [
      "603601.SH updated from 20210114 to 20210115\n",
      "Time cost : 2.717641592025757s\n"
     ]
    },
    {
     "name": "stderr",
     "output_type": "stream",
     "text": [
      "\n",
      " 48%|████▊     | 1032/2129 [1:18:23<1:36:25,  5.27s/it]"
     ]
    },
    {
     "name": "stdout",
     "output_type": "stream",
     "text": [
      "000078.SZ updated from 20210114 to 20210115\n",
      "Time cost : 5.191497087478638s\n"
     ]
    },
    {
     "name": "stderr",
     "output_type": "stream",
     "text": [
      "\n",
      " 49%|████▊     | 1033/2129 [1:18:29<1:35:53,  5.25s/it]"
     ]
    },
    {
     "name": "stdout",
     "output_type": "stream",
     "text": [
      "688016.SH updated from 20210114 to 20210115\n",
      "Time cost : 1.4123315811157227s\n"
     ]
    },
    {
     "name": "stderr",
     "output_type": "stream",
     "text": [
      "\n",
      " 49%|████▊     | 1034/2129 [1:18:30<1:14:48,  4.10s/it]"
     ]
    },
    {
     "name": "stdout",
     "output_type": "stream",
     "text": [
      "300709.SZ updated from 20210114 to 20210115\n",
      "Time cost : 3.0207772254943848s\n"
     ]
    },
    {
     "name": "stderr",
     "output_type": "stream",
     "text": [
      "\n",
      " 49%|████▊     | 1035/2129 [1:18:33<1:08:50,  3.78s/it]"
     ]
    },
    {
     "name": "stdout",
     "output_type": "stream",
     "text": [
      "600981.SH updated from 20210114 to 20210115\n",
      "Time cost : 2.500930070877075s\n"
     ]
    },
    {
     "name": "stderr",
     "output_type": "stream",
     "text": [
      "\n",
      " 49%|████▊     | 1036/2129 [1:18:36<1:01:50,  3.39s/it]"
     ]
    },
    {
     "name": "stdout",
     "output_type": "stream",
     "text": [
      "600176.SH updated from 20210114 to 20210115\n",
      "Time cost : 1.9675014019012451s\n"
     ]
    },
    {
     "name": "stderr",
     "output_type": "stream",
     "text": [
      "\n",
      " 49%|████▊     | 1037/2129 [1:18:37<53:59,  2.97s/it]  "
     ]
    },
    {
     "name": "stdout",
     "output_type": "stream",
     "text": [
      "600637.SH updated from 20210114 to 20210115\n",
      "Time cost : 2.2676804065704346s\n"
     ]
    },
    {
     "name": "stderr",
     "output_type": "stream",
     "text": [
      "\n",
      " 49%|████▉     | 1038/2129 [1:18:40<50:08,  2.76s/it]"
     ]
    },
    {
     "name": "stdout",
     "output_type": "stream",
     "text": [
      "300138.SZ updated from 20210114 to 20210115\n",
      "Time cost : 1.1419258117675781s\n"
     ]
    },
    {
     "name": "stderr",
     "output_type": "stream",
     "text": [
      "\n",
      " 49%|████▉     | 1039/2129 [1:18:41<41:18,  2.27s/it]"
     ]
    },
    {
     "name": "stdout",
     "output_type": "stream",
     "text": [
      "002387.SZ updated from 20210114 to 20210115\n",
      "Time cost : 10.002789497375488s\n"
     ]
    },
    {
     "name": "stderr",
     "output_type": "stream",
     "text": [
      "\n",
      " 49%|████▉     | 1040/2129 [1:18:51<1:23:21,  4.59s/it]"
     ]
    },
    {
     "name": "stdout",
     "output_type": "stream",
     "text": [
      "002540.SZ updated from 20210114 to 20210115\n",
      "Time cost : 3.3026084899902344s\n"
     ]
    },
    {
     "name": "stderr",
     "output_type": "stream",
     "text": [
      "\n",
      " 49%|████▉     | 1041/2129 [1:18:54<1:16:16,  4.21s/it]"
     ]
    },
    {
     "name": "stdout",
     "output_type": "stream",
     "text": [
      "600528.SH updated from 20210114 to 20210115\n",
      "Time cost : 2.227994203567505s\n"
     ]
    },
    {
     "name": "stderr",
     "output_type": "stream",
     "text": [
      "\n",
      " 49%|████▉     | 1042/2129 [1:18:56<1:05:27,  3.61s/it]"
     ]
    },
    {
     "name": "stdout",
     "output_type": "stream",
     "text": [
      "600903.SH updated from 20210114 to 20210115\n",
      "Time cost : 2.589390993118286s\n"
     ]
    },
    {
     "name": "stderr",
     "output_type": "stream",
     "text": [
      "\n",
      " 49%|████▉     | 1043/2129 [1:18:59<59:51,  3.31s/it]  "
     ]
    },
    {
     "name": "stdout",
     "output_type": "stream",
     "text": [
      "300284.SZ updated from 20210114 to 20210115\n",
      "Time cost : 3.4150197505950928s\n"
     ]
    },
    {
     "name": "stderr",
     "output_type": "stream",
     "text": [
      "\n",
      " 49%|████▉     | 1044/2129 [1:19:02<1:00:23,  3.34s/it]"
     ]
    },
    {
     "name": "stdout",
     "output_type": "stream",
     "text": [
      "002567.SZ updated from 20210114 to 20210115\n",
      "Time cost : 4.7473673820495605s\n"
     ]
    },
    {
     "name": "stderr",
     "output_type": "stream",
     "text": [
      "\n",
      " 49%|████▉     | 1045/2129 [1:19:07<1:07:58,  3.76s/it]"
     ]
    },
    {
     "name": "stdout",
     "output_type": "stream",
     "text": [
      "601618.SH updated from 20210114 to 20210115\n",
      "Time cost : 2.95212459564209s\n"
     ]
    },
    {
     "name": "stderr",
     "output_type": "stream",
     "text": [
      "\n",
      " 49%|████▉     | 1046/2129 [1:19:10<1:03:32,  3.52s/it]"
     ]
    },
    {
     "name": "stdout",
     "output_type": "stream",
     "text": [
      "002203.SZ updated from 20210114 to 20210115\n",
      "Time cost : 2.8581736087799072s\n"
     ]
    },
    {
     "name": "stderr",
     "output_type": "stream",
     "text": [
      "\n",
      " 49%|████▉     | 1047/2129 [1:19:13<59:54,  3.32s/it]  "
     ]
    },
    {
     "name": "stdout",
     "output_type": "stream",
     "text": [
      "300398.SZ updated from 20210114 to 20210115\n",
      "Time cost : 1.1017134189605713s\n"
     ]
    },
    {
     "name": "stderr",
     "output_type": "stream",
     "text": [
      "\n",
      " 49%|████▉     | 1048/2129 [1:19:14<47:51,  2.66s/it]"
     ]
    },
    {
     "name": "stdout",
     "output_type": "stream",
     "text": [
      "000807.SZ updated from 20210114 to 20210115\n",
      "Time cost : 4.987344980239868s\n"
     ]
    },
    {
     "name": "stderr",
     "output_type": "stream",
     "text": [
      "\n",
      " 49%|████▉     | 1049/2129 [1:19:19<1:00:25,  3.36s/it]"
     ]
    },
    {
     "name": "stdout",
     "output_type": "stream",
     "text": [
      "600438.SH updated from 20210114 to 20210115\n",
      "Time cost : 4.707879066467285s\n"
     ]
    },
    {
     "name": "stderr",
     "output_type": "stream",
     "text": [
      "\n",
      " 49%|████▉     | 1050/2129 [1:19:24<1:07:39,  3.76s/it]"
     ]
    },
    {
     "name": "stdout",
     "output_type": "stream",
     "text": [
      "300188.SZ updated from 20210114 to 20210115\n",
      "Time cost : 2.603058099746704s\n"
     ]
    },
    {
     "name": "stderr",
     "output_type": "stream",
     "text": [
      "\n",
      " 49%|████▉     | 1051/2129 [1:19:26<1:01:22,  3.42s/it]"
     ]
    },
    {
     "name": "stdout",
     "output_type": "stream",
     "text": [
      "000936.SZ updated from 20210114 to 20210115\n",
      "Time cost : 2.152839422225952s\n"
     ]
    },
    {
     "name": "stderr",
     "output_type": "stream",
     "text": [
      "\n",
      " 49%|████▉     | 1052/2129 [1:19:29<54:31,  3.04s/it]  "
     ]
    },
    {
     "name": "stdout",
     "output_type": "stream",
     "text": [
      "300238.SZ updated from 20210114 to 20210115\n",
      "Time cost : 3.282033920288086s\n"
     ]
    },
    {
     "name": "stderr",
     "output_type": "stream",
     "text": [
      "\n",
      " 49%|████▉     | 1053/2129 [1:19:32<55:47,  3.11s/it]"
     ]
    },
    {
     "name": "stdout",
     "output_type": "stream",
     "text": [
      "600643.SH updated from 20210114 to 20210115\n",
      "Time cost : 8.144717693328857s\n"
     ]
    },
    {
     "name": "stderr",
     "output_type": "stream",
     "text": [
      "\n",
      " 50%|████▉     | 1054/2129 [1:19:40<1:22:48,  4.62s/it]"
     ]
    },
    {
     "name": "stdout",
     "output_type": "stream",
     "text": [
      "600875.SH updated from 20210114 to 20210115\n",
      "Time cost : 2.7114596366882324s\n"
     ]
    },
    {
     "name": "stderr",
     "output_type": "stream",
     "text": [
      "\n",
      " 50%|████▉     | 1055/2129 [1:19:43<1:12:29,  4.05s/it]"
     ]
    },
    {
     "name": "stdout",
     "output_type": "stream",
     "text": [
      "002299.SZ updated from 20210114 to 20210115\n",
      "Time cost : 5.819402694702148s\n"
     ]
    },
    {
     "name": "stderr",
     "output_type": "stream",
     "text": [
      "\n",
      " 50%|████▉     | 1056/2129 [1:19:49<1:21:55,  4.58s/it]"
     ]
    },
    {
     "name": "stdout",
     "output_type": "stream",
     "text": [
      "605136.SH updated from 20210114 to 20210115\n",
      "Time cost : 7.897549867630005s\n"
     ]
    },
    {
     "name": "stderr",
     "output_type": "stream",
     "text": [
      "\n",
      " 50%|████▉     | 1057/2129 [1:19:56<1:39:38,  5.58s/it]"
     ]
    },
    {
     "name": "stdout",
     "output_type": "stream",
     "text": [
      "002169.SZ updated from 20210114 to 20210115\n",
      "Time cost : 3.383138656616211s\n"
     ]
    },
    {
     "name": "stderr",
     "output_type": "stream",
     "text": [
      "\n",
      " 50%|████▉     | 1058/2129 [1:20:00<1:27:48,  4.92s/it]"
     ]
    },
    {
     "name": "stdout",
     "output_type": "stream",
     "text": [
      "002977.SZ updated from 20210114 to 20210115\n",
      "Time cost : 4.533198833465576s\n"
     ]
    },
    {
     "name": "stderr",
     "output_type": "stream",
     "text": [
      "\n",
      " 50%|████▉     | 1059/2129 [1:20:04<1:25:40,  4.80s/it]"
     ]
    },
    {
     "name": "stdout",
     "output_type": "stream",
     "text": [
      "002563.SZ updated from 20210114 to 20210115\n",
      "Time cost : 16.20082402229309s\n"
     ]
    },
    {
     "name": "stderr",
     "output_type": "stream",
     "text": [
      "\n",
      " 50%|████▉     | 1060/2129 [1:20:21<2:26:31,  8.22s/it]"
     ]
    },
    {
     "name": "stdout",
     "output_type": "stream",
     "text": [
      "600000.SH updated from 20210114 to 20210115\n",
      "Time cost : 2.208331346511841s\n"
     ]
    },
    {
     "name": "stderr",
     "output_type": "stream",
     "text": [
      "\n",
      " 50%|████▉     | 1061/2129 [1:20:23<1:54:15,  6.42s/it]"
     ]
    },
    {
     "name": "stdout",
     "output_type": "stream",
     "text": [
      "601901.SH updated from 20210114 to 20210115\n",
      "Time cost : 1.1305336952209473s\n"
     ]
    },
    {
     "name": "stderr",
     "output_type": "stream",
     "text": [
      "\n",
      " 50%|████▉     | 1062/2129 [1:20:24<1:25:57,  4.83s/it]"
     ]
    },
    {
     "name": "stdout",
     "output_type": "stream",
     "text": [
      "601777.SH updated from 20210114 to 20210115\n",
      "Time cost : 6.815061092376709s\n"
     ]
    },
    {
     "name": "stderr",
     "output_type": "stream",
     "text": [
      "\n",
      " 50%|████▉     | 1063/2129 [1:20:31<1:36:26,  5.43s/it]"
     ]
    },
    {
     "name": "stdout",
     "output_type": "stream",
     "text": [
      "300497.SZ updated from 20210114 to 20210115\n",
      "Time cost : 4.57897686958313s\n"
     ]
    },
    {
     "name": "stderr",
     "output_type": "stream",
     "text": [
      "\n",
      " 50%|████▉     | 1064/2129 [1:20:35<1:31:50,  5.17s/it]"
     ]
    },
    {
     "name": "stdout",
     "output_type": "stream",
     "text": [
      "601918.SH updated from 20210114 to 20210115\n",
      "Time cost : 2.371613025665283s\n"
     ]
    },
    {
     "name": "stderr",
     "output_type": "stream",
     "text": [
      "\n",
      " 50%|█████     | 1065/2129 [1:20:38<1:16:51,  4.33s/it]"
     ]
    },
    {
     "name": "stdout",
     "output_type": "stream",
     "text": [
      "603053.SH updated from 20210114 to 20210115\n",
      "Time cost : 2.9180567264556885s\n"
     ]
    },
    {
     "name": "stderr",
     "output_type": "stream",
     "text": [
      "\n",
      " 50%|█████     | 1066/2129 [1:20:41<1:09:16,  3.91s/it]"
     ]
    },
    {
     "name": "stdout",
     "output_type": "stream",
     "text": [
      "600771.SH updated from 20210114 to 20210115\n",
      "Time cost : 1.2125787734985352s\n"
     ]
    },
    {
     "name": "stderr",
     "output_type": "stream",
     "text": [
      "\n",
      " 50%|█████     | 1067/2129 [1:20:42<54:53,  3.10s/it]  "
     ]
    },
    {
     "name": "stdout",
     "output_type": "stream",
     "text": [
      "002920.SZ updated from 20210114 to 20210115\n",
      "Time cost : 1.7991230487823486s\n"
     ]
    },
    {
     "name": "stderr",
     "output_type": "stream",
     "text": [
      "\n",
      " 50%|█████     | 1068/2129 [1:20:44<47:56,  2.71s/it]"
     ]
    },
    {
     "name": "stdout",
     "output_type": "stream",
     "text": [
      "002847.SZ updated from 20210114 to 20210115\n",
      "Time cost : 8.413747072219849s\n"
     ]
    },
    {
     "name": "stderr",
     "output_type": "stream",
     "text": [
      "\n",
      " 50%|█████     | 1069/2129 [1:20:52<1:18:08,  4.42s/it]"
     ]
    },
    {
     "name": "stdout",
     "output_type": "stream",
     "text": [
      "300185.SZ updated from 20210114 to 20210115\n",
      "Time cost : 3.384214401245117s\n"
     ]
    },
    {
     "name": "stderr",
     "output_type": "stream",
     "text": [
      "\n",
      " 50%|█████     | 1070/2129 [1:20:55<1:12:34,  4.11s/it]"
     ]
    },
    {
     "name": "stdout",
     "output_type": "stream",
     "text": [
      "600066.SH updated from 20210114 to 20210115\n",
      "Time cost : 2.3592336177825928s\n"
     ]
    },
    {
     "name": "stderr",
     "output_type": "stream",
     "text": [
      "\n",
      " 50%|█████     | 1071/2129 [1:20:58<1:03:14,  3.59s/it]"
     ]
    },
    {
     "name": "stdout",
     "output_type": "stream",
     "text": [
      "000048.SZ updated from 20210114 to 20210115\n",
      "Time cost : 2.880244731903076s\n"
     ]
    },
    {
     "name": "stderr",
     "output_type": "stream",
     "text": [
      "\n",
      " 50%|█████     | 1072/2129 [1:21:01<59:27,  3.38s/it]  "
     ]
    },
    {
     "name": "stdout",
     "output_type": "stream",
     "text": [
      "002075.SZ updated from 20210114 to 20210115\n",
      "Time cost : 3.504971504211426s\n"
     ]
    },
    {
     "name": "stderr",
     "output_type": "stream",
     "text": [
      "\n",
      " 50%|█████     | 1073/2129 [1:21:04<1:00:06,  3.41s/it]"
     ]
    },
    {
     "name": "stdout",
     "output_type": "stream",
     "text": [
      "603881.SH updated from 20210114 to 20210115\n",
      "Time cost : 7.300899982452393s\n"
     ]
    },
    {
     "name": "stderr",
     "output_type": "stream",
     "text": [
      "\n",
      " 50%|█████     | 1074/2129 [1:21:11<1:20:32,  4.58s/it]"
     ]
    },
    {
     "name": "stdout",
     "output_type": "stream",
     "text": [
      "000725.SZ updated from 20210114 to 20210115\n",
      "Time cost : 7.654916286468506s\n"
     ]
    },
    {
     "name": "stderr",
     "output_type": "stream",
     "text": [
      "\n",
      " 50%|█████     | 1075/2129 [1:21:19<1:36:40,  5.50s/it]"
     ]
    },
    {
     "name": "stdout",
     "output_type": "stream",
     "text": [
      "000543.SZ updated from 20210114 to 20210115\n",
      "Time cost : 2.602144718170166s\n"
     ]
    },
    {
     "name": "stderr",
     "output_type": "stream",
     "text": [
      "\n",
      " 51%|█████     | 1076/2129 [1:21:22<1:21:19,  4.63s/it]"
     ]
    },
    {
     "name": "stdout",
     "output_type": "stream",
     "text": [
      "002601.SZ updated from 20210114 to 20210115\n",
      "Time cost : 9.545393705368042s\n"
     ]
    },
    {
     "name": "stderr",
     "output_type": "stream",
     "text": [
      "\n",
      " 51%|█████     | 1077/2129 [1:21:31<1:47:05,  6.11s/it]"
     ]
    },
    {
     "name": "stdout",
     "output_type": "stream",
     "text": [
      "300110.SZ updated from 20210114 to 20210115\n",
      "Time cost : 2.163299322128296s\n"
     ]
    },
    {
     "name": "stderr",
     "output_type": "stream",
     "text": [
      "\n",
      " 51%|█████     | 1078/2129 [1:21:33<1:26:16,  4.93s/it]"
     ]
    },
    {
     "name": "stdout",
     "output_type": "stream",
     "text": [
      "002171.SZ updated from 20210114 to 20210115\n",
      "Time cost : 2.269768476486206s\n"
     ]
    },
    {
     "name": "stderr",
     "output_type": "stream",
     "text": [
      "\n",
      " 51%|█████     | 1079/2129 [1:21:36<1:12:15,  4.13s/it]"
     ]
    },
    {
     "name": "stdout",
     "output_type": "stream",
     "text": [
      "300287.SZ updated from 20210114 to 20210115\n",
      "Time cost : 1.1908965110778809s\n"
     ]
    },
    {
     "name": "stderr",
     "output_type": "stream",
     "text": [
      "\n",
      " 51%|█████     | 1080/2129 [1:21:37<56:47,  3.25s/it]  "
     ]
    },
    {
     "name": "stdout",
     "output_type": "stream",
     "text": [
      "002758.SZ updated from 20210114 to 20210115\n",
      "Time cost : 1.1573553085327148s\n"
     ]
    },
    {
     "name": "stderr",
     "output_type": "stream",
     "text": [
      "\n",
      " 51%|█████     | 1081/2129 [1:21:38<45:48,  2.62s/it]"
     ]
    },
    {
     "name": "stdout",
     "output_type": "stream",
     "text": [
      "601186.SH updated from 20210114 to 20210115\n",
      "Time cost : 4.180510997772217s\n"
     ]
    },
    {
     "name": "stderr",
     "output_type": "stream",
     "text": [
      "\n",
      " 51%|█████     | 1082/2129 [1:21:42<53:55,  3.09s/it]"
     ]
    },
    {
     "name": "stdout",
     "output_type": "stream",
     "text": [
      "600787.SH updated from 20210114 to 20210115\n",
      "Time cost : 2.1050524711608887s\n"
     ]
    },
    {
     "name": "stderr",
     "output_type": "stream",
     "text": [
      "\n",
      " 51%|█████     | 1083/2129 [1:21:44<48:43,  2.80s/it]"
     ]
    },
    {
     "name": "stdout",
     "output_type": "stream",
     "text": [
      "600985.SH updated from 20210114 to 20210115\n",
      "Time cost : 4.192989349365234s\n"
     ]
    },
    {
     "name": "stderr",
     "output_type": "stream",
     "text": [
      "\n",
      " 51%|█████     | 1084/2129 [1:21:49<56:00,  3.22s/it]"
     ]
    },
    {
     "name": "stdout",
     "output_type": "stream",
     "text": [
      "002581.SZ updated from 20210114 to 20210115\n",
      "Time cost : 5.022723913192749s\n"
     ]
    },
    {
     "name": "stderr",
     "output_type": "stream",
     "text": [
      "\n",
      " 51%|█████     | 1085/2129 [1:21:54<1:05:23,  3.76s/it]"
     ]
    },
    {
     "name": "stdout",
     "output_type": "stream",
     "text": [
      "300581.SZ updated from 20210114 to 20210115\n",
      "Time cost : 4.18470311164856s\n"
     ]
    },
    {
     "name": "stderr",
     "output_type": "stream",
     "text": [
      "\n",
      " 51%|█████     | 1086/2129 [1:21:58<1:07:33,  3.89s/it]"
     ]
    },
    {
     "name": "stdout",
     "output_type": "stream",
     "text": [
      "603733.SH updated from 20210114 to 20210115\n",
      "Time cost : 2.7875711917877197s\n"
     ]
    },
    {
     "name": "stderr",
     "output_type": "stream",
     "text": [
      "\n",
      " 51%|█████     | 1087/2129 [1:22:01<1:01:46,  3.56s/it]"
     ]
    },
    {
     "name": "stdout",
     "output_type": "stream",
     "text": [
      "300616.SZ updated from 20210114 to 20210115\n",
      "Time cost : 5.635315418243408s\n"
     ]
    },
    {
     "name": "stderr",
     "output_type": "stream",
     "text": [
      "\n",
      " 51%|█████     | 1088/2129 [1:22:06<1:12:33,  4.18s/it]"
     ]
    },
    {
     "name": "stdout",
     "output_type": "stream",
     "text": [
      "300525.SZ updated from 20210114 to 20210115\n",
      "Time cost : 2.248975992202759s\n"
     ]
    },
    {
     "name": "stderr",
     "output_type": "stream",
     "text": [
      "\n",
      " 51%|█████     | 1089/2129 [1:22:08<1:02:26,  3.60s/it]"
     ]
    },
    {
     "name": "stdout",
     "output_type": "stream",
     "text": [
      "000088.SZ updated from 20210114 to 20210115\n",
      "Time cost : 1.266026496887207s\n"
     ]
    },
    {
     "name": "stderr",
     "output_type": "stream",
     "text": [
      "\n",
      " 51%|█████     | 1090/2129 [1:22:10<50:15,  2.90s/it]  "
     ]
    },
    {
     "name": "stdout",
     "output_type": "stream",
     "text": [
      "300630.SZ updated from 20210114 to 20210115\n",
      "Time cost : 6.570235252380371s\n"
     ]
    },
    {
     "name": "stderr",
     "output_type": "stream",
     "text": [
      "\n",
      " 51%|█████     | 1091/2129 [1:22:16<1:09:15,  4.00s/it]"
     ]
    },
    {
     "name": "stdout",
     "output_type": "stream",
     "text": [
      "300548.SZ updated from 20210114 to 20210115\n",
      "Time cost : 2.7476837635040283s\n"
     ]
    },
    {
     "name": "stderr",
     "output_type": "stream",
     "text": [
      "\n",
      " 51%|█████▏    | 1092/2129 [1:22:19<1:02:41,  3.63s/it]"
     ]
    },
    {
     "name": "stdout",
     "output_type": "stream",
     "text": [
      "601718.SH updated from 20210114 to 20210115\n",
      "Time cost : 1.9060556888580322s\n"
     ]
    },
    {
     "name": "stderr",
     "output_type": "stream",
     "text": [
      "\n",
      " 51%|█████▏    | 1093/2129 [1:22:21<53:43,  3.11s/it]  "
     ]
    },
    {
     "name": "stdout",
     "output_type": "stream",
     "text": [
      "600266.SH updated from 20210114 to 20210115\n",
      "Time cost : 4.28019118309021s\n"
     ]
    },
    {
     "name": "stderr",
     "output_type": "stream",
     "text": [
      "\n",
      " 51%|█████▏    | 1094/2129 [1:22:25<59:43,  3.46s/it]"
     ]
    },
    {
     "name": "stdout",
     "output_type": "stream",
     "text": [
      "603267.SH updated from 20210114 to 20210115\n",
      "Time cost : 4.9499351978302s\n"
     ]
    },
    {
     "name": "stderr",
     "output_type": "stream",
     "text": [
      "\n",
      " 51%|█████▏    | 1095/2129 [1:22:30<1:07:22,  3.91s/it]"
     ]
    },
    {
     "name": "stdout",
     "output_type": "stream",
     "text": [
      "603008.SH updated from 20210114 to 20210115\n",
      "Time cost : 1.223822832107544s\n"
     ]
    },
    {
     "name": "stderr",
     "output_type": "stream",
     "text": [
      "\n",
      " 51%|█████▏    | 1096/2129 [1:22:31<53:26,  3.10s/it]  "
     ]
    },
    {
     "name": "stdout",
     "output_type": "stream",
     "text": [
      "000732.SZ updated from 20210114 to 20210115\n",
      "Time cost : 1.3040313720703125s\n"
     ]
    },
    {
     "name": "stderr",
     "output_type": "stream",
     "text": [
      "\n",
      " 52%|█████▏    | 1097/2129 [1:22:33<44:06,  2.56s/it]"
     ]
    },
    {
     "name": "stdout",
     "output_type": "stream",
     "text": [
      "300439.SZ updated from 20210114 to 20210115\n",
      "Time cost : 4.277825832366943s\n"
     ]
    },
    {
     "name": "stderr",
     "output_type": "stream",
     "text": [
      "\n",
      " 52%|█████▏    | 1098/2129 [1:22:37<52:54,  3.08s/it]"
     ]
    },
    {
     "name": "stdout",
     "output_type": "stream",
     "text": [
      "600022.SH updated from 20210114 to 20210115\n",
      "Time cost : 5.42006778717041s\n"
     ]
    },
    {
     "name": "stderr",
     "output_type": "stream",
     "text": [
      "\n",
      " 52%|█████▏    | 1099/2129 [1:22:42<1:04:55,  3.78s/it]"
     ]
    },
    {
     "name": "stdout",
     "output_type": "stream",
     "text": [
      "002340.SZ updated from 20210114 to 20210115\n",
      "Time cost : 4.859074354171753s\n"
     ]
    },
    {
     "name": "stderr",
     "output_type": "stream",
     "text": [
      "\n",
      " 52%|█████▏    | 1100/2129 [1:22:47<1:10:24,  4.11s/it]"
     ]
    },
    {
     "name": "stdout",
     "output_type": "stream",
     "text": [
      "688330.SH updated from 20210114 to 20210115\n",
      "Time cost : 4.854993104934692s\n"
     ]
    },
    {
     "name": "stderr",
     "output_type": "stream",
     "text": [
      "\n",
      " 52%|█████▏    | 1101/2129 [1:22:52<1:14:12,  4.33s/it]"
     ]
    },
    {
     "name": "stdout",
     "output_type": "stream",
     "text": [
      "002014.SZ updated from 20210114 to 20210115\n",
      "Time cost : 2.312213659286499s\n"
     ]
    },
    {
     "name": "stderr",
     "output_type": "stream",
     "text": [
      "\n",
      " 52%|█████▏    | 1102/2129 [1:22:54<1:03:46,  3.73s/it]"
     ]
    },
    {
     "name": "stdout",
     "output_type": "stream",
     "text": [
      "002761.SZ updated from 20210114 to 20210115\n",
      "Time cost : 4.880752086639404s\n"
     ]
    },
    {
     "name": "stderr",
     "output_type": "stream",
     "text": [
      "\n",
      " 52%|█████▏    | 1103/2129 [1:22:59<1:09:39,  4.07s/it]"
     ]
    },
    {
     "name": "stdout",
     "output_type": "stream",
     "text": [
      "600072.SH updated from 20210114 to 20210115\n",
      "Time cost : 5.664665699005127s\n"
     ]
    },
    {
     "name": "stderr",
     "output_type": "stream",
     "text": [
      "\n",
      " 52%|█████▏    | 1104/2129 [1:23:05<1:17:45,  4.55s/it]"
     ]
    },
    {
     "name": "stdout",
     "output_type": "stream",
     "text": [
      "600745.SH updated from 20210114 to 20210115\n",
      "Time cost : 3.691837787628174s\n"
     ]
    },
    {
     "name": "stderr",
     "output_type": "stream",
     "text": [
      "\n",
      " 52%|█████▏    | 1105/2129 [1:23:09<1:13:17,  4.29s/it]"
     ]
    },
    {
     "name": "stdout",
     "output_type": "stream",
     "text": [
      "002399.SZ updated from 20210114 to 20210115\n",
      "Time cost : 3.178812265396118s\n"
     ]
    },
    {
     "name": "stderr",
     "output_type": "stream",
     "text": [
      "\n",
      " 52%|█████▏    | 1106/2129 [1:23:12<1:07:31,  3.96s/it]"
     ]
    },
    {
     "name": "stdout",
     "output_type": "stream",
     "text": [
      "000999.SZ updated from 20210114 to 20210115\n",
      "Time cost : 2.5307388305664062s\n"
     ]
    },
    {
     "name": "stderr",
     "output_type": "stream",
     "text": [
      "\n",
      " 52%|█████▏    | 1107/2129 [1:23:14<1:00:09,  3.53s/it]"
     ]
    },
    {
     "name": "stdout",
     "output_type": "stream",
     "text": [
      "000531.SZ updated from 20210114 to 20210115\n",
      "Time cost : 3.017896890640259s\n"
     ]
    },
    {
     "name": "stderr",
     "output_type": "stream",
     "text": [
      "\n",
      " 52%|█████▏    | 1108/2129 [1:23:17<57:29,  3.38s/it]  "
     ]
    },
    {
     "name": "stdout",
     "output_type": "stream",
     "text": [
      "600261.SH updated from 20210114 to 20210115\n",
      "Time cost : 1.800079107284546s\n"
     ]
    },
    {
     "name": "stderr",
     "output_type": "stream",
     "text": [
      "\n",
      " 52%|█████▏    | 1109/2129 [1:23:19<49:23,  2.91s/it]"
     ]
    },
    {
     "name": "stdout",
     "output_type": "stream",
     "text": [
      "000629.SZ updated from 20210114 to 20210115\n",
      "Time cost : 5.758497714996338s\n"
     ]
    },
    {
     "name": "stderr",
     "output_type": "stream",
     "text": [
      "\n",
      " 52%|█████▏    | 1110/2129 [1:23:25<1:03:53,  3.76s/it]"
     ]
    },
    {
     "name": "stdout",
     "output_type": "stream",
     "text": [
      "603377.SH updated from 20210114 to 20210115\n",
      "Time cost : 2.79415225982666s\n"
     ]
    },
    {
     "name": "stderr",
     "output_type": "stream",
     "text": [
      "\n",
      " 52%|█████▏    | 1111/2129 [1:23:28<58:54,  3.47s/it]  "
     ]
    },
    {
     "name": "stdout",
     "output_type": "stream",
     "text": [
      "300263.SZ updated from 20210114 to 20210115\n",
      "Time cost : 2.342085361480713s\n"
     ]
    },
    {
     "name": "stderr",
     "output_type": "stream",
     "text": [
      "\n",
      " 52%|█████▏    | 1112/2129 [1:23:30<53:07,  3.13s/it]"
     ]
    },
    {
     "name": "stdout",
     "output_type": "stream",
     "text": [
      "603421.SH updated from 20210114 to 20210115\n",
      "Time cost : 1.9378716945648193s\n"
     ]
    },
    {
     "name": "stderr",
     "output_type": "stream",
     "text": [
      "\n",
      " 52%|█████▏    | 1113/2129 [1:23:32<47:00,  2.78s/it]"
     ]
    },
    {
     "name": "stdout",
     "output_type": "stream",
     "text": [
      "603258.SH updated from 20210114 to 20210115\n",
      "Time cost : 2.7061562538146973s\n"
     ]
    },
    {
     "name": "stderr",
     "output_type": "stream",
     "text": [
      "\n",
      " 52%|█████▏    | 1114/2129 [1:23:35<46:37,  2.76s/it]"
     ]
    },
    {
     "name": "stdout",
     "output_type": "stream",
     "text": [
      "300146.SZ updated from 20210114 to 20210115\n",
      "Time cost : 1.2802047729492188s\n"
     ]
    },
    {
     "name": "stderr",
     "output_type": "stream",
     "text": [
      "\n",
      " 52%|█████▏    | 1115/2129 [1:23:36<39:06,  2.31s/it]"
     ]
    },
    {
     "name": "stdout",
     "output_type": "stream",
     "text": [
      "601991.SH updated from 20210114 to 20210115\n",
      "Time cost : 2.1934804916381836s\n"
     ]
    },
    {
     "name": "stderr",
     "output_type": "stream",
     "text": [
      "\n",
      " 52%|█████▏    | 1116/2129 [1:23:38<38:27,  2.28s/it]"
     ]
    },
    {
     "name": "stdout",
     "output_type": "stream",
     "text": [
      "300386.SZ updated from 20210114 to 20210115\n",
      "Time cost : 2.9169564247131348s\n"
     ]
    },
    {
     "name": "stderr",
     "output_type": "stream",
     "text": [
      "\n",
      " 52%|█████▏    | 1117/2129 [1:23:41<41:40,  2.47s/it]"
     ]
    },
    {
     "name": "stdout",
     "output_type": "stream",
     "text": [
      "600233.SH updated from 20210114 to 20210115\n",
      "Time cost : 3.7383768558502197s\n"
     ]
    },
    {
     "name": "stderr",
     "output_type": "stream",
     "text": [
      "\n",
      " 53%|█████▎    | 1118/2129 [1:23:45<48:02,  2.85s/it]"
     ]
    },
    {
     "name": "stdout",
     "output_type": "stream",
     "text": [
      "600667.SH updated from 20210114 to 20210115\n",
      "Time cost : 3.065620183944702s\n"
     ]
    },
    {
     "name": "stderr",
     "output_type": "stream",
     "text": [
      "\n",
      " 53%|█████▎    | 1119/2129 [1:23:48<49:05,  2.92s/it]"
     ]
    },
    {
     "name": "stdout",
     "output_type": "stream",
     "text": [
      "002218.SZ updated from 20210114 to 20210115\n",
      "Time cost : 9.606790781021118s\n"
     ]
    },
    {
     "name": "stderr",
     "output_type": "stream",
     "text": [
      "\n",
      " 53%|█████▎    | 1120/2129 [1:23:58<1:22:48,  4.92s/it]"
     ]
    },
    {
     "name": "stdout",
     "output_type": "stream",
     "text": [
      "600060.SH updated from 20210114 to 20210115\n",
      "Time cost : 5.217259645462036s\n"
     ]
    },
    {
     "name": "stderr",
     "output_type": "stream",
     "text": [
      "\n",
      " 53%|█████▎    | 1121/2129 [1:24:03<1:24:12,  5.01s/it]"
     ]
    },
    {
     "name": "stdout",
     "output_type": "stream",
     "text": [
      "603156.SH updated from 20210114 to 20210115\n",
      "Time cost : 8.831103801727295s\n"
     ]
    },
    {
     "name": "stderr",
     "output_type": "stream",
     "text": [
      "\n",
      " 53%|█████▎    | 1122/2129 [1:24:12<1:43:22,  6.16s/it]"
     ]
    },
    {
     "name": "stdout",
     "output_type": "stream",
     "text": [
      "600577.SH updated from 20210114 to 20210115\n",
      "Time cost : 3.7681944370269775s\n"
     ]
    },
    {
     "name": "stderr",
     "output_type": "stream",
     "text": [
      "\n",
      " 53%|█████▎    | 1123/2129 [1:24:15<1:31:14,  5.44s/it]"
     ]
    },
    {
     "name": "stdout",
     "output_type": "stream",
     "text": [
      "601003.SH updated from 20210114 to 20210115\n",
      "Time cost : 3.033461570739746s\n"
     ]
    },
    {
     "name": "stderr",
     "output_type": "stream",
     "text": [
      "\n",
      " 53%|█████▎    | 1124/2129 [1:24:18<1:19:04,  4.72s/it]"
     ]
    },
    {
     "name": "stdout",
     "output_type": "stream",
     "text": [
      "300832.SZ updated from 20210114 to 20210115\n",
      "Time cost : 2.3347527980804443s\n"
     ]
    },
    {
     "name": "stderr",
     "output_type": "stream",
     "text": [
      "\n",
      " 53%|█████▎    | 1125/2129 [1:24:21<1:07:01,  4.01s/it]"
     ]
    },
    {
     "name": "stdout",
     "output_type": "stream",
     "text": [
      "600400.SH updated from 20210114 to 20210115\n",
      "Time cost : 3.0025224685668945s\n"
     ]
    },
    {
     "name": "stderr",
     "output_type": "stream",
     "text": [
      "\n",
      " 53%|█████▎    | 1126/2129 [1:24:24<1:01:55,  3.70s/it]"
     ]
    },
    {
     "name": "stdout",
     "output_type": "stream",
     "text": [
      "000627.SZ updated from 20210114 to 20210115\n",
      "Time cost : 4.616847038269043s\n"
     ]
    },
    {
     "name": "stderr",
     "output_type": "stream",
     "text": [
      "\n",
      " 53%|█████▎    | 1127/2129 [1:24:28<1:06:27,  3.98s/it]"
     ]
    },
    {
     "name": "stdout",
     "output_type": "stream",
     "text": [
      "600111.SH updated from 20210114 to 20210115\n",
      "Time cost : 4.862631559371948s\n"
     ]
    },
    {
     "name": "stderr",
     "output_type": "stream",
     "text": [
      "\n",
      " 53%|█████▎    | 1128/2129 [1:24:33<1:10:49,  4.24s/it]"
     ]
    },
    {
     "name": "stdout",
     "output_type": "stream",
     "text": [
      "300919.SZ updated from 20210114 to 20210115\n",
      "Time cost : 16.92066788673401s\n"
     ]
    },
    {
     "name": "stderr",
     "output_type": "stream",
     "text": [
      "\n",
      " 53%|█████▎    | 1129/2129 [1:24:50<2:14:08,  8.05s/it]"
     ]
    },
    {
     "name": "stdout",
     "output_type": "stream",
     "text": [
      "600231.SH updated from 20210114 to 20210115\n",
      "Time cost : 3.745481252670288s\n"
     ]
    },
    {
     "name": "stderr",
     "output_type": "stream",
     "text": [
      "\n",
      " 53%|█████▎    | 1130/2129 [1:24:54<1:52:31,  6.76s/it]"
     ]
    },
    {
     "name": "stdout",
     "output_type": "stream",
     "text": [
      "603439.SH updated from 20210114 to 20210115\n",
      "Time cost : 2.777735471725464s\n"
     ]
    },
    {
     "name": "stderr",
     "output_type": "stream",
     "text": [
      "\n",
      " 53%|█████▎    | 1131/2129 [1:24:57<1:32:33,  5.56s/it]"
     ]
    },
    {
     "name": "stdout",
     "output_type": "stream",
     "text": [
      "300328.SZ updated from 20210114 to 20210115\n",
      "Time cost : 3.553771734237671s\n"
     ]
    },
    {
     "name": "stderr",
     "output_type": "stream",
     "text": [
      "\n",
      " 53%|█████▎    | 1132/2129 [1:25:00<1:22:26,  4.96s/it]"
     ]
    },
    {
     "name": "stdout",
     "output_type": "stream",
     "text": [
      "002155.SZ updated from 20210114 to 20210115\n",
      "Time cost : 5.111650228500366s\n"
     ]
    },
    {
     "name": "stderr",
     "output_type": "stream",
     "text": [
      "\n",
      " 53%|█████▎    | 1133/2129 [1:25:05<1:23:07,  5.01s/it]"
     ]
    },
    {
     "name": "stdout",
     "output_type": "stream",
     "text": [
      "600800.SH updated from 20210114 to 20210115\n",
      "Time cost : 1.2999119758605957s\n"
     ]
    },
    {
     "name": "stderr",
     "output_type": "stream",
     "text": [
      "\n",
      " 53%|█████▎    | 1134/2129 [1:25:07<1:04:36,  3.90s/it]"
     ]
    },
    {
     "name": "stdout",
     "output_type": "stream",
     "text": [
      "002735.SZ updated from 20210114 to 20210115\n",
      "Time cost : 2.2645535469055176s\n"
     ]
    },
    {
     "name": "stderr",
     "output_type": "stream",
     "text": [
      "\n",
      " 53%|█████▎    | 1135/2129 [1:25:09<56:26,  3.41s/it]  "
     ]
    },
    {
     "name": "stdout",
     "output_type": "stream",
     "text": [
      "000851.SZ updated from 20210114 to 20210115\n",
      "Time cost : 4.248671531677246s\n"
     ]
    },
    {
     "name": "stderr",
     "output_type": "stream",
     "text": [
      "\n",
      " 53%|█████▎    | 1136/2129 [1:25:13<1:00:34,  3.66s/it]"
     ]
    },
    {
     "name": "stdout",
     "output_type": "stream",
     "text": [
      "300664.SZ updated from 20210114 to 20210115\n",
      "Time cost : 2.6126813888549805s\n"
     ]
    },
    {
     "name": "stderr",
     "output_type": "stream",
     "text": [
      "\n",
      " 53%|█████▎    | 1137/2129 [1:25:16<55:19,  3.35s/it]  "
     ]
    },
    {
     "name": "stdout",
     "output_type": "stream",
     "text": [
      "003006.SZ updated from 20210114 to 20210115\n",
      "Time cost : 4.703437328338623s\n"
     ]
    },
    {
     "name": "stderr",
     "output_type": "stream",
     "text": [
      "\n",
      " 53%|█████▎    | 1138/2129 [1:25:21<1:02:00,  3.75s/it]"
     ]
    },
    {
     "name": "stdout",
     "output_type": "stream",
     "text": [
      "000831.SZ updated from 20210114 to 20210115\n",
      "Time cost : 1.250756025314331s\n"
     ]
    },
    {
     "name": "stderr",
     "output_type": "stream",
     "text": [
      "\n",
      " 53%|█████▎    | 1139/2129 [1:25:22<49:33,  3.00s/it]  "
     ]
    },
    {
     "name": "stdout",
     "output_type": "stream",
     "text": [
      "000848.SZ updated from 20210114 to 20210115\n",
      "Time cost : 5.680942535400391s\n"
     ]
    },
    {
     "name": "stderr",
     "output_type": "stream",
     "text": [
      "\n",
      " 54%|█████▎    | 1140/2129 [1:25:27<1:02:46,  3.81s/it]"
     ]
    },
    {
     "name": "stdout",
     "output_type": "stream",
     "text": [
      "601568.SH updated from 20210114 to 20210115\n",
      "Time cost : 1.7188892364501953s\n"
     ]
    },
    {
     "name": "stderr",
     "output_type": "stream",
     "text": [
      "\n",
      " 54%|█████▎    | 1141/2129 [1:25:29<52:23,  3.18s/it]  "
     ]
    },
    {
     "name": "stdout",
     "output_type": "stream",
     "text": [
      "600623.SH updated from 20210114 to 20210115\n",
      "Time cost : 8.12257170677185s\n"
     ]
    },
    {
     "name": "stderr",
     "output_type": "stream",
     "text": [
      "\n",
      " 54%|█████▎    | 1142/2129 [1:25:37<1:16:44,  4.66s/it]"
     ]
    },
    {
     "name": "stdout",
     "output_type": "stream",
     "text": [
      "600681.SH updated from 20210114 to 20210115\n",
      "Time cost : 1.8402087688446045s\n"
     ]
    },
    {
     "name": "stderr",
     "output_type": "stream",
     "text": [
      "\n",
      " 54%|█████▎    | 1143/2129 [1:25:39<1:02:44,  3.82s/it]"
     ]
    },
    {
     "name": "stdout",
     "output_type": "stream",
     "text": [
      "688015.SH updated from 20210114 to 20210115\n",
      "Time cost : 1.9467105865478516s\n"
     ]
    },
    {
     "name": "stderr",
     "output_type": "stream",
     "text": [
      "\n",
      " 54%|█████▎    | 1144/2129 [1:25:41<53:28,  3.26s/it]  "
     ]
    },
    {
     "name": "stdout",
     "output_type": "stream",
     "text": [
      "002174.SZ updated from 20210114 to 20210115\n",
      "Time cost : 5.077326059341431s\n"
     ]
    },
    {
     "name": "stderr",
     "output_type": "stream",
     "text": [
      "\n",
      " 54%|█████▍    | 1145/2129 [1:25:46<1:02:22,  3.80s/it]"
     ]
    },
    {
     "name": "stdout",
     "output_type": "stream",
     "text": [
      "000697.SZ updated from 20210114 to 20210115\n",
      "Time cost : 7.182428359985352s\n"
     ]
    },
    {
     "name": "stderr",
     "output_type": "stream",
     "text": [
      "\n",
      " 54%|█████▍    | 1146/2129 [1:25:53<1:18:56,  4.82s/it]"
     ]
    },
    {
     "name": "stdout",
     "output_type": "stream",
     "text": [
      "603636.SH updated from 20210114 to 20210115\n",
      "Time cost : 2.649209499359131s\n"
     ]
    },
    {
     "name": "stderr",
     "output_type": "stream",
     "text": [
      "\n",
      " 54%|█████▍    | 1147/2129 [1:25:56<1:08:12,  4.17s/it]"
     ]
    },
    {
     "name": "stdout",
     "output_type": "stream",
     "text": [
      "600021.SH updated from 20210114 to 20210115\n",
      "Time cost : 2.962374448776245s\n"
     ]
    },
    {
     "name": "stderr",
     "output_type": "stream",
     "text": [
      "\n",
      " 54%|█████▍    | 1148/2129 [1:25:59<1:02:14,  3.81s/it]"
     ]
    },
    {
     "name": "stdout",
     "output_type": "stream",
     "text": [
      "000037.SZ updated from 20210114 to 20210115\n",
      "Time cost : 8.353539228439331s\n"
     ]
    },
    {
     "name": "stderr",
     "output_type": "stream",
     "text": [
      "\n",
      " 54%|█████▍    | 1149/2129 [1:26:07<1:24:28,  5.17s/it]"
     ]
    },
    {
     "name": "stdout",
     "output_type": "stream",
     "text": [
      "300170.SZ updated from 20210114 to 20210115\n",
      "Time cost : 2.7937328815460205s\n"
     ]
    },
    {
     "name": "stderr",
     "output_type": "stream",
     "text": [
      "\n",
      " 54%|█████▍    | 1150/2129 [1:26:10<1:12:45,  4.46s/it]"
     ]
    },
    {
     "name": "stdout",
     "output_type": "stream",
     "text": [
      "300761.SZ updated from 20210114 to 20210115\n",
      "Time cost : 3.138817548751831s\n"
     ]
    },
    {
     "name": "stderr",
     "output_type": "stream",
     "text": [
      "\n",
      " 54%|█████▍    | 1151/2129 [1:26:13<1:06:13,  4.06s/it]"
     ]
    },
    {
     "name": "stdout",
     "output_type": "stream",
     "text": [
      "601609.SH updated from 20210114 to 20210115\n",
      "Time cost : 3.282733678817749s\n"
     ]
    },
    {
     "name": "stderr",
     "output_type": "stream",
     "text": [
      "\n",
      " 54%|█████▍    | 1152/2129 [1:26:17<1:02:21,  3.83s/it]"
     ]
    },
    {
     "name": "stdout",
     "output_type": "stream",
     "text": [
      "300589.SZ updated from 20210114 to 20210115\n",
      "Time cost : 1.7095668315887451s\n"
     ]
    },
    {
     "name": "stderr",
     "output_type": "stream",
     "text": [
      "\n",
      " 54%|█████▍    | 1153/2129 [1:26:18<51:57,  3.19s/it]  "
     ]
    },
    {
     "name": "stdout",
     "output_type": "stream",
     "text": [
      "600550.SH updated from 20210114 to 20210115\n",
      "Time cost : 2.236842632293701s\n"
     ]
    },
    {
     "name": "stderr",
     "output_type": "stream",
     "text": [
      "\n",
      " 54%|█████▍    | 1154/2129 [1:26:21<47:15,  2.91s/it]"
     ]
    },
    {
     "name": "stdout",
     "output_type": "stream",
     "text": [
      "600166.SH updated from 20210114 to 20210115\n",
      "Time cost : 4.459482192993164s\n"
     ]
    },
    {
     "name": "stderr",
     "output_type": "stream",
     "text": [
      "\n",
      " 54%|█████▍    | 1155/2129 [1:26:25<54:46,  3.37s/it]"
     ]
    },
    {
     "name": "stdout",
     "output_type": "stream",
     "text": [
      "601838.SH updated from 20210114 to 20210115\n",
      "Time cost : 3.7563397884368896s\n"
     ]
    },
    {
     "name": "stderr",
     "output_type": "stream",
     "text": [
      "\n",
      " 54%|█████▍    | 1156/2129 [1:26:29<56:35,  3.49s/it]"
     ]
    },
    {
     "name": "stdout",
     "output_type": "stream",
     "text": [
      "002456.SZ updated from 20210114 to 20210115\n",
      "Time cost : 1.8341724872589111s\n"
     ]
    },
    {
     "name": "stderr",
     "output_type": "stream",
     "text": [
      "\n",
      " 54%|█████▍    | 1157/2129 [1:26:31<48:29,  2.99s/it]"
     ]
    },
    {
     "name": "stdout",
     "output_type": "stream",
     "text": [
      "300347.SZ updated from 20210114 to 20210115\n",
      "Time cost : 3.1794164180755615s\n"
     ]
    },
    {
     "name": "stderr",
     "output_type": "stream",
     "text": [
      "\n",
      " 54%|█████▍    | 1158/2129 [1:26:34<49:21,  3.05s/it]"
     ]
    },
    {
     "name": "stdout",
     "output_type": "stream",
     "text": [
      "600370.SH updated from 20210114 to 20210115\n",
      "Time cost : 1.919290542602539s\n"
     ]
    },
    {
     "name": "stderr",
     "output_type": "stream",
     "text": [
      "\n",
      " 54%|█████▍    | 1159/2129 [1:26:36<43:50,  2.71s/it]"
     ]
    },
    {
     "name": "stdout",
     "output_type": "stream",
     "text": [
      "600783.SH updated from 20210114 to 20210115\n",
      "Time cost : 2.4996936321258545s\n"
     ]
    },
    {
     "name": "stderr",
     "output_type": "stream",
     "text": [
      "\n",
      " 54%|█████▍    | 1160/2129 [1:26:38<42:46,  2.65s/it]"
     ]
    },
    {
     "name": "stdout",
     "output_type": "stream",
     "text": [
      "600079.SH updated from 20210114 to 20210115\n",
      "Time cost : 3.7411904335021973s\n"
     ]
    },
    {
     "name": "stderr",
     "output_type": "stream",
     "text": [
      "\n",
      " 55%|█████▍    | 1161/2129 [1:26:42<48:01,  2.98s/it]"
     ]
    },
    {
     "name": "stdout",
     "output_type": "stream",
     "text": [
      "002302.SZ updated from 20210114 to 20210115\n",
      "Time cost : 1.8164522647857666s\n"
     ]
    },
    {
     "name": "stderr",
     "output_type": "stream",
     "text": [
      "\n",
      " 55%|█████▍    | 1162/2129 [1:26:44<42:22,  2.63s/it]"
     ]
    },
    {
     "name": "stdout",
     "output_type": "stream",
     "text": [
      "002958.SZ updated from 20210114 to 20210115\n",
      "Time cost : 2.8118481636047363s\n"
     ]
    },
    {
     "name": "stderr",
     "output_type": "stream",
     "text": [
      "\n",
      " 55%|█████▍    | 1163/2129 [1:26:47<43:13,  2.68s/it]"
     ]
    },
    {
     "name": "stdout",
     "output_type": "stream",
     "text": [
      "600657.SH updated from 20210114 to 20210115\n",
      "Time cost : 5.0938801765441895s\n"
     ]
    },
    {
     "name": "stderr",
     "output_type": "stream",
     "text": [
      "\n",
      " 55%|█████▍    | 1164/2129 [1:26:52<54:48,  3.41s/it]"
     ]
    },
    {
     "name": "stdout",
     "output_type": "stream",
     "text": [
      "002867.SZ updated from 20210114 to 20210115\n",
      "Time cost : 5.3738367557525635s\n"
     ]
    },
    {
     "name": "stderr",
     "output_type": "stream",
     "text": [
      "\n",
      " 55%|█████▍    | 1165/2129 [1:26:57<1:04:14,  4.00s/it]"
     ]
    },
    {
     "name": "stdout",
     "output_type": "stream",
     "text": [
      "300369.SZ updated from 20210114 to 20210115\n",
      "Time cost : 1.831608533859253s\n"
     ]
    },
    {
     "name": "stderr",
     "output_type": "stream",
     "text": [
      "\n",
      " 55%|█████▍    | 1166/2129 [1:26:59<53:45,  3.35s/it]  "
     ]
    },
    {
     "name": "stdout",
     "output_type": "stream",
     "text": [
      "300595.SZ updated from 20210114 to 20210115\n",
      "Time cost : 7.162035703659058s\n"
     ]
    },
    {
     "name": "stderr",
     "output_type": "stream",
     "text": [
      "\n",
      " 55%|█████▍    | 1167/2129 [1:27:06<1:12:02,  4.49s/it]"
     ]
    },
    {
     "name": "stdout",
     "output_type": "stream",
     "text": [
      "600428.SH updated from 20210114 to 20210115\n",
      "Time cost : 8.421513319015503s\n"
     ]
    },
    {
     "name": "stderr",
     "output_type": "stream",
     "text": [
      "\n",
      " 55%|█████▍    | 1168/2129 [1:27:14<1:30:51,  5.67s/it]"
     ]
    },
    {
     "name": "stdout",
     "output_type": "stream",
     "text": [
      "600531.SH updated from 20210114 to 20210115\n",
      "Time cost : 1.7800943851470947s\n"
     ]
    },
    {
     "name": "stderr",
     "output_type": "stream",
     "text": [
      "\n",
      " 55%|█████▍    | 1169/2129 [1:27:16<1:12:05,  4.51s/it]"
     ]
    },
    {
     "name": "stdout",
     "output_type": "stream",
     "text": [
      "002677.SZ updated from 20210114 to 20210115\n",
      "Time cost : 10.227545499801636s\n"
     ]
    },
    {
     "name": "stderr",
     "output_type": "stream",
     "text": [
      "\n",
      " 55%|█████▍    | 1170/2129 [1:27:26<1:39:27,  6.22s/it]"
     ]
    },
    {
     "name": "stdout",
     "output_type": "stream",
     "text": [
      "300777.SZ updated from 20210114 to 20210115\n",
      "Time cost : 1.3681411743164062s\n"
     ]
    },
    {
     "name": "stderr",
     "output_type": "stream",
     "text": [
      "\n",
      " 55%|█████▌    | 1171/2129 [1:27:28<1:16:06,  4.77s/it]"
     ]
    },
    {
     "name": "stdout",
     "output_type": "stream",
     "text": [
      "603056.SH updated from 20210114 to 20210115\n",
      "Time cost : 1.8961703777313232s\n"
     ]
    },
    {
     "name": "stderr",
     "output_type": "stream",
     "text": [
      "\n",
      " 55%|█████▌    | 1172/2129 [1:27:30<1:02:18,  3.91s/it]"
     ]
    },
    {
     "name": "stdout",
     "output_type": "stream",
     "text": [
      "300860.SZ updated from 20210114 to 20210115\n",
      "Time cost : 2.293910264968872s\n"
     ]
    },
    {
     "name": "stderr",
     "output_type": "stream",
     "text": [
      "\n",
      " 55%|█████▌    | 1173/2129 [1:27:32<54:32,  3.42s/it]  "
     ]
    },
    {
     "name": "stdout",
     "output_type": "stream",
     "text": [
      "600312.SH updated from 20210114 to 20210115\n",
      "Time cost : 3.0193440914154053s\n"
     ]
    },
    {
     "name": "stderr",
     "output_type": "stream",
     "text": [
      "\n",
      " 55%|█████▌    | 1174/2129 [1:27:35<52:33,  3.30s/it]"
     ]
    },
    {
     "name": "stdout",
     "output_type": "stream",
     "text": [
      "002368.SZ updated from 20210114 to 20210115\n",
      "Time cost : 26.476938247680664s\n"
     ]
    },
    {
     "name": "stderr",
     "output_type": "stream",
     "text": [
      "\n",
      " 55%|█████▌    | 1175/2129 [1:28:02<2:43:03, 10.26s/it]"
     ]
    },
    {
     "name": "stdout",
     "output_type": "stream",
     "text": [
      "603517.SH updated from 20210114 to 20210115\n",
      "Time cost : 2.8984482288360596s\n"
     ]
    },
    {
     "name": "stderr",
     "output_type": "stream",
     "text": [
      "\n",
      " 55%|█████▌    | 1176/2129 [1:28:04<2:07:50,  8.05s/it]"
     ]
    },
    {
     "name": "stdout",
     "output_type": "stream",
     "text": [
      "600756.SH updated from 20210114 to 20210115\n",
      "Time cost : 2.8530378341674805s\n"
     ]
    },
    {
     "name": "stderr",
     "output_type": "stream",
     "text": [
      "\n",
      " 55%|█████▌    | 1177/2129 [1:28:07<1:42:59,  6.49s/it]"
     ]
    },
    {
     "name": "stdout",
     "output_type": "stream",
     "text": [
      "300327.SZ updated from 20210114 to 20210115\n",
      "Time cost : 2.7927000522613525s\n"
     ]
    },
    {
     "name": "stderr",
     "output_type": "stream",
     "text": [
      "\n",
      " 55%|█████▌    | 1178/2129 [1:28:10<1:25:18,  5.38s/it]"
     ]
    },
    {
     "name": "stdout",
     "output_type": "stream",
     "text": [
      "603313.SH updated from 20210114 to 20210115\n",
      "Time cost : 9.270647287368774s\n"
     ]
    },
    {
     "name": "stderr",
     "output_type": "stream",
     "text": [
      "\n",
      " 55%|█████▌    | 1179/2129 [1:28:19<1:43:41,  6.55s/it]"
     ]
    },
    {
     "name": "stdout",
     "output_type": "stream",
     "text": [
      "002176.SZ updated from 20210114 to 20210115\n",
      "Time cost : 1.9612908363342285s\n"
     ]
    },
    {
     "name": "stderr",
     "output_type": "stream",
     "text": [
      "\n",
      " 55%|█████▌    | 1180/2129 [1:28:21<1:21:49,  5.17s/it]"
     ]
    },
    {
     "name": "stdout",
     "output_type": "stream",
     "text": [
      "300829.SZ updated from 20210114 to 20210115\n",
      "Time cost : 5.8246119022369385s\n"
     ]
    },
    {
     "name": "stderr",
     "output_type": "stream",
     "text": [
      "\n",
      " 55%|█████▌    | 1181/2129 [1:28:27<1:24:50,  5.37s/it]"
     ]
    },
    {
     "name": "stdout",
     "output_type": "stream",
     "text": [
      "603113.SH updated from 20210114 to 20210115\n",
      "Time cost : 3.588949203491211s\n"
     ]
    },
    {
     "name": "stderr",
     "output_type": "stream",
     "text": [
      "\n",
      " 56%|█████▌    | 1182/2129 [1:28:31<1:16:19,  4.84s/it]"
     ]
    },
    {
     "name": "stdout",
     "output_type": "stream",
     "text": [
      "002782.SZ updated from 20210114 to 20210115\n",
      "Time cost : 5.601919651031494s\n"
     ]
    },
    {
     "name": "stderr",
     "output_type": "stream",
     "text": [
      "\n",
      " 56%|█████▌    | 1183/2129 [1:28:36<1:19:52,  5.07s/it]"
     ]
    },
    {
     "name": "stdout",
     "output_type": "stream",
     "text": [
      "600861.SH updated from 20210114 to 20210115\n",
      "Time cost : 2.602847099304199s\n"
     ]
    },
    {
     "name": "stderr",
     "output_type": "stream",
     "text": [
      "\n",
      " 56%|█████▌    | 1184/2129 [1:28:39<1:08:10,  4.33s/it]"
     ]
    },
    {
     "name": "stdout",
     "output_type": "stream",
     "text": [
      "601958.SH updated from 20210114 to 20210115\n",
      "Time cost : 2.834549903869629s\n"
     ]
    },
    {
     "name": "stderr",
     "output_type": "stream",
     "text": [
      "\n",
      " 56%|█████▌    | 1185/2129 [1:28:42<1:01:03,  3.88s/it]"
     ]
    },
    {
     "name": "stdout",
     "output_type": "stream",
     "text": [
      "300476.SZ updated from 20210114 to 20210115\n",
      "Time cost : 2.129392385482788s\n"
     ]
    },
    {
     "name": "stderr",
     "output_type": "stream",
     "text": [
      "\n",
      " 56%|█████▌    | 1186/2129 [1:28:44<52:44,  3.36s/it]  "
     ]
    },
    {
     "name": "stdout",
     "output_type": "stream",
     "text": [
      "605358.SH updated from 20210114 to 20210115\n",
      "Time cost : 2.952332019805908s\n"
     ]
    },
    {
     "name": "stderr",
     "output_type": "stream",
     "text": [
      "\n",
      " 56%|█████▌    | 1187/2129 [1:28:47<50:47,  3.24s/it]"
     ]
    },
    {
     "name": "stdout",
     "output_type": "stream",
     "text": [
      "000059.SZ updated from 20210114 to 20210115\n",
      "Time cost : 1.9826703071594238s\n"
     ]
    },
    {
     "name": "stderr",
     "output_type": "stream",
     "text": [
      "\n",
      " 56%|█████▌    | 1188/2129 [1:28:49<44:51,  2.86s/it]"
     ]
    },
    {
     "name": "stdout",
     "output_type": "stream",
     "text": [
      "600868.SH updated from 20210114 to 20210115\n",
      "Time cost : 2.389561414718628s\n"
     ]
    },
    {
     "name": "stderr",
     "output_type": "stream",
     "text": [
      "\n",
      " 56%|█████▌    | 1189/2129 [1:28:51<42:36,  2.72s/it]"
     ]
    },
    {
     "name": "stdout",
     "output_type": "stream",
     "text": [
      "600308.SH updated from 20210114 to 20210115\n",
      "Time cost : 6.161746501922607s\n"
     ]
    },
    {
     "name": "stderr",
     "output_type": "stream",
     "text": [
      "\n",
      " 56%|█████▌    | 1190/2129 [1:28:57<58:44,  3.75s/it]"
     ]
    },
    {
     "name": "stdout",
     "output_type": "stream",
     "text": [
      "002699.SZ updated from 20210114 to 20210115\n",
      "Time cost : 18.3142831325531s\n"
     ]
    },
    {
     "name": "stderr",
     "output_type": "stream",
     "text": [
      "\n",
      " 56%|█████▌    | 1191/2129 [1:29:16<2:06:58,  8.12s/it]"
     ]
    },
    {
     "name": "stdout",
     "output_type": "stream",
     "text": [
      "000656.SZ updated from 20210114 to 20210115\n",
      "Time cost : 7.682297468185425s\n"
     ]
    },
    {
     "name": "stderr",
     "output_type": "stream",
     "text": [
      "\n",
      " 56%|█████▌    | 1192/2129 [1:29:23<2:04:47,  7.99s/it]"
     ]
    },
    {
     "name": "stdout",
     "output_type": "stream",
     "text": [
      "600391.SH updated from 20210114 to 20210115\n",
      "Time cost : 2.4731483459472656s\n"
     ]
    },
    {
     "name": "stderr",
     "output_type": "stream",
     "text": [
      "\n",
      " 56%|█████▌    | 1193/2129 [1:29:26<1:38:50,  6.34s/it]"
     ]
    },
    {
     "name": "stdout",
     "output_type": "stream",
     "text": [
      "300065.SZ updated from 20210114 to 20210115\n",
      "Time cost : 5.040278673171997s\n"
     ]
    },
    {
     "name": "stderr",
     "output_type": "stream",
     "text": [
      "\n",
      " 56%|█████▌    | 1194/2129 [1:29:31<1:32:41,  5.95s/it]"
     ]
    },
    {
     "name": "stdout",
     "output_type": "stream",
     "text": [
      "300673.SZ updated from 20210114 to 20210115\n",
      "Time cost : 4.278263568878174s\n"
     ]
    },
    {
     "name": "stderr",
     "output_type": "stream",
     "text": [
      "\n",
      " 56%|█████▌    | 1195/2129 [1:29:35<1:24:48,  5.45s/it]"
     ]
    },
    {
     "name": "stdout",
     "output_type": "stream",
     "text": [
      "600662.SH updated from 20210114 to 20210115\n",
      "Time cost : 2.9948973655700684s\n"
     ]
    },
    {
     "name": "stderr",
     "output_type": "stream",
     "text": [
      "\n",
      " 56%|█████▌    | 1196/2129 [1:29:38<1:13:17,  4.71s/it]"
     ]
    },
    {
     "name": "stdout",
     "output_type": "stream",
     "text": [
      "002562.SZ updated from 20210114 to 20210115\n",
      "Time cost : 3.521496534347534s\n"
     ]
    },
    {
     "name": "stderr",
     "output_type": "stream",
     "text": [
      "\n",
      " 56%|█████▌    | 1197/2129 [1:29:42<1:07:39,  4.36s/it]"
     ]
    },
    {
     "name": "stdout",
     "output_type": "stream",
     "text": [
      "300459.SZ updated from 20210114 to 20210115\n",
      "Time cost : 1.1879472732543945s\n"
     ]
    },
    {
     "name": "stderr",
     "output_type": "stream",
     "text": [
      "\n",
      " 56%|█████▋    | 1198/2129 [1:29:43<52:51,  3.41s/it]  "
     ]
    },
    {
     "name": "stdout",
     "output_type": "stream",
     "text": [
      "002180.SZ updated from 20210114 to 20210115\n",
      "Time cost : 1.2830257415771484s\n"
     ]
    },
    {
     "name": "stderr",
     "output_type": "stream",
     "text": [
      "\n",
      " 56%|█████▋    | 1199/2129 [1:29:44<42:55,  2.77s/it]"
     ]
    },
    {
     "name": "stdout",
     "output_type": "stream",
     "text": [
      "601106.SH updated from 20210114 to 20210115\n",
      "Time cost : 1.4075510501861572s\n"
     ]
    },
    {
     "name": "stderr",
     "output_type": "stream",
     "text": [
      "\n",
      " 56%|█████▋    | 1200/2129 [1:29:46<36:34,  2.36s/it]"
     ]
    },
    {
     "name": "stdout",
     "output_type": "stream",
     "text": [
      "600633.SH updated from 20210114 to 20210115\n",
      "Time cost : 3.4890427589416504s\n"
     ]
    },
    {
     "name": "stderr",
     "output_type": "stream",
     "text": [
      "\n",
      " 56%|█████▋    | 1201/2129 [1:29:49<41:46,  2.70s/it]"
     ]
    },
    {
     "name": "stdout",
     "output_type": "stream",
     "text": [
      "002901.SZ updated from 20210114 to 20210115\n",
      "Time cost : 9.032987356185913s\n"
     ]
    },
    {
     "name": "stderr",
     "output_type": "stream",
     "text": [
      "\n",
      " 56%|█████▋    | 1202/2129 [1:29:58<1:11:05,  4.60s/it]"
     ]
    },
    {
     "name": "stdout",
     "output_type": "stream",
     "text": [
      "601375.SH updated from 20210114 to 20210115\n",
      "Time cost : 2.341496229171753s\n"
     ]
    },
    {
     "name": "stderr",
     "output_type": "stream",
     "text": [
      "\n",
      " 57%|█████▋    | 1203/2129 [1:30:00<1:00:33,  3.92s/it]"
     ]
    },
    {
     "name": "stdout",
     "output_type": "stream",
     "text": [
      "688026.SH updated from 20210114 to 20210115\n",
      "Time cost : 5.079659938812256s\n"
     ]
    },
    {
     "name": "stderr",
     "output_type": "stream",
     "text": [
      "\n",
      " 57%|█████▋    | 1204/2129 [1:30:06<1:05:51,  4.27s/it]"
     ]
    },
    {
     "name": "stdout",
     "output_type": "stream",
     "text": [
      "603026.SH updated from 20210114 to 20210115\n",
      "Time cost : 2.728384017944336s\n"
     ]
    },
    {
     "name": "stderr",
     "output_type": "stream",
     "text": [
      "\n",
      " 57%|█████▋    | 1205/2129 [1:30:08<58:39,  3.81s/it]  "
     ]
    },
    {
     "name": "stdout",
     "output_type": "stream",
     "text": [
      "002079.SZ updated from 20210114 to 20210115\n",
      "Time cost : 2.8629002571105957s\n"
     ]
    },
    {
     "name": "stderr",
     "output_type": "stream",
     "text": [
      "\n",
      " 57%|█████▋    | 1206/2129 [1:30:11<54:14,  3.53s/it]"
     ]
    },
    {
     "name": "stdout",
     "output_type": "stream",
     "text": [
      "600458.SH updated from 20210114 to 20210115\n",
      "Time cost : 2.9787003993988037s\n"
     ]
    },
    {
     "name": "stderr",
     "output_type": "stream",
     "text": [
      "\n",
      " 57%|█████▋    | 1207/2129 [1:30:14<51:39,  3.36s/it]"
     ]
    },
    {
     "name": "stdout",
     "output_type": "stream",
     "text": [
      "002318.SZ updated from 20210114 to 20210115\n",
      "Time cost : 4.940141439437866s\n"
     ]
    },
    {
     "name": "stderr",
     "output_type": "stream",
     "text": [
      "\n",
      " 57%|█████▋    | 1208/2129 [1:30:19<58:53,  3.84s/it]"
     ]
    },
    {
     "name": "stdout",
     "output_type": "stream",
     "text": [
      "000823.SZ updated from 20210114 to 20210115\n",
      "Time cost : 2.654355525970459s\n"
     ]
    },
    {
     "name": "stderr",
     "output_type": "stream",
     "text": [
      "\n",
      " 57%|█████▋    | 1209/2129 [1:30:22<53:23,  3.48s/it]"
     ]
    },
    {
     "name": "stdout",
     "output_type": "stream",
     "text": [
      "000016.SZ updated from 20210114 to 20210115\n",
      "Time cost : 6.117956638336182s\n"
     ]
    },
    {
     "name": "stderr",
     "output_type": "stream",
     "text": [
      "\n",
      " 57%|█████▋    | 1210/2129 [1:30:28<1:05:27,  4.27s/it]"
     ]
    },
    {
     "name": "stdout",
     "output_type": "stream",
     "text": [
      "600901.SH updated from 20210114 to 20210115\n",
      "Time cost : 1.9223501682281494s\n"
     ]
    },
    {
     "name": "stderr",
     "output_type": "stream",
     "text": [
      "\n",
      " 57%|█████▋    | 1211/2129 [1:30:30<54:36,  3.57s/it]  "
     ]
    },
    {
     "name": "stdout",
     "output_type": "stream",
     "text": [
      "002353.SZ updated from 20210114 to 20210115\n",
      "Time cost : 5.205515623092651s\n"
     ]
    },
    {
     "name": "stderr",
     "output_type": "stream",
     "text": [
      "\n",
      " 57%|█████▋    | 1212/2129 [1:30:35<1:02:03,  4.06s/it]"
     ]
    },
    {
     "name": "stdout",
     "output_type": "stream",
     "text": [
      "300653.SZ updated from 20210114 to 20210115\n",
      "Time cost : 4.543023586273193s\n"
     ]
    },
    {
     "name": "stderr",
     "output_type": "stream",
     "text": [
      "\n",
      " 57%|█████▋    | 1213/2129 [1:30:40<1:04:12,  4.21s/it]"
     ]
    },
    {
     "name": "stdout",
     "output_type": "stream",
     "text": [
      "600640.SH updated from 20210114 to 20210115\n",
      "Time cost : 3.750459671020508s\n"
     ]
    },
    {
     "name": "stderr",
     "output_type": "stream",
     "text": [
      "\n",
      " 57%|█████▋    | 1214/2129 [1:30:43<1:02:04,  4.07s/it]"
     ]
    },
    {
     "name": "stdout",
     "output_type": "stream",
     "text": [
      "000338.SZ updated from 20210114 to 20210115\n",
      "Time cost : 3.881747007369995s\n"
     ]
    },
    {
     "name": "stderr",
     "output_type": "stream",
     "text": [
      "\n",
      " 57%|█████▋    | 1215/2129 [1:30:47<1:01:09,  4.01s/it]"
     ]
    },
    {
     "name": "stdout",
     "output_type": "stream",
     "text": [
      "603096.SH updated from 20210114 to 20210115\n",
      "Time cost : 3.712763786315918s\n"
     ]
    },
    {
     "name": "stderr",
     "output_type": "stream",
     "text": [
      "\n",
      " 57%|█████▋    | 1216/2129 [1:30:51<59:42,  3.92s/it]  "
     ]
    },
    {
     "name": "stdout",
     "output_type": "stream",
     "text": [
      "601727.SH updated from 20210114 to 20210115\n",
      "Time cost : 2.561258554458618s\n"
     ]
    },
    {
     "name": "stderr",
     "output_type": "stream",
     "text": [
      "\n",
      " 57%|█████▋    | 1217/2129 [1:30:53<53:26,  3.52s/it]"
     ]
    },
    {
     "name": "stdout",
     "output_type": "stream",
     "text": [
      "002131.SZ updated from 20210114 to 20210115\n",
      "Time cost : 1.9500699043273926s\n"
     ]
    },
    {
     "name": "stderr",
     "output_type": "stream",
     "text": [
      "\n",
      " 57%|█████▋    | 1218/2129 [1:30:55<46:15,  3.05s/it]"
     ]
    },
    {
     "name": "stdout",
     "output_type": "stream",
     "text": [
      "601211.SH updated from 20210114 to 20210115\n",
      "Time cost : 3.1214165687561035s\n"
     ]
    },
    {
     "name": "stderr",
     "output_type": "stream",
     "text": [
      "\n",
      " 57%|█████▋    | 1219/2129 [1:30:59<46:33,  3.07s/it]"
     ]
    },
    {
     "name": "stdout",
     "output_type": "stream",
     "text": [
      "603719.SH updated from 20210114 to 20210115\n",
      "Time cost : 2.9332940578460693s\n"
     ]
    },
    {
     "name": "stderr",
     "output_type": "stream",
     "text": [
      "\n",
      " 57%|█████▋    | 1220/2129 [1:31:01<45:53,  3.03s/it]"
     ]
    },
    {
     "name": "stdout",
     "output_type": "stream",
     "text": [
      "000100.SZ updated from 20210114 to 20210115\n",
      "Time cost : 2.496400833129883s\n"
     ]
    },
    {
     "name": "stderr",
     "output_type": "stream",
     "text": [
      "\n",
      " 57%|█████▋    | 1221/2129 [1:31:04<43:26,  2.87s/it]"
     ]
    },
    {
     "name": "stdout",
     "output_type": "stream",
     "text": [
      "000539.SZ updated from 20210114 to 20210115\n",
      "Time cost : 2.7841286659240723s\n"
     ]
    },
    {
     "name": "stderr",
     "output_type": "stream",
     "text": [
      "\n",
      " 57%|█████▋    | 1222/2129 [1:31:07<43:00,  2.84s/it]"
     ]
    },
    {
     "name": "stdout",
     "output_type": "stream",
     "text": [
      "002493.SZ updated from 20210114 to 20210115\n",
      "Time cost : 2.3953840732574463s\n"
     ]
    },
    {
     "name": "stderr",
     "output_type": "stream",
     "text": [
      "\n",
      " 57%|█████▋    | 1223/2129 [1:31:09<40:56,  2.71s/it]"
     ]
    },
    {
     "name": "stdout",
     "output_type": "stream",
     "text": [
      "002472.SZ updated from 20210114 to 20210115\n",
      "Time cost : 4.69498348236084s\n"
     ]
    },
    {
     "name": "stderr",
     "output_type": "stream",
     "text": [
      "\n",
      " 57%|█████▋    | 1224/2129 [1:31:14<49:52,  3.31s/it]"
     ]
    },
    {
     "name": "stdout",
     "output_type": "stream",
     "text": [
      "300751.SZ updated from 20210114 to 20210115\n",
      "Time cost : 2.341155529022217s\n"
     ]
    },
    {
     "name": "stderr",
     "output_type": "stream",
     "text": [
      "\n",
      " 58%|█████▊    | 1225/2129 [1:31:16<45:28,  3.02s/it]"
     ]
    },
    {
     "name": "stdout",
     "output_type": "stream",
     "text": [
      "002128.SZ updated from 20210114 to 20210115\n",
      "Time cost : 4.579659461975098s\n"
     ]
    },
    {
     "name": "stderr",
     "output_type": "stream",
     "text": [
      "\n",
      " 58%|█████▊    | 1226/2129 [1:31:21<52:28,  3.49s/it]"
     ]
    },
    {
     "name": "stdout",
     "output_type": "stream",
     "text": [
      "603486.SH updated from 20210114 to 20210115\n",
      "Time cost : 2.402150869369507s\n"
     ]
    },
    {
     "name": "stderr",
     "output_type": "stream",
     "text": [
      "\n",
      " 58%|█████▊    | 1227/2129 [1:31:23<47:31,  3.16s/it]"
     ]
    },
    {
     "name": "stdout",
     "output_type": "stream",
     "text": [
      "603638.SH updated from 20210114 to 20210115\n",
      "Time cost : 2.1575238704681396s\n"
     ]
    },
    {
     "name": "stderr",
     "output_type": "stream",
     "text": [
      "\n",
      " 58%|█████▊    | 1228/2129 [1:31:25<42:58,  2.86s/it]"
     ]
    },
    {
     "name": "stdout",
     "output_type": "stream",
     "text": [
      "300773.SZ updated from 20210114 to 20210115\n",
      "Time cost : 5.645356178283691s\n"
     ]
    },
    {
     "name": "stderr",
     "output_type": "stream",
     "text": [
      "\n",
      " 58%|█████▊    | 1229/2129 [1:31:31<55:27,  3.70s/it]"
     ]
    },
    {
     "name": "stdout",
     "output_type": "stream",
     "text": [
      "002726.SZ updated from 20210114 to 20210115\n",
      "Time cost : 2.461928129196167s\n"
     ]
    },
    {
     "name": "stderr",
     "output_type": "stream",
     "text": [
      "\n",
      " 58%|█████▊    | 1230/2129 [1:31:33<49:51,  3.33s/it]"
     ]
    },
    {
     "name": "stdout",
     "output_type": "stream",
     "text": [
      "600809.SH updated from 20210114 to 20210115\n",
      "Time cost : 3.459505558013916s\n"
     ]
    },
    {
     "name": "stderr",
     "output_type": "stream",
     "text": [
      "\n",
      " 58%|█████▊    | 1231/2129 [1:31:37<50:23,  3.37s/it]"
     ]
    },
    {
     "name": "stdout",
     "output_type": "stream",
     "text": [
      "600143.SH updated from 20210114 to 20210115\n",
      "Time cost : 4.146864175796509s\n"
     ]
    },
    {
     "name": "stderr",
     "output_type": "stream",
     "text": [
      "\n",
      " 58%|█████▊    | 1232/2129 [1:31:41<53:51,  3.60s/it]"
     ]
    },
    {
     "name": "stdout",
     "output_type": "stream",
     "text": [
      "600569.SH updated from 20210114 to 20210115\n",
      "Time cost : 3.7799031734466553s\n"
     ]
    },
    {
     "name": "stderr",
     "output_type": "stream",
     "text": [
      "\n",
      " 58%|█████▊    | 1233/2129 [1:31:45<54:35,  3.66s/it]"
     ]
    },
    {
     "name": "stdout",
     "output_type": "stream",
     "text": [
      "002110.SZ updated from 20210114 to 20210115\n",
      "Time cost : 1.721825122833252s\n"
     ]
    },
    {
     "name": "stderr",
     "output_type": "stream",
     "text": [
      "\n",
      " 58%|█████▊    | 1234/2129 [1:31:47<45:53,  3.08s/it]"
     ]
    },
    {
     "name": "stdout",
     "output_type": "stream",
     "text": [
      "600894.SH updated from 20210114 to 20210115\n",
      "Time cost : 1.6766369342803955s\n"
     ]
    },
    {
     "name": "stderr",
     "output_type": "stream",
     "text": [
      "\n",
      " 58%|█████▊    | 1235/2129 [1:31:48<39:35,  2.66s/it]"
     ]
    },
    {
     "name": "stdout",
     "output_type": "stream",
     "text": [
      "002623.SZ updated from 20210114 to 20210115\n",
      "Time cost : 1.7144989967346191s\n"
     ]
    },
    {
     "name": "stderr",
     "output_type": "stream",
     "text": [
      "\n",
      " 58%|█████▊    | 1236/2129 [1:31:50<35:20,  2.37s/it]"
     ]
    },
    {
     "name": "stdout",
     "output_type": "stream",
     "text": [
      "688036.SH updated from 20210114 to 20210115\n",
      "Time cost : 5.391061067581177s\n"
     ]
    },
    {
     "name": "stderr",
     "output_type": "stream",
     "text": [
      "\n",
      " 58%|█████▊    | 1237/2129 [1:31:55<48:46,  3.28s/it]"
     ]
    },
    {
     "name": "stdout",
     "output_type": "stream",
     "text": [
      "000786.SZ updated from 20210114 to 20210115\n",
      "Time cost : 5.833517789840698s\n"
     ]
    },
    {
     "name": "stderr",
     "output_type": "stream",
     "text": [
      "\n",
      " 58%|█████▊    | 1238/2129 [1:32:01<1:00:05,  4.05s/it]"
     ]
    },
    {
     "name": "stdout",
     "output_type": "stream",
     "text": [
      "001979.SZ updated from 20210114 to 20210115\n",
      "Time cost : 9.037628173828125s\n"
     ]
    },
    {
     "name": "stderr",
     "output_type": "stream",
     "text": [
      "\n",
      " 58%|█████▊    | 1239/2129 [1:32:10<1:22:14,  5.54s/it]"
     ]
    },
    {
     "name": "stdout",
     "output_type": "stream",
     "text": [
      "603626.SH updated from 20210114 to 20210115\n",
      "Time cost : 3.8235251903533936s\n"
     ]
    },
    {
     "name": "stderr",
     "output_type": "stream",
     "text": [
      "\n",
      " 58%|█████▊    | 1240/2129 [1:32:14<1:14:31,  5.03s/it]"
     ]
    },
    {
     "name": "stdout",
     "output_type": "stream",
     "text": [
      "002635.SZ updated from 20210114 to 20210115\n",
      "Time cost : 2.9488558769226074s\n"
     ]
    },
    {
     "name": "stderr",
     "output_type": "stream",
     "text": [
      "\n",
      " 58%|█████▊    | 1241/2129 [1:32:17<1:05:12,  4.41s/it]"
     ]
    },
    {
     "name": "stdout",
     "output_type": "stream",
     "text": [
      "300741.SZ updated from 20210114 to 20210115\n",
      "Time cost : 2.7358672618865967s\n"
     ]
    },
    {
     "name": "stderr",
     "output_type": "stream",
     "text": [
      "\n",
      " 58%|█████▊    | 1242/2129 [1:32:20<57:44,  3.91s/it]  "
     ]
    },
    {
     "name": "stdout",
     "output_type": "stream",
     "text": [
      "600966.SH updated from 20210114 to 20210115\n",
      "Time cost : 1.1355321407318115s\n"
     ]
    },
    {
     "name": "stderr",
     "output_type": "stream",
     "text": [
      "\n",
      " 58%|█████▊    | 1243/2129 [1:32:21<45:24,  3.08s/it]"
     ]
    },
    {
     "name": "stdout",
     "output_type": "stream",
     "text": [
      "002413.SZ updated from 20210114 to 20210115\n",
      "Time cost : 16.163164138793945s\n"
     ]
    },
    {
     "name": "stderr",
     "output_type": "stream",
     "text": [
      "\n",
      " 58%|█████▊    | 1244/2129 [1:32:37<1:43:16,  7.00s/it]"
     ]
    },
    {
     "name": "stdout",
     "output_type": "stream",
     "text": [
      "300145.SZ updated from 20210114 to 20210115\n",
      "Time cost : 2.988664388656616s\n"
     ]
    },
    {
     "name": "stderr",
     "output_type": "stream",
     "text": [
      "\n",
      " 58%|█████▊    | 1245/2129 [1:32:40<1:25:25,  5.80s/it]"
     ]
    },
    {
     "name": "stdout",
     "output_type": "stream",
     "text": [
      "002244.SZ updated from 20210114 to 20210115\n",
      "Time cost : 1.1198093891143799s\n"
     ]
    },
    {
     "name": "stderr",
     "output_type": "stream",
     "text": [
      "\n",
      " 59%|█████▊    | 1246/2129 [1:32:41<1:04:41,  4.40s/it]"
     ]
    },
    {
     "name": "stdout",
     "output_type": "stream",
     "text": [
      "600704.SH updated from 20210114 to 20210115\n",
      "Time cost : 3.8758082389831543s\n"
     ]
    },
    {
     "name": "stderr",
     "output_type": "stream",
     "text": [
      "\n",
      " 59%|█████▊    | 1247/2129 [1:32:45<1:02:20,  4.24s/it]"
     ]
    },
    {
     "name": "stdout",
     "output_type": "stream",
     "text": [
      "002092.SZ updated from 20210114 to 20210115\n",
      "Time cost : 2.221738576889038s\n"
     ]
    },
    {
     "name": "stderr",
     "output_type": "stream",
     "text": [
      "\n",
      " 59%|█████▊    | 1248/2129 [1:32:47<53:22,  3.64s/it]  "
     ]
    },
    {
     "name": "stdout",
     "output_type": "stream",
     "text": [
      "603661.SH updated from 20210114 to 20210115\n",
      "Time cost : 1.1453046798706055s\n"
     ]
    },
    {
     "name": "stderr",
     "output_type": "stream",
     "text": [
      "\n",
      " 59%|█████▊    | 1249/2129 [1:32:48<42:22,  2.89s/it]"
     ]
    },
    {
     "name": "stdout",
     "output_type": "stream",
     "text": [
      "300785.SZ updated from 20210114 to 20210115\n",
      "Time cost : 1.736905813217163s\n"
     ]
    },
    {
     "name": "stderr",
     "output_type": "stream",
     "text": [
      "\n",
      " 59%|█████▊    | 1250/2129 [1:32:50<37:16,  2.54s/it]"
     ]
    },
    {
     "name": "stdout",
     "output_type": "stream",
     "text": [
      "300740.SZ updated from 20210114 to 20210115\n",
      "Time cost : 3.7423574924468994s\n"
     ]
    },
    {
     "name": "stderr",
     "output_type": "stream",
     "text": [
      "\n",
      " 59%|█████▉    | 1251/2129 [1:32:54<42:30,  2.90s/it]"
     ]
    },
    {
     "name": "stdout",
     "output_type": "stream",
     "text": [
      "002876.SZ updated from 20210114 to 20210115\n",
      "Time cost : 14.043904304504395s\n"
     ]
    },
    {
     "name": "stderr",
     "output_type": "stream",
     "text": [
      "\n",
      " 59%|█████▉    | 1252/2129 [1:33:08<1:31:18,  6.25s/it]"
     ]
    },
    {
     "name": "stdout",
     "output_type": "stream",
     "text": [
      "600282.SH updated from 20210114 to 20210115\n",
      "Time cost : 3.69350266456604s\n"
     ]
    },
    {
     "name": "stderr",
     "output_type": "stream",
     "text": [
      "\n",
      " 59%|█████▉    | 1253/2129 [1:33:12<1:20:01,  5.48s/it]"
     ]
    },
    {
     "name": "stdout",
     "output_type": "stream",
     "text": [
      "600741.SH updated from 20210114 to 20210115\n",
      "Time cost : 1.9487385749816895s\n"
     ]
    },
    {
     "name": "stderr",
     "output_type": "stream",
     "text": [
      "\n",
      " 59%|█████▉    | 1254/2129 [1:33:14<1:04:29,  4.42s/it]"
     ]
    },
    {
     "name": "stdout",
     "output_type": "stream",
     "text": [
      "300558.SZ updated from 20210114 to 20210115\n",
      "Time cost : 17.11837863922119s\n"
     ]
    },
    {
     "name": "stderr",
     "output_type": "stream",
     "text": [
      "\n",
      " 59%|█████▉    | 1255/2129 [1:33:31<1:59:54,  8.23s/it]"
     ]
    },
    {
     "name": "stdout",
     "output_type": "stream",
     "text": [
      "002423.SZ updated from 20210114 to 20210115\n",
      "Time cost : 2.104081630706787s\n"
     ]
    },
    {
     "name": "stderr",
     "output_type": "stream",
     "text": [
      "\n",
      " 59%|█████▉    | 1256/2129 [1:33:33<1:33:01,  6.39s/it]"
     ]
    },
    {
     "name": "stdout",
     "output_type": "stream",
     "text": [
      "300769.SZ updated from 20210114 to 20210115\n",
      "Time cost : 11.212030410766602s\n"
     ]
    },
    {
     "name": "stderr",
     "output_type": "stream",
     "text": [
      "\n",
      " 59%|█████▉    | 1257/2129 [1:33:44<1:53:56,  7.84s/it]"
     ]
    },
    {
     "name": "stdout",
     "output_type": "stream",
     "text": [
      "002833.SZ updated from 20210114 to 20210115\n",
      "Time cost : 6.4490742683410645s\n"
     ]
    },
    {
     "name": "stderr",
     "output_type": "stream",
     "text": [
      "\n",
      " 59%|█████▉    | 1258/2129 [1:33:50<1:47:45,  7.42s/it]"
     ]
    },
    {
     "name": "stdout",
     "output_type": "stream",
     "text": [
      "000060.SZ updated from 20210114 to 20210115\n",
      "Time cost : 1.7027738094329834s\n"
     ]
    },
    {
     "name": "stderr",
     "output_type": "stream",
     "text": [
      "\n",
      " 59%|█████▉    | 1259/2129 [1:33:52<1:22:46,  5.71s/it]"
     ]
    },
    {
     "name": "stdout",
     "output_type": "stream",
     "text": [
      "002422.SZ updated from 20210114 to 20210115\n",
      "Time cost : 2.6825311183929443s\n"
     ]
    },
    {
     "name": "stderr",
     "output_type": "stream",
     "text": [
      "\n",
      " 59%|█████▉    | 1260/2129 [1:33:55<1:09:32,  4.80s/it]"
     ]
    },
    {
     "name": "stdout",
     "output_type": "stream",
     "text": [
      "600489.SH updated from 20210114 to 20210115\n",
      "Time cost : 3.8637125492095947s\n"
     ]
    },
    {
     "name": "stderr",
     "output_type": "stream",
     "text": [
      "\n",
      " 59%|█████▉    | 1261/2129 [1:33:59<1:05:23,  4.52s/it]"
     ]
    },
    {
     "name": "stdout",
     "output_type": "stream",
     "text": [
      "002276.SZ updated from 20210114 to 20210115\n",
      "Time cost : 8.936911344528198s\n"
     ]
    },
    {
     "name": "stderr",
     "output_type": "stream",
     "text": [
      "\n",
      " 59%|█████▉    | 1262/2129 [1:34:08<1:24:28,  5.85s/it]"
     ]
    },
    {
     "name": "stdout",
     "output_type": "stream",
     "text": [
      "002517.SZ updated from 20210114 to 20210115\n",
      "Time cost : 4.016716957092285s\n"
     ]
    },
    {
     "name": "stderr",
     "output_type": "stream",
     "text": [
      "\n",
      " 59%|█████▉    | 1263/2129 [1:34:12<1:16:28,  5.30s/it]"
     ]
    },
    {
     "name": "stdout",
     "output_type": "stream",
     "text": [
      "002773.SZ updated from 20210114 to 20210115\n",
      "Time cost : 6.042174577713013s\n"
     ]
    },
    {
     "name": "stderr",
     "output_type": "stream",
     "text": [
      "\n",
      " 59%|█████▉    | 1264/2129 [1:34:18<1:19:36,  5.52s/it]"
     ]
    },
    {
     "name": "stdout",
     "output_type": "stream",
     "text": [
      "600336.SH updated from 20210114 to 20210115\n",
      "Time cost : 3.6030445098876953s\n"
     ]
    },
    {
     "name": "stderr",
     "output_type": "stream",
     "text": [
      "\n",
      " 59%|█████▉    | 1265/2129 [1:34:21<1:11:14,  4.95s/it]"
     ]
    },
    {
     "name": "stdout",
     "output_type": "stream",
     "text": [
      "600936.SH updated from 20210114 to 20210115\n",
      "Time cost : 2.4130969047546387s\n"
     ]
    },
    {
     "name": "stderr",
     "output_type": "stream",
     "text": [
      "\n",
      " 59%|█████▉    | 1266/2129 [1:34:24<1:00:13,  4.19s/it]"
     ]
    },
    {
     "name": "stdout",
     "output_type": "stream",
     "text": [
      "002142.SZ updated from 20210114 to 20210115\n",
      "Time cost : 20.055878400802612s\n"
     ]
    },
    {
     "name": "stderr",
     "output_type": "stream",
     "text": [
      "\n",
      " 60%|█████▉    | 1267/2129 [1:34:44<2:08:33,  8.95s/it]"
     ]
    },
    {
     "name": "stdout",
     "output_type": "stream",
     "text": [
      "601908.SH updated from 20210114 to 20210115\n",
      "Time cost : 2.5804965496063232s\n"
     ]
    },
    {
     "name": "stderr",
     "output_type": "stream",
     "text": [
      "\n",
      " 60%|█████▉    | 1268/2129 [1:34:46<1:41:00,  7.04s/it]"
     ]
    },
    {
     "name": "stdout",
     "output_type": "stream",
     "text": [
      "600179.SH updated from 20210114 to 20210115\n",
      "Time cost : 2.777972459793091s\n"
     ]
    },
    {
     "name": "stderr",
     "output_type": "stream",
     "text": [
      "\n",
      " 60%|█████▉    | 1269/2129 [1:34:49<1:22:34,  5.76s/it]"
     ]
    },
    {
     "name": "stdout",
     "output_type": "stream",
     "text": [
      "600535.SH updated from 20210114 to 20210115\n",
      "Time cost : 7.70183539390564s\n"
     ]
    },
    {
     "name": "stderr",
     "output_type": "stream",
     "text": [
      "\n",
      " 60%|█████▉    | 1270/2129 [1:34:57<1:30:49,  6.34s/it]"
     ]
    },
    {
     "name": "stdout",
     "output_type": "stream",
     "text": [
      "300770.SZ updated from 20210114 to 20210115\n",
      "Time cost : 2.902785539627075s\n"
     ]
    },
    {
     "name": "stderr",
     "output_type": "stream",
     "text": [
      "\n",
      " 60%|█████▉    | 1271/2129 [1:35:00<1:15:58,  5.31s/it]"
     ]
    },
    {
     "name": "stdout",
     "output_type": "stream",
     "text": [
      "601888.SH updated from 20210114 to 20210115\n",
      "Time cost : 23.932377338409424s\n"
     ]
    },
    {
     "name": "stderr",
     "output_type": "stream",
     "text": [
      "\n",
      " 60%|█████▉    | 1272/2129 [1:35:24<2:35:40, 10.90s/it]"
     ]
    },
    {
     "name": "stdout",
     "output_type": "stream",
     "text": [
      "002402.SZ updated from 20210114 to 20210115\n",
      "Time cost : 2.1282172203063965s\n"
     ]
    },
    {
     "name": "stderr",
     "output_type": "stream",
     "text": [
      "\n",
      " 60%|█████▉    | 1273/2129 [1:35:26<1:57:57,  8.27s/it]"
     ]
    },
    {
     "name": "stdout",
     "output_type": "stream",
     "text": [
      "002317.SZ updated from 20210114 to 20210115\n",
      "Time cost : 3.079915761947632s\n"
     ]
    },
    {
     "name": "stderr",
     "output_type": "stream",
     "text": [
      "\n",
      " 60%|█████▉    | 1274/2129 [1:35:29<1:35:39,  6.71s/it]"
     ]
    },
    {
     "name": "stdout",
     "output_type": "stream",
     "text": [
      "688599.SH updated from 20210114 to 20210115\n",
      "Time cost : 2.945629358291626s\n"
     ]
    },
    {
     "name": "stderr",
     "output_type": "stream",
     "text": [
      "\n",
      " 60%|█████▉    | 1275/2129 [1:35:32<1:19:27,  5.58s/it]"
     ]
    },
    {
     "name": "stdout",
     "output_type": "stream",
     "text": [
      "300358.SZ updated from 20210114 to 20210115\n",
      "Time cost : 1.8254477977752686s\n"
     ]
    },
    {
     "name": "stderr",
     "output_type": "stream",
     "text": [
      "\n",
      " 60%|█████▉    | 1276/2129 [1:35:34<1:03:21,  4.46s/it]"
     ]
    },
    {
     "name": "stdout",
     "output_type": "stream",
     "text": [
      "600369.SH updated from 20210114 to 20210115\n",
      "Time cost : 6.467952728271484s\n"
     ]
    },
    {
     "name": "stderr",
     "output_type": "stream",
     "text": [
      "\n",
      " 60%|█████▉    | 1277/2129 [1:35:40<1:11:51,  5.06s/it]"
     ]
    },
    {
     "name": "stdout",
     "output_type": "stream",
     "text": [
      "300450.SZ updated from 20210114 to 20210115\n",
      "Time cost : 2.1790175437927246s\n"
     ]
    },
    {
     "name": "stderr",
     "output_type": "stream",
     "text": [
      "\n",
      " 60%|██████    | 1278/2129 [1:35:42<59:31,  4.20s/it]  "
     ]
    },
    {
     "name": "stdout",
     "output_type": "stream",
     "text": [
      "601949.SH updated from 20210114 to 20210115\n",
      "Time cost : 3.869084596633911s\n"
     ]
    },
    {
     "name": "stderr",
     "output_type": "stream",
     "text": [
      "\n",
      " 60%|██████    | 1279/2129 [1:35:46<58:04,  4.10s/it]"
     ]
    },
    {
     "name": "stdout",
     "output_type": "stream",
     "text": [
      "603899.SH updated from 20210114 to 20210115\n",
      "Time cost : 1.8167641162872314s\n"
     ]
    },
    {
     "name": "stderr",
     "output_type": "stream",
     "text": [
      "\n",
      " 60%|██████    | 1280/2129 [1:35:48<48:19,  3.42s/it]"
     ]
    },
    {
     "name": "stdout",
     "output_type": "stream",
     "text": [
      "300352.SZ updated from 20210114 to 20210115\n",
      "Time cost : 2.985938310623169s\n"
     ]
    },
    {
     "name": "stderr",
     "output_type": "stream",
     "text": [
      "\n",
      " 60%|██████    | 1281/2129 [1:35:51<46:27,  3.29s/it]"
     ]
    },
    {
     "name": "stdout",
     "output_type": "stream",
     "text": [
      "601686.SH updated from 20210114 to 20210115\n",
      "Time cost : 3.6799118518829346s\n"
     ]
    },
    {
     "name": "stderr",
     "output_type": "stream",
     "text": [
      "\n",
      " 60%|██████    | 1282/2129 [1:35:55<48:04,  3.41s/it]"
     ]
    },
    {
     "name": "stdout",
     "output_type": "stream",
     "text": [
      "600742.SH updated from 20210114 to 20210115\n",
      "Time cost : 4.449736833572388s\n"
     ]
    },
    {
     "name": "stderr",
     "output_type": "stream",
     "text": [
      "\n",
      " 60%|██████    | 1283/2129 [1:35:59<52:26,  3.72s/it]"
     ]
    },
    {
     "name": "stdout",
     "output_type": "stream",
     "text": [
      "688289.SH updated from 20210114 to 20210115\n",
      "Time cost : 4.06706428527832s\n"
     ]
    },
    {
     "name": "stderr",
     "output_type": "stream",
     "text": [
      "\n",
      " 60%|██████    | 1284/2129 [1:36:03<53:51,  3.82s/it]"
     ]
    },
    {
     "name": "stdout",
     "output_type": "stream",
     "text": [
      "002342.SZ updated from 20210114 to 20210115\n",
      "Time cost : 11.122588872909546s\n"
     ]
    },
    {
     "name": "stderr",
     "output_type": "stream",
     "text": [
      "\n",
      " 60%|██████    | 1285/2129 [1:36:14<1:24:36,  6.01s/it]"
     ]
    },
    {
     "name": "stdout",
     "output_type": "stream",
     "text": [
      "000156.SZ updated from 20210114 to 20210115\n",
      "Time cost : 1.1448478698730469s\n"
     ]
    },
    {
     "name": "stderr",
     "output_type": "stream",
     "text": [
      "\n",
      " 60%|██████    | 1286/2129 [1:36:15<1:03:59,  4.55s/it]"
     ]
    },
    {
     "name": "stdout",
     "output_type": "stream",
     "text": [
      "600761.SH updated from 20210114 to 20210115\n",
      "Time cost : 3.8682918548583984s\n"
     ]
    },
    {
     "name": "stderr",
     "output_type": "stream",
     "text": [
      "\n",
      " 60%|██████    | 1287/2129 [1:36:19<1:01:02,  4.35s/it]"
     ]
    },
    {
     "name": "stdout",
     "output_type": "stream",
     "text": [
      "300070.SZ updated from 20210114 to 20210115\n",
      "Time cost : 8.738489627838135s\n"
     ]
    },
    {
     "name": "stderr",
     "output_type": "stream",
     "text": [
      "\n",
      " 60%|██████    | 1288/2129 [1:36:28<1:19:25,  5.67s/it]"
     ]
    },
    {
     "name": "stdout",
     "output_type": "stream",
     "text": [
      "002008.SZ updated from 20210114 to 20210115\n",
      "Time cost : 2.395061492919922s\n"
     ]
    },
    {
     "name": "stderr",
     "output_type": "stream",
     "text": [
      "\n",
      " 61%|██████    | 1289/2129 [1:36:31<1:05:36,  4.69s/it]"
     ]
    },
    {
     "name": "stdout",
     "output_type": "stream",
     "text": [
      "300258.SZ updated from 20210114 to 20210115\n",
      "Time cost : 4.708880662918091s\n"
     ]
    },
    {
     "name": "stderr",
     "output_type": "stream",
     "text": [
      "\n",
      " 61%|██████    | 1290/2129 [1:36:35<1:05:37,  4.69s/it]"
     ]
    },
    {
     "name": "stdout",
     "output_type": "stream",
     "text": [
      "600711.SH updated from 20210114 to 20210115\n",
      "Time cost : 2.560717821121216s\n"
     ]
    },
    {
     "name": "stderr",
     "output_type": "stream",
     "text": [
      "\n",
      " 61%|██████    | 1291/2129 [1:36:38<56:37,  4.05s/it]  "
     ]
    },
    {
     "name": "stdout",
     "output_type": "stream",
     "text": [
      "002989.SZ updated from 20210114 to 20210115\n",
      "Time cost : 1.147195816040039s\n"
     ]
    },
    {
     "name": "stderr",
     "output_type": "stream",
     "text": [
      "\n",
      " 61%|██████    | 1292/2129 [1:36:39<44:23,  3.18s/it]"
     ]
    },
    {
     "name": "stdout",
     "output_type": "stream",
     "text": [
      "002880.SZ updated from 20210114 to 20210115\n",
      "Time cost : 18.376086235046387s\n"
     ]
    },
    {
     "name": "stderr",
     "output_type": "stream",
     "text": [
      "\n",
      " 61%|██████    | 1293/2129 [1:36:57<1:47:51,  7.74s/it]"
     ]
    },
    {
     "name": "stdout",
     "output_type": "stream",
     "text": [
      "300088.SZ updated from 20210114 to 20210115\n",
      "Time cost : 8.200037240982056s\n"
     ]
    },
    {
     "name": "stderr",
     "output_type": "stream",
     "text": [
      "\n",
      " 61%|██████    | 1294/2129 [1:37:06<1:49:39,  7.88s/it]"
     ]
    },
    {
     "name": "stdout",
     "output_type": "stream",
     "text": [
      "002261.SZ updated from 20210114 to 20210115\n",
      "Time cost : 5.359585523605347s\n"
     ]
    },
    {
     "name": "stderr",
     "output_type": "stream",
     "text": [
      "\n",
      " 61%|██████    | 1295/2129 [1:37:11<1:39:01,  7.12s/it]"
     ]
    },
    {
     "name": "stdout",
     "output_type": "stream",
     "text": [
      "000719.SZ updated from 20210114 to 20210115\n",
      "Time cost : 9.975362062454224s\n"
     ]
    },
    {
     "name": "stderr",
     "output_type": "stream",
     "text": [
      "\n",
      " 61%|██████    | 1296/2129 [1:37:21<1:50:47,  7.98s/it]"
     ]
    },
    {
     "name": "stdout",
     "output_type": "stream",
     "text": [
      "603068.SH updated from 20210114 to 20210115\n",
      "Time cost : 4.747066020965576s\n"
     ]
    },
    {
     "name": "stderr",
     "output_type": "stream",
     "text": [
      "\n",
      " 61%|██████    | 1297/2129 [1:37:26<1:37:13,  7.01s/it]"
     ]
    },
    {
     "name": "stdout",
     "output_type": "stream",
     "text": [
      "600537.SH updated from 20210114 to 20210115\n",
      "Time cost : 3.777796506881714s\n"
     ]
    },
    {
     "name": "stderr",
     "output_type": "stream",
     "text": [
      "\n",
      " 61%|██████    | 1298/2129 [1:37:29<1:23:40,  6.04s/it]"
     ]
    },
    {
     "name": "stdout",
     "output_type": "stream",
     "text": [
      "300002.SZ updated from 20210114 to 20210115\n",
      "Time cost : 8.067647457122803s\n"
     ]
    },
    {
     "name": "stderr",
     "output_type": "stream",
     "text": [
      "\n",
      " 61%|██████    | 1299/2129 [1:37:37<1:31:59,  6.65s/it]"
     ]
    },
    {
     "name": "stdout",
     "output_type": "stream",
     "text": [
      "601319.SH updated from 20210114 to 20210115\n",
      "Time cost : 2.9486637115478516s\n"
     ]
    },
    {
     "name": "stderr",
     "output_type": "stream",
     "text": [
      "\n",
      " 61%|██████    | 1300/2129 [1:37:40<1:16:32,  5.54s/it]"
     ]
    },
    {
     "name": "stdout",
     "output_type": "stream",
     "text": [
      "600694.SH updated from 20210114 to 20210115\n",
      "Time cost : 2.1345367431640625s\n"
     ]
    },
    {
     "name": "stderr",
     "output_type": "stream",
     "text": [
      "\n",
      " 61%|██████    | 1301/2129 [1:37:43<1:02:22,  4.52s/it]"
     ]
    },
    {
     "name": "stdout",
     "output_type": "stream",
     "text": [
      "601881.SH updated from 20210114 to 20210115\n",
      "Time cost : 5.69347882270813s\n"
     ]
    },
    {
     "name": "stderr",
     "output_type": "stream",
     "text": [
      "\n",
      " 61%|██████    | 1302/2129 [1:37:48<1:07:09,  4.87s/it]"
     ]
    },
    {
     "name": "stdout",
     "output_type": "stream",
     "text": [
      "600503.SH updated from 20210114 to 20210115\n",
      "Time cost : 6.694897890090942s\n"
     ]
    },
    {
     "name": "stderr",
     "output_type": "stream",
     "text": [
      "\n",
      " 61%|██████    | 1303/2129 [1:37:55<1:14:36,  5.42s/it]"
     ]
    },
    {
     "name": "stdout",
     "output_type": "stream",
     "text": [
      "603181.SH updated from 20210114 to 20210115\n",
      "Time cost : 8.17624282836914s\n"
     ]
    },
    {
     "name": "stderr",
     "output_type": "stream",
     "text": [
      "\n",
      " 61%|██████    | 1304/2129 [1:38:03<1:25:53,  6.25s/it]"
     ]
    },
    {
     "name": "stdout",
     "output_type": "stream",
     "text": [
      "600031.SH updated from 20210114 to 20210115\n",
      "Time cost : 3.4765830039978027s\n"
     ]
    },
    {
     "name": "stderr",
     "output_type": "stream",
     "text": [
      "\n",
      " 61%|██████▏   | 1305/2129 [1:38:07<1:14:23,  5.42s/it]"
     ]
    },
    {
     "name": "stdout",
     "output_type": "stream",
     "text": [
      "601619.SH updated from 20210114 to 20210115\n",
      "Time cost : 3.1981935501098633s\n"
     ]
    },
    {
     "name": "stderr",
     "output_type": "stream",
     "text": [
      "\n",
      " 61%|██████▏   | 1306/2129 [1:38:10<1:05:10,  4.75s/it]"
     ]
    },
    {
     "name": "stdout",
     "output_type": "stream",
     "text": [
      "600398.SH updated from 20210114 to 20210115\n",
      "Time cost : 4.725800275802612s\n"
     ]
    },
    {
     "name": "stderr",
     "output_type": "stream",
     "text": [
      "\n",
      " 61%|██████▏   | 1307/2129 [1:38:15<1:05:00,  4.74s/it]"
     ]
    },
    {
     "name": "stdout",
     "output_type": "stream",
     "text": [
      "600055.SH updated from 20210114 to 20210115\n",
      "Time cost : 4.419271469116211s\n"
     ]
    },
    {
     "name": "stderr",
     "output_type": "stream",
     "text": [
      "\n",
      " 61%|██████▏   | 1308/2129 [1:38:19<1:03:35,  4.65s/it]"
     ]
    },
    {
     "name": "stdout",
     "output_type": "stream",
     "text": [
      "002041.SZ updated from 20210114 to 20210115\n",
      "Time cost : 1.9098961353302002s\n"
     ]
    },
    {
     "name": "stderr",
     "output_type": "stream",
     "text": [
      "\n",
      " 61%|██████▏   | 1309/2129 [1:38:21<52:18,  3.83s/it]  "
     ]
    },
    {
     "name": "stdout",
     "output_type": "stream",
     "text": [
      "603508.SH updated from 20210114 to 20210115\n",
      "Time cost : 1.6758623123168945s\n"
     ]
    },
    {
     "name": "stderr",
     "output_type": "stream",
     "text": [
      "\n",
      " 62%|██████▏   | 1310/2129 [1:38:23<43:26,  3.18s/it]"
     ]
    },
    {
     "name": "stdout",
     "output_type": "stream",
     "text": [
      "002616.SZ updated from 20210114 to 20210115\n",
      "Time cost : 2.007577896118164s\n"
     ]
    },
    {
     "name": "stderr",
     "output_type": "stream",
     "text": [
      "\n",
      " 62%|██████▏   | 1311/2129 [1:38:25<38:35,  2.83s/it]"
     ]
    },
    {
     "name": "stdout",
     "output_type": "stream",
     "text": [
      "300034.SZ updated from 20210114 to 20210115\n",
      "Time cost : 1.6966912746429443s\n"
     ]
    },
    {
     "name": "stderr",
     "output_type": "stream",
     "text": [
      "\n",
      " 62%|██████▏   | 1312/2129 [1:38:26<33:55,  2.49s/it]"
     ]
    },
    {
     "name": "stdout",
     "output_type": "stream",
     "text": [
      "300130.SZ updated from 20210114 to 20210115\n",
      "Time cost : 2.4888579845428467s\n"
     ]
    },
    {
     "name": "stderr",
     "output_type": "stream",
     "text": [
      "\n",
      " 62%|██████▏   | 1313/2129 [1:38:29<33:52,  2.49s/it]"
     ]
    },
    {
     "name": "stdout",
     "output_type": "stream",
     "text": [
      "601900.SH updated from 20210114 to 20210115\n",
      "Time cost : 5.950978994369507s\n"
     ]
    },
    {
     "name": "stderr",
     "output_type": "stream",
     "text": [
      "\n",
      " 62%|██████▏   | 1314/2129 [1:38:35<47:56,  3.53s/it]"
     ]
    },
    {
     "name": "stdout",
     "output_type": "stream",
     "text": [
      "600522.SH updated from 20210114 to 20210115\n",
      "Time cost : 7.660915374755859s\n"
     ]
    },
    {
     "name": "stderr",
     "output_type": "stream",
     "text": [
      "\n",
      " 62%|██████▏   | 1315/2129 [1:38:42<1:04:42,  4.77s/it]"
     ]
    },
    {
     "name": "stdout",
     "output_type": "stream",
     "text": [
      "603185.SH updated from 20210114 to 20210115\n",
      "Time cost : 2.107008218765259s\n"
     ]
    },
    {
     "name": "stderr",
     "output_type": "stream",
     "text": [
      "\n",
      " 62%|██████▏   | 1316/2129 [1:38:44<53:48,  3.97s/it]  "
     ]
    },
    {
     "name": "stdout",
     "output_type": "stream",
     "text": [
      "002497.SZ updated from 20210114 to 20210115\n",
      "Time cost : 1.9558286666870117s\n"
     ]
    },
    {
     "name": "stderr",
     "output_type": "stream",
     "text": [
      "\n",
      " 62%|██████▏   | 1317/2129 [1:38:46<45:34,  3.37s/it]"
     ]
    },
    {
     "name": "stdout",
     "output_type": "stream",
     "text": [
      "300227.SZ updated from 20210114 to 20210115\n",
      "Time cost : 1.1108622550964355s\n"
     ]
    },
    {
     "name": "stderr",
     "output_type": "stream",
     "text": [
      "\n",
      " 62%|██████▏   | 1318/2129 [1:38:48<36:22,  2.69s/it]"
     ]
    },
    {
     "name": "stdout",
     "output_type": "stream",
     "text": [
      "600216.SH updated from 20210114 to 20210115\n",
      "Time cost : 9.849201917648315s\n"
     ]
    },
    {
     "name": "stderr",
     "output_type": "stream",
     "text": [
      "\n",
      " 62%|██████▏   | 1319/2129 [1:38:57<1:05:19,  4.84s/it]"
     ]
    },
    {
     "name": "stdout",
     "output_type": "stream",
     "text": [
      "603605.SH updated from 20210114 to 20210115\n",
      "Time cost : 1.1064798831939697s\n"
     ]
    },
    {
     "name": "stderr",
     "output_type": "stream",
     "text": [
      "\n",
      " 62%|██████▏   | 1320/2129 [1:38:58<50:09,  3.72s/it]  "
     ]
    },
    {
     "name": "stdout",
     "output_type": "stream",
     "text": [
      "600986.SH updated from 20210114 to 20210115\n",
      "Time cost : 2.1774067878723145s\n"
     ]
    },
    {
     "name": "stderr",
     "output_type": "stream",
     "text": [
      "\n",
      " 62%|██████▏   | 1321/2129 [1:39:01<43:52,  3.26s/it]"
     ]
    },
    {
     "name": "stdout",
     "output_type": "stream",
     "text": [
      "600848.SH updated from 20210114 to 20210115\n",
      "Time cost : 3.2216415405273438s\n"
     ]
    },
    {
     "name": "stderr",
     "output_type": "stream",
     "text": [
      "\n",
      " 62%|██████▏   | 1322/2129 [1:39:04<43:40,  3.25s/it]"
     ]
    },
    {
     "name": "stdout",
     "output_type": "stream",
     "text": [
      "603456.SH updated from 20210114 to 20210115\n",
      "Time cost : 5.334041357040405s\n"
     ]
    },
    {
     "name": "stderr",
     "output_type": "stream",
     "text": [
      "\n",
      " 62%|██████▏   | 1323/2129 [1:39:09<52:02,  3.87s/it]"
     ]
    },
    {
     "name": "stdout",
     "output_type": "stream",
     "text": [
      "300526.SZ updated from 20210114 to 20210115\n",
      "Time cost : 1.0884385108947754s\n"
     ]
    },
    {
     "name": "stderr",
     "output_type": "stream",
     "text": [
      "\n",
      " 62%|██████▏   | 1324/2129 [1:39:10<40:46,  3.04s/it]"
     ]
    },
    {
     "name": "stdout",
     "output_type": "stream",
     "text": [
      "603025.SH updated from 20210114 to 20210115\n",
      "Time cost : 1.6600792407989502s\n"
     ]
    },
    {
     "name": "stderr",
     "output_type": "stream",
     "text": [
      "\n",
      " 62%|██████▏   | 1325/2129 [1:39:12<35:11,  2.63s/it]"
     ]
    },
    {
     "name": "stdout",
     "output_type": "stream",
     "text": [
      "600023.SH updated from 20210114 to 20210115\n",
      "Time cost : 2.0100784301757812s\n"
     ]
    },
    {
     "name": "stderr",
     "output_type": "stream",
     "text": [
      "\n",
      " 62%|██████▏   | 1326/2129 [1:39:14<32:40,  2.44s/it]"
     ]
    },
    {
     "name": "stdout",
     "output_type": "stream",
     "text": [
      "002683.SZ updated from 20210114 to 20210115\n",
      "Time cost : 2.4590418338775635s\n"
     ]
    },
    {
     "name": "stderr",
     "output_type": "stream",
     "text": [
      "\n",
      " 62%|██████▏   | 1327/2129 [1:39:16<32:43,  2.45s/it]"
     ]
    },
    {
     "name": "stdout",
     "output_type": "stream",
     "text": [
      "600728.SH updated from 20210114 to 20210115\n",
      "Time cost : 2.7237179279327393s\n"
     ]
    },
    {
     "name": "stderr",
     "output_type": "stream",
     "text": [
      "\n",
      " 62%|██████▏   | 1328/2129 [1:39:19<33:47,  2.53s/it]"
     ]
    },
    {
     "name": "stdout",
     "output_type": "stream",
     "text": [
      "300791.SZ updated from 20210114 to 20210115\n",
      "Time cost : 3.030848741531372s\n"
     ]
    },
    {
     "name": "stderr",
     "output_type": "stream",
     "text": [
      "\n",
      " 62%|██████▏   | 1329/2129 [1:39:22<35:45,  2.68s/it]"
     ]
    },
    {
     "name": "stdout",
     "output_type": "stream",
     "text": [
      "000902.SZ updated from 20210114 to 20210115\n",
      "Time cost : 8.795139074325562s\n"
     ]
    },
    {
     "name": "stderr",
     "output_type": "stream",
     "text": [
      "\n",
      " 62%|██████▏   | 1330/2129 [1:39:31<1:00:08,  4.52s/it]"
     ]
    },
    {
     "name": "stdout",
     "output_type": "stream",
     "text": [
      "600004.SH updated from 20210114 to 20210115\n",
      "Time cost : 2.6969470977783203s\n"
     ]
    },
    {
     "name": "stderr",
     "output_type": "stream",
     "text": [
      "\n",
      " 63%|██████▎   | 1331/2129 [1:39:34<52:49,  3.97s/it]  "
     ]
    },
    {
     "name": "stdout",
     "output_type": "stream",
     "text": [
      "300014.SZ updated from 20210114 to 20210115\n",
      "Time cost : 2.755483865737915s\n"
     ]
    },
    {
     "name": "stderr",
     "output_type": "stream",
     "text": [
      "\n",
      " 63%|██████▎   | 1332/2129 [1:39:36<47:55,  3.61s/it]"
     ]
    },
    {
     "name": "stdout",
     "output_type": "stream",
     "text": [
      "688508.SH updated from 20210114 to 20210115\n",
      "Time cost : 1.6459171772003174s\n"
     ]
    },
    {
     "name": "stderr",
     "output_type": "stream",
     "text": [
      "\n",
      " 63%|██████▎   | 1333/2129 [1:39:38<40:03,  3.02s/it]"
     ]
    },
    {
     "name": "stdout",
     "output_type": "stream",
     "text": [
      "600837.SH updated from 20210114 to 20210115\n",
      "Time cost : 5.752455711364746s\n"
     ]
    },
    {
     "name": "stderr",
     "output_type": "stream",
     "text": [
      "\n",
      " 63%|██████▎   | 1334/2129 [1:39:44<50:52,  3.84s/it]"
     ]
    },
    {
     "name": "stdout",
     "output_type": "stream",
     "text": [
      "002438.SZ updated from 20210114 to 20210115\n",
      "Time cost : 1.747330904006958s\n"
     ]
    },
    {
     "name": "stderr",
     "output_type": "stream",
     "text": [
      "\n",
      " 63%|██████▎   | 1335/2129 [1:39:46<42:30,  3.21s/it]"
     ]
    },
    {
     "name": "stdout",
     "output_type": "stream",
     "text": [
      "601997.SH updated from 20210114 to 20210115\n",
      "Time cost : 5.633810043334961s\n"
     ]
    },
    {
     "name": "stderr",
     "output_type": "stream",
     "text": [
      "\n",
      " 63%|██████▎   | 1336/2129 [1:39:51<52:04,  3.94s/it]"
     ]
    },
    {
     "name": "stdout",
     "output_type": "stream",
     "text": [
      "600201.SH updated from 20210114 to 20210115\n",
      "Time cost : 16.545103311538696s\n"
     ]
    },
    {
     "name": "stderr",
     "output_type": "stream",
     "text": [
      "\n",
      " 63%|██████▎   | 1337/2129 [1:40:08<1:41:55,  7.72s/it]"
     ]
    },
    {
     "name": "stdout",
     "output_type": "stream",
     "text": [
      "000630.SZ updated from 20210114 to 20210115\n",
      "Time cost : 4.221422910690308s\n"
     ]
    },
    {
     "name": "stderr",
     "output_type": "stream",
     "text": [
      "\n",
      " 63%|██████▎   | 1338/2129 [1:40:12<1:27:57,  6.67s/it]"
     ]
    },
    {
     "name": "stdout",
     "output_type": "stream",
     "text": [
      "603887.SH updated from 20210114 to 20210115\n",
      "Time cost : 1.152158260345459s\n"
     ]
    },
    {
     "name": "stderr",
     "output_type": "stream",
     "text": [
      "\n",
      " 63%|██████▎   | 1339/2129 [1:40:13<1:06:03,  5.02s/it]"
     ]
    },
    {
     "name": "stdout",
     "output_type": "stream",
     "text": [
      "600609.SH updated from 20210114 to 20210115\n",
      "Time cost : 3.4838478565216064s\n"
     ]
    },
    {
     "name": "stderr",
     "output_type": "stream",
     "text": [
      "\n",
      " 63%|██████▎   | 1340/2129 [1:40:17<59:56,  4.56s/it]  "
     ]
    },
    {
     "name": "stdout",
     "output_type": "stream",
     "text": [
      "300482.SZ updated from 20210114 to 20210115\n",
      "Time cost : 3.3234100341796875s\n"
     ]
    },
    {
     "name": "stderr",
     "output_type": "stream",
     "text": [
      "\n",
      " 63%|██████▎   | 1341/2129 [1:40:20<55:00,  4.19s/it]"
     ]
    },
    {
     "name": "stdout",
     "output_type": "stream",
     "text": [
      "002557.SZ updated from 20210114 to 20210115\n",
      "Time cost : 23.816426515579224s\n"
     ]
    },
    {
     "name": "stderr",
     "output_type": "stream",
     "text": [
      "\n",
      " 63%|██████▎   | 1342/2129 [1:40:44<2:12:10, 10.08s/it]"
     ]
    },
    {
     "name": "stdout",
     "output_type": "stream",
     "text": [
      "300053.SZ updated from 20210114 to 20210115\n",
      "Time cost : 7.5963428020477295s\n"
     ]
    },
    {
     "name": "stderr",
     "output_type": "stream",
     "text": [
      "\n",
      " 63%|██████▎   | 1343/2129 [1:40:51<2:02:16,  9.33s/it]"
     ]
    },
    {
     "name": "stdout",
     "output_type": "stream",
     "text": [
      "688179.SH updated from 20210114 to 20210115\n",
      "Time cost : 8.759144306182861s\n"
     ]
    },
    {
     "name": "stderr",
     "output_type": "stream",
     "text": [
      "\n",
      " 63%|██████▎   | 1344/2129 [1:41:00<1:59:51,  9.16s/it]"
     ]
    },
    {
     "name": "stdout",
     "output_type": "stream",
     "text": [
      "300858.SZ updated from 20210114 to 20210115\n",
      "Time cost : 4.735708713531494s\n"
     ]
    },
    {
     "name": "stderr",
     "output_type": "stream",
     "text": [
      "\n",
      " 63%|██████▎   | 1345/2129 [1:41:05<1:42:22,  7.83s/it]"
     ]
    },
    {
     "name": "stdout",
     "output_type": "stream",
     "text": [
      "002605.SZ updated from 20210114 to 20210115\n",
      "Time cost : 4.792456865310669s\n"
     ]
    },
    {
     "name": "stderr",
     "output_type": "stream",
     "text": [
      "\n",
      " 63%|██████▎   | 1346/2129 [1:41:10<1:30:20,  6.92s/it]"
     ]
    },
    {
     "name": "stdout",
     "output_type": "stream",
     "text": [
      "300887.SZ updated from 20210114 to 20210115\n",
      "Time cost : 5.465050935745239s\n"
     ]
    },
    {
     "name": "stderr",
     "output_type": "stream",
     "text": [
      "\n",
      " 63%|██████▎   | 1347/2129 [1:41:15<1:24:32,  6.49s/it]"
     ]
    },
    {
     "name": "stdout",
     "output_type": "stream",
     "text": [
      "300551.SZ updated from 20210114 to 20210115\n",
      "Time cost : 3.9809727668762207s\n"
     ]
    },
    {
     "name": "stderr",
     "output_type": "stream",
     "text": [
      "\n",
      " 63%|██████▎   | 1348/2129 [1:41:19<1:14:39,  5.74s/it]"
     ]
    },
    {
     "name": "stdout",
     "output_type": "stream",
     "text": [
      "600549.SH updated from 20210114 to 20210115\n",
      "Time cost : 2.855822801589966s\n"
     ]
    },
    {
     "name": "stderr",
     "output_type": "stream",
     "text": [
      "\n",
      " 63%|██████▎   | 1349/2129 [1:41:22<1:03:20,  4.87s/it]"
     ]
    },
    {
     "name": "stdout",
     "output_type": "stream",
     "text": [
      "300825.SZ updated from 20210114 to 20210115\n",
      "Time cost : 8.643405437469482s\n"
     ]
    },
    {
     "name": "stderr",
     "output_type": "stream",
     "text": [
      "\n",
      " 63%|██████▎   | 1350/2129 [1:41:31<1:17:57,  6.00s/it]"
     ]
    },
    {
     "name": "stdout",
     "output_type": "stream",
     "text": [
      "600874.SH updated from 20210114 to 20210115\n",
      "Time cost : 3.4707701206207275s\n"
     ]
    },
    {
     "name": "stderr",
     "output_type": "stream",
     "text": [
      "\n",
      " 63%|██████▎   | 1351/2129 [1:41:34<1:08:00,  5.24s/it]"
     ]
    },
    {
     "name": "stdout",
     "output_type": "stream",
     "text": [
      "000930.SZ updated from 20210114 to 20210115\n",
      "Time cost : 1.1748511791229248s\n"
     ]
    },
    {
     "name": "stderr",
     "output_type": "stream",
     "text": [
      "\n",
      " 64%|██████▎   | 1352/2129 [1:41:35<52:07,  4.02s/it]  "
     ]
    },
    {
     "name": "stdout",
     "output_type": "stream",
     "text": [
      "600067.SH updated from 20210114 to 20210115\n",
      "Time cost : 6.5179197788238525s\n"
     ]
    },
    {
     "name": "stderr",
     "output_type": "stream",
     "text": [
      "\n",
      " 64%|██████▎   | 1353/2129 [1:41:42<1:01:43,  4.77s/it]"
     ]
    },
    {
     "name": "stdout",
     "output_type": "stream",
     "text": [
      "300409.SZ updated from 20210114 to 20210115\n",
      "Time cost : 4.384634733200073s\n"
     ]
    },
    {
     "name": "stderr",
     "output_type": "stream",
     "text": [
      "\n",
      " 64%|██████▎   | 1354/2129 [1:41:46<1:00:09,  4.66s/it]"
     ]
    },
    {
     "name": "stdout",
     "output_type": "stream",
     "text": [
      "603338.SH updated from 20210114 to 20210115\n",
      "Time cost : 1.1321415901184082s\n"
     ]
    },
    {
     "name": "stderr",
     "output_type": "stream",
     "text": [
      "\n",
      " 64%|██████▎   | 1355/2129 [1:41:47<46:26,  3.60s/it]  "
     ]
    },
    {
     "name": "stdout",
     "output_type": "stream",
     "text": [
      "600803.SH updated from 20210114 to 20210115\n",
      "Time cost : 1.6898250579833984s\n"
     ]
    },
    {
     "name": "stderr",
     "output_type": "stream",
     "text": [
      "\n",
      " 64%|██████▎   | 1356/2129 [1:41:49<39:00,  3.03s/it]"
     ]
    },
    {
     "name": "stdout",
     "output_type": "stream",
     "text": [
      "603466.SH updated from 20210114 to 20210115\n",
      "Time cost : 5.3894569873809814s\n"
     ]
    },
    {
     "name": "stderr",
     "output_type": "stream",
     "text": [
      "\n",
      " 64%|██████▎   | 1357/2129 [1:41:54<48:04,  3.74s/it]"
     ]
    },
    {
     "name": "stdout",
     "output_type": "stream",
     "text": [
      "600999.SH updated from 20210114 to 20210115\n",
      "Time cost : 2.7307376861572266s\n"
     ]
    },
    {
     "name": "stderr",
     "output_type": "stream",
     "text": [
      "\n",
      " 64%|██████▍   | 1358/2129 [1:41:57<44:08,  3.44s/it]"
     ]
    },
    {
     "name": "stdout",
     "output_type": "stream",
     "text": [
      "002936.SZ updated from 20210114 to 20210115\n",
      "Time cost : 3.0052998065948486s\n"
     ]
    },
    {
     "name": "stderr",
     "output_type": "stream",
     "text": [
      "\n",
      " 64%|██████▍   | 1359/2129 [1:42:00<42:26,  3.31s/it]"
     ]
    },
    {
     "name": "stdout",
     "output_type": "stream",
     "text": [
      "300463.SZ updated from 20210114 to 20210115\n",
      "Time cost : 1.1052045822143555s\n"
     ]
    },
    {
     "name": "stderr",
     "output_type": "stream",
     "text": [
      "\n",
      " 64%|██████▍   | 1360/2129 [1:42:01<33:55,  2.65s/it]"
     ]
    },
    {
     "name": "stdout",
     "output_type": "stream",
     "text": [
      "603985.SH updated from 20210114 to 20210115\n",
      "Time cost : 4.323516845703125s\n"
     ]
    },
    {
     "name": "stderr",
     "output_type": "stream",
     "text": [
      "\n",
      " 64%|██████▍   | 1361/2129 [1:42:06<40:20,  3.15s/it]"
     ]
    },
    {
     "name": "stdout",
     "output_type": "stream",
     "text": [
      "300267.SZ updated from 20210114 to 20210115\n",
      "Time cost : 2.7330403327941895s\n"
     ]
    },
    {
     "name": "stderr",
     "output_type": "stream",
     "text": [
      "\n",
      " 64%|██████▍   | 1362/2129 [1:42:08<38:41,  3.03s/it]"
     ]
    },
    {
     "name": "stdout",
     "output_type": "stream",
     "text": [
      "601933.SH updated from 20210114 to 20210115\n",
      "Time cost : 2.361225128173828s\n"
     ]
    },
    {
     "name": "stderr",
     "output_type": "stream",
     "text": [
      "\n",
      " 64%|██████▍   | 1363/2129 [1:42:11<36:06,  2.83s/it]"
     ]
    },
    {
     "name": "stdout",
     "output_type": "stream",
     "text": [
      "601658.SH updated from 20210114 to 20210115\n",
      "Time cost : 11.774478912353516s\n"
     ]
    },
    {
     "name": "stderr",
     "output_type": "stream",
     "text": [
      "\n",
      " 64%|██████▍   | 1364/2129 [1:42:22<1:10:16,  5.51s/it]"
     ]
    },
    {
     "name": "stdout",
     "output_type": "stream",
     "text": [
      "002819.SZ updated from 20210114 to 20210115\n",
      "Time cost : 7.553461313247681s\n"
     ]
    },
    {
     "name": "stderr",
     "output_type": "stream",
     "text": [
      "\n",
      " 64%|██████▍   | 1365/2129 [1:42:30<1:17:59,  6.13s/it]"
     ]
    },
    {
     "name": "stdout",
     "output_type": "stream",
     "text": [
      "002424.SZ updated from 20210114 to 20210115\n",
      "Time cost : 12.219595432281494s\n"
     ]
    },
    {
     "name": "stderr",
     "output_type": "stream",
     "text": [
      "\n",
      " 64%|██████▍   | 1366/2129 [1:42:42<1:41:09,  7.95s/it]"
     ]
    },
    {
     "name": "stdout",
     "output_type": "stream",
     "text": [
      "002818.SZ updated from 20210114 to 20210115\n",
      "Time cost : 5.108803987503052s\n"
     ]
    },
    {
     "name": "stderr",
     "output_type": "stream",
     "text": [
      "\n",
      " 64%|██████▍   | 1367/2129 [1:42:47<1:30:11,  7.10s/it]"
     ]
    },
    {
     "name": "stdout",
     "output_type": "stream",
     "text": [
      "002792.SZ updated from 20210114 to 20210115\n",
      "Time cost : 3.649998188018799s\n"
     ]
    },
    {
     "name": "stderr",
     "output_type": "stream",
     "text": [
      "\n",
      " 64%|██████▍   | 1368/2129 [1:42:51<1:16:56,  6.07s/it]"
     ]
    },
    {
     "name": "stdout",
     "output_type": "stream",
     "text": [
      "300617.SZ updated from 20210114 to 20210115\n",
      "Time cost : 1.731062889099121s\n"
     ]
    },
    {
     "name": "stderr",
     "output_type": "stream",
     "text": [
      "\n",
      " 64%|██████▍   | 1369/2129 [1:42:53<1:00:22,  4.77s/it]"
     ]
    },
    {
     "name": "stdout",
     "output_type": "stream",
     "text": [
      "600863.SH updated from 20210114 to 20210115\n",
      "Time cost : 3.2541677951812744s\n"
     ]
    },
    {
     "name": "stderr",
     "output_type": "stream",
     "text": [
      "\n",
      " 64%|██████▍   | 1370/2129 [1:42:56<54:33,  4.31s/it]  "
     ]
    },
    {
     "name": "stdout",
     "output_type": "stream",
     "text": [
      "300568.SZ updated from 20210114 to 20210115\n",
      "Time cost : 5.5170159339904785s\n"
     ]
    },
    {
     "name": "stderr",
     "output_type": "stream",
     "text": [
      "\n",
      " 64%|██████▍   | 1371/2129 [1:43:02<59:03,  4.67s/it]"
     ]
    },
    {
     "name": "stdout",
     "output_type": "stream",
     "text": [
      "688368.SH updated from 20210114 to 20210115\n",
      "Time cost : 2.448918581008911s\n"
     ]
    },
    {
     "name": "stderr",
     "output_type": "stream",
     "text": [
      "\n",
      " 64%|██████▍   | 1372/2129 [1:43:04<50:33,  4.01s/it]"
     ]
    },
    {
     "name": "stdout",
     "output_type": "stream",
     "text": [
      "002372.SZ updated from 20210114 to 20210115\n",
      "Time cost : 6.79661750793457s\n"
     ]
    },
    {
     "name": "stderr",
     "output_type": "stream",
     "text": [
      "\n",
      " 64%|██████▍   | 1373/2129 [1:43:11<1:01:02,  4.85s/it]"
     ]
    },
    {
     "name": "stdout",
     "output_type": "stream",
     "text": [
      "002063.SZ updated from 20210114 to 20210115\n",
      "Time cost : 3.018251657485962s\n"
     ]
    },
    {
     "name": "stderr",
     "output_type": "stream",
     "text": [
      "\n",
      " 65%|██████▍   | 1374/2129 [1:43:14<54:04,  4.30s/it]  "
     ]
    },
    {
     "name": "stdout",
     "output_type": "stream",
     "text": [
      "003009.SZ updated from 20210114 to 20210115\n",
      "Time cost : 1.6353461742401123s\n"
     ]
    },
    {
     "name": "stderr",
     "output_type": "stream",
     "text": [
      "\n",
      " 65%|██████▍   | 1375/2129 [1:43:15<43:58,  3.50s/it]"
     ]
    },
    {
     "name": "stdout",
     "output_type": "stream",
     "text": [
      "600621.SH updated from 20210114 to 20210115\n",
      "Time cost : 2.9469499588012695s\n"
     ]
    },
    {
     "name": "stderr",
     "output_type": "stream",
     "text": [
      "\n",
      " 65%|██████▍   | 1376/2129 [1:43:18<41:50,  3.33s/it]"
     ]
    },
    {
     "name": "stdout",
     "output_type": "stream",
     "text": [
      "600581.SH updated from 20210114 to 20210115\n",
      "Time cost : 5.087460994720459s\n"
     ]
    },
    {
     "name": "stderr",
     "output_type": "stream",
     "text": [
      "\n",
      " 65%|██████▍   | 1377/2129 [1:43:23<48:23,  3.86s/it]"
     ]
    },
    {
     "name": "stdout",
     "output_type": "stream",
     "text": [
      "002263.SZ updated from 20210114 to 20210115\n",
      "Time cost : 2.5819315910339355s\n"
     ]
    },
    {
     "name": "stderr",
     "output_type": "stream",
     "text": [
      "\n",
      " 65%|██████▍   | 1378/2129 [1:43:26<43:31,  3.48s/it]"
     ]
    },
    {
     "name": "stdout",
     "output_type": "stream",
     "text": [
      "300676.SZ updated from 20210114 to 20210115\n",
      "Time cost : 4.4977803230285645s\n"
     ]
    },
    {
     "name": "stderr",
     "output_type": "stream",
     "text": [
      "\n",
      " 65%|██████▍   | 1379/2129 [1:43:31<47:18,  3.78s/it]"
     ]
    },
    {
     "name": "stdout",
     "output_type": "stream",
     "text": [
      "300080.SZ updated from 20210114 to 20210115\n",
      "Time cost : 5.263439178466797s\n"
     ]
    },
    {
     "name": "stderr",
     "output_type": "stream",
     "text": [
      "\n",
      " 65%|██████▍   | 1380/2129 [1:43:36<52:47,  4.23s/it]"
     ]
    },
    {
     "name": "stdout",
     "output_type": "stream",
     "text": [
      "002945.SZ updated from 20210114 to 20210115\n",
      "Time cost : 2.554441213607788s\n"
     ]
    },
    {
     "name": "stderr",
     "output_type": "stream",
     "text": [
      "\n",
      " 65%|██████▍   | 1381/2129 [1:43:38<46:27,  3.73s/it]"
     ]
    },
    {
     "name": "stdout",
     "output_type": "stream",
     "text": [
      "002589.SZ updated from 20210114 to 20210115\n",
      "Time cost : 5.448549509048462s\n"
     ]
    },
    {
     "name": "stderr",
     "output_type": "stream",
     "text": [
      "\n",
      " 65%|██████▍   | 1382/2129 [1:43:44<52:50,  4.24s/it]"
     ]
    },
    {
     "name": "stdout",
     "output_type": "stream",
     "text": [
      "000400.SZ updated from 20210114 to 20210115\n",
      "Time cost : 2.646876573562622s\n"
     ]
    },
    {
     "name": "stderr",
     "output_type": "stream",
     "text": [
      "\n",
      " 65%|██████▍   | 1383/2129 [1:43:46<46:49,  3.77s/it]"
     ]
    },
    {
     "name": "stdout",
     "output_type": "stream",
     "text": [
      "002481.SZ updated from 20210114 to 20210115\n",
      "Time cost : 23.24927854537964s\n"
     ]
    },
    {
     "name": "stderr",
     "output_type": "stream",
     "text": [
      "\n",
      " 65%|██████▌   | 1384/2129 [1:44:10<1:59:20,  9.61s/it]"
     ]
    },
    {
     "name": "stdout",
     "output_type": "stream",
     "text": [
      "002243.SZ updated from 20210114 to 20210115\n",
      "Time cost : 4.274687051773071s\n"
     ]
    },
    {
     "name": "stderr",
     "output_type": "stream",
     "text": [
      "\n",
      " 65%|██████▌   | 1385/2129 [1:44:14<1:39:20,  8.01s/it]"
     ]
    },
    {
     "name": "stdout",
     "output_type": "stream",
     "text": [
      "300059.SZ updated from 20210114 to 20210115\n",
      "Time cost : 4.625533819198608s\n"
     ]
    },
    {
     "name": "stderr",
     "output_type": "stream",
     "text": [
      "\n",
      " 65%|██████▌   | 1386/2129 [1:44:19<1:26:38,  7.00s/it]"
     ]
    },
    {
     "name": "stdout",
     "output_type": "stream",
     "text": [
      "688126.SH updated from 20210114 to 20210115\n",
      "Time cost : 11.297886848449707s\n"
     ]
    },
    {
     "name": "stderr",
     "output_type": "stream",
     "text": [
      "\n",
      " 65%|██████▌   | 1387/2129 [1:44:30<1:42:29,  8.29s/it]"
     ]
    },
    {
     "name": "stdout",
     "output_type": "stream",
     "text": [
      "000661.SZ updated from 20210114 to 20210115\n",
      "Time cost : 1.1573615074157715s\n"
     ]
    },
    {
     "name": "stderr",
     "output_type": "stream",
     "text": [
      "\n",
      " 65%|██████▌   | 1388/2129 [1:44:31<1:15:56,  6.15s/it]"
     ]
    },
    {
     "name": "stdout",
     "output_type": "stream",
     "text": [
      "600017.SH updated from 20210114 to 20210115\n",
      "Time cost : 2.918091297149658s\n"
     ]
    },
    {
     "name": "stderr",
     "output_type": "stream",
     "text": [
      "\n",
      " 65%|██████▌   | 1389/2129 [1:44:34<1:03:53,  5.18s/it]"
     ]
    },
    {
     "name": "stdout",
     "output_type": "stream",
     "text": [
      "601038.SH updated from 20210114 to 20210115\n",
      "Time cost : 5.5779502391815186s\n"
     ]
    },
    {
     "name": "stderr",
     "output_type": "stream",
     "text": [
      "\n",
      " 65%|██████▌   | 1390/2129 [1:44:40<1:05:16,  5.30s/it]"
     ]
    },
    {
     "name": "stdout",
     "output_type": "stream",
     "text": [
      "600313.SH updated from 20210114 to 20210115\n",
      "Time cost : 6.892642498016357s\n"
     ]
    },
    {
     "name": "stderr",
     "output_type": "stream",
     "text": [
      "\n",
      " 65%|██████▌   | 1391/2129 [1:44:46<1:11:04,  5.78s/it]"
     ]
    },
    {
     "name": "stdout",
     "output_type": "stream",
     "text": [
      "600157.SH updated from 20210114 to 20210115\n",
      "Time cost : 1.1786389350891113s\n"
     ]
    },
    {
     "name": "stderr",
     "output_type": "stream",
     "text": [
      "\n",
      " 65%|██████▌   | 1392/2129 [1:44:48<54:02,  4.40s/it]  "
     ]
    },
    {
     "name": "stdout",
     "output_type": "stream",
     "text": [
      "603212.SH updated from 20210114 to 20210115\n",
      "Time cost : 2.254598379135132s\n"
     ]
    },
    {
     "name": "stderr",
     "output_type": "stream",
     "text": [
      "\n",
      " 65%|██████▌   | 1393/2129 [1:44:50<46:04,  3.76s/it]"
     ]
    },
    {
     "name": "stdout",
     "output_type": "stream",
     "text": [
      "000612.SZ updated from 20210114 to 20210115\n",
      "Time cost : 29.25485634803772s\n"
     ]
    },
    {
     "name": "stderr",
     "output_type": "stream",
     "text": [
      "\n",
      " 65%|██████▌   | 1394/2129 [1:45:19<2:19:43, 11.41s/it]"
     ]
    },
    {
     "name": "stdout",
     "output_type": "stream",
     "text": [
      "601969.SH updated from 20210114 to 20210115\n",
      "Time cost : 5.145248651504517s\n"
     ]
    },
    {
     "name": "stderr",
     "output_type": "stream",
     "text": [
      "\n",
      " 66%|██████▌   | 1395/2129 [1:45:24<1:56:34,  9.53s/it]"
     ]
    },
    {
     "name": "stdout",
     "output_type": "stream",
     "text": [
      "300456.SZ updated from 20210114 to 20210115\n",
      "Time cost : 1.7246167659759521s\n"
     ]
    },
    {
     "name": "stderr",
     "output_type": "stream",
     "text": [
      "\n",
      " 66%|██████▌   | 1396/2129 [1:45:26<1:27:48,  7.19s/it]"
     ]
    },
    {
     "name": "stdout",
     "output_type": "stream",
     "text": [
      "000657.SZ updated from 20210114 to 20210115\n",
      "Time cost : 1.6572849750518799s\n"
     ]
    },
    {
     "name": "stderr",
     "output_type": "stream",
     "text": [
      "\n",
      " 66%|██████▌   | 1397/2129 [1:45:28<1:07:27,  5.53s/it]"
     ]
    },
    {
     "name": "stdout",
     "output_type": "stream",
     "text": [
      "688027.SH updated from 20210114 to 20210115\n",
      "Time cost : 6.37803053855896s\n"
     ]
    },
    {
     "name": "stderr",
     "output_type": "stream",
     "text": [
      "\n",
      " 66%|██████▌   | 1398/2129 [1:45:34<1:10:28,  5.78s/it]"
     ]
    },
    {
     "name": "stdout",
     "output_type": "stream",
     "text": [
      "688399.SH updated from 20210114 to 20210115\n",
      "Time cost : 1.704028606414795s\n"
     ]
    },
    {
     "name": "stderr",
     "output_type": "stream",
     "text": [
      "\n",
      " 66%|██████▌   | 1399/2129 [1:45:36<55:29,  4.56s/it]  "
     ]
    },
    {
     "name": "stdout",
     "output_type": "stream",
     "text": [
      "603737.SH updated from 20210114 to 20210115\n",
      "Time cost : 2.9830451011657715s\n"
     ]
    },
    {
     "name": "stderr",
     "output_type": "stream",
     "text": [
      "\n",
      " 66%|██████▌   | 1400/2129 [1:45:39<49:40,  4.09s/it]"
     ]
    },
    {
     "name": "stdout",
     "output_type": "stream",
     "text": [
      "002928.SZ updated from 20210114 to 20210115\n",
      "Time cost : 2.7168681621551514s\n"
     ]
    },
    {
     "name": "stderr",
     "output_type": "stream",
     "text": [
      "\n",
      " 66%|██████▌   | 1401/2129 [1:45:42<44:37,  3.68s/it]"
     ]
    },
    {
     "name": "stdout",
     "output_type": "stream",
     "text": [
      "002367.SZ updated from 20210114 to 20210115\n",
      "Time cost : 16.57046914100647s\n"
     ]
    },
    {
     "name": "stderr",
     "output_type": "stream",
     "text": [
      "\n",
      " 66%|██████▌   | 1402/2129 [1:45:58<1:31:25,  7.55s/it]"
     ]
    },
    {
     "name": "stdout",
     "output_type": "stream",
     "text": [
      "002001.SZ updated from 20210114 to 20210115\n",
      "Time cost : 17.009840726852417s\n"
     ]
    },
    {
     "name": "stderr",
     "output_type": "stream",
     "text": [
      "\n",
      " 66%|██████▌   | 1403/2129 [1:46:15<2:05:40, 10.39s/it]"
     ]
    },
    {
     "name": "stdout",
     "output_type": "stream",
     "text": [
      "002266.SZ updated from 20210114 to 20210115\n",
      "Time cost : 2.477217197418213s\n"
     ]
    },
    {
     "name": "stderr",
     "output_type": "stream",
     "text": [
      "\n",
      " 66%|██████▌   | 1404/2129 [1:46:18<1:36:50,  8.01s/it]"
     ]
    },
    {
     "name": "stdout",
     "output_type": "stream",
     "text": [
      "601717.SH updated from 20210114 to 20210115\n",
      "Time cost : 2.586916208267212s\n"
     ]
    },
    {
     "name": "stderr",
     "output_type": "stream",
     "text": [
      "\n",
      " 66%|██████▌   | 1405/2129 [1:46:20<1:17:04,  6.39s/it]"
     ]
    },
    {
     "name": "stdout",
     "output_type": "stream",
     "text": [
      "300735.SZ updated from 20210114 to 20210115\n",
      "Time cost : 3.9569787979125977s\n"
     ]
    },
    {
     "name": "stderr",
     "output_type": "stream",
     "text": [
      "\n",
      " 66%|██████▌   | 1406/2129 [1:46:24<1:08:11,  5.66s/it]"
     ]
    },
    {
     "name": "stdout",
     "output_type": "stream",
     "text": [
      "600699.SH updated from 20210114 to 20210115\n",
      "Time cost : 1.9713246822357178s\n"
     ]
    },
    {
     "name": "stderr",
     "output_type": "stream",
     "text": [
      "\n",
      " 66%|██████▌   | 1407/2129 [1:46:26<54:47,  4.55s/it]  "
     ]
    },
    {
     "name": "stdout",
     "output_type": "stream",
     "text": [
      "300474.SZ updated from 20210114 to 20210115\n",
      "Time cost : 2.104954957962036s\n"
     ]
    },
    {
     "name": "stderr",
     "output_type": "stream",
     "text": [
      "\n",
      " 66%|██████▌   | 1408/2129 [1:46:28<45:53,  3.82s/it]"
     ]
    },
    {
     "name": "stdout",
     "output_type": "stream",
     "text": [
      "600928.SH updated from 20210114 to 20210115\n",
      "Time cost : 2.249469518661499s\n"
     ]
    },
    {
     "name": "stderr",
     "output_type": "stream",
     "text": [
      "\n",
      " 66%|██████▌   | 1409/2129 [1:46:30<40:11,  3.35s/it]"
     ]
    },
    {
     "name": "stdout",
     "output_type": "stream",
     "text": [
      "600104.SH updated from 20210114 to 20210115\n",
      "Time cost : 2.155120372772217s\n"
     ]
    },
    {
     "name": "stderr",
     "output_type": "stream",
     "text": [
      "\n",
      " 66%|██████▌   | 1410/2129 [1:46:33<35:50,  2.99s/it]"
     ]
    },
    {
     "name": "stdout",
     "output_type": "stream",
     "text": [
      "300319.SZ updated from 20210114 to 20210115\n",
      "Time cost : 6.0644543170928955s\n"
     ]
    },
    {
     "name": "stderr",
     "output_type": "stream",
     "text": [
      "\n",
      " 66%|██████▋   | 1411/2129 [1:46:39<46:50,  3.91s/it]"
     ]
    },
    {
     "name": "stdout",
     "output_type": "stream",
     "text": [
      "601989.SH updated from 20210114 to 20210115\n",
      "Time cost : 2.1102375984191895s\n"
     ]
    },
    {
     "name": "stderr",
     "output_type": "stream",
     "text": [
      "\n",
      " 66%|██████▋   | 1412/2129 [1:46:41<40:18,  3.37s/it]"
     ]
    },
    {
     "name": "stdout",
     "output_type": "stream",
     "text": [
      "688101.SH updated from 20210114 to 20210115\n",
      "Time cost : 2.45767879486084s\n"
     ]
    },
    {
     "name": "stderr",
     "output_type": "stream",
     "text": [
      "\n",
      " 66%|██████▋   | 1413/2129 [1:46:43<36:58,  3.10s/it]"
     ]
    },
    {
     "name": "stdout",
     "output_type": "stream",
     "text": [
      "000589.SZ updated from 20210114 to 20210115\n",
      "Time cost : 2.8452353477478027s\n"
     ]
    },
    {
     "name": "stderr",
     "output_type": "stream",
     "text": [
      "\n",
      " 66%|██████▋   | 1414/2129 [1:46:46<36:01,  3.02s/it]"
     ]
    },
    {
     "name": "stdout",
     "output_type": "stream",
     "text": [
      "000676.SZ updated from 20210114 to 20210115\n",
      "Time cost : 26.113312482833862s\n"
     ]
    },
    {
     "name": "stderr",
     "output_type": "stream",
     "text": [
      "\n",
      " 66%|██████▋   | 1415/2129 [1:47:12<1:58:25,  9.95s/it]"
     ]
    },
    {
     "name": "stdout",
     "output_type": "stream",
     "text": [
      "688505.SH updated from 20210114 to 20210115\n",
      "Time cost : 5.0536134243011475s\n"
     ]
    },
    {
     "name": "stderr",
     "output_type": "stream",
     "text": [
      "\n",
      " 67%|██████▋   | 1416/2129 [1:47:17<1:40:48,  8.48s/it]"
     ]
    },
    {
     "name": "stdout",
     "output_type": "stream",
     "text": [
      "600639.SH updated from 20210114 to 20210115\n",
      "Time cost : 8.773465394973755s\n"
     ]
    },
    {
     "name": "stderr",
     "output_type": "stream",
     "text": [
      "\n",
      " 67%|██████▋   | 1417/2129 [1:47:26<1:41:42,  8.57s/it]"
     ]
    },
    {
     "name": "stdout",
     "output_type": "stream",
     "text": [
      "600835.SH updated from 20210114 to 20210115\n",
      "Time cost : 2.335742950439453s\n"
     ]
    },
    {
     "name": "stderr",
     "output_type": "stream",
     "text": [
      "\n",
      " 67%|██████▋   | 1418/2129 [1:47:28<1:19:24,  6.70s/it]"
     ]
    },
    {
     "name": "stdout",
     "output_type": "stream",
     "text": [
      "605116.SH updated from 20210114 to 20210115\n",
      "Time cost : 4.070607900619507s\n"
     ]
    },
    {
     "name": "stderr",
     "output_type": "stream",
     "text": [
      "\n",
      " 67%|██████▋   | 1419/2129 [1:47:32<1:09:58,  5.91s/it]"
     ]
    },
    {
     "name": "stdout",
     "output_type": "stream",
     "text": [
      "600248.SH updated from 20210114 to 20210115\n",
      "Time cost : 3.192713737487793s\n"
     ]
    },
    {
     "name": "stderr",
     "output_type": "stream",
     "text": [
      "\n",
      " 67%|██████▋   | 1420/2129 [1:47:36<1:00:14,  5.10s/it]"
     ]
    },
    {
     "name": "stdout",
     "output_type": "stream",
     "text": [
      "002727.SZ updated from 20210114 to 20210115\n",
      "Time cost : 3.0747902393341064s\n"
     ]
    },
    {
     "name": "stderr",
     "output_type": "stream",
     "text": [
      "\n",
      " 67%|██████▋   | 1421/2129 [1:47:39<52:59,  4.49s/it]  "
     ]
    },
    {
     "name": "stdout",
     "output_type": "stream",
     "text": [
      "002959.SZ updated from 20210114 to 20210115\n",
      "Time cost : 2.2466001510620117s\n"
     ]
    },
    {
     "name": "stderr",
     "output_type": "stream",
     "text": [
      "\n",
      " 67%|██████▋   | 1422/2129 [1:47:41<44:59,  3.82s/it]"
     ]
    },
    {
     "name": "stdout",
     "output_type": "stream",
     "text": [
      "603983.SH updated from 20210114 to 20210115\n",
      "Time cost : 2.379333734512329s\n"
     ]
    },
    {
     "name": "stderr",
     "output_type": "stream",
     "text": [
      "\n",
      " 67%|██████▋   | 1423/2129 [1:47:43<39:51,  3.39s/it]"
     ]
    },
    {
     "name": "stdout",
     "output_type": "stream",
     "text": [
      "300010.SZ updated from 20210114 to 20210115\n",
      "Time cost : 1.3251221179962158s\n"
     ]
    },
    {
     "name": "stderr",
     "output_type": "stream",
     "text": [
      "\n",
      " 67%|██████▋   | 1424/2129 [1:47:45<32:32,  2.77s/it]"
     ]
    },
    {
     "name": "stdout",
     "output_type": "stream",
     "text": [
      "002414.SZ updated from 20210114 to 20210115\n",
      "Time cost : 1.8967750072479248s\n"
     ]
    },
    {
     "name": "stderr",
     "output_type": "stream",
     "text": [
      "\n",
      " 67%|██████▋   | 1425/2129 [1:47:47<29:25,  2.51s/it]"
     ]
    },
    {
     "name": "stdout",
     "output_type": "stream",
     "text": [
      "603179.SH updated from 20210114 to 20210115\n",
      "Time cost : 1.681668996810913s\n"
     ]
    },
    {
     "name": "stderr",
     "output_type": "stream",
     "text": [
      "\n",
      " 67%|██████▋   | 1426/2129 [1:47:48<26:29,  2.26s/it]"
     ]
    },
    {
     "name": "stdout",
     "output_type": "stream",
     "text": [
      "002755.SZ updated from 20210114 to 20210115\n",
      "Time cost : 6.018857479095459s\n"
     ]
    },
    {
     "name": "stderr",
     "output_type": "stream",
     "text": [
      "\n",
      " 67%|██████▋   | 1427/2129 [1:47:54<39:38,  3.39s/it]"
     ]
    },
    {
     "name": "stdout",
     "output_type": "stream",
     "text": [
      "600426.SH updated from 20210114 to 20210115\n",
      "Time cost : 9.818059206008911s\n"
     ]
    },
    {
     "name": "stderr",
     "output_type": "stream",
     "text": [
      "\n",
      " 67%|██████▋   | 1428/2129 [1:48:04<1:02:08,  5.32s/it]"
     ]
    },
    {
     "name": "stdout",
     "output_type": "stream",
     "text": [
      "300006.SZ updated from 20210114 to 20210115\n",
      "Time cost : 1.7160589694976807s\n"
     ]
    },
    {
     "name": "stderr",
     "output_type": "stream",
     "text": [
      "\n",
      " 67%|██████▋   | 1429/2129 [1:48:06<49:26,  4.24s/it]  "
     ]
    },
    {
     "name": "stdout",
     "output_type": "stream",
     "text": [
      "000544.SZ updated from 20210114 to 20210115\n",
      "Time cost : 2.8031585216522217s\n"
     ]
    },
    {
     "name": "stderr",
     "output_type": "stream",
     "text": [
      "\n",
      " 67%|██████▋   | 1430/2129 [1:48:09<44:22,  3.81s/it]"
     ]
    },
    {
     "name": "stdout",
     "output_type": "stream",
     "text": [
      "000681.SZ updated from 20210114 to 20210115\n",
      "Time cost : 2.183994770050049s\n"
     ]
    },
    {
     "name": "stderr",
     "output_type": "stream",
     "text": [
      "\n",
      " 67%|██████▋   | 1431/2129 [1:48:11<38:38,  3.32s/it]"
     ]
    },
    {
     "name": "stdout",
     "output_type": "stream",
     "text": [
      "600909.SH updated from 20210114 to 20210115\n",
      "Time cost : 2.893996477127075s\n"
     ]
    },
    {
     "name": "stderr",
     "output_type": "stream",
     "text": [
      "\n",
      " 67%|██████▋   | 1432/2129 [1:48:14<37:06,  3.19s/it]"
     ]
    },
    {
     "name": "stdout",
     "output_type": "stream",
     "text": [
      "300194.SZ updated from 20210114 to 20210115\n",
      "Time cost : 4.952723741531372s\n"
     ]
    },
    {
     "name": "stderr",
     "output_type": "stream",
     "text": [
      "\n",
      " 67%|██████▋   | 1433/2129 [1:48:19<43:10,  3.72s/it]"
     ]
    },
    {
     "name": "stdout",
     "output_type": "stream",
     "text": [
      "002948.SZ updated from 20210114 to 20210115\n",
      "Time cost : 6.763066053390503s\n"
     ]
    },
    {
     "name": "stderr",
     "output_type": "stream",
     "text": [
      "\n",
      " 67%|██████▋   | 1434/2129 [1:48:25<53:41,  4.64s/it]"
     ]
    },
    {
     "name": "stdout",
     "output_type": "stream",
     "text": [
      "688037.SH updated from 20210114 to 20210115\n",
      "Time cost : 2.5522947311401367s\n"
     ]
    },
    {
     "name": "stderr",
     "output_type": "stream",
     "text": [
      "\n",
      " 67%|██████▋   | 1435/2129 [1:48:28<46:23,  4.01s/it]"
     ]
    },
    {
     "name": "stdout",
     "output_type": "stream",
     "text": [
      "603590.SH updated from 20210114 to 20210115\n",
      "Time cost : 1.9007439613342285s\n"
     ]
    },
    {
     "name": "stderr",
     "output_type": "stream",
     "text": [
      "\n",
      " 67%|██████▋   | 1436/2129 [1:48:30<39:01,  3.38s/it]"
     ]
    },
    {
     "name": "stdout",
     "output_type": "stream",
     "text": [
      "600578.SH updated from 20210114 to 20210115\n",
      "Time cost : 1.9582390785217285s\n"
     ]
    },
    {
     "name": "stderr",
     "output_type": "stream",
     "text": [
      "\n",
      " 67%|██████▋   | 1437/2129 [1:48:32<34:03,  2.95s/it]"
     ]
    },
    {
     "name": "stdout",
     "output_type": "stream",
     "text": [
      "300685.SZ updated from 20210114 to 20210115\n",
      "Time cost : 2.5452613830566406s\n"
     ]
    },
    {
     "name": "stderr",
     "output_type": "stream",
     "text": [
      "\n",
      " 68%|██████▊   | 1438/2129 [1:48:34<32:36,  2.83s/it]"
     ]
    },
    {
     "name": "stdout",
     "output_type": "stream",
     "text": [
      "601155.SH updated from 20210114 to 20210115\n",
      "Time cost : 3.012129306793213s\n"
     ]
    },
    {
     "name": "stderr",
     "output_type": "stream",
     "text": [
      "\n",
      " 68%|██████▊   | 1439/2129 [1:48:37<33:11,  2.89s/it]"
     ]
    },
    {
     "name": "stdout",
     "output_type": "stream",
     "text": [
      "300842.SZ updated from 20210114 to 20210115\n",
      "Time cost : 2.9222757816314697s\n"
     ]
    },
    {
     "name": "stderr",
     "output_type": "stream",
     "text": [
      "\n",
      " 68%|██████▊   | 1440/2129 [1:48:40<33:16,  2.90s/it]"
     ]
    },
    {
     "name": "stdout",
     "output_type": "stream",
     "text": [
      "000961.SZ updated from 20210114 to 20210115\n",
      "Time cost : 10.17458176612854s\n"
     ]
    },
    {
     "name": "stderr",
     "output_type": "stream",
     "text": [
      "\n",
      " 68%|██████▊   | 1441/2129 [1:48:51<58:16,  5.08s/it]"
     ]
    },
    {
     "name": "stdout",
     "output_type": "stream",
     "text": [
      "603885.SH updated from 20210114 to 20210115\n",
      "Time cost : 4.307177782058716s\n"
     ]
    },
    {
     "name": "stderr",
     "output_type": "stream",
     "text": [
      "\n",
      " 68%|██████▊   | 1442/2129 [1:48:55<55:32,  4.85s/it]"
     ]
    },
    {
     "name": "stdout",
     "output_type": "stream",
     "text": [
      "300579.SZ updated from 20210114 to 20210115\n",
      "Time cost : 16.20670175552368s\n"
     ]
    },
    {
     "name": "stderr",
     "output_type": "stream",
     "text": [
      "\n",
      " 68%|██████▊   | 1443/2129 [1:49:11<1:34:24,  8.26s/it]"
     ]
    },
    {
     "name": "stdout",
     "output_type": "stream",
     "text": [
      "002990.SZ updated from 20210114 to 20210115\n",
      "Time cost : 3.923356771469116s\n"
     ]
    },
    {
     "name": "stderr",
     "output_type": "stream",
     "text": [
      "\n",
      " 68%|██████▊   | 1444/2129 [1:49:15<1:19:26,  6.96s/it]"
     ]
    },
    {
     "name": "stdout",
     "output_type": "stream",
     "text": [
      "300326.SZ updated from 20210114 to 20210115\n",
      "Time cost : 3.0359976291656494s\n"
     ]
    },
    {
     "name": "stderr",
     "output_type": "stream",
     "text": [
      "\n",
      " 68%|██████▊   | 1445/2129 [1:49:18<1:05:54,  5.78s/it]"
     ]
    },
    {
     "name": "stdout",
     "output_type": "stream",
     "text": [
      "600328.SH updated from 20210114 to 20210115\n",
      "Time cost : 3.267261028289795s\n"
     ]
    },
    {
     "name": "stderr",
     "output_type": "stream",
     "text": [
      "\n",
      " 68%|██████▊   | 1446/2129 [1:49:21<57:14,  5.03s/it]  "
     ]
    },
    {
     "name": "stdout",
     "output_type": "stream",
     "text": [
      "600970.SH updated from 20210114 to 20210115\n",
      "Time cost : 1.9676318168640137s\n"
     ]
    },
    {
     "name": "stderr",
     "output_type": "stream",
     "text": [
      "\n",
      " 68%|██████▊   | 1447/2129 [1:49:23<46:43,  4.11s/it]"
     ]
    },
    {
     "name": "stdout",
     "output_type": "stream",
     "text": [
      "603359.SH updated from 20210114 to 20210115\n",
      "Time cost : 2.6816842555999756s\n"
     ]
    },
    {
     "name": "stderr",
     "output_type": "stream",
     "text": [
      "\n",
      " 68%|██████▊   | 1448/2129 [1:49:26<41:47,  3.68s/it]"
     ]
    },
    {
     "name": "stdout",
     "output_type": "stream",
     "text": [
      "300655.SZ updated from 20210114 to 20210115\n",
      "Time cost : 16.712778091430664s\n"
     ]
    },
    {
     "name": "stderr",
     "output_type": "stream",
     "text": [
      "\n",
      " 68%|██████▊   | 1449/2129 [1:49:43<1:26:02,  7.59s/it]"
     ]
    },
    {
     "name": "stdout",
     "output_type": "stream",
     "text": [
      "603233.SH updated from 20210114 to 20210115\n",
      "Time cost : 4.104903221130371s\n"
     ]
    },
    {
     "name": "stderr",
     "output_type": "stream",
     "text": [
      "\n",
      " 68%|██████▊   | 1450/2129 [1:49:47<1:14:05,  6.55s/it]"
     ]
    },
    {
     "name": "stdout",
     "output_type": "stream",
     "text": [
      "600395.SH updated from 20210114 to 20210115\n",
      "Time cost : 5.67805814743042s\n"
     ]
    },
    {
     "name": "stderr",
     "output_type": "stream",
     "text": [
      "\n",
      " 68%|██████▊   | 1451/2129 [1:49:52<1:11:02,  6.29s/it]"
     ]
    },
    {
     "name": "stdout",
     "output_type": "stream",
     "text": [
      "601890.SH updated from 20210114 to 20210115\n",
      "Time cost : 4.716098308563232s\n"
     ]
    },
    {
     "name": "stderr",
     "output_type": "stream",
     "text": [
      "\n",
      " 68%|██████▊   | 1452/2129 [1:49:57<1:05:37,  5.82s/it]"
     ]
    },
    {
     "name": "stdout",
     "output_type": "stream",
     "text": [
      "003031.SZ updated from 20210114 to 20210115\n",
      "Time cost : 2.4929754734039307s\n"
     ]
    },
    {
     "name": "stderr",
     "output_type": "stream",
     "text": [
      "\n",
      " 68%|██████▊   | 1453/2129 [1:50:00<54:18,  4.82s/it]  "
     ]
    },
    {
     "name": "stdout",
     "output_type": "stream",
     "text": [
      "601800.SH updated from 20210114 to 20210115\n",
      "Time cost : 1.704949140548706s\n"
     ]
    },
    {
     "name": "stderr",
     "output_type": "stream",
     "text": [
      "\n",
      " 68%|██████▊   | 1454/2129 [1:50:01<43:42,  3.89s/it]"
     ]
    },
    {
     "name": "stdout",
     "output_type": "stream",
     "text": [
      "603568.SH updated from 20210114 to 20210115\n",
      "Time cost : 3.7860357761383057s\n"
     ]
    },
    {
     "name": "stderr",
     "output_type": "stream",
     "text": [
      "\n",
      " 68%|██████▊   | 1455/2129 [1:50:05<43:19,  3.86s/it]"
     ]
    },
    {
     "name": "stdout",
     "output_type": "stream",
     "text": [
      "600673.SH updated from 20210114 to 20210115\n",
      "Time cost : 9.53467869758606s\n"
     ]
    },
    {
     "name": "stderr",
     "output_type": "stream",
     "text": [
      "\n",
      " 68%|██████▊   | 1456/2129 [1:50:15<1:02:22,  5.56s/it]"
     ]
    },
    {
     "name": "stdout",
     "output_type": "stream",
     "text": [
      "002647.SZ updated from 20210114 to 20210115\n",
      "Time cost : 1.0951907634735107s\n"
     ]
    },
    {
     "name": "stderr",
     "output_type": "stream",
     "text": [
      "\n",
      " 68%|██████▊   | 1457/2129 [1:50:16<47:16,  4.22s/it]  "
     ]
    },
    {
     "name": "stdout",
     "output_type": "stream",
     "text": [
      "600116.SH updated from 20210114 to 20210115\n",
      "Time cost : 1.7040657997131348s\n"
     ]
    },
    {
     "name": "stderr",
     "output_type": "stream",
     "text": [
      "\n",
      " 68%|██████▊   | 1458/2129 [1:50:17<38:46,  3.47s/it]"
     ]
    },
    {
     "name": "stdout",
     "output_type": "stream",
     "text": [
      "603718.SH updated from 20210114 to 20210115\n",
      "Time cost : 2.180899143218994s\n"
     ]
    },
    {
     "name": "stderr",
     "output_type": "stream",
     "text": [
      "\n",
      " 69%|██████▊   | 1459/2129 [1:50:20<34:24,  3.08s/it]"
     ]
    },
    {
     "name": "stdout",
     "output_type": "stream",
     "text": [
      "600273.SH updated from 20210114 to 20210115\n",
      "Time cost : 5.158648490905762s\n"
     ]
    },
    {
     "name": "stderr",
     "output_type": "stream",
     "text": [
      "\n",
      " 69%|██████▊   | 1460/2129 [1:50:25<41:18,  3.71s/it]"
     ]
    },
    {
     "name": "stdout",
     "output_type": "stream",
     "text": [
      "601077.SH updated from 20210114 to 20210115\n",
      "Time cost : 2.2475290298461914s\n"
     ]
    },
    {
     "name": "stderr",
     "output_type": "stream",
     "text": [
      "\n",
      " 69%|██████▊   | 1461/2129 [1:50:27<36:23,  3.27s/it]"
     ]
    },
    {
     "name": "stdout",
     "output_type": "stream",
     "text": [
      "600801.SH updated from 20210114 to 20210115\n",
      "Time cost : 2.564053535461426s\n"
     ]
    },
    {
     "name": "stderr",
     "output_type": "stream",
     "text": [
      "\n",
      " 69%|██████▊   | 1462/2129 [1:50:30<33:59,  3.06s/it]"
     ]
    },
    {
     "name": "stdout",
     "output_type": "stream",
     "text": [
      "300244.SZ updated from 20210114 to 20210115\n",
      "Time cost : 5.404532432556152s\n"
     ]
    },
    {
     "name": "stderr",
     "output_type": "stream",
     "text": [
      "\n",
      " 69%|██████▊   | 1463/2129 [1:50:35<41:45,  3.76s/it]"
     ]
    },
    {
     "name": "stdout",
     "output_type": "stream",
     "text": [
      "300896.SZ updated from 20210114 to 20210115\n",
      "Time cost : 6.715153694152832s\n"
     ]
    },
    {
     "name": "stderr",
     "output_type": "stream",
     "text": [
      "\n",
      " 69%|██████▉   | 1464/2129 [1:50:42<51:31,  4.65s/it]"
     ]
    },
    {
     "name": "stdout",
     "output_type": "stream",
     "text": [
      "300687.SZ updated from 20210114 to 20210115\n",
      "Time cost : 5.124358654022217s\n"
     ]
    },
    {
     "name": "stderr",
     "output_type": "stream",
     "text": [
      "\n",
      " 69%|██████▉   | 1465/2129 [1:50:47<53:02,  4.79s/it]"
     ]
    },
    {
     "name": "stdout",
     "output_type": "stream",
     "text": [
      "600850.SH updated from 20210114 to 20210115\n",
      "Time cost : 3.579343795776367s\n"
     ]
    },
    {
     "name": "stderr",
     "output_type": "stream",
     "text": [
      "\n",
      " 69%|██████▉   | 1466/2129 [1:50:50<48:56,  4.43s/it]"
     ]
    },
    {
     "name": "stdout",
     "output_type": "stream",
     "text": [
      "300677.SZ updated from 20210114 to 20210115\n",
      "Time cost : 1.1132285594940186s\n"
     ]
    },
    {
     "name": "stderr",
     "output_type": "stream",
     "text": [
      "\n",
      " 69%|██████▉   | 1467/2129 [1:50:52<37:53,  3.44s/it]"
     ]
    },
    {
     "name": "stdout",
     "output_type": "stream",
     "text": [
      "300058.SZ updated from 20210114 to 20210115\n",
      "Time cost : 5.633400917053223s\n"
     ]
    },
    {
     "name": "stderr",
     "output_type": "stream",
     "text": [
      "\n",
      " 69%|██████▉   | 1468/2129 [1:50:57<45:06,  4.10s/it]"
     ]
    },
    {
     "name": "stdout",
     "output_type": "stream",
     "text": [
      "002614.SZ updated from 20210114 to 20210115\n",
      "Time cost : 2.522449016571045s\n"
     ]
    },
    {
     "name": "stderr",
     "output_type": "stream",
     "text": [
      "\n",
      " 69%|██████▉   | 1469/2129 [1:51:00<39:51,  3.62s/it]"
     ]
    },
    {
     "name": "stdout",
     "output_type": "stream",
     "text": [
      "000713.SZ updated from 20210114 to 20210115\n",
      "Time cost : 4.377656936645508s\n"
     ]
    },
    {
     "name": "stderr",
     "output_type": "stream",
     "text": [
      "\n",
      " 69%|██████▉   | 1470/2129 [1:51:04<42:17,  3.85s/it]"
     ]
    },
    {
     "name": "stdout",
     "output_type": "stream",
     "text": [
      "600491.SH updated from 20210114 to 20210115\n",
      "Time cost : 6.950133800506592s\n"
     ]
    },
    {
     "name": "stderr",
     "output_type": "stream",
     "text": [
      "\n",
      " 69%|██████▉   | 1471/2129 [1:51:11<52:25,  4.78s/it]"
     ]
    },
    {
     "name": "stdout",
     "output_type": "stream",
     "text": [
      "601633.SH updated from 20210114 to 20210115\n",
      "Time cost : 8.701866626739502s\n"
     ]
    },
    {
     "name": "stderr",
     "output_type": "stream",
     "text": [
      "\n",
      " 69%|██████▉   | 1472/2129 [1:51:20<1:05:14,  5.96s/it]"
     ]
    },
    {
     "name": "stdout",
     "output_type": "stream",
     "text": [
      "002408.SZ updated from 20210114 to 20210115\n",
      "Time cost : 2.881138801574707s\n"
     ]
    },
    {
     "name": "stderr",
     "output_type": "stream",
     "text": [
      "\n",
      " 69%|██████▉   | 1473/2129 [1:51:23<55:03,  5.04s/it]  "
     ]
    },
    {
     "name": "stdout",
     "output_type": "stream",
     "text": [
      "603208.SH updated from 20210114 to 20210115\n",
      "Time cost : 2.6962969303131104s\n"
     ]
    },
    {
     "name": "stderr",
     "output_type": "stream",
     "text": [
      "\n",
      " 69%|██████▉   | 1474/2129 [1:51:25<47:19,  4.33s/it]"
     ]
    },
    {
     "name": "stdout",
     "output_type": "stream",
     "text": [
      "600160.SH updated from 20210114 to 20210115\n",
      "Time cost : 2.740971088409424s\n"
     ]
    },
    {
     "name": "stderr",
     "output_type": "stream",
     "text": [
      "\n",
      " 69%|██████▉   | 1475/2129 [1:51:28<42:02,  3.86s/it]"
     ]
    },
    {
     "name": "stdout",
     "output_type": "stream",
     "text": [
      "600382.SH updated from 20210114 to 20210115\n",
      "Time cost : 1.153186321258545s\n"
     ]
    },
    {
     "name": "stderr",
     "output_type": "stream",
     "text": [
      "\n",
      " 69%|██████▉   | 1476/2129 [1:51:29<33:09,  3.05s/it]"
     ]
    },
    {
     "name": "stdout",
     "output_type": "stream",
     "text": [
      "601985.SH updated from 20210114 to 20210115\n",
      "Time cost : 2.1991829872131348s\n"
     ]
    },
    {
     "name": "stderr",
     "output_type": "stream",
     "text": [
      "\n",
      " 69%|██████▉   | 1477/2129 [1:51:31<30:20,  2.79s/it]"
     ]
    },
    {
     "name": "stdout",
     "output_type": "stream",
     "text": [
      "600606.SH updated from 20210114 to 20210115\n",
      "Time cost : 4.6842451095581055s\n"
     ]
    },
    {
     "name": "stderr",
     "output_type": "stream",
     "text": [
      "\n",
      " 69%|██████▉   | 1478/2129 [1:51:36<36:27,  3.36s/it]"
     ]
    },
    {
     "name": "stdout",
     "output_type": "stream",
     "text": [
      "300313.SZ updated from 20210114 to 20210115\n",
      "Time cost : 1.1164038181304932s\n"
     ]
    },
    {
     "name": "stderr",
     "output_type": "stream",
     "text": [
      "\n",
      " 69%|██████▉   | 1479/2129 [1:51:37<29:07,  2.69s/it]"
     ]
    },
    {
     "name": "stdout",
     "output_type": "stream",
     "text": [
      "002436.SZ updated from 20210114 to 20210115\n",
      "Time cost : 1.9160194396972656s\n"
     ]
    },
    {
     "name": "stderr",
     "output_type": "stream",
     "text": [
      "\n",
      " 70%|██████▉   | 1480/2129 [1:51:39<26:34,  2.46s/it]"
     ]
    },
    {
     "name": "stdout",
     "output_type": "stream",
     "text": [
      "600958.SH updated from 20210114 to 20210115\n",
      "Time cost : 3.0268495082855225s\n"
     ]
    },
    {
     "name": "stderr",
     "output_type": "stream",
     "text": [
      "\n",
      " 70%|██████▉   | 1481/2129 [1:51:42<28:23,  2.63s/it]"
     ]
    },
    {
     "name": "stdout",
     "output_type": "stream",
     "text": [
      "002416.SZ updated from 20210114 to 20210115\n",
      "Time cost : 2.2750792503356934s\n"
     ]
    },
    {
     "name": "stderr",
     "output_type": "stream",
     "text": [
      "\n",
      " 70%|██████▉   | 1482/2129 [1:51:44<27:12,  2.52s/it]"
     ]
    },
    {
     "name": "stdout",
     "output_type": "stream",
     "text": [
      "600810.SH updated from 20210114 to 20210115\n",
      "Time cost : 2.1668429374694824s\n"
     ]
    },
    {
     "name": "stderr",
     "output_type": "stream",
     "text": [
      "\n",
      " 70%|██████▉   | 1483/2129 [1:51:47<26:01,  2.42s/it]"
     ]
    },
    {
     "name": "stdout",
     "output_type": "stream",
     "text": [
      "300073.SZ updated from 20210114 to 20210115\n",
      "Time cost : 2.438016414642334s\n"
     ]
    },
    {
     "name": "stderr",
     "output_type": "stream",
     "text": [
      "\n",
      " 70%|██████▉   | 1484/2129 [1:51:49<26:03,  2.42s/it]"
     ]
    },
    {
     "name": "stdout",
     "output_type": "stream",
     "text": [
      "603180.SH updated from 20210114 to 20210115\n",
      "Time cost : 2.1554999351501465s\n"
     ]
    },
    {
     "name": "stderr",
     "output_type": "stream",
     "text": [
      "\n",
      " 70%|██████▉   | 1485/2129 [1:51:51<25:09,  2.34s/it]"
     ]
    },
    {
     "name": "stdout",
     "output_type": "stream",
     "text": [
      "003021.SZ updated from 20210114 to 20210115\n",
      "Time cost : 2.464301824569702s\n"
     ]
    },
    {
     "name": "stderr",
     "output_type": "stream",
     "text": [
      "\n",
      " 70%|██████▉   | 1486/2129 [1:51:54<25:30,  2.38s/it]"
     ]
    },
    {
     "name": "stdout",
     "output_type": "stream",
     "text": [
      "600259.SH updated from 20210114 to 20210115\n",
      "Time cost : 5.977068901062012s\n"
     ]
    },
    {
     "name": "stderr",
     "output_type": "stream",
     "text": [
      "\n",
      " 70%|██████▉   | 1487/2129 [1:52:00<37:01,  3.46s/it]"
     ]
    },
    {
     "name": "stdout",
     "output_type": "stream",
     "text": [
      "300122.SZ updated from 20210114 to 20210115\n",
      "Time cost : 2.3683173656463623s\n"
     ]
    },
    {
     "name": "stderr",
     "output_type": "stream",
     "text": [
      "\n",
      " 70%|██████▉   | 1488/2129 [1:52:02<33:28,  3.13s/it]"
     ]
    },
    {
     "name": "stdout",
     "output_type": "stream",
     "text": [
      "002419.SZ updated from 20210114 to 20210115\n",
      "Time cost : 8.728893756866455s\n"
     ]
    },
    {
     "name": "stderr",
     "output_type": "stream",
     "text": [
      "\n",
      " 70%|██████▉   | 1489/2129 [1:52:11<51:20,  4.81s/it]"
     ]
    },
    {
     "name": "stdout",
     "output_type": "stream",
     "text": [
      "600893.SH updated from 20210114 to 20210115\n",
      "Time cost : 5.209559679031372s\n"
     ]
    },
    {
     "name": "stderr",
     "output_type": "stream",
     "text": [
      "\n",
      " 70%|██████▉   | 1490/2129 [1:52:16<52:31,  4.93s/it]"
     ]
    },
    {
     "name": "stdout",
     "output_type": "stream",
     "text": [
      "688199.SH updated from 20210114 to 20210115\n",
      "Time cost : 4.653055906295776s\n"
     ]
    },
    {
     "name": "stderr",
     "output_type": "stream",
     "text": [
      "\n",
      " 70%|███████   | 1491/2129 [1:52:21<51:33,  4.85s/it]"
     ]
    },
    {
     "name": "stdout",
     "output_type": "stream",
     "text": [
      "603087.SH updated from 20210114 to 20210115\n",
      "Time cost : 2.6840617656707764s\n"
     ]
    },
    {
     "name": "stderr",
     "output_type": "stream",
     "text": [
      "\n",
      " 70%|███████   | 1492/2129 [1:52:23<44:35,  4.20s/it]"
     ]
    },
    {
     "name": "stdout",
     "output_type": "stream",
     "text": [
      "600823.SH updated from 20210114 to 20210115\n",
      "Time cost : 1.168787956237793s\n"
     ]
    },
    {
     "name": "stderr",
     "output_type": "stream",
     "text": [
      "\n",
      " 70%|███████   | 1493/2129 [1:52:25<34:53,  3.29s/it]"
     ]
    },
    {
     "name": "stdout",
     "output_type": "stream",
     "text": [
      "300180.SZ updated from 20210114 to 20210115\n",
      "Time cost : 7.562036514282227s\n"
     ]
    },
    {
     "name": "stderr",
     "output_type": "stream",
     "text": [
      "\n",
      " 70%|███████   | 1494/2129 [1:52:32<48:24,  4.57s/it]"
     ]
    },
    {
     "name": "stdout",
     "output_type": "stream",
     "text": [
      "002262.SZ updated from 20210114 to 20210115\n",
      "Time cost : 3.792166233062744s\n"
     ]
    },
    {
     "name": "stderr",
     "output_type": "stream",
     "text": [
      "\n",
      " 70%|███████   | 1495/2129 [1:52:36<45:51,  4.34s/it]"
     ]
    },
    {
     "name": "stdout",
     "output_type": "stream",
     "text": [
      "300324.SZ updated from 20210114 to 20210115\n",
      "Time cost : 2.9865267276763916s\n"
     ]
    },
    {
     "name": "stderr",
     "output_type": "stream",
     "text": [
      "\n",
      " 70%|███████   | 1496/2129 [1:52:39<41:30,  3.93s/it]"
     ]
    },
    {
     "name": "stdout",
     "output_type": "stream",
     "text": [
      "688002.SH updated from 20210114 to 20210115\n",
      "Time cost : 1.9223015308380127s\n"
     ]
    },
    {
     "name": "stderr",
     "output_type": "stream",
     "text": [
      "\n",
      " 70%|███████   | 1497/2129 [1:52:41<35:05,  3.33s/it]"
     ]
    },
    {
     "name": "stdout",
     "output_type": "stream",
     "text": [
      "300257.SZ updated from 20210114 to 20210115\n",
      "Time cost : 2.9344215393066406s\n"
     ]
    },
    {
     "name": "stderr",
     "output_type": "stream",
     "text": [
      "\n",
      " 70%|███████   | 1498/2129 [1:52:44<33:47,  3.21s/it]"
     ]
    },
    {
     "name": "stdout",
     "output_type": "stream",
     "text": [
      "002127.SZ updated from 20210114 to 20210115\n",
      "Time cost : 2.931143283843994s\n"
     ]
    },
    {
     "name": "stderr",
     "output_type": "stream",
     "text": [
      "\n",
      " 70%|███████   | 1499/2129 [1:52:47<32:51,  3.13s/it]"
     ]
    },
    {
     "name": "stdout",
     "output_type": "stream",
     "text": [
      "603328.SH updated from 20210114 to 20210115\n",
      "Time cost : 4.408812999725342s\n"
     ]
    },
    {
     "name": "stderr",
     "output_type": "stream",
     "text": [
      "\n",
      " 70%|███████   | 1500/2129 [1:52:51<36:50,  3.51s/it]"
     ]
    },
    {
     "name": "stdout",
     "output_type": "stream",
     "text": [
      "600884.SH updated from 20210114 to 20210115\n",
      "Time cost : 14.175947427749634s\n"
     ]
    },
    {
     "name": "stderr",
     "output_type": "stream",
     "text": [
      "\n",
      " 71%|███████   | 1501/2129 [1:53:05<1:10:15,  6.71s/it]"
     ]
    },
    {
     "name": "stdout",
     "output_type": "stream",
     "text": [
      "002237.SZ updated from 20210114 to 20210115\n",
      "Time cost : 3.6560659408569336s\n"
     ]
    },
    {
     "name": "stderr",
     "output_type": "stream",
     "text": [
      "\n",
      " 71%|███████   | 1502/2129 [1:53:09<1:00:34,  5.80s/it]"
     ]
    },
    {
     "name": "stdout",
     "output_type": "stream",
     "text": [
      "300113.SZ updated from 20210114 to 20210115\n",
      "Time cost : 2.7039692401885986s\n"
     ]
    },
    {
     "name": "stderr",
     "output_type": "stream",
     "text": [
      "\n",
      " 71%|███████   | 1503/2129 [1:53:12<50:48,  4.87s/it]  "
     ]
    },
    {
     "name": "stdout",
     "output_type": "stream",
     "text": [
      "600797.SH updated from 20210114 to 20210115\n",
      "Time cost : 1.910909652709961s\n"
     ]
    },
    {
     "name": "stderr",
     "output_type": "stream",
     "text": [
      "\n",
      " 71%|███████   | 1504/2129 [1:53:14<41:29,  3.98s/it]"
     ]
    },
    {
     "name": "stdout",
     "output_type": "stream",
     "text": [
      "603127.SH updated from 20210114 to 20210115\n",
      "Time cost : 1.895918369293213s\n"
     ]
    },
    {
     "name": "stderr",
     "output_type": "stream",
     "text": [
      "\n",
      " 71%|███████   | 1505/2129 [1:53:15<34:54,  3.36s/it]"
     ]
    },
    {
     "name": "stdout",
     "output_type": "stream",
     "text": [
      "002191.SZ updated from 20210114 to 20210115\n",
      "Time cost : 1.131505012512207s\n"
     ]
    },
    {
     "name": "stderr",
     "output_type": "stream",
     "text": [
      "\n",
      " 71%|███████   | 1506/2129 [1:53:17<27:55,  2.69s/it]"
     ]
    },
    {
     "name": "stdout",
     "output_type": "stream",
     "text": [
      "600582.SH updated from 20210114 to 20210115\n",
      "Time cost : 2.293962240219116s\n"
     ]
    },
    {
     "name": "stderr",
     "output_type": "stream",
     "text": [
      "\n",
      " 71%|███████   | 1507/2129 [1:53:19<26:39,  2.57s/it]"
     ]
    },
    {
     "name": "stdout",
     "output_type": "stream",
     "text": [
      "603565.SH updated from 20210114 to 20210115\n",
      "Time cost : 1.919914960861206s\n"
     ]
    },
    {
     "name": "stderr",
     "output_type": "stream",
     "text": [
      "\n",
      " 71%|███████   | 1508/2129 [1:53:21<24:36,  2.38s/it]"
     ]
    },
    {
     "name": "stdout",
     "output_type": "stream",
     "text": [
      "300806.SZ updated from 20210114 to 20210115\n",
      "Time cost : 2.7601423263549805s\n"
     ]
    },
    {
     "name": "stderr",
     "output_type": "stream",
     "text": [
      "\n",
      " 71%|███████   | 1509/2129 [1:53:24<25:45,  2.49s/it]"
     ]
    },
    {
     "name": "stdout",
     "output_type": "stream",
     "text": [
      "300364.SZ updated from 20210114 to 20210115\n",
      "Time cost : 8.572438955307007s\n"
     ]
    },
    {
     "name": "stderr",
     "output_type": "stream",
     "text": [
      "\n",
      " 71%|███████   | 1510/2129 [1:53:32<44:32,  4.32s/it]"
     ]
    },
    {
     "name": "stdout",
     "output_type": "stream",
     "text": [
      "600061.SH updated from 20210114 to 20210115\n",
      "Time cost : 3.800469398498535s\n"
     ]
    },
    {
     "name": "stderr",
     "output_type": "stream",
     "text": [
      "\n",
      " 71%|███████   | 1511/2129 [1:53:36<42:52,  4.16s/it]"
     ]
    },
    {
     "name": "stdout",
     "output_type": "stream",
     "text": [
      "002467.SZ updated from 20210114 to 20210115\n",
      "Time cost : 10.418162107467651s\n"
     ]
    },
    {
     "name": "stderr",
     "output_type": "stream",
     "text": [
      "\n",
      " 71%|███████   | 1512/2129 [1:53:46<1:02:06,  6.04s/it]"
     ]
    },
    {
     "name": "stdout",
     "output_type": "stream",
     "text": [
      "600490.SH updated from 20210114 to 20210115\n",
      "Time cost : 3.556273937225342s\n"
     ]
    },
    {
     "name": "stderr",
     "output_type": "stream",
     "text": [
      "\n",
      " 71%|███████   | 1513/2129 [1:53:50<54:22,  5.30s/it]  "
     ]
    },
    {
     "name": "stdout",
     "output_type": "stream",
     "text": [
      "300672.SZ updated from 20210114 to 20210115\n",
      "Time cost : 3.0553674697875977s\n"
     ]
    },
    {
     "name": "stderr",
     "output_type": "stream",
     "text": [
      "\n",
      " 71%|███████   | 1514/2129 [1:53:53<47:23,  4.62s/it]"
     ]
    },
    {
     "name": "stdout",
     "output_type": "stream",
     "text": [
      "603979.SH updated from 20210114 to 20210115\n",
      "Time cost : 3.7728564739227295s\n"
     ]
    },
    {
     "name": "stderr",
     "output_type": "stream",
     "text": [
      "\n",
      " 71%|███████   | 1515/2129 [1:53:57<44:42,  4.37s/it]"
     ]
    },
    {
     "name": "stdout",
     "output_type": "stream",
     "text": [
      "603043.SH updated from 20210114 to 20210115\n",
      "Time cost : 1.1032848358154297s\n"
     ]
    },
    {
     "name": "stderr",
     "output_type": "stream",
     "text": [
      "\n",
      " 71%|███████   | 1516/2129 [1:53:58<34:38,  3.39s/it]"
     ]
    },
    {
     "name": "stdout",
     "output_type": "stream",
     "text": [
      "003032.SZ updated from 20210114 to 20210115\n",
      "Time cost : 4.238954305648804s\n"
     ]
    },
    {
     "name": "stderr",
     "output_type": "stream",
     "text": [
      "\n",
      " 71%|███████▏  | 1517/2129 [1:54:02<37:10,  3.65s/it]"
     ]
    },
    {
     "name": "stdout",
     "output_type": "stream",
     "text": [
      "300782.SZ updated from 20210114 to 20210115\n",
      "Time cost : 3.8852245807647705s\n"
     ]
    },
    {
     "name": "stderr",
     "output_type": "stream",
     "text": [
      "\n",
      " 71%|███████▏  | 1518/2129 [1:54:06<37:51,  3.72s/it]"
     ]
    },
    {
     "name": "stdout",
     "output_type": "stream",
     "text": [
      "000636.SZ updated from 20210114 to 20210115\n",
      "Time cost : 2.2185792922973633s\n"
     ]
    },
    {
     "name": "stderr",
     "output_type": "stream",
     "text": [
      "\n",
      " 71%|███████▏  | 1519/2129 [1:54:08<33:13,  3.27s/it]"
     ]
    },
    {
     "name": "stdout",
     "output_type": "stream",
     "text": [
      "300569.SZ updated from 20210114 to 20210115\n",
      "Time cost : 2.505977153778076s\n"
     ]
    },
    {
     "name": "stderr",
     "output_type": "stream",
     "text": [
      "\n",
      " 71%|███████▏  | 1520/2129 [1:54:11<30:51,  3.04s/it]"
     ]
    },
    {
     "name": "stdout",
     "output_type": "stream",
     "text": [
      "603866.SH updated from 20210114 to 20210115\n",
      "Time cost : 1.6449222564697266s\n"
     ]
    },
    {
     "name": "stderr",
     "output_type": "stream",
     "text": [
      "\n",
      " 71%|███████▏  | 1521/2129 [1:54:12<26:34,  2.62s/it]"
     ]
    },
    {
     "name": "stdout",
     "output_type": "stream",
     "text": [
      "002678.SZ updated from 20210114 to 20210115\n",
      "Time cost : 13.452738523483276s\n"
     ]
    },
    {
     "name": "stderr",
     "output_type": "stream",
     "text": [
      "\n",
      " 71%|███████▏  | 1522/2129 [1:54:26<59:24,  5.87s/it]"
     ]
    },
    {
     "name": "stdout",
     "output_type": "stream",
     "text": [
      "600019.SH updated from 20210114 to 20210115\n",
      "Time cost : 1.1595427989959717s\n"
     ]
    },
    {
     "name": "stderr",
     "output_type": "stream",
     "text": [
      "\n",
      " 72%|███████▏  | 1523/2129 [1:54:27<45:02,  4.46s/it]"
     ]
    },
    {
     "name": "stdout",
     "output_type": "stream",
     "text": [
      "600886.SH updated from 20210114 to 20210115\n",
      "Time cost : 4.941447734832764s\n"
     ]
    },
    {
     "name": "stderr",
     "output_type": "stream",
     "text": [
      "\n",
      " 72%|███████▏  | 1524/2129 [1:54:32<46:25,  4.60s/it]"
     ]
    },
    {
     "name": "stdout",
     "output_type": "stream",
     "text": [
      "002273.SZ updated from 20210114 to 20210115\n",
      "Time cost : 2.4716036319732666s\n"
     ]
    },
    {
     "name": "stderr",
     "output_type": "stream",
     "text": [
      "\n",
      " 72%|███████▏  | 1525/2129 [1:54:34<39:55,  3.97s/it]"
     ]
    },
    {
     "name": "stdout",
     "output_type": "stream",
     "text": [
      "600487.SH updated from 20210114 to 20210115\n",
      "Time cost : 2.1685631275177s\n"
     ]
    },
    {
     "name": "stderr",
     "output_type": "stream",
     "text": [
      "\n",
      " 72%|███████▏  | 1526/2129 [1:54:37<34:26,  3.43s/it]"
     ]
    },
    {
     "name": "stdout",
     "output_type": "stream",
     "text": [
      "300855.SZ updated from 20210114 to 20210115\n",
      "Time cost : 1.9644124507904053s\n"
     ]
    },
    {
     "name": "stderr",
     "output_type": "stream",
     "text": [
      "\n",
      " 72%|███████▏  | 1527/2129 [1:54:39<29:59,  2.99s/it]"
     ]
    },
    {
     "name": "stdout",
     "output_type": "stream",
     "text": [
      "002839.SZ updated from 20210114 to 20210115\n",
      "Time cost : 2.529265880584717s\n"
     ]
    },
    {
     "name": "stderr",
     "output_type": "stream",
     "text": [
      "\n",
      " 72%|███████▏  | 1528/2129 [1:54:41<28:34,  2.85s/it]"
     ]
    },
    {
     "name": "stdout",
     "output_type": "stream",
     "text": [
      "601916.SH updated from 20210114 to 20210115\n",
      "Time cost : 3.282255172729492s\n"
     ]
    },
    {
     "name": "stderr",
     "output_type": "stream",
     "text": [
      "\n",
      " 72%|███████▏  | 1529/2129 [1:54:44<29:48,  2.98s/it]"
     ]
    },
    {
     "name": "stdout",
     "output_type": "stream",
     "text": [
      "603013.SH updated from 20210114 to 20210115\n",
      "Time cost : 2.684969186782837s\n"
     ]
    },
    {
     "name": "stderr",
     "output_type": "stream",
     "text": [
      "\n",
      " 72%|███████▏  | 1530/2129 [1:54:47<28:53,  2.89s/it]"
     ]
    },
    {
     "name": "stdout",
     "output_type": "stream",
     "text": [
      "002446.SZ updated from 20210114 to 20210115\n",
      "Time cost : 2.2787725925445557s\n"
     ]
    },
    {
     "name": "stderr",
     "output_type": "stream",
     "text": [
      "\n",
      " 72%|███████▏  | 1531/2129 [1:54:49<27:00,  2.71s/it]"
     ]
    },
    {
     "name": "stdout",
     "output_type": "stream",
     "text": [
      "600050.SH updated from 20210114 to 20210115\n",
      "Time cost : 3.1986489295959473s\n"
     ]
    },
    {
     "name": "stderr",
     "output_type": "stream",
     "text": [
      "\n",
      " 72%|███████▏  | 1532/2129 [1:54:52<28:25,  2.86s/it]"
     ]
    },
    {
     "name": "stdout",
     "output_type": "stream",
     "text": [
      "600026.SH updated from 20210114 to 20210115\n",
      "Time cost : 2.1836254596710205s\n"
     ]
    },
    {
     "name": "stderr",
     "output_type": "stream",
     "text": [
      "\n",
      " 72%|███████▏  | 1533/2129 [1:54:55<26:22,  2.66s/it]"
     ]
    },
    {
     "name": "stdout",
     "output_type": "stream",
     "text": [
      "002145.SZ updated from 20210114 to 20210115\n",
      "Time cost : 4.7286598682403564s\n"
     ]
    },
    {
     "name": "stderr",
     "output_type": "stream",
     "text": [
      "\n",
      " 72%|███████▏  | 1534/2129 [1:54:59<32:30,  3.28s/it]"
     ]
    },
    {
     "name": "stdout",
     "output_type": "stream",
     "text": [
      "000027.SZ updated from 20210114 to 20210115\n",
      "Time cost : 2.966783046722412s\n"
     ]
    },
    {
     "name": "stderr",
     "output_type": "stream",
     "text": [
      "\n",
      " 72%|███████▏  | 1535/2129 [1:55:02<31:32,  3.19s/it]"
     ]
    },
    {
     "name": "stdout",
     "output_type": "stream",
     "text": [
      "002326.SZ updated from 20210114 to 20210115\n",
      "Time cost : 8.181843042373657s\n"
     ]
    },
    {
     "name": "stderr",
     "output_type": "stream",
     "text": [
      "\n",
      " 72%|███████▏  | 1536/2129 [1:55:11<46:18,  4.69s/it]"
     ]
    },
    {
     "name": "stdout",
     "output_type": "stream",
     "text": [
      "600521.SH updated from 20210114 to 20210115\n",
      "Time cost : 1.6971626281738281s\n"
     ]
    },
    {
     "name": "stderr",
     "output_type": "stream",
     "text": [
      "\n",
      " 72%|███████▏  | 1537/2129 [1:55:12<37:23,  3.79s/it]"
     ]
    },
    {
     "name": "stdout",
     "output_type": "stream",
     "text": [
      "300215.SZ updated from 20210114 to 20210115\n",
      "Time cost : 8.209593772888184s\n"
     ]
    },
    {
     "name": "stderr",
     "output_type": "stream",
     "text": [
      "\n",
      " 72%|███████▏  | 1538/2129 [1:55:20<50:23,  5.12s/it]"
     ]
    },
    {
     "name": "stdout",
     "output_type": "stream",
     "text": [
      "600221.SH updated from 20210114 to 20210115\n",
      "Time cost : 8.007030010223389s\n"
     ]
    },
    {
     "name": "stderr",
     "output_type": "stream",
     "text": [
      "\n",
      " 72%|███████▏  | 1539/2129 [1:55:28<58:50,  5.98s/it]"
     ]
    },
    {
     "name": "stdout",
     "output_type": "stream",
     "text": [
      "002759.SZ updated from 20210114 to 20210115\n",
      "Time cost : 3.6336116790771484s\n"
     ]
    },
    {
     "name": "stderr",
     "output_type": "stream",
     "text": [
      "\n",
      " 72%|███████▏  | 1540/2129 [1:55:32<51:49,  5.28s/it]"
     ]
    },
    {
     "name": "stdout",
     "output_type": "stream",
     "text": [
      "600335.SH updated from 20210114 to 20210115\n",
      "Time cost : 3.1060001850128174s\n"
     ]
    },
    {
     "name": "stderr",
     "output_type": "stream",
     "text": [
      "\n",
      " 72%|███████▏  | 1541/2129 [1:55:35<45:21,  4.63s/it]"
     ]
    },
    {
     "name": "stdout",
     "output_type": "stream",
     "text": [
      "002733.SZ updated from 20210114 to 20210115\n",
      "Time cost : 2.699896812438965s\n"
     ]
    },
    {
     "name": "stderr",
     "output_type": "stream",
     "text": [
      "\n",
      " 72%|███████▏  | 1542/2129 [1:55:38<39:37,  4.05s/it]"
     ]
    },
    {
     "name": "stdout",
     "output_type": "stream",
     "text": [
      "300523.SZ updated from 20210114 to 20210115\n",
      "Time cost : 2.708092451095581s\n"
     ]
    },
    {
     "name": "stderr",
     "output_type": "stream",
     "text": [
      "\n",
      " 72%|███████▏  | 1543/2129 [1:55:41<35:37,  3.65s/it]"
     ]
    },
    {
     "name": "stdout",
     "output_type": "stream",
     "text": [
      "000977.SZ updated from 20210114 to 20210115\n",
      "Time cost : 2.505218982696533s\n"
     ]
    },
    {
     "name": "stderr",
     "output_type": "stream",
     "text": [
      "\n",
      " 73%|███████▎  | 1544/2129 [1:55:43<32:14,  3.31s/it]"
     ]
    },
    {
     "name": "stdout",
     "output_type": "stream",
     "text": [
      "601816.SH updated from 20210114 to 20210115\n",
      "Time cost : 2.155200958251953s\n"
     ]
    },
    {
     "name": "stderr",
     "output_type": "stream",
     "text": [
      "\n",
      " 73%|███████▎  | 1545/2129 [1:55:45<28:49,  2.96s/it]"
     ]
    },
    {
     "name": "stdout",
     "output_type": "stream",
     "text": [
      "603355.SH updated from 20210114 to 20210115\n",
      "Time cost : 5.895451784133911s\n"
     ]
    },
    {
     "name": "stderr",
     "output_type": "stream",
     "text": [
      "\n",
      " 73%|███████▎  | 1546/2129 [1:55:51<37:19,  3.84s/it]"
     ]
    },
    {
     "name": "stdout",
     "output_type": "stream",
     "text": [
      "600376.SH updated from 20210114 to 20210115\n",
      "Time cost : 4.170141696929932s\n"
     ]
    },
    {
     "name": "stderr",
     "output_type": "stream",
     "text": [
      "\n",
      " 73%|███████▎  | 1547/2129 [1:55:55<38:13,  3.94s/it]"
     ]
    },
    {
     "name": "stdout",
     "output_type": "stream",
     "text": [
      "300690.SZ updated from 20210114 to 20210115\n",
      "Time cost : 3.4939441680908203s\n"
     ]
    },
    {
     "name": "stderr",
     "output_type": "stream",
     "text": [
      "\n",
      " 73%|███████▎  | 1548/2129 [1:55:59<36:52,  3.81s/it]"
     ]
    },
    {
     "name": "stdout",
     "output_type": "stream",
     "text": [
      "300397.SZ updated from 20210114 to 20210115\n",
      "Time cost : 5.000019550323486s\n"
     ]
    },
    {
     "name": "stderr",
     "output_type": "stream",
     "text": [
      "\n",
      " 73%|███████▎  | 1549/2129 [1:56:04<40:16,  4.17s/it]"
     ]
    },
    {
     "name": "stdout",
     "output_type": "stream",
     "text": [
      "300872.SZ updated from 20210114 to 20210115\n",
      "Time cost : 4.931169509887695s\n"
     ]
    },
    {
     "name": "stderr",
     "output_type": "stream",
     "text": [
      "\n",
      " 73%|███████▎  | 1550/2129 [1:56:09<42:25,  4.40s/it]"
     ]
    },
    {
     "name": "stdout",
     "output_type": "stream",
     "text": [
      "000951.SZ updated from 20210114 to 20210115\n",
      "Time cost : 2.830003023147583s\n"
     ]
    },
    {
     "name": "stderr",
     "output_type": "stream",
     "text": [
      "\n",
      " 73%|███████▎  | 1551/2129 [1:56:12<37:49,  3.93s/it]"
     ]
    },
    {
     "name": "stdout",
     "output_type": "stream",
     "text": [
      "002651.SZ updated from 20210114 to 20210115\n",
      "Time cost : 3.134943962097168s\n"
     ]
    },
    {
     "name": "stderr",
     "output_type": "stream",
     "text": [
      "\n",
      " 73%|███████▎  | 1552/2129 [1:56:15<35:29,  3.69s/it]"
     ]
    },
    {
     "name": "stdout",
     "output_type": "stream",
     "text": [
      "603279.SH updated from 20210114 to 20210115\n",
      "Time cost : 2.9628310203552246s\n"
     ]
    },
    {
     "name": "stderr",
     "output_type": "stream",
     "text": [
      "\n",
      " 73%|███████▎  | 1553/2129 [1:56:18<33:20,  3.47s/it]"
     ]
    },
    {
     "name": "stdout",
     "output_type": "stream",
     "text": [
      "603609.SH updated from 20210114 to 20210115\n",
      "Time cost : 2.270296573638916s\n"
     ]
    },
    {
     "name": "stderr",
     "output_type": "stream",
     "text": [
      "\n",
      " 73%|███████▎  | 1554/2129 [1:56:20<29:49,  3.11s/it]"
     ]
    },
    {
     "name": "stdout",
     "output_type": "stream",
     "text": [
      "603128.SH updated from 20210114 to 20210115\n",
      "Time cost : 1.927067756652832s\n"
     ]
    },
    {
     "name": "stderr",
     "output_type": "stream",
     "text": [
      "\n",
      " 73%|███████▎  | 1555/2129 [1:56:22<26:22,  2.76s/it]"
     ]
    },
    {
     "name": "stdout",
     "output_type": "stream",
     "text": [
      "600536.SH updated from 20210114 to 20210115\n",
      "Time cost : 3.1368868350982666s\n"
     ]
    },
    {
     "name": "stderr",
     "output_type": "stream",
     "text": [
      "\n",
      " 73%|███████▎  | 1556/2129 [1:56:25<27:25,  2.87s/it]"
     ]
    },
    {
     "name": "stdout",
     "output_type": "stream",
     "text": [
      "002421.SZ updated from 20210114 to 20210115\n",
      "Time cost : 2.711840867996216s\n"
     ]
    },
    {
     "name": "stderr",
     "output_type": "stream",
     "text": [
      "\n",
      " 73%|███████▎  | 1557/2129 [1:56:28<26:55,  2.82s/it]"
     ]
    },
    {
     "name": "stdout",
     "output_type": "stream",
     "text": [
      "600736.SH updated from 20210114 to 20210115\n",
      "Time cost : 5.022929668426514s\n"
     ]
    },
    {
     "name": "stderr",
     "output_type": "stream",
     "text": [
      "\n",
      " 73%|███████▎  | 1558/2129 [1:56:33<33:09,  3.48s/it]"
     ]
    },
    {
     "name": "stdout",
     "output_type": "stream",
     "text": [
      "688311.SH updated from 20210114 to 20210115\n",
      "Time cost : 3.1005709171295166s\n"
     ]
    },
    {
     "name": "stderr",
     "output_type": "stream",
     "text": [
      "\n",
      " 73%|███████▎  | 1559/2129 [1:56:36<32:00,  3.37s/it]"
     ]
    },
    {
     "name": "stdout",
     "output_type": "stream",
     "text": [
      "600059.SH updated from 20210114 to 20210115\n",
      "Time cost : 17.063587427139282s\n"
     ]
    },
    {
     "name": "stderr",
     "output_type": "stream",
     "text": [
      "\n",
      " 73%|███████▎  | 1560/2129 [1:56:53<1:10:55,  7.48s/it]"
     ]
    },
    {
     "name": "stdout",
     "output_type": "stream",
     "text": [
      "000932.SZ updated from 20210114 to 20210115\n",
      "Time cost : 2.3737518787384033s\n"
     ]
    },
    {
     "name": "stderr",
     "output_type": "stream",
     "text": [
      "\n",
      " 73%|███████▎  | 1561/2129 [1:56:55<56:18,  5.95s/it]  "
     ]
    },
    {
     "name": "stdout",
     "output_type": "stream",
     "text": [
      "688018.SH updated from 20210114 to 20210115\n",
      "Time cost : 1.969738483428955s\n"
     ]
    },
    {
     "name": "stderr",
     "output_type": "stream",
     "text": [
      "\n",
      " 73%|███████▎  | 1562/2129 [1:56:57<44:56,  4.76s/it]"
     ]
    },
    {
     "name": "stdout",
     "output_type": "stream",
     "text": [
      "603920.SH updated from 20210114 to 20210115\n",
      "Time cost : 3.011162281036377s\n"
     ]
    },
    {
     "name": "stderr",
     "output_type": "stream",
     "text": [
      "\n",
      " 73%|███████▎  | 1563/2129 [1:57:00<39:55,  4.23s/it]"
     ]
    },
    {
     "name": "stdout",
     "output_type": "stream",
     "text": [
      "601377.SH updated from 20210114 to 20210115\n",
      "Time cost : 5.7754151821136475s\n"
     ]
    },
    {
     "name": "stderr",
     "output_type": "stream",
     "text": [
      "\n",
      " 73%|███████▎  | 1564/2129 [1:57:06<44:13,  4.70s/it]"
     ]
    },
    {
     "name": "stdout",
     "output_type": "stream",
     "text": [
      "300132.SZ updated from 20210114 to 20210115\n",
      "Time cost : 6.265301465988159s\n"
     ]
    },
    {
     "name": "stderr",
     "output_type": "stream",
     "text": [
      "\n",
      " 74%|███████▎  | 1565/2129 [1:57:12<48:34,  5.17s/it]"
     ]
    },
    {
     "name": "stdout",
     "output_type": "stream",
     "text": [
      "600326.SH updated from 20210114 to 20210115\n",
      "Time cost : 2.4147846698760986s\n"
     ]
    },
    {
     "name": "stderr",
     "output_type": "stream",
     "text": [
      "\n",
      " 74%|███████▎  | 1566/2129 [1:57:15<40:44,  4.34s/it]"
     ]
    },
    {
     "name": "stdout",
     "output_type": "stream",
     "text": [
      "300390.SZ updated from 20210114 to 20210115\n",
      "Time cost : 4.498908996582031s\n"
     ]
    },
    {
     "name": "stderr",
     "output_type": "stream",
     "text": [
      "\n",
      " 74%|███████▎  | 1567/2129 [1:57:19<41:07,  4.39s/it]"
     ]
    },
    {
     "name": "stdout",
     "output_type": "stream",
     "text": [
      "300604.SZ updated from 20210114 to 20210115\n",
      "Time cost : 1.1287245750427246s\n"
     ]
    },
    {
     "name": "stderr",
     "output_type": "stream",
     "text": [
      "\n",
      " 74%|███████▎  | 1568/2129 [1:57:20<31:54,  3.41s/it]"
     ]
    },
    {
     "name": "stdout",
     "output_type": "stream",
     "text": [
      "601117.SH updated from 20210114 to 20210115\n",
      "Time cost : 2.653550624847412s\n"
     ]
    },
    {
     "name": "stderr",
     "output_type": "stream",
     "text": [
      "\n",
      " 74%|███████▎  | 1569/2129 [1:57:23<29:43,  3.19s/it]"
     ]
    },
    {
     "name": "stdout",
     "output_type": "stream",
     "text": [
      "300144.SZ updated from 20210114 to 20210115\n",
      "Time cost : 1.9119884967803955s\n"
     ]
    },
    {
     "name": "stderr",
     "output_type": "stream",
     "text": [
      "\n",
      " 74%|███████▎  | 1570/2129 [1:57:25<26:07,  2.80s/it]"
     ]
    },
    {
     "name": "stdout",
     "output_type": "stream",
     "text": [
      "000402.SZ updated from 20210114 to 20210115\n",
      "Time cost : 2.2476701736450195s\n"
     ]
    },
    {
     "name": "stderr",
     "output_type": "stream",
     "text": [
      "\n",
      " 74%|███████▍  | 1571/2129 [1:57:27<24:31,  2.64s/it]"
     ]
    },
    {
     "name": "stdout",
     "output_type": "stream",
     "text": [
      "601107.SH updated from 20210114 to 20210115\n",
      "Time cost : 4.97339391708374s\n"
     ]
    },
    {
     "name": "stderr",
     "output_type": "stream",
     "text": [
      "\n",
      " 74%|███████▍  | 1572/2129 [1:57:32<30:59,  3.34s/it]"
     ]
    },
    {
     "name": "stdout",
     "output_type": "stream",
     "text": [
      "300863.SZ updated from 20210114 to 20210115\n",
      "Time cost : 4.1191394329071045s\n"
     ]
    },
    {
     "name": "stderr",
     "output_type": "stream",
     "text": [
      "\n",
      " 74%|███████▍  | 1573/2129 [1:57:36<33:07,  3.57s/it]"
     ]
    },
    {
     "name": "stdout",
     "output_type": "stream",
     "text": [
      "300427.SZ updated from 20210114 to 20210115\n",
      "Time cost : 5.962187051773071s\n"
     ]
    },
    {
     "name": "stderr",
     "output_type": "stream",
     "text": [
      "\n",
      " 74%|███████▍  | 1574/2129 [1:57:42<39:41,  4.29s/it]"
     ]
    },
    {
     "name": "stdout",
     "output_type": "stream",
     "text": [
      "603992.SH updated from 20210114 to 20210115\n",
      "Time cost : 3.934281349182129s\n"
     ]
    },
    {
     "name": "stderr",
     "output_type": "stream",
     "text": [
      "\n",
      " 74%|███████▍  | 1575/2129 [1:57:46<38:38,  4.18s/it]"
     ]
    },
    {
     "name": "stdout",
     "output_type": "stream",
     "text": [
      "688198.SH updated from 20210114 to 20210115\n",
      "Time cost : 1.0837938785552979s\n"
     ]
    },
    {
     "name": "stderr",
     "output_type": "stream",
     "text": [
      "\n",
      " 74%|███████▍  | 1576/2129 [1:57:47<29:59,  3.25s/it]"
     ]
    },
    {
     "name": "stdout",
     "output_type": "stream",
     "text": [
      "601126.SH updated from 20210114 to 20210115\n",
      "Time cost : 2.58848237991333s\n"
     ]
    },
    {
     "name": "stderr",
     "output_type": "stream",
     "text": [
      "\n",
      " 74%|███████▍  | 1577/2129 [1:57:50<28:06,  3.06s/it]"
     ]
    },
    {
     "name": "stdout",
     "output_type": "stream",
     "text": [
      "600718.SH updated from 20210114 to 20210115\n",
      "Time cost : 2.5506463050842285s\n"
     ]
    },
    {
     "name": "stderr",
     "output_type": "stream",
     "text": [
      "\n",
      " 74%|███████▍  | 1578/2129 [1:57:52<26:40,  2.90s/it]"
     ]
    },
    {
     "name": "stdout",
     "output_type": "stream",
     "text": [
      "600691.SH updated from 20210114 to 20210115\n",
      "Time cost : 1.4297621250152588s\n"
     ]
    },
    {
     "name": "stderr",
     "output_type": "stream",
     "text": [
      "\n",
      " 74%|███████▍  | 1579/2129 [1:57:54<22:34,  2.46s/it]"
     ]
    },
    {
     "name": "stdout",
     "output_type": "stream",
     "text": [
      "000789.SZ updated from 20210114 to 20210115\n",
      "Time cost : 2.159351110458374s\n"
     ]
    },
    {
     "name": "stderr",
     "output_type": "stream",
     "text": [
      "\n",
      " 74%|███████▍  | 1580/2129 [1:57:56<21:42,  2.37s/it]"
     ]
    },
    {
     "name": "stdout",
     "output_type": "stream",
     "text": [
      "601988.SH updated from 20210114 to 20210115\n",
      "Time cost : 4.155045986175537s\n"
     ]
    },
    {
     "name": "stderr",
     "output_type": "stream",
     "text": [
      "\n",
      " 74%|███████▍  | 1581/2129 [1:58:00<26:33,  2.91s/it]"
     ]
    },
    {
     "name": "stdout",
     "output_type": "stream",
     "text": [
      "603699.SH updated from 20210114 to 20210115\n",
      "Time cost : 2.482984781265259s\n"
     ]
    },
    {
     "name": "stderr",
     "output_type": "stream",
     "text": [
      "\n",
      " 74%|███████▍  | 1582/2129 [1:58:03<25:21,  2.78s/it]"
     ]
    },
    {
     "name": "stdout",
     "output_type": "stream",
     "text": [
      "600098.SH updated from 20210114 to 20210115\n",
      "Time cost : 1.171665906906128s\n"
     ]
    },
    {
     "name": "stderr",
     "output_type": "stream",
     "text": [
      "\n",
      " 74%|███████▍  | 1583/2129 [1:58:04<20:55,  2.30s/it]"
     ]
    },
    {
     "name": "stdout",
     "output_type": "stream",
     "text": [
      "603997.SH updated from 20210114 to 20210115\n",
      "Time cost : 6.366307735443115s\n"
     ]
    },
    {
     "name": "stderr",
     "output_type": "stream",
     "text": [
      "\n",
      " 74%|███████▍  | 1584/2129 [1:58:10<31:58,  3.52s/it]"
     ]
    },
    {
     "name": "stdout",
     "output_type": "stream",
     "text": [
      "600410.SH updated from 20210114 to 20210115\n",
      "Time cost : 1.1781561374664307s\n"
     ]
    },
    {
     "name": "stderr",
     "output_type": "stream",
     "text": [
      "\n",
      " 74%|███████▍  | 1585/2129 [1:58:11<25:32,  2.82s/it]"
     ]
    },
    {
     "name": "stdout",
     "output_type": "stream",
     "text": [
      "601566.SH updated from 20210114 to 20210115\n",
      "Time cost : 4.70946741104126s\n"
     ]
    },
    {
     "name": "stderr",
     "output_type": "stream",
     "text": [
      "\n",
      " 74%|███████▍  | 1586/2129 [1:58:16<30:38,  3.39s/it]"
     ]
    },
    {
     "name": "stdout",
     "output_type": "stream",
     "text": [
      "688023.SH updated from 20210114 to 20210115\n",
      "Time cost : 1.7897777557373047s\n"
     ]
    },
    {
     "name": "stderr",
     "output_type": "stream",
     "text": [
      "\n",
      " 75%|███████▍  | 1587/2129 [1:58:18<26:16,  2.91s/it]"
     ]
    },
    {
     "name": "stdout",
     "output_type": "stream",
     "text": [
      "002739.SZ updated from 20210114 to 20210115\n",
      "Time cost : 6.9775261878967285s\n"
     ]
    },
    {
     "name": "stderr",
     "output_type": "stream",
     "text": [
      "\n",
      " 75%|███████▍  | 1588/2129 [1:58:25<37:13,  4.13s/it]"
     ]
    },
    {
     "name": "stdout",
     "output_type": "stream",
     "text": [
      "300143.SZ updated from 20210114 to 20210115\n",
      "Time cost : 4.762308359146118s\n"
     ]
    },
    {
     "name": "stderr",
     "output_type": "stream",
     "text": [
      "\n",
      " 75%|███████▍  | 1589/2129 [1:58:30<38:52,  4.32s/it]"
     ]
    },
    {
     "name": "stdout",
     "output_type": "stream",
     "text": [
      "002298.SZ updated from 20210114 to 20210115\n",
      "Time cost : 8.019911289215088s\n"
     ]
    },
    {
     "name": "stderr",
     "output_type": "stream",
     "text": [
      "\n",
      " 75%|███████▍  | 1590/2129 [1:58:38<48:47,  5.43s/it]"
     ]
    },
    {
     "name": "stdout",
     "output_type": "stream",
     "text": [
      "600515.SH updated from 20210114 to 20210115\n",
      "Time cost : 5.187332391738892s\n"
     ]
    },
    {
     "name": "stderr",
     "output_type": "stream",
     "text": [
      "\n",
      " 75%|███████▍  | 1591/2129 [1:58:43<48:02,  5.36s/it]"
     ]
    },
    {
     "name": "stdout",
     "output_type": "stream",
     "text": [
      "300149.SZ updated from 20210114 to 20210115\n",
      "Time cost : 3.5086636543273926s\n"
     ]
    },
    {
     "name": "stderr",
     "output_type": "stream",
     "text": [
      "\n",
      " 75%|███████▍  | 1592/2129 [1:58:46<42:59,  4.80s/it]"
     ]
    },
    {
     "name": "stdout",
     "output_type": "stream",
     "text": [
      "600338.SH updated from 20210114 to 20210115\n",
      "Time cost : 7.732808828353882s\n"
     ]
    },
    {
     "name": "stderr",
     "output_type": "stream",
     "text": [
      "\n",
      " 75%|███████▍  | 1593/2129 [1:58:54<50:46,  5.68s/it]"
     ]
    },
    {
     "name": "stdout",
     "output_type": "stream",
     "text": [
      "300255.SZ updated from 20210114 to 20210115\n",
      "Time cost : 23.577980518341064s\n"
     ]
    },
    {
     "name": "stderr",
     "output_type": "stream",
     "text": [
      "\n",
      " 75%|███████▍  | 1594/2129 [1:59:18<1:38:33, 11.05s/it]"
     ]
    },
    {
     "name": "stdout",
     "output_type": "stream",
     "text": [
      "000959.SZ updated from 20210114 to 20210115\n",
      "Time cost : 5.7690253257751465s\n"
     ]
    },
    {
     "name": "stderr",
     "output_type": "stream",
     "text": [
      "\n",
      " 75%|███████▍  | 1595/2129 [1:59:24<1:24:15,  9.47s/it]"
     ]
    },
    {
     "name": "stdout",
     "output_type": "stream",
     "text": [
      "603976.SH updated from 20210114 to 20210115\n",
      "Time cost : 1.0987071990966797s\n"
     ]
    },
    {
     "name": "stderr",
     "output_type": "stream",
     "text": [
      "\n",
      " 75%|███████▍  | 1596/2129 [1:59:25<1:01:48,  6.96s/it]"
     ]
    },
    {
     "name": "stdout",
     "output_type": "stream",
     "text": [
      "688063.SH updated from 20210114 to 20210115\n",
      "Time cost : 2.660031318664551s\n"
     ]
    },
    {
     "name": "stderr",
     "output_type": "stream",
     "text": [
      "\n",
      " 75%|███████▌  | 1597/2129 [1:59:27<50:15,  5.67s/it]  "
     ]
    },
    {
     "name": "stdout",
     "output_type": "stream",
     "text": [
      "002217.SZ updated from 20210114 to 20210115\n",
      "Time cost : 4.088928937911987s\n"
     ]
    },
    {
     "name": "stderr",
     "output_type": "stream",
     "text": [
      "\n",
      " 75%|███████▌  | 1598/2129 [1:59:31<45:58,  5.20s/it]"
     ]
    },
    {
     "name": "stdout",
     "output_type": "stream",
     "text": [
      "600298.SH updated from 20210114 to 20210115\n",
      "Time cost : 1.9762084484100342s\n"
     ]
    },
    {
     "name": "stderr",
     "output_type": "stream",
     "text": [
      "\n",
      " 75%|███████▌  | 1599/2129 [1:59:33<37:22,  4.23s/it]"
     ]
    },
    {
     "name": "stdout",
     "output_type": "stream",
     "text": [
      "000426.SZ updated from 20210114 to 20210115\n",
      "Time cost : 1.1470787525177002s\n"
     ]
    },
    {
     "name": "stderr",
     "output_type": "stream",
     "text": [
      "\n",
      " 75%|███████▌  | 1600/2129 [1:59:34<29:08,  3.31s/it]"
     ]
    },
    {
     "name": "stdout",
     "output_type": "stream",
     "text": [
      "000568.SZ updated from 20210114 to 20210115\n",
      "Time cost : 3.619089126586914s\n"
     ]
    },
    {
     "name": "stderr",
     "output_type": "stream",
     "text": [
      "\n",
      " 75%|███████▌  | 1601/2129 [1:59:38<29:55,  3.40s/it]"
     ]
    },
    {
     "name": "stdout",
     "output_type": "stream",
     "text": [
      "002085.SZ updated from 20210114 to 20210115\n",
      "Time cost : 2.4403269290924072s\n"
     ]
    },
    {
     "name": "stderr",
     "output_type": "stream",
     "text": [
      "\n",
      " 75%|███████▌  | 1602/2129 [1:59:41<27:20,  3.11s/it]"
     ]
    },
    {
     "name": "stdout",
     "output_type": "stream",
     "text": [
      "603228.SH updated from 20210114 to 20210115\n",
      "Time cost : 3.452700614929199s\n"
     ]
    },
    {
     "name": "stderr",
     "output_type": "stream",
     "text": [
      "\n",
      " 75%|███████▌  | 1603/2129 [1:59:44<28:11,  3.22s/it]"
     ]
    },
    {
     "name": "stdout",
     "output_type": "stream",
     "text": [
      "600162.SH updated from 20210114 to 20210115\n",
      "Time cost : 4.340149164199829s\n"
     ]
    },
    {
     "name": "stderr",
     "output_type": "stream",
     "text": [
      "\n",
      " 75%|███████▌  | 1604/2129 [1:59:48<31:05,  3.55s/it]"
     ]
    },
    {
     "name": "stdout",
     "output_type": "stream",
     "text": [
      "600278.SH updated from 20210114 to 20210115\n",
      "Time cost : 2.244370222091675s\n"
     ]
    },
    {
     "name": "stderr",
     "output_type": "stream",
     "text": [
      "\n",
      " 75%|███████▌  | 1605/2129 [1:59:51<27:36,  3.16s/it]"
     ]
    },
    {
     "name": "stdout",
     "output_type": "stream",
     "text": [
      "603223.SH updated from 20210114 to 20210115\n",
      "Time cost : 7.443216323852539s\n"
     ]
    },
    {
     "name": "stderr",
     "output_type": "stream",
     "text": [
      "\n",
      " 75%|███████▌  | 1606/2129 [1:59:58<38:45,  4.45s/it]"
     ]
    },
    {
     "name": "stdout",
     "output_type": "stream",
     "text": [
      "600267.SH updated from 20210114 to 20210115\n",
      "Time cost : 1.957988977432251s\n"
     ]
    },
    {
     "name": "stderr",
     "output_type": "stream",
     "text": [
      "\n",
      " 75%|███████▌  | 1607/2129 [2:00:00<32:11,  3.70s/it]"
     ]
    },
    {
     "name": "stdout",
     "output_type": "stream",
     "text": [
      "001914.SZ updated from 20210114 to 20210115\n",
      "Time cost : 3.4900333881378174s\n"
     ]
    },
    {
     "name": "stderr",
     "output_type": "stream",
     "text": [
      "\n",
      " 76%|███████▌  | 1608/2129 [2:00:03<31:35,  3.64s/it]"
     ]
    },
    {
     "name": "stdout",
     "output_type": "stream",
     "text": [
      "603303.SH updated from 20210114 to 20210115\n",
      "Time cost : 2.141301155090332s\n"
     ]
    },
    {
     "name": "stderr",
     "output_type": "stream",
     "text": [
      "\n",
      " 76%|███████▌  | 1609/2129 [2:00:06<27:38,  3.19s/it]"
     ]
    },
    {
     "name": "stdout",
     "output_type": "stream",
     "text": [
      "000603.SZ updated from 20210114 to 20210115\n",
      "Time cost : 2.7465341091156006s\n"
     ]
    },
    {
     "name": "stderr",
     "output_type": "stream",
     "text": [
      "\n",
      " 76%|███████▌  | 1610/2129 [2:00:08<26:26,  3.06s/it]"
     ]
    },
    {
     "name": "stdout",
     "output_type": "stream",
     "text": [
      "000042.SZ updated from 20210114 to 20210115\n",
      "Time cost : 4.652703762054443s\n"
     ]
    },
    {
     "name": "stderr",
     "output_type": "stream",
     "text": [
      "\n",
      " 76%|███████▌  | 1611/2129 [2:00:13<30:31,  3.54s/it]"
     ]
    },
    {
     "name": "stdout",
     "output_type": "stream",
     "text": [
      "601099.SH updated from 20210114 to 20210115\n",
      "Time cost : 1.1436796188354492s\n"
     ]
    },
    {
     "name": "stderr",
     "output_type": "stream",
     "text": [
      "\n",
      " 76%|███████▌  | 1612/2129 [2:00:14<24:17,  2.82s/it]"
     ]
    },
    {
     "name": "stdout",
     "output_type": "stream",
     "text": [
      "002968.SZ updated from 20210114 to 20210115\n",
      "Time cost : 11.618055820465088s\n"
     ]
    },
    {
     "name": "stderr",
     "output_type": "stream",
     "text": [
      "\n",
      " 76%|███████▌  | 1613/2129 [2:00:26<46:57,  5.46s/it]"
     ]
    },
    {
     "name": "stdout",
     "output_type": "stream",
     "text": [
      "002035.SZ updated from 20210114 to 20210115\n",
      "Time cost : 1.940507173538208s\n"
     ]
    },
    {
     "name": "stderr",
     "output_type": "stream",
     "text": [
      "\n",
      " 76%|███████▌  | 1614/2129 [2:00:28<37:48,  4.40s/it]"
     ]
    },
    {
     "name": "stdout",
     "output_type": "stream",
     "text": [
      "605333.SH updated from 20210114 to 20210115\n",
      "Time cost : 2.226001024246216s\n"
     ]
    },
    {
     "name": "stderr",
     "output_type": "stream",
     "text": [
      "\n",
      " 76%|███████▌  | 1615/2129 [2:00:30<32:08,  3.75s/it]"
     ]
    },
    {
     "name": "stdout",
     "output_type": "stream",
     "text": [
      "688408.SH updated from 20210114 to 20210115\n",
      "Time cost : 3.960005760192871s\n"
     ]
    },
    {
     "name": "stderr",
     "output_type": "stream",
     "text": [
      "\n",
      " 76%|███████▌  | 1616/2129 [2:00:34<32:36,  3.81s/it]"
     ]
    },
    {
     "name": "stdout",
     "output_type": "stream",
     "text": [
      "300596.SZ updated from 20210114 to 20210115\n",
      "Time cost : 2.1451125144958496s\n"
     ]
    },
    {
     "name": "stderr",
     "output_type": "stream",
     "text": [
      "\n",
      " 76%|███████▌  | 1617/2129 [2:00:36<28:17,  3.31s/it]"
     ]
    },
    {
     "name": "stdout",
     "output_type": "stream",
     "text": [
      "002016.SZ updated from 20210114 to 20210115\n",
      "Time cost : 2.924011468887329s\n"
     ]
    },
    {
     "name": "stderr",
     "output_type": "stream",
     "text": [
      "\n",
      " 76%|███████▌  | 1618/2129 [2:00:39<27:14,  3.20s/it]"
     ]
    },
    {
     "name": "stdout",
     "output_type": "stream",
     "text": [
      "300760.SZ updated from 20210114 to 20210115\n",
      "Time cost : 3.116633892059326s\n"
     ]
    },
    {
     "name": "stderr",
     "output_type": "stream",
     "text": [
      "\n",
      " 76%|███████▌  | 1619/2129 [2:00:42<26:58,  3.17s/it]"
     ]
    },
    {
     "name": "stdout",
     "output_type": "stream",
     "text": [
      "601899.SH updated from 20210114 to 20210115\n",
      "Time cost : 8.10892653465271s\n"
     ]
    },
    {
     "name": "stderr",
     "output_type": "stream",
     "text": [
      "\n",
      " 76%|███████▌  | 1620/2129 [2:00:50<39:29,  4.66s/it]"
     ]
    },
    {
     "name": "stdout",
     "output_type": "stream",
     "text": [
      "603367.SH updated from 20210114 to 20210115\n",
      "Time cost : 2.8005855083465576s\n"
     ]
    },
    {
     "name": "stderr",
     "output_type": "stream",
     "text": [
      "\n",
      " 76%|███████▌  | 1621/2129 [2:00:53<34:42,  4.10s/it]"
     ]
    },
    {
     "name": "stdout",
     "output_type": "stream",
     "text": [
      "002461.SZ updated from 20210114 to 20210115\n",
      "Time cost : 4.72936224937439s\n"
     ]
    },
    {
     "name": "stderr",
     "output_type": "stream",
     "text": [
      "\n",
      " 76%|███████▌  | 1622/2129 [2:00:58<36:14,  4.29s/it]"
     ]
    },
    {
     "name": "stdout",
     "output_type": "stream",
     "text": [
      "002946.SZ updated from 20210114 to 20210115\n",
      "Time cost : 4.654786586761475s\n"
     ]
    },
    {
     "name": "stderr",
     "output_type": "stream",
     "text": [
      "\n",
      " 76%|███████▌  | 1623/2129 [2:01:02<37:06,  4.40s/it]"
     ]
    },
    {
     "name": "stdout",
     "output_type": "stream",
     "text": [
      "601857.SH updated from 20210114 to 20210115\n",
      "Time cost : 1.149548053741455s\n"
     ]
    },
    {
     "name": "stderr",
     "output_type": "stream",
     "text": [
      "\n",
      " 76%|███████▋  | 1624/2129 [2:01:04<28:49,  3.43s/it]"
     ]
    },
    {
     "name": "stdout",
     "output_type": "stream",
     "text": [
      "688389.SH updated from 20210114 to 20210115\n",
      "Time cost : 5.770569801330566s\n"
     ]
    },
    {
     "name": "stderr",
     "output_type": "stream",
     "text": [
      "\n",
      " 76%|███████▋  | 1625/2129 [2:01:09<34:41,  4.13s/it]"
     ]
    },
    {
     "name": "stdout",
     "output_type": "stream",
     "text": [
      "600977.SH updated from 20210114 to 20210115\n",
      "Time cost : 1.2660176753997803s\n"
     ]
    },
    {
     "name": "stderr",
     "output_type": "stream",
     "text": [
      "\n",
      " 76%|███████▋  | 1626/2129 [2:01:11<27:25,  3.27s/it]"
     ]
    },
    {
     "name": "stdout",
     "output_type": "stream",
     "text": [
      "600053.SH updated from 20210114 to 20210115\n",
      "Time cost : 1.1623289585113525s\n"
     ]
    },
    {
     "name": "stderr",
     "output_type": "stream",
     "text": [
      "\n",
      " 76%|███████▋  | 1627/2129 [2:01:12<22:04,  2.64s/it]"
     ]
    },
    {
     "name": "stdout",
     "output_type": "stream",
     "text": [
      "002991.SZ updated from 20210114 to 20210115\n",
      "Time cost : 2.1407153606414795s\n"
     ]
    },
    {
     "name": "stderr",
     "output_type": "stream",
     "text": [
      "\n",
      " 76%|███████▋  | 1628/2129 [2:01:14<20:47,  2.49s/it]"
     ]
    },
    {
     "name": "stdout",
     "output_type": "stream",
     "text": [
      "002002.SZ updated from 20210114 to 20210115\n",
      "Time cost : 6.077342748641968s\n"
     ]
    },
    {
     "name": "stderr",
     "output_type": "stream",
     "text": [
      "\n",
      " 77%|███████▋  | 1629/2129 [2:01:20<29:43,  3.57s/it]"
     ]
    },
    {
     "name": "stdout",
     "output_type": "stream",
     "text": [
      "600820.SH updated from 20210114 to 20210115\n",
      "Time cost : 1.8048014640808105s\n"
     ]
    },
    {
     "name": "stderr",
     "output_type": "stream",
     "text": [
      "\n",
      " 77%|███████▋  | 1630/2129 [2:01:22<25:16,  3.04s/it]"
     ]
    },
    {
     "name": "stdout",
     "output_type": "stream",
     "text": [
      "000733.SZ updated from 20210114 to 20210115\n",
      "Time cost : 2.5392098426818848s\n"
     ]
    },
    {
     "name": "stderr",
     "output_type": "stream",
     "text": [
      "\n",
      " 77%|███████▋  | 1631/2129 [2:01:24<23:59,  2.89s/it]"
     ]
    },
    {
     "name": "stdout",
     "output_type": "stream",
     "text": [
      "300166.SZ updated from 20210114 to 20210115\n",
      "Time cost : 2.1464316844940186s\n"
     ]
    },
    {
     "name": "stderr",
     "output_type": "stream",
     "text": [
      "\n",
      " 77%|███████▋  | 1632/2129 [2:01:27<22:05,  2.67s/it]"
     ]
    },
    {
     "name": "stdout",
     "output_type": "stream",
     "text": [
      "688559.SH updated from 20210114 to 20210115\n",
      "Time cost : 4.225209712982178s\n"
     ]
    },
    {
     "name": "stderr",
     "output_type": "stream",
     "text": [
      "\n",
      " 77%|███████▋  | 1633/2129 [2:01:31<25:55,  3.14s/it]"
     ]
    },
    {
     "name": "stdout",
     "output_type": "stream",
     "text": [
      "601166.SH updated from 20210114 to 20210115\n",
      "Time cost : 3.1676056385040283s\n"
     ]
    },
    {
     "name": "stderr",
     "output_type": "stream",
     "text": [
      "\n",
      " 77%|███████▋  | 1634/2129 [2:01:34<25:57,  3.15s/it]"
     ]
    },
    {
     "name": "stdout",
     "output_type": "stream",
     "text": [
      "002987.SZ updated from 20210114 to 20210115\n",
      "Time cost : 5.207669258117676s\n"
     ]
    },
    {
     "name": "stderr",
     "output_type": "stream",
     "text": [
      "\n",
      " 77%|███████▋  | 1635/2129 [2:01:39<30:59,  3.76s/it]"
     ]
    },
    {
     "name": "stdout",
     "output_type": "stream",
     "text": [
      "002106.SZ updated from 20210114 to 20210115\n",
      "Time cost : 2.5727643966674805s\n"
     ]
    },
    {
     "name": "stderr",
     "output_type": "stream",
     "text": [
      "\n",
      " 77%|███████▋  | 1636/2129 [2:01:42<27:59,  3.41s/it]"
     ]
    },
    {
     "name": "stdout",
     "output_type": "stream",
     "text": [
      "600998.SH updated from 20210114 to 20210115\n",
      "Time cost : 2.5938661098480225s\n"
     ]
    },
    {
     "name": "stderr",
     "output_type": "stream",
     "text": [
      "\n",
      " 77%|███████▋  | 1637/2129 [2:01:44<25:56,  3.16s/it]"
     ]
    },
    {
     "name": "stdout",
     "output_type": "stream",
     "text": [
      "002226.SZ updated from 20210114 to 20210115\n",
      "Time cost : 2.557271957397461s\n"
     ]
    },
    {
     "name": "stderr",
     "output_type": "stream",
     "text": [
      "\n",
      " 77%|███████▋  | 1638/2129 [2:01:47<24:24,  2.98s/it]"
     ]
    },
    {
     "name": "stdout",
     "output_type": "stream",
     "text": [
      "002698.SZ updated from 20210114 to 20210115\n",
      "Time cost : 3.229188919067383s\n"
     ]
    },
    {
     "name": "stderr",
     "output_type": "stream",
     "text": [
      "\n",
      " 77%|███████▋  | 1639/2129 [2:01:50<24:58,  3.06s/it]"
     ]
    },
    {
     "name": "stdout",
     "output_type": "stream",
     "text": [
      "300233.SZ updated from 20210114 to 20210115\n",
      "Time cost : 1.878237009048462s\n"
     ]
    },
    {
     "name": "stderr",
     "output_type": "stream",
     "text": [
      "\n",
      " 77%|███████▋  | 1640/2129 [2:01:52<22:02,  2.70s/it]"
     ]
    },
    {
     "name": "stdout",
     "output_type": "stream",
     "text": [
      "002410.SZ updated from 20210114 to 20210115\n",
      "Time cost : 1.1883864402770996s\n"
     ]
    },
    {
     "name": "stderr",
     "output_type": "stream",
     "text": [
      "\n",
      " 77%|███████▋  | 1641/2129 [2:01:53<18:18,  2.25s/it]"
     ]
    },
    {
     "name": "stdout",
     "output_type": "stream",
     "text": [
      "002283.SZ updated from 20210114 to 20210115\n",
      "Time cost : 1.1492104530334473s\n"
     ]
    },
    {
     "name": "stderr",
     "output_type": "stream",
     "text": [
      "\n",
      " 77%|███████▋  | 1642/2129 [2:01:54<15:35,  1.92s/it]"
     ]
    },
    {
     "name": "stdout",
     "output_type": "stream",
     "text": [
      "002583.SZ updated from 20210114 to 20210115\n",
      "Time cost : 2.0817055702209473s\n"
     ]
    },
    {
     "name": "stderr",
     "output_type": "stream",
     "text": [
      "\n",
      " 77%|███████▋  | 1643/2129 [2:01:56<15:57,  1.97s/it]"
     ]
    },
    {
     "name": "stdout",
     "output_type": "stream",
     "text": [
      "002189.SZ updated from 20210114 to 20210115\n",
      "Time cost : 4.645589590072632s\n"
     ]
    },
    {
     "name": "stderr",
     "output_type": "stream",
     "text": [
      "\n",
      " 77%|███████▋  | 1644/2129 [2:02:01<22:24,  2.77s/it]"
     ]
    },
    {
     "name": "stdout",
     "output_type": "stream",
     "text": [
      "600510.SH updated from 20210114 to 20210115\n",
      "Time cost : 1.3177075386047363s\n"
     ]
    },
    {
     "name": "stderr",
     "output_type": "stream",
     "text": [
      "\n",
      " 77%|███████▋  | 1645/2129 [2:02:02<18:51,  2.34s/it]"
     ]
    },
    {
     "name": "stdout",
     "output_type": "stream",
     "text": [
      "002157.SZ updated from 20210114 to 20210115\n",
      "Time cost : 9.735955715179443s\n"
     ]
    },
    {
     "name": "stderr",
     "output_type": "stream",
     "text": [
      "\n",
      " 77%|███████▋  | 1646/2129 [2:02:12<36:41,  4.56s/it]"
     ]
    },
    {
     "name": "stdout",
     "output_type": "stream",
     "text": [
      "000089.SZ updated from 20210114 to 20210115\n",
      "Time cost : 1.2084429264068604s\n"
     ]
    },
    {
     "name": "stderr",
     "output_type": "stream",
     "text": [
      "\n",
      " 77%|███████▋  | 1647/2129 [2:02:13<28:32,  3.55s/it]"
     ]
    },
    {
     "name": "stdout",
     "output_type": "stream",
     "text": [
      "002891.SZ updated from 20210114 to 20210115\n",
      "Time cost : 1.1327404975891113s\n"
     ]
    },
    {
     "name": "stderr",
     "output_type": "stream",
     "text": [
      "\n",
      " 77%|███████▋  | 1648/2129 [2:02:14<22:40,  2.83s/it]"
     ]
    },
    {
     "name": "stdout",
     "output_type": "stream",
     "text": [
      "603337.SH updated from 20210114 to 20210115\n",
      "Time cost : 7.4632627964019775s\n"
     ]
    },
    {
     "name": "stderr",
     "output_type": "stream",
     "text": [
      "\n",
      " 77%|███████▋  | 1649/2129 [2:02:22<33:45,  4.22s/it]"
     ]
    },
    {
     "name": "stdout",
     "output_type": "stream",
     "text": [
      "688106.SH updated from 20210114 to 20210115\n",
      "Time cost : 1.1630935668945312s\n"
     ]
    },
    {
     "name": "stderr",
     "output_type": "stream",
     "text": [
      "\n",
      " 78%|███████▊  | 1650/2129 [2:02:23<26:21,  3.30s/it]"
     ]
    },
    {
     "name": "stdout",
     "output_type": "stream",
     "text": [
      "600600.SH updated from 20210114 to 20210115\n",
      "Time cost : 3.738820791244507s\n"
     ]
    },
    {
     "name": "stderr",
     "output_type": "stream",
     "text": [
      "\n",
      " 78%|███████▊  | 1651/2129 [2:02:27<27:21,  3.43s/it]"
     ]
    },
    {
     "name": "stdout",
     "output_type": "stream",
     "text": [
      "605388.SH updated from 20210114 to 20210115\n",
      "Time cost : 2.8228049278259277s\n"
     ]
    },
    {
     "name": "stderr",
     "output_type": "stream",
     "text": [
      "\n",
      " 78%|███████▊  | 1652/2129 [2:02:30<25:50,  3.25s/it]"
     ]
    },
    {
     "name": "stdout",
     "output_type": "stream",
     "text": [
      "600100.SH updated from 20210114 to 20210115\n",
      "Time cost : 4.220067501068115s\n"
     ]
    },
    {
     "name": "stderr",
     "output_type": "stream",
     "text": [
      "\n",
      " 78%|███████▊  | 1653/2129 [2:02:34<28:06,  3.54s/it]"
     ]
    },
    {
     "name": "stdout",
     "output_type": "stream",
     "text": [
      "000012.SZ updated from 20210114 to 20210115\n",
      "Time cost : 2.8093197345733643s\n"
     ]
    },
    {
     "name": "stderr",
     "output_type": "stream",
     "text": [
      "\n",
      " 78%|███████▊  | 1654/2129 [2:02:37<26:18,  3.32s/it]"
     ]
    },
    {
     "name": "stdout",
     "output_type": "stream",
     "text": [
      "601098.SH updated from 20210114 to 20210115\n",
      "Time cost : 3.2327821254730225s\n"
     ]
    },
    {
     "name": "stderr",
     "output_type": "stream",
     "text": [
      "\n",
      " 78%|███████▊  | 1655/2129 [2:02:40<26:02,  3.30s/it]"
     ]
    },
    {
     "name": "stdout",
     "output_type": "stream",
     "text": [
      "600567.SH updated from 20210114 to 20210115\n",
      "Time cost : 6.473865985870361s\n"
     ]
    },
    {
     "name": "stderr",
     "output_type": "stream",
     "text": [
      "\n",
      " 78%|███████▊  | 1656/2129 [2:02:46<33:30,  4.25s/it]"
     ]
    },
    {
     "name": "stdout",
     "output_type": "stream",
     "text": [
      "002484.SZ updated from 20210114 to 20210115\n",
      "Time cost : 2.146846055984497s\n"
     ]
    },
    {
     "name": "stderr",
     "output_type": "stream",
     "text": [
      "\n",
      " 78%|███████▊  | 1657/2129 [2:02:49<28:28,  3.62s/it]"
     ]
    },
    {
     "name": "stdout",
     "output_type": "stream",
     "text": [
      "601138.SH updated from 20210114 to 20210115\n",
      "Time cost : 1.1854970455169678s\n"
     ]
    },
    {
     "name": "stderr",
     "output_type": "stream",
     "text": [
      "\n",
      " 78%|███████▊  | 1658/2129 [2:02:50<22:41,  2.89s/it]"
     ]
    },
    {
     "name": "stdout",
     "output_type": "stream",
     "text": [
      "603019.SH updated from 20210114 to 20210115\n",
      "Time cost : 2.2958099842071533s\n"
     ]
    },
    {
     "name": "stderr",
     "output_type": "stream",
     "text": [
      "\n",
      " 78%|███████▊  | 1659/2129 [2:02:52<21:15,  2.71s/it]"
     ]
    },
    {
     "name": "stdout",
     "output_type": "stream",
     "text": [
      "601288.SH updated from 20210114 to 20210115\n",
      "Time cost : 2.6155829429626465s\n"
     ]
    },
    {
     "name": "stderr",
     "output_type": "stream",
     "text": [
      "\n",
      " 78%|███████▊  | 1660/2129 [2:02:55<20:58,  2.68s/it]"
     ]
    },
    {
     "name": "stdout",
     "output_type": "stream",
     "text": [
      "600612.SH updated from 20210114 to 20210115\n",
      "Time cost : 1.2213091850280762s\n"
     ]
    },
    {
     "name": "stderr",
     "output_type": "stream",
     "text": [
      "\n",
      " 78%|███████▊  | 1661/2129 [2:02:56<17:31,  2.25s/it]"
     ]
    },
    {
     "name": "stdout",
     "output_type": "stream",
     "text": [
      "000623.SZ updated from 20210114 to 20210115\n",
      "Time cost : 3.5670053958892822s\n"
     ]
    },
    {
     "name": "stderr",
     "output_type": "stream",
     "text": [
      "\n",
      " 78%|███████▊  | 1662/2129 [2:02:59<20:34,  2.64s/it]"
     ]
    },
    {
     "name": "stdout",
     "output_type": "stream",
     "text": [
      "600167.SH updated from 20210114 to 20210115\n",
      "Time cost : 2.6396689414978027s\n"
     ]
    },
    {
     "name": "stderr",
     "output_type": "stream",
     "text": [
      "\n",
      " 78%|███████▊  | 1663/2129 [2:03:02<20:31,  2.64s/it]"
     ]
    },
    {
     "name": "stdout",
     "output_type": "stream",
     "text": [
      "002108.SZ updated from 20210114 to 20210115\n",
      "Time cost : 2.5485424995422363s\n"
     ]
    },
    {
     "name": "stderr",
     "output_type": "stream",
     "text": [
      "\n",
      " 78%|███████▊  | 1664/2129 [2:03:05<20:15,  2.61s/it]"
     ]
    },
    {
     "name": "stdout",
     "output_type": "stream",
     "text": [
      "600025.SH updated from 20210114 to 20210115\n",
      "Time cost : 1.2371063232421875s\n"
     ]
    },
    {
     "name": "stderr",
     "output_type": "stream",
     "text": [
      "\n",
      " 78%|███████▊  | 1665/2129 [2:03:06<17:02,  2.20s/it]"
     ]
    },
    {
     "name": "stdout",
     "output_type": "stream",
     "text": [
      "601116.SH updated from 20210114 to 20210115\n",
      "Time cost : 4.018780469894409s\n"
     ]
    },
    {
     "name": "stderr",
     "output_type": "stream",
     "text": [
      "\n",
      " 78%|███████▊  | 1666/2129 [2:03:10<21:12,  2.75s/it]"
     ]
    },
    {
     "name": "stdout",
     "output_type": "stream",
     "text": [
      "002352.SZ updated from 20210114 to 20210115\n",
      "Time cost : 4.177013397216797s\n"
     ]
    },
    {
     "name": "stderr",
     "output_type": "stream",
     "text": [
      "\n",
      " 78%|███████▊  | 1667/2129 [2:03:14<24:27,  3.18s/it]"
     ]
    },
    {
     "name": "stdout",
     "output_type": "stream",
     "text": [
      "300529.SZ updated from 20210114 to 20210115\n",
      "Time cost : 16.19850254058838s\n"
     ]
    },
    {
     "name": "stderr",
     "output_type": "stream",
     "text": [
      "\n",
      " 78%|███████▊  | 1668/2129 [2:03:30<54:25,  7.08s/it]"
     ]
    },
    {
     "name": "stdout",
     "output_type": "stream",
     "text": [
      "002146.SZ updated from 20210114 to 20210115\n",
      "Time cost : 1.1909337043762207s\n"
     ]
    },
    {
     "name": "stderr",
     "output_type": "stream",
     "text": [
      "\n",
      " 78%|███████▊  | 1669/2129 [2:03:31<40:45,  5.32s/it]"
     ]
    },
    {
     "name": "stdout",
     "output_type": "stream",
     "text": [
      "688561.SH updated from 20210114 to 20210115\n",
      "Time cost : 1.1540946960449219s\n"
     ]
    },
    {
     "name": "stderr",
     "output_type": "stream",
     "text": [
      "\n",
      " 78%|███████▊  | 1670/2129 [2:03:33<31:07,  4.07s/it]"
     ]
    },
    {
     "name": "stdout",
     "output_type": "stream",
     "text": [
      "603566.SH updated from 20210114 to 20210115\n",
      "Time cost : 2.5228254795074463s\n"
     ]
    },
    {
     "name": "stderr",
     "output_type": "stream",
     "text": [
      "\n",
      " 78%|███████▊  | 1671/2129 [2:03:35<27:31,  3.61s/it]"
     ]
    },
    {
     "name": "stdout",
     "output_type": "stream",
     "text": [
      "601108.SH updated from 20210114 to 20210115\n",
      "Time cost : 2.525033950805664s\n"
     ]
    },
    {
     "name": "stderr",
     "output_type": "stream",
     "text": [
      "\n",
      " 79%|███████▊  | 1672/2129 [2:03:38<25:00,  3.28s/it]"
     ]
    },
    {
     "name": "stdout",
     "output_type": "stream",
     "text": [
      "600478.SH updated from 20210114 to 20210115\n",
      "Time cost : 23.638200044631958s\n"
     ]
    },
    {
     "name": "stderr",
     "output_type": "stream",
     "text": [
      "\n",
      " 79%|███████▊  | 1673/2129 [2:04:01<1:11:21,  9.39s/it]"
     ]
    },
    {
     "name": "stdout",
     "output_type": "stream",
     "text": [
      "000046.SZ updated from 20210114 to 20210115\n",
      "Time cost : 2.05399489402771s\n"
     ]
    },
    {
     "name": "stderr",
     "output_type": "stream",
     "text": [
      "\n",
      " 79%|███████▊  | 1674/2129 [2:04:03<54:31,  7.19s/it]  "
     ]
    },
    {
     "name": "stdout",
     "output_type": "stream",
     "text": [
      "002375.SZ updated from 20210114 to 20210115\n",
      "Time cost : 2.452924966812134s\n"
     ]
    },
    {
     "name": "stderr",
     "output_type": "stream",
     "text": [
      "\n",
      " 79%|███████▊  | 1675/2129 [2:04:06<43:39,  5.77s/it]"
     ]
    },
    {
     "name": "stdout",
     "output_type": "stream",
     "text": [
      "000799.SZ updated from 20210114 to 20210115\n",
      "Time cost : 3.1208877563476562s\n"
     ]
    },
    {
     "name": "stderr",
     "output_type": "stream",
     "text": [
      "\n",
      " 79%|███████▊  | 1676/2129 [2:04:09<37:33,  4.98s/it]"
     ]
    },
    {
     "name": "stdout",
     "output_type": "stream",
     "text": [
      "603520.SH updated from 20210114 to 20210115\n",
      "Time cost : 2.1672821044921875s\n"
     ]
    },
    {
     "name": "stderr",
     "output_type": "stream",
     "text": [
      "\n",
      " 79%|███████▉  | 1677/2129 [2:04:11<31:08,  4.13s/it]"
     ]
    },
    {
     "name": "stdout",
     "output_type": "stream",
     "text": [
      "600565.SH updated from 20210114 to 20210115\n",
      "Time cost : 1.1613948345184326s\n"
     ]
    },
    {
     "name": "stderr",
     "output_type": "stream",
     "text": [
      "\n",
      " 79%|███████▉  | 1678/2129 [2:04:12<24:22,  3.24s/it]"
     ]
    },
    {
     "name": "stdout",
     "output_type": "stream",
     "text": [
      "688396.SH updated from 20210114 to 20210115\n",
      "Time cost : 1.7123191356658936s\n"
     ]
    },
    {
     "name": "stderr",
     "output_type": "stream",
     "text": [
      "\n",
      " 79%|███████▉  | 1679/2129 [2:04:14<20:52,  2.78s/it]"
     ]
    },
    {
     "name": "stdout",
     "output_type": "stream",
     "text": [
      "600206.SH updated from 20210114 to 20210115\n",
      "Time cost : 4.843669414520264s\n"
     ]
    },
    {
     "name": "stderr",
     "output_type": "stream",
     "text": [
      "\n",
      " 79%|███████▉  | 1680/2129 [2:04:19<25:27,  3.40s/it]"
     ]
    },
    {
     "name": "stdout",
     "output_type": "stream",
     "text": [
      "000559.SZ updated from 20210114 to 20210115\n",
      "Time cost : 5.575199365615845s\n"
     ]
    },
    {
     "name": "stderr",
     "output_type": "stream",
     "text": [
      "\n",
      " 79%|███████▉  | 1681/2129 [2:04:24<30:16,  4.05s/it]"
     ]
    },
    {
     "name": "stdout",
     "output_type": "stream",
     "text": [
      "603093.SH updated from 20210114 to 20210115\n",
      "Time cost : 2.622910976409912s\n"
     ]
    },
    {
     "name": "stderr",
     "output_type": "stream",
     "text": [
      "\n",
      " 79%|███████▉  | 1682/2129 [2:04:27<27:00,  3.63s/it]"
     ]
    },
    {
     "name": "stdout",
     "output_type": "stream",
     "text": [
      "600269.SH updated from 20210114 to 20210115\n",
      "Time cost : 4.353966474533081s\n"
     ]
    },
    {
     "name": "stderr",
     "output_type": "stream",
     "text": [
      "\n",
      " 79%|███████▉  | 1683/2129 [2:04:31<28:34,  3.84s/it]"
     ]
    },
    {
     "name": "stdout",
     "output_type": "stream",
     "text": [
      "603218.SH updated from 20210114 to 20210115\n",
      "Time cost : 2.416654109954834s\n"
     ]
    },
    {
     "name": "stderr",
     "output_type": "stream",
     "text": [
      "\n",
      " 79%|███████▉  | 1684/2129 [2:04:34<25:20,  3.42s/it]"
     ]
    },
    {
     "name": "stdout",
     "output_type": "stream",
     "text": [
      "600036.SH updated from 20210114 to 20210115\n",
      "Time cost : 6.8028647899627686s\n"
     ]
    },
    {
     "name": "stderr",
     "output_type": "stream",
     "text": [
      "\n",
      " 79%|███████▉  | 1685/2129 [2:04:41<32:48,  4.43s/it]"
     ]
    },
    {
     "name": "stdout",
     "output_type": "stream",
     "text": [
      "603658.SH updated from 20210114 to 20210115\n",
      "Time cost : 2.732189178466797s\n"
     ]
    },
    {
     "name": "stderr",
     "output_type": "stream",
     "text": [
      "\n",
      " 79%|███████▉  | 1686/2129 [2:04:43<28:58,  3.92s/it]"
     ]
    },
    {
     "name": "stdout",
     "output_type": "stream",
     "text": [
      "002912.SZ updated from 20210114 to 20210115\n",
      "Time cost : 2.9921998977661133s\n"
     ]
    },
    {
     "name": "stderr",
     "output_type": "stream",
     "text": [
      "\n",
      " 79%|███████▉  | 1687/2129 [2:04:46<26:51,  3.65s/it]"
     ]
    },
    {
     "name": "stdout",
     "output_type": "stream",
     "text": [
      "002508.SZ updated from 20210114 to 20210115\n",
      "Time cost : 2.599562644958496s\n"
     ]
    },
    {
     "name": "stderr",
     "output_type": "stream",
     "text": [
      "\n",
      " 79%|███████▉  | 1688/2129 [2:04:49<24:29,  3.33s/it]"
     ]
    },
    {
     "name": "stdout",
     "output_type": "stream",
     "text": [
      "600425.SH updated from 20210114 to 20210115\n",
      "Time cost : 2.500180244445801s\n"
     ]
    },
    {
     "name": "stderr",
     "output_type": "stream",
     "text": [
      "\n",
      " 79%|███████▉  | 1689/2129 [2:04:51<22:36,  3.08s/it]"
     ]
    },
    {
     "name": "stdout",
     "output_type": "stream",
     "text": [
      "002543.SZ updated from 20210114 to 20210115\n",
      "Time cost : 2.8309874534606934s\n"
     ]
    },
    {
     "name": "stderr",
     "output_type": "stream",
     "text": [
      "\n",
      " 79%|███████▉  | 1690/2129 [2:04:54<22:00,  3.01s/it]"
     ]
    },
    {
     "name": "stdout",
     "output_type": "stream",
     "text": [
      "688123.SH updated from 20210114 to 20210115\n",
      "Time cost : 1.7530186176300049s\n"
     ]
    },
    {
     "name": "stderr",
     "output_type": "stream",
     "text": [
      "\n",
      " 79%|███████▉  | 1691/2129 [2:04:56<19:13,  2.63s/it]"
     ]
    },
    {
     "name": "stdout",
     "output_type": "stream",
     "text": [
      "000881.SZ updated from 20210114 to 20210115\n",
      "Time cost : 1.1624886989593506s\n"
     ]
    },
    {
     "name": "stderr",
     "output_type": "stream",
     "text": [
      "\n",
      " 79%|███████▉  | 1692/2129 [2:04:57<15:57,  2.19s/it]"
     ]
    },
    {
     "name": "stdout",
     "output_type": "stream",
     "text": [
      "300748.SZ updated from 20210114 to 20210115\n",
      "Time cost : 1.118757724761963s\n"
     ]
    },
    {
     "name": "stderr",
     "output_type": "stream",
     "text": [
      "\n",
      " 80%|███████▉  | 1693/2129 [2:04:58<13:35,  1.87s/it]"
     ]
    },
    {
     "name": "stdout",
     "output_type": "stream",
     "text": [
      "600601.SH updated from 20210114 to 20210115\n",
      "Time cost : 1.1788480281829834s\n"
     ]
    },
    {
     "name": "stderr",
     "output_type": "stream",
     "text": [
      "\n",
      " 80%|███████▉  | 1694/2129 [2:05:00<12:03,  1.66s/it]"
     ]
    },
    {
     "name": "stdout",
     "output_type": "stream",
     "text": [
      "603927.SH updated from 20210114 to 20210115\n",
      "Time cost : 2.7322940826416016s\n"
     ]
    },
    {
     "name": "stderr",
     "output_type": "stream",
     "text": [
      "\n",
      " 80%|███████▉  | 1695/2129 [2:05:02<14:21,  1.98s/it]"
     ]
    },
    {
     "name": "stdout",
     "output_type": "stream",
     "text": [
      "300572.SZ updated from 20210114 to 20210115\n",
      "Time cost : 1.8699827194213867s\n"
     ]
    },
    {
     "name": "stderr",
     "output_type": "stream",
     "text": [
      "\n",
      " 80%|███████▉  | 1696/2129 [2:05:04<14:04,  1.95s/it]"
     ]
    },
    {
     "name": "stdout",
     "output_type": "stream",
     "text": [
      "600363.SH updated from 20210114 to 20210115\n",
      "Time cost : 1.168849229812622s\n"
     ]
    },
    {
     "name": "stderr",
     "output_type": "stream",
     "text": [
      "\n",
      " 80%|███████▉  | 1697/2129 [2:05:05<12:21,  1.72s/it]"
     ]
    },
    {
     "name": "stdout",
     "output_type": "stream",
     "text": [
      "002138.SZ updated from 20210114 to 20210115\n",
      "Time cost : 3.4904580116271973s\n"
     ]
    },
    {
     "name": "stderr",
     "output_type": "stream",
     "text": [
      "\n",
      " 80%|███████▉  | 1698/2129 [2:05:09<16:09,  2.25s/it]"
     ]
    },
    {
     "name": "stdout",
     "output_type": "stream",
     "text": [
      "002208.SZ updated from 20210114 to 20210115\n",
      "Time cost : 2.1892263889312744s\n"
     ]
    },
    {
     "name": "stderr",
     "output_type": "stream",
     "text": [
      "\n",
      " 80%|███████▉  | 1699/2129 [2:05:11<15:59,  2.23s/it]"
     ]
    },
    {
     "name": "stdout",
     "output_type": "stream",
     "text": [
      "601068.SH updated from 20210114 to 20210115\n",
      "Time cost : 1.7160122394561768s\n"
     ]
    },
    {
     "name": "stderr",
     "output_type": "stream",
     "text": [
      "\n",
      " 80%|███████▉  | 1700/2129 [2:05:13<14:51,  2.08s/it]"
     ]
    },
    {
     "name": "stdout",
     "output_type": "stream",
     "text": [
      "000560.SZ updated from 20210114 to 20210115\n",
      "Time cost : 2.6098248958587646s\n"
     ]
    },
    {
     "name": "stderr",
     "output_type": "stream",
     "text": [
      "\n",
      " 80%|███████▉  | 1701/2129 [2:05:15<15:57,  2.24s/it]"
     ]
    },
    {
     "name": "stdout",
     "output_type": "stream",
     "text": [
      "300182.SZ updated from 20210114 to 20210115\n",
      "Time cost : 1.988034963607788s\n"
     ]
    },
    {
     "name": "stderr",
     "output_type": "stream",
     "text": [
      "\n",
      " 80%|███████▉  | 1702/2129 [2:05:17<15:24,  2.16s/it]"
     ]
    },
    {
     "name": "stdout",
     "output_type": "stream",
     "text": [
      "603956.SH updated from 20210114 to 20210115\n",
      "Time cost : 2.8554537296295166s\n"
     ]
    },
    {
     "name": "stderr",
     "output_type": "stream",
     "text": [
      "\n",
      " 80%|███████▉  | 1703/2129 [2:05:20<16:50,  2.37s/it]"
     ]
    },
    {
     "name": "stdout",
     "output_type": "stream",
     "text": [
      "000626.SZ updated from 20210114 to 20210115\n",
      "Time cost : 1.8618159294128418s\n"
     ]
    },
    {
     "name": "stderr",
     "output_type": "stream",
     "text": [
      "\n",
      " 80%|████████  | 1704/2129 [2:05:22<15:43,  2.22s/it]"
     ]
    },
    {
     "name": "stdout",
     "output_type": "stream",
     "text": [
      "600352.SH updated from 20210114 to 20210115\n",
      "Time cost : 1.1903817653656006s\n"
     ]
    },
    {
     "name": "stderr",
     "output_type": "stream",
     "text": [
      "\n",
      " 80%|████████  | 1705/2129 [2:05:23<13:30,  1.91s/it]"
     ]
    },
    {
     "name": "stdout",
     "output_type": "stream",
     "text": [
      "600477.SH updated from 20210114 to 20210115\n",
      "Time cost : 2.603400468826294s\n"
     ]
    },
    {
     "name": "stderr",
     "output_type": "stream",
     "text": [
      "\n",
      " 80%|████████  | 1706/2129 [2:05:26<14:56,  2.12s/it]"
     ]
    },
    {
     "name": "stdout",
     "output_type": "stream",
     "text": [
      "000928.SZ updated from 20210114 to 20210115\n",
      "Time cost : 1.9789350032806396s\n"
     ]
    },
    {
     "name": "stderr",
     "output_type": "stream",
     "text": [
      "\n",
      " 80%|████████  | 1707/2129 [2:05:28<14:36,  2.08s/it]"
     ]
    },
    {
     "name": "stdout",
     "output_type": "stream",
     "text": [
      "600482.SH updated from 20210114 to 20210115\n",
      "Time cost : 2.078282356262207s\n"
     ]
    },
    {
     "name": "stderr",
     "output_type": "stream",
     "text": [
      "\n",
      " 80%|████████  | 1708/2129 [2:05:30<14:35,  2.08s/it]"
     ]
    },
    {
     "name": "stdout",
     "output_type": "stream",
     "text": [
      "603713.SH updated from 20210114 to 20210115\n",
      "Time cost : 2.5371615886688232s\n"
     ]
    },
    {
     "name": "stderr",
     "output_type": "stream",
     "text": [
      "\n",
      " 80%|████████  | 1709/2129 [2:05:32<15:31,  2.22s/it]"
     ]
    },
    {
     "name": "stdout",
     "output_type": "stream",
     "text": [
      "000791.SZ updated from 20210114 to 20210115\n",
      "Time cost : 1.7668299674987793s\n"
     ]
    },
    {
     "name": "stderr",
     "output_type": "stream",
     "text": [
      "\n",
      " 80%|████████  | 1710/2129 [2:05:34<14:32,  2.08s/it]"
     ]
    },
    {
     "name": "stdout",
     "output_type": "stream",
     "text": [
      "600373.SH updated from 20210114 to 20210115\n",
      "Time cost : 3.7589938640594482s\n"
     ]
    },
    {
     "name": "stderr",
     "output_type": "stream",
     "text": [
      "\n",
      " 80%|████████  | 1711/2129 [2:05:38<18:01,  2.59s/it]"
     ]
    },
    {
     "name": "stdout",
     "output_type": "stream",
     "text": [
      "002637.SZ updated from 20210114 to 20210115\n",
      "Time cost : 1.8894932270050049s\n"
     ]
    },
    {
     "name": "stderr",
     "output_type": "stream",
     "text": [
      "\n",
      " 80%|████████  | 1712/2129 [2:05:40<16:31,  2.38s/it]"
     ]
    },
    {
     "name": "stdout",
     "output_type": "stream",
     "text": [
      "600563.SH updated from 20210114 to 20210115\n",
      "Time cost : 2.951589345932007s\n"
     ]
    },
    {
     "name": "stderr",
     "output_type": "stream",
     "text": [
      "\n",
      " 80%|████████  | 1713/2129 [2:05:43<17:41,  2.55s/it]"
     ]
    },
    {
     "name": "stdout",
     "output_type": "stream",
     "text": [
      "688051.SH updated from 20210114 to 20210115\n",
      "Time cost : 2.754676342010498s\n"
     ]
    },
    {
     "name": "stderr",
     "output_type": "stream",
     "text": [
      "\n",
      " 81%|████████  | 1714/2129 [2:05:46<18:04,  2.61s/it]"
     ]
    },
    {
     "name": "stdout",
     "output_type": "stream",
     "text": [
      "601975.SH updated from 20210114 to 20210115\n",
      "Time cost : 2.5238380432128906s\n"
     ]
    },
    {
     "name": "stderr",
     "output_type": "stream",
     "text": [
      "\n",
      " 81%|████████  | 1715/2129 [2:05:48<17:50,  2.59s/it]"
     ]
    },
    {
     "name": "stdout",
     "output_type": "stream",
     "text": [
      "300618.SZ updated from 20210114 to 20210115\n",
      "Time cost : 3.5123705863952637s\n"
     ]
    },
    {
     "name": "stderr",
     "output_type": "stream",
     "text": [
      "\n",
      " 81%|████████  | 1716/2129 [2:05:52<19:43,  2.86s/it]"
     ]
    },
    {
     "name": "stdout",
     "output_type": "stream",
     "text": [
      "000923.SZ updated from 20210114 to 20210115\n",
      "Time cost : 3.715127944946289s\n"
     ]
    },
    {
     "name": "stderr",
     "output_type": "stream",
     "text": [
      "\n",
      " 81%|████████  | 1717/2129 [2:05:55<21:25,  3.12s/it]"
     ]
    },
    {
     "name": "stdout",
     "output_type": "stream",
     "text": [
      "601799.SH updated from 20210114 to 20210115\n",
      "Time cost : 3.5645840167999268s\n"
     ]
    },
    {
     "name": "stderr",
     "output_type": "stream",
     "text": [
      "\n",
      " 81%|████████  | 1718/2129 [2:05:59<22:17,  3.25s/it]"
     ]
    },
    {
     "name": "stdout",
     "output_type": "stream",
     "text": [
      "300357.SZ updated from 20210114 to 20210115\n",
      "Time cost : 2.0811033248901367s\n"
     ]
    },
    {
     "name": "stderr",
     "output_type": "stream",
     "text": [
      "\n",
      " 81%|████████  | 1719/2129 [2:06:01<19:50,  2.90s/it]"
     ]
    },
    {
     "name": "stdout",
     "output_type": "stream",
     "text": [
      "002028.SZ updated from 20210114 to 20210115\n",
      "Time cost : 3.2003650665283203s\n"
     ]
    },
    {
     "name": "stderr",
     "output_type": "stream",
     "text": [
      "\n",
      " 81%|████████  | 1720/2129 [2:06:04<20:24,  2.99s/it]"
     ]
    },
    {
     "name": "stdout",
     "output_type": "stream",
     "text": [
      "300207.SZ updated from 20210114 to 20210115\n",
      "Time cost : 5.403507947921753s\n"
     ]
    },
    {
     "name": "stderr",
     "output_type": "stream",
     "text": [
      "\n",
      " 81%|████████  | 1721/2129 [2:06:10<25:16,  3.72s/it]"
     ]
    },
    {
     "name": "stdout",
     "output_type": "stream",
     "text": [
      "601995.SH updated from 20210114 to 20210115\n",
      "Time cost : 2.7255783081054688s\n"
     ]
    },
    {
     "name": "stderr",
     "output_type": "stream",
     "text": [
      "\n",
      " 81%|████████  | 1722/2129 [2:06:12<23:11,  3.42s/it]"
     ]
    },
    {
     "name": "stdout",
     "output_type": "stream",
     "text": [
      "300376.SZ updated from 20210114 to 20210115\n",
      "Time cost : 3.9426774978637695s\n"
     ]
    },
    {
     "name": "stderr",
     "output_type": "stream",
     "text": [
      "\n",
      " 81%|████████  | 1723/2129 [2:06:16<24:12,  3.58s/it]"
     ]
    },
    {
     "name": "stdout",
     "output_type": "stream",
     "text": [
      "300045.SZ updated from 20210114 to 20210115\n",
      "Time cost : 2.219485282897949s\n"
     ]
    },
    {
     "name": "stderr",
     "output_type": "stream",
     "text": [
      "\n",
      " 81%|████████  | 1724/2129 [2:06:18<21:24,  3.17s/it]"
     ]
    },
    {
     "name": "stdout",
     "output_type": "stream",
     "text": [
      "603299.SH updated from 20210114 to 20210115\n",
      "Time cost : 1.1528539657592773s\n"
     ]
    },
    {
     "name": "stderr",
     "output_type": "stream",
     "text": [
      "\n",
      " 81%|████████  | 1725/2129 [2:06:20<17:16,  2.57s/it]"
     ]
    },
    {
     "name": "stdout",
     "output_type": "stream",
     "text": [
      "300079.SZ updated from 20210114 to 20210115\n",
      "Time cost : 3.2193844318389893s\n"
     ]
    },
    {
     "name": "stderr",
     "output_type": "stream",
     "text": [
      "\n",
      " 81%|████████  | 1726/2129 [2:06:23<18:33,  2.76s/it]"
     ]
    },
    {
     "name": "stdout",
     "output_type": "stream",
     "text": [
      "000912.SZ updated from 20210114 to 20210115\n",
      "Time cost : 1.240149736404419s\n"
     ]
    },
    {
     "name": "stderr",
     "output_type": "stream",
     "text": [
      "\n",
      " 81%|████████  | 1727/2129 [2:06:24<15:27,  2.31s/it]"
     ]
    },
    {
     "name": "stdout",
     "output_type": "stream",
     "text": [
      "600094.SH updated from 20210114 to 20210115\n",
      "Time cost : 9.845343112945557s\n"
     ]
    },
    {
     "name": "stderr",
     "output_type": "stream",
     "text": [
      "\n",
      " 81%|████████  | 1728/2129 [2:06:34<30:32,  4.57s/it]"
     ]
    },
    {
     "name": "stdout",
     "output_type": "stream",
     "text": [
      "002918.SZ updated from 20210114 to 20210115\n",
      "Time cost : 2.5135531425476074s\n"
     ]
    },
    {
     "name": "stderr",
     "output_type": "stream",
     "text": [
      "\n",
      " 81%|████████  | 1729/2129 [2:06:36<26:21,  3.95s/it]"
     ]
    },
    {
     "name": "stdout",
     "output_type": "stream",
     "text": [
      "002396.SZ updated from 20210114 to 20210115\n",
      "Time cost : 2.1732044219970703s\n"
     ]
    },
    {
     "name": "stderr",
     "output_type": "stream",
     "text": [
      "\n",
      " 81%|████████▏ | 1730/2129 [2:06:39<22:44,  3.42s/it]"
     ]
    },
    {
     "name": "stdout",
     "output_type": "stream",
     "text": [
      "688513.SH updated from 20210114 to 20210115\n",
      "Time cost : 2.1041548252105713s\n"
     ]
    },
    {
     "name": "stderr",
     "output_type": "stream",
     "text": [
      "\n",
      " 81%|████████▏ | 1731/2129 [2:06:41<20:04,  3.03s/it]"
     ]
    },
    {
     "name": "stdout",
     "output_type": "stream",
     "text": [
      "600603.SH updated from 20210114 to 20210115\n",
      "Time cost : 3.2363905906677246s\n"
     ]
    },
    {
     "name": "stderr",
     "output_type": "stream",
     "text": [
      "\n",
      " 81%|████████▏ | 1732/2129 [2:06:44<20:26,  3.09s/it]"
     ]
    },
    {
     "name": "stdout",
     "output_type": "stream",
     "text": [
      "605222.SH updated from 20210114 to 20210115\n",
      "Time cost : 1.7361512184143066s\n"
     ]
    },
    {
     "name": "stderr",
     "output_type": "stream",
     "text": [
      "\n",
      " 81%|████████▏ | 1733/2129 [2:06:46<17:43,  2.68s/it]"
     ]
    },
    {
     "name": "stdout",
     "output_type": "stream",
     "text": [
      "688536.SH updated from 20210114 to 20210115\n",
      "Time cost : 3.223003387451172s\n"
     ]
    },
    {
     "name": "stderr",
     "output_type": "stream",
     "text": [
      "\n",
      " 81%|████████▏ | 1734/2129 [2:06:49<18:44,  2.85s/it]"
     ]
    },
    {
     "name": "stdout",
     "output_type": "stream",
     "text": [
      "000505.SZ updated from 20210114 to 20210115\n",
      "Time cost : 6.410820007324219s\n"
     ]
    },
    {
     "name": "stderr",
     "output_type": "stream",
     "text": [
      "\n",
      " 81%|████████▏ | 1735/2129 [2:06:55<25:43,  3.92s/it]"
     ]
    },
    {
     "name": "stdout",
     "output_type": "stream",
     "text": [
      "000983.SZ updated from 20210114 to 20210115\n",
      "Time cost : 7.543471336364746s\n"
     ]
    },
    {
     "name": "stderr",
     "output_type": "stream",
     "text": [
      "\n",
      " 82%|████████▏ | 1736/2129 [2:07:03<32:47,  5.01s/it]"
     ]
    },
    {
     "name": "stdout",
     "output_type": "stream",
     "text": [
      "688088.SH updated from 20210114 to 20210115\n",
      "Time cost : 2.3692750930786133s\n"
     ]
    },
    {
     "name": "stderr",
     "output_type": "stream",
     "text": [
      "\n",
      " 82%|████████▏ | 1737/2129 [2:07:05<27:32,  4.22s/it]"
     ]
    },
    {
     "name": "stdout",
     "output_type": "stream",
     "text": [
      "002966.SZ updated from 20210114 to 20210115\n",
      "Time cost : 2.853255271911621s\n"
     ]
    },
    {
     "name": "stderr",
     "output_type": "stream",
     "text": [
      "\n",
      " 82%|████████▏ | 1738/2129 [2:07:08<24:48,  3.81s/it]"
     ]
    },
    {
     "name": "stdout",
     "output_type": "stream",
     "text": [
      "000876.SZ updated from 20210114 to 20210115\n",
      "Time cost : 3.223161458969116s\n"
     ]
    },
    {
     "name": "stderr",
     "output_type": "stream",
     "text": [
      "\n",
      " 82%|████████▏ | 1739/2129 [2:07:11<23:36,  3.63s/it]"
     ]
    },
    {
     "name": "stdout",
     "output_type": "stream",
     "text": [
      "002747.SZ updated from 20210114 to 20210115\n",
      "Time cost : 2.672224998474121s\n"
     ]
    },
    {
     "name": "stderr",
     "output_type": "stream",
     "text": [
      "\n",
      " 82%|████████▏ | 1740/2129 [2:07:14<21:41,  3.34s/it]"
     ]
    },
    {
     "name": "stdout",
     "output_type": "stream",
     "text": [
      "002705.SZ updated from 20210114 to 20210115\n",
      "Time cost : 1.107635736465454s\n"
     ]
    },
    {
     "name": "stderr",
     "output_type": "stream",
     "text": [
      "\n",
      " 82%|████████▏ | 1741/2129 [2:07:15<17:17,  2.67s/it]"
     ]
    },
    {
     "name": "stdout",
     "output_type": "stream",
     "text": [
      "603348.SH updated from 20210114 to 20210115\n",
      "Time cost : 3.1358156204223633s\n"
     ]
    },
    {
     "name": "stderr",
     "output_type": "stream",
     "text": [
      "\n",
      " 82%|████████▏ | 1742/2129 [2:07:18<18:08,  2.81s/it]"
     ]
    },
    {
     "name": "stdout",
     "output_type": "stream",
     "text": [
      "600624.SH updated from 20210114 to 20210115\n",
      "Time cost : 1.2219667434692383s\n"
     ]
    },
    {
     "name": "stderr",
     "output_type": "stream",
     "text": [
      "\n",
      " 82%|████████▏ | 1743/2129 [2:07:19<15:01,  2.34s/it]"
     ]
    },
    {
     "name": "stdout",
     "output_type": "stream",
     "text": [
      "600720.SH updated from 20210114 to 20210115\n",
      "Time cost : 3.9500465393066406s\n"
     ]
    },
    {
     "name": "stderr",
     "output_type": "stream",
     "text": [
      "\n",
      " 82%|████████▏ | 1744/2129 [2:07:23<18:06,  2.82s/it]"
     ]
    },
    {
     "name": "stdout",
     "output_type": "stream",
     "text": [
      "600989.SH updated from 20210114 to 20210115\n",
      "Time cost : 3.004021644592285s\n"
     ]
    },
    {
     "name": "stderr",
     "output_type": "stream",
     "text": [
      "\n",
      " 82%|████████▏ | 1745/2129 [2:07:26<18:24,  2.88s/it]"
     ]
    },
    {
     "name": "stdout",
     "output_type": "stream",
     "text": [
      "600562.SH updated from 20210114 to 20210115\n",
      "Time cost : 5.548998117446899s\n"
     ]
    },
    {
     "name": "stderr",
     "output_type": "stream",
     "text": [
      "\n",
      " 82%|████████▏ | 1746/2129 [2:07:32<23:29,  3.68s/it]"
     ]
    },
    {
     "name": "stdout",
     "output_type": "stream",
     "text": [
      "601058.SH updated from 20210114 to 20210115\n",
      "Time cost : 4.550792217254639s\n"
     ]
    },
    {
     "name": "stderr",
     "output_type": "stream",
     "text": [
      "\n",
      " 82%|████████▏ | 1747/2129 [2:07:37<25:05,  3.94s/it]"
     ]
    },
    {
     "name": "stdout",
     "output_type": "stream",
     "text": [
      "000009.SZ updated from 20210114 to 20210115\n",
      "Time cost : 4.287304639816284s\n"
     ]
    },
    {
     "name": "stderr",
     "output_type": "stream",
     "text": [
      "\n",
      " 82%|████████▏ | 1748/2129 [2:07:41<25:41,  4.05s/it]"
     ]
    },
    {
     "name": "stdout",
     "output_type": "stream",
     "text": [
      "600737.SH updated from 20210114 to 20210115\n",
      "Time cost : 4.216296672821045s\n"
     ]
    },
    {
     "name": "stderr",
     "output_type": "stream",
     "text": [
      "\n",
      " 82%|████████▏ | 1749/2129 [2:07:45<25:56,  4.10s/it]"
     ]
    },
    {
     "name": "stdout",
     "output_type": "stream",
     "text": [
      "688390.SH updated from 20210114 to 20210115\n",
      "Time cost : 2.6197638511657715s\n"
     ]
    },
    {
     "name": "stderr",
     "output_type": "stream",
     "text": [
      "\n",
      " 82%|████████▏ | 1750/2129 [2:07:48<23:05,  3.65s/it]"
     ]
    },
    {
     "name": "stdout",
     "output_type": "stream",
     "text": [
      "603300.SH updated from 20210114 to 20210115\n",
      "Time cost : 1.1453471183776855s\n"
     ]
    },
    {
     "name": "stderr",
     "output_type": "stream",
     "text": [
      "\n",
      " 82%|████████▏ | 1751/2129 [2:07:49<18:17,  2.90s/it]"
     ]
    },
    {
     "name": "stdout",
     "output_type": "stream",
     "text": [
      "300527.SZ updated from 20210114 to 20210115\n",
      "Time cost : 1.7133617401123047s\n"
     ]
    },
    {
     "name": "stderr",
     "output_type": "stream",
     "text": [
      "\n",
      " 82%|████████▏ | 1752/2129 [2:07:51<16:00,  2.55s/it]"
     ]
    },
    {
     "name": "stdout",
     "output_type": "stream",
     "text": [
      "300908.SZ updated from 20210114 to 20210115\n",
      "Time cost : 4.2451066970825195s\n"
     ]
    },
    {
     "name": "stderr",
     "output_type": "stream",
     "text": [
      "\n",
      " 82%|████████▏ | 1753/2129 [2:07:55<19:09,  3.06s/it]"
     ]
    },
    {
     "name": "stdout",
     "output_type": "stream",
     "text": [
      "603896.SH updated from 20210114 to 20210115\n",
      "Time cost : 2.162269115447998s\n"
     ]
    },
    {
     "name": "stderr",
     "output_type": "stream",
     "text": [
      "\n",
      " 82%|████████▏ | 1754/2129 [2:07:57<17:25,  2.79s/it]"
     ]
    },
    {
     "name": "stdout",
     "output_type": "stream",
     "text": [
      "688221.SH updated from 20210114 to 20210115\n",
      "Time cost : 6.275576114654541s\n"
     ]
    },
    {
     "name": "stderr",
     "output_type": "stream",
     "text": [
      "\n",
      " 82%|████████▏ | 1755/2129 [2:08:03<23:54,  3.84s/it]"
     ]
    },
    {
     "name": "stdout",
     "output_type": "stream",
     "text": [
      "688567.SH updated from 20210114 to 20210115\n",
      "Time cost : 4.1997575759887695s\n"
     ]
    },
    {
     "name": "stderr",
     "output_type": "stream",
     "text": [
      "\n",
      " 82%|████████▏ | 1756/2129 [2:08:07<24:31,  3.95s/it]"
     ]
    },
    {
     "name": "stdout",
     "output_type": "stream",
     "text": [
      "688158.SH updated from 20210114 to 20210115\n",
      "Time cost : 2.5470190048217773s\n"
     ]
    },
    {
     "name": "stderr",
     "output_type": "stream",
     "text": [
      "\n",
      " 83%|████████▎ | 1757/2129 [2:08:10<21:51,  3.53s/it]"
     ]
    },
    {
     "name": "stdout",
     "output_type": "stream",
     "text": [
      "000671.SZ updated from 20210114 to 20210115\n",
      "Time cost : 1.196495532989502s\n"
     ]
    },
    {
     "name": "stderr",
     "output_type": "stream",
     "text": [
      "\n",
      " 83%|████████▎ | 1758/2129 [2:08:11<17:29,  2.83s/it]"
     ]
    },
    {
     "name": "stdout",
     "output_type": "stream",
     "text": [
      "601766.SH updated from 20210114 to 20210115\n",
      "Time cost : 4.223304033279419s\n"
     ]
    },
    {
     "name": "stderr",
     "output_type": "stream",
     "text": [
      "\n",
      " 83%|████████▎ | 1759/2129 [2:08:15<20:01,  3.25s/it]"
     ]
    },
    {
     "name": "stdout",
     "output_type": "stream",
     "text": [
      "601169.SH updated from 20210114 to 20210115\n",
      "Time cost : 3.0606982707977295s\n"
     ]
    },
    {
     "name": "stderr",
     "output_type": "stream",
     "text": [
      "\n",
      " 83%|████████▎ | 1760/2129 [2:08:18<19:38,  3.19s/it]"
     ]
    },
    {
     "name": "stdout",
     "output_type": "stream",
     "text": [
      "001896.SZ updated from 20210114 to 20210115\n",
      "Time cost : 1.1678438186645508s\n"
     ]
    },
    {
     "name": "stderr",
     "output_type": "stream",
     "text": [
      "\n",
      " 83%|████████▎ | 1761/2129 [2:08:20<15:51,  2.59s/it]"
     ]
    },
    {
     "name": "stdout",
     "output_type": "stream",
     "text": [
      "603787.SH updated from 20210114 to 20210115\n",
      "Time cost : 1.9988083839416504s\n"
     ]
    },
    {
     "name": "stderr",
     "output_type": "stream",
     "text": [
      "\n",
      " 83%|████████▎ | 1762/2129 [2:08:22<14:44,  2.41s/it]"
     ]
    },
    {
     "name": "stdout",
     "output_type": "stream",
     "text": [
      "600446.SH updated from 20210114 to 20210115\n",
      "Time cost : 1.7588133811950684s\n"
     ]
    },
    {
     "name": "stderr",
     "output_type": "stream",
     "text": [
      "\n",
      " 83%|████████▎ | 1763/2129 [2:08:23<13:30,  2.22s/it]"
     ]
    },
    {
     "name": "stdout",
     "output_type": "stream",
     "text": [
      "300197.SZ updated from 20210114 to 20210115\n",
      "Time cost : 5.6057446002960205s\n"
     ]
    },
    {
     "name": "stderr",
     "output_type": "stream",
     "text": [
      "\n",
      " 83%|████████▎ | 1764/2129 [2:08:29<19:40,  3.23s/it]"
     ]
    },
    {
     "name": "stdout",
     "output_type": "stream",
     "text": [
      "300401.SZ updated from 20210114 to 20210115\n",
      "Time cost : 1.2574396133422852s\n"
     ]
    },
    {
     "name": "stderr",
     "output_type": "stream",
     "text": [
      "\n",
      " 83%|████████▎ | 1765/2129 [2:08:30<16:01,  2.64s/it]"
     ]
    },
    {
     "name": "stdout",
     "output_type": "stream",
     "text": [
      "002532.SZ updated from 20210114 to 20210115\n",
      "Time cost : 5.302861213684082s\n"
     ]
    },
    {
     "name": "stderr",
     "output_type": "stream",
     "text": [
      "\n",
      " 83%|████████▎ | 1766/2129 [2:08:36<20:48,  3.44s/it]"
     ]
    },
    {
     "name": "stdout",
     "output_type": "stream",
     "text": [
      "601688.SH updated from 20210114 to 20210115\n",
      "Time cost : 1.978102207183838s\n"
     ]
    },
    {
     "name": "stderr",
     "output_type": "stream",
     "text": [
      "\n",
      " 83%|████████▎ | 1767/2129 [2:08:38<18:06,  3.00s/it]"
     ]
    },
    {
     "name": "stdout",
     "output_type": "stream",
     "text": [
      "300251.SZ updated from 20210114 to 20210115\n",
      "Time cost : 3.6661131381988525s\n"
     ]
    },
    {
     "name": "stderr",
     "output_type": "stream",
     "text": [
      "\n",
      " 83%|████████▎ | 1768/2129 [2:08:41<19:15,  3.20s/it]"
     ]
    },
    {
     "name": "stdout",
     "output_type": "stream",
     "text": [
      "300454.SZ updated from 20210114 to 20210115\n",
      "Time cost : 3.1268444061279297s\n"
     ]
    },
    {
     "name": "stderr",
     "output_type": "stream",
     "text": [
      "\n",
      " 83%|████████▎ | 1769/2129 [2:08:44<19:04,  3.18s/it]"
     ]
    },
    {
     "name": "stdout",
     "output_type": "stream",
     "text": [
      "600095.SH updated from 20210114 to 20210115\n",
      "Time cost : 4.338739395141602s\n"
     ]
    },
    {
     "name": "stderr",
     "output_type": "stream",
     "text": [
      "\n",
      " 83%|████████▎ | 1770/2129 [2:08:49<21:06,  3.53s/it]"
     ]
    },
    {
     "name": "stdout",
     "output_type": "stream",
     "text": [
      "600309.SH updated from 20210114 to 20210115\n",
      "Time cost : 1.463745355606079s\n"
     ]
    },
    {
     "name": "stderr",
     "output_type": "stream",
     "text": [
      "\n",
      " 83%|████████▎ | 1771/2129 [2:08:50<17:21,  2.91s/it]"
     ]
    },
    {
     "name": "stdout",
     "output_type": "stream",
     "text": [
      "600754.SH updated from 20210114 to 20210115\n",
      "Time cost : 2.104487180709839s\n"
     ]
    },
    {
     "name": "stderr",
     "output_type": "stream",
     "text": [
      "\n",
      " 83%|████████▎ | 1772/2129 [2:08:52<15:52,  2.67s/it]"
     ]
    },
    {
     "name": "stdout",
     "output_type": "stream",
     "text": [
      "600277.SH updated from 20210114 to 20210115\n",
      "Time cost : 3.521496295928955s\n"
     ]
    },
    {
     "name": "stderr",
     "output_type": "stream",
     "text": [
      "\n",
      " 83%|████████▎ | 1773/2129 [2:08:56<17:21,  2.93s/it]"
     ]
    },
    {
     "name": "stdout",
     "output_type": "stream",
     "text": [
      "300116.SZ updated from 20210114 to 20210115\n",
      "Time cost : 7.6688220500946045s\n"
     ]
    },
    {
     "name": "stderr",
     "output_type": "stream",
     "text": [
      "\n",
      " 83%|████████▎ | 1774/2129 [2:09:03<25:43,  4.35s/it]"
     ]
    },
    {
     "name": "stdout",
     "output_type": "stream",
     "text": [
      "300365.SZ updated from 20210114 to 20210115\n",
      "Time cost : 9.725494384765625s\n"
     ]
    },
    {
     "name": "stderr",
     "output_type": "stream",
     "text": [
      "\n",
      " 83%|████████▎ | 1775/2129 [2:09:13<35:10,  5.96s/it]"
     ]
    },
    {
     "name": "stdout",
     "output_type": "stream",
     "text": [
      "000415.SZ updated from 20210114 to 20210115\n",
      "Time cost : 5.169452667236328s\n"
     ]
    },
    {
     "name": "stderr",
     "output_type": "stream",
     "text": [
      "\n",
      " 83%|████████▎ | 1776/2129 [2:09:18<33:41,  5.73s/it]"
     ]
    },
    {
     "name": "stdout",
     "output_type": "stream",
     "text": [
      "002151.SZ updated from 20210114 to 20210115\n",
      "Time cost : 3.4183437824249268s\n"
     ]
    },
    {
     "name": "stderr",
     "output_type": "stream",
     "text": [
      "\n",
      " 83%|████████▎ | 1777/2129 [2:09:22<29:32,  5.03s/it]"
     ]
    },
    {
     "name": "stdout",
     "output_type": "stream",
     "text": [
      "601016.SH updated from 20210114 to 20210115\n",
      "Time cost : 2.9847750663757324s\n"
     ]
    },
    {
     "name": "stderr",
     "output_type": "stream",
     "text": [
      "\n",
      " 84%|████████▎ | 1778/2129 [2:09:25<25:51,  4.42s/it]"
     ]
    },
    {
     "name": "stdout",
     "output_type": "stream",
     "text": [
      "002214.SZ updated from 20210114 to 20210115\n",
      "Time cost : 2.0761706829071045s\n"
     ]
    },
    {
     "name": "stderr",
     "output_type": "stream",
     "text": [
      "\n",
      " 84%|████████▎ | 1779/2129 [2:09:27<21:41,  3.72s/it]"
     ]
    },
    {
     "name": "stdout",
     "output_type": "stream",
     "text": [
      "002640.SZ updated from 20210114 to 20210115\n",
      "Time cost : 1.4098482131958008s\n"
     ]
    },
    {
     "name": "stderr",
     "output_type": "stream",
     "text": [
      "\n",
      " 84%|████████▎ | 1780/2129 [2:09:28<17:36,  3.03s/it]"
     ]
    },
    {
     "name": "stdout",
     "output_type": "stream",
     "text": [
      "300910.SZ updated from 20210114 to 20210115\n",
      "Time cost : 4.630092620849609s\n"
     ]
    },
    {
     "name": "stderr",
     "output_type": "stream",
     "text": [
      "\n",
      " 84%|████████▎ | 1781/2129 [2:09:33<20:20,  3.51s/it]"
     ]
    },
    {
     "name": "stdout",
     "output_type": "stream",
     "text": [
      "601606.SH updated from 20210114 to 20210115\n",
      "Time cost : 2.5971627235412598s\n"
     ]
    },
    {
     "name": "stderr",
     "output_type": "stream",
     "text": [
      "\n",
      " 84%|████████▎ | 1782/2129 [2:09:35<18:42,  3.24s/it]"
     ]
    },
    {
     "name": "stdout",
     "output_type": "stream",
     "text": [
      "600409.SH updated from 20210114 to 20210115\n",
      "Time cost : 2.834388256072998s\n"
     ]
    },
    {
     "name": "stderr",
     "output_type": "stream",
     "text": [
      "\n",
      " 84%|████████▎ | 1783/2129 [2:09:38<17:58,  3.12s/it]"
     ]
    },
    {
     "name": "stdout",
     "output_type": "stream",
     "text": [
      "603712.SH updated from 20210114 to 20210115\n",
      "Time cost : 2.6186180114746094s\n"
     ]
    },
    {
     "name": "stderr",
     "output_type": "stream",
     "text": [
      "\n",
      " 84%|████████▍ | 1784/2129 [2:09:41<17:03,  2.97s/it]"
     ]
    },
    {
     "name": "stdout",
     "output_type": "stream",
     "text": [
      "000028.SZ updated from 20210114 to 20210115\n",
      "Time cost : 2.7217209339141846s\n"
     ]
    },
    {
     "name": "stderr",
     "output_type": "stream",
     "text": [
      "\n",
      " 84%|████████▍ | 1785/2129 [2:09:44<16:35,  2.89s/it]"
     ]
    },
    {
     "name": "stdout",
     "output_type": "stream",
     "text": [
      "688268.SH updated from 20210114 to 20210115\n",
      "Time cost : 17.059979677200317s\n"
     ]
    },
    {
     "name": "stderr",
     "output_type": "stream",
     "text": [
      "\n",
      " 84%|████████▍ | 1786/2129 [2:10:01<40:50,  7.14s/it]"
     ]
    },
    {
     "name": "stdout",
     "output_type": "stream",
     "text": [
      "600399.SH updated from 20210114 to 20210115\n",
      "Time cost : 23.870011568069458s\n"
     ]
    },
    {
     "name": "stderr",
     "output_type": "stream",
     "text": [
      "\n",
      " 84%|████████▍ | 1787/2129 [2:10:25<1:09:19, 12.16s/it]"
     ]
    },
    {
     "name": "stdout",
     "output_type": "stream",
     "text": [
      "600015.SH updated from 20210114 to 20210115\n",
      "Time cost : 2.496149778366089s\n"
     ]
    },
    {
     "name": "stderr",
     "output_type": "stream",
     "text": [
      "\n",
      " 84%|████████▍ | 1788/2129 [2:10:27<52:38,  9.26s/it]  "
     ]
    },
    {
     "name": "stdout",
     "output_type": "stream",
     "text": [
      "600586.SH updated from 20210114 to 20210115\n",
      "Time cost : 2.668187379837036s\n"
     ]
    },
    {
     "name": "stderr",
     "output_type": "stream",
     "text": [
      "\n",
      " 84%|████████▍ | 1789/2129 [2:10:30<41:17,  7.29s/it]"
     ]
    },
    {
     "name": "stdout",
     "output_type": "stream",
     "text": [
      "000830.SZ updated from 20210114 to 20210115\n",
      "Time cost : 3.090708017349243s\n"
     ]
    },
    {
     "name": "stderr",
     "output_type": "stream",
     "text": [
      "\n",
      " 84%|████████▍ | 1790/2129 [2:10:33<34:03,  6.03s/it]"
     ]
    },
    {
     "name": "stdout",
     "output_type": "stream",
     "text": [
      "300098.SZ updated from 20210114 to 20210115\n",
      "Time cost : 4.153226852416992s\n"
     ]
    },
    {
     "name": "stderr",
     "output_type": "stream",
     "text": [
      "\n",
      " 84%|████████▍ | 1791/2129 [2:10:37<30:47,  5.47s/it]"
     ]
    },
    {
     "name": "stdout",
     "output_type": "stream",
     "text": [
      "000927.SZ updated from 20210114 to 20210115\n",
      "Time cost : 1.211773157119751s\n"
     ]
    },
    {
     "name": "stderr",
     "output_type": "stream",
     "text": [
      "\n",
      " 84%|████████▍ | 1792/2129 [2:10:38<23:32,  4.19s/it]"
     ]
    },
    {
     "name": "stdout",
     "output_type": "stream",
     "text": [
      "300576.SZ updated from 20210114 to 20210115\n",
      "Time cost : 6.592228412628174s\n"
     ]
    },
    {
     "name": "stderr",
     "output_type": "stream",
     "text": [
      "\n",
      " 84%|████████▍ | 1793/2129 [2:10:45<27:30,  4.91s/it]"
     ]
    },
    {
     "name": "stdout",
     "output_type": "stream",
     "text": [
      "300892.SZ updated from 20210114 to 20210115\n",
      "Time cost : 2.655317544937134s\n"
     ]
    },
    {
     "name": "stderr",
     "output_type": "stream",
     "text": [
      "\n",
      " 84%|████████▍ | 1794/2129 [2:10:47<23:38,  4.24s/it]"
     ]
    },
    {
     "name": "stdout",
     "output_type": "stream",
     "text": [
      "000410.SZ updated from 20210114 to 20210115\n",
      "Time cost : 4.913433790206909s\n"
     ]
    },
    {
     "name": "stderr",
     "output_type": "stream",
     "text": [
      "\n",
      " 84%|████████▍ | 1795/2129 [2:10:52<24:42,  4.44s/it]"
     ]
    },
    {
     "name": "stdout",
     "output_type": "stream",
     "text": [
      "600177.SH updated from 20210114 to 20210115\n",
      "Time cost : 2.14766001701355s\n"
     ]
    },
    {
     "name": "stderr",
     "output_type": "stream",
     "text": [
      "\n",
      " 84%|████████▍ | 1796/2129 [2:10:55<20:49,  3.75s/it]"
     ]
    },
    {
     "name": "stdout",
     "output_type": "stream",
     "text": [
      "300577.SZ updated from 20210114 to 20210115\n",
      "Time cost : 2.651171922683716s\n"
     ]
    },
    {
     "name": "stderr",
     "output_type": "stream",
     "text": [
      "\n",
      " 84%|████████▍ | 1797/2129 [2:10:57<18:56,  3.42s/it]"
     ]
    },
    {
     "name": "stdout",
     "output_type": "stream",
     "text": [
      "300894.SZ updated from 20210114 to 20210115\n",
      "Time cost : 1.7199764251708984s\n"
     ]
    },
    {
     "name": "stderr",
     "output_type": "stream",
     "text": [
      "\n",
      " 84%|████████▍ | 1798/2129 [2:10:59<16:04,  2.91s/it]"
     ]
    },
    {
     "name": "stdout",
     "output_type": "stream",
     "text": [
      "000011.SZ updated from 20210114 to 20210115\n",
      "Time cost : 2.6992578506469727s\n"
     ]
    },
    {
     "name": "stderr",
     "output_type": "stream",
     "text": [
      "\n",
      " 84%|████████▍ | 1799/2129 [2:11:02<15:40,  2.85s/it]"
     ]
    },
    {
     "name": "stdout",
     "output_type": "stream",
     "text": [
      "300877.SZ updated from 20210114 to 20210115\n",
      "Time cost : 1.7719066143035889s\n"
     ]
    },
    {
     "name": "stderr",
     "output_type": "stream",
     "text": [
      "\n",
      " 85%|████████▍ | 1800/2129 [2:11:03<13:51,  2.53s/it]"
     ]
    },
    {
     "name": "stdout",
     "output_type": "stream",
     "text": [
      "001965.SZ updated from 20210114 to 20210115\n",
      "Time cost : 1.1043825149536133s\n"
     ]
    },
    {
     "name": "stderr",
     "output_type": "stream",
     "text": [
      "\n",
      " 85%|████████▍ | 1801/2129 [2:11:04<11:29,  2.10s/it]"
     ]
    },
    {
     "name": "stdout",
     "output_type": "stream",
     "text": [
      "600120.SH updated from 20210114 to 20210115\n",
      "Time cost : 1.7212963104248047s\n"
     ]
    },
    {
     "name": "stderr",
     "output_type": "stream",
     "text": [
      "\n",
      " 85%|████████▍ | 1802/2129 [2:11:06<10:50,  1.99s/it]"
     ]
    },
    {
     "name": "stdout",
     "output_type": "stream",
     "text": [
      "300722.SZ updated from 20210114 to 20210115\n",
      "Time cost : 19.73451805114746s\n"
     ]
    },
    {
     "name": "stderr",
     "output_type": "stream",
     "text": [
      "\n",
      " 85%|████████▍ | 1803/2129 [2:11:26<39:43,  7.31s/it]"
     ]
    },
    {
     "name": "stdout",
     "output_type": "stream",
     "text": [
      "688981.SH updated from 20210114 to 20210115\n",
      "Time cost : 1.1097102165222168s\n"
     ]
    },
    {
     "name": "stderr",
     "output_type": "stream",
     "text": [
      "\n",
      " 85%|████████▍ | 1804/2129 [2:11:27<29:32,  5.45s/it]"
     ]
    },
    {
     "name": "stdout",
     "output_type": "stream",
     "text": [
      "600879.SH updated from 20210114 to 20210115\n",
      "Time cost : 10.405826568603516s\n"
     ]
    },
    {
     "name": "stderr",
     "output_type": "stream",
     "text": [
      "\n",
      " 85%|████████▍ | 1805/2129 [2:11:37<37:28,  6.94s/it]"
     ]
    },
    {
     "name": "stdout",
     "output_type": "stream",
     "text": [
      "300316.SZ updated from 20210114 to 20210115\n",
      "Time cost : 11.64270567893982s\n"
     ]
    },
    {
     "name": "stderr",
     "output_type": "stream",
     "text": [
      "\n",
      " 85%|████████▍ | 1806/2129 [2:11:49<44:57,  8.35s/it]"
     ]
    },
    {
     "name": "stdout",
     "output_type": "stream",
     "text": [
      "605288.SH updated from 20210114 to 20210115\n",
      "Time cost : 3.615288019180298s\n"
     ]
    },
    {
     "name": "stderr",
     "output_type": "stream",
     "text": [
      "\n",
      " 85%|████████▍ | 1807/2129 [2:11:53<37:11,  6.93s/it]"
     ]
    },
    {
     "name": "stdout",
     "output_type": "stream",
     "text": [
      "002051.SZ updated from 20210114 to 20210115\n",
      "Time cost : 1.7812714576721191s\n"
     ]
    },
    {
     "name": "stderr",
     "output_type": "stream",
     "text": [
      "\n",
      " 85%|████████▍ | 1808/2129 [2:11:55<28:49,  5.39s/it]"
     ]
    },
    {
     "name": "stdout",
     "output_type": "stream",
     "text": [
      "600877.SH updated from 20210114 to 20210115\n",
      "Time cost : 1.658735752105713s\n"
     ]
    },
    {
     "name": "stderr",
     "output_type": "stream",
     "text": [
      "\n",
      " 85%|████████▍ | 1809/2129 [2:11:56<22:46,  4.27s/it]"
     ]
    },
    {
     "name": "stdout",
     "output_type": "stream",
     "text": [
      "300841.SZ updated from 20210114 to 20210115\n",
      "Time cost : 3.799030065536499s\n"
     ]
    },
    {
     "name": "stderr",
     "output_type": "stream",
     "text": [
      "\n",
      " 85%|████████▌ | 1810/2129 [2:12:00<21:56,  4.13s/it]"
     ]
    },
    {
     "name": "stdout",
     "output_type": "stream",
     "text": [
      "603131.SH updated from 20210114 to 20210115\n",
      "Time cost : 2.521864175796509s\n"
     ]
    },
    {
     "name": "stderr",
     "output_type": "stream",
     "text": [
      "\n",
      " 85%|████████▌ | 1811/2129 [2:12:03<19:19,  3.65s/it]"
     ]
    },
    {
     "name": "stdout",
     "output_type": "stream",
     "text": [
      "000718.SZ updated from 20210114 to 20210115\n",
      "Time cost : 3.9711079597473145s\n"
     ]
    },
    {
     "name": "stderr",
     "output_type": "stream",
     "text": [
      "\n",
      " 85%|████████▌ | 1812/2129 [2:12:06<19:47,  3.75s/it]"
     ]
    },
    {
     "name": "stdout",
     "output_type": "stream",
     "text": [
      "000975.SZ updated from 20210114 to 20210115\n",
      "Time cost : 8.98484492301941s\n"
     ]
    },
    {
     "name": "stderr",
     "output_type": "stream",
     "text": [
      "\n",
      " 85%|████████▌ | 1813/2129 [2:12:15<28:00,  5.32s/it]"
     ]
    },
    {
     "name": "stdout",
     "output_type": "stream",
     "text": [
      "600882.SH updated from 20210114 to 20210115\n",
      "Time cost : 1.1974947452545166s\n"
     ]
    },
    {
     "name": "stderr",
     "output_type": "stream",
     "text": [
      "\n",
      " 85%|████████▌ | 1814/2129 [2:12:17<21:25,  4.08s/it]"
     ]
    },
    {
     "name": "stdout",
     "output_type": "stream",
     "text": [
      "600500.SH updated from 20210114 to 20210115\n",
      "Time cost : 9.058696269989014s\n"
     ]
    },
    {
     "name": "stderr",
     "output_type": "stream",
     "text": [
      "\n",
      " 85%|████████▌ | 1815/2129 [2:12:26<29:10,  5.58s/it]"
     ]
    },
    {
     "name": "stdout",
     "output_type": "stream",
     "text": [
      "300015.SZ updated from 20210114 to 20210115\n",
      "Time cost : 2.253136157989502s\n"
     ]
    },
    {
     "name": "stderr",
     "output_type": "stream",
     "text": [
      "\n",
      " 85%|████████▌ | 1816/2129 [2:12:28<23:53,  4.58s/it]"
     ]
    },
    {
     "name": "stdout",
     "output_type": "stream",
     "text": [
      "000423.SZ updated from 20210114 to 20210115\n",
      "Time cost : 5.004507064819336s\n"
     ]
    },
    {
     "name": "stderr",
     "output_type": "stream",
     "text": [
      "\n",
      " 85%|████████▌ | 1817/2129 [2:12:33<24:28,  4.71s/it]"
     ]
    },
    {
     "name": "stdout",
     "output_type": "stream",
     "text": [
      "300699.SZ updated from 20210114 to 20210115\n",
      "Time cost : 2.714082717895508s\n"
     ]
    },
    {
     "name": "stderr",
     "output_type": "stream",
     "text": [
      "\n",
      " 85%|████████▌ | 1818/2129 [2:12:36<21:18,  4.11s/it]"
     ]
    },
    {
     "name": "stdout",
     "output_type": "stream",
     "text": [
      "002756.SZ updated from 20210114 to 20210115\n",
      "Time cost : 2.585359811782837s\n"
     ]
    },
    {
     "name": "stderr",
     "output_type": "stream",
     "text": [
      "\n",
      " 85%|████████▌ | 1819/2129 [2:12:38<18:52,  3.65s/it]"
     ]
    },
    {
     "name": "stdout",
     "output_type": "stream",
     "text": [
      "000921.SZ updated from 20210114 to 20210115\n",
      "Time cost : 2.1717283725738525s\n"
     ]
    },
    {
     "name": "stderr",
     "output_type": "stream",
     "text": [
      "\n",
      " 85%|████████▌ | 1820/2129 [2:12:40<16:31,  3.21s/it]"
     ]
    },
    {
     "name": "stdout",
     "output_type": "stream",
     "text": [
      "600919.SH updated from 20210114 to 20210115\n",
      "Time cost : 2.4832763671875s\n"
     ]
    },
    {
     "name": "stderr",
     "output_type": "stream",
     "text": [
      "\n",
      " 86%|████████▌ | 1821/2129 [2:12:43<15:21,  2.99s/it]"
     ]
    },
    {
     "name": "stdout",
     "output_type": "stream",
     "text": [
      "HTTPConnectionPool(host='api.waditu.com', port=80): Read timed out. (read timeout=30)\n",
      "300775.SZ updated from 20210114 to 20210115\n",
      "Time cost : 37.641732692718506s\n"
     ]
    },
    {
     "name": "stderr",
     "output_type": "stream",
     "text": [
      "\n",
      " 86%|████████▌ | 1822/2129 [2:13:21<1:08:30, 13.39s/it]"
     ]
    },
    {
     "name": "stdout",
     "output_type": "stream",
     "text": [
      "688526.SH updated from 20210114 to 20210115\n",
      "Time cost : 1.7155117988586426s\n"
     ]
    },
    {
     "name": "stderr",
     "output_type": "stream",
     "text": [
      "\n",
      " 86%|████████▌ | 1823/2129 [2:13:22<50:25,  9.89s/it]  "
     ]
    },
    {
     "name": "stdout",
     "output_type": "stream",
     "text": [
      "600307.SH updated from 20210114 to 20210115\n",
      "Time cost : 2.5753607749938965s\n"
     ]
    },
    {
     "name": "stderr",
     "output_type": "stream",
     "text": [
      "\n",
      " 86%|████████▌ | 1824/2129 [2:13:25<39:06,  7.69s/it]"
     ]
    },
    {
     "name": "stdout",
     "output_type": "stream",
     "text": [
      "603711.SH updated from 20210114 to 20210115\n",
      "Time cost : 4.412305593490601s\n"
     ]
    },
    {
     "name": "stderr",
     "output_type": "stream",
     "text": [
      "\n",
      " 86%|████████▌ | 1825/2129 [2:13:29<33:59,  6.71s/it]"
     ]
    },
    {
     "name": "stdout",
     "output_type": "stream",
     "text": [
      "600246.SH updated from 20210114 to 20210115\n",
      "Time cost : 3.9920217990875244s\n"
     ]
    },
    {
     "name": "stderr",
     "output_type": "stream",
     "text": [
      "\n",
      " 86%|████████▌ | 1826/2129 [2:13:33<29:46,  5.90s/it]"
     ]
    },
    {
     "name": "stdout",
     "output_type": "stream",
     "text": [
      "600739.SH updated from 20210114 to 20210115\n",
      "Time cost : 3.191969633102417s\n"
     ]
    },
    {
     "name": "stderr",
     "output_type": "stream",
     "text": [
      "\n",
      " 86%|████████▌ | 1827/2129 [2:13:36<25:35,  5.08s/it]"
     ]
    },
    {
     "name": "stdout",
     "output_type": "stream",
     "text": [
      "300054.SZ updated from 20210114 to 20210115\n",
      "Time cost : 1.7392044067382812s\n"
     ]
    },
    {
     "name": "stderr",
     "output_type": "stream",
     "text": [
      "\n",
      " 86%|████████▌ | 1828/2129 [2:13:38<20:28,  4.08s/it]"
     ]
    },
    {
     "name": "stdout",
     "output_type": "stream",
     "text": [
      "600963.SH updated from 20210114 to 20210115\n",
      "Time cost : 3.861445188522339s\n"
     ]
    },
    {
     "name": "stderr",
     "output_type": "stream",
     "text": [
      "\n",
      " 86%|████████▌ | 1829/2129 [2:13:42<20:04,  4.02s/it]"
     ]
    },
    {
     "name": "stdout",
     "output_type": "stream",
     "text": [
      "000651.SZ updated from 20210114 to 20210115\n",
      "Time cost : 1.1551856994628906s\n"
     ]
    },
    {
     "name": "stderr",
     "output_type": "stream",
     "text": [
      "\n",
      " 86%|████████▌ | 1830/2129 [2:13:43<15:44,  3.16s/it]"
     ]
    },
    {
     "name": "stdout",
     "output_type": "stream",
     "text": [
      "002182.SZ updated from 20210114 to 20210115\n",
      "Time cost : 3.23361873626709s\n"
     ]
    },
    {
     "name": "stderr",
     "output_type": "stream",
     "text": [
      "\n",
      " 86%|████████▌ | 1831/2129 [2:13:46<15:48,  3.18s/it]"
     ]
    },
    {
     "name": "stdout",
     "output_type": "stream",
     "text": [
      "300866.SZ updated from 20210114 to 20210115\n",
      "Time cost : 3.697124719619751s\n"
     ]
    },
    {
     "name": "stderr",
     "output_type": "stream",
     "text": [
      "\n",
      " 86%|████████▌ | 1832/2129 [2:13:50<16:31,  3.34s/it]"
     ]
    },
    {
     "name": "stdout",
     "output_type": "stream",
     "text": [
      "000729.SZ updated from 20210114 to 20210115\n",
      "Time cost : 1.113302230834961s\n"
     ]
    },
    {
     "name": "stderr",
     "output_type": "stream",
     "text": [
      "\n",
      " 86%|████████▌ | 1833/2129 [2:13:51<13:10,  2.67s/it]"
     ]
    },
    {
     "name": "stdout",
     "output_type": "stream",
     "text": [
      "000810.SZ updated from 20210114 to 20210115\n",
      "Time cost : 2.4773173332214355s\n"
     ]
    },
    {
     "name": "stderr",
     "output_type": "stream",
     "text": [
      "\n",
      " 86%|████████▌ | 1834/2129 [2:13:54<12:50,  2.61s/it]"
     ]
    },
    {
     "name": "stdout",
     "output_type": "stream",
     "text": [
      "300903.SZ updated from 20210114 to 20210115\n",
      "Time cost : 4.01677942276001s\n"
     ]
    },
    {
     "name": "stderr",
     "output_type": "stream",
     "text": [
      "\n",
      " 86%|████████▌ | 1835/2129 [2:13:58<14:52,  3.04s/it]"
     ]
    },
    {
     "name": "stdout",
     "output_type": "stream",
     "text": [
      "600566.SH updated from 20210114 to 20210115\n",
      "Time cost : 3.4339282512664795s\n"
     ]
    },
    {
     "name": "stderr",
     "output_type": "stream",
     "text": [
      "\n",
      " 86%|████████▌ | 1836/2129 [2:14:01<15:24,  3.16s/it]"
     ]
    },
    {
     "name": "stdout",
     "output_type": "stream",
     "text": [
      "601886.SH updated from 20210114 to 20210115\n",
      "Time cost : 1.7125251293182373s\n"
     ]
    },
    {
     "name": "stderr",
     "output_type": "stream",
     "text": [
      "\n",
      " 86%|████████▋ | 1837/2129 [2:14:03<13:15,  2.72s/it]"
     ]
    },
    {
     "name": "stdout",
     "output_type": "stream",
     "text": [
      "600529.SH updated from 20210114 to 20210115\n",
      "Time cost : 4.373356103897095s\n"
     ]
    },
    {
     "name": "stderr",
     "output_type": "stream",
     "text": [
      "\n",
      " 86%|████████▋ | 1838/2129 [2:14:07<15:36,  3.22s/it]"
     ]
    },
    {
     "name": "stdout",
     "output_type": "stream",
     "text": [
      "601388.SH updated from 20210114 to 20210115\n",
      "Time cost : 1.1120712757110596s\n"
     ]
    },
    {
     "name": "stderr",
     "output_type": "stream",
     "text": [
      "\n",
      " 86%|████████▋ | 1839/2129 [2:14:08<12:30,  2.59s/it]"
     ]
    },
    {
     "name": "stdout",
     "output_type": "stream",
     "text": [
      "600635.SH updated from 20210114 to 20210115\n",
      "Time cost : 1.717468500137329s\n"
     ]
    },
    {
     "name": "stderr",
     "output_type": "stream",
     "text": [
      "\n",
      " 86%|████████▋ | 1840/2129 [2:14:10<11:12,  2.33s/it]"
     ]
    },
    {
     "name": "stdout",
     "output_type": "stream",
     "text": [
      "002251.SZ updated from 20210114 to 20210115\n",
      "Time cost : 3.1356208324432373s\n"
     ]
    },
    {
     "name": "stderr",
     "output_type": "stream",
     "text": [
      "\n",
      " 86%|████████▋ | 1841/2129 [2:14:13<12:20,  2.57s/it]"
     ]
    },
    {
     "name": "stdout",
     "output_type": "stream",
     "text": [
      "688617.SH updated from 20210114 to 20210115\n",
      "Time cost : 3.79502534866333s\n"
     ]
    },
    {
     "name": "stderr",
     "output_type": "stream",
     "text": [
      "\n",
      " 87%|████████▋ | 1842/2129 [2:14:17<14:03,  2.94s/it]"
     ]
    },
    {
     "name": "stdout",
     "output_type": "stream",
     "text": [
      "603369.SH updated from 20210114 to 20210115\n",
      "Time cost : 4.783807754516602s\n"
     ]
    },
    {
     "name": "stderr",
     "output_type": "stream",
     "text": [
      "\n",
      " 87%|████████▋ | 1843/2129 [2:14:22<16:39,  3.49s/it]"
     ]
    },
    {
     "name": "stdout",
     "output_type": "stream",
     "text": [
      "300657.SZ updated from 20210114 to 20210115\n",
      "Time cost : 5.8699562549591064s\n"
     ]
    },
    {
     "name": "stderr",
     "output_type": "stream",
     "text": [
      "\n",
      " 87%|████████▋ | 1844/2129 [2:14:28<19:58,  4.21s/it]"
     ]
    },
    {
     "name": "stdout",
     "output_type": "stream",
     "text": [
      "300261.SZ updated from 20210114 to 20210115\n",
      "Time cost : 1.1284849643707275s\n"
     ]
    },
    {
     "name": "stderr",
     "output_type": "stream",
     "text": [
      "\n",
      " 87%|████████▋ | 1845/2129 [2:14:29<15:32,  3.28s/it]"
     ]
    },
    {
     "name": "stdout",
     "output_type": "stream",
     "text": [
      "300003.SZ updated from 20210114 to 20210115\n",
      "Time cost : 9.034496068954468s\n"
     ]
    },
    {
     "name": "stderr",
     "output_type": "stream",
     "text": [
      "\n",
      " 87%|████████▋ | 1846/2129 [2:14:38<23:37,  5.01s/it]"
     ]
    },
    {
     "name": "stdout",
     "output_type": "stream",
     "text": [
      "002612.SZ updated from 20210114 to 20210115\n",
      "Time cost : 5.486953258514404s\n"
     ]
    },
    {
     "name": "stderr",
     "output_type": "stream",
     "text": [
      "\n",
      " 87%|████████▋ | 1847/2129 [2:14:43<24:13,  5.15s/it]"
     ]
    },
    {
     "name": "stdout",
     "output_type": "stream",
     "text": [
      "603877.SH updated from 20210114 to 20210115\n",
      "Time cost : 1.7501802444458008s\n"
     ]
    },
    {
     "name": "stderr",
     "output_type": "stream",
     "text": [
      "\n",
      " 87%|████████▋ | 1848/2129 [2:14:45<19:21,  4.13s/it]"
     ]
    },
    {
     "name": "stdout",
     "output_type": "stream",
     "text": [
      "002675.SZ updated from 20210114 to 20210115\n",
      "Time cost : 3.5098214149475098s\n"
     ]
    },
    {
     "name": "stderr",
     "output_type": "stream",
     "text": [
      "\n",
      " 87%|████████▋ | 1849/2129 [2:14:49<18:25,  3.95s/it]"
     ]
    },
    {
     "name": "stdout",
     "output_type": "stream",
     "text": [
      "002281.SZ updated from 20210114 to 20210115\n",
      "Time cost : 2.332162857055664s\n"
     ]
    },
    {
     "name": "stderr",
     "output_type": "stream",
     "text": [
      "\n",
      " 87%|████████▋ | 1850/2129 [2:14:51<16:06,  3.46s/it]"
     ]
    },
    {
     "name": "stdout",
     "output_type": "stream",
     "text": [
      "002556.SZ updated from 20210114 to 20210115\n",
      "Time cost : 2.7179625034332275s\n"
     ]
    },
    {
     "name": "stderr",
     "output_type": "stream",
     "text": [
      "\n",
      " 87%|████████▋ | 1851/2129 [2:14:54<15:00,  3.24s/it]"
     ]
    },
    {
     "name": "stdout",
     "output_type": "stream",
     "text": [
      "601666.SH updated from 20210114 to 20210115\n",
      "Time cost : 3.019019842147827s\n"
     ]
    },
    {
     "name": "stderr",
     "output_type": "stream",
     "text": [
      "\n",
      " 87%|████████▋ | 1852/2129 [2:14:57<14:39,  3.17s/it]"
     ]
    },
    {
     "name": "stdout",
     "output_type": "stream",
     "text": [
      "000025.SZ updated from 20210114 to 20210115\n",
      "Time cost : 3.385028123855591s\n"
     ]
    },
    {
     "name": "stderr",
     "output_type": "stream",
     "text": [
      "\n",
      " 87%|████████▋ | 1853/2129 [2:15:00<14:53,  3.24s/it]"
     ]
    },
    {
     "name": "stdout",
     "output_type": "stream",
     "text": [
      "300017.SZ updated from 20210114 to 20210115\n",
      "Time cost : 5.146370887756348s\n"
     ]
    },
    {
     "name": "stderr",
     "output_type": "stream",
     "text": [
      "\n",
      " 87%|████████▋ | 1854/2129 [2:15:05<17:28,  3.81s/it]"
     ]
    },
    {
     "name": "stdout",
     "output_type": "stream",
     "text": [
      "300867.SZ updated from 20210114 to 20210115\n",
      "Time cost : 1.6733620166778564s\n"
     ]
    },
    {
     "name": "stderr",
     "output_type": "stream",
     "text": [
      "\n",
      " 87%|████████▋ | 1855/2129 [2:15:07<14:28,  3.17s/it]"
     ]
    },
    {
     "name": "stdout",
     "output_type": "stream",
     "text": [
      "300803.SZ updated from 20210114 to 20210115\n",
      "Time cost : 1.1867008209228516s\n"
     ]
    },
    {
     "name": "stderr",
     "output_type": "stream",
     "text": [
      "\n",
      " 87%|████████▋ | 1856/2129 [2:15:08<11:43,  2.58s/it]"
     ]
    },
    {
     "name": "stdout",
     "output_type": "stream",
     "text": [
      "600556.SH updated from 20210114 to 20210115\n",
      "Time cost : 19.2408926486969s\n"
     ]
    },
    {
     "name": "stderr",
     "output_type": "stream",
     "text": [
      "\n",
      " 87%|████████▋ | 1857/2129 [2:15:27<34:20,  7.58s/it]"
     ]
    },
    {
     "name": "stdout",
     "output_type": "stream",
     "text": [
      "603995.SH updated from 20210114 to 20210115\n",
      "Time cost : 2.2587215900421143s\n"
     ]
    },
    {
     "name": "stderr",
     "output_type": "stream",
     "text": [
      "\n",
      " 87%|████████▋ | 1858/2129 [2:15:30<27:00,  5.98s/it]"
     ]
    },
    {
     "name": "stdout",
     "output_type": "stream",
     "text": [
      "300253.SZ updated from 20210114 to 20210115\n",
      "Time cost : 2.939493417739868s\n"
     ]
    },
    {
     "name": "stderr",
     "output_type": "stream",
     "text": [
      "\n",
      " 87%|████████▋ | 1859/2129 [2:15:33<22:48,  5.07s/it]"
     ]
    },
    {
     "name": "stdout",
     "output_type": "stream",
     "text": [
      "300888.SZ updated from 20210114 to 20210115\n",
      "Time cost : 2.478302001953125s\n"
     ]
    },
    {
     "name": "stderr",
     "output_type": "stream",
     "text": [
      "\n",
      " 87%|████████▋ | 1860/2129 [2:15:35<19:14,  4.29s/it]"
     ]
    },
    {
     "name": "stdout",
     "output_type": "stream",
     "text": [
      "300857.SZ updated from 20210114 to 20210115\n",
      "Time cost : 2.1341588497161865s\n"
     ]
    },
    {
     "name": "stderr",
     "output_type": "stream",
     "text": [
      "\n",
      " 87%|████████▋ | 1861/2129 [2:15:37<16:17,  3.65s/it]"
     ]
    },
    {
     "name": "stdout",
     "output_type": "stream",
     "text": [
      "002230.SZ updated from 20210114 to 20210115\n",
      "Time cost : 2.56581974029541s\n"
     ]
    },
    {
     "name": "stderr",
     "output_type": "stream",
     "text": [
      "\n",
      " 87%|████████▋ | 1862/2129 [2:15:40<14:47,  3.32s/it]"
     ]
    },
    {
     "name": "stdout",
     "output_type": "stream",
     "text": [
      "300737.SZ updated from 20210114 to 20210115\n",
      "Time cost : 2.512169122695923s\n"
     ]
    },
    {
     "name": "stderr",
     "output_type": "stream",
     "text": [
      "\n",
      " 88%|████████▊ | 1863/2129 [2:15:42<13:39,  3.08s/it]"
     ]
    },
    {
     "name": "stdout",
     "output_type": "stream",
     "text": [
      "600708.SH updated from 20210114 to 20210115\n",
      "Time cost : 1.8315708637237549s\n"
     ]
    },
    {
     "name": "stderr",
     "output_type": "stream",
     "text": [
      "\n",
      " 88%|████████▊ | 1864/2129 [2:15:44<11:57,  2.71s/it]"
     ]
    },
    {
     "name": "stdout",
     "output_type": "stream",
     "text": [
      "003012.SZ updated from 20210114 to 20210115\n",
      "Time cost : 5.321378469467163s\n"
     ]
    },
    {
     "name": "stderr",
     "output_type": "stream",
     "text": [
      "\n",
      " 88%|████████▊ | 1865/2129 [2:15:49<15:21,  3.49s/it]"
     ]
    },
    {
     "name": "stdout",
     "output_type": "stream",
     "text": [
      "002941.SZ updated from 20210114 to 20210115\n",
      "Time cost : 13.67414927482605s\n"
     ]
    },
    {
     "name": "stderr",
     "output_type": "stream",
     "text": [
      "\n",
      " 88%|████████▊ | 1866/2129 [2:16:03<28:41,  6.55s/it]"
     ]
    },
    {
     "name": "stdout",
     "output_type": "stream",
     "text": [
      "000063.SZ updated from 20210114 to 20210115\n",
      "Time cost : 3.6413066387176514s\n"
     ]
    },
    {
     "name": "stderr",
     "output_type": "stream",
     "text": [
      "\n",
      " 88%|████████▊ | 1867/2129 [2:16:07<24:47,  5.68s/it]"
     ]
    },
    {
     "name": "stdout",
     "output_type": "stream",
     "text": [
      "600918.SH updated from 20210114 to 20210115\n",
      "Time cost : 4.939442873001099s\n"
     ]
    },
    {
     "name": "stderr",
     "output_type": "stream",
     "text": [
      "\n",
      " 88%|████████▊ | 1868/2129 [2:16:12<23:43,  5.46s/it]"
     ]
    },
    {
     "name": "stdout",
     "output_type": "stream",
     "text": [
      "600483.SH updated from 20210114 to 20210115\n",
      "Time cost : 2.055086851119995s\n"
     ]
    },
    {
     "name": "stderr",
     "output_type": "stream",
     "text": [
      "\n",
      " 88%|████████▊ | 1869/2129 [2:16:14<19:13,  4.44s/it]"
     ]
    },
    {
     "name": "stdout",
     "output_type": "stream",
     "text": [
      "688318.SH updated from 20210114 to 20210115\n",
      "Time cost : 4.7660393714904785s\n"
     ]
    },
    {
     "name": "stderr",
     "output_type": "stream",
     "text": [
      "\n",
      " 88%|████████▊ | 1870/2129 [2:16:19<19:34,  4.54s/it]"
     ]
    },
    {
     "name": "stdout",
     "output_type": "stream",
     "text": [
      "603869.SH updated from 20210114 to 20210115\n",
      "Time cost : 4.565231561660767s\n"
     ]
    },
    {
     "name": "stderr",
     "output_type": "stream",
     "text": [
      "\n",
      " 88%|████████▊ | 1871/2129 [2:16:23<19:32,  4.55s/it]"
     ]
    },
    {
     "name": "stdout",
     "output_type": "stream",
     "text": [
      "002488.SZ updated from 20210114 to 20210115\n",
      "Time cost : 2.956765651702881s\n"
     ]
    },
    {
     "name": "stderr",
     "output_type": "stream",
     "text": [
      "\n",
      " 88%|████████▊ | 1872/2129 [2:16:26<17:25,  4.07s/it]"
     ]
    },
    {
     "name": "stdout",
     "output_type": "stream",
     "text": [
      "300087.SZ updated from 20210114 to 20210115\n",
      "Time cost : 2.573198080062866s\n"
     ]
    },
    {
     "name": "stderr",
     "output_type": "stream",
     "text": [
      "\n",
      " 88%|████████▊ | 1873/2129 [2:16:29<15:27,  3.62s/it]"
     ]
    },
    {
     "name": "stdout",
     "output_type": "stream",
     "text": [
      "002961.SZ updated from 20210114 to 20210115\n",
      "Time cost : 1.1300721168518066s\n"
     ]
    },
    {
     "name": "stderr",
     "output_type": "stream",
     "text": [
      "\n",
      " 88%|████████▊ | 1874/2129 [2:16:30<12:12,  2.87s/it]"
     ]
    },
    {
     "name": "stdout",
     "output_type": "stream",
     "text": [
      "002670.SZ updated from 20210114 to 20210115\n",
      "Time cost : 2.5110116004943848s\n"
     ]
    },
    {
     "name": "stderr",
     "output_type": "stream",
     "text": [
      "\n",
      " 88%|████████▊ | 1875/2129 [2:16:32<11:42,  2.77s/it]"
     ]
    },
    {
     "name": "stdout",
     "output_type": "stream",
     "text": [
      "600063.SH updated from 20210114 to 20210115\n",
      "Time cost : 1.727132797241211s\n"
     ]
    },
    {
     "name": "stderr",
     "output_type": "stream",
     "text": [
      "\n",
      " 88%|████████▊ | 1876/2129 [2:16:34<10:21,  2.46s/it]"
     ]
    },
    {
     "name": "stdout",
     "output_type": "stream",
     "text": [
      "300123.SZ updated from 20210114 to 20210115\n",
      "Time cost : 2.6067495346069336s\n"
     ]
    },
    {
     "name": "stderr",
     "output_type": "stream",
     "text": [
      "\n",
      " 88%|████████▊ | 1877/2129 [2:16:37<10:30,  2.50s/it]"
     ]
    },
    {
     "name": "stdout",
     "output_type": "stream",
     "text": [
      "603118.SH updated from 20210114 to 20210115\n",
      "Time cost : 2.9003846645355225s\n"
     ]
    },
    {
     "name": "stderr",
     "output_type": "stream",
     "text": [
      "\n",
      " 88%|████████▊ | 1878/2129 [2:16:40<10:58,  2.62s/it]"
     ]
    },
    {
     "name": "stdout",
     "output_type": "stream",
     "text": [
      "000032.SZ updated from 20210114 to 20210115\n",
      "Time cost : 3.331329345703125s\n"
     ]
    },
    {
     "name": "stderr",
     "output_type": "stream",
     "text": [
      "\n",
      " 88%|████████▊ | 1879/2129 [2:16:43<11:48,  2.84s/it]"
     ]
    },
    {
     "name": "stdout",
     "output_type": "stream",
     "text": [
      "600518.SH updated from 20210114 to 20210115\n",
      "Time cost : 1.7766203880310059s\n"
     ]
    },
    {
     "name": "stderr",
     "output_type": "stream",
     "text": [
      "\n",
      " 88%|████████▊ | 1880/2129 [2:16:45<10:27,  2.52s/it]"
     ]
    },
    {
     "name": "stdout",
     "output_type": "stream",
     "text": [
      "300726.SZ updated from 20210114 to 20210115\n",
      "Time cost : 5.520756244659424s\n"
     ]
    },
    {
     "name": "stderr",
     "output_type": "stream",
     "text": [
      "\n",
      " 88%|████████▊ | 1881/2129 [2:16:50<14:08,  3.42s/it]"
     ]
    },
    {
     "name": "stdout",
     "output_type": "stream",
     "text": [
      "600170.SH updated from 20210114 to 20210115\n",
      "Time cost : 1.7800686359405518s\n"
     ]
    },
    {
     "name": "stderr",
     "output_type": "stream",
     "text": [
      "\n",
      " 88%|████████▊ | 1882/2129 [2:16:52<12:03,  2.93s/it]"
     ]
    },
    {
     "name": "stdout",
     "output_type": "stream",
     "text": [
      "603589.SH updated from 20210114 to 20210115\n",
      "Time cost : 2.1878716945648193s\n"
     ]
    },
    {
     "name": "stderr",
     "output_type": "stream",
     "text": [
      "\n",
      " 88%|████████▊ | 1883/2129 [2:16:54<11:05,  2.71s/it]"
     ]
    },
    {
     "name": "stdout",
     "output_type": "stream",
     "text": [
      "601019.SH updated from 20210114 to 20210115\n",
      "Time cost : 2.5313756465911865s\n"
     ]
    },
    {
     "name": "stderr",
     "output_type": "stream",
     "text": [
      "\n",
      " 88%|████████▊ | 1884/2129 [2:16:57<10:50,  2.66s/it]"
     ]
    },
    {
     "name": "stdout",
     "output_type": "stream",
     "text": [
      "002212.SZ updated from 20210114 to 20210115\n",
      "Time cost : 2.2139365673065186s\n"
     ]
    },
    {
     "name": "stderr",
     "output_type": "stream",
     "text": [
      "\n",
      " 89%|████████▊ | 1885/2129 [2:16:59<10:15,  2.52s/it]"
     ]
    },
    {
     "name": "stdout",
     "output_type": "stream",
     "text": [
      "300768.SZ updated from 20210114 to 20210115\n",
      "Time cost : 7.544889688491821s\n"
     ]
    },
    {
     "name": "stderr",
     "output_type": "stream",
     "text": [
      "\n",
      " 89%|████████▊ | 1886/2129 [2:17:06<16:19,  4.03s/it]"
     ]
    },
    {
     "name": "stdout",
     "output_type": "stream",
     "text": [
      "002524.SZ updated from 20210114 to 20210115\n",
      "Time cost : 1.2005691528320312s\n"
     ]
    },
    {
     "name": "stderr",
     "output_type": "stream",
     "text": [
      "\n",
      " 89%|████████▊ | 1887/2129 [2:17:08<12:50,  3.18s/it]"
     ]
    },
    {
     "name": "stdout",
     "output_type": "stream",
     "text": [
      "002594.SZ updated from 20210114 to 20210115\n",
      "Time cost : 1.7282605171203613s\n"
     ]
    },
    {
     "name": "stderr",
     "output_type": "stream",
     "text": [
      "\n",
      " 89%|████████▊ | 1888/2129 [2:17:09<11:01,  2.75s/it]"
     ]
    },
    {
     "name": "stdout",
     "output_type": "stream",
     "text": [
      "002950.SZ updated from 20210114 to 20210115\n",
      "Time cost : 3.8704981803894043s\n"
     ]
    },
    {
     "name": "stderr",
     "output_type": "stream",
     "text": [
      "\n",
      " 89%|████████▊ | 1889/2129 [2:17:13<12:20,  3.08s/it]"
     ]
    },
    {
     "name": "stdout",
     "output_type": "stream",
     "text": [
      "002048.SZ updated from 20210114 to 20210115\n",
      "Time cost : 3.18094539642334s\n"
     ]
    },
    {
     "name": "stderr",
     "output_type": "stream",
     "text": [
      "\n",
      " 89%|████████▉ | 1890/2129 [2:17:16<12:24,  3.11s/it]"
     ]
    },
    {
     "name": "stdout",
     "output_type": "stream",
     "text": [
      "300438.SZ updated from 20210114 to 20210115\n",
      "Time cost : 2.1758370399475098s\n"
     ]
    },
    {
     "name": "stderr",
     "output_type": "stream",
     "text": [
      "\n",
      " 89%|████████▉ | 1891/2129 [2:17:19<11:14,  2.83s/it]"
     ]
    },
    {
     "name": "stdout",
     "output_type": "stream",
     "text": [
      "601636.SH updated from 20210114 to 20210115\n",
      "Time cost : 1.1349637508392334s\n"
     ]
    },
    {
     "name": "stderr",
     "output_type": "stream",
     "text": [
      "\n",
      " 89%|████████▉ | 1892/2129 [2:17:20<09:11,  2.32s/it]"
     ]
    },
    {
     "name": "stdout",
     "output_type": "stream",
     "text": [
      "600900.SH updated from 20210114 to 20210115\n",
      "Time cost : 2.625194787979126s\n"
     ]
    },
    {
     "name": "stderr",
     "output_type": "stream",
     "text": [
      "\n",
      " 89%|████████▉ | 1893/2129 [2:17:22<09:30,  2.42s/it]"
     ]
    },
    {
     "name": "stdout",
     "output_type": "stream",
     "text": [
      "600073.SH updated from 20210114 to 20210115\n",
      "Time cost : 10.879175186157227s\n"
     ]
    },
    {
     "name": "stderr",
     "output_type": "stream",
     "text": [
      "\n",
      " 89%|████████▉ | 1894/2129 [2:17:33<19:24,  4.96s/it]"
     ]
    },
    {
     "name": "stdout",
     "output_type": "stream",
     "text": [
      "603916.SH updated from 20210114 to 20210115\n",
      "Time cost : 2.8548240661621094s\n"
     ]
    },
    {
     "name": "stderr",
     "output_type": "stream",
     "text": [
      "\n",
      " 89%|████████▉ | 1895/2129 [2:17:36<16:52,  4.33s/it]"
     ]
    },
    {
     "name": "stdout",
     "output_type": "stream",
     "text": [
      "003000.SZ updated from 20210114 to 20210115\n",
      "Time cost : 2.6594696044921875s\n"
     ]
    },
    {
     "name": "stderr",
     "output_type": "stream",
     "text": [
      "\n",
      " 89%|████████▉ | 1896/2129 [2:17:39<14:51,  3.83s/it]"
     ]
    },
    {
     "name": "stdout",
     "output_type": "stream",
     "text": [
      "002179.SZ updated from 20210114 to 20210115\n",
      "Time cost : 2.2555758953094482s\n"
     ]
    },
    {
     "name": "stderr",
     "output_type": "stream",
     "text": [
      "\n",
      " 89%|████████▉ | 1897/2129 [2:17:41<12:58,  3.36s/it]"
     ]
    },
    {
     "name": "stdout",
     "output_type": "stream",
     "text": [
      "688222.SH updated from 20210114 to 20210115\n",
      "Time cost : 2.6991753578186035s\n"
     ]
    },
    {
     "name": "stderr",
     "output_type": "stream",
     "text": [
      "\n",
      " 89%|████████▉ | 1898/2129 [2:17:44<12:09,  3.16s/it]"
     ]
    },
    {
     "name": "stdout",
     "output_type": "stream",
     "text": [
      "600415.SH updated from 20210114 to 20210115\n",
      "Time cost : 3.5626425743103027s\n"
     ]
    },
    {
     "name": "stderr",
     "output_type": "stream",
     "text": [
      "\n",
      " 89%|████████▉ | 1899/2129 [2:17:47<12:34,  3.28s/it]"
     ]
    },
    {
     "name": "stdout",
     "output_type": "stream",
     "text": [
      "300682.SZ updated from 20210114 to 20210115\n",
      "Time cost : 2.63653826713562s\n"
     ]
    },
    {
     "name": "stderr",
     "output_type": "stream",
     "text": [
      "\n",
      " 89%|████████▉ | 1900/2129 [2:17:50<11:47,  3.09s/it]"
     ]
    },
    {
     "name": "stdout",
     "output_type": "stream",
     "text": [
      "300225.SZ updated from 20210114 to 20210115\n",
      "Time cost : 1.1669666767120361s\n"
     ]
    },
    {
     "name": "stderr",
     "output_type": "stream",
     "text": [
      "\n",
      " 89%|████████▉ | 1901/2129 [2:17:51<09:32,  2.51s/it]"
     ]
    },
    {
     "name": "stdout",
     "output_type": "stream",
     "text": [
      "600651.SH updated from 20210114 to 20210115\n",
      "Time cost : 2.1790342330932617s\n"
     ]
    },
    {
     "name": "stderr",
     "output_type": "stream",
     "text": [
      "\n",
      " 89%|████████▉ | 1902/2129 [2:17:53<09:07,  2.41s/it]"
     ]
    },
    {
     "name": "stdout",
     "output_type": "stream",
     "text": [
      "300393.SZ updated from 20210114 to 20210115\n",
      "Time cost : 2.244292736053467s\n"
     ]
    },
    {
     "name": "stderr",
     "output_type": "stream",
     "text": [
      "\n",
      " 89%|████████▉ | 1903/2129 [2:17:56<08:54,  2.36s/it]"
     ]
    },
    {
     "name": "stdout",
     "output_type": "stream",
     "text": [
      "002859.SZ updated from 20210114 to 20210115\n",
      "Time cost : 3.0060338973999023s\n"
     ]
    },
    {
     "name": "stderr",
     "output_type": "stream",
     "text": [
      "\n",
      " 89%|████████▉ | 1904/2129 [2:17:59<09:35,  2.56s/it]"
     ]
    },
    {
     "name": "stdout",
     "output_type": "stream",
     "text": [
      "000557.SZ updated from 20210114 to 20210115\n",
      "Time cost : 5.197170257568359s\n"
     ]
    },
    {
     "name": "stderr",
     "output_type": "stream",
     "text": [
      "\n",
      " 89%|████████▉ | 1905/2129 [2:18:04<12:30,  3.35s/it]"
     ]
    },
    {
     "name": "stdout",
     "output_type": "stream",
     "text": [
      "002793.SZ updated from 20210114 to 20210115\n",
      "Time cost : 2.151228904724121s\n"
     ]
    },
    {
     "name": "stderr",
     "output_type": "stream",
     "text": [
      "\n",
      " 90%|████████▉ | 1906/2129 [2:18:06<11:06,  2.99s/it]"
     ]
    },
    {
     "name": "stdout",
     "output_type": "stream",
     "text": [
      "600033.SH updated from 20210114 to 20210115\n",
      "Time cost : 2.554518699645996s\n"
     ]
    },
    {
     "name": "stderr",
     "output_type": "stream",
     "text": [
      "\n",
      " 90%|████████▉ | 1907/2129 [2:18:08<10:35,  2.86s/it]"
     ]
    },
    {
     "name": "stdout",
     "output_type": "stream",
     "text": [
      "300498.SZ updated from 20210114 to 20210115\n",
      "Time cost : 21.893868446350098s\n"
     ]
    },
    {
     "name": "stderr",
     "output_type": "stream",
     "text": [
      "\n",
      " 90%|████████▉ | 1908/2129 [2:18:30<31:34,  8.57s/it]"
     ]
    },
    {
     "name": "stdout",
     "output_type": "stream",
     "text": [
      "601168.SH updated from 20210114 to 20210115\n",
      "Time cost : 3.8108744621276855s\n"
     ]
    },
    {
     "name": "stderr",
     "output_type": "stream",
     "text": [
      "\n",
      " 90%|████████▉ | 1909/2129 [2:18:34<26:11,  7.14s/it]"
     ]
    },
    {
     "name": "stdout",
     "output_type": "stream",
     "text": [
      "000937.SZ updated from 20210114 to 20210115\n",
      "Time cost : 2.180506467819214s\n"
     ]
    },
    {
     "name": "stderr",
     "output_type": "stream",
     "text": [
      "\n",
      " 90%|████████▉ | 1910/2129 [2:18:36<20:38,  5.66s/it]"
     ]
    },
    {
     "name": "stdout",
     "output_type": "stream",
     "text": [
      "002838.SZ updated from 20210114 to 20210115\n",
      "Time cost : 1.1949517726898193s\n"
     ]
    },
    {
     "name": "stderr",
     "output_type": "stream",
     "text": [
      "\n",
      " 90%|████████▉ | 1911/2129 [2:18:38<15:41,  4.32s/it]"
     ]
    },
    {
     "name": "stdout",
     "output_type": "stream",
     "text": [
      "002507.SZ updated from 20210114 to 20210115\n",
      "Time cost : 3.943927526473999s\n"
     ]
    },
    {
     "name": "stderr",
     "output_type": "stream",
     "text": [
      "\n",
      " 90%|████████▉ | 1912/2129 [2:18:41<15:12,  4.21s/it]"
     ]
    },
    {
     "name": "stdout",
     "output_type": "stream",
     "text": [
      "002475.SZ updated from 20210114 to 20210115\n",
      "Time cost : 3.141477346420288s\n"
     ]
    },
    {
     "name": "stderr",
     "output_type": "stream",
     "text": [
      "\n",
      " 90%|████████▉ | 1913/2129 [2:18:45<13:59,  3.89s/it]"
     ]
    },
    {
     "name": "stdout",
     "output_type": "stream",
     "text": [
      "600038.SH updated from 20210114 to 20210115\n",
      "Time cost : 2.2054262161254883s\n"
     ]
    },
    {
     "name": "stderr",
     "output_type": "stream",
     "text": [
      "\n",
      " 90%|████████▉ | 1914/2129 [2:18:47<12:07,  3.38s/it]"
     ]
    },
    {
     "name": "stdout",
     "output_type": "stream",
     "text": [
      "603698.SH updated from 20210114 to 20210115\n",
      "Time cost : 2.7112436294555664s\n"
     ]
    },
    {
     "name": "stderr",
     "output_type": "stream",
     "text": [
      "\n",
      " 90%|████████▉ | 1915/2129 [2:18:50<11:21,  3.18s/it]"
     ]
    },
    {
     "name": "stdout",
     "output_type": "stream",
     "text": [
      "601882.SH updated from 20210114 to 20210115\n",
      "Time cost : 2.50211763381958s\n"
     ]
    },
    {
     "name": "stderr",
     "output_type": "stream",
     "text": [
      "\n",
      " 90%|████████▉ | 1916/2129 [2:18:52<10:34,  2.98s/it]"
     ]
    },
    {
     "name": "stdout",
     "output_type": "stream",
     "text": [
      "000617.SZ updated from 20210114 to 20210115\n",
      "Time cost : 7.251969814300537s\n"
     ]
    },
    {
     "name": "stderr",
     "output_type": "stream",
     "text": [
      "\n",
      " 90%|█████████ | 1917/2129 [2:18:59<15:03,  4.26s/it]"
     ]
    },
    {
     "name": "stdout",
     "output_type": "stream",
     "text": [
      "300396.SZ updated from 20210114 to 20210115\n",
      "Time cost : 3.3094797134399414s\n"
     ]
    },
    {
     "name": "stderr",
     "output_type": "stream",
     "text": [
      "\n",
      " 90%|█████████ | 1918/2129 [2:19:03<13:59,  3.98s/it]"
     ]
    },
    {
     "name": "stdout",
     "output_type": "stream",
     "text": [
      "300131.SZ updated from 20210114 to 20210115\n",
      "Time cost : 1.6664149761199951s\n"
     ]
    },
    {
     "name": "stderr",
     "output_type": "stream",
     "text": [
      "\n",
      " 90%|█████████ | 1919/2129 [2:19:04<11:29,  3.28s/it]"
     ]
    },
    {
     "name": "stdout",
     "output_type": "stream",
     "text": [
      "601229.SH updated from 20210114 to 20210115\n",
      "Time cost : 3.85178804397583s\n"
     ]
    },
    {
     "name": "stderr",
     "output_type": "stream",
     "text": [
      "\n",
      " 90%|█████████ | 1920/2129 [2:19:08<12:02,  3.46s/it]"
     ]
    },
    {
     "name": "stdout",
     "output_type": "stream",
     "text": [
      "603160.SH updated from 20210114 to 20210115\n",
      "Time cost : 3.5402164459228516s\n"
     ]
    },
    {
     "name": "stderr",
     "output_type": "stream",
     "text": [
      "\n",
      " 90%|█████████ | 1921/2129 [2:19:12<12:04,  3.48s/it]"
     ]
    },
    {
     "name": "stdout",
     "output_type": "stream",
     "text": [
      "603301.SH updated from 20210114 to 20210115\n",
      "Time cost : 4.1556127071380615s\n"
     ]
    },
    {
     "name": "stderr",
     "output_type": "stream",
     "text": [
      "\n",
      " 90%|█████████ | 1922/2129 [2:19:16<12:42,  3.68s/it]"
     ]
    },
    {
     "name": "stdout",
     "output_type": "stream",
     "text": [
      "300377.SZ updated from 20210114 to 20210115\n",
      "Time cost : 1.1846873760223389s\n"
     ]
    },
    {
     "name": "stderr",
     "output_type": "stream",
     "text": [
      "\n",
      " 90%|█████████ | 1923/2129 [2:19:17<10:04,  2.94s/it]"
     ]
    },
    {
     "name": "stdout",
     "output_type": "stream",
     "text": [
      "600497.SH updated from 20210114 to 20210115\n",
      "Time cost : 1.2001428604125977s\n"
     ]
    },
    {
     "name": "stderr",
     "output_type": "stream",
     "text": [
      "\n",
      " 90%|█████████ | 1924/2129 [2:19:18<08:15,  2.41s/it]"
     ]
    },
    {
     "name": "stdout",
     "output_type": "stream",
     "text": [
      "002641.SZ updated from 20210114 to 20210115\n",
      "Time cost : 1.9728858470916748s\n"
     ]
    },
    {
     "name": "stderr",
     "output_type": "stream",
     "text": [
      "\n",
      " 90%|█████████ | 1925/2129 [2:19:20<07:45,  2.28s/it]"
     ]
    },
    {
     "name": "stdout",
     "output_type": "stream",
     "text": [
      "600127.SH updated from 20210114 to 20210115\n",
      "Time cost : 2.450957775115967s\n"
     ]
    },
    {
     "name": "stderr",
     "output_type": "stream",
     "text": [
      "\n",
      " 90%|█████████ | 1926/2129 [2:19:23<07:53,  2.33s/it]"
     ]
    },
    {
     "name": "stdout",
     "output_type": "stream",
     "text": [
      "002916.SZ updated from 20210114 to 20210115\n",
      "Time cost : 4.747053861618042s\n"
     ]
    },
    {
     "name": "stderr",
     "output_type": "stream",
     "text": [
      "\n",
      " 91%|█████████ | 1927/2129 [2:19:27<10:17,  3.06s/it]"
     ]
    },
    {
     "name": "stdout",
     "output_type": "stream",
     "text": [
      "600775.SH updated from 20210114 to 20210115\n",
      "Time cost : 2.1767055988311768s\n"
     ]
    },
    {
     "name": "stderr",
     "output_type": "stream",
     "text": [
      "\n",
      " 91%|█████████ | 1928/2129 [2:19:30<09:21,  2.79s/it]"
     ]
    },
    {
     "name": "stdout",
     "output_type": "stream",
     "text": [
      "600710.SH updated from 20210114 to 20210115\n",
      "Time cost : 3.6734299659729004s\n"
     ]
    },
    {
     "name": "stderr",
     "output_type": "stream",
     "text": [
      "\n",
      " 91%|█████████ | 1929/2129 [2:19:33<10:11,  3.06s/it]"
     ]
    },
    {
     "name": "stdout",
     "output_type": "stream",
     "text": [
      "300464.SZ updated from 20210114 to 20210115\n",
      "Time cost : 3.7623183727264404s\n"
     ]
    },
    {
     "name": "stderr",
     "output_type": "stream",
     "text": [
      "\n",
      " 91%|█████████ | 1930/2129 [2:19:37<10:50,  3.27s/it]"
     ]
    },
    {
     "name": "stdout",
     "output_type": "stream",
     "text": [
      "601588.SH updated from 20210114 to 20210115\n",
      "Time cost : 4.806370735168457s\n"
     ]
    },
    {
     "name": "stderr",
     "output_type": "stream",
     "text": [
      "\n",
      " 91%|█████████ | 1931/2129 [2:19:42<12:18,  3.73s/it]"
     ]
    },
    {
     "name": "stdout",
     "output_type": "stream",
     "text": [
      "002120.SZ updated from 20210114 to 20210115\n",
      "Time cost : 1.786207675933838s\n"
     ]
    },
    {
     "name": "stderr",
     "output_type": "stream",
     "text": [
      "\n",
      " 91%|█████████ | 1932/2129 [2:19:44<10:20,  3.15s/it]"
     ]
    },
    {
     "name": "stdout",
     "output_type": "stream",
     "text": [
      "002542.SZ updated from 20210114 to 20210115\n",
      "Time cost : 1.7580804824829102s\n"
     ]
    },
    {
     "name": "stderr",
     "output_type": "stream",
     "text": [
      "\n",
      " 91%|█████████ | 1933/2129 [2:19:45<08:55,  2.73s/it]"
     ]
    },
    {
     "name": "stdout",
     "output_type": "stream",
     "text": [
      "603108.SH updated from 20210114 to 20210115\n",
      "Time cost : 3.3959763050079346s\n"
     ]
    },
    {
     "name": "stderr",
     "output_type": "stream",
     "text": [
      "\n",
      " 91%|█████████ | 1934/2129 [2:19:49<09:31,  2.93s/it]"
     ]
    },
    {
     "name": "stdout",
     "output_type": "stream",
     "text": [
      "600211.SH updated from 20210114 to 20210115\n",
      "Time cost : 2.305006504058838s\n"
     ]
    },
    {
     "name": "stderr",
     "output_type": "stream",
     "text": [
      "\n",
      " 91%|█████████ | 1935/2129 [2:19:51<08:52,  2.75s/it]"
     ]
    },
    {
     "name": "stdout",
     "output_type": "stream",
     "text": [
      "688788.SH updated from 20210114 to 20210115\n",
      "Time cost : 2.120203733444214s\n"
     ]
    },
    {
     "name": "stderr",
     "output_type": "stream",
     "text": [
      "\n",
      " 91%|█████████ | 1936/2129 [2:19:53<08:13,  2.56s/it]"
     ]
    },
    {
     "name": "stdout",
     "output_type": "stream",
     "text": [
      "600123.SH updated from 20210114 to 20210115\n",
      "Time cost : 2.1815011501312256s\n"
     ]
    },
    {
     "name": "stderr",
     "output_type": "stream",
     "text": [
      "\n",
      " 91%|█████████ | 1937/2129 [2:19:55<07:49,  2.45s/it]"
     ]
    },
    {
     "name": "stdout",
     "output_type": "stream",
     "text": [
      "300602.SZ updated from 20210114 to 20210115\n",
      "Time cost : 1.1211225986480713s\n"
     ]
    },
    {
     "name": "stderr",
     "output_type": "stream",
     "text": [
      "\n",
      " 91%|█████████ | 1938/2129 [2:19:57<06:31,  2.05s/it]"
     ]
    },
    {
     "name": "stdout",
     "output_type": "stream",
     "text": [
      "688598.SH updated from 20210114 to 20210115\n",
      "Time cost : 1.9214000701904297s\n"
     ]
    },
    {
     "name": "stderr",
     "output_type": "stream",
     "text": [
      "\n",
      " 91%|█████████ | 1939/2129 [2:19:58<06:22,  2.01s/it]"
     ]
    },
    {
     "name": "stdout",
     "output_type": "stream",
     "text": [
      "600460.SH updated from 20210114 to 20210115\n",
      "Time cost : 4.74194598197937s\n"
     ]
    },
    {
     "name": "stderr",
     "output_type": "stream",
     "text": [
      "\n",
      " 91%|█████████ | 1940/2129 [2:20:03<08:55,  2.83s/it]"
     ]
    },
    {
     "name": "stdout",
     "output_type": "stream",
     "text": [
      "002389.SZ updated from 20210114 to 20210115\n",
      "Time cost : 3.162674903869629s\n"
     ]
    },
    {
     "name": "stderr",
     "output_type": "stream",
     "text": [
      "\n",
      " 91%|█████████ | 1941/2129 [2:20:06<09:11,  2.93s/it]"
     ]
    },
    {
     "name": "stdout",
     "output_type": "stream",
     "text": [
      "000917.SZ updated from 20210114 to 20210115\n",
      "Time cost : 1.697129487991333s\n"
     ]
    },
    {
     "name": "stderr",
     "output_type": "stream",
     "text": [
      "\n",
      " 91%|█████████ | 1942/2129 [2:20:08<07:59,  2.56s/it]"
     ]
    },
    {
     "name": "stdout",
     "output_type": "stream",
     "text": [
      "600604.SH updated from 20210114 to 20210115\n",
      "Time cost : 2.179002285003662s\n"
     ]
    },
    {
     "name": "stderr",
     "output_type": "stream",
     "text": [
      "\n",
      " 91%|█████████▏| 1943/2129 [2:20:10<07:35,  2.45s/it]"
     ]
    },
    {
     "name": "stdout",
     "output_type": "stream",
     "text": [
      "600685.SH updated from 20210114 to 20210115\n",
      "Time cost : 2.2012851238250732s\n"
     ]
    },
    {
     "name": "stderr",
     "output_type": "stream",
     "text": [
      "\n",
      " 91%|█████████▏| 1944/2129 [2:20:12<07:19,  2.37s/it]"
     ]
    },
    {
     "name": "stdout",
     "output_type": "stream",
     "text": [
      "300443.SZ updated from 20210114 to 20210115\n",
      "Time cost : 2.602703809738159s\n"
     ]
    },
    {
     "name": "stderr",
     "output_type": "stream",
     "text": [
      "\n",
      " 91%|█████████▏| 1945/2129 [2:20:15<07:29,  2.44s/it]"
     ]
    },
    {
     "name": "stdout",
     "output_type": "stream",
     "text": [
      "688208.SH updated from 20210114 to 20210115\n",
      "Time cost : 2.7324838638305664s\n"
     ]
    },
    {
     "name": "stderr",
     "output_type": "stream",
     "text": [
      "\n",
      " 91%|█████████▏| 1946/2129 [2:20:18<07:43,  2.53s/it]"
     ]
    },
    {
     "name": "stdout",
     "output_type": "stream",
     "text": [
      "300127.SZ updated from 20210114 to 20210115\n",
      "Time cost : 4.127339601516724s\n"
     ]
    },
    {
     "name": "stderr",
     "output_type": "stream",
     "text": [
      "\n",
      " 91%|█████████▏| 1947/2129 [2:20:22<09:07,  3.01s/it]"
     ]
    },
    {
     "name": "stdout",
     "output_type": "stream",
     "text": [
      "000688.SZ updated from 20210114 to 20210115\n",
      "Time cost : 4.206134796142578s\n"
     ]
    },
    {
     "name": "stderr",
     "output_type": "stream",
     "text": [
      "\n",
      " 91%|█████████▏| 1948/2129 [2:20:26<10:09,  3.37s/it]"
     ]
    },
    {
     "name": "stdout",
     "output_type": "stream",
     "text": [
      "688066.SH updated from 20210114 to 20210115\n",
      "Time cost : 1.6602375507354736s\n"
     ]
    },
    {
     "name": "stderr",
     "output_type": "stream",
     "text": [
      "\n",
      " 92%|█████████▏| 1949/2129 [2:20:28<08:34,  2.86s/it]"
     ]
    },
    {
     "name": "stdout",
     "output_type": "stream",
     "text": [
      "600988.SH updated from 20210114 to 20210115\n",
      "Time cost : 3.4582815170288086s\n"
     ]
    },
    {
     "name": "stderr",
     "output_type": "stream",
     "text": [
      "\n",
      " 92%|█████████▏| 1950/2129 [2:20:31<09:03,  3.04s/it]"
     ]
    },
    {
     "name": "stdout",
     "output_type": "stream",
     "text": [
      "600276.SH updated from 20210114 to 20210115\n",
      "Time cost : 2.568216323852539s\n"
     ]
    },
    {
     "name": "stderr",
     "output_type": "stream",
     "text": [
      "\n",
      " 92%|█████████▏| 1951/2129 [2:20:34<08:35,  2.90s/it]"
     ]
    },
    {
     "name": "stdout",
     "output_type": "stream",
     "text": [
      "600488.SH updated from 20210114 to 20210115\n",
      "Time cost : 1.6893227100372314s\n"
     ]
    },
    {
     "name": "stderr",
     "output_type": "stream",
     "text": [
      "\n",
      " 92%|█████████▏| 1952/2129 [2:20:36<07:28,  2.54s/it]"
     ]
    },
    {
     "name": "stdout",
     "output_type": "stream",
     "text": [
      "601198.SH updated from 20210114 to 20210115\n",
      "Time cost : 2.7534689903259277s\n"
     ]
    },
    {
     "name": "stderr",
     "output_type": "stream",
     "text": [
      "\n",
      " 92%|█████████▏| 1953/2129 [2:20:38<07:37,  2.60s/it]"
     ]
    },
    {
     "name": "stdout",
     "output_type": "stream",
     "text": [
      "002301.SZ updated from 20210114 to 20210115\n",
      "Time cost : 1.8099493980407715s\n"
     ]
    },
    {
     "name": "stderr",
     "output_type": "stream",
     "text": [
      "\n",
      " 92%|█████████▏| 1954/2129 [2:20:40<06:53,  2.37s/it]"
     ]
    },
    {
     "name": "stdout",
     "output_type": "stream",
     "text": [
      "600299.SH updated from 20210114 to 20210115\n",
      "Time cost : 1.2446568012237549s\n"
     ]
    },
    {
     "name": "stderr",
     "output_type": "stream",
     "text": [
      "\n",
      " 92%|█████████▏| 1955/2129 [2:20:41<05:53,  2.03s/it]"
     ]
    },
    {
     "name": "stdout",
     "output_type": "stream",
     "text": [
      "002291.SZ updated from 20210114 to 20210115\n",
      "Time cost : 3.081763744354248s\n"
     ]
    },
    {
     "name": "stderr",
     "output_type": "stream",
     "text": [
      "\n",
      " 92%|█████████▏| 1956/2129 [2:20:44<06:45,  2.35s/it]"
     ]
    },
    {
     "name": "stdout",
     "output_type": "stream",
     "text": [
      "300171.SZ updated from 20210114 to 20210115\n",
      "Time cost : 1.7247493267059326s\n"
     ]
    },
    {
     "name": "stderr",
     "output_type": "stream",
     "text": [
      "\n",
      " 92%|█████████▏| 1957/2129 [2:20:46<06:11,  2.16s/it]"
     ]
    },
    {
     "name": "stdout",
     "output_type": "stream",
     "text": [
      "002673.SZ updated from 20210114 to 20210115\n",
      "Time cost : 3.1729297637939453s\n"
     ]
    },
    {
     "name": "stderr",
     "output_type": "stream",
     "text": [
      "\n",
      " 92%|█████████▏| 1958/2129 [2:20:49<07:01,  2.47s/it]"
     ]
    },
    {
     "name": "stdout",
     "output_type": "stream",
     "text": [
      "603690.SH updated from 20210114 to 20210115\n",
      "Time cost : 3.7638580799102783s\n"
     ]
    },
    {
     "name": "stderr",
     "output_type": "stream",
     "text": [
      "\n",
      " 92%|█████████▏| 1959/2129 [2:20:53<08:05,  2.86s/it]"
     ]
    },
    {
     "name": "stdout",
     "output_type": "stream",
     "text": [
      "600511.SH updated from 20210114 to 20210115\n",
      "Time cost : 3.4488964080810547s\n"
     ]
    },
    {
     "name": "stderr",
     "output_type": "stream",
     "text": [
      "\n",
      " 92%|█████████▏| 1960/2129 [2:20:57<08:32,  3.03s/it]"
     ]
    },
    {
     "name": "stdout",
     "output_type": "stream",
     "text": [
      "603538.SH updated from 20210114 to 20210115\n",
      "Time cost : 1.441373348236084s\n"
     ]
    },
    {
     "name": "stderr",
     "output_type": "stream",
     "text": [
      "\n",
      " 92%|█████████▏| 1961/2129 [2:20:58<07:09,  2.56s/it]"
     ]
    },
    {
     "name": "stdout",
     "output_type": "stream",
     "text": [
      "600223.SH updated from 20210114 to 20210115\n",
      "Time cost : 2.4428277015686035s\n"
     ]
    },
    {
     "name": "stderr",
     "output_type": "stream",
     "text": [
      "\n",
      " 92%|█████████▏| 1962/2129 [2:21:00<07:01,  2.52s/it]"
     ]
    },
    {
     "name": "stdout",
     "output_type": "stream",
     "text": [
      "603027.SH updated from 20210114 to 20210115\n",
      "Time cost : 5.0118021965026855s\n"
     ]
    },
    {
     "name": "stderr",
     "output_type": "stream",
     "text": [
      "\n",
      " 92%|█████████▏| 1963/2129 [2:21:05<09:02,  3.27s/it]"
     ]
    },
    {
     "name": "stdout",
     "output_type": "stream",
     "text": [
      "603990.SH updated from 20210114 to 20210115\n",
      "Time cost : 2.4343583583831787s\n"
     ]
    },
    {
     "name": "stderr",
     "output_type": "stream",
     "text": [
      "\n",
      " 92%|█████████▏| 1964/2129 [2:21:08<08:18,  3.02s/it]"
     ]
    },
    {
     "name": "stdout",
     "output_type": "stream",
     "text": [
      "603666.SH updated from 20210114 to 20210115\n",
      "Time cost : 2.4628617763519287s\n"
     ]
    },
    {
     "name": "stderr",
     "output_type": "stream",
     "text": [
      "\n",
      " 92%|█████████▏| 1965/2129 [2:21:10<07:48,  2.85s/it]"
     ]
    },
    {
     "name": "stdout",
     "output_type": "stream",
     "text": [
      "002982.SZ updated from 20210114 to 20210115\n",
      "Time cost : 2.157299518585205s\n"
     ]
    },
    {
     "name": "stderr",
     "output_type": "stream",
     "text": [
      "\n",
      " 92%|█████████▏| 1966/2129 [2:21:13<07:11,  2.65s/it]"
     ]
    },
    {
     "name": "stdout",
     "output_type": "stream",
     "text": [
      "000561.SZ updated from 20210114 to 20210115\n",
      "Time cost : 3.0737011432647705s\n"
     ]
    },
    {
     "name": "stderr",
     "output_type": "stream",
     "text": [
      "\n",
      " 92%|█████████▏| 1967/2129 [2:21:16<07:29,  2.78s/it]"
     ]
    },
    {
     "name": "stdout",
     "output_type": "stream",
     "text": [
      "600150.SH updated from 20210114 to 20210115\n",
      "Time cost : 1.9267184734344482s\n"
     ]
    },
    {
     "name": "stderr",
     "output_type": "stream",
     "text": [
      "\n",
      " 92%|█████████▏| 1968/2129 [2:21:18<06:45,  2.52s/it]"
     ]
    },
    {
     "name": "stdout",
     "output_type": "stream",
     "text": [
      "002498.SZ updated from 20210114 to 20210115\n",
      "Time cost : 2.7014617919921875s\n"
     ]
    },
    {
     "name": "stderr",
     "output_type": "stream",
     "text": [
      "\n",
      " 92%|█████████▏| 1969/2129 [2:21:20<06:52,  2.58s/it]"
     ]
    },
    {
     "name": "stdout",
     "output_type": "stream",
     "text": [
      "603378.SH updated from 20210114 to 20210115\n",
      "Time cost : 10.139943361282349s\n"
     ]
    },
    {
     "name": "stderr",
     "output_type": "stream",
     "text": [
      "\n",
      " 93%|█████████▎| 1970/2129 [2:21:30<12:50,  4.85s/it]"
     ]
    },
    {
     "name": "stdout",
     "output_type": "stream",
     "text": [
      "000413.SZ updated from 20210114 to 20210115\n",
      "Time cost : 2.237230062484741s\n"
     ]
    },
    {
     "name": "stderr",
     "output_type": "stream",
     "text": [
      "\n",
      " 93%|█████████▎| 1971/2129 [2:21:33<10:42,  4.06s/it]"
     ]
    },
    {
     "name": "stdout",
     "output_type": "stream",
     "text": [
      "600610.SH updated from 20210114 to 20210115\n",
      "Time cost : 2.2368826866149902s\n"
     ]
    },
    {
     "name": "stderr",
     "output_type": "stream",
     "text": [
      "\n",
      " 93%|█████████▎| 1972/2129 [2:21:35<09:12,  3.52s/it]"
     ]
    },
    {
     "name": "stdout",
     "output_type": "stream",
     "text": [
      "600121.SH updated from 20210114 to 20210115\n",
      "Time cost : 2.7738921642303467s\n"
     ]
    },
    {
     "name": "stderr",
     "output_type": "stream",
     "text": [
      "\n",
      " 93%|█████████▎| 1973/2129 [2:21:38<08:33,  3.29s/it]"
     ]
    },
    {
     "name": "stdout",
     "output_type": "stream",
     "text": [
      "601162.SH updated from 20210114 to 20210115\n",
      "Time cost : 5.779572248458862s\n"
     ]
    },
    {
     "name": "stderr",
     "output_type": "stream",
     "text": [
      "\n",
      " 93%|█████████▎| 1974/2129 [2:21:43<10:26,  4.04s/it]"
     ]
    },
    {
     "name": "stdout",
     "output_type": "stream",
     "text": [
      "002837.SZ updated from 20210114 to 20210115\n",
      "Time cost : 2.7614965438842773s\n"
     ]
    },
    {
     "name": "stderr",
     "output_type": "stream",
     "text": [
      "\n",
      " 93%|█████████▎| 1975/2129 [2:21:46<09:23,  3.66s/it]"
     ]
    },
    {
     "name": "stdout",
     "output_type": "stream",
     "text": [
      "688008.SH updated from 20210114 to 20210115\n",
      "Time cost : 3.3198702335357666s\n"
     ]
    },
    {
     "name": "stderr",
     "output_type": "stream",
     "text": [
      "\n",
      " 93%|█████████▎| 1976/2129 [2:21:49<09:04,  3.56s/it]"
     ]
    },
    {
     "name": "stdout",
     "output_type": "stream",
     "text": [
      "600587.SH updated from 20210114 to 20210115\n",
      "Time cost : 2.6921372413635254s\n"
     ]
    },
    {
     "name": "stderr",
     "output_type": "stream",
     "text": [
      "\n",
      " 93%|█████████▎| 1977/2129 [2:21:52<08:21,  3.30s/it]"
     ]
    },
    {
     "name": "stdout",
     "output_type": "stream",
     "text": [
      "600864.SH updated from 20210114 to 20210115\n",
      "Time cost : 12.243197917938232s\n"
     ]
    },
    {
     "name": "stderr",
     "output_type": "stream",
     "text": [
      "\n",
      " 93%|█████████▎| 1978/2129 [2:22:04<15:03,  5.98s/it]"
     ]
    },
    {
     "name": "stdout",
     "output_type": "stream",
     "text": [
      "600649.SH updated from 20210114 to 20210115\n",
      "Time cost : 1.778282642364502s\n"
     ]
    },
    {
     "name": "stderr",
     "output_type": "stream",
     "text": [
      "\n",
      " 93%|█████████▎| 1979/2129 [2:22:06<11:48,  4.72s/it]"
     ]
    },
    {
     "name": "stdout",
     "output_type": "stream",
     "text": [
      "600184.SH updated from 20210114 to 20210115\n",
      "Time cost : 2.1987457275390625s\n"
     ]
    },
    {
     "name": "stderr",
     "output_type": "stream",
     "text": [
      "\n",
      " 93%|█████████▎| 1980/2129 [2:22:08<09:50,  3.97s/it]"
     ]
    },
    {
     "name": "stdout",
     "output_type": "stream",
     "text": [
      "300212.SZ updated from 20210114 to 20210115\n",
      "Time cost : 3.746751308441162s\n"
     ]
    },
    {
     "name": "stderr",
     "output_type": "stream",
     "text": [
      "\n",
      " 93%|█████████▎| 1981/2129 [2:22:12<09:37,  3.90s/it]"
     ]
    },
    {
     "name": "stdout",
     "output_type": "stream",
     "text": [
      "600636.SH updated from 20210114 to 20210115\n",
      "Time cost : 2.2738773822784424s\n"
     ]
    },
    {
     "name": "stderr",
     "output_type": "stream",
     "text": [
      "\n",
      " 93%|█████████▎| 1982/2129 [2:22:14<08:21,  3.41s/it]"
     ]
    },
    {
     "name": "stdout",
     "output_type": "stream",
     "text": [
      "000990.SZ updated from 20210114 to 20210115\n",
      "Time cost : 2.8037679195404053s\n"
     ]
    },
    {
     "name": "stderr",
     "output_type": "stream",
     "text": [
      "\n",
      " 93%|█████████▎| 1983/2129 [2:22:17<07:51,  3.23s/it]"
     ]
    },
    {
     "name": "stdout",
     "output_type": "stream",
     "text": [
      "688055.SH updated from 20210114 to 20210115\n",
      "Time cost : 1.7535829544067383s\n"
     ]
    },
    {
     "name": "stderr",
     "output_type": "stream",
     "text": [
      "\n",
      " 93%|█████████▎| 1984/2129 [2:22:19<06:44,  2.79s/it]"
     ]
    },
    {
     "name": "stdout",
     "output_type": "stream",
     "text": [
      "000652.SZ updated from 20210114 to 20210115\n",
      "Time cost : 5.652621746063232s\n"
     ]
    },
    {
     "name": "stderr",
     "output_type": "stream",
     "text": [
      "\n",
      " 93%|█████████▎| 1985/2129 [2:22:25<08:45,  3.65s/it]"
     ]
    },
    {
     "name": "stdout",
     "output_type": "stream",
     "text": [
      "000777.SZ updated from 20210114 to 20210115\n",
      "Time cost : 2.6832621097564697s\n"
     ]
    },
    {
     "name": "stderr",
     "output_type": "stream",
     "text": [
      "\n",
      " 93%|█████████▎| 1986/2129 [2:22:27<08:00,  3.36s/it]"
     ]
    },
    {
     "name": "stdout",
     "output_type": "stream",
     "text": [
      "000811.SZ updated from 20210114 to 20210115\n",
      "Time cost : 1.2309072017669678s\n"
     ]
    },
    {
     "name": "stderr",
     "output_type": "stream",
     "text": [
      "\n",
      " 93%|█████████▎| 1987/2129 [2:22:29<06:26,  2.72s/it]"
     ]
    },
    {
     "name": "stdout",
     "output_type": "stream",
     "text": [
      "603888.SH updated from 20210114 to 20210115\n",
      "Time cost : 1.7085027694702148s\n"
     ]
    },
    {
     "name": "stderr",
     "output_type": "stream",
     "text": [
      "\n",
      " 93%|█████████▎| 1988/2129 [2:22:30<05:40,  2.42s/it]"
     ]
    },
    {
     "name": "stdout",
     "output_type": "stream",
     "text": [
      "000401.SZ updated from 20210114 to 20210115\n",
      "Time cost : 2.947944402694702s\n"
     ]
    },
    {
     "name": "stderr",
     "output_type": "stream",
     "text": [
      "\n",
      " 93%|█████████▎| 1989/2129 [2:22:33<06:00,  2.58s/it]"
     ]
    },
    {
     "name": "stdout",
     "output_type": "stream",
     "text": [
      "300355.SZ updated from 20210114 to 20210115\n",
      "Time cost : 2.688605546951294s\n"
     ]
    },
    {
     "name": "stderr",
     "output_type": "stream",
     "text": [
      "\n",
      " 93%|█████████▎| 1990/2129 [2:22:36<06:03,  2.61s/it]"
     ]
    },
    {
     "name": "stdout",
     "output_type": "stream",
     "text": [
      "688298.SH updated from 20210114 to 20210115\n",
      "Time cost : 2.741856336593628s\n"
     ]
    },
    {
     "name": "stderr",
     "output_type": "stream",
     "text": [
      "\n",
      " 94%|█████████▎| 1991/2129 [2:22:39<06:05,  2.65s/it]"
     ]
    },
    {
     "name": "stdout",
     "output_type": "stream",
     "text": [
      "603505.SH updated from 20210114 to 20210115\n",
      "Time cost : 13.231121301651001s\n"
     ]
    },
    {
     "name": "stderr",
     "output_type": "stream",
     "text": [
      "\n",
      " 94%|█████████▎| 1992/2129 [2:22:52<13:18,  5.83s/it]"
     ]
    },
    {
     "name": "stdout",
     "output_type": "stream",
     "text": [
      "605168.SH updated from 20210114 to 20210115\n",
      "Time cost : 2.8250246047973633s\n"
     ]
    },
    {
     "name": "stderr",
     "output_type": "stream",
     "text": [
      "\n",
      " 94%|█████████▎| 1993/2129 [2:22:55<11:10,  4.93s/it]"
     ]
    },
    {
     "name": "stdout",
     "output_type": "stream",
     "text": [
      "002202.SZ updated from 20210114 to 20210115\n",
      "Time cost : 4.787960052490234s\n"
     ]
    },
    {
     "name": "stderr",
     "output_type": "stream",
     "text": [
      "\n",
      " 94%|█████████▎| 1994/2129 [2:23:00<10:59,  4.89s/it]"
     ]
    },
    {
     "name": "stdout",
     "output_type": "stream",
     "text": [
      "601577.SH updated from 20210114 to 20210115\n",
      "Time cost : 1.717097520828247s\n"
     ]
    },
    {
     "name": "stderr",
     "output_type": "stream",
     "text": [
      "\n",
      " 94%|█████████▎| 1995/2129 [2:23:01<08:47,  3.94s/it]"
     ]
    },
    {
     "name": "stdout",
     "output_type": "stream",
     "text": [
      "600125.SH updated from 20210114 to 20210115\n",
      "Time cost : 2.890425682067871s\n"
     ]
    },
    {
     "name": "stderr",
     "output_type": "stream",
     "text": [
      "\n",
      " 94%|█████████▍| 1996/2129 [2:23:04<08:01,  3.62s/it]"
     ]
    },
    {
     "name": "stdout",
     "output_type": "stream",
     "text": [
      "002242.SZ updated from 20210114 to 20210115\n",
      "Time cost : 16.221391439437866s\n"
     ]
    },
    {
     "name": "stderr",
     "output_type": "stream",
     "text": [
      "\n",
      " 94%|█████████▍| 1997/2129 [2:23:20<16:17,  7.40s/it]"
     ]
    },
    {
     "name": "stdout",
     "output_type": "stream",
     "text": [
      "002544.SZ updated from 20210114 to 20210115\n",
      "Time cost : 2.035696029663086s\n"
     ]
    },
    {
     "name": "stderr",
     "output_type": "stream",
     "text": [
      "\n",
      " 94%|█████████▍| 1998/2129 [2:23:22<12:38,  5.79s/it]"
     ]
    },
    {
     "name": "stdout",
     "output_type": "stream",
     "text": [
      "603659.SH updated from 20210114 to 20210115\n",
      "Time cost : 1.691497802734375s\n"
     ]
    },
    {
     "name": "stderr",
     "output_type": "stream",
     "text": [
      "\n",
      " 94%|█████████▍| 1999/2129 [2:23:24<09:53,  4.56s/it]"
     ]
    },
    {
     "name": "stdout",
     "output_type": "stream",
     "text": [
      "002204.SZ updated from 20210114 to 20210115\n",
      "Time cost : 2.499346971511841s\n"
     ]
    },
    {
     "name": "stderr",
     "output_type": "stream",
     "text": [
      "\n",
      " 94%|█████████▍| 2000/2129 [2:23:27<08:28,  3.95s/it]"
     ]
    },
    {
     "name": "stdout",
     "output_type": "stream",
     "text": [
      "601390.SH updated from 20210114 to 20210115\n",
      "Time cost : 1.75034761428833s\n"
     ]
    },
    {
     "name": "stderr",
     "output_type": "stream",
     "text": [
      "\n",
      " 94%|█████████▍| 2001/2129 [2:23:28<07:00,  3.29s/it]"
     ]
    },
    {
     "name": "stdout",
     "output_type": "stream",
     "text": [
      "603225.SH updated from 20210114 to 20210115\n",
      "Time cost : 2.4644436836242676s\n"
     ]
    },
    {
     "name": "stderr",
     "output_type": "stream",
     "text": [
      "\n",
      " 94%|█████████▍| 2002/2129 [2:23:31<06:26,  3.04s/it]"
     ]
    },
    {
     "name": "stdout",
     "output_type": "stream",
     "text": [
      "600917.SH updated from 20210114 to 20210115\n",
      "Time cost : 3.4837329387664795s\n"
     ]
    },
    {
     "name": "stderr",
     "output_type": "stream",
     "text": [
      "\n",
      " 94%|█████████▍| 2003/2129 [2:23:34<06:40,  3.17s/it]"
     ]
    },
    {
     "name": "stdout",
     "output_type": "stream",
     "text": [
      "000683.SZ updated from 20210114 to 20210115\n",
      "Time cost : 5.222117900848389s\n"
     ]
    },
    {
     "name": "stderr",
     "output_type": "stream",
     "text": [
      "\n",
      " 94%|█████████▍| 2004/2129 [2:23:40<07:53,  3.79s/it]"
     ]
    },
    {
     "name": "stdout",
     "output_type": "stream",
     "text": [
      "002123.SZ updated from 20210114 to 20210115\n",
      "Time cost : 1.2067747116088867s\n"
     ]
    },
    {
     "name": "stderr",
     "output_type": "stream",
     "text": [
      "\n",
      " 94%|█████████▍| 2005/2129 [2:23:41<06:13,  3.02s/it]"
     ]
    },
    {
     "name": "stdout",
     "output_type": "stream",
     "text": [
      "002049.SZ updated from 20210114 to 20210115\n",
      "Time cost : 1.7742581367492676s\n"
     ]
    },
    {
     "name": "stderr",
     "output_type": "stream",
     "text": [
      "\n",
      " 94%|█████████▍| 2006/2129 [2:23:42<05:25,  2.64s/it]"
     ]
    },
    {
     "name": "stdout",
     "output_type": "stream",
     "text": [
      "002434.SZ updated from 20210114 to 20210115\n",
      "Time cost : 8.662936210632324s\n"
     ]
    },
    {
     "name": "stderr",
     "output_type": "stream",
     "text": [
      "\n",
      " 94%|█████████▍| 2007/2129 [2:23:51<09:02,  4.45s/it]"
     ]
    },
    {
     "name": "stdout",
     "output_type": "stream",
     "text": [
      "002530.SZ updated from 20210114 to 20210115\n",
      "Time cost : 1.8191747665405273s\n"
     ]
    },
    {
     "name": "stderr",
     "output_type": "stream",
     "text": [
      "\n",
      " 94%|█████████▍| 2008/2129 [2:23:53<07:23,  3.66s/it]"
     ]
    },
    {
     "name": "stdout",
     "output_type": "stream",
     "text": [
      "688219.SH updated from 20210114 to 20210115\n",
      "Time cost : 1.123955488204956s\n"
     ]
    },
    {
     "name": "stderr",
     "output_type": "stream",
     "text": [
      "\n",
      " 94%|█████████▍| 2009/2129 [2:23:54<05:48,  2.90s/it]"
     ]
    },
    {
     "name": "stdout",
     "output_type": "stream",
     "text": [
      "688186.SH updated from 20210114 to 20210115\n",
      "Time cost : 4.058268785476685s\n"
     ]
    },
    {
     "name": "stderr",
     "output_type": "stream",
     "text": [
      "\n",
      " 94%|█████████▍| 2010/2129 [2:23:58<06:26,  3.25s/it]"
     ]
    },
    {
     "name": "stdout",
     "output_type": "stream",
     "text": [
      "601238.SH updated from 20210114 to 20210115\n",
      "Time cost : 1.7483916282653809s\n"
     ]
    },
    {
     "name": "stderr",
     "output_type": "stream",
     "text": [
      "\n",
      " 94%|█████████▍| 2011/2129 [2:24:00<05:30,  2.80s/it]"
     ]
    },
    {
     "name": "stdout",
     "output_type": "stream",
     "text": [
      "600028.SH updated from 20210114 to 20210115\n",
      "Time cost : 2.086421012878418s\n"
     ]
    },
    {
     "name": "stderr",
     "output_type": "stream",
     "text": [
      "\n",
      " 95%|█████████▍| 2012/2129 [2:24:02<05:02,  2.59s/it]"
     ]
    },
    {
     "name": "stdout",
     "output_type": "stream",
     "text": [
      "688020.SH updated from 20210114 to 20210115\n",
      "Time cost : 2.1825172901153564s\n"
     ]
    },
    {
     "name": "stderr",
     "output_type": "stream",
     "text": [
      "\n",
      " 95%|█████████▍| 2013/2129 [2:24:04<04:46,  2.47s/it]"
     ]
    },
    {
     "name": "stdout",
     "output_type": "stream",
     "text": [
      "300036.SZ updated from 20210114 to 20210115\n",
      "Time cost : 1.2307989597320557s\n"
     ]
    },
    {
     "name": "stderr",
     "output_type": "stream",
     "text": [
      "\n",
      " 95%|█████████▍| 2014/2129 [2:24:05<04:01,  2.10s/it]"
     ]
    },
    {
     "name": "stdout",
     "output_type": "stream",
     "text": [
      "603063.SH updated from 20210114 to 20210115\n",
      "Time cost : 1.2336702346801758s\n"
     ]
    },
    {
     "name": "stderr",
     "output_type": "stream",
     "text": [
      "\n",
      " 95%|█████████▍| 2015/2129 [2:24:07<03:29,  1.84s/it]"
     ]
    },
    {
     "name": "stdout",
     "output_type": "stream",
     "text": [
      "600658.SH updated from 20210114 to 20210115\n",
      "Time cost : 1.2576756477355957s\n"
     ]
    },
    {
     "name": "stderr",
     "output_type": "stream",
     "text": [
      "\n",
      " 95%|█████████▍| 2016/2129 [2:24:08<03:08,  1.66s/it]"
     ]
    },
    {
     "name": "stdout",
     "output_type": "stream",
     "text": [
      "002697.SZ updated from 20210114 to 20210115\n",
      "Time cost : 5.233181476593018s\n"
     ]
    },
    {
     "name": "stderr",
     "output_type": "stream",
     "text": [
      "\n",
      " 95%|█████████▍| 2017/2129 [2:24:13<05:06,  2.74s/it]"
     ]
    },
    {
     "name": "stdout",
     "output_type": "stream",
     "text": [
      "002376.SZ updated from 20210114 to 20210115\n",
      "Time cost : 5.281967401504517s\n"
     ]
    },
    {
     "name": "stderr",
     "output_type": "stream",
     "text": [
      "\n",
      " 95%|█████████▍| 2018/2129 [2:24:18<06:28,  3.50s/it]"
     ]
    },
    {
     "name": "stdout",
     "output_type": "stream",
     "text": [
      "300661.SZ updated from 20210114 to 20210115\n",
      "Time cost : 1.7044758796691895s\n"
     ]
    },
    {
     "name": "stderr",
     "output_type": "stream",
     "text": [
      "\n",
      " 95%|█████████▍| 2019/2129 [2:24:20<05:25,  2.96s/it]"
     ]
    },
    {
     "name": "stdout",
     "output_type": "stream",
     "text": [
      "002515.SZ updated from 20210114 to 20210115\n",
      "Time cost : 3.0858168601989746s\n"
     ]
    },
    {
     "name": "stderr",
     "output_type": "stream",
     "text": [
      "\n",
      " 95%|█████████▍| 2020/2129 [2:24:23<05:27,  3.00s/it]"
     ]
    },
    {
     "name": "stdout",
     "output_type": "stream",
     "text": [
      "002906.SZ updated from 20210114 to 20210115\n",
      "Time cost : 8.692815780639648s\n"
     ]
    },
    {
     "name": "stderr",
     "output_type": "stream",
     "text": [
      "\n",
      " 95%|█████████▍| 2021/2129 [2:24:32<08:28,  4.71s/it]"
     ]
    },
    {
     "name": "stdout",
     "output_type": "stream",
     "text": [
      "600093.SH updated from 20210114 to 20210115\n",
      "Time cost : 1.188880443572998s\n"
     ]
    },
    {
     "name": "stderr",
     "output_type": "stream",
     "text": [
      "\n",
      " 95%|█████████▍| 2022/2129 [2:24:33<06:30,  3.65s/it]"
     ]
    },
    {
     "name": "stdout",
     "output_type": "stream",
     "text": [
      "300196.SZ updated from 20210114 to 20210115\n",
      "Time cost : 1.75333833694458s\n"
     ]
    },
    {
     "name": "stderr",
     "output_type": "stream",
     "text": [
      "\n",
      " 95%|█████████▌| 2023/2129 [2:24:35<05:26,  3.08s/it]"
     ]
    },
    {
     "name": "stdout",
     "output_type": "stream",
     "text": [
      "002768.SZ updated from 20210114 to 20210115\n",
      "Time cost : 3.6783151626586914s\n"
     ]
    },
    {
     "name": "stderr",
     "output_type": "stream",
     "text": [
      "\n",
      " 95%|█████████▌| 2024/2129 [2:24:39<05:42,  3.26s/it]"
     ]
    },
    {
     "name": "stdout",
     "output_type": "stream",
     "text": [
      "300633.SZ updated from 20210114 to 20210115\n",
      "Time cost : 2.6091396808624268s\n"
     ]
    },
    {
     "name": "stderr",
     "output_type": "stream",
     "text": [
      "\n",
      " 95%|█████████▌| 2025/2129 [2:24:41<05:19,  3.07s/it]"
     ]
    },
    {
     "name": "stdout",
     "output_type": "stream",
     "text": [
      "002500.SZ updated from 20210114 to 20210115\n",
      "Time cost : 2.670930862426758s\n"
     ]
    },
    {
     "name": "stderr",
     "output_type": "stream",
     "text": [
      "\n",
      " 95%|█████████▌| 2026/2129 [2:24:44<05:03,  2.95s/it]"
     ]
    },
    {
     "name": "stdout",
     "output_type": "stream",
     "text": [
      "002312.SZ updated from 20210114 to 20210115\n",
      "Time cost : 5.017660140991211s\n"
     ]
    },
    {
     "name": "stderr",
     "output_type": "stream",
     "text": [
      "\n",
      " 95%|█████████▌| 2027/2129 [2:24:49<06:04,  3.57s/it]"
     ]
    },
    {
     "name": "stdout",
     "output_type": "stream",
     "text": [
      "600867.SH updated from 20210114 to 20210115\n",
      "Time cost : 2.187201738357544s\n"
     ]
    },
    {
     "name": "stderr",
     "output_type": "stream",
     "text": [
      "\n",
      " 95%|█████████▌| 2028/2129 [2:24:51<05:18,  3.16s/it]"
     ]
    },
    {
     "name": "stdout",
     "output_type": "stream",
     "text": [
      "600389.SH updated from 20210114 to 20210115\n",
      "Time cost : 11.835684537887573s\n"
     ]
    },
    {
     "name": "stderr",
     "output_type": "stream",
     "text": [
      "\n",
      " 95%|█████████▌| 2029/2129 [2:25:03<09:36,  5.76s/it]"
     ]
    },
    {
     "name": "stdout",
     "output_type": "stream",
     "text": [
      "600495.SH updated from 20210114 to 20210115\n",
      "Time cost : 2.7098474502563477s\n"
     ]
    },
    {
     "name": "stderr",
     "output_type": "stream",
     "text": [
      "\n",
      " 95%|█████████▌| 2030/2129 [2:25:06<07:59,  4.85s/it]"
     ]
    },
    {
     "name": "stdout",
     "output_type": "stream",
     "text": [
      "002245.SZ updated from 20210114 to 20210115\n",
      "Time cost : 6.45576810836792s\n"
     ]
    },
    {
     "name": "stderr",
     "output_type": "stream",
     "text": [
      "\n",
      " 95%|█████████▌| 2031/2129 [2:25:12<08:42,  5.33s/it]"
     ]
    },
    {
     "name": "stdout",
     "output_type": "stream",
     "text": [
      "000703.SZ updated from 20210114 to 20210115\n",
      "Time cost : 4.333511829376221s\n"
     ]
    },
    {
     "name": "stderr",
     "output_type": "stream",
     "text": [
      "\n",
      " 95%|█████████▌| 2032/2129 [2:25:16<08:08,  5.03s/it]"
     ]
    },
    {
     "name": "stdout",
     "output_type": "stream",
     "text": [
      "601398.SH updated from 20210114 to 20210115\n",
      "Time cost : 2.8035058975219727s\n"
     ]
    },
    {
     "name": "stderr",
     "output_type": "stream",
     "text": [
      "\n",
      " 95%|█████████▌| 2033/2129 [2:25:19<06:58,  4.36s/it]"
     ]
    },
    {
     "name": "stdout",
     "output_type": "stream",
     "text": [
      "605123.SH updated from 20210114 to 20210115\n",
      "Time cost : 1.161893606185913s\n"
     ]
    },
    {
     "name": "stderr",
     "output_type": "stream",
     "text": [
      "\n",
      " 96%|█████████▌| 2034/2129 [2:25:20<05:23,  3.40s/it]"
     ]
    },
    {
     "name": "stdout",
     "output_type": "stream",
     "text": [
      "600717.SH updated from 20210114 to 20210115\n",
      "Time cost : 5.005729675292969s\n"
     ]
    },
    {
     "name": "stderr",
     "output_type": "stream",
     "text": [
      "\n",
      " 96%|█████████▌| 2035/2129 [2:25:25<06:05,  3.89s/it]"
     ]
    },
    {
     "name": "stdout",
     "output_type": "stream",
     "text": [
      "688033.SH updated from 20210114 to 20210115\n",
      "Time cost : 1.1459376811981201s\n"
     ]
    },
    {
     "name": "stderr",
     "output_type": "stream",
     "text": [
      "\n",
      " 96%|█████████▌| 2036/2129 [2:25:27<04:44,  3.06s/it]"
     ]
    },
    {
     "name": "stdout",
     "output_type": "stream",
     "text": [
      "002845.SZ updated from 20210114 to 20210115\n",
      "Time cost : 2.1393392086029053s\n"
     ]
    },
    {
     "name": "stderr",
     "output_type": "stream",
     "text": [
      "\n",
      " 96%|█████████▌| 2037/2129 [2:25:29<04:16,  2.79s/it]"
     ]
    },
    {
     "name": "stdout",
     "output_type": "stream",
     "text": [
      "600188.SH updated from 20210114 to 20210115\n",
      "Time cost : 5.685938835144043s\n"
     ]
    },
    {
     "name": "stderr",
     "output_type": "stream",
     "text": [
      "\n",
      " 96%|█████████▌| 2038/2129 [2:25:34<05:32,  3.66s/it]"
     ]
    },
    {
     "name": "stdout",
     "output_type": "stream",
     "text": [
      "002459.SZ updated from 20210114 to 20210115\n",
      "Time cost : 3.0169434547424316s\n"
     ]
    },
    {
     "name": "stderr",
     "output_type": "stream",
     "text": [
      "\n",
      " 96%|█████████▌| 2039/2129 [2:25:37<05:11,  3.47s/it]"
     ]
    },
    {
     "name": "stdout",
     "output_type": "stream",
     "text": [
      "600416.SH updated from 20210114 to 20210115\n",
      "Time cost : 2.673950672149658s\n"
     ]
    },
    {
     "name": "stderr",
     "output_type": "stream",
     "text": [
      "\n",
      " 96%|█████████▌| 2040/2129 [2:25:40<04:47,  3.23s/it]"
     ]
    },
    {
     "name": "stdout",
     "output_type": "stream",
     "text": [
      "300119.SZ updated from 20210114 to 20210115\n",
      "Time cost : 2.719809055328369s\n"
     ]
    },
    {
     "name": "stderr",
     "output_type": "stream",
     "text": [
      "\n",
      " 96%|█████████▌| 2041/2129 [2:25:43<04:30,  3.08s/it]"
     ]
    },
    {
     "name": "stdout",
     "output_type": "stream",
     "text": [
      "600682.SH updated from 20210114 to 20210115\n",
      "Time cost : 1.238687515258789s\n"
     ]
    },
    {
     "name": "stderr",
     "output_type": "stream",
     "text": [
      "\n",
      " 96%|█████████▌| 2042/2129 [2:25:44<03:39,  2.53s/it]"
     ]
    },
    {
     "name": "stdout",
     "output_type": "stream",
     "text": [
      "603298.SH updated from 20210114 to 20210115\n",
      "Time cost : 1.1190431118011475s\n"
     ]
    },
    {
     "name": "stderr",
     "output_type": "stream",
     "text": [
      "\n",
      " 96%|█████████▌| 2043/2129 [2:25:45<03:01,  2.11s/it]"
     ]
    },
    {
     "name": "stdout",
     "output_type": "stream",
     "text": [
      "603936.SH updated from 20210114 to 20210115\n",
      "Time cost : 2.2759180068969727s\n"
     ]
    },
    {
     "name": "stderr",
     "output_type": "stream",
     "text": [
      "\n",
      " 96%|█████████▌| 2044/2129 [2:25:47<03:03,  2.16s/it]"
     ]
    },
    {
     "name": "stdout",
     "output_type": "stream",
     "text": [
      "601366.SH updated from 20210114 to 20210115\n",
      "Time cost : 1.8350915908813477s\n"
     ]
    },
    {
     "name": "stderr",
     "output_type": "stream",
     "text": [
      "\n",
      " 96%|█████████▌| 2045/2129 [2:25:49<02:53,  2.06s/it]"
     ]
    },
    {
     "name": "stdout",
     "output_type": "stream",
     "text": [
      "002371.SZ updated from 20210114 to 20210115\n",
      "Time cost : 2.3367526531219482s\n"
     ]
    },
    {
     "name": "stderr",
     "output_type": "stream",
     "text": [
      "\n",
      " 96%|█████████▌| 2046/2129 [2:25:52<02:58,  2.14s/it]"
     ]
    },
    {
     "name": "stdout",
     "output_type": "stream",
     "text": [
      "601669.SH updated from 20210114 to 20210115\n",
      "Time cost : 5.713726997375488s\n"
     ]
    },
    {
     "name": "stderr",
     "output_type": "stream",
     "text": [
      "\n",
      " 96%|█████████▌| 2047/2129 [2:25:57<04:23,  3.22s/it]"
     ]
    },
    {
     "name": "stdout",
     "output_type": "stream",
     "text": [
      "002791.SZ updated from 20210114 to 20210115\n",
      "Time cost : 7.38334584236145s\n"
     ]
    },
    {
     "name": "stderr",
     "output_type": "stream",
     "text": [
      "\n",
      " 96%|█████████▌| 2048/2129 [2:26:05<06:01,  4.47s/it]"
     ]
    },
    {
     "name": "stdout",
     "output_type": "stream",
     "text": [
      "300702.SZ updated from 20210114 to 20210115\n",
      "Time cost : 2.6190102100372314s\n"
     ]
    },
    {
     "name": "stderr",
     "output_type": "stream",
     "text": [
      "\n",
      " 96%|█████████▌| 2049/2129 [2:26:07<05:13,  3.91s/it]"
     ]
    },
    {
     "name": "stdout",
     "output_type": "stream",
     "text": [
      "603535.SH updated from 20210114 to 20210115\n",
      "Time cost : 8.189180374145508s\n"
     ]
    },
    {
     "name": "stderr",
     "output_type": "stream",
     "text": [
      "\n",
      " 96%|█████████▋| 2050/2129 [2:26:16<06:50,  5.20s/it]"
     ]
    },
    {
     "name": "stdout",
     "output_type": "stream",
     "text": [
      "000795.SZ updated from 20210114 to 20210115\n",
      "Time cost : 3.2284095287323s\n"
     ]
    },
    {
     "name": "stderr",
     "output_type": "stream",
     "text": [
      "\n",
      " 96%|█████████▋| 2051/2129 [2:26:19<05:59,  4.61s/it]"
     ]
    },
    {
     "name": "stdout",
     "output_type": "stream",
     "text": [
      "603567.SH updated from 20210114 to 20210115\n",
      "Time cost : 2.1803109645843506s\n"
     ]
    },
    {
     "name": "stderr",
     "output_type": "stream",
     "text": [
      "\n",
      " 96%|█████████▋| 2052/2129 [2:26:21<04:58,  3.88s/it]"
     ]
    },
    {
     "name": "stdout",
     "output_type": "stream",
     "text": [
      "603939.SH updated from 20210114 to 20210115\n",
      "Time cost : 2.7586255073547363s\n"
     ]
    },
    {
     "name": "stderr",
     "output_type": "stream",
     "text": [
      "\n",
      " 96%|█████████▋| 2053/2129 [2:26:24<04:29,  3.54s/it]"
     ]
    },
    {
     "name": "stdout",
     "output_type": "stream",
     "text": [
      "300441.SZ updated from 20210114 to 20210115\n",
      "Time cost : 1.1469316482543945s\n"
     ]
    },
    {
     "name": "stderr",
     "output_type": "stream",
     "text": [
      "\n",
      " 96%|█████████▋| 2054/2129 [2:26:25<03:31,  2.83s/it]"
     ]
    },
    {
     "name": "stdout",
     "output_type": "stream",
     "text": [
      "300755.SZ updated from 20210114 to 20210115\n",
      "Time cost : 1.1668825149536133s\n"
     ]
    },
    {
     "name": "stderr",
     "output_type": "stream",
     "text": [
      "\n",
      " 97%|█████████▋| 2055/2129 [2:26:26<02:52,  2.33s/it]"
     ]
    },
    {
     "name": "stdout",
     "output_type": "stream",
     "text": [
      "600163.SH updated from 20210114 to 20210115\n",
      "Time cost : 2.2011139392852783s\n"
     ]
    },
    {
     "name": "stderr",
     "output_type": "stream",
     "text": [
      "\n",
      " 97%|█████████▋| 2056/2129 [2:26:28<02:47,  2.29s/it]"
     ]
    },
    {
     "name": "stdout",
     "output_type": "stream",
     "text": [
      "688580.SH updated from 20210114 to 20210115\n",
      "Time cost : 1.1838352680206299s\n"
     ]
    },
    {
     "name": "stderr",
     "output_type": "stream",
     "text": [
      "\n",
      " 97%|█████████▋| 2057/2129 [2:26:29<02:21,  1.96s/it]"
     ]
    },
    {
     "name": "stdout",
     "output_type": "stream",
     "text": [
      "000029.SZ updated from 20210114 to 20210115\n",
      "Time cost : 2.5692317485809326s\n"
     ]
    },
    {
     "name": "stderr",
     "output_type": "stream",
     "text": [
      "\n",
      " 97%|█████████▋| 2058/2129 [2:26:32<02:32,  2.14s/it]"
     ]
    },
    {
     "name": "stdout",
     "output_type": "stream",
     "text": [
      "300573.SZ updated from 20210114 to 20210115\n",
      "Time cost : 6.893906593322754s\n"
     ]
    },
    {
     "name": "stderr",
     "output_type": "stream",
     "text": [
      "\n",
      " 97%|█████████▋| 2059/2129 [2:26:39<04:09,  3.57s/it]"
     ]
    },
    {
     "name": "stdout",
     "output_type": "stream",
     "text": [
      "000963.SZ updated from 20210114 to 20210115\n",
      "Time cost : 1.2037811279296875s\n"
     ]
    },
    {
     "name": "stderr",
     "output_type": "stream",
     "text": [
      "\n",
      " 97%|█████████▋| 2060/2129 [2:26:40<03:17,  2.86s/it]"
     ]
    },
    {
     "name": "stdout",
     "output_type": "stream",
     "text": [
      "000666.SZ updated from 20210114 to 20210115\n",
      "Time cost : 3.260383367538452s\n"
     ]
    },
    {
     "name": "stderr",
     "output_type": "stream",
     "text": [
      "\n",
      " 97%|█████████▋| 2061/2129 [2:26:43<03:22,  2.98s/it]"
     ]
    },
    {
     "name": "stdout",
     "output_type": "stream",
     "text": [
      "002511.SZ updated from 20210114 to 20210115\n",
      "Time cost : 2.21115779876709s\n"
     ]
    },
    {
     "name": "stderr",
     "output_type": "stream",
     "text": [
      "\n",
      " 97%|█████████▋| 2062/2129 [2:26:46<03:04,  2.75s/it]"
     ]
    },
    {
     "name": "stdout",
     "output_type": "stream",
     "text": [
      "000758.SZ updated from 20210114 to 20210115\n",
      "Time cost : 3.256314992904663s\n"
     ]
    },
    {
     "name": "stderr",
     "output_type": "stream",
     "text": [
      "\n",
      " 97%|█████████▋| 2063/2129 [2:26:49<03:11,  2.90s/it]"
     ]
    },
    {
     "name": "stdout",
     "output_type": "stream",
     "text": [
      "000507.SZ updated from 20210114 to 20210115\n",
      "Time cost : 1.2197399139404297s\n"
     ]
    },
    {
     "name": "stderr",
     "output_type": "stream",
     "text": [
      "\n",
      " 97%|█████████▋| 2064/2129 [2:26:50<02:35,  2.40s/it]"
     ]
    },
    {
     "name": "stdout",
     "output_type": "stream",
     "text": [
      "600300.SH updated from 20210114 to 20210115\n",
      "Time cost : 2.614053726196289s\n"
     ]
    },
    {
     "name": "stderr",
     "output_type": "stream",
     "text": [
      "\n",
      " 97%|█████████▋| 2065/2129 [2:26:53<02:37,  2.46s/it]"
     ]
    },
    {
     "name": "stdout",
     "output_type": "stream",
     "text": [
      "601919.SH updated from 20210114 to 20210115\n",
      "Time cost : 2.5203301906585693s\n"
     ]
    },
    {
     "name": "stderr",
     "output_type": "stream",
     "text": [
      "\n",
      " 97%|█████████▋| 2066/2129 [2:26:55<02:36,  2.48s/it]"
     ]
    },
    {
     "name": "stdout",
     "output_type": "stream",
     "text": [
      "300388.SZ updated from 20210114 to 20210115\n",
      "Time cost : 2.5691685676574707s\n"
     ]
    },
    {
     "name": "stderr",
     "output_type": "stream",
     "text": [
      "\n",
      " 97%|█████████▋| 2067/2129 [2:26:58<02:35,  2.51s/it]"
     ]
    },
    {
     "name": "stdout",
     "output_type": "stream",
     "text": [
      "002221.SZ updated from 20210114 to 20210115\n",
      "Time cost : 1.2547166347503662s\n"
     ]
    },
    {
     "name": "stderr",
     "output_type": "stream",
     "text": [
      "\n",
      " 97%|█████████▋| 2068/2129 [2:26:59<02:10,  2.13s/it]"
     ]
    },
    {
     "name": "stdout",
     "output_type": "stream",
     "text": [
      "300765.SZ updated from 20210114 to 20210115\n",
      "Time cost : 2.280937671661377s\n"
     ]
    },
    {
     "name": "stderr",
     "output_type": "stream",
     "text": [
      "\n",
      " 97%|█████████▋| 2069/2129 [2:27:01<02:10,  2.18s/it]"
     ]
    },
    {
     "name": "stdout",
     "output_type": "stream",
     "text": [
      "300394.SZ updated from 20210114 to 20210115\n",
      "Time cost : 1.7293787002563477s\n"
     ]
    },
    {
     "name": "stderr",
     "output_type": "stream",
     "text": [
      "\n",
      " 97%|█████████▋| 2070/2129 [2:27:03<02:00,  2.04s/it]"
     ]
    },
    {
     "name": "stdout",
     "output_type": "stream",
     "text": [
      "603305.SH updated from 20210114 to 20210115\n",
      "Time cost : 1.1509490013122559s\n"
     ]
    },
    {
     "name": "stderr",
     "output_type": "stream",
     "text": [
      "\n",
      " 97%|█████████▋| 2071/2129 [2:27:04<01:43,  1.78s/it]"
     ]
    },
    {
     "name": "stdout",
     "output_type": "stream",
     "text": [
      "601009.SH updated from 20210114 to 20210115\n",
      "Time cost : 4.165863037109375s\n"
     ]
    },
    {
     "name": "stderr",
     "output_type": "stream",
     "text": [
      "\n",
      " 97%|█████████▋| 2072/2129 [2:27:08<02:22,  2.49s/it]"
     ]
    },
    {
     "name": "stdout",
     "output_type": "stream",
     "text": [
      "002195.SZ updated from 20210114 to 20210115\n",
      "Time cost : 2.032785177230835s\n"
     ]
    },
    {
     "name": "stderr",
     "output_type": "stream",
     "text": [
      "\n",
      " 97%|█████████▋| 2073/2129 [2:27:10<02:11,  2.36s/it]"
     ]
    },
    {
     "name": "stdout",
     "output_type": "stream",
     "text": [
      "002573.SZ updated from 20210114 to 20210115\n",
      "Time cost : 1.2048087120056152s\n"
     ]
    },
    {
     "name": "stderr",
     "output_type": "stream",
     "text": [
      "\n",
      " 97%|█████████▋| 2074/2129 [2:27:12<01:50,  2.01s/it]"
     ]
    },
    {
     "name": "stdout",
     "output_type": "stream",
     "text": [
      "300792.SZ updated from 20210114 to 20210115\n",
      "Time cost : 4.363490343093872s\n"
     ]
    },
    {
     "name": "stderr",
     "output_type": "stream",
     "text": [
      "\n",
      " 97%|█████████▋| 2075/2129 [2:27:16<02:26,  2.72s/it]"
     ]
    },
    {
     "name": "stdout",
     "output_type": "stream",
     "text": [
      "000717.SZ updated from 20210114 to 20210115\n",
      "Time cost : 1.1678786277770996s\n"
     ]
    },
    {
     "name": "stderr",
     "output_type": "stream",
     "text": [
      "\n",
      " 98%|█████████▊| 2076/2129 [2:27:17<01:59,  2.25s/it]"
     ]
    },
    {
     "name": "stdout",
     "output_type": "stream",
     "text": [
      "300600.SZ updated from 20210114 to 20210115\n",
      "Time cost : 17.03829598426819s\n"
     ]
    },
    {
     "name": "stderr",
     "output_type": "stream",
     "text": [
      "\n",
      " 98%|█████████▊| 2077/2129 [2:27:34<05:47,  6.69s/it]"
     ]
    },
    {
     "name": "stdout",
     "output_type": "stream",
     "text": [
      "002430.SZ updated from 20210114 to 20210115\n",
      "Time cost : 1.1466064453125s\n"
     ]
    },
    {
     "name": "stderr",
     "output_type": "stream",
     "text": [
      "\n",
      " 98%|█████████▊| 2078/2129 [2:27:35<04:16,  5.03s/it]"
     ]
    },
    {
     "name": "stdout",
     "output_type": "stream",
     "text": [
      "603033.SH updated from 20210114 to 20210115\n",
      "Time cost : 1.1291062831878662s\n"
     ]
    },
    {
     "name": "stderr",
     "output_type": "stream",
     "text": [
      "\n",
      " 98%|█████████▊| 2079/2129 [2:27:36<03:12,  3.86s/it]"
     ]
    },
    {
     "name": "stdout",
     "output_type": "stream",
     "text": [
      "002541.SZ updated from 20210114 to 20210115\n",
      "Time cost : 2.1653966903686523s\n"
     ]
    },
    {
     "name": "stderr",
     "output_type": "stream",
     "text": [
      "\n",
      " 98%|█████████▊| 2080/2129 [2:27:39<02:44,  3.35s/it]"
     ]
    },
    {
     "name": "stdout",
     "output_type": "stream",
     "text": [
      "300638.SZ updated from 20210114 to 20210115\n",
      "Time cost : 4.636154890060425s\n"
     ]
    },
    {
     "name": "stderr",
     "output_type": "stream",
     "text": [
      "\n",
      " 98%|█████████▊| 2081/2129 [2:27:43<02:59,  3.74s/it]"
     ]
    },
    {
     "name": "stdout",
     "output_type": "stream",
     "text": [
      "600660.SH updated from 20210114 to 20210115\n",
      "Time cost : 1.7475507259368896s\n"
     ]
    },
    {
     "name": "stderr",
     "output_type": "stream",
     "text": [
      "\n",
      " 98%|█████████▊| 2082/2129 [2:27:45<02:27,  3.14s/it]"
     ]
    },
    {
     "name": "stdout",
     "output_type": "stream",
     "text": [
      "600016.SH updated from 20210114 to 20210115\n",
      "Time cost : 2.505671262741089s\n"
     ]
    },
    {
     "name": "stderr",
     "output_type": "stream",
     "text": [
      "\n",
      " 98%|█████████▊| 2083/2129 [2:27:47<02:15,  2.95s/it]"
     ]
    },
    {
     "name": "stdout",
     "output_type": "stream",
     "text": [
      "000883.SZ updated from 20210114 to 20210115\n",
      "Time cost : 1.7992730140686035s\n"
     ]
    },
    {
     "name": "stderr",
     "output_type": "stream",
     "text": [
      "\n",
      " 98%|█████████▊| 2084/2129 [2:27:49<01:57,  2.61s/it]"
     ]
    },
    {
     "name": "stdout",
     "output_type": "stream",
     "text": [
      "000878.SZ updated from 20210114 to 20210115\n",
      "Time cost : 2.0267457962036133s\n"
     ]
    },
    {
     "name": "stderr",
     "output_type": "stream",
     "text": [
      "\n",
      " 98%|█████████▊| 2085/2129 [2:27:51<01:47,  2.43s/it]"
     ]
    },
    {
     "name": "stdout",
     "output_type": "stream",
     "text": [
      "600851.SH updated from 20210114 to 20210115\n",
      "Time cost : 2.2111713886260986s\n"
     ]
    },
    {
     "name": "stderr",
     "output_type": "stream",
     "text": [
      "\n",
      " 98%|█████████▊| 2086/2129 [2:27:54<01:41,  2.37s/it]"
     ]
    },
    {
     "name": "stdout",
     "output_type": "stream",
     "text": [
      "600933.SH updated from 20210114 to 20210115\n",
      "Time cost : 1.7217612266540527s\n"
     ]
    },
    {
     "name": "stderr",
     "output_type": "stream",
     "text": [
      "\n",
      " 98%|█████████▊| 2087/2129 [2:27:55<01:31,  2.17s/it]"
     ]
    },
    {
     "name": "stdout",
     "output_type": "stream",
     "text": [
      "601778.SH updated from 20210114 to 20210115\n",
      "Time cost : 1.909740686416626s\n"
     ]
    },
    {
     "name": "stderr",
     "output_type": "stream",
     "text": [
      "\n",
      " 98%|█████████▊| 2088/2129 [2:27:57<01:25,  2.10s/it]"
     ]
    },
    {
     "name": "stdout",
     "output_type": "stream",
     "text": [
      "600378.SH updated from 20210114 to 20210115\n",
      "Time cost : 2.2081198692321777s\n"
     ]
    },
    {
     "name": "stderr",
     "output_type": "stream",
     "text": [
      "\n",
      " 98%|█████████▊| 2089/2129 [2:27:59<01:25,  2.13s/it]"
     ]
    },
    {
     "name": "stdout",
     "output_type": "stream",
     "text": [
      "603697.SH updated from 20210114 to 20210115\n",
      "Time cost : 1.7428500652313232s\n"
     ]
    },
    {
     "name": "stderr",
     "output_type": "stream",
     "text": [
      "\n",
      " 98%|█████████▊| 2090/2129 [2:28:01<01:18,  2.01s/it]"
     ]
    },
    {
     "name": "stdout",
     "output_type": "stream",
     "text": [
      "000058.SZ updated from 20210114 to 20210115\n",
      "Time cost : 2.1686041355133057s\n"
     ]
    },
    {
     "name": "stderr",
     "output_type": "stream",
     "text": [
      "\n",
      " 98%|█████████▊| 2091/2129 [2:28:03<01:18,  2.06s/it]"
     ]
    },
    {
     "name": "stdout",
     "output_type": "stream",
     "text": [
      "300725.SZ updated from 20210114 to 20210115\n",
      "Time cost : 4.264019966125488s\n"
     ]
    },
    {
     "name": "stderr",
     "output_type": "stream",
     "text": [
      "\n",
      " 98%|█████████▊| 2092/2129 [2:28:08<01:40,  2.72s/it]"
     ]
    },
    {
     "name": "stdout",
     "output_type": "stream",
     "text": [
      "('Connection aborted.', ConnectionResetError(10054, '远程主机强迫关闭了一个现有的连接。', None, 10054, None))\n",
      "300252.SZ updated from 20210114 to 20210115\n",
      "Time cost : 36.334572315216064s\n"
     ]
    },
    {
     "name": "stderr",
     "output_type": "stream",
     "text": [
      "\n",
      " 98%|█████████▊| 2093/2129 [2:28:44<07:41, 12.81s/it]"
     ]
    },
    {
     "name": "stdout",
     "output_type": "stream",
     "text": [
      "600895.SH updated from 20210114 to 20210115\n",
      "Time cost : 2.212561845779419s\n"
     ]
    },
    {
     "name": "stderr",
     "output_type": "stream",
     "text": [
      "\n",
      " 98%|█████████▊| 2094/2129 [2:28:46<05:37,  9.63s/it]"
     ]
    },
    {
     "name": "stdout",
     "output_type": "stream",
     "text": [
      "300219.SZ updated from 20210114 to 20210115\n",
      "Time cost : 4.217402219772339s\n"
     ]
    },
    {
     "name": "stderr",
     "output_type": "stream",
     "text": [
      "\n",
      " 98%|█████████▊| 2095/2129 [2:28:50<04:32,  8.01s/it]"
     ]
    },
    {
     "name": "stdout",
     "output_type": "stream",
     "text": [
      "600690.SH updated from 20210114 to 20210115\n",
      "Time cost : 2.7524218559265137s\n"
     ]
    },
    {
     "name": "stderr",
     "output_type": "stream",
     "text": [
      "\n",
      " 98%|█████████▊| 2096/2129 [2:28:53<03:32,  6.43s/it]"
     ]
    },
    {
     "name": "stdout",
     "output_type": "stream",
     "text": [
      "000960.SZ updated from 20210114 to 20210115\n",
      "Time cost : 1.7545549869537354s\n"
     ]
    },
    {
     "name": "stderr",
     "output_type": "stream",
     "text": [
      "\n",
      " 98%|█████████▊| 2097/2129 [2:28:55<02:40,  5.03s/it]"
     ]
    },
    {
     "name": "stdout",
     "output_type": "stream",
     "text": [
      "300651.SZ updated from 20210114 to 20210115\n",
      "Time cost : 2.2553884983062744s\n"
     ]
    },
    {
     "name": "stderr",
     "output_type": "stream",
     "text": [
      "\n",
      " 99%|█████████▊| 2098/2129 [2:28:57<02:10,  4.20s/it]"
     ]
    },
    {
     "name": "stdout",
     "output_type": "stream",
     "text": [
      "600208.SH updated from 20210114 to 20210115\n",
      "Time cost : 3.044600009918213s\n"
     ]
    },
    {
     "name": "stderr",
     "output_type": "stream",
     "text": [
      "\n",
      " 99%|█████████▊| 2099/2129 [2:29:00<01:55,  3.85s/it]"
     ]
    },
    {
     "name": "stdout",
     "output_type": "stream",
     "text": [
      "603728.SH updated from 20210114 to 20210115\n",
      "Time cost : 23.21274995803833s\n"
     ]
    },
    {
     "name": "stderr",
     "output_type": "stream",
     "text": [
      "\n",
      " 99%|█████████▊| 2100/2129 [2:29:23<04:40,  9.66s/it]"
     ]
    },
    {
     "name": "stdout",
     "output_type": "stream",
     "text": [
      "600018.SH updated from 20210114 to 20210115\n",
      "Time cost : 1.2067782878875732s\n"
     ]
    },
    {
     "name": "stderr",
     "output_type": "stream",
     "text": [
      "\n",
      " 99%|█████████▊| 2101/2129 [2:29:25<03:19,  7.13s/it]"
     ]
    },
    {
     "name": "stdout",
     "output_type": "stream",
     "text": [
      "600199.SH updated from 20210114 to 20210115\n",
      "Time cost : 2.751643657684326s\n"
     ]
    },
    {
     "name": "stderr",
     "output_type": "stream",
     "text": [
      "\n",
      " 99%|█████████▊| 2102/2129 [2:29:27<02:36,  5.81s/it]"
     ]
    },
    {
     "name": "stdout",
     "output_type": "stream",
     "text": [
      "000597.SZ updated from 20210114 to 20210115\n",
      "Time cost : 6.246716737747192s\n"
     ]
    },
    {
     "name": "stderr",
     "output_type": "stream",
     "text": [
      "\n",
      " 99%|█████████▉| 2103/2129 [2:29:34<02:34,  5.94s/it]"
     ]
    },
    {
     "name": "stdout",
     "output_type": "stream",
     "text": [
      "002275.SZ updated from 20210114 to 20210115\n",
      "Time cost : 3.972424030303955s\n"
     ]
    },
    {
     "name": "stderr",
     "output_type": "stream",
     "text": [
      "\n",
      " 99%|█████████▉| 2104/2129 [2:29:38<02:13,  5.35s/it]"
     ]
    },
    {
     "name": "stdout",
     "output_type": "stream",
     "text": [
      "600570.SH updated from 20210114 to 20210115\n",
      "Time cost : 1.3145759105682373s\n"
     ]
    },
    {
     "name": "stderr",
     "output_type": "stream",
     "text": [
      "\n",
      " 99%|█████████▉| 2105/2129 [2:29:39<01:39,  4.14s/it]"
     ]
    },
    {
     "name": "stdout",
     "output_type": "stream",
     "text": [
      "600260.SH updated from 20210114 to 20210115\n",
      "Time cost : 2.462040424346924s\n"
     ]
    },
    {
     "name": "stderr",
     "output_type": "stream",
     "text": [
      "\n",
      " 99%|█████████▉| 2106/2129 [2:29:41<01:23,  3.64s/it]"
     ]
    },
    {
     "name": "stdout",
     "output_type": "stream",
     "text": [
      "000090.SZ updated from 20210114 to 20210115\n",
      "Time cost : 4.910227060317993s\n"
     ]
    },
    {
     "name": "stderr",
     "output_type": "stream",
     "text": [
      "\n",
      " 99%|█████████▉| 2107/2129 [2:29:46<01:28,  4.02s/it]"
     ]
    },
    {
     "name": "stdout",
     "output_type": "stream",
     "text": [
      "600429.SH updated from 20210114 to 20210115\n",
      "Time cost : 2.902728796005249s\n"
     ]
    },
    {
     "name": "stderr",
     "output_type": "stream",
     "text": [
      "\n",
      " 99%|█████████▉| 2108/2129 [2:29:49<01:17,  3.69s/it]"
     ]
    },
    {
     "name": "stdout",
     "output_type": "stream",
     "text": [
      "300723.SZ updated from 20210114 to 20210115\n",
      "Time cost : 1.2781195640563965s\n"
     ]
    },
    {
     "name": "stderr",
     "output_type": "stream",
     "text": [
      "\n",
      " 99%|█████████▉| 2109/2129 [2:29:50<00:59,  2.97s/it]"
     ]
    },
    {
     "name": "stdout",
     "output_type": "stream",
     "text": [
      "605111.SH updated from 20210114 to 20210115\n",
      "Time cost : 1.192021369934082s\n"
     ]
    },
    {
     "name": "stderr",
     "output_type": "stream",
     "text": [
      "\n",
      " 99%|█████████▉| 2110/2129 [2:29:52<00:46,  2.43s/it]"
     ]
    },
    {
     "name": "stdout",
     "output_type": "stream",
     "text": [
      "003022.SZ updated from 20210114 to 20210115\n",
      "Time cost : 1.255873441696167s\n"
     ]
    },
    {
     "name": "stderr",
     "output_type": "stream",
     "text": [
      "\n",
      " 99%|█████████▉| 2111/2129 [2:29:53<00:37,  2.08s/it]"
     ]
    },
    {
     "name": "stdout",
     "output_type": "stream",
     "text": [
      "300294.SZ updated from 20210114 to 20210115\n",
      "Time cost : 1.8969547748565674s\n"
     ]
    },
    {
     "name": "stderr",
     "output_type": "stream",
     "text": [
      "\n",
      " 99%|█████████▉| 2112/2129 [2:29:55<00:34,  2.03s/it]"
     ]
    },
    {
     "name": "stdout",
     "output_type": "stream",
     "text": [
      "002595.SZ updated from 20210114 to 20210115\n",
      "Time cost : 7.880235433578491s\n"
     ]
    },
    {
     "name": "stderr",
     "output_type": "stream",
     "text": [
      "\n",
      " 99%|█████████▉| 2113/2129 [2:30:03<01:00,  3.78s/it]"
     ]
    },
    {
     "name": "stdout",
     "output_type": "stream",
     "text": [
      "600973.SH updated from 20210114 to 20210115\n",
      "Time cost : 3.4364571571350098s\n"
     ]
    },
    {
     "name": "stderr",
     "output_type": "stream",
     "text": [
      "\n",
      " 99%|█████████▉| 2114/2129 [2:30:06<00:55,  3.68s/it]"
     ]
    },
    {
     "name": "stdout",
     "output_type": "stream",
     "text": [
      "600645.SH updated from 20210114 to 20210115\n",
      "Time cost : 1.8679664134979248s\n"
     ]
    },
    {
     "name": "stderr",
     "output_type": "stream",
     "text": [
      "\n",
      " 99%|█████████▉| 2115/2129 [2:30:08<00:43,  3.14s/it]"
     ]
    },
    {
     "name": "stdout",
     "output_type": "stream",
     "text": [
      "600180.SH updated from 20210114 to 20210115\n",
      "Time cost : 2.7261264324188232s\n"
     ]
    },
    {
     "name": "stderr",
     "output_type": "stream",
     "text": [
      "\n",
      " 99%|█████████▉| 2116/2129 [2:30:11<00:39,  3.01s/it]"
     ]
    },
    {
     "name": "stdout",
     "output_type": "stream",
     "text": [
      "000403.SZ updated from 20210114 to 20210115\n",
      "Time cost : 3.5120749473571777s\n"
     ]
    },
    {
     "name": "stderr",
     "output_type": "stream",
     "text": [
      "\n",
      " 99%|█████████▉| 2117/2129 [2:30:14<00:37,  3.16s/it]"
     ]
    },
    {
     "name": "stdout",
     "output_type": "stream",
     "text": [
      "601880.SH updated from 20210114 to 20210115\n",
      "Time cost : 4.905369997024536s\n"
     ]
    },
    {
     "name": "stderr",
     "output_type": "stream",
     "text": [
      "\n",
      " 99%|█████████▉| 2118/2129 [2:30:19<00:40,  3.69s/it]"
     ]
    },
    {
     "name": "stdout",
     "output_type": "stream",
     "text": [
      "300348.SZ updated from 20210114 to 20210115\n",
      "Time cost : 3.216404676437378s\n"
     ]
    },
    {
     "name": "stderr",
     "output_type": "stream",
     "text": [
      "\n",
      "100%|█████████▉| 2119/2129 [2:30:22<00:35,  3.55s/it]"
     ]
    },
    {
     "name": "stdout",
     "output_type": "stream",
     "text": [
      "002210.SZ updated from 20210114 to 20210115\n",
      "Time cost : 1.9085302352905273s\n"
     ]
    },
    {
     "name": "stderr",
     "output_type": "stream",
     "text": [
      "\n",
      "100%|█████████▉| 2120/2129 [2:30:24<00:27,  3.06s/it]"
     ]
    },
    {
     "name": "stdout",
     "output_type": "stream",
     "text": [
      "300381.SZ updated from 20210114 to 20210115\n",
      "Time cost : 2.166318893432617s\n"
     ]
    },
    {
     "name": "stderr",
     "output_type": "stream",
     "text": [
      "\n",
      "100%|█████████▉| 2121/2129 [2:30:26<00:22,  2.79s/it]"
     ]
    },
    {
     "name": "stdout",
     "output_type": "stream",
     "text": [
      "300684.SZ updated from 20210114 to 20210115\n",
      "Time cost : 1.9794070720672607s\n"
     ]
    },
    {
     "name": "stderr",
     "output_type": "stream",
     "text": [
      "\n",
      "100%|█████████▉| 2122/2129 [2:30:28<00:17,  2.55s/it]"
     ]
    },
    {
     "name": "stdout",
     "output_type": "stream",
     "text": [
      "603306.SH updated from 20210114 to 20210115\n",
      "Time cost : 3.152895927429199s\n"
     ]
    },
    {
     "name": "stderr",
     "output_type": "stream",
     "text": [
      "\n",
      "100%|█████████▉| 2123/2129 [2:30:32<00:16,  2.73s/it]"
     ]
    },
    {
     "name": "stdout",
     "output_type": "stream",
     "text": [
      "603989.SH updated from 20210114 to 20210115\n",
      "Time cost : 2.3685429096221924s\n"
     ]
    },
    {
     "name": "stderr",
     "output_type": "stream",
     "text": [
      "\n",
      "100%|█████████▉| 2124/2129 [2:30:34<00:13,  2.62s/it]"
     ]
    },
    {
     "name": "stdout",
     "output_type": "stream",
     "text": [
      "601808.SH updated from 20210114 to 20210115\n",
      "Time cost : 1.8412702083587646s\n"
     ]
    },
    {
     "name": "stderr",
     "output_type": "stream",
     "text": [
      "\n",
      "100%|█████████▉| 2125/2129 [2:30:36<00:09,  2.39s/it]"
     ]
    },
    {
     "name": "stdout",
     "output_type": "stream",
     "text": [
      "300041.SZ updated from 20210114 to 20210115\n",
      "Time cost : 2.6161656379699707s\n"
     ]
    },
    {
     "name": "stderr",
     "output_type": "stream",
     "text": [
      "\n",
      "100%|█████████▉| 2126/2129 [2:30:38<00:07,  2.46s/it]"
     ]
    },
    {
     "name": "stdout",
     "output_type": "stream",
     "text": [
      "688180.SH updated from 20210114 to 20210115\n",
      "Time cost : 2.0202457904815674s\n"
     ]
    },
    {
     "name": "stderr",
     "output_type": "stream",
     "text": [
      "\n",
      "100%|█████████▉| 2127/2129 [2:30:40<00:04,  2.33s/it]"
     ]
    },
    {
     "name": "stdout",
     "output_type": "stream",
     "text": [
      "601028.SH updated from 20210114 to 20210115\n",
      "Time cost : 2.176274299621582s\n"
     ]
    },
    {
     "name": "stderr",
     "output_type": "stream",
     "text": [
      "\n",
      "100%|█████████▉| 2128/2129 [2:30:43<00:02,  2.28s/it]"
     ]
    },
    {
     "name": "stdout",
     "output_type": "stream",
     "text": [
      "689009.SH updated from 20210114 to 20210115\n",
      "Time cost : 1.6735270023345947s\n"
     ]
    },
    {
     "name": "stderr",
     "output_type": "stream",
     "text": [
      "\n",
      "100%|██████████| 2129/2129 [2:30:44<00:00,  4.25s/it]\n"
     ]
    },
    {
     "name": "stdout",
     "output_type": "stream",
     "text": [
      "============================================================\n",
      "Total Time Cost for Downloading : 9044.773470878601s\n",
      "============================================================\n"
     ]
    },
    {
     "name": "stderr",
     "output_type": "stream",
     "text": [
      "\n",
      "  0%|          | 0/2129 [00:00<?, ?it/s]\n",
      "  0%|          | 1/2129 [00:00<25:19,  1.40it/s]\n",
      "  0%|          | 2/2129 [00:01<21:03,  1.68it/s]\n",
      "  0%|          | 3/2129 [00:01<17:51,  1.98it/s]\n",
      "  0%|          | 5/2129 [00:02<18:06,  1.96it/s]\n",
      "  0%|          | 6/2129 [00:02<18:13,  1.94it/s]\n",
      "  0%|          | 7/2129 [00:03<22:32,  1.57it/s]\n",
      "  0%|          | 8/2129 [00:04<26:30,  1.33it/s]\n",
      "  0%|          | 9/2129 [00:05<30:20,  1.16it/s]\n",
      "  1%|          | 11/2129 [00:06<25:04,  1.41it/s]\n",
      "  1%|          | 12/2129 [00:07<28:29,  1.24it/s]\n",
      "  1%|          | 13/2129 [00:08<30:57,  1.14it/s]\n",
      "  1%|          | 14/2129 [00:09<29:50,  1.18it/s]\n",
      "  1%|          | 15/2129 [00:10<26:38,  1.32it/s]\n",
      "  1%|          | 16/2129 [00:10<28:11,  1.25it/s]\n",
      "  1%|          | 17/2129 [00:11<21:48,  1.61it/s]\n",
      "  1%|          | 18/2129 [00:12<25:48,  1.36it/s]\n",
      "  1%|          | 19/2129 [00:12<23:40,  1.49it/s]\n",
      "  1%|          | 20/2129 [00:13<21:44,  1.62it/s]\n",
      "  1%|          | 21/2129 [00:13<17:52,  1.96it/s]\n",
      "  1%|          | 23/2129 [00:14<17:23,  2.02it/s]\n",
      "  1%|          | 24/2129 [00:15<21:56,  1.60it/s]\n",
      "  1%|          | 25/2129 [00:16<26:05,  1.34it/s]\n",
      "  1%|          | 26/2129 [00:17<28:47,  1.22it/s]\n",
      "  1%|▏         | 27/2129 [00:17<25:50,  1.36it/s]\n",
      "  1%|▏         | 28/2129 [00:18<27:18,  1.28it/s]\n",
      "  1%|▏         | 29/2129 [00:19<27:55,  1.25it/s]\n",
      "  1%|▏         | 30/2129 [00:20<24:29,  1.43it/s]\n",
      "  1%|▏         | 31/2129 [00:20<20:08,  1.74it/s]\n",
      "  2%|▏         | 33/2129 [00:20<15:57,  2.19it/s]\n",
      "  2%|▏         | 34/2129 [00:21<17:12,  2.03it/s]\n",
      "  2%|▏         | 35/2129 [00:22<21:50,  1.60it/s]\n",
      "  2%|▏         | 36/2129 [00:22<21:00,  1.66it/s]\n",
      "  2%|▏         | 37/2129 [00:23<21:27,  1.63it/s]\n",
      "  2%|▏         | 39/2129 [00:23<17:20,  2.01it/s]\n",
      "  2%|▏         | 40/2129 [00:24<22:14,  1.57it/s]\n",
      "  2%|▏         | 41/2129 [00:25<22:29,  1.55it/s]\n",
      "  2%|▏         | 42/2129 [00:26<26:35,  1.31it/s]\n",
      "  2%|▏         | 43/2129 [00:26<20:53,  1.66it/s]\n",
      "  2%|▏         | 44/2129 [00:27<26:05,  1.33it/s]\n",
      "  2%|▏         | 45/2129 [00:28<21:33,  1.61it/s]\n",
      "  2%|▏         | 46/2129 [00:29<24:59,  1.39it/s]\n",
      "  2%|▏         | 47/2129 [00:30<28:42,  1.21it/s]\n",
      "  2%|▏         | 48/2129 [00:30<27:51,  1.24it/s]\n",
      "  2%|▏         | 49/2129 [00:31<27:06,  1.28it/s]\n",
      "  2%|▏         | 52/2129 [00:32<23:21,  1.48it/s]\n",
      "  2%|▏         | 53/2129 [00:33<22:15,  1.56it/s]\n",
      "  3%|▎         | 54/2129 [00:34<21:03,  1.64it/s]\n",
      "  3%|▎         | 56/2129 [00:34<19:07,  1.81it/s]\n",
      "  3%|▎         | 57/2129 [00:35<23:07,  1.49it/s]\n",
      "  3%|▎         | 58/2129 [00:36<21:45,  1.59it/s]\n",
      "  3%|▎         | 60/2129 [00:36<17:22,  1.98it/s]\n",
      "  3%|▎         | 61/2129 [00:37<16:59,  2.03it/s]\n",
      "  3%|▎         | 62/2129 [00:37<16:51,  2.04it/s]\n",
      "  3%|▎         | 64/2129 [00:38<17:40,  1.95it/s]\n",
      "  3%|▎         | 65/2129 [00:39<21:53,  1.57it/s]\n",
      "  3%|▎         | 66/2129 [00:40<19:19,  1.78it/s]\n",
      "  3%|▎         | 68/2129 [00:40<14:25,  2.38it/s]\n",
      "  3%|▎         | 69/2129 [00:40<15:50,  2.17it/s]\n",
      "  3%|▎         | 70/2129 [00:41<17:35,  1.95it/s]\n",
      "  3%|▎         | 71/2129 [00:42<23:15,  1.47it/s]\n",
      "  3%|▎         | 72/2129 [00:43<22:08,  1.55it/s]\n",
      "  3%|▎         | 74/2129 [00:44<21:16,  1.61it/s]\n",
      "  4%|▎         | 76/2129 [00:45<19:48,  1.73it/s]\n",
      "  4%|▎         | 77/2129 [00:45<20:57,  1.63it/s]\n",
      "  4%|▎         | 78/2129 [00:46<22:35,  1.51it/s]\n",
      "  4%|▎         | 79/2129 [00:47<19:09,  1.78it/s]\n",
      "  4%|▍         | 80/2129 [00:47<15:01,  2.27it/s]\n",
      "  4%|▍         | 81/2129 [00:48<19:07,  1.79it/s]\n",
      "  4%|▍         | 82/2129 [00:48<22:11,  1.54it/s]\n",
      "  4%|▍         | 83/2129 [00:49<23:39,  1.44it/s]\n",
      "  4%|▍         | 85/2129 [00:49<17:18,  1.97it/s]\n",
      "  4%|▍         | 88/2129 [00:50<14:38,  2.32it/s]\n",
      "  4%|▍         | 89/2129 [00:51<21:16,  1.60it/s]\n",
      "  4%|▍         | 90/2129 [00:52<25:35,  1.33it/s]\n",
      "  4%|▍         | 91/2129 [00:52<18:59,  1.79it/s]\n",
      "  4%|▍         | 92/2129 [00:53<23:31,  1.44it/s]\n",
      "  4%|▍         | 93/2129 [00:54<20:27,  1.66it/s]\n",
      "  4%|▍         | 95/2129 [00:54<17:07,  1.98it/s]\n",
      "  5%|▍         | 96/2129 [00:55<17:39,  1.92it/s]\n",
      "  5%|▍         | 98/2129 [00:55<12:56,  2.61it/s]\n",
      "  5%|▍         | 99/2129 [00:55<11:34,  2.92it/s]\n",
      "  5%|▍         | 100/2129 [00:56<13:28,  2.51it/s]\n",
      "  5%|▍         | 101/2129 [00:57<20:11,  1.67it/s]\n",
      "  5%|▍         | 103/2129 [00:57<17:07,  1.97it/s]\n",
      "  5%|▍         | 104/2129 [00:58<22:10,  1.52it/s]\n",
      "  5%|▍         | 105/2129 [01:00<26:37,  1.27it/s]\n",
      "  5%|▍         | 106/2129 [01:00<24:14,  1.39it/s]\n",
      "  5%|▌         | 107/2129 [01:01<27:31,  1.22it/s]\n",
      "  5%|▌         | 109/2129 [01:02<21:06,  1.59it/s]\n",
      "  5%|▌         | 110/2129 [01:02<15:54,  2.12it/s]\n",
      "  5%|▌         | 111/2129 [01:02<17:04,  1.97it/s]\n",
      "  5%|▌         | 112/2129 [01:03<21:48,  1.54it/s]\n",
      "  5%|▌         | 113/2129 [01:04<19:40,  1.71it/s]\n",
      "  5%|▌         | 114/2129 [01:04<18:46,  1.79it/s]\n",
      "  5%|▌         | 115/2129 [01:05<23:17,  1.44it/s]\n",
      "  5%|▌         | 116/2129 [01:06<23:29,  1.43it/s]\n",
      "  5%|▌         | 117/2129 [01:06<17:48,  1.88it/s]\n",
      "  6%|▌         | 118/2129 [01:06<15:00,  2.23it/s]\n",
      "  6%|▌         | 119/2129 [01:06<11:55,  2.81it/s]\n",
      "  6%|▌         | 120/2129 [01:07<14:05,  2.38it/s]\n",
      "  6%|▌         | 121/2129 [01:07<12:30,  2.67it/s]\n",
      "  6%|▌         | 122/2129 [01:07<11:19,  2.96it/s]\n",
      "  6%|▌         | 124/2129 [01:08<09:03,  3.69it/s]\n",
      "  6%|▌         | 126/2129 [01:09<11:43,  2.85it/s]\n",
      "  6%|▌         | 128/2129 [01:10<13:45,  2.42it/s]\n",
      "  6%|▌         | 129/2129 [01:10<13:47,  2.42it/s]\n",
      "  6%|▌         | 130/2129 [01:11<19:24,  1.72it/s]\n",
      "  6%|▌         | 131/2129 [01:12<23:18,  1.43it/s]\n",
      "  6%|▌         | 132/2129 [01:13<23:56,  1.39it/s]\n",
      "  6%|▌         | 133/2129 [01:13<20:44,  1.60it/s]\n",
      "  6%|▋         | 134/2129 [01:14<16:09,  2.06it/s]\n",
      "  6%|▋         | 135/2129 [01:14<14:22,  2.31it/s]\n",
      "  6%|▋         | 137/2129 [01:15<14:26,  2.30it/s]\n",
      "  6%|▋         | 138/2129 [01:16<20:17,  1.64it/s]\n",
      "  7%|▋         | 141/2129 [01:17<17:47,  1.86it/s]\n",
      "  7%|▋         | 142/2129 [01:18<22:28,  1.47it/s]\n",
      "  7%|▋         | 143/2129 [01:18<20:16,  1.63it/s]\n",
      "  7%|▋         | 144/2129 [01:19<16:07,  2.05it/s]\n",
      "  7%|▋         | 145/2129 [01:20<21:03,  1.57it/s]\n",
      "  7%|▋         | 146/2129 [01:20<16:27,  2.01it/s]\n",
      "  7%|▋         | 147/2129 [01:20<12:50,  2.57it/s]\n",
      "  7%|▋         | 148/2129 [01:21<19:07,  1.73it/s]\n",
      "  7%|▋         | 149/2129 [01:22<23:22,  1.41it/s]\n",
      "  7%|▋         | 150/2129 [01:22<18:49,  1.75it/s]\n",
      "  7%|▋         | 151/2129 [01:22<14:14,  2.32it/s]\n",
      "  7%|▋         | 152/2129 [01:23<18:37,  1.77it/s]\n",
      "  7%|▋         | 153/2129 [01:24<23:03,  1.43it/s]\n",
      "  7%|▋         | 154/2129 [01:25<22:23,  1.47it/s]\n",
      "  7%|▋         | 156/2129 [01:25<18:36,  1.77it/s]\n",
      "  7%|▋         | 157/2129 [01:26<14:44,  2.23it/s]\n",
      "  7%|▋         | 159/2129 [01:26<11:32,  2.85it/s]\n",
      "  8%|▊         | 160/2129 [01:26<10:07,  3.24it/s]\n",
      "  8%|▊         | 161/2129 [01:26<11:51,  2.77it/s]\n",
      "  8%|▊         | 162/2129 [01:27<18:18,  1.79it/s]\n",
      "  8%|▊         | 163/2129 [01:29<23:52,  1.37it/s]\n",
      "  8%|▊         | 164/2129 [01:30<26:46,  1.22it/s]\n",
      "  8%|▊         | 165/2129 [01:31<28:46,  1.14it/s]\n",
      "  8%|▊         | 166/2129 [01:31<24:48,  1.32it/s]\n",
      "  8%|▊         | 168/2129 [01:31<18:57,  1.72it/s]\n",
      "  8%|▊         | 169/2129 [01:32<22:19,  1.46it/s]\n",
      "  8%|▊         | 170/2129 [01:33<17:36,  1.85it/s]\n",
      "  8%|▊         | 172/2129 [01:33<14:59,  2.17it/s]\n",
      "  8%|▊         | 173/2129 [01:34<18:48,  1.73it/s]\n",
      "  8%|▊         | 174/2129 [01:35<23:04,  1.41it/s]\n",
      "  8%|▊         | 175/2129 [01:36<25:16,  1.29it/s]\n",
      "  8%|▊         | 176/2129 [01:36<22:52,  1.42it/s]\n",
      "  8%|▊         | 177/2129 [01:37<19:39,  1.65it/s]\n",
      "  8%|▊         | 178/2129 [01:38<22:40,  1.43it/s]\n",
      "  8%|▊         | 179/2129 [01:39<26:02,  1.25it/s]\n",
      "  9%|▊         | 181/2129 [01:39<19:19,  1.68it/s]\n",
      "  9%|▊         | 182/2129 [01:40<22:35,  1.44it/s]\n",
      "  9%|▊         | 183/2129 [01:41<22:09,  1.46it/s]\n",
      "  9%|▊         | 184/2129 [01:41<23:53,  1.36it/s]\n",
      "  9%|▊         | 185/2129 [01:43<27:22,  1.18it/s]\n",
      "  9%|▊         | 186/2129 [01:43<22:42,  1.43it/s]\n",
      "  9%|▉         | 187/2129 [01:44<26:12,  1.24it/s]\n",
      "  9%|▉         | 188/2129 [01:45<25:56,  1.25it/s]\n",
      "  9%|▉         | 189/2129 [01:46<28:42,  1.13it/s]\n",
      "  9%|▉         | 190/2129 [01:47<27:09,  1.19it/s]\n",
      "  9%|▉         | 191/2129 [01:48<29:39,  1.09it/s]\n",
      "  9%|▉         | 192/2129 [01:49<30:46,  1.05it/s]\n"
     ]
    },
    {
     "name": "stderr",
     "output_type": "stream",
     "text": [
      "  9%|▉         | 193/2129 [01:49<24:46,  1.30it/s]\n",
      "  9%|▉         | 194/2129 [01:50<28:13,  1.14it/s]\n",
      "  9%|▉         | 195/2129 [01:51<22:32,  1.43it/s]\n",
      "  9%|▉         | 196/2129 [01:52<26:37,  1.21it/s]\n",
      "  9%|▉         | 197/2129 [01:52<20:24,  1.58it/s]\n",
      "  9%|▉         | 198/2129 [01:53<23:53,  1.35it/s]\n",
      "  9%|▉         | 199/2129 [01:54<28:12,  1.14it/s]\n",
      "  9%|▉         | 201/2129 [01:55<22:38,  1.42it/s]\n",
      "  9%|▉         | 202/2129 [01:55<22:21,  1.44it/s]\n",
      " 10%|▉         | 203/2129 [01:56<20:25,  1.57it/s]\n",
      " 10%|▉         | 204/2129 [01:56<16:15,  1.97it/s]\n",
      " 10%|▉         | 205/2129 [01:57<16:44,  1.92it/s]\n",
      " 10%|▉         | 207/2129 [01:57<13:36,  2.35it/s]\n",
      " 10%|▉         | 208/2129 [01:58<20:00,  1.60it/s]\n",
      " 10%|▉         | 209/2129 [01:59<22:42,  1.41it/s]\n",
      " 10%|▉         | 211/2129 [02:00<19:35,  1.63it/s]\n",
      " 10%|▉         | 212/2129 [02:00<17:42,  1.80it/s]\n",
      " 10%|█         | 213/2129 [02:01<22:47,  1.40it/s]\n",
      " 10%|█         | 214/2129 [02:02<25:45,  1.24it/s]\n",
      " 10%|█         | 215/2129 [02:03<28:32,  1.12it/s]\n",
      " 10%|█         | 216/2129 [02:04<24:38,  1.29it/s]\n",
      " 10%|█         | 217/2129 [02:05<28:50,  1.10it/s]\n",
      " 10%|█         | 218/2129 [02:06<30:08,  1.06it/s]\n",
      " 10%|█         | 219/2129 [02:07<26:23,  1.21it/s]\n",
      " 10%|█         | 220/2129 [02:07<21:02,  1.51it/s]\n",
      " 10%|█         | 221/2129 [02:08<25:15,  1.26it/s]\n",
      " 10%|█         | 222/2129 [02:09<28:17,  1.12it/s]\n",
      " 10%|█         | 223/2129 [02:10<24:48,  1.28it/s]\n",
      " 11%|█         | 225/2129 [02:10<19:56,  1.59it/s]\n",
      " 11%|█         | 226/2129 [02:11<24:44,  1.28it/s]\n",
      " 11%|█         | 227/2129 [02:12<23:45,  1.33it/s]\n",
      " 11%|█         | 228/2129 [02:12<19:02,  1.66it/s]\n",
      " 11%|█         | 229/2129 [02:13<17:47,  1.78it/s]\n",
      " 11%|█         | 230/2129 [02:14<20:24,  1.55it/s]\n",
      " 11%|█         | 231/2129 [02:14<19:21,  1.63it/s]\n",
      " 11%|█         | 232/2129 [02:14<16:03,  1.97it/s]\n",
      " 11%|█         | 234/2129 [02:15<13:47,  2.29it/s]\n",
      " 11%|█         | 235/2129 [02:16<15:21,  2.05it/s]\n",
      " 11%|█         | 236/2129 [02:16<15:23,  2.05it/s]\n",
      " 11%|█         | 237/2129 [02:17<16:27,  1.92it/s]\n",
      " 11%|█         | 238/2129 [02:17<13:12,  2.39it/s]\n",
      " 11%|█         | 239/2129 [02:17<14:45,  2.14it/s]\n",
      " 11%|█▏        | 240/2129 [02:19<21:02,  1.50it/s]\n",
      " 11%|█▏        | 241/2129 [02:19<16:44,  1.88it/s]\n",
      " 11%|█▏        | 242/2129 [02:19<17:06,  1.84it/s]\n",
      " 11%|█▏        | 243/2129 [02:20<22:17,  1.41it/s]\n",
      " 11%|█▏        | 244/2129 [02:21<22:03,  1.42it/s]\n",
      " 12%|█▏        | 245/2129 [02:21<17:31,  1.79it/s]\n",
      " 12%|█▏        | 246/2129 [02:22<16:44,  1.87it/s]\n",
      " 12%|█▏        | 247/2129 [02:23<22:23,  1.40it/s]\n",
      " 12%|█▏        | 248/2129 [02:23<20:48,  1.51it/s]\n",
      " 12%|█▏        | 249/2129 [02:25<24:55,  1.26it/s]\n",
      " 12%|█▏        | 251/2129 [02:25<19:12,  1.63it/s]\n",
      " 12%|█▏        | 252/2129 [02:26<20:06,  1.56it/s]\n",
      " 12%|█▏        | 254/2129 [02:27<19:39,  1.59it/s]\n",
      " 12%|█▏        | 255/2129 [02:28<22:38,  1.38it/s]\n",
      " 12%|█▏        | 256/2129 [02:29<25:51,  1.21it/s]\n",
      " 12%|█▏        | 257/2129 [02:30<28:22,  1.10it/s]\n",
      " 12%|█▏        | 259/2129 [02:31<25:12,  1.24it/s]\n",
      " 12%|█▏        | 260/2129 [02:32<22:43,  1.37it/s]\n",
      " 12%|█▏        | 261/2129 [02:33<25:35,  1.22it/s]\n",
      " 12%|█▏        | 262/2129 [02:33<22:24,  1.39it/s]\n",
      " 12%|█▏        | 263/2129 [02:34<25:15,  1.23it/s]\n",
      " 12%|█▏        | 265/2129 [02:35<20:47,  1.49it/s]\n",
      " 12%|█▏        | 266/2129 [02:36<21:00,  1.48it/s]\n",
      " 13%|█▎        | 267/2129 [02:36<22:48,  1.36it/s]\n",
      " 13%|█▎        | 268/2129 [02:37<17:47,  1.74it/s]\n",
      " 13%|█▎        | 269/2129 [02:37<16:51,  1.84it/s]\n",
      " 13%|█▎        | 270/2129 [02:37<12:59,  2.39it/s]\n",
      " 13%|█▎        | 271/2129 [02:37<11:00,  2.81it/s]\n",
      " 13%|█▎        | 272/2129 [02:38<14:33,  2.13it/s]\n",
      " 13%|█▎        | 273/2129 [02:39<20:12,  1.53it/s]\n",
      " 13%|█▎        | 274/2129 [02:40<23:02,  1.34it/s]\n",
      " 13%|█▎        | 275/2129 [02:41<25:31,  1.21it/s]\n",
      " 13%|█▎        | 276/2129 [02:42<21:39,  1.43it/s]\n",
      " 13%|█▎        | 277/2129 [02:42<20:44,  1.49it/s]\n",
      " 13%|█▎        | 278/2129 [02:43<18:20,  1.68it/s]\n",
      " 13%|█▎        | 279/2129 [02:44<22:28,  1.37it/s]\n",
      " 13%|█▎        | 280/2129 [02:45<25:41,  1.20it/s]\n",
      " 13%|█▎        | 281/2129 [02:45<23:31,  1.31it/s]\n",
      " 13%|█▎        | 282/2129 [02:46<25:48,  1.19it/s]\n",
      " 13%|█▎        | 284/2129 [02:47<20:40,  1.49it/s]\n",
      " 13%|█▎        | 286/2129 [02:47<15:35,  1.97it/s]\n",
      " 13%|█▎        | 287/2129 [02:48<20:57,  1.46it/s]\n",
      " 14%|█▎        | 288/2129 [02:49<19:27,  1.58it/s]\n",
      " 14%|█▎        | 289/2129 [02:50<23:11,  1.32it/s]\n",
      " 14%|█▎        | 290/2129 [02:50<18:02,  1.70it/s]\n",
      " 14%|█▎        | 292/2129 [02:50<13:55,  2.20it/s]\n",
      " 14%|█▍        | 293/2129 [02:51<13:57,  2.19it/s]\n",
      " 14%|█▍        | 294/2129 [02:51<15:05,  2.03it/s]\n",
      " 14%|█▍        | 295/2129 [02:52<14:40,  2.08it/s]\n",
      " 14%|█▍        | 296/2129 [02:53<18:30,  1.65it/s]\n",
      " 14%|█▍        | 297/2129 [02:54<22:29,  1.36it/s]\n",
      " 14%|█▍        | 298/2129 [02:54<19:54,  1.53it/s]\n",
      " 14%|█▍        | 300/2129 [02:55<15:10,  2.01it/s]\n",
      " 14%|█▍        | 302/2129 [02:55<14:50,  2.05it/s]\n",
      " 14%|█▍        | 303/2129 [02:56<14:24,  2.11it/s]\n",
      " 14%|█▍        | 304/2129 [02:56<11:21,  2.68it/s]\n",
      " 14%|█▍        | 305/2129 [02:56<10:05,  3.01it/s]\n",
      " 14%|█▍        | 307/2129 [02:57<12:02,  2.52it/s]\n",
      " 14%|█▍        | 308/2129 [02:58<12:32,  2.42it/s]\n",
      " 15%|█▍        | 309/2129 [02:59<17:41,  1.71it/s]\n",
      " 15%|█▍        | 310/2129 [02:59<14:22,  2.11it/s]\n",
      " 15%|█▍        | 311/2129 [03:00<14:56,  2.03it/s]\n",
      " 15%|█▍        | 312/2129 [03:00<14:31,  2.09it/s]\n",
      " 15%|█▍        | 313/2129 [03:00<11:46,  2.57it/s]\n",
      " 15%|█▍        | 314/2129 [03:00<10:11,  2.97it/s]\n",
      " 15%|█▍        | 315/2129 [03:01<11:40,  2.59it/s]\n",
      " 15%|█▍        | 316/2129 [03:02<15:59,  1.89it/s]\n",
      " 15%|█▍        | 317/2129 [03:03<20:50,  1.45it/s]\n",
      " 15%|█▍        | 318/2129 [03:03<18:33,  1.63it/s]\n",
      " 15%|█▍        | 319/2129 [03:03<14:30,  2.08it/s]\n",
      " 15%|█▌        | 320/2129 [03:05<20:26,  1.47it/s]\n",
      " 15%|█▌        | 322/2129 [03:05<16:22,  1.84it/s]\n",
      " 15%|█▌        | 323/2129 [03:06<20:24,  1.48it/s]\n",
      " 15%|█▌        | 324/2129 [03:06<18:50,  1.60it/s]\n",
      " 15%|█▌        | 325/2129 [03:08<23:25,  1.28it/s]\n",
      " 15%|█▌        | 326/2129 [03:09<25:29,  1.18it/s]\n",
      " 15%|█▌        | 328/2129 [03:10<22:58,  1.31it/s]\n",
      " 15%|█▌        | 329/2129 [03:10<20:48,  1.44it/s]\n",
      " 16%|█▌        | 330/2129 [03:11<19:30,  1.54it/s]\n",
      " 16%|█▌        | 331/2129 [03:12<24:56,  1.20it/s]\n",
      " 16%|█▌        | 332/2129 [03:12<19:31,  1.53it/s]\n",
      " 16%|█▌        | 333/2129 [03:13<18:45,  1.60it/s]\n",
      " 16%|█▌        | 334/2129 [03:13<17:45,  1.69it/s]\n",
      " 16%|█▌        | 335/2129 [03:14<13:51,  2.16it/s]\n",
      " 16%|█▌        | 337/2129 [03:14<12:23,  2.41it/s]\n",
      " 16%|█▌        | 338/2129 [03:14<10:50,  2.75it/s]\n",
      " 16%|█▌        | 339/2129 [03:15<16:53,  1.77it/s]\n",
      " 16%|█▌        | 340/2129 [03:16<13:11,  2.26it/s]\n",
      " 16%|█▌        | 341/2129 [03:17<18:57,  1.57it/s]\n",
      " 16%|█▌        | 343/2129 [03:17<15:25,  1.93it/s]\n",
      " 16%|█▌        | 344/2129 [03:18<19:43,  1.51it/s]\n",
      " 16%|█▌        | 345/2129 [03:18<15:14,  1.95it/s]\n",
      " 16%|█▋        | 347/2129 [03:19<12:02,  2.47it/s]\n",
      " 16%|█▋        | 348/2129 [03:20<16:28,  1.80it/s]\n",
      " 16%|█▋        | 349/2129 [03:21<21:01,  1.41it/s]\n",
      " 16%|█▋        | 350/2129 [03:21<18:22,  1.61it/s]\n",
      " 16%|█▋        | 351/2129 [03:21<13:49,  2.14it/s]\n",
      " 17%|█▋        | 352/2129 [03:22<18:37,  1.59it/s]\n",
      " 17%|█▋        | 353/2129 [03:23<18:08,  1.63it/s]\n",
      " 17%|█▋        | 354/2129 [03:23<17:37,  1.68it/s]\n",
      " 17%|█▋        | 356/2129 [03:24<13:23,  2.21it/s]\n",
      " 17%|█▋        | 358/2129 [03:24<13:31,  2.18it/s]\n",
      " 17%|█▋        | 359/2129 [03:25<14:37,  2.02it/s]\n",
      " 17%|█▋        | 360/2129 [03:26<19:11,  1.54it/s]\n",
      " 17%|█▋        | 362/2129 [03:27<18:06,  1.63it/s]\n",
      " 17%|█▋        | 363/2129 [03:27<14:31,  2.03it/s]\n",
      " 17%|█▋        | 364/2129 [03:28<16:13,  1.81it/s]\n",
      " 17%|█▋        | 365/2129 [03:29<15:31,  1.89it/s]\n",
      " 17%|█▋        | 366/2129 [03:29<16:01,  1.83it/s]\n",
      " 17%|█▋        | 367/2129 [03:29<12:22,  2.37it/s]\n",
      " 17%|█▋        | 368/2129 [03:30<18:30,  1.59it/s]\n",
      " 17%|█▋        | 369/2129 [03:31<14:48,  1.98it/s]\n",
      " 17%|█▋        | 370/2129 [03:32<18:45,  1.56it/s]\n",
      " 17%|█▋        | 371/2129 [03:32<17:55,  1.63it/s]\n",
      " 17%|█▋        | 372/2129 [03:32<13:50,  2.12it/s]\n",
      " 18%|█▊        | 373/2129 [03:33<18:02,  1.62it/s]\n",
      " 18%|█▊        | 374/2129 [03:34<20:58,  1.39it/s]\n",
      " 18%|█▊        | 375/2129 [03:34<16:28,  1.77it/s]\n"
     ]
    },
    {
     "name": "stderr",
     "output_type": "stream",
     "text": [
      " 18%|█▊        | 376/2129 [03:35<14:28,  2.02it/s]\n",
      " 18%|█▊        | 377/2129 [03:36<18:58,  1.54it/s]\n",
      " 18%|█▊        | 378/2129 [03:36<17:57,  1.62it/s]\n",
      " 18%|█▊        | 379/2129 [03:37<20:03,  1.45it/s]\n",
      " 18%|█▊        | 380/2129 [03:38<23:23,  1.25it/s]\n",
      " 18%|█▊        | 381/2129 [03:38<18:54,  1.54it/s]\n",
      " 18%|█▊        | 382/2129 [03:40<22:35,  1.29it/s]\n",
      " 18%|█▊        | 383/2129 [03:40<20:36,  1.41it/s]\n",
      " 18%|█▊        | 384/2129 [03:40<16:19,  1.78it/s]\n",
      " 18%|█▊        | 385/2129 [03:41<17:28,  1.66it/s]\n",
      " 18%|█▊        | 386/2129 [03:42<20:53,  1.39it/s]\n",
      " 18%|█▊        | 387/2129 [03:43<22:58,  1.26it/s]\n",
      " 18%|█▊        | 388/2129 [03:43<18:02,  1.61it/s]\n",
      " 18%|█▊        | 389/2129 [03:44<16:50,  1.72it/s]\n",
      " 18%|█▊        | 390/2129 [03:44<17:40,  1.64it/s]\n",
      " 18%|█▊        | 391/2129 [03:45<21:07,  1.37it/s]\n",
      " 18%|█▊        | 392/2129 [03:46<16:27,  1.76it/s]\n",
      " 18%|█▊        | 393/2129 [03:47<20:27,  1.41it/s]\n",
      " 19%|█▊        | 394/2129 [03:47<21:54,  1.32it/s]\n",
      " 19%|█▊        | 396/2129 [03:49<20:30,  1.41it/s]\n",
      " 19%|█▊        | 397/2129 [03:49<16:34,  1.74it/s]\n",
      " 19%|█▊        | 398/2129 [03:49<13:15,  2.18it/s]\n",
      " 19%|█▊        | 399/2129 [03:50<14:10,  2.03it/s]\n",
      " 19%|█▉        | 400/2129 [03:50<11:26,  2.52it/s]\n",
      " 19%|█▉        | 402/2129 [03:51<11:22,  2.53it/s]\n",
      " 19%|█▉        | 404/2129 [03:52<12:29,  2.30it/s]\n",
      " 19%|█▉        | 405/2129 [03:53<17:54,  1.60it/s]\n",
      " 19%|█▉        | 406/2129 [03:54<21:43,  1.32it/s]\n",
      " 19%|█▉        | 407/2129 [03:55<24:02,  1.19it/s]\n",
      " 19%|█▉        | 408/2129 [03:55<21:09,  1.36it/s]\n",
      " 19%|█▉        | 409/2129 [03:56<19:17,  1.49it/s]\n",
      " 19%|█▉        | 410/2129 [03:57<20:46,  1.38it/s]\n",
      " 19%|█▉        | 411/2129 [03:57<18:55,  1.51it/s]\n",
      " 19%|█▉        | 412/2129 [03:58<22:34,  1.27it/s]\n",
      " 19%|█▉        | 413/2129 [03:59<24:50,  1.15it/s]\n",
      " 19%|█▉        | 414/2129 [04:00<19:17,  1.48it/s]\n",
      " 19%|█▉        | 415/2129 [04:00<20:38,  1.38it/s]\n",
      " 20%|█▉        | 416/2129 [04:01<22:57,  1.24it/s]\n",
      " 20%|█▉        | 417/2129 [04:02<25:23,  1.12it/s]\n",
      " 20%|█▉        | 418/2129 [04:03<19:45,  1.44it/s]\n",
      " 20%|█▉        | 419/2129 [04:04<22:57,  1.24it/s]\n",
      " 20%|█▉        | 420/2129 [04:04<19:24,  1.47it/s]\n",
      " 20%|█▉        | 421/2129 [04:05<22:08,  1.29it/s]\n",
      " 20%|█▉        | 422/2129 [04:05<17:57,  1.58it/s]\n",
      " 20%|█▉        | 423/2129 [04:06<16:00,  1.78it/s]\n",
      " 20%|█▉        | 424/2129 [04:07<19:27,  1.46it/s]\n",
      " 20%|█▉        | 425/2129 [04:07<18:35,  1.53it/s]\n",
      " 20%|██        | 426/2129 [04:08<18:02,  1.57it/s]\n",
      " 20%|██        | 427/2129 [04:08<15:21,  1.85it/s]\n",
      " 20%|██        | 429/2129 [04:09<13:34,  2.09it/s]\n",
      " 20%|██        | 430/2129 [04:10<17:20,  1.63it/s]\n",
      " 20%|██        | 432/2129 [04:11<16:38,  1.70it/s]\n",
      " 20%|██        | 433/2129 [04:12<20:13,  1.40it/s]\n",
      " 20%|██        | 434/2129 [04:13<22:11,  1.27it/s]\n",
      " 20%|██        | 435/2129 [04:14<23:35,  1.20it/s]\n",
      " 21%|██        | 437/2129 [04:15<21:05,  1.34it/s]\n",
      " 21%|██        | 439/2129 [04:16<19:06,  1.47it/s]\n",
      " 21%|██        | 440/2129 [04:17<22:44,  1.24it/s]\n",
      " 21%|██        | 441/2129 [04:18<22:25,  1.25it/s]\n",
      " 21%|██        | 443/2129 [04:19<19:28,  1.44it/s]\n",
      " 21%|██        | 444/2129 [04:19<15:40,  1.79it/s]\n",
      " 21%|██        | 445/2129 [04:19<13:28,  2.08it/s]\n",
      " 21%|██        | 446/2129 [04:20<15:57,  1.76it/s]\n",
      " 21%|██        | 447/2129 [04:21<20:03,  1.40it/s]\n",
      " 21%|██        | 448/2129 [04:22<22:28,  1.25it/s]\n",
      " 21%|██        | 449/2129 [04:22<18:23,  1.52it/s]\n",
      " 21%|██        | 451/2129 [04:23<13:25,  2.08it/s]\n",
      " 21%|██        | 452/2129 [04:24<17:42,  1.58it/s]\n",
      " 21%|██▏       | 453/2129 [04:25<21:07,  1.32it/s]\n",
      " 21%|██▏       | 454/2129 [04:25<17:35,  1.59it/s]\n",
      " 21%|██▏       | 455/2129 [04:26<16:54,  1.65it/s]\n",
      " 21%|██▏       | 457/2129 [04:26<12:35,  2.21it/s]\n",
      " 22%|██▏       | 458/2129 [04:26<13:58,  1.99it/s]\n",
      " 22%|██▏       | 459/2129 [04:27<18:25,  1.51it/s]\n",
      " 22%|██▏       | 461/2129 [04:28<17:19,  1.60it/s]\n",
      " 22%|██▏       | 462/2129 [04:29<13:27,  2.06it/s]\n",
      " 22%|██▏       | 463/2129 [04:30<17:41,  1.57it/s]\n",
      " 22%|██▏       | 464/2129 [04:30<15:01,  1.85it/s]\n",
      " 22%|██▏       | 465/2129 [04:31<18:34,  1.49it/s]\n",
      " 22%|██▏       | 466/2129 [04:31<14:59,  1.85it/s]\n",
      " 22%|██▏       | 467/2129 [04:31<12:03,  2.30it/s]\n",
      " 22%|██▏       | 468/2129 [04:32<11:23,  2.43it/s]\n",
      " 22%|██▏       | 469/2129 [04:32<14:33,  1.90it/s]\n",
      " 22%|██▏       | 470/2129 [04:33<16:19,  1.69it/s]\n",
      " 22%|██▏       | 471/2129 [04:34<15:47,  1.75it/s]\n",
      " 22%|██▏       | 472/2129 [04:34<17:05,  1.62it/s]\n",
      " 22%|██▏       | 474/2129 [04:36<16:40,  1.65it/s]\n",
      " 22%|██▏       | 475/2129 [04:37<20:10,  1.37it/s]\n",
      " 22%|██▏       | 476/2129 [04:38<22:23,  1.23it/s]\n",
      " 22%|██▏       | 477/2129 [04:38<19:54,  1.38it/s]\n",
      " 22%|██▏       | 478/2129 [04:38<15:48,  1.74it/s]\n",
      " 23%|██▎       | 480/2129 [04:39<13:32,  2.03it/s]\n",
      " 23%|██▎       | 481/2129 [04:39<11:37,  2.36it/s]\n",
      " 23%|██▎       | 482/2129 [04:39<09:27,  2.90it/s]\n",
      " 23%|██▎       | 483/2129 [04:40<11:05,  2.47it/s]\n",
      " 23%|██▎       | 485/2129 [04:40<08:42,  3.15it/s]\n",
      " 23%|██▎       | 486/2129 [04:40<08:32,  3.21it/s]\n",
      " 23%|██▎       | 487/2129 [04:41<13:21,  2.05it/s]\n",
      " 23%|██▎       | 488/2129 [04:42<15:31,  1.76it/s]\n",
      " 23%|██▎       | 489/2129 [04:43<18:18,  1.49it/s]\n",
      " 23%|██▎       | 490/2129 [04:44<21:26,  1.27it/s]\n",
      " 23%|██▎       | 492/2129 [04:45<17:07,  1.59it/s]\n",
      " 23%|██▎       | 493/2129 [04:45<13:49,  1.97it/s]\n",
      " 23%|██▎       | 494/2129 [04:46<15:40,  1.74it/s]\n",
      " 23%|██▎       | 495/2129 [04:47<19:32,  1.39it/s]\n",
      " 23%|██▎       | 496/2129 [04:47<18:57,  1.44it/s]\n",
      " 23%|██▎       | 497/2129 [04:48<15:10,  1.79it/s]\n",
      " 23%|██▎       | 498/2129 [04:48<14:59,  1.81it/s]\n",
      " 23%|██▎       | 499/2129 [04:49<17:41,  1.54it/s]\n",
      " 24%|██▎       | 501/2129 [04:49<13:22,  2.03it/s]\n",
      " 24%|██▎       | 502/2129 [04:50<16:42,  1.62it/s]\n",
      " 24%|██▎       | 503/2129 [04:51<17:29,  1.55it/s]\n",
      " 24%|██▎       | 504/2129 [04:51<16:22,  1.65it/s]\n",
      " 24%|██▍       | 506/2129 [04:52<15:34,  1.74it/s]\n",
      " 24%|██▍       | 507/2129 [04:53<13:40,  1.98it/s]\n",
      " 24%|██▍       | 508/2129 [04:53<12:50,  2.10it/s]\n",
      " 24%|██▍       | 509/2129 [04:54<17:49,  1.51it/s]\n",
      " 24%|██▍       | 510/2129 [04:54<15:02,  1.79it/s]\n",
      " 24%|██▍       | 512/2129 [04:55<14:39,  1.84it/s]\n",
      " 24%|██▍       | 513/2129 [04:56<14:04,  1.91it/s]\n",
      " 24%|██▍       | 514/2129 [04:57<16:52,  1.60it/s]\n",
      " 24%|██▍       | 515/2129 [04:58<18:45,  1.43it/s]\n",
      " 24%|██▍       | 516/2129 [04:58<16:45,  1.60it/s]\n",
      " 24%|██▍       | 517/2129 [04:59<20:13,  1.33it/s]\n",
      " 24%|██▍       | 518/2129 [05:00<22:00,  1.22it/s]\n",
      " 24%|██▍       | 519/2129 [05:00<16:52,  1.59it/s]\n",
      " 24%|██▍       | 521/2129 [05:01<13:06,  2.05it/s]\n",
      " 25%|██▍       | 524/2129 [05:01<09:31,  2.81it/s]\n",
      " 25%|██▍       | 526/2129 [05:01<07:06,  3.76it/s]\n",
      " 25%|██▍       | 528/2129 [05:02<09:26,  2.83it/s]\n",
      " 25%|██▍       | 529/2129 [05:03<14:56,  1.79it/s]\n",
      " 25%|██▍       | 530/2129 [05:03<12:54,  2.07it/s]\n",
      " 25%|██▍       | 531/2129 [05:04<11:33,  2.30it/s]\n",
      " 25%|██▍       | 532/2129 [05:04<09:54,  2.68it/s]\n",
      " 25%|██▌       | 534/2129 [05:05<11:07,  2.39it/s]\n",
      " 25%|██▌       | 535/2129 [05:05<10:19,  2.58it/s]\n",
      " 25%|██▌       | 536/2129 [05:06<15:00,  1.77it/s]\n",
      " 25%|██▌       | 537/2129 [05:07<18:43,  1.42it/s]\n",
      " 25%|██▌       | 538/2129 [05:08<17:10,  1.54it/s]\n",
      " 25%|██▌       | 539/2129 [05:08<13:30,  1.96it/s]\n",
      " 25%|██▌       | 540/2129 [05:08<11:29,  2.30it/s]\n",
      " 25%|██▌       | 541/2129 [05:09<16:27,  1.61it/s]\n",
      " 25%|██▌       | 542/2129 [05:10<16:55,  1.56it/s]\n",
      " 26%|██▌       | 543/2129 [05:10<14:08,  1.87it/s]\n",
      " 26%|██▌       | 544/2129 [05:11<18:27,  1.43it/s]\n",
      " 26%|██▌       | 545/2129 [05:12<20:53,  1.26it/s]\n",
      " 26%|██▌       | 547/2129 [05:13<17:16,  1.53it/s]\n",
      " 26%|██▌       | 548/2129 [05:13<14:37,  1.80it/s]\n",
      " 26%|██▌       | 549/2129 [05:14<11:44,  2.24it/s]\n",
      " 26%|██▌       | 550/2129 [05:15<17:01,  1.55it/s]\n",
      " 26%|██▌       | 551/2129 [05:15<16:37,  1.58it/s]\n",
      " 26%|██▌       | 553/2129 [05:15<12:11,  2.16it/s]\n",
      " 26%|██▌       | 554/2129 [05:16<13:26,  1.95it/s]\n",
      " 26%|██▌       | 555/2129 [05:17<15:54,  1.65it/s]\n",
      " 26%|██▌       | 556/2129 [05:17<12:51,  2.04it/s]\n",
      " 26%|██▌       | 557/2129 [05:18<12:31,  2.09it/s]\n",
      " 26%|██▋       | 559/2129 [05:18<09:29,  2.75it/s]\n",
      " 26%|██▋       | 560/2129 [05:19<14:39,  1.78it/s]\n",
      " 26%|██▋       | 561/2129 [05:19<12:39,  2.07it/s]\n",
      " 26%|██▋       | 562/2129 [05:20<16:54,  1.54it/s]\n"
     ]
    },
    {
     "name": "stderr",
     "output_type": "stream",
     "text": [
      " 26%|██▋       | 563/2129 [05:21<16:21,  1.60it/s]\n",
      " 26%|██▋       | 564/2129 [05:21<13:00,  2.01it/s]\n",
      " 27%|██▋       | 565/2129 [05:22<14:43,  1.77it/s]\n",
      " 27%|██▋       | 566/2129 [05:22<14:07,  1.84it/s]\n",
      " 27%|██▋       | 567/2129 [05:22<10:46,  2.41it/s]\n",
      " 27%|██▋       | 568/2129 [05:23<15:20,  1.70it/s]\n",
      " 27%|██▋       | 570/2129 [05:24<14:25,  1.80it/s]\n",
      " 27%|██▋       | 571/2129 [05:25<14:36,  1.78it/s]\n",
      " 27%|██▋       | 573/2129 [05:26<14:44,  1.76it/s]\n",
      " 27%|██▋       | 574/2129 [05:27<15:21,  1.69it/s]\n",
      " 27%|██▋       | 575/2129 [05:27<11:32,  2.25it/s]\n",
      " 27%|██▋       | 576/2129 [05:28<14:42,  1.76it/s]\n",
      " 27%|██▋       | 577/2129 [05:28<17:00,  1.52it/s]\n",
      " 27%|██▋       | 578/2129 [05:29<13:05,  1.98it/s]\n",
      " 27%|██▋       | 579/2129 [05:30<17:02,  1.52it/s]\n",
      " 27%|██▋       | 580/2129 [05:30<13:01,  1.98it/s]\n",
      " 27%|██▋       | 581/2129 [05:31<17:11,  1.50it/s]\n",
      " 27%|██▋       | 582/2129 [05:32<19:23,  1.33it/s]\n",
      " 27%|██▋       | 583/2129 [05:32<17:22,  1.48it/s]\n",
      " 27%|██▋       | 584/2129 [05:33<16:17,  1.58it/s]\n",
      " 27%|██▋       | 585/2129 [05:33<14:20,  1.79it/s]\n",
      " 28%|██▊       | 586/2129 [05:34<18:24,  1.40it/s]\n",
      " 28%|██▊       | 587/2129 [05:35<16:26,  1.56it/s]\n",
      " 28%|██▊       | 589/2129 [05:35<12:02,  2.13it/s]\n",
      " 28%|██▊       | 590/2129 [05:35<12:29,  2.05it/s]\n",
      " 28%|██▊       | 591/2129 [05:36<10:23,  2.47it/s]\n",
      " 28%|██▊       | 592/2129 [05:36<11:16,  2.27it/s]\n",
      " 28%|██▊       | 593/2129 [05:37<15:55,  1.61it/s]\n",
      " 28%|██▊       | 595/2129 [05:37<11:37,  2.20it/s]\n",
      " 28%|██▊       | 597/2129 [05:38<10:05,  2.53it/s]\n",
      " 28%|██▊       | 598/2129 [05:38<11:10,  2.28it/s]\n",
      " 28%|██▊       | 599/2129 [05:39<10:42,  2.38it/s]\n",
      " 28%|██▊       | 600/2129 [05:40<15:13,  1.67it/s]\n",
      " 28%|██▊       | 601/2129 [05:41<18:07,  1.41it/s]\n",
      " 28%|██▊       | 602/2129 [05:41<15:10,  1.68it/s]\n",
      " 28%|██▊       | 603/2129 [05:42<16:49,  1.51it/s]\n",
      " 28%|██▊       | 605/2129 [05:43<15:42,  1.62it/s]\n",
      " 29%|██▊       | 607/2129 [05:44<15:08,  1.68it/s]\n",
      " 29%|██▊       | 608/2129 [05:45<18:22,  1.38it/s]\n",
      " 29%|██▊       | 609/2129 [05:46<20:18,  1.25it/s]\n",
      " 29%|██▊       | 611/2129 [05:46<15:32,  1.63it/s]\n",
      " 29%|██▊       | 612/2129 [05:47<13:11,  1.92it/s]\n",
      " 29%|██▉       | 613/2129 [05:47<10:55,  2.31it/s]\n",
      " 29%|██▉       | 614/2129 [05:47<11:53,  2.12it/s]\n",
      " 29%|██▉       | 615/2129 [05:48<13:40,  1.84it/s]\n",
      " 29%|██▉       | 616/2129 [05:48<10:50,  2.33it/s]\n",
      " 29%|██▉       | 617/2129 [05:49<15:20,  1.64it/s]\n",
      " 29%|██▉       | 618/2129 [05:50<17:10,  1.47it/s]\n",
      " 29%|██▉       | 619/2129 [05:51<19:45,  1.27it/s]\n",
      " 29%|██▉       | 621/2129 [05:51<14:32,  1.73it/s]\n",
      " 29%|██▉       | 623/2129 [05:52<14:10,  1.77it/s]\n",
      " 29%|██▉       | 624/2129 [05:53<10:47,  2.32it/s]\n",
      " 29%|██▉       | 625/2129 [05:54<14:57,  1.68it/s]\n",
      " 29%|██▉       | 626/2129 [05:54<17:33,  1.43it/s]\n",
      " 29%|██▉       | 627/2129 [05:55<16:54,  1.48it/s]\n",
      " 29%|██▉       | 628/2129 [05:56<16:24,  1.53it/s]\n",
      " 30%|██▉       | 629/2129 [05:56<13:08,  1.90it/s]\n",
      " 30%|██▉       | 630/2129 [05:56<13:28,  1.85it/s]\n",
      " 30%|██▉       | 631/2129 [05:57<11:02,  2.26it/s]\n",
      " 30%|██▉       | 632/2129 [05:57<09:13,  2.71it/s]\n",
      " 30%|██▉       | 633/2129 [05:57<10:24,  2.39it/s]\n",
      " 30%|██▉       | 634/2129 [05:58<09:03,  2.75it/s]\n",
      " 30%|██▉       | 635/2129 [05:58<09:47,  2.54it/s]\n",
      " 30%|██▉       | 636/2129 [05:59<12:52,  1.93it/s]\n",
      " 30%|██▉       | 637/2129 [05:59<10:07,  2.46it/s]\n",
      " 30%|██▉       | 638/2129 [06:00<10:31,  2.36it/s]\n",
      " 30%|███       | 639/2129 [06:01<15:04,  1.65it/s]\n",
      " 30%|███       | 640/2129 [06:02<18:29,  1.34it/s]\n",
      " 30%|███       | 641/2129 [06:02<13:46,  1.80it/s]\n",
      " 30%|███       | 642/2129 [06:03<17:13,  1.44it/s]\n",
      " 30%|███       | 643/2129 [06:04<19:15,  1.29it/s]\n",
      " 30%|███       | 644/2129 [06:05<21:03,  1.18it/s]\n",
      " 30%|███       | 645/2129 [06:05<17:50,  1.39it/s]\n",
      " 30%|███       | 646/2129 [06:06<20:11,  1.22it/s]\n",
      " 30%|███       | 647/2129 [06:07<17:30,  1.41it/s]\n",
      " 30%|███       | 648/2129 [06:07<14:02,  1.76it/s]\n",
      " 30%|███       | 649/2129 [06:07<11:01,  2.24it/s]\n",
      " 31%|███       | 650/2129 [06:07<09:57,  2.48it/s]\n",
      " 31%|███       | 651/2129 [06:08<11:37,  2.12it/s]\n",
      " 31%|███       | 652/2129 [06:09<11:58,  2.05it/s]\n",
      " 31%|███       | 653/2129 [06:09<09:37,  2.56it/s]\n",
      " 31%|███       | 654/2129 [06:10<14:49,  1.66it/s]\n",
      " 31%|███       | 655/2129 [06:10<14:31,  1.69it/s]\n",
      " 31%|███       | 656/2129 [06:11<14:39,  1.67it/s]\n",
      " 31%|███       | 658/2129 [06:12<12:58,  1.89it/s]\n",
      " 31%|███       | 659/2129 [06:12<13:16,  1.85it/s]\n",
      " 31%|███       | 660/2129 [06:13<13:26,  1.82it/s]\n",
      " 31%|███       | 662/2129 [06:14<12:33,  1.95it/s]\n",
      " 31%|███       | 663/2129 [06:14<13:54,  1.76it/s]\n",
      " 31%|███       | 664/2129 [06:15<17:30,  1.39it/s]\n",
      " 31%|███▏      | 666/2129 [06:17<16:24,  1.49it/s]\n",
      " 31%|███▏      | 667/2129 [06:17<17:41,  1.38it/s]\n",
      " 31%|███▏      | 668/2129 [06:18<19:09,  1.27it/s]\n",
      " 31%|███▏      | 669/2129 [06:20<21:58,  1.11it/s]\n",
      " 31%|███▏      | 670/2129 [06:21<22:35,  1.08it/s]\n",
      " 32%|███▏      | 671/2129 [06:21<19:12,  1.27it/s]\n",
      " 32%|███▏      | 672/2129 [06:21<15:42,  1.55it/s]\n",
      " 32%|███▏      | 673/2129 [06:22<17:15,  1.41it/s]\n",
      " 32%|███▏      | 674/2129 [06:22<13:38,  1.78it/s]\n",
      " 32%|███▏      | 675/2129 [06:23<16:38,  1.46it/s]\n",
      " 32%|███▏      | 676/2129 [06:24<16:03,  1.51it/s]\n",
      " 32%|███▏      | 677/2129 [06:25<16:50,  1.44it/s]\n",
      " 32%|███▏      | 678/2129 [06:26<19:09,  1.26it/s]\n",
      " 32%|███▏      | 679/2129 [06:27<21:00,  1.15it/s]\n",
      " 32%|███▏      | 681/2129 [06:28<18:00,  1.34it/s]\n",
      " 32%|███▏      | 682/2129 [06:28<16:56,  1.42it/s]\n",
      " 32%|███▏      | 683/2129 [06:29<19:34,  1.23it/s]\n",
      " 32%|███▏      | 684/2129 [06:30<21:11,  1.14it/s]\n",
      " 32%|███▏      | 685/2129 [06:31<16:21,  1.47it/s]\n",
      " 32%|███▏      | 686/2129 [06:31<16:09,  1.49it/s]\n",
      " 32%|███▏      | 687/2129 [06:32<18:46,  1.28it/s]\n",
      " 32%|███▏      | 688/2129 [06:33<20:11,  1.19it/s]\n",
      " 32%|███▏      | 690/2129 [06:34<16:34,  1.45it/s]\n",
      " 32%|███▏      | 691/2129 [06:34<12:47,  1.87it/s]\n",
      " 33%|███▎      | 692/2129 [06:35<13:27,  1.78it/s]\n",
      " 33%|███▎      | 693/2129 [06:36<17:09,  1.39it/s]\n",
      " 33%|███▎      | 694/2129 [06:36<16:07,  1.48it/s]\n",
      " 33%|███▎      | 695/2129 [06:38<18:42,  1.28it/s]\n",
      " 33%|███▎      | 697/2129 [06:38<14:17,  1.67it/s]\n",
      " 33%|███▎      | 699/2129 [06:38<11:18,  2.11it/s]\n",
      " 33%|███▎      | 700/2129 [06:39<15:09,  1.57it/s]\n",
      " 33%|███▎      | 701/2129 [06:40<14:29,  1.64it/s]\n",
      " 33%|███▎      | 702/2129 [06:41<17:30,  1.36it/s]\n",
      " 33%|███▎      | 704/2129 [06:41<14:15,  1.67it/s]\n",
      " 33%|███▎      | 705/2129 [06:42<17:25,  1.36it/s]\n",
      " 33%|███▎      | 706/2129 [06:43<14:24,  1.65it/s]\n",
      " 33%|███▎      | 707/2129 [06:44<17:24,  1.36it/s]\n",
      " 33%|███▎      | 708/2129 [06:45<18:13,  1.30it/s]\n",
      " 33%|███▎      | 710/2129 [06:45<13:35,  1.74it/s]\n",
      " 33%|███▎      | 711/2129 [06:46<16:48,  1.41it/s]\n",
      " 33%|███▎      | 712/2129 [06:47<16:50,  1.40it/s]\n",
      " 33%|███▎      | 713/2129 [06:47<13:26,  1.76it/s]\n",
      " 34%|███▎      | 714/2129 [06:47<13:27,  1.75it/s]\n",
      " 34%|███▎      | 715/2129 [06:48<16:58,  1.39it/s]\n",
      " 34%|███▎      | 716/2129 [06:49<17:51,  1.32it/s]\n",
      " 34%|███▎      | 718/2129 [06:50<14:25,  1.63it/s]\n",
      " 34%|███▍      | 720/2129 [06:51<13:38,  1.72it/s]\n",
      " 34%|███▍      | 721/2129 [06:52<16:46,  1.40it/s]\n",
      " 34%|███▍      | 722/2129 [06:53<18:23,  1.27it/s]\n",
      " 34%|███▍      | 723/2129 [06:54<20:06,  1.17it/s]\n",
      " 34%|███▍      | 724/2129 [06:55<18:28,  1.27it/s]\n",
      " 34%|███▍      | 727/2129 [06:55<14:40,  1.59it/s]\n",
      " 34%|███▍      | 729/2129 [06:55<10:39,  2.19it/s]\n",
      " 34%|███▍      | 730/2129 [06:56<14:42,  1.59it/s]\n",
      " 34%|███▍      | 731/2129 [06:57<11:58,  1.94it/s]\n",
      " 34%|███▍      | 733/2129 [06:57<08:43,  2.67it/s]\n",
      " 35%|███▍      | 735/2129 [06:57<06:40,  3.48it/s]\n",
      " 35%|███▍      | 737/2129 [06:58<08:35,  2.70it/s]\n",
      " 35%|███▍      | 738/2129 [06:59<09:25,  2.46it/s]\n",
      " 35%|███▍      | 739/2129 [06:59<09:45,  2.37it/s]\n",
      " 35%|███▍      | 740/2129 [07:00<12:41,  1.82it/s]\n",
      " 35%|███▍      | 743/2129 [07:00<10:11,  2.27it/s]\n",
      " 35%|███▍      | 744/2129 [07:01<12:39,  1.82it/s]\n",
      " 35%|███▍      | 745/2129 [07:02<10:47,  2.14it/s]\n",
      " 35%|███▌      | 746/2129 [07:03<15:39,  1.47it/s]\n",
      " 35%|███▌      | 747/2129 [07:03<14:14,  1.62it/s]\n",
      " 35%|███▌      | 748/2129 [07:04<12:53,  1.79it/s]\n",
      " 35%|███▌      | 749/2129 [07:04<12:50,  1.79it/s]\n",
      " 35%|███▌      | 750/2129 [07:05<14:40,  1.57it/s]\n",
      " 35%|███▌      | 751/2129 [07:06<18:24,  1.25it/s]\n"
     ]
    },
    {
     "name": "stderr",
     "output_type": "stream",
     "text": [
      " 35%|███▌      | 752/2129 [07:06<14:41,  1.56it/s]\n",
      " 35%|███▌      | 753/2129 [07:07<12:45,  1.80it/s]\n",
      " 35%|███▌      | 754/2129 [07:08<16:08,  1.42it/s]\n",
      " 35%|███▌      | 755/2129 [07:09<16:09,  1.42it/s]\n",
      " 36%|███▌      | 756/2129 [07:09<14:59,  1.53it/s]\n",
      " 36%|███▌      | 757/2129 [07:09<12:25,  1.84it/s]\n",
      " 36%|███▌      | 758/2129 [07:10<15:44,  1.45it/s]\n",
      " 36%|███▌      | 759/2129 [07:11<14:16,  1.60it/s]\n",
      " 36%|███▌      | 760/2129 [07:12<17:27,  1.31it/s]\n",
      " 36%|███▌      | 761/2129 [07:13<19:01,  1.20it/s]\n",
      " 36%|███▌      | 763/2129 [07:13<13:39,  1.67it/s]\n",
      " 36%|███▌      | 764/2129 [07:14<16:23,  1.39it/s]\n",
      " 36%|███▌      | 765/2129 [07:14<13:24,  1.70it/s]\n",
      " 36%|███▌      | 766/2129 [07:16<17:21,  1.31it/s]\n",
      " 36%|███▌      | 767/2129 [07:16<15:21,  1.48it/s]\n",
      " 36%|███▌      | 768/2129 [07:16<13:00,  1.74it/s]\n",
      " 36%|███▌      | 769/2129 [07:16<09:55,  2.28it/s]\n",
      " 36%|███▌      | 770/2129 [07:17<10:27,  2.16it/s]\n",
      " 36%|███▌      | 771/2129 [07:17<10:50,  2.09it/s]\n",
      " 36%|███▋      | 772/2129 [07:18<11:14,  2.01it/s]\n",
      " 36%|███▋      | 773/2129 [07:19<11:29,  1.97it/s]\n",
      " 36%|███▋      | 774/2129 [07:19<13:44,  1.64it/s]\n",
      " 36%|███▋      | 775/2129 [07:20<16:45,  1.35it/s]\n",
      " 36%|███▋      | 776/2129 [07:22<18:56,  1.19it/s]\n",
      " 36%|███▋      | 777/2129 [07:23<19:57,  1.13it/s]\n",
      " 37%|███▋      | 778/2129 [07:23<16:19,  1.38it/s]\n",
      " 37%|███▋      | 780/2129 [07:23<12:49,  1.75it/s]\n",
      " 37%|███▋      | 781/2129 [07:24<15:40,  1.43it/s]\n",
      " 37%|███▋      | 782/2129 [07:25<15:40,  1.43it/s]\n",
      " 37%|███▋      | 784/2129 [07:25<12:13,  1.83it/s]\n",
      " 37%|███▋      | 785/2129 [07:26<12:15,  1.83it/s]\n",
      " 37%|███▋      | 786/2129 [07:26<11:13,  1.99it/s]\n",
      " 37%|███▋      | 787/2129 [07:27<11:46,  1.90it/s]\n",
      " 37%|███▋      | 788/2129 [07:27<11:38,  1.92it/s]\n",
      " 37%|███▋      | 789/2129 [07:28<12:59,  1.72it/s]\n",
      " 37%|███▋      | 790/2129 [07:29<15:41,  1.42it/s]\n",
      " 37%|███▋      | 791/2129 [07:29<12:20,  1.81it/s]\n",
      " 37%|███▋      | 792/2129 [07:29<09:53,  2.25it/s]\n",
      " 37%|███▋      | 793/2129 [07:30<08:50,  2.52it/s]\n",
      " 37%|███▋      | 795/2129 [07:31<09:46,  2.28it/s]\n",
      " 37%|███▋      | 796/2129 [07:32<12:39,  1.76it/s]\n",
      " 37%|███▋      | 797/2129 [07:33<14:14,  1.56it/s]\n",
      " 37%|███▋      | 798/2129 [07:34<16:24,  1.35it/s]\n",
      " 38%|███▊      | 799/2129 [07:34<16:30,  1.34it/s]\n",
      " 38%|███▊      | 801/2129 [07:35<14:08,  1.57it/s]\n",
      " 38%|███▊      | 802/2129 [07:35<11:30,  1.92it/s]\n",
      " 38%|███▊      | 803/2129 [07:36<12:49,  1.72it/s]\n",
      " 38%|███▊      | 804/2129 [07:37<12:25,  1.78it/s]\n",
      " 38%|███▊      | 805/2129 [07:37<14:46,  1.49it/s]\n",
      " 38%|███▊      | 806/2129 [07:38<16:02,  1.37it/s]\n",
      " 38%|███▊      | 807/2129 [07:39<17:43,  1.24it/s]\n",
      " 38%|███▊      | 808/2129 [07:39<13:18,  1.65it/s]\n",
      " 38%|███▊      | 809/2129 [07:40<13:09,  1.67it/s]\n",
      " 38%|███▊      | 810/2129 [07:40<10:02,  2.19it/s]\n",
      " 38%|███▊      | 812/2129 [07:41<10:46,  2.04it/s]\n",
      " 38%|███▊      | 813/2129 [07:41<08:12,  2.67it/s]\n",
      " 38%|███▊      | 814/2129 [07:42<11:34,  1.89it/s]\n",
      " 38%|███▊      | 815/2129 [07:43<13:00,  1.68it/s]\n",
      " 38%|███▊      | 816/2129 [07:43<09:50,  2.22it/s]\n",
      " 38%|███▊      | 817/2129 [07:44<13:04,  1.67it/s]\n",
      " 38%|███▊      | 818/2129 [07:45<12:47,  1.71it/s]\n",
      " 38%|███▊      | 819/2129 [07:46<15:42,  1.39it/s]\n",
      " 39%|███▊      | 820/2129 [07:46<16:06,  1.35it/s]\n",
      " 39%|███▊      | 821/2129 [07:47<13:09,  1.66it/s]\n",
      " 39%|███▊      | 823/2129 [07:48<12:51,  1.69it/s]\n",
      " 39%|███▊      | 824/2129 [07:48<10:22,  2.10it/s]\n",
      " 39%|███▉      | 825/2129 [07:49<12:52,  1.69it/s]\n",
      " 39%|███▉      | 826/2129 [07:49<12:11,  1.78it/s]\n",
      " 39%|███▉      | 827/2129 [07:50<12:11,  1.78it/s]\n",
      " 39%|███▉      | 828/2129 [07:50<11:34,  1.87it/s]\n",
      " 39%|███▉      | 830/2129 [07:51<09:57,  2.17it/s]\n",
      " 39%|███▉      | 832/2129 [07:52<10:08,  2.13it/s]\n",
      " 39%|███▉      | 834/2129 [07:52<07:53,  2.74it/s]\n",
      " 39%|███▉      | 836/2129 [07:53<08:51,  2.43it/s]\n",
      " 39%|███▉      | 837/2129 [07:54<09:11,  2.34it/s]\n",
      " 39%|███▉      | 838/2129 [07:55<12:57,  1.66it/s]\n",
      " 39%|███▉      | 839/2129 [07:56<15:27,  1.39it/s]\n",
      " 39%|███▉      | 840/2129 [07:56<14:11,  1.51it/s]\n",
      " 40%|███▉      | 841/2129 [07:57<16:23,  1.31it/s]\n",
      " 40%|███▉      | 842/2129 [07:58<18:04,  1.19it/s]\n",
      " 40%|███▉      | 843/2129 [07:59<15:48,  1.36it/s]\n",
      " 40%|███▉      | 845/2129 [08:00<14:30,  1.48it/s]\n",
      " 40%|███▉      | 846/2129 [08:01<16:57,  1.26it/s]\n",
      " 40%|███▉      | 848/2129 [08:02<15:34,  1.37it/s]\n",
      " 40%|███▉      | 849/2129 [08:03<15:31,  1.37it/s]\n",
      " 40%|███▉      | 850/2129 [08:03<12:18,  1.73it/s]\n",
      " 40%|███▉      | 851/2129 [08:04<12:55,  1.65it/s]\n",
      " 40%|████      | 853/2129 [08:04<10:09,  2.09it/s]\n",
      " 40%|████      | 854/2129 [08:04<09:24,  2.26it/s]\n",
      " 40%|████      | 856/2129 [08:05<07:21,  2.88it/s]\n",
      " 40%|████      | 857/2129 [08:06<11:41,  1.81it/s]\n",
      " 40%|████      | 858/2129 [08:07<13:37,  1.56it/s]\n",
      " 40%|████      | 859/2129 [08:08<15:20,  1.38it/s]\n",
      " 40%|████      | 860/2129 [08:08<17:00,  1.24it/s]\n",
      " 40%|████      | 861/2129 [08:09<18:12,  1.16it/s]\n",
      " 40%|████      | 862/2129 [08:11<19:20,  1.09it/s]\n",
      " 41%|████      | 863/2129 [08:11<19:05,  1.11it/s]\n",
      " 41%|████      | 864/2129 [08:12<20:01,  1.05it/s]\n",
      " 41%|████      | 865/2129 [08:13<20:03,  1.05it/s]\n",
      " 41%|████      | 866/2129 [08:14<18:12,  1.16it/s]\n",
      " 41%|████      | 867/2129 [08:15<15:55,  1.32it/s]\n",
      " 41%|████      | 868/2129 [08:16<17:33,  1.20it/s]\n",
      " 41%|████      | 869/2129 [08:16<17:23,  1.21it/s]\n",
      " 41%|████      | 870/2129 [08:17<12:54,  1.63it/s]\n",
      " 41%|████      | 871/2129 [08:18<15:41,  1.34it/s]\n",
      " 41%|████      | 872/2129 [08:19<16:54,  1.24it/s]\n",
      " 41%|████      | 875/2129 [08:19<13:33,  1.54it/s]\n",
      " 41%|████      | 876/2129 [08:20<13:42,  1.52it/s]\n",
      " 41%|████      | 877/2129 [08:21<15:56,  1.31it/s]\n",
      " 41%|████      | 878/2129 [08:22<16:59,  1.23it/s]\n",
      " 41%|████▏     | 879/2129 [08:23<18:27,  1.13it/s]\n",
      " 41%|████▏     | 880/2129 [08:24<19:04,  1.09it/s]\n",
      " 41%|████▏     | 881/2129 [08:25<17:13,  1.21it/s]\n",
      " 41%|████▏     | 882/2129 [08:25<16:03,  1.29it/s]\n",
      " 41%|████▏     | 883/2129 [08:26<15:03,  1.38it/s]\n",
      " 42%|████▏     | 884/2129 [08:27<16:30,  1.26it/s]\n",
      " 42%|████▏     | 885/2129 [08:27<12:52,  1.61it/s]\n",
      " 42%|████▏     | 886/2129 [08:28<11:47,  1.76it/s]\n",
      " 42%|████▏     | 887/2129 [08:28<11:36,  1.78it/s]\n",
      " 42%|████▏     | 888/2129 [08:29<14:22,  1.44it/s]\n",
      " 42%|████▏     | 889/2129 [08:30<13:03,  1.58it/s]\n",
      " 42%|████▏     | 890/2129 [08:30<12:09,  1.70it/s]\n",
      " 42%|████▏     | 891/2129 [08:31<12:29,  1.65it/s]\n",
      " 42%|████▏     | 892/2129 [08:31<12:39,  1.63it/s]\n",
      " 42%|████▏     | 893/2129 [08:32<12:32,  1.64it/s]\n",
      " 42%|████▏     | 894/2129 [08:33<13:53,  1.48it/s]\n",
      " 42%|████▏     | 895/2129 [08:34<15:57,  1.29it/s]\n",
      " 42%|████▏     | 896/2129 [08:34<13:15,  1.55it/s]\n",
      " 42%|████▏     | 897/2129 [08:34<10:47,  1.90it/s]\n",
      " 42%|████▏     | 898/2129 [08:35<10:45,  1.91it/s]\n",
      " 42%|████▏     | 899/2129 [08:35<10:12,  2.01it/s]\n",
      " 42%|████▏     | 900/2129 [08:36<09:40,  2.12it/s]\n",
      " 42%|████▏     | 902/2129 [08:36<07:05,  2.88it/s]\n",
      " 42%|████▏     | 903/2129 [08:37<09:10,  2.23it/s]\n",
      " 43%|████▎     | 905/2129 [08:37<08:26,  2.42it/s]\n",
      " 43%|████▎     | 907/2129 [08:38<08:36,  2.37it/s]\n",
      " 43%|████▎     | 908/2129 [08:39<12:02,  1.69it/s]\n",
      " 43%|████▎     | 909/2129 [08:40<11:36,  1.75it/s]\n",
      " 43%|████▎     | 910/2129 [08:41<14:22,  1.41it/s]\n",
      " 43%|████▎     | 911/2129 [08:41<11:49,  1.72it/s]\n",
      " 43%|████▎     | 912/2129 [08:41<09:15,  2.19it/s]\n",
      " 43%|████▎     | 913/2129 [08:42<09:51,  2.06it/s]\n",
      " 43%|████▎     | 914/2129 [08:42<10:59,  1.84it/s]\n",
      " 43%|████▎     | 915/2129 [08:42<08:44,  2.32it/s]\n",
      " 43%|████▎     | 916/2129 [08:43<09:02,  2.24it/s]\n",
      " 43%|████▎     | 917/2129 [08:44<11:36,  1.74it/s]\n",
      " 43%|████▎     | 918/2129 [08:44<11:06,  1.82it/s]\n",
      " 43%|████▎     | 919/2129 [08:45<12:28,  1.62it/s]\n",
      " 43%|████▎     | 920/2129 [08:46<14:17,  1.41it/s]\n",
      " 43%|████▎     | 922/2129 [08:47<13:21,  1.51it/s]\n",
      " 43%|████▎     | 923/2129 [08:47<10:04,  1.99it/s]\n",
      " 43%|████▎     | 924/2129 [08:48<13:20,  1.51it/s]\n",
      " 43%|████▎     | 925/2129 [08:49<13:05,  1.53it/s]\n",
      " 44%|████▎     | 927/2129 [08:50<12:26,  1.61it/s]\n",
      " 44%|████▎     | 928/2129 [08:50<11:30,  1.74it/s]\n",
      " 44%|████▎     | 929/2129 [08:51<13:35,  1.47it/s]\n",
      " 44%|████▎     | 930/2129 [08:52<11:02,  1.81it/s]\n",
      " 44%|████▎     | 931/2129 [08:52<09:20,  2.14it/s]\n",
      " 44%|████▍     | 932/2129 [08:53<13:05,  1.52it/s]\n",
      " 44%|████▍     | 933/2129 [08:54<14:52,  1.34it/s]\n"
     ]
    },
    {
     "name": "stderr",
     "output_type": "stream",
     "text": [
      " 44%|████▍     | 934/2129 [08:54<12:43,  1.57it/s]\n",
      " 44%|████▍     | 935/2129 [08:55<09:54,  2.01it/s]\n",
      " 44%|████▍     | 936/2129 [08:55<09:05,  2.19it/s]\n",
      " 44%|████▍     | 937/2129 [08:56<11:04,  1.79it/s]\n",
      " 44%|████▍     | 938/2129 [08:57<14:07,  1.41it/s]\n",
      " 44%|████▍     | 939/2129 [08:58<14:18,  1.39it/s]\n",
      " 44%|████▍     | 940/2129 [08:58<13:10,  1.50it/s]\n",
      " 44%|████▍     | 941/2129 [08:59<14:21,  1.38it/s]\n",
      " 44%|████▍     | 942/2129 [08:59<13:06,  1.51it/s]\n",
      " 44%|████▍     | 943/2129 [09:01<15:27,  1.28it/s]\n",
      " 44%|████▍     | 944/2129 [09:01<13:53,  1.42it/s]\n",
      " 44%|████▍     | 945/2129 [09:02<15:47,  1.25it/s]\n",
      " 44%|████▍     | 946/2129 [09:03<14:47,  1.33it/s]\n",
      " 44%|████▍     | 947/2129 [09:03<14:20,  1.37it/s]\n",
      " 45%|████▍     | 948/2129 [09:04<10:59,  1.79it/s]\n",
      " 45%|████▍     | 949/2129 [09:05<13:49,  1.42it/s]\n",
      " 45%|████▍     | 950/2129 [09:06<15:46,  1.25it/s]\n",
      " 45%|████▍     | 951/2129 [09:06<16:13,  1.21it/s]\n",
      " 45%|████▍     | 952/2129 [09:08<17:33,  1.12it/s]\n",
      " 45%|████▍     | 953/2129 [09:08<15:18,  1.28it/s]\n",
      " 45%|████▍     | 954/2129 [09:09<16:50,  1.16it/s]\n",
      " 45%|████▍     | 955/2129 [09:09<13:28,  1.45it/s]\n",
      " 45%|████▍     | 957/2129 [09:10<12:16,  1.59it/s]\n",
      " 45%|████▌     | 959/2129 [09:11<10:44,  1.82it/s]\n",
      " 45%|████▌     | 960/2129 [09:11<08:51,  2.20it/s]\n",
      " 45%|████▌     | 961/2129 [09:12<12:15,  1.59it/s]\n",
      " 45%|████▌     | 962/2129 [09:13<11:36,  1.68it/s]\n",
      " 45%|████▌     | 963/2129 [09:13<08:44,  2.22it/s]\n",
      " 45%|████▌     | 964/2129 [09:14<11:15,  1.72it/s]\n",
      " 45%|████▌     | 966/2129 [09:14<09:33,  2.03it/s]\n",
      " 45%|████▌     | 967/2129 [09:15<12:25,  1.56it/s]\n",
      " 45%|████▌     | 968/2129 [09:16<09:48,  1.97it/s]\n",
      " 46%|████▌     | 969/2129 [09:17<11:55,  1.62it/s]\n",
      " 46%|████▌     | 970/2129 [09:18<14:53,  1.30it/s]\n",
      " 46%|████▌     | 971/2129 [09:19<16:11,  1.19it/s]\n",
      " 46%|████▌     | 972/2129 [09:19<14:47,  1.30it/s]\n",
      " 46%|████▌     | 973/2129 [09:20<16:14,  1.19it/s]\n",
      " 46%|████▌     | 975/2129 [09:21<14:22,  1.34it/s]\n",
      " 46%|████▌     | 976/2129 [09:22<11:22,  1.69it/s]\n",
      " 46%|████▌     | 977/2129 [09:22<11:58,  1.60it/s]\n",
      " 46%|████▌     | 978/2129 [09:23<13:25,  1.43it/s]\n",
      " 46%|████▌     | 979/2129 [09:24<15:14,  1.26it/s]\n",
      " 46%|████▌     | 980/2129 [09:25<16:11,  1.18it/s]\n",
      " 46%|████▌     | 981/2129 [09:26<14:05,  1.36it/s]\n",
      " 46%|████▌     | 982/2129 [09:26<12:45,  1.50it/s]\n",
      " 46%|████▌     | 983/2129 [09:27<14:49,  1.29it/s]\n",
      " 46%|████▌     | 984/2129 [09:28<13:00,  1.47it/s]\n",
      " 46%|████▋     | 985/2129 [09:28<14:11,  1.34it/s]\n",
      " 46%|████▋     | 986/2129 [09:29<11:16,  1.69it/s]\n",
      " 46%|████▋     | 987/2129 [09:29<09:08,  2.08it/s]\n",
      " 46%|████▋     | 988/2129 [09:29<08:44,  2.18it/s]\n",
      " 46%|████▋     | 989/2129 [09:30<09:09,  2.07it/s]\n",
      " 47%|████▋     | 991/2129 [09:31<09:24,  2.01it/s]\n",
      " 47%|████▋     | 992/2129 [09:31<07:41,  2.47it/s]\n",
      " 47%|████▋     | 993/2129 [09:32<10:40,  1.77it/s]\n",
      " 47%|████▋     | 995/2129 [09:32<08:34,  2.20it/s]\n",
      " 47%|████▋     | 997/2129 [09:34<09:08,  2.07it/s]\n",
      " 47%|████▋     | 998/2129 [09:34<09:07,  2.06it/s]\n",
      " 47%|████▋     | 999/2129 [09:35<12:21,  1.52it/s]\n",
      " 47%|████▋     | 1000/2129 [09:35<10:42,  1.76it/s]\n",
      " 47%|████▋     | 1001/2129 [09:36<09:59,  1.88it/s]\n",
      " 47%|████▋     | 1002/2129 [09:36<09:28,  1.98it/s]\n",
      " 47%|████▋     | 1003/2129 [09:37<12:42,  1.48it/s]\n",
      " 47%|████▋     | 1004/2129 [09:38<13:38,  1.38it/s]\n",
      " 47%|████▋     | 1005/2129 [09:39<12:11,  1.54it/s]\n",
      " 47%|████▋     | 1006/2129 [09:39<10:56,  1.71it/s]\n",
      " 47%|████▋     | 1007/2129 [09:40<12:21,  1.51it/s]\n",
      " 47%|████▋     | 1008/2129 [09:40<11:07,  1.68it/s]\n",
      " 47%|████▋     | 1009/2129 [09:41<13:22,  1.39it/s]\n",
      " 47%|████▋     | 1011/2129 [09:42<10:14,  1.82it/s]\n",
      " 48%|████▊     | 1012/2129 [09:42<09:30,  1.96it/s]\n",
      " 48%|████▊     | 1013/2129 [09:43<11:22,  1.64it/s]\n",
      " 48%|████▊     | 1014/2129 [09:44<10:52,  1.71it/s]\n",
      " 48%|████▊     | 1015/2129 [09:44<09:18,  2.00it/s]\n",
      " 48%|████▊     | 1017/2129 [09:44<06:47,  2.73it/s]\n",
      " 48%|████▊     | 1018/2129 [09:45<10:54,  1.70it/s]\n",
      " 48%|████▊     | 1019/2129 [09:46<13:30,  1.37it/s]\n",
      " 48%|████▊     | 1020/2129 [09:47<14:30,  1.27it/s]\n",
      " 48%|████▊     | 1021/2129 [09:47<11:55,  1.55it/s]\n",
      " 48%|████▊     | 1022/2129 [09:48<09:24,  1.96it/s]\n",
      " 48%|████▊     | 1023/2129 [09:48<07:21,  2.50it/s]\n",
      " 48%|████▊     | 1024/2129 [09:48<07:51,  2.34it/s]\n",
      " 48%|████▊     | 1025/2129 [09:48<06:28,  2.84it/s]\n",
      " 48%|████▊     | 1026/2129 [09:49<05:32,  3.31it/s]\n",
      " 48%|████▊     | 1027/2129 [09:50<09:37,  1.91it/s]\n",
      " 48%|████▊     | 1028/2129 [09:50<11:25,  1.61it/s]\n",
      " 48%|████▊     | 1029/2129 [09:51<13:32,  1.35it/s]\n",
      " 48%|████▊     | 1030/2129 [09:52<10:44,  1.70it/s]\n",
      " 48%|████▊     | 1031/2129 [09:52<08:19,  2.20it/s]\n",
      " 48%|████▊     | 1032/2129 [09:52<07:26,  2.46it/s]\n",
      " 49%|████▊     | 1033/2129 [09:53<11:17,  1.62it/s]\n",
      " 49%|████▊     | 1035/2129 [09:54<08:35,  2.12it/s]\n",
      " 49%|████▊     | 1036/2129 [09:54<10:37,  1.72it/s]\n",
      " 49%|████▊     | 1037/2129 [09:55<13:10,  1.38it/s]\n",
      " 49%|████▉     | 1038/2129 [09:56<14:39,  1.24it/s]\n",
      " 49%|████▉     | 1039/2129 [09:57<13:14,  1.37it/s]\n",
      " 49%|████▉     | 1040/2129 [09:57<12:13,  1.49it/s]\n",
      " 49%|████▉     | 1041/2129 [09:58<11:18,  1.60it/s]\n",
      " 49%|████▉     | 1042/2129 [09:59<13:14,  1.37it/s]\n",
      " 49%|████▉     | 1043/2129 [09:59<10:09,  1.78it/s]\n",
      " 49%|████▉     | 1044/2129 [10:00<09:29,  1.91it/s]\n",
      " 49%|████▉     | 1045/2129 [10:00<09:14,  1.96it/s]\n",
      " 49%|████▉     | 1046/2129 [10:01<09:30,  1.90it/s]\n",
      " 49%|████▉     | 1047/2129 [10:01<10:12,  1.77it/s]\n",
      " 49%|████▉     | 1048/2129 [10:02<08:53,  2.03it/s]\n",
      " 49%|████▉     | 1049/2129 [10:03<11:39,  1.54it/s]\n",
      " 49%|████▉     | 1050/2129 [10:03<12:43,  1.41it/s]\n",
      " 49%|████▉     | 1051/2129 [10:04<11:40,  1.54it/s]\n",
      " 49%|████▉     | 1052/2129 [10:05<13:41,  1.31it/s]\n",
      " 49%|████▉     | 1053/2129 [10:05<11:55,  1.50it/s]\n",
      " 50%|████▉     | 1054/2129 [10:06<13:38,  1.31it/s]\n",
      " 50%|████▉     | 1055/2129 [10:08<15:24,  1.16it/s]\n",
      " 50%|████▉     | 1056/2129 [10:08<13:54,  1.29it/s]\n",
      " 50%|████▉     | 1058/2129 [10:09<12:03,  1.48it/s]\n",
      " 50%|████▉     | 1060/2129 [10:10<09:58,  1.79it/s]\n",
      " 50%|████▉     | 1061/2129 [10:11<12:47,  1.39it/s]\n",
      " 50%|████▉     | 1062/2129 [10:11<11:47,  1.51it/s]\n",
      " 50%|████▉     | 1063/2129 [10:12<11:11,  1.59it/s]\n",
      " 50%|████▉     | 1064/2129 [10:12<09:29,  1.87it/s]\n",
      " 50%|█████     | 1065/2129 [10:13<09:59,  1.77it/s]\n",
      " 50%|█████     | 1067/2129 [10:14<09:59,  1.77it/s]\n",
      " 50%|█████     | 1068/2129 [10:14<07:54,  2.24it/s]\n",
      " 50%|█████     | 1069/2129 [10:14<06:39,  2.65it/s]\n",
      " 50%|█████     | 1070/2129 [10:15<07:33,  2.33it/s]\n",
      " 50%|█████     | 1071/2129 [10:16<10:47,  1.63it/s]\n",
      " 50%|█████     | 1072/2129 [10:17<13:08,  1.34it/s]\n",
      " 50%|█████     | 1073/2129 [10:17<12:03,  1.46it/s]\n",
      " 50%|█████     | 1074/2129 [10:18<09:31,  1.85it/s]\n",
      " 50%|█████     | 1075/2129 [10:19<11:53,  1.48it/s]\n",
      " 51%|█████     | 1076/2129 [10:20<13:43,  1.28it/s]\n",
      " 51%|█████     | 1077/2129 [10:20<12:30,  1.40it/s]\n",
      " 51%|█████     | 1078/2129 [10:21<11:11,  1.57it/s]\n",
      " 51%|█████     | 1079/2129 [10:21<11:21,  1.54it/s]\n",
      " 51%|█████     | 1080/2129 [10:22<10:17,  1.70it/s]\n",
      " 51%|█████     | 1081/2129 [10:22<08:45,  1.99it/s]\n",
      " 51%|█████     | 1082/2129 [10:23<09:47,  1.78it/s]\n",
      " 51%|█████     | 1083/2129 [10:24<12:20,  1.41it/s]\n",
      " 51%|█████     | 1084/2129 [10:25<12:52,  1.35it/s]\n",
      " 51%|█████     | 1085/2129 [10:25<11:26,  1.52it/s]\n",
      " 51%|█████     | 1086/2129 [10:25<09:09,  1.90it/s]\n",
      " 51%|█████     | 1087/2129 [10:25<07:15,  2.40it/s]\n",
      " 51%|█████     | 1088/2129 [10:26<06:17,  2.76it/s]\n",
      " 51%|█████     | 1089/2129 [10:26<05:35,  3.10it/s]\n",
      " 51%|█████     | 1090/2129 [10:27<09:22,  1.85it/s]\n",
      " 51%|█████     | 1091/2129 [10:27<07:37,  2.27it/s]\n",
      " 51%|█████▏    | 1092/2129 [10:27<06:29,  2.67it/s]\n",
      " 51%|█████▏    | 1093/2129 [10:28<07:19,  2.36it/s]\n",
      " 51%|█████▏    | 1094/2129 [10:29<10:43,  1.61it/s]\n",
      " 51%|█████▏    | 1095/2129 [10:29<08:01,  2.15it/s]\n",
      " 51%|█████▏    | 1096/2129 [10:30<07:49,  2.20it/s]\n",
      " 52%|█████▏    | 1097/2129 [10:30<10:16,  1.67it/s]\n",
      " 52%|█████▏    | 1098/2129 [10:31<09:00,  1.91it/s]\n",
      " 52%|█████▏    | 1099/2129 [10:32<10:38,  1.61it/s]\n",
      " 52%|█████▏    | 1100/2129 [10:32<10:20,  1.66it/s]\n",
      " 52%|█████▏    | 1102/2129 [10:33<09:25,  1.82it/s]\n",
      " 52%|█████▏    | 1103/2129 [10:33<08:00,  2.14it/s]\n",
      " 52%|█████▏    | 1104/2129 [10:34<10:58,  1.56it/s]\n",
      " 52%|█████▏    | 1105/2129 [10:35<12:41,  1.34it/s]\n"
     ]
    },
    {
     "name": "stderr",
     "output_type": "stream",
     "text": [
      " 52%|█████▏    | 1106/2129 [10:36<11:48,  1.44it/s]\n",
      " 52%|█████▏    | 1107/2129 [10:37<13:52,  1.23it/s]\n",
      " 52%|█████▏    | 1108/2129 [10:38<14:44,  1.15it/s]\n",
      " 52%|█████▏    | 1109/2129 [10:39<15:35,  1.09it/s]\n",
      " 52%|█████▏    | 1110/2129 [10:40<15:53,  1.07it/s]\n",
      " 52%|█████▏    | 1111/2129 [10:40<12:37,  1.34it/s]\n",
      " 52%|█████▏    | 1112/2129 [10:41<11:14,  1.51it/s]\n",
      " 52%|█████▏    | 1113/2129 [10:41<09:04,  1.86it/s]\n",
      " 52%|█████▏    | 1114/2129 [10:41<07:29,  2.26it/s]\n",
      " 52%|█████▏    | 1115/2129 [10:42<08:00,  2.11it/s]\n",
      " 52%|█████▏    | 1116/2129 [10:43<09:21,  1.80it/s]\n",
      " 52%|█████▏    | 1117/2129 [10:43<08:17,  2.03it/s]\n",
      " 53%|█████▎    | 1118/2129 [10:44<11:11,  1.51it/s]\n",
      " 53%|█████▎    | 1119/2129 [10:45<13:22,  1.26it/s]\n",
      " 53%|█████▎    | 1120/2129 [10:46<12:32,  1.34it/s]\n",
      " 53%|█████▎    | 1121/2129 [10:47<14:09,  1.19it/s]\n",
      " 53%|█████▎    | 1122/2129 [10:47<10:44,  1.56it/s]\n",
      " 53%|█████▎    | 1123/2129 [10:48<12:30,  1.34it/s]\n",
      " 53%|█████▎    | 1124/2129 [10:49<12:22,  1.35it/s]\n",
      " 53%|█████▎    | 1126/2129 [10:50<11:18,  1.48it/s]\n",
      " 53%|█████▎    | 1127/2129 [10:51<12:56,  1.29it/s]\n",
      " 53%|█████▎    | 1128/2129 [10:52<14:32,  1.15it/s]\n",
      " 53%|█████▎    | 1130/2129 [10:53<12:55,  1.29it/s]\n",
      " 53%|█████▎    | 1132/2129 [10:54<10:19,  1.61it/s]\n",
      " 53%|█████▎    | 1133/2129 [10:54<10:48,  1.54it/s]\n",
      " 53%|█████▎    | 1134/2129 [10:55<12:21,  1.34it/s]\n",
      " 53%|█████▎    | 1135/2129 [10:55<10:11,  1.63it/s]\n",
      " 53%|█████▎    | 1136/2129 [10:56<11:49,  1.40it/s]\n",
      " 53%|█████▎    | 1137/2129 [10:57<09:20,  1.77it/s]\n",
      " 53%|█████▎    | 1139/2129 [10:58<09:35,  1.72it/s]\n",
      " 54%|█████▎    | 1140/2129 [10:59<12:45,  1.29it/s]\n",
      " 54%|█████▎    | 1142/2129 [11:00<11:53,  1.38it/s]\n",
      " 54%|█████▎    | 1143/2129 [11:01<12:30,  1.31it/s]\n",
      " 54%|█████▍    | 1145/2129 [11:02<10:49,  1.51it/s]\n",
      " 54%|█████▍    | 1146/2129 [11:03<12:27,  1.31it/s]\n",
      " 54%|█████▍    | 1147/2129 [11:03<10:25,  1.57it/s]\n",
      " 54%|█████▍    | 1148/2129 [11:04<11:58,  1.37it/s]\n",
      " 54%|█████▍    | 1149/2129 [11:05<13:40,  1.19it/s]\n",
      " 54%|█████▍    | 1150/2129 [11:06<12:03,  1.35it/s]\n",
      " 54%|█████▍    | 1151/2129 [11:06<08:57,  1.82it/s]\n",
      " 54%|█████▍    | 1153/2129 [11:06<06:56,  2.34it/s]\n",
      " 54%|█████▍    | 1154/2129 [11:07<09:49,  1.65it/s]\n",
      " 54%|█████▍    | 1155/2129 [11:08<12:27,  1.30it/s]\n",
      " 54%|█████▍    | 1156/2129 [11:09<09:36,  1.69it/s]\n",
      " 54%|█████▍    | 1157/2129 [11:09<09:44,  1.66it/s]\n",
      " 54%|█████▍    | 1158/2129 [11:10<09:08,  1.77it/s]\n",
      " 54%|█████▍    | 1159/2129 [11:11<11:14,  1.44it/s]\n",
      " 54%|█████▍    | 1160/2129 [11:12<13:21,  1.21it/s]\n",
      " 55%|█████▍    | 1161/2129 [11:13<14:47,  1.09it/s]\n",
      " 55%|█████▍    | 1162/2129 [11:14<13:14,  1.22it/s]\n",
      " 55%|█████▍    | 1163/2129 [11:14<09:51,  1.63it/s]\n",
      " 55%|█████▍    | 1164/2129 [11:15<11:55,  1.35it/s]\n",
      " 55%|█████▍    | 1165/2129 [11:15<09:30,  1.69it/s]\n",
      " 55%|█████▍    | 1166/2129 [11:15<08:37,  1.86it/s]\n",
      " 55%|█████▍    | 1167/2129 [11:16<07:10,  2.23it/s]\n",
      " 55%|█████▍    | 1168/2129 [11:17<10:05,  1.59it/s]\n",
      " 55%|█████▍    | 1169/2129 [11:18<11:48,  1.35it/s]\n",
      " 55%|█████▍    | 1170/2129 [11:18<10:26,  1.53it/s]\n",
      " 55%|█████▌    | 1171/2129 [11:18<07:48,  2.04it/s]\n",
      " 55%|█████▌    | 1172/2129 [11:18<06:17,  2.54it/s]\n",
      " 55%|█████▌    | 1174/2129 [11:20<07:11,  2.21it/s]\n",
      " 55%|█████▌    | 1175/2129 [11:20<07:45,  2.05it/s]\n",
      " 55%|█████▌    | 1176/2129 [11:20<06:38,  2.39it/s]\n",
      " 55%|█████▌    | 1177/2129 [11:22<10:23,  1.53it/s]\n",
      " 55%|█████▌    | 1178/2129 [11:22<09:31,  1.66it/s]\n",
      " 55%|█████▌    | 1179/2129 [11:22<07:58,  1.99it/s]\n",
      " 55%|█████▌    | 1180/2129 [11:23<08:55,  1.77it/s]\n",
      " 56%|█████▌    | 1182/2129 [11:23<06:56,  2.27it/s]\n",
      " 56%|█████▌    | 1183/2129 [11:24<06:20,  2.49it/s]\n",
      " 56%|█████▌    | 1184/2129 [11:25<09:59,  1.58it/s]\n",
      " 56%|█████▌    | 1185/2129 [11:26<10:45,  1.46it/s]\n",
      " 56%|█████▌    | 1186/2129 [11:26<09:03,  1.74it/s]\n",
      " 56%|█████▌    | 1188/2129 [11:27<09:10,  1.71it/s]\n",
      " 56%|█████▌    | 1189/2129 [11:28<11:51,  1.32it/s]\n",
      " 56%|█████▌    | 1190/2129 [11:30<13:31,  1.16it/s]\n",
      " 56%|█████▌    | 1191/2129 [11:30<11:35,  1.35it/s]\n",
      " 56%|█████▌    | 1192/2129 [11:31<12:49,  1.22it/s]\n",
      " 56%|█████▌    | 1193/2129 [11:32<13:35,  1.15it/s]\n",
      " 56%|█████▌    | 1194/2129 [11:33<12:18,  1.27it/s]\n",
      " 56%|█████▌    | 1195/2129 [11:33<09:32,  1.63it/s]\n",
      " 56%|█████▌    | 1196/2129 [11:34<12:03,  1.29it/s]\n",
      " 56%|█████▌    | 1197/2129 [11:35<11:16,  1.38it/s]\n",
      " 56%|█████▋    | 1198/2129 [11:35<09:12,  1.69it/s]\n",
      " 56%|█████▋    | 1199/2129 [11:36<09:43,  1.59it/s]\n",
      " 56%|█████▋    | 1200/2129 [11:36<09:41,  1.60it/s]\n",
      " 56%|█████▋    | 1201/2129 [11:37<11:13,  1.38it/s]\n",
      " 56%|█████▋    | 1202/2129 [11:37<08:45,  1.76it/s]\n",
      " 57%|█████▋    | 1203/2129 [11:38<07:18,  2.11it/s]\n",
      " 57%|█████▋    | 1205/2129 [11:38<06:00,  2.56it/s]\n",
      " 57%|█████▋    | 1206/2129 [11:39<07:46,  1.98it/s]\n",
      " 57%|█████▋    | 1207/2129 [11:40<09:57,  1.54it/s]\n",
      " 57%|█████▋    | 1208/2129 [11:40<10:01,  1.53it/s]\n",
      " 57%|█████▋    | 1209/2129 [11:42<12:22,  1.24it/s]\n",
      " 57%|█████▋    | 1210/2129 [11:43<13:41,  1.12it/s]\n",
      " 57%|█████▋    | 1211/2129 [11:43<10:27,  1.46it/s]\n",
      " 57%|█████▋    | 1212/2129 [11:43<10:02,  1.52it/s]\n",
      " 57%|█████▋    | 1213/2129 [11:44<08:00,  1.91it/s]\n",
      " 57%|█████▋    | 1214/2129 [11:45<10:39,  1.43it/s]\n",
      " 57%|█████▋    | 1215/2129 [11:46<11:20,  1.34it/s]\n",
      " 57%|█████▋    | 1216/2129 [11:46<08:52,  1.72it/s]\n",
      " 57%|█████▋    | 1217/2129 [11:47<09:22,  1.62it/s]\n",
      " 57%|█████▋    | 1218/2129 [11:47<10:03,  1.51it/s]\n",
      " 57%|█████▋    | 1219/2129 [11:48<08:24,  1.80it/s]\n",
      " 57%|█████▋    | 1221/2129 [11:49<08:05,  1.87it/s]\n",
      " 57%|█████▋    | 1222/2129 [11:50<10:45,  1.41it/s]\n",
      " 57%|█████▋    | 1223/2129 [11:50<10:34,  1.43it/s]\n",
      " 57%|█████▋    | 1224/2129 [11:51<09:56,  1.52it/s]\n",
      " 58%|█████▊    | 1225/2129 [11:51<07:37,  1.98it/s]\n",
      " 58%|█████▊    | 1226/2129 [11:52<08:49,  1.71it/s]\n",
      " 58%|█████▊    | 1227/2129 [11:52<06:53,  2.18it/s]\n",
      " 58%|█████▊    | 1228/2129 [11:52<05:53,  2.55it/s]\n",
      " 58%|█████▊    | 1229/2129 [11:52<04:36,  3.25it/s]\n",
      " 58%|█████▊    | 1230/2129 [11:53<04:59,  3.01it/s]\n",
      " 58%|█████▊    | 1231/2129 [11:54<08:54,  1.68it/s]\n",
      " 58%|█████▊    | 1232/2129 [11:55<10:14,  1.46it/s]\n",
      " 58%|█████▊    | 1233/2129 [11:56<11:58,  1.25it/s]\n",
      " 58%|█████▊    | 1234/2129 [11:57<11:38,  1.28it/s]\n",
      " 58%|█████▊    | 1235/2129 [11:58<13:24,  1.11it/s]\n",
      " 58%|█████▊    | 1236/2129 [11:58<11:55,  1.25it/s]\n",
      " 58%|█████▊    | 1238/2129 [12:00<11:10,  1.33it/s]\n",
      " 58%|█████▊    | 1239/2129 [12:00<09:02,  1.64it/s]\n",
      " 58%|█████▊    | 1240/2129 [12:00<07:20,  2.02it/s]\n",
      " 58%|█████▊    | 1241/2129 [12:01<07:32,  1.96it/s]\n",
      " 58%|█████▊    | 1242/2129 [12:01<06:02,  2.44it/s]\n",
      " 58%|█████▊    | 1243/2129 [12:02<08:21,  1.77it/s]\n",
      " 58%|█████▊    | 1244/2129 [12:02<08:09,  1.81it/s]\n",
      " 58%|█████▊    | 1245/2129 [12:03<08:10,  1.80it/s]\n",
      " 59%|█████▊    | 1246/2129 [12:04<08:51,  1.66it/s]\n",
      " 59%|█████▊    | 1247/2129 [12:05<11:14,  1.31it/s]\n",
      " 59%|█████▊    | 1248/2129 [12:06<11:12,  1.31it/s]\n",
      " 59%|█████▊    | 1249/2129 [12:06<08:40,  1.69it/s]\n",
      " 59%|█████▉    | 1251/2129 [12:06<06:37,  2.21it/s]\n",
      " 59%|█████▉    | 1252/2129 [12:06<05:39,  2.58it/s]\n",
      " 59%|█████▉    | 1253/2129 [12:07<09:02,  1.61it/s]\n",
      " 59%|█████▉    | 1254/2129 [12:09<11:18,  1.29it/s]\n",
      " 59%|█████▉    | 1255/2129 [12:09<09:03,  1.61it/s]\n",
      " 59%|█████▉    | 1256/2129 [12:09<08:58,  1.62it/s]\n",
      " 59%|█████▉    | 1257/2129 [12:09<06:45,  2.15it/s]\n",
      " 59%|█████▉    | 1258/2129 [12:10<05:51,  2.48it/s]\n",
      " 59%|█████▉    | 1259/2129 [12:11<08:58,  1.62it/s]\n",
      " 59%|█████▉    | 1260/2129 [12:11<08:54,  1.63it/s]\n",
      " 59%|█████▉    | 1261/2129 [12:13<10:49,  1.34it/s]\n",
      " 59%|█████▉    | 1262/2129 [12:13<10:21,  1.39it/s]\n",
      " 59%|█████▉    | 1263/2129 [12:14<09:30,  1.52it/s]\n",
      " 59%|█████▉    | 1264/2129 [12:14<08:14,  1.75it/s]\n",
      " 59%|█████▉    | 1265/2129 [12:15<10:41,  1.35it/s]\n",
      " 59%|█████▉    | 1266/2129 [12:15<08:35,  1.67it/s]\n",
      " 60%|█████▉    | 1267/2129 [12:16<09:21,  1.54it/s]\n",
      " 60%|█████▉    | 1268/2129 [12:17<08:50,  1.62it/s]\n",
      " 60%|█████▉    | 1269/2129 [12:18<11:05,  1.29it/s]\n",
      " 60%|█████▉    | 1270/2129 [12:19<12:21,  1.16it/s]\n",
      " 60%|█████▉    | 1271/2129 [12:19<09:06,  1.57it/s]\n",
      " 60%|█████▉    | 1272/2129 [12:20<09:08,  1.56it/s]\n",
      " 60%|█████▉    | 1273/2129 [12:20<09:01,  1.58it/s]\n",
      " 60%|█████▉    | 1274/2129 [12:21<09:04,  1.57it/s]\n",
      " 60%|█████▉    | 1276/2129 [12:21<07:14,  1.96it/s]\n",
      " 60%|█████▉    | 1277/2129 [12:23<09:36,  1.48it/s]\n"
     ]
    },
    {
     "name": "stderr",
     "output_type": "stream",
     "text": [
      " 60%|██████    | 1278/2129 [12:23<08:06,  1.75it/s]\n",
      " 60%|██████    | 1279/2129 [12:23<06:44,  2.10it/s]\n",
      " 60%|██████    | 1280/2129 [12:23<06:06,  2.32it/s]\n",
      " 60%|██████    | 1281/2129 [12:24<06:20,  2.23it/s]\n",
      " 60%|██████    | 1283/2129 [12:25<06:59,  2.01it/s]\n",
      " 60%|██████    | 1285/2129 [12:26<06:20,  2.22it/s]\n",
      " 60%|██████    | 1286/2129 [12:27<07:50,  1.79it/s]\n",
      " 60%|██████    | 1287/2129 [12:28<10:17,  1.36it/s]\n",
      " 60%|██████    | 1288/2129 [12:28<09:38,  1.45it/s]\n",
      " 61%|██████    | 1289/2129 [12:29<10:31,  1.33it/s]\n",
      " 61%|██████    | 1290/2129 [12:30<09:38,  1.45it/s]\n",
      " 61%|██████    | 1291/2129 [12:31<11:09,  1.25it/s]\n",
      " 61%|██████    | 1293/2129 [12:31<08:19,  1.67it/s]\n",
      " 61%|██████    | 1294/2129 [12:32<08:07,  1.71it/s]\n",
      " 61%|██████    | 1295/2129 [12:32<08:29,  1.64it/s]\n",
      " 61%|██████    | 1296/2129 [12:33<09:47,  1.42it/s]\n",
      " 61%|██████    | 1297/2129 [12:33<07:23,  1.88it/s]\n",
      " 61%|██████    | 1298/2129 [12:34<09:24,  1.47it/s]\n",
      " 61%|██████    | 1299/2129 [12:35<09:09,  1.51it/s]\n",
      " 61%|██████    | 1300/2129 [12:35<07:03,  1.96it/s]\n",
      " 61%|██████    | 1301/2129 [12:36<09:27,  1.46it/s]\n",
      " 61%|██████    | 1302/2129 [12:37<07:37,  1.81it/s]\n",
      " 61%|██████    | 1303/2129 [12:37<09:14,  1.49it/s]\n",
      " 61%|██████    | 1304/2129 [12:38<07:18,  1.88it/s]\n",
      " 61%|██████▏   | 1305/2129 [12:39<09:02,  1.52it/s]\n",
      " 61%|██████▏   | 1306/2129 [12:39<07:02,  1.95it/s]\n",
      " 61%|██████▏   | 1307/2129 [12:40<09:29,  1.44it/s]\n",
      " 61%|██████▏   | 1308/2129 [12:41<11:01,  1.24it/s]\n",
      " 61%|██████▏   | 1309/2129 [12:42<11:22,  1.20it/s]\n",
      " 62%|██████▏   | 1310/2129 [12:42<09:01,  1.51it/s]\n",
      " 62%|██████▏   | 1311/2129 [12:43<08:25,  1.62it/s]\n",
      " 62%|██████▏   | 1312/2129 [12:43<08:27,  1.61it/s]\n",
      " 62%|██████▏   | 1313/2129 [12:44<08:05,  1.68it/s]\n",
      " 62%|██████▏   | 1314/2129 [12:44<06:43,  2.02it/s]\n",
      " 62%|██████▏   | 1315/2129 [12:45<08:51,  1.53it/s]\n",
      " 62%|██████▏   | 1316/2129 [12:45<06:42,  2.02it/s]\n",
      " 62%|██████▏   | 1317/2129 [12:46<07:00,  1.93it/s]\n",
      " 62%|██████▏   | 1318/2129 [12:46<07:18,  1.85it/s]\n",
      " 62%|██████▏   | 1319/2129 [12:48<09:40,  1.40it/s]\n",
      " 62%|██████▏   | 1320/2129 [12:48<07:37,  1.77it/s]\n",
      " 62%|██████▏   | 1321/2129 [12:49<08:55,  1.51it/s]\n",
      " 62%|██████▏   | 1322/2129 [12:50<11:03,  1.22it/s]\n",
      " 62%|██████▏   | 1323/2129 [12:50<09:08,  1.47it/s]\n",
      " 62%|██████▏   | 1324/2129 [12:50<07:28,  1.80it/s]\n",
      " 62%|██████▏   | 1325/2129 [12:51<06:32,  2.05it/s]\n",
      " 62%|██████▏   | 1326/2129 [12:51<06:22,  2.10it/s]\n",
      " 62%|██████▏   | 1327/2129 [12:52<06:16,  2.13it/s]\n",
      " 62%|██████▏   | 1328/2129 [12:53<08:36,  1.55it/s]\n",
      " 62%|██████▏   | 1330/2129 [12:54<08:27,  1.58it/s]\n",
      " 63%|██████▎   | 1331/2129 [12:55<09:49,  1.35it/s]\n",
      " 63%|██████▎   | 1332/2129 [12:56<09:35,  1.39it/s]\n",
      " 63%|██████▎   | 1334/2129 [12:57<08:51,  1.49it/s]\n",
      " 63%|██████▎   | 1335/2129 [12:57<08:27,  1.57it/s]\n",
      " 63%|██████▎   | 1336/2129 [12:58<07:01,  1.88it/s]\n",
      " 63%|██████▎   | 1337/2129 [12:59<09:22,  1.41it/s]\n",
      " 63%|██████▎   | 1338/2129 [13:00<10:59,  1.20it/s]\n",
      " 63%|██████▎   | 1339/2129 [13:00<08:36,  1.53it/s]\n",
      " 63%|██████▎   | 1340/2129 [13:01<10:24,  1.26it/s]\n",
      " 63%|██████▎   | 1341/2129 [13:01<08:33,  1.54it/s]\n",
      " 63%|██████▎   | 1342/2129 [13:02<08:08,  1.61it/s]\n",
      " 63%|██████▎   | 1343/2129 [13:03<08:05,  1.62it/s]\n",
      " 63%|██████▎   | 1346/2129 [13:03<06:24,  2.04it/s]\n",
      " 63%|██████▎   | 1348/2129 [13:04<05:04,  2.56it/s]\n",
      " 63%|██████▎   | 1349/2129 [13:05<07:43,  1.68it/s]\n",
      " 63%|██████▎   | 1351/2129 [13:06<07:45,  1.67it/s]\n",
      " 64%|██████▎   | 1352/2129 [13:07<09:39,  1.34it/s]\n",
      " 64%|██████▎   | 1353/2129 [13:08<11:14,  1.15it/s]\n",
      " 64%|██████▎   | 1354/2129 [13:08<09:08,  1.41it/s]\n",
      " 64%|██████▎   | 1355/2129 [13:09<07:42,  1.67it/s]\n",
      " 64%|██████▎   | 1356/2129 [13:10<09:36,  1.34it/s]\n",
      " 64%|██████▎   | 1357/2129 [13:10<07:25,  1.73it/s]\n",
      " 64%|██████▍   | 1358/2129 [13:11<07:34,  1.70it/s]\n",
      " 64%|██████▍   | 1359/2129 [13:11<05:49,  2.21it/s]\n",
      " 64%|██████▍   | 1360/2129 [13:11<05:18,  2.41it/s]\n",
      " 64%|██████▍   | 1361/2129 [13:11<04:32,  2.82it/s]\n",
      " 64%|██████▍   | 1362/2129 [13:12<04:59,  2.56it/s]\n",
      " 64%|██████▍   | 1363/2129 [13:12<05:41,  2.24it/s]\n",
      " 64%|██████▍   | 1365/2129 [13:13<04:35,  2.77it/s]\n",
      " 64%|██████▍   | 1366/2129 [13:13<05:31,  2.30it/s]\n",
      " 64%|██████▍   | 1367/2129 [13:13<04:44,  2.68it/s]\n",
      " 64%|██████▍   | 1368/2129 [13:14<04:23,  2.89it/s]\n",
      " 64%|██████▍   | 1369/2129 [13:14<03:51,  3.28it/s]\n",
      " 64%|██████▍   | 1370/2129 [13:15<07:05,  1.78it/s]\n",
      " 64%|██████▍   | 1371/2129 [13:15<06:02,  2.09it/s]\n",
      " 64%|██████▍   | 1372/2129 [13:16<04:39,  2.71it/s]\n",
      " 64%|██████▍   | 1373/2129 [13:16<05:29,  2.29it/s]\n",
      " 65%|██████▍   | 1374/2129 [13:17<06:48,  1.85it/s]\n",
      " 65%|██████▍   | 1376/2129 [13:18<06:54,  1.82it/s]\n",
      " 65%|██████▍   | 1377/2129 [13:19<08:21,  1.50it/s]\n",
      " 65%|██████▍   | 1378/2129 [13:20<08:12,  1.53it/s]\n",
      " 65%|██████▍   | 1379/2129 [13:20<06:29,  1.93it/s]\n",
      " 65%|██████▍   | 1380/2129 [13:20<06:32,  1.91it/s]\n",
      " 65%|██████▍   | 1381/2129 [13:20<05:03,  2.47it/s]\n",
      " 65%|██████▍   | 1382/2129 [13:21<05:31,  2.25it/s]\n",
      " 65%|██████▍   | 1383/2129 [13:22<08:08,  1.53it/s]\n",
      " 65%|██████▌   | 1384/2129 [13:23<07:51,  1.58it/s]\n",
      " 65%|██████▌   | 1385/2129 [13:23<08:03,  1.54it/s]\n",
      " 65%|██████▌   | 1386/2129 [13:24<07:54,  1.57it/s]\n",
      " 65%|██████▌   | 1388/2129 [13:25<07:47,  1.58it/s]\n",
      " 65%|██████▌   | 1389/2129 [13:26<08:20,  1.48it/s]\n",
      " 65%|██████▌   | 1390/2129 [13:27<07:42,  1.60it/s]\n",
      " 65%|██████▌   | 1391/2129 [13:28<08:57,  1.37it/s]\n",
      " 65%|██████▌   | 1392/2129 [13:29<10:02,  1.22it/s]\n",
      " 65%|██████▌   | 1394/2129 [13:30<09:05,  1.35it/s]\n",
      " 66%|██████▌   | 1395/2129 [13:30<07:38,  1.60it/s]\n",
      " 66%|██████▌   | 1396/2129 [13:30<06:30,  1.88it/s]\n",
      " 66%|██████▌   | 1397/2129 [13:31<07:55,  1.54it/s]\n",
      " 66%|██████▌   | 1399/2129 [13:31<05:44,  2.12it/s]\n",
      " 66%|██████▌   | 1400/2129 [13:32<04:59,  2.43it/s]\n",
      " 66%|██████▌   | 1401/2129 [13:32<04:07,  2.94it/s]\n",
      " 66%|██████▌   | 1402/2129 [13:32<05:05,  2.38it/s]\n",
      " 66%|██████▌   | 1403/2129 [13:33<06:54,  1.75it/s]\n",
      " 66%|██████▌   | 1404/2129 [13:34<07:08,  1.69it/s]\n",
      " 66%|██████▌   | 1405/2129 [13:35<06:56,  1.74it/s]\n",
      " 66%|██████▌   | 1406/2129 [13:35<05:29,  2.20it/s]\n",
      " 66%|██████▌   | 1407/2129 [13:36<07:51,  1.53it/s]\n",
      " 66%|██████▌   | 1408/2129 [13:36<06:29,  1.85it/s]\n",
      " 66%|██████▌   | 1409/2129 [13:36<04:56,  2.43it/s]\n",
      " 66%|██████▌   | 1410/2129 [13:37<07:44,  1.55it/s]\n",
      " 66%|██████▋   | 1411/2129 [13:38<06:54,  1.73it/s]\n",
      " 66%|██████▋   | 1412/2129 [13:38<06:49,  1.75it/s]\n",
      " 66%|██████▋   | 1414/2129 [13:40<06:57,  1.71it/s]\n",
      " 66%|██████▋   | 1415/2129 [13:41<08:47,  1.35it/s]\n",
      " 67%|██████▋   | 1417/2129 [13:42<08:11,  1.45it/s]\n",
      " 67%|██████▋   | 1418/2129 [13:43<09:57,  1.19it/s]\n",
      " 67%|██████▋   | 1420/2129 [13:44<08:46,  1.35it/s]\n",
      " 67%|██████▋   | 1421/2129 [13:44<07:24,  1.59it/s]\n",
      " 67%|██████▋   | 1423/2129 [13:45<05:28,  2.15it/s]\n",
      " 67%|██████▋   | 1424/2129 [13:45<05:54,  1.99it/s]\n",
      " 67%|██████▋   | 1425/2129 [13:46<06:15,  1.88it/s]\n",
      " 67%|██████▋   | 1426/2129 [13:46<05:13,  2.24it/s]\n",
      " 67%|██████▋   | 1427/2129 [13:46<04:55,  2.38it/s]\n",
      " 67%|██████▋   | 1428/2129 [13:47<07:00,  1.67it/s]\n",
      " 67%|██████▋   | 1429/2129 [13:48<06:48,  1.71it/s]\n",
      " 67%|██████▋   | 1430/2129 [13:49<08:45,  1.33it/s]\n",
      " 67%|██████▋   | 1431/2129 [13:50<09:46,  1.19it/s]\n",
      " 67%|██████▋   | 1432/2129 [13:50<07:54,  1.47it/s]\n",
      " 67%|██████▋   | 1433/2129 [13:51<07:24,  1.57it/s]\n",
      " 67%|██████▋   | 1434/2129 [13:51<05:35,  2.07it/s]\n",
      " 67%|██████▋   | 1436/2129 [13:51<04:16,  2.70it/s]\n",
      " 67%|██████▋   | 1437/2129 [13:52<06:24,  1.80it/s]\n",
      " 68%|██████▊   | 1438/2129 [13:53<05:13,  2.20it/s]\n",
      " 68%|██████▊   | 1439/2129 [13:53<04:38,  2.48it/s]\n",
      " 68%|██████▊   | 1441/2129 [13:54<05:17,  2.17it/s]\n",
      " 68%|██████▊   | 1442/2129 [13:54<04:53,  2.34it/s]\n",
      " 68%|██████▊   | 1443/2129 [13:55<04:19,  2.64it/s]\n",
      " 68%|██████▊   | 1445/2129 [13:55<03:51,  2.96it/s]\n",
      " 68%|██████▊   | 1446/2129 [13:56<06:36,  1.72it/s]\n",
      " 68%|██████▊   | 1447/2129 [13:57<07:39,  1.49it/s]\n",
      " 68%|██████▊   | 1448/2129 [13:57<06:02,  1.88it/s]\n",
      " 68%|██████▊   | 1449/2129 [13:58<05:00,  2.26it/s]\n",
      " 68%|██████▊   | 1450/2129 [13:58<04:15,  2.66it/s]\n",
      " 68%|██████▊   | 1451/2129 [13:59<06:43,  1.68it/s]\n",
      " 68%|██████▊   | 1452/2129 [14:00<06:48,  1.66it/s]\n",
      " 68%|██████▊   | 1454/2129 [14:00<05:40,  1.98it/s]\n",
      " 68%|██████▊   | 1455/2129 [14:00<05:11,  2.16it/s]\n",
      " 68%|██████▊   | 1456/2129 [14:02<07:11,  1.56it/s]\n"
     ]
    },
    {
     "name": "stderr",
     "output_type": "stream",
     "text": [
      " 68%|██████▊   | 1457/2129 [14:02<06:19,  1.77it/s]\n",
      " 68%|██████▊   | 1458/2129 [14:03<08:12,  1.36it/s]\n",
      " 69%|██████▊   | 1459/2129 [14:03<06:48,  1.64it/s]\n",
      " 69%|██████▊   | 1460/2129 [14:04<07:43,  1.44it/s]\n",
      " 69%|██████▊   | 1462/2129 [14:05<07:23,  1.50it/s]\n",
      " 69%|██████▊   | 1463/2129 [14:06<06:52,  1.61it/s]\n",
      " 69%|██████▉   | 1465/2129 [14:06<05:10,  2.14it/s]\n",
      " 69%|██████▉   | 1466/2129 [14:07<07:14,  1.52it/s]\n",
      " 69%|██████▉   | 1467/2129 [14:08<05:44,  1.92it/s]\n",
      " 69%|██████▉   | 1468/2129 [14:08<05:53,  1.87it/s]\n",
      " 69%|██████▉   | 1469/2129 [14:09<05:49,  1.89it/s]\n",
      " 69%|██████▉   | 1470/2129 [14:10<07:40,  1.43it/s]\n",
      " 69%|██████▉   | 1471/2129 [14:11<08:27,  1.30it/s]\n",
      " 69%|██████▉   | 1472/2129 [14:11<07:43,  1.42it/s]\n",
      " 69%|██████▉   | 1473/2129 [14:12<07:16,  1.50it/s]\n",
      " 69%|██████▉   | 1474/2129 [14:12<05:52,  1.86it/s]\n",
      " 69%|██████▉   | 1475/2129 [14:13<07:50,  1.39it/s]\n",
      " 69%|██████▉   | 1476/2129 [14:14<09:10,  1.19it/s]\n",
      " 69%|██████▉   | 1477/2129 [14:15<07:26,  1.46it/s]\n",
      " 69%|██████▉   | 1478/2129 [14:16<08:28,  1.28it/s]\n",
      " 69%|██████▉   | 1479/2129 [14:16<07:08,  1.52it/s]\n",
      " 70%|██████▉   | 1480/2129 [14:17<06:51,  1.58it/s]\n",
      " 70%|██████▉   | 1481/2129 [14:17<06:01,  1.79it/s]\n",
      " 70%|██████▉   | 1482/2129 [14:18<06:07,  1.76it/s]\n",
      " 70%|██████▉   | 1483/2129 [14:19<08:07,  1.33it/s]\n",
      " 70%|██████▉   | 1484/2129 [14:19<07:34,  1.42it/s]\n",
      " 70%|██████▉   | 1485/2129 [14:20<06:05,  1.76it/s]\n",
      " 70%|██████▉   | 1487/2129 [14:21<06:00,  1.78it/s]\n",
      " 70%|██████▉   | 1488/2129 [14:21<06:09,  1.74it/s]\n",
      " 70%|██████▉   | 1489/2129 [14:22<06:19,  1.69it/s]\n",
      " 70%|██████▉   | 1490/2129 [14:23<07:40,  1.39it/s]\n",
      " 70%|███████   | 1492/2129 [14:23<05:34,  1.90it/s]\n",
      " 70%|███████   | 1493/2129 [14:24<07:31,  1.41it/s]\n",
      " 70%|███████   | 1494/2129 [14:25<07:00,  1.51it/s]\n",
      " 70%|███████   | 1495/2129 [14:25<07:13,  1.46it/s]\n",
      " 70%|███████   | 1496/2129 [14:26<06:30,  1.62it/s]\n",
      " 70%|███████   | 1497/2129 [14:26<05:00,  2.10it/s]\n",
      " 70%|███████   | 1498/2129 [14:27<05:15,  2.00it/s]\n",
      " 70%|███████   | 1499/2129 [14:27<05:57,  1.76it/s]\n",
      " 70%|███████   | 1500/2129 [14:28<05:19,  1.97it/s]\n",
      " 71%|███████   | 1501/2129 [14:29<07:28,  1.40it/s]\n",
      " 71%|███████   | 1502/2129 [14:30<07:46,  1.35it/s]\n",
      " 71%|███████   | 1503/2129 [14:30<07:14,  1.44it/s]\n",
      " 71%|███████   | 1504/2129 [14:31<08:33,  1.22it/s]\n",
      " 71%|███████   | 1505/2129 [14:32<06:34,  1.58it/s]\n",
      " 71%|███████   | 1506/2129 [14:32<07:00,  1.48it/s]\n",
      " 71%|███████   | 1507/2129 [14:33<08:03,  1.29it/s]\n",
      " 71%|███████   | 1509/2129 [14:34<05:47,  1.78it/s]\n",
      " 71%|███████   | 1510/2129 [14:34<04:58,  2.08it/s]\n",
      " 71%|███████   | 1511/2129 [14:35<06:56,  1.48it/s]\n",
      " 71%|███████   | 1512/2129 [14:36<06:40,  1.54it/s]\n",
      " 71%|███████   | 1513/2129 [14:36<07:24,  1.39it/s]\n",
      " 71%|███████   | 1514/2129 [14:37<05:50,  1.76it/s]\n",
      " 71%|███████   | 1515/2129 [14:37<05:08,  1.99it/s]\n",
      " 71%|███████   | 1516/2129 [14:37<04:14,  2.41it/s]\n",
      " 71%|███████▏  | 1518/2129 [14:37<03:08,  3.24it/s]\n",
      " 71%|███████▏  | 1519/2129 [14:38<05:37,  1.81it/s]\n",
      " 71%|███████▏  | 1520/2129 [14:39<04:39,  2.18it/s]\n",
      " 71%|███████▏  | 1521/2129 [14:39<04:11,  2.42it/s]\n",
      " 71%|███████▏  | 1522/2129 [14:39<04:25,  2.28it/s]\n",
      " 72%|███████▏  | 1523/2129 [14:41<06:27,  1.56it/s]\n",
      " 72%|███████▏  | 1524/2129 [14:42<07:43,  1.30it/s]\n",
      " 72%|███████▏  | 1525/2129 [14:42<07:33,  1.33it/s]\n",
      " 72%|███████▏  | 1526/2129 [14:43<08:14,  1.22it/s]\n",
      " 72%|███████▏  | 1528/2129 [14:44<06:11,  1.62it/s]\n",
      " 72%|███████▏  | 1530/2129 [14:44<04:40,  2.14it/s]\n",
      " 72%|███████▏  | 1531/2129 [14:44<05:05,  1.96it/s]\n",
      " 72%|███████▏  | 1532/2129 [14:45<06:29,  1.53it/s]\n",
      " 72%|███████▏  | 1533/2129 [14:46<07:35,  1.31it/s]\n",
      " 72%|███████▏  | 1534/2129 [14:47<07:33,  1.31it/s]\n",
      " 72%|███████▏  | 1535/2129 [14:48<08:39,  1.14it/s]\n",
      " 72%|███████▏  | 1536/2129 [14:49<07:48,  1.26it/s]\n",
      " 72%|███████▏  | 1537/2129 [14:50<08:36,  1.15it/s]\n",
      " 72%|███████▏  | 1538/2129 [14:51<07:41,  1.28it/s]\n",
      " 72%|███████▏  | 1539/2129 [14:52<08:46,  1.12it/s]\n",
      " 72%|███████▏  | 1540/2129 [14:52<07:00,  1.40it/s]\n",
      " 72%|███████▏  | 1541/2129 [14:53<08:02,  1.22it/s]\n",
      " 72%|███████▏  | 1542/2129 [14:53<06:40,  1.47it/s]\n",
      " 72%|███████▏  | 1543/2129 [14:54<05:23,  1.81it/s]\n",
      " 73%|███████▎  | 1544/2129 [14:55<07:11,  1.36it/s]\n",
      " 73%|███████▎  | 1546/2129 [14:55<05:36,  1.73it/s]\n",
      " 73%|███████▎  | 1547/2129 [14:56<07:04,  1.37it/s]\n",
      " 73%|███████▎  | 1548/2129 [14:57<05:34,  1.74it/s]\n",
      " 73%|███████▎  | 1549/2129 [14:57<05:02,  1.92it/s]\n",
      " 73%|███████▎  | 1551/2129 [14:58<05:14,  1.84it/s]\n",
      " 73%|███████▎  | 1552/2129 [14:59<05:10,  1.86it/s]\n",
      " 73%|███████▎  | 1554/2129 [14:59<04:17,  2.24it/s]\n",
      " 73%|███████▎  | 1555/2129 [15:00<04:30,  2.12it/s]\n",
      " 73%|███████▎  | 1556/2129 [15:01<06:01,  1.59it/s]\n",
      " 73%|███████▎  | 1557/2129 [15:01<05:55,  1.61it/s]\n",
      " 73%|███████▎  | 1558/2129 [15:02<07:26,  1.28it/s]\n",
      " 73%|███████▎  | 1560/2129 [15:04<06:53,  1.38it/s]\n",
      " 73%|███████▎  | 1561/2129 [15:05<08:15,  1.15it/s]\n",
      " 73%|███████▎  | 1563/2129 [15:05<06:10,  1.53it/s]\n",
      " 73%|███████▎  | 1564/2129 [15:06<05:55,  1.59it/s]\n",
      " 74%|███████▎  | 1565/2129 [15:06<05:51,  1.60it/s]\n",
      " 74%|███████▎  | 1566/2129 [15:07<07:10,  1.31it/s]\n",
      " 74%|███████▎  | 1567/2129 [15:08<06:07,  1.53it/s]\n",
      " 74%|███████▎  | 1568/2129 [15:08<05:02,  1.85it/s]\n",
      " 74%|███████▎  | 1569/2129 [15:09<05:14,  1.78it/s]\n",
      " 74%|███████▎  | 1570/2129 [15:09<05:19,  1.75it/s]\n",
      " 74%|███████▍  | 1571/2129 [15:11<07:04,  1.31it/s]\n",
      " 74%|███████▍  | 1572/2129 [15:11<06:51,  1.35it/s]\n",
      " 74%|███████▍  | 1574/2129 [15:12<05:16,  1.76it/s]\n",
      " 74%|███████▍  | 1575/2129 [15:12<03:59,  2.32it/s]\n",
      " 74%|███████▍  | 1577/2129 [15:12<03:42,  2.48it/s]\n",
      " 74%|███████▍  | 1578/2129 [15:14<05:52,  1.56it/s]\n",
      " 74%|███████▍  | 1579/2129 [15:15<07:05,  1.29it/s]\n",
      " 74%|███████▍  | 1580/2129 [15:16<08:07,  1.13it/s]\n",
      " 74%|███████▍  | 1581/2129 [15:17<07:55,  1.15it/s]\n",
      " 74%|███████▍  | 1582/2129 [15:17<06:39,  1.37it/s]\n",
      " 74%|███████▍  | 1583/2129 [15:18<07:57,  1.14it/s]\n",
      " 74%|███████▍  | 1584/2129 [15:19<06:28,  1.40it/s]\n",
      " 74%|███████▍  | 1585/2129 [15:19<07:00,  1.29it/s]\n",
      " 74%|███████▍  | 1586/2129 [15:20<06:29,  1.39it/s]\n",
      " 75%|███████▍  | 1588/2129 [15:20<04:59,  1.81it/s]\n",
      " 75%|███████▍  | 1589/2129 [15:21<04:46,  1.88it/s]\n",
      " 75%|███████▍  | 1590/2129 [15:22<05:07,  1.75it/s]\n",
      " 75%|███████▍  | 1591/2129 [15:23<06:09,  1.46it/s]\n",
      " 75%|███████▍  | 1592/2129 [15:23<05:34,  1.61it/s]\n",
      " 75%|███████▍  | 1593/2129 [15:24<06:43,  1.33it/s]\n",
      " 75%|███████▍  | 1594/2129 [15:25<06:12,  1.44it/s]\n",
      " 75%|███████▍  | 1595/2129 [15:26<07:22,  1.21it/s]\n",
      " 75%|███████▍  | 1596/2129 [15:26<05:43,  1.55it/s]\n",
      " 75%|███████▌  | 1598/2129 [15:27<04:57,  1.78it/s]\n",
      " 75%|███████▌  | 1599/2129 [15:28<06:24,  1.38it/s]\n",
      " 75%|███████▌  | 1600/2129 [15:29<07:13,  1.22it/s]\n",
      " 75%|███████▌  | 1601/2129 [15:30<08:01,  1.10it/s]\n",
      " 75%|███████▌  | 1602/2129 [15:31<07:35,  1.16it/s]\n",
      " 75%|███████▌  | 1603/2129 [15:31<06:23,  1.37it/s]\n",
      " 75%|███████▌  | 1604/2129 [15:32<07:26,  1.18it/s]\n",
      " 75%|███████▌  | 1605/2129 [15:33<07:52,  1.11it/s]\n",
      " 75%|███████▌  | 1606/2129 [15:34<06:14,  1.40it/s]\n",
      " 75%|███████▌  | 1607/2129 [15:35<07:13,  1.20it/s]\n",
      " 76%|███████▌  | 1608/2129 [15:36<07:36,  1.14it/s]\n",
      " 76%|███████▌  | 1609/2129 [15:36<05:53,  1.47it/s]\n",
      " 76%|███████▌  | 1610/2129 [15:37<06:23,  1.35it/s]\n",
      " 76%|███████▌  | 1611/2129 [15:38<07:08,  1.21it/s]\n",
      " 76%|███████▌  | 1612/2129 [15:38<06:40,  1.29it/s]\n",
      " 76%|███████▌  | 1614/2129 [15:39<05:52,  1.46it/s]\n",
      " 76%|███████▌  | 1617/2129 [15:40<04:19,  1.97it/s]\n",
      " 76%|███████▌  | 1618/2129 [15:41<05:16,  1.61it/s]\n",
      " 76%|███████▌  | 1619/2129 [15:41<03:59,  2.13it/s]\n",
      " 76%|███████▌  | 1620/2129 [15:41<04:27,  1.90it/s]\n",
      " 76%|███████▌  | 1621/2129 [15:42<03:38,  2.33it/s]\n",
      " 76%|███████▌  | 1622/2129 [15:42<03:57,  2.14it/s]\n",
      " 76%|███████▌  | 1623/2129 [15:42<03:04,  2.75it/s]\n",
      " 76%|███████▋  | 1624/2129 [15:43<03:56,  2.13it/s]\n",
      " 76%|███████▋  | 1626/2129 [15:43<03:11,  2.63it/s]\n",
      " 76%|███████▋  | 1627/2129 [15:44<04:43,  1.77it/s]\n",
      " 77%|███████▋  | 1629/2129 [15:45<04:18,  1.93it/s]\n",
      " 77%|███████▋  | 1630/2129 [15:46<05:47,  1.43it/s]\n",
      " 77%|███████▋  | 1631/2129 [15:47<06:43,  1.23it/s]\n",
      " 77%|███████▋  | 1632/2129 [15:48<05:50,  1.42it/s]\n",
      " 77%|███████▋  | 1634/2129 [15:49<05:06,  1.62it/s]\n",
      " 77%|███████▋  | 1636/2129 [15:49<04:34,  1.80it/s]\n",
      " 77%|███████▋  | 1637/2129 [15:50<04:31,  1.81it/s]\n"
     ]
    },
    {
     "name": "stderr",
     "output_type": "stream",
     "text": [
      " 77%|███████▋  | 1638/2129 [15:51<04:44,  1.73it/s]\n",
      " 77%|███████▋  | 1639/2129 [15:51<04:33,  1.79it/s]\n",
      " 77%|███████▋  | 1640/2129 [15:52<04:24,  1.85it/s]\n",
      " 77%|███████▋  | 1641/2129 [15:52<04:45,  1.71it/s]\n",
      " 77%|███████▋  | 1642/2129 [15:53<04:41,  1.73it/s]\n",
      " 77%|███████▋  | 1643/2129 [15:53<04:27,  1.82it/s]\n",
      " 77%|███████▋  | 1644/2129 [15:54<04:44,  1.70it/s]\n",
      " 77%|███████▋  | 1645/2129 [15:55<05:44,  1.41it/s]\n",
      " 77%|███████▋  | 1646/2129 [15:56<05:45,  1.40it/s]\n",
      " 77%|███████▋  | 1647/2129 [15:57<06:34,  1.22it/s]\n",
      " 77%|███████▋  | 1648/2129 [15:57<05:03,  1.59it/s]\n",
      " 77%|███████▋  | 1649/2129 [15:57<04:01,  1.99it/s]\n",
      " 78%|███████▊  | 1651/2129 [15:58<04:04,  1.95it/s]\n",
      " 78%|███████▊  | 1653/2129 [15:59<04:13,  1.88it/s]\n",
      " 78%|███████▊  | 1654/2129 [16:01<05:41,  1.39it/s]\n",
      " 78%|███████▊  | 1655/2129 [16:01<05:22,  1.47it/s]\n",
      " 78%|███████▊  | 1656/2129 [16:02<06:13,  1.27it/s]\n",
      " 78%|███████▊  | 1657/2129 [16:03<05:47,  1.36it/s]\n",
      " 78%|███████▊  | 1658/2129 [16:03<04:26,  1.77it/s]\n",
      " 78%|███████▊  | 1659/2129 [16:03<03:54,  2.00it/s]\n",
      " 78%|███████▊  | 1660/2129 [16:04<04:02,  1.93it/s]\n",
      " 78%|███████▊  | 1661/2129 [16:05<05:19,  1.46it/s]\n",
      " 78%|███████▊  | 1662/2129 [16:06<06:14,  1.25it/s]\n",
      " 78%|███████▊  | 1663/2129 [16:07<06:51,  1.13it/s]\n",
      " 78%|███████▊  | 1664/2129 [16:08<06:30,  1.19it/s]\n",
      " 78%|███████▊  | 1665/2129 [16:08<04:55,  1.57it/s]\n",
      " 78%|███████▊  | 1666/2129 [16:09<04:45,  1.62it/s]\n",
      " 78%|███████▊  | 1667/2129 [16:09<04:37,  1.67it/s]\n",
      " 78%|███████▊  | 1668/2129 [16:09<03:49,  2.00it/s]\n",
      " 78%|███████▊  | 1669/2129 [16:10<04:16,  1.80it/s]\n",
      " 78%|███████▊  | 1671/2129 [16:10<03:23,  2.25it/s]\n",
      " 79%|███████▊  | 1672/2129 [16:11<02:45,  2.76it/s]\n",
      " 79%|███████▊  | 1673/2129 [16:11<03:50,  1.98it/s]\n",
      " 79%|███████▊  | 1674/2129 [16:12<05:04,  1.50it/s]\n",
      " 79%|███████▊  | 1675/2129 [16:13<04:53,  1.55it/s]\n",
      " 79%|███████▊  | 1676/2129 [16:14<05:41,  1.33it/s]\n",
      " 79%|███████▉  | 1677/2129 [16:14<04:33,  1.65it/s]\n",
      " 79%|███████▉  | 1678/2129 [16:15<05:13,  1.44it/s]\n",
      " 79%|███████▉  | 1680/2129 [16:16<04:48,  1.55it/s]\n",
      " 79%|███████▉  | 1681/2129 [16:17<05:58,  1.25it/s]\n",
      " 79%|███████▉  | 1683/2129 [16:19<05:34,  1.33it/s]\n",
      " 79%|███████▉  | 1684/2129 [16:19<04:24,  1.68it/s]\n",
      " 79%|███████▉  | 1685/2129 [16:20<05:19,  1.39it/s]\n",
      " 79%|███████▉  | 1686/2129 [16:20<04:17,  1.72it/s]\n",
      " 79%|███████▉  | 1687/2129 [16:20<03:31,  2.09it/s]\n",
      " 79%|███████▉  | 1688/2129 [16:21<03:43,  1.97it/s]\n",
      " 79%|███████▉  | 1689/2129 [16:22<04:31,  1.62it/s]\n",
      " 79%|███████▉  | 1690/2129 [16:22<04:19,  1.69it/s]\n",
      " 79%|███████▉  | 1692/2129 [16:24<04:15,  1.71it/s]\n",
      " 80%|███████▉  | 1693/2129 [16:24<03:14,  2.24it/s]\n",
      " 80%|███████▉  | 1694/2129 [16:25<04:37,  1.57it/s]\n",
      " 80%|███████▉  | 1696/2129 [16:25<03:33,  2.02it/s]\n",
      " 80%|███████▉  | 1697/2129 [16:26<04:53,  1.47it/s]\n",
      " 80%|███████▉  | 1698/2129 [16:27<04:55,  1.46it/s]\n",
      " 80%|███████▉  | 1699/2129 [16:28<04:51,  1.48it/s]\n",
      " 80%|███████▉  | 1700/2129 [16:28<03:42,  1.93it/s]\n",
      " 80%|███████▉  | 1701/2129 [16:29<04:37,  1.54it/s]\n",
      " 80%|███████▉  | 1702/2129 [16:29<04:21,  1.63it/s]\n",
      " 80%|███████▉  | 1703/2129 [16:29<03:16,  2.16it/s]\n",
      " 80%|████████  | 1704/2129 [16:30<04:40,  1.52it/s]\n",
      " 80%|████████  | 1705/2129 [16:31<05:19,  1.33it/s]\n",
      " 80%|████████  | 1706/2129 [16:32<05:45,  1.22it/s]\n",
      " 80%|████████  | 1707/2129 [16:34<06:28,  1.09it/s]\n",
      " 80%|████████  | 1708/2129 [16:34<06:19,  1.11it/s]\n",
      " 80%|████████  | 1709/2129 [16:35<04:46,  1.47it/s]\n",
      " 80%|████████  | 1710/2129 [16:36<05:33,  1.26it/s]\n",
      " 80%|████████  | 1711/2129 [16:37<05:46,  1.20it/s]\n",
      " 80%|████████  | 1712/2129 [16:37<05:02,  1.38it/s]\n",
      " 80%|████████  | 1713/2129 [16:38<05:31,  1.26it/s]\n",
      " 81%|████████  | 1715/2129 [16:38<04:01,  1.72it/s]\n",
      " 81%|████████  | 1716/2129 [16:38<03:15,  2.12it/s]\n",
      " 81%|████████  | 1717/2129 [16:39<04:19,  1.59it/s]\n",
      " 81%|████████  | 1718/2129 [16:40<04:06,  1.66it/s]\n",
      " 81%|████████  | 1719/2129 [16:40<03:39,  1.87it/s]\n",
      " 81%|████████  | 1720/2129 [16:41<04:15,  1.60it/s]\n",
      " 81%|████████  | 1721/2129 [16:42<03:59,  1.70it/s]\n",
      " 81%|████████  | 1723/2129 [16:42<03:10,  2.13it/s]\n",
      " 81%|████████  | 1724/2129 [16:43<03:27,  1.95it/s]\n",
      " 81%|████████  | 1725/2129 [16:43<02:59,  2.24it/s]\n",
      " 81%|████████  | 1726/2129 [16:43<03:11,  2.10it/s]\n",
      " 81%|████████  | 1727/2129 [16:45<04:19,  1.55it/s]\n",
      " 81%|████████  | 1728/2129 [16:45<04:46,  1.40it/s]\n",
      " 81%|████████  | 1729/2129 [16:46<03:39,  1.82it/s]\n",
      " 81%|████████▏ | 1730/2129 [16:46<03:36,  1.84it/s]\n",
      " 81%|████████▏ | 1732/2129 [16:47<03:30,  1.89it/s]\n",
      " 81%|████████▏ | 1735/2129 [16:48<03:06,  2.11it/s]\n",
      " 82%|████████▏ | 1736/2129 [16:49<04:15,  1.54it/s]\n",
      " 82%|████████▏ | 1738/2129 [16:49<03:08,  2.08it/s]\n",
      " 82%|████████▏ | 1739/2129 [16:50<04:17,  1.52it/s]\n",
      " 82%|████████▏ | 1740/2129 [16:51<03:33,  1.83it/s]\n",
      " 82%|████████▏ | 1741/2129 [16:51<03:15,  1.99it/s]\n",
      " 82%|████████▏ | 1742/2129 [16:51<02:37,  2.46it/s]\n",
      " 82%|████████▏ | 1743/2129 [16:52<03:47,  1.70it/s]\n",
      " 82%|████████▏ | 1744/2129 [16:53<04:33,  1.41it/s]\n",
      " 82%|████████▏ | 1745/2129 [16:53<03:24,  1.88it/s]\n",
      " 82%|████████▏ | 1746/2129 [16:54<04:09,  1.54it/s]\n",
      " 82%|████████▏ | 1747/2129 [16:55<03:51,  1.65it/s]\n",
      " 82%|████████▏ | 1748/2129 [16:56<04:45,  1.34it/s]\n",
      " 82%|████████▏ | 1749/2129 [16:57<05:30,  1.15it/s]\n",
      " 82%|████████▏ | 1751/2129 [16:57<04:11,  1.50it/s]\n",
      " 82%|████████▏ | 1752/2129 [16:58<03:23,  1.86it/s]\n",
      " 82%|████████▏ | 1754/2129 [16:58<02:36,  2.40it/s]\n",
      " 83%|████████▎ | 1757/2129 [16:58<01:53,  3.27it/s]\n",
      " 83%|████████▎ | 1758/2129 [16:59<03:20,  1.85it/s]\n",
      " 83%|████████▎ | 1759/2129 [17:00<03:31,  1.75it/s]\n",
      " 83%|████████▎ | 1760/2129 [17:01<03:50,  1.60it/s]\n",
      " 83%|████████▎ | 1761/2129 [17:02<04:36,  1.33it/s]\n",
      " 83%|████████▎ | 1762/2129 [17:02<03:36,  1.70it/s]\n",
      " 83%|████████▎ | 1763/2129 [17:03<04:07,  1.48it/s]\n",
      " 83%|████████▎ | 1764/2129 [17:03<03:47,  1.60it/s]\n",
      " 83%|████████▎ | 1765/2129 [17:04<03:15,  1.86it/s]\n",
      " 83%|████████▎ | 1766/2129 [17:04<03:08,  1.92it/s]\n",
      " 83%|████████▎ | 1767/2129 [17:05<03:17,  1.83it/s]\n",
      " 83%|████████▎ | 1768/2129 [17:05<03:09,  1.91it/s]\n",
      " 83%|████████▎ | 1769/2129 [17:05<02:27,  2.43it/s]\n",
      " 83%|████████▎ | 1770/2129 [17:06<03:45,  1.59it/s]\n",
      " 83%|████████▎ | 1771/2129 [17:07<04:25,  1.35it/s]\n",
      " 83%|████████▎ | 1772/2129 [17:08<05:01,  1.18it/s]\n",
      " 83%|████████▎ | 1773/2129 [17:09<05:14,  1.13it/s]\n",
      " 83%|████████▎ | 1774/2129 [17:10<04:36,  1.29it/s]\n",
      " 83%|████████▎ | 1775/2129 [17:10<03:50,  1.53it/s]\n",
      " 83%|████████▎ | 1776/2129 [17:11<04:25,  1.33it/s]\n",
      " 83%|████████▎ | 1777/2129 [17:12<04:14,  1.38it/s]\n",
      " 84%|████████▎ | 1778/2129 [17:12<03:31,  1.66it/s]\n",
      " 84%|████████▎ | 1779/2129 [17:13<03:38,  1.60it/s]\n",
      " 84%|████████▎ | 1780/2129 [17:13<03:21,  1.73it/s]\n",
      " 84%|████████▎ | 1782/2129 [17:14<02:28,  2.34it/s]\n",
      " 84%|████████▎ | 1783/2129 [17:15<03:18,  1.74it/s]\n",
      " 84%|████████▍ | 1784/2129 [17:15<02:35,  2.22it/s]\n",
      " 84%|████████▍ | 1785/2129 [17:16<03:33,  1.61it/s]\n",
      " 84%|████████▍ | 1787/2129 [17:17<03:25,  1.67it/s]\n",
      " 84%|████████▍ | 1788/2129 [17:18<03:50,  1.48it/s]\n",
      " 84%|████████▍ | 1789/2129 [17:19<04:16,  1.33it/s]\n",
      " 84%|████████▍ | 1790/2129 [17:20<04:48,  1.17it/s]\n",
      " 84%|████████▍ | 1791/2129 [17:20<04:16,  1.32it/s]\n",
      " 84%|████████▍ | 1792/2129 [17:21<04:46,  1.18it/s]\n",
      " 84%|████████▍ | 1793/2129 [17:21<03:41,  1.52it/s]\n",
      " 84%|████████▍ | 1795/2129 [17:23<03:30,  1.59it/s]\n",
      " 84%|████████▍ | 1796/2129 [17:24<04:14,  1.31it/s]\n",
      " 84%|████████▍ | 1797/2129 [17:24<03:24,  1.62it/s]\n",
      " 84%|████████▍ | 1799/2129 [17:25<03:25,  1.61it/s]\n",
      " 85%|████████▍ | 1801/2129 [17:25<02:35,  2.11it/s]\n",
      " 85%|████████▍ | 1802/2129 [17:27<03:33,  1.53it/s]\n",
      " 85%|████████▍ | 1803/2129 [17:27<02:47,  1.95it/s]\n",
      " 85%|████████▍ | 1805/2129 [17:28<02:54,  1.86it/s]\n",
      " 85%|████████▍ | 1806/2129 [17:28<02:51,  1.89it/s]\n",
      " 85%|████████▍ | 1808/2129 [17:29<02:35,  2.06it/s]\n",
      " 85%|████████▍ | 1809/2129 [17:30<03:24,  1.57it/s]\n",
      " 85%|████████▌ | 1811/2129 [17:30<02:35,  2.05it/s]\n",
      " 85%|████████▌ | 1812/2129 [17:32<03:27,  1.53it/s]\n",
      " 85%|████████▌ | 1813/2129 [17:32<03:55,  1.34it/s]\n",
      " 85%|████████▌ | 1814/2129 [17:33<04:17,  1.22it/s]\n",
      " 85%|████████▌ | 1815/2129 [17:35<04:39,  1.12it/s]\n",
      " 85%|████████▌ | 1816/2129 [17:35<04:10,  1.25it/s]\n",
      " 85%|████████▌ | 1817/2129 [17:36<04:33,  1.14it/s]\n",
      " 85%|████████▌ | 1818/2129 [17:36<03:34,  1.45it/s]\n",
      " 85%|████████▌ | 1819/2129 [17:37<02:56,  1.76it/s]\n"
     ]
    },
    {
     "name": "stderr",
     "output_type": "stream",
     "text": [
      " 85%|████████▌ | 1820/2129 [17:38<03:46,  1.36it/s]\n",
      " 86%|████████▌ | 1821/2129 [17:38<02:59,  1.72it/s]\n",
      " 86%|████████▌ | 1823/2129 [17:38<02:10,  2.34it/s]\n",
      " 86%|████████▌ | 1824/2129 [17:39<03:02,  1.67it/s]\n",
      " 86%|████████▌ | 1825/2129 [17:39<02:22,  2.13it/s]\n",
      " 86%|████████▌ | 1826/2129 [17:40<03:10,  1.59it/s]\n",
      " 86%|████████▌ | 1827/2129 [17:41<03:43,  1.35it/s]\n",
      " 86%|████████▌ | 1828/2129 [17:42<03:26,  1.46it/s]\n",
      " 86%|████████▌ | 1829/2129 [17:43<03:36,  1.38it/s]\n",
      " 86%|████████▌ | 1830/2129 [17:44<03:57,  1.26it/s]\n",
      " 86%|████████▌ | 1831/2129 [17:44<03:48,  1.30it/s]\n",
      " 86%|████████▌ | 1833/2129 [17:45<03:26,  1.43it/s]\n",
      " 86%|████████▌ | 1834/2129 [17:46<03:46,  1.30it/s]\n",
      " 86%|████████▌ | 1836/2129 [17:47<03:21,  1.46it/s]\n",
      " 86%|████████▋ | 1837/2129 [17:48<03:01,  1.61it/s]\n",
      " 86%|████████▋ | 1838/2129 [17:49<03:30,  1.38it/s]\n",
      " 86%|████████▋ | 1839/2129 [17:49<03:04,  1.57it/s]\n",
      " 86%|████████▋ | 1840/2129 [17:50<03:49,  1.26it/s]\n",
      " 86%|████████▋ | 1841/2129 [17:51<03:32,  1.36it/s]\n",
      " 87%|████████▋ | 1843/2129 [17:51<02:43,  1.75it/s]\n",
      " 87%|████████▋ | 1844/2129 [17:52<02:11,  2.17it/s]\n",
      " 87%|████████▋ | 1845/2129 [17:52<02:11,  2.15it/s]\n",
      " 87%|████████▋ | 1846/2129 [17:53<02:17,  2.07it/s]\n",
      " 87%|████████▋ | 1847/2129 [17:53<02:17,  2.05it/s]\n",
      " 87%|████████▋ | 1848/2129 [17:53<01:53,  2.47it/s]\n",
      " 87%|████████▋ | 1849/2129 [17:54<01:49,  2.55it/s]\n",
      " 87%|████████▋ | 1850/2129 [17:54<02:04,  2.23it/s]\n",
      " 87%|████████▋ | 1851/2129 [17:55<02:07,  2.19it/s]\n",
      " 87%|████████▋ | 1852/2129 [17:56<02:34,  1.80it/s]\n",
      " 87%|████████▋ | 1853/2129 [17:57<03:11,  1.44it/s]\n",
      " 87%|████████▋ | 1854/2129 [17:57<03:01,  1.52it/s]\n",
      " 87%|████████▋ | 1856/2129 [17:57<02:10,  2.09it/s]\n",
      " 87%|████████▋ | 1857/2129 [17:58<02:22,  1.91it/s]\n",
      " 87%|████████▋ | 1859/2129 [17:58<02:01,  2.22it/s]\n",
      " 87%|████████▋ | 1862/2129 [17:59<01:43,  2.59it/s]\n",
      " 88%|████████▊ | 1863/2129 [17:59<01:26,  3.09it/s]\n",
      " 88%|████████▊ | 1864/2129 [18:00<02:20,  1.88it/s]\n",
      " 88%|████████▊ | 1866/2129 [18:00<01:43,  2.53it/s]\n",
      " 88%|████████▊ | 1867/2129 [18:02<02:35,  1.68it/s]\n",
      " 88%|████████▊ | 1869/2129 [18:02<02:21,  1.83it/s]\n",
      " 88%|████████▊ | 1871/2129 [18:03<01:51,  2.32it/s]\n",
      " 88%|████████▊ | 1872/2129 [18:03<01:58,  2.17it/s]\n",
      " 88%|████████▊ | 1873/2129 [18:04<02:02,  2.09it/s]\n",
      " 88%|████████▊ | 1875/2129 [18:04<01:44,  2.44it/s]\n",
      " 88%|████████▊ | 1876/2129 [18:05<02:31,  1.67it/s]\n",
      " 88%|████████▊ | 1877/2129 [18:06<02:21,  1.78it/s]\n",
      " 88%|████████▊ | 1878/2129 [18:06<02:01,  2.07it/s]\n",
      " 88%|████████▊ | 1879/2129 [18:07<02:37,  1.59it/s]\n",
      " 88%|████████▊ | 1880/2129 [18:08<03:04,  1.35it/s]\n",
      " 88%|████████▊ | 1881/2129 [18:08<02:21,  1.75it/s]\n",
      " 88%|████████▊ | 1882/2129 [18:09<02:55,  1.41it/s]\n",
      " 88%|████████▊ | 1883/2129 [18:10<02:24,  1.70it/s]\n",
      " 88%|████████▊ | 1884/2129 [18:10<01:54,  2.14it/s]\n",
      " 89%|████████▊ | 1885/2129 [18:10<02:03,  1.97it/s]\n",
      " 89%|████████▊ | 1886/2129 [18:10<01:33,  2.59it/s]\n",
      " 89%|████████▊ | 1887/2129 [18:11<01:42,  2.36it/s]\n",
      " 89%|████████▊ | 1888/2129 [18:11<01:47,  2.23it/s]\n",
      " 89%|████████▊ | 1889/2129 [18:12<01:22,  2.90it/s]\n",
      " 89%|████████▉ | 1890/2129 [18:12<01:53,  2.10it/s]\n",
      " 89%|████████▉ | 1891/2129 [18:13<01:40,  2.36it/s]\n",
      " 89%|████████▉ | 1892/2129 [18:13<01:45,  2.24it/s]\n",
      " 89%|████████▉ | 1893/2129 [18:14<02:09,  1.83it/s]\n",
      " 89%|████████▉ | 1894/2129 [18:15<02:41,  1.46it/s]\n",
      " 89%|████████▉ | 1895/2129 [18:15<02:04,  1.88it/s]\n",
      " 89%|████████▉ | 1897/2129 [18:16<01:51,  2.08it/s]\n",
      " 89%|████████▉ | 1899/2129 [18:17<01:53,  2.03it/s]\n",
      " 89%|████████▉ | 1900/2129 [18:17<01:30,  2.52it/s]\n",
      " 89%|████████▉ | 1901/2129 [18:18<01:34,  2.41it/s]\n",
      " 89%|████████▉ | 1902/2129 [18:19<02:14,  1.69it/s]\n",
      " 89%|████████▉ | 1903/2129 [18:19<01:58,  1.90it/s]\n",
      " 89%|████████▉ | 1904/2129 [18:19<01:37,  2.30it/s]\n",
      " 89%|████████▉ | 1905/2129 [18:20<02:05,  1.79it/s]\n",
      " 90%|████████▉ | 1906/2129 [18:20<01:46,  2.09it/s]\n",
      " 90%|████████▉ | 1907/2129 [18:21<02:26,  1.51it/s]\n",
      " 90%|████████▉ | 1908/2129 [18:22<02:02,  1.80it/s]\n",
      " 90%|████████▉ | 1909/2129 [18:22<02:10,  1.68it/s]\n",
      " 90%|████████▉ | 1910/2129 [18:23<02:40,  1.36it/s]\n",
      " 90%|████████▉ | 1911/2129 [18:24<02:06,  1.72it/s]\n",
      " 90%|████████▉ | 1912/2129 [18:24<02:02,  1.77it/s]\n",
      " 90%|████████▉ | 1913/2129 [18:25<02:01,  1.78it/s]\n",
      " 90%|████████▉ | 1914/2129 [18:26<02:29,  1.44it/s]\n",
      " 90%|████████▉ | 1915/2129 [18:26<02:04,  1.71it/s]\n",
      " 90%|████████▉ | 1916/2129 [18:26<01:41,  2.09it/s]\n",
      " 90%|█████████ | 1917/2129 [18:27<02:16,  1.55it/s]\n",
      " 90%|█████████ | 1918/2129 [18:28<01:54,  1.84it/s]\n",
      " 90%|█████████ | 1919/2129 [18:28<01:48,  1.94it/s]\n",
      " 90%|█████████ | 1920/2129 [18:28<01:32,  2.26it/s]\n",
      " 90%|█████████ | 1921/2129 [18:29<01:18,  2.64it/s]\n",
      " 90%|█████████ | 1922/2129 [18:29<01:04,  3.21it/s]\n",
      " 90%|█████████ | 1923/2129 [18:29<01:07,  3.04it/s]\n",
      " 90%|█████████ | 1924/2129 [18:30<01:35,  2.14it/s]\n",
      " 90%|█████████ | 1925/2129 [18:30<01:36,  2.11it/s]\n",
      " 90%|█████████ | 1926/2129 [18:31<02:10,  1.56it/s]\n",
      " 91%|█████████ | 1927/2129 [18:32<01:41,  1.98it/s]\n",
      " 91%|█████████ | 1928/2129 [18:33<02:14,  1.50it/s]\n",
      " 91%|█████████ | 1929/2129 [18:34<02:32,  1.31it/s]\n",
      " 91%|█████████ | 1930/2129 [18:34<02:01,  1.63it/s]\n",
      " 91%|█████████ | 1931/2129 [18:35<02:08,  1.54it/s]\n",
      " 91%|█████████ | 1932/2129 [18:35<02:13,  1.47it/s]\n",
      " 91%|█████████ | 1933/2129 [18:36<02:01,  1.61it/s]\n",
      " 91%|█████████ | 1934/2129 [18:36<01:43,  1.89it/s]\n",
      " 91%|█████████ | 1935/2129 [18:37<02:14,  1.45it/s]\n",
      " 91%|█████████ | 1937/2129 [18:38<02:04,  1.54it/s]\n",
      " 91%|█████████ | 1938/2129 [18:39<01:39,  1.91it/s]\n",
      " 91%|█████████ | 1940/2129 [18:40<01:36,  1.97it/s]\n",
      " 91%|█████████ | 1941/2129 [18:40<01:35,  1.97it/s]\n",
      " 91%|█████████ | 1942/2129 [18:41<02:03,  1.52it/s]\n",
      " 91%|█████████▏| 1943/2129 [18:42<02:25,  1.28it/s]\n",
      " 91%|█████████▏| 1944/2129 [18:43<02:37,  1.18it/s]\n",
      " 91%|█████████▏| 1945/2129 [18:43<02:07,  1.44it/s]\n",
      " 91%|█████████▏| 1947/2129 [18:44<01:43,  1.75it/s]\n",
      " 91%|█████████▏| 1948/2129 [18:45<01:53,  1.59it/s]\n",
      " 92%|█████████▏| 1950/2129 [18:46<01:42,  1.75it/s]\n",
      " 92%|█████████▏| 1951/2129 [18:47<02:09,  1.38it/s]\n",
      " 92%|█████████▏| 1952/2129 [18:48<02:21,  1.25it/s]\n",
      " 92%|█████████▏| 1953/2129 [18:48<01:56,  1.51it/s]\n",
      " 92%|█████████▏| 1954/2129 [18:49<01:46,  1.64it/s]\n",
      " 92%|█████████▏| 1955/2129 [18:50<02:07,  1.36it/s]\n",
      " 92%|█████████▏| 1956/2129 [18:50<01:57,  1.47it/s]\n",
      " 92%|█████████▏| 1957/2129 [18:51<01:49,  1.57it/s]\n",
      " 92%|█████████▏| 1958/2129 [18:51<01:39,  1.71it/s]\n",
      " 92%|█████████▏| 1959/2129 [18:51<01:20,  2.11it/s]\n",
      " 92%|█████████▏| 1960/2129 [18:52<01:42,  1.64it/s]\n",
      " 92%|█████████▏| 1961/2129 [18:52<01:21,  2.06it/s]\n",
      " 92%|█████████▏| 1962/2129 [18:53<01:47,  1.55it/s]\n",
      " 92%|█████████▏| 1963/2129 [18:54<01:27,  1.90it/s]\n",
      " 92%|█████████▏| 1964/2129 [18:54<01:11,  2.30it/s]\n",
      " 92%|█████████▏| 1965/2129 [18:54<00:57,  2.83it/s]\n",
      " 92%|█████████▏| 1967/2129 [18:55<01:04,  2.51it/s]\n",
      " 92%|█████████▏| 1968/2129 [18:56<01:36,  1.67it/s]\n",
      " 92%|█████████▏| 1969/2129 [18:57<01:32,  1.73it/s]\n",
      " 93%|█████████▎| 1970/2129 [18:57<01:14,  2.13it/s]\n",
      " 93%|█████████▎| 1971/2129 [18:58<01:40,  1.57it/s]\n",
      " 93%|█████████▎| 1972/2129 [18:59<01:51,  1.41it/s]\n",
      " 93%|█████████▎| 1973/2129 [19:00<02:06,  1.23it/s]\n",
      " 93%|█████████▎| 1974/2129 [19:00<01:34,  1.63it/s]\n",
      " 93%|█████████▎| 1975/2129 [19:00<01:15,  2.03it/s]\n",
      " 93%|█████████▎| 1977/2129 [19:01<01:15,  2.00it/s]\n",
      " 93%|█████████▎| 1978/2129 [19:02<01:39,  1.51it/s]\n",
      " 93%|█████████▎| 1979/2129 [19:03<01:56,  1.28it/s]\n",
      " 93%|█████████▎| 1980/2129 [19:04<02:04,  1.20it/s]\n",
      " 93%|█████████▎| 1981/2129 [19:05<01:47,  1.38it/s]\n",
      " 93%|█████████▎| 1982/2129 [19:06<02:02,  1.20it/s]\n",
      " 93%|█████████▎| 1983/2129 [19:07<02:10,  1.12it/s]\n",
      " 93%|█████████▎| 1985/2129 [19:08<01:53,  1.27it/s]\n",
      " 93%|█████████▎| 1986/2129 [19:09<02:06,  1.13it/s]\n",
      " 93%|█████████▎| 1987/2129 [19:10<02:18,  1.02it/s]\n",
      " 93%|█████████▎| 1988/2129 [19:11<01:46,  1.32it/s]\n",
      " 93%|█████████▎| 1989/2129 [19:12<01:56,  1.20it/s]\n",
      " 93%|█████████▎| 1990/2129 [19:12<01:39,  1.40it/s]\n",
      " 94%|█████████▎| 1992/2129 [19:12<01:13,  1.86it/s]\n",
      " 94%|█████████▎| 1994/2129 [19:13<01:05,  2.06it/s]\n",
      " 94%|█████████▎| 1995/2129 [19:13<00:50,  2.65it/s]\n",
      " 94%|█████████▍| 1996/2129 [19:14<01:17,  1.72it/s]\n",
      " 94%|█████████▍| 1997/2129 [19:15<01:19,  1.66it/s]\n",
      " 94%|█████████▍| 1998/2129 [19:15<01:14,  1.76it/s]\n",
      " 94%|█████████▍| 1999/2129 [19:15<00:58,  2.24it/s]\n"
     ]
    },
    {
     "name": "stderr",
     "output_type": "stream",
     "text": [
      " 94%|█████████▍| 2000/2129 [19:16<01:07,  1.92it/s]\n",
      " 94%|█████████▍| 2001/2129 [19:17<01:13,  1.73it/s]\n",
      " 94%|█████████▍| 2002/2129 [19:17<00:58,  2.16it/s]\n",
      " 94%|█████████▍| 2003/2129 [19:17<00:54,  2.31it/s]\n",
      " 94%|█████████▍| 2004/2129 [19:18<01:16,  1.64it/s]\n",
      " 94%|█████████▍| 2005/2129 [19:19<01:19,  1.56it/s]\n",
      " 94%|█████████▍| 2006/2129 [19:20<01:24,  1.45it/s]\n",
      " 94%|█████████▍| 2007/2129 [19:20<01:17,  1.57it/s]\n",
      " 94%|█████████▍| 2008/2129 [19:21<01:12,  1.68it/s]\n",
      " 94%|█████████▍| 2011/2129 [19:22<00:56,  2.10it/s]\n",
      " 95%|█████████▍| 2012/2129 [19:23<01:14,  1.57it/s]\n",
      " 95%|█████████▍| 2013/2129 [19:23<00:55,  2.09it/s]\n",
      " 95%|█████████▍| 2014/2129 [19:23<00:59,  1.95it/s]\n",
      " 95%|█████████▍| 2015/2129 [19:23<00:47,  2.41it/s]\n",
      " 95%|█████████▍| 2016/2129 [19:25<01:13,  1.53it/s]\n",
      " 95%|█████████▍| 2017/2129 [19:25<01:05,  1.70it/s]\n",
      " 95%|█████████▍| 2018/2129 [19:26<01:03,  1.75it/s]\n",
      " 95%|█████████▍| 2019/2129 [19:26<00:50,  2.17it/s]\n",
      " 95%|█████████▍| 2020/2129 [19:26<00:51,  2.12it/s]\n",
      " 95%|█████████▍| 2021/2129 [19:27<00:42,  2.56it/s]\n",
      " 95%|█████████▍| 2022/2129 [19:28<01:03,  1.69it/s]\n",
      " 95%|█████████▌| 2023/2129 [19:28<00:59,  1.78it/s]\n",
      " 95%|█████████▌| 2024/2129 [19:28<00:50,  2.08it/s]\n",
      " 95%|█████████▌| 2025/2129 [19:29<00:41,  2.49it/s]\n",
      " 95%|█████████▌| 2026/2129 [19:29<00:45,  2.28it/s]\n",
      " 95%|█████████▌| 2027/2129 [19:30<00:46,  2.21it/s]\n",
      " 95%|█████████▌| 2028/2129 [19:31<01:04,  1.58it/s]\n",
      " 95%|█████████▌| 2029/2129 [19:32<01:14,  1.33it/s]\n",
      " 95%|█████████▌| 2030/2129 [19:33<01:18,  1.26it/s]\n",
      " 95%|█████████▌| 2031/2129 [19:33<01:14,  1.32it/s]\n",
      " 95%|█████████▌| 2032/2129 [19:34<01:21,  1.19it/s]\n",
      " 95%|█████████▌| 2033/2129 [19:35<01:18,  1.23it/s]\n",
      " 96%|█████████▌| 2035/2129 [19:36<01:09,  1.36it/s]\n",
      " 96%|█████████▌| 2037/2129 [19:36<00:51,  1.79it/s]\n",
      " 96%|█████████▌| 2038/2129 [19:37<01:04,  1.41it/s]\n",
      " 96%|█████████▌| 2039/2129 [19:38<00:58,  1.54it/s]\n",
      " 96%|█████████▌| 2040/2129 [19:39<01:05,  1.35it/s]\n",
      " 96%|█████████▌| 2041/2129 [19:39<00:59,  1.47it/s]\n",
      " 96%|█████████▌| 2042/2129 [19:40<01:06,  1.32it/s]\n",
      " 96%|█████████▌| 2043/2129 [19:41<00:51,  1.67it/s]\n",
      " 96%|█████████▌| 2044/2129 [19:41<00:41,  2.03it/s]\n",
      " 96%|█████████▌| 2045/2129 [19:41<00:34,  2.41it/s]\n",
      " 96%|█████████▌| 2046/2129 [19:42<00:38,  2.17it/s]\n",
      " 96%|█████████▌| 2047/2129 [19:42<00:37,  2.20it/s]\n",
      " 96%|█████████▌| 2048/2129 [19:42<00:32,  2.46it/s]\n",
      " 96%|█████████▌| 2049/2129 [19:43<00:27,  2.93it/s]\n",
      " 96%|█████████▋| 2050/2129 [19:43<00:23,  3.37it/s]\n",
      " 96%|█████████▋| 2051/2129 [19:44<00:40,  1.92it/s]\n",
      " 96%|█████████▋| 2052/2129 [19:44<00:35,  2.19it/s]\n",
      " 96%|█████████▋| 2053/2129 [19:44<00:30,  2.45it/s]\n",
      " 96%|█████████▋| 2054/2129 [19:45<00:27,  2.70it/s]\n",
      " 97%|█████████▋| 2055/2129 [19:45<00:21,  3.41it/s]\n",
      " 97%|█████████▋| 2056/2129 [19:46<00:38,  1.92it/s]\n",
      " 97%|█████████▋| 2058/2129 [19:47<00:35,  2.02it/s]\n",
      " 97%|█████████▋| 2059/2129 [19:47<00:29,  2.40it/s]\n",
      " 97%|█████████▋| 2060/2129 [19:48<00:42,  1.64it/s]\n",
      " 97%|█████████▋| 2061/2129 [19:49<00:49,  1.36it/s]\n",
      " 97%|█████████▋| 2062/2129 [19:50<00:46,  1.46it/s]\n",
      " 97%|█████████▋| 2063/2129 [19:51<00:53,  1.23it/s]\n",
      " 97%|█████████▋| 2064/2129 [19:52<00:57,  1.13it/s]\n",
      " 97%|█████████▋| 2065/2129 [19:53<00:59,  1.08it/s]\n",
      " 97%|█████████▋| 2066/2129 [19:54<00:53,  1.17it/s]\n",
      " 97%|█████████▋| 2067/2129 [19:54<00:43,  1.43it/s]\n",
      " 97%|█████████▋| 2068/2129 [19:55<00:42,  1.43it/s]\n",
      " 97%|█████████▋| 2069/2129 [19:55<00:31,  1.91it/s]\n",
      " 97%|█████████▋| 2070/2129 [19:55<00:27,  2.17it/s]\n",
      " 97%|█████████▋| 2071/2129 [19:55<00:21,  2.64it/s]\n",
      " 97%|█████████▋| 2072/2129 [19:56<00:27,  2.08it/s]\n",
      " 97%|█████████▋| 2073/2129 [19:57<00:29,  1.90it/s]\n",
      " 97%|█████████▋| 2074/2129 [19:57<00:28,  1.95it/s]\n",
      " 98%|█████████▊| 2076/2129 [19:58<00:28,  1.87it/s]\n",
      " 98%|█████████▊| 2077/2129 [19:58<00:22,  2.28it/s]\n",
      " 98%|█████████▊| 2078/2129 [19:59<00:24,  2.11it/s]\n",
      " 98%|█████████▊| 2079/2129 [19:59<00:19,  2.50it/s]\n",
      " 98%|█████████▊| 2080/2129 [20:00<00:22,  2.21it/s]\n",
      " 98%|█████████▊| 2081/2129 [20:00<00:18,  2.62it/s]\n",
      " 98%|█████████▊| 2082/2129 [20:01<00:27,  1.71it/s]\n",
      " 98%|█████████▊| 2083/2129 [20:02<00:33,  1.37it/s]\n",
      " 98%|█████████▊| 2084/2129 [20:03<00:36,  1.22it/s]\n",
      " 98%|█████████▊| 2085/2129 [20:04<00:39,  1.12it/s]\n",
      " 98%|█████████▊| 2086/2129 [20:05<00:40,  1.05it/s]\n",
      " 98%|█████████▊| 2087/2129 [20:06<00:30,  1.37it/s]\n",
      " 98%|█████████▊| 2089/2129 [20:07<00:26,  1.48it/s]\n",
      " 98%|█████████▊| 2090/2129 [20:07<00:19,  1.96it/s]\n",
      " 98%|█████████▊| 2091/2129 [20:08<00:24,  1.55it/s]\n",
      " 98%|█████████▊| 2092/2129 [20:08<00:18,  1.97it/s]\n",
      " 98%|█████████▊| 2093/2129 [20:08<00:18,  1.97it/s]\n",
      " 98%|█████████▊| 2094/2129 [20:10<00:25,  1.40it/s]\n",
      " 98%|█████████▊| 2095/2129 [20:10<00:22,  1.53it/s]\n",
      " 98%|█████████▊| 2096/2129 [20:11<00:25,  1.28it/s]\n",
      " 98%|█████████▊| 2097/2129 [20:12<00:27,  1.15it/s]\n",
      " 99%|█████████▊| 2098/2129 [20:12<00:21,  1.47it/s]\n",
      " 99%|█████████▊| 2099/2129 [20:13<00:23,  1.29it/s]\n",
      " 99%|█████████▊| 2100/2129 [20:14<00:17,  1.67it/s]\n",
      " 99%|█████████▊| 2101/2129 [20:14<00:17,  1.57it/s]\n",
      " 99%|█████████▊| 2102/2129 [20:16<00:21,  1.28it/s]\n",
      " 99%|█████████▉| 2103/2129 [20:17<00:22,  1.14it/s]\n",
      " 99%|█████████▉| 2104/2129 [20:17<00:20,  1.25it/s]\n",
      " 99%|█████████▉| 2105/2129 [20:18<00:19,  1.22it/s]\n",
      " 99%|█████████▉| 2106/2129 [20:19<00:20,  1.14it/s]\n",
      " 99%|█████████▉| 2107/2129 [20:20<00:20,  1.09it/s]\n",
      " 99%|█████████▉| 2108/2129 [20:21<00:19,  1.09it/s]\n",
      " 99%|█████████▉| 2109/2129 [20:21<00:13,  1.43it/s]\n",
      " 99%|█████████▉| 2112/2129 [20:22<00:09,  1.86it/s]\n",
      " 99%|█████████▉| 2113/2129 [20:22<00:08,  1.87it/s]\n",
      " 99%|█████████▉| 2114/2129 [20:23<00:09,  1.60it/s]\n",
      " 99%|█████████▉| 2115/2129 [20:24<00:10,  1.31it/s]\n",
      " 99%|█████████▉| 2116/2129 [20:25<00:10,  1.18it/s]\n",
      " 99%|█████████▉| 2117/2129 [20:26<00:09,  1.24it/s]\n",
      " 99%|█████████▉| 2118/2129 [20:26<00:07,  1.38it/s]\n",
      "100%|█████████▉| 2119/2129 [20:27<00:06,  1.56it/s]\n",
      "100%|█████████▉| 2120/2129 [20:28<00:05,  1.55it/s]\n",
      "100%|█████████▉| 2121/2129 [20:28<00:04,  1.76it/s]\n",
      "100%|█████████▉| 2122/2129 [20:28<00:03,  2.24it/s]\n",
      "100%|█████████▉| 2123/2129 [20:28<00:02,  2.45it/s]\n",
      "100%|█████████▉| 2124/2129 [20:29<00:01,  2.56it/s]\n",
      "100%|█████████▉| 2125/2129 [20:29<00:01,  2.08it/s]\n",
      "100%|█████████▉| 2126/2129 [20:30<00:01,  1.95it/s]\n",
      "100%|██████████| 2129/2129 [20:31<00:00,  1.73it/s]\n"
     ]
    },
    {
     "name": "stdout",
     "output_type": "stream",
     "text": [
      "============================================================\n",
      "Eplased Time for Calculating Stats: 1231.147925376892s\n",
      "============================================================\n"
     ]
    }
   ],
   "source": [
    "main()"
   ]
  },
  {
   "cell_type": "code",
   "execution_count": null,
   "metadata": {},
   "outputs": [],
   "source": []
  }
 ],
 "metadata": {
  "kernelspec": {
   "display_name": "Python 3",
   "language": "python",
   "name": "python3"
  },
  "language_info": {
   "codemirror_mode": {
    "name": "ipython",
    "version": 3
   },
   "file_extension": ".py",
   "mimetype": "text/x-python",
   "name": "python",
   "nbconvert_exporter": "python",
   "pygments_lexer": "ipython3",
   "version": "3.5.6"
  }
 },
 "nbformat": 4,
 "nbformat_minor": 2
}
